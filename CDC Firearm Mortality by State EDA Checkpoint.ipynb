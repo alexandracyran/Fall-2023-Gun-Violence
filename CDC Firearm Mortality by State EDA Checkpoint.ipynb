{
 "cells": [
  {
   "cell_type": "code",
   "execution_count": 165,
   "id": "b60ea951-2d7e-4f39-a56c-0dc8edfa8e6a",
   "metadata": {},
   "outputs": [],
   "source": [
    "import pandas as pd\n",
    "import numpy as np\n",
    "import matplotlib.pyplot as plt\n",
    "import seaborn as sns\n",
    "import warnings\n",
    "warnings.filterwarnings(\"ignore\")\n",
    "# from wordcloud import WordCloud\n",
    "%matplotlib inline\n",
    "import plotly.express as px\n",
    "from scipy.stats import ttest_ind"
   ]
  }
{
   "cell_type": "code",
   "execution_count": 142,
   "id": "46549978-fa43-4d8b-bd9e-b4b7b0f588b1",
   "metadata": {
    "tags": []
   },
   "outputs": [],
   "source": [
    "firearm_mortality = pd.read_csv('CDC Firearm Mortality by State.csv')"
   ]
  },
  {
   "cell_type": "code",
   "execution_count": 143,
   "id": "c5b7e09b-fec4-4fe4-aad1-a07de2bc5dd2",
   "metadata": {
    "tags": []
   },
   "outputs": [
    {
     "data": {
      "text/html": [
       "<div>\n",
       "<style scoped>\n",
       "    .dataframe tbody tr th:only-of-type {\n",
       "        vertical-align: middle;\n",
       "    }\n",
       "\n",
       "    .dataframe tbody tr th {\n",
       "        vertical-align: top;\n",
       "    }\n",
       "\n",
       "    .dataframe thead th {\n",
       "        text-align: right;\n",
       "    }\n",
       "</style>\n",
       "<table border=\"1\" class=\"dataframe\">\n",
       "  <thead>\n",
       "    <tr style=\"text-align: right;\">\n",
       "      <th></th>\n",
       "      <th>YEAR</th>\n",
       "      <th>STATE</th>\n",
       "      <th>RATE</th>\n",
       "      <th>DEATHS</th>\n",
       "    </tr>\n",
       "  </thead>\n",
       "  <tbody>\n",
       "    <tr>\n",
       "      <th>0</th>\n",
       "      <td>2021</td>\n",
       "      <td>AL</td>\n",
       "      <td>26.4</td>\n",
       "      <td>1315</td>\n",
       "    </tr>\n",
       "    <tr>\n",
       "      <th>1</th>\n",
       "      <td>2021</td>\n",
       "      <td>AK</td>\n",
       "      <td>25.2</td>\n",
       "      <td>182</td>\n",
       "    </tr>\n",
       "    <tr>\n",
       "      <th>2</th>\n",
       "      <td>2021</td>\n",
       "      <td>AZ</td>\n",
       "      <td>18.3</td>\n",
       "      <td>1365</td>\n",
       "    </tr>\n",
       "    <tr>\n",
       "      <th>3</th>\n",
       "      <td>2021</td>\n",
       "      <td>AR</td>\n",
       "      <td>23.3</td>\n",
       "      <td>698</td>\n",
       "    </tr>\n",
       "    <tr>\n",
       "      <th>4</th>\n",
       "      <td>2021</td>\n",
       "      <td>CA</td>\n",
       "      <td>9.0</td>\n",
       "      <td>3576</td>\n",
       "    </tr>\n",
       "  </tbody>\n",
       "</table>\n",
       "</div>"
      ],
      "text/plain": [
       "   YEAR STATE  RATE  DEATHS\n",
       "0  2021    AL  26.4    1315\n",
       "1  2021    AK  25.2     182\n",
       "2  2021    AZ  18.3    1365\n",
       "3  2021    AR  23.3     698\n",
       "4  2021    CA   9.0    3576"
      ]
     },
     "execution_count": 143,
     "metadata": {},
     "output_type": "execute_result"
    }
   ],
   "source": [
    "firearm_mortality.head()"
   ]
  },
  {
   "cell_type": "code",
   "execution_count": 65,
   "id": "a2fb9458-c54a-438d-9129-d630b0fb7ed4",
   "metadata": {
    "tags": []
   },
   "outputs": [
    {
     "data": {
      "text/plain": [
       "(450, 4)"
      ]
     },
     "execution_count": 65,
     "metadata": {},
     "output_type": "execute_result"
    }
   ],
   "source": [
    "firearm_mortality.shape"
   ]
  },
  {
   "cell_type": "markdown",
   "id": "b34f371d-0820-42aa-b30b-6bcdeac51ebd",
   "metadata": {
    "tags": []
   },
   "source": [
    "# Data Cleaning"
   ]
  },
  {
   "cell_type": "code",
   "execution_count": 66,
   "id": "8f64d5d1-8dd6-40f3-86f6-2d19a574657b",
   "metadata": {
    "tags": []
   },
   "outputs": [
    {
     "data": {
      "text/plain": [
       "YEAR      0\n",
       "STATE     0\n",
       "RATE      0\n",
       "DEATHS    0\n",
       "dtype: int64"
      ]
     },
     "execution_count": 66,
     "metadata": {},
     "output_type": "execute_result"
    }
   ],
   "source": [
    "firearm_mortality.isna().sum()"
   ]
  },
  {
   "cell_type": "code",
   "execution_count": 67,
   "id": "d741c504-0a22-431f-85de-607cb9013816",
   "metadata": {
    "tags": []
   },
   "outputs": [
    {
     "name": "stdout",
     "output_type": "stream",
     "text": [
      "<class 'pandas.core.frame.DataFrame'>\n",
      "RangeIndex: 450 entries, 0 to 449\n",
      "Data columns (total 4 columns):\n",
      " #   Column  Non-Null Count  Dtype  \n",
      "---  ------  --------------  -----  \n",
      " 0   YEAR    450 non-null    int64  \n",
      " 1   STATE   450 non-null    object \n",
      " 2   RATE    450 non-null    float64\n",
      " 3   DEATHS  450 non-null    int64  \n",
      "dtypes: float64(1), int64(2), object(1)\n",
      "memory usage: 14.2+ KB\n"
     ]
    }
   ],
   "source": [
    "firearm_mortality.info()"
   ]
  },
  {
   "cell_type": "markdown",
   "id": "5bce4cb7-23d0-46cc-a26e-6f8ae0a06b23",
   "metadata": {},
   "source": [
    "# Data Analysis"
   ]
  },
  {
   "cell_type": "code",
   "execution_count": 193,
   "id": "c1b4cc98-f312-4601-b4f8-68381cce0bd0",
   "metadata": {
    "tags": []
   },
   "outputs": [
    {
     "data": {
      "text/plain": [
       "STATE\n",
       "TX    3487.666667\n",
       "CA    3207.555556\n",
       "FL    2688.000000\n",
       "GA    1618.777778\n",
       "PA    1585.555556\n",
       "OH    1516.111111\n",
       "IL    1437.777778\n",
       "NC    1422.666667\n",
       "MI    1247.666667\n",
       "TN    1222.333333\n",
       "MO    1182.555556\n",
       "AZ    1108.000000\n",
       "VA    1032.777778\n",
       "AL    1030.555556\n",
       "LA    1022.444444\n",
       "Name: DEATHS, dtype: float64"
      ]
     },
     "execution_count": 193,
     "metadata": {},
     "output_type": "execute_result"
    }
   ],
   "source": [
    "# highest firearm mortality states - Texas Highest\n",
    "firearm_mortality.groupby('STATE')['DEATHS'].mean().nlargest(15)"
   ]
  },
  {
   "cell_type": "code",
   "execution_count": 106,
   "id": "f94f15ae-e428-4eac-8029-0109e56124b0",
   "metadata": {
    "tags": []
   },
   "outputs": [
    {
     "data": {
      "application/vnd.plotly.v1+json": {
       "config": {
        "plotlyServerURL": "https://plot.ly"
       },
       "data": [
        {
         "hovertemplate": "STATE=%{x}<br>Average Deaths=%{y}<extra></extra>",
         "legendgroup": "",
         "marker": {
          "color": "#636efa",
          "symbol": "circle"
         },
         "mode": "markers",
         "name": "",
         "orientation": "v",
         "showlegend": false,
         "type": "scatter",
         "x": [
          "AK",
          "AK",
          "AK",
          "AK",
          "AK",
          "AK",
          "AK",
          "AK",
          "AK",
          "AL",
          "AL",
          "AL",
          "AL",
          "AL",
          "AL",
          "AL",
          "AL",
          "AL",
          "AR",
          "AR",
          "AR",
          "AR",
          "AR",
          "AR",
          "AR",
          "AR",
          "AR",
          "AZ",
          "AZ",
          "AZ",
          "AZ",
          "AZ",
          "AZ",
          "AZ",
          "AZ",
          "AZ",
          "CA",
          "CA",
          "CA",
          "CA",
          "CA",
          "CA",
          "CA",
          "CA",
          "CA",
          "CO",
          "CO",
          "CO",
          "CO",
          "CO",
          "CO",
          "CO",
          "CO",
          "CO",
          "CT",
          "CT",
          "CT",
          "CT",
          "CT",
          "CT",
          "CT",
          "CT",
          "CT",
          "DE",
          "DE",
          "DE",
          "DE",
          "DE",
          "DE",
          "DE",
          "DE",
          "DE",
          "FL",
          "FL",
          "FL",
          "FL",
          "FL",
          "FL",
          "FL",
          "FL",
          "FL",
          "GA",
          "GA",
          "GA",
          "GA",
          "GA",
          "GA",
          "GA",
          "GA",
          "GA",
          "HI",
          "HI",
          "HI",
          "HI",
          "HI",
          "HI",
          "HI",
          "HI",
          "HI",
          "IA",
          "IA",
          "IA",
          "IA",
          "IA",
          "IA",
          "IA",
          "IA",
          "IA",
          "ID",
          "ID",
          "ID",
          "ID",
          "ID",
          "ID",
          "ID",
          "ID",
          "ID",
          "IL",
          "IL",
          "IL",
          "IL",
          "IL",
          "IL",
          "IL",
          "IL",
          "IL",
          "IN",
          "IN",
          "IN",
          "IN",
          "IN",
          "IN",
          "IN",
          "IN",
          "IN",
          "KS",
          "KS",
          "KS",
          "KS",
          "KS",
          "KS",
          "KS",
          "KS",
          "KS",
          "KY",
          "KY",
          "KY",
          "KY",
          "KY",
          "KY",
          "KY",
          "KY",
          "KY",
          "LA",
          "LA",
          "LA",
          "LA",
          "LA",
          "LA",
          "LA",
          "LA",
          "LA",
          "MA",
          "MA",
          "MA",
          "MA",
          "MA",
          "MA",
          "MA",
          "MA",
          "MA",
          "MD",
          "MD",
          "MD",
          "MD",
          "MD",
          "MD",
          "MD",
          "MD",
          "MD",
          "ME",
          "ME",
          "ME",
          "ME",
          "ME",
          "ME",
          "ME",
          "ME",
          "ME",
          "MI",
          "MI",
          "MI",
          "MI",
          "MI",
          "MI",
          "MI",
          "MI",
          "MI",
          "MN",
          "MN",
          "MN",
          "MN",
          "MN",
          "MN",
          "MN",
          "MN",
          "MN",
          "MO",
          "MO",
          "MO",
          "MO",
          "MO",
          "MO",
          "MO",
          "MO",
          "MO",
          "MS",
          "MS",
          "MS",
          "MS",
          "MS",
          "MS",
          "MS",
          "MS",
          "MS",
          "MT",
          "MT",
          "MT",
          "MT",
          "MT",
          "MT",
          "MT",
          "MT",
          "MT",
          "NC",
          "NC",
          "NC",
          "NC",
          "NC",
          "NC",
          "NC",
          "NC",
          "NC",
          "ND",
          "ND",
          "ND",
          "ND",
          "ND",
          "ND",
          "ND",
          "ND",
          "ND",
          "NE",
          "NE",
          "NE",
          "NE",
          "NE",
          "NE",
          "NE",
          "NE",
          "NE",
          "NH",
          "NH",
          "NH",
          "NH",
          "NH",
          "NH",
          "NH",
          "NH",
          "NH",
          "NJ",
          "NJ",
          "NJ",
          "NJ",
          "NJ",
          "NJ",
          "NJ",
          "NJ",
          "NJ",
          "NM",
          "NM",
          "NM",
          "NM",
          "NM",
          "NM",
          "NM",
          "NM",
          "NM",
          "NV",
          "NV",
          "NV",
          "NV",
          "NV",
          "NV",
          "NV",
          "NV",
          "NV",
          "NY",
          "NY",
          "NY",
          "NY",
          "NY",
          "NY",
          "NY",
          "NY",
          "NY",
          "OH",
          "OH",
          "OH",
          "OH",
          "OH",
          "OH",
          "OH",
          "OH",
          "OH",
          "OK",
          "OK",
          "OK",
          "OK",
          "OK",
          "OK",
          "OK",
          "OK",
          "OK",
          "OR",
          "OR",
          "OR",
          "OR",
          "OR",
          "OR",
          "OR",
          "OR",
          "OR",
          "PA",
          "PA",
          "PA",
          "PA",
          "PA",
          "PA",
          "PA",
          "PA",
          "PA",
          "RI",
          "RI",
          "RI",
          "RI",
          "RI",
          "RI",
          "RI",
          "RI",
          "RI",
          "SC",
          "SC",
          "SC",
          "SC",
          "SC",
          "SC",
          "SC",
          "SC",
          "SC",
          "SD",
          "SD",
          "SD",
          "SD",
          "SD",
          "SD",
          "SD",
          "SD",
          "SD",
          "TN",
          "TN",
          "TN",
          "TN",
          "TN",
          "TN",
          "TN",
          "TN",
          "TN",
          "TX",
          "TX",
          "TX",
          "TX",
          "TX",
          "TX",
          "TX",
          "TX",
          "TX",
          "UT",
          "UT",
          "UT",
          "UT",
          "UT",
          "UT",
          "UT",
          "UT",
          "UT",
          "VA",
          "VA",
          "VA",
          "VA",
          "VA",
          "VA",
          "VA",
          "VA",
          "VA",
          "VT",
          "VT",
          "VT",
          "VT",
          "VT",
          "VT",
          "VT",
          "VT",
          "VT",
          "WA",
          "WA",
          "WA",
          "WA",
          "WA",
          "WA",
          "WA",
          "WA",
          "WA",
          "WI",
          "WI",
          "WI",
          "WI",
          "WI",
          "WI",
          "WI",
          "WI",
          "WI",
          "WV",
          "WV",
          "WV",
          "WV",
          "WV",
          "WV",
          "WV",
          "WV",
          "WV",
          "WY",
          "WY",
          "WY",
          "WY",
          "WY",
          "WY",
          "WY",
          "WY",
          "WY"
         ],
         "xaxis": "x",
         "y": [
          116,
          145,
          177,
          177,
          180,
          155,
          179,
          175,
          182,
          736,
          815,
          958,
          1046,
          1124,
          1064,
          1076,
          1141,
          1315,
          439,
          496,
          520,
          541,
          613,
          573,
          580,
          673,
          698,
          934,
          927,
          970,
          1094,
          1134,
          1147,
          1136,
          1265,
          1365,
          3453,
          2942,
          3095,
          3184,
          3184,
          3040,
          2945,
          3449,
          3576,
          535,
          663,
          701,
          812,
          779,
          889,
          846,
          922,
          1064,
          187,
          187,
          189,
          172,
          188,
          186,
          190,
          219,
          248,
          75,
          102,
          112,
          111,
          111,
          107,
          93,
          135,
          158,
          1838,
          2410,
          2559,
          2704,
          2724,
          2902,
          2872,
          3041,
          3142,
          1064,
          1391,
          1448,
          1571,
          1623,
          1680,
          1695,
          1897,
          2200,
          28,
          40,
          55,
          66,
          39,
          59,
          62,
          50,
          71,
          201,
          241,
          247,
          288,
          293,
          282,
          294,
          351,
          364,
          195,
          213,
          247,
          242,
          280,
          294,
          255,
          321,
          309,
          1019,
          1179,
          1220,
          1490,
          1543,
          1382,
          1367,
          1745,
          1995,
          705,
          818,
          846,
          997,
          1016,
          977,
          958,
          1159,
          1251,
          257,
          329,
          330,
          383,
          466,
          424,
          403,
          494,
          503,
          548,
          634,
          694,
          772,
          730,
          762,
          682,
          902,
          947,
          858,
          896,
          952,
          987,
          1008,
          991,
          1013,
          1183,
          1314,
          224,
          226,
          213,
          242,
          262,
          258,
          247,
          268,
          247,
          657,
          546,
          708,
          707,
          742,
          707,
          757,
          803,
          915,
          109,
          133,
          144,
          123,
          172,
          159,
          163,
          153,
          178,
          1074,
          1095,
          1164,
          1230,
          1138,
          1310,
          1220,
          1454,
          1544,
          361,
          377,
          410,
          432,
          465,
          437,
          465,
          513,
          573,
          752,
          943,
          1094,
          1144,
          1307,
          1311,
          1252,
          1426,
          1414,
          455,
          547,
          589,
          587,
          632,
          681,
          710,
          818,
          962,
          161,
          172,
          205,
          194,
          244,
          186,
          209,
          238,
          280,
          1119,
          1206,
          1289,
          1409,
          1430,
          1416,
          1397,
          1699,
          1839,
          61,
          96,
          92,
          90,
          103,
          89,
          93,
          100,
          128,
          135,
          179,
          169,
          171,
          160,
          183,
          205,
          197,
          200,
          88,
          122,
          121,
          132,
          146,
          155,
          156,
          128,
          123,
          434,
          468,
          475,
          485,
          478,
          420,
          368,
          443,
          475,
          267,
          340,
          390,
          383,
          394,
          438,
          471,
          479,
          578,
          390,
          429,
          446,
          498,
          508,
          550,
          490,
          547,
          633,
          1019,
          875,
          849,
          900,
          772,
          821,
          804,
          1052,
          1078,
          1116,
          1211,
          1397,
          1524,
          1589,
          1555,
          1578,
          1764,
          1911,
          468,
          611,
          706,
          766,
          681,
          665,
          737,
          826,
          836,
          402,
          497,
          486,
          513,
          528,
          519,
          566,
          592,
          670,
          1352,
          1390,
          1485,
          1555,
          1636,
          1654,
          1541,
          1752,
          1905,
          39,
          34,
          51,
          49,
          43,
          37,
          48,
          54,
          64,
          589,
          767,
          850,
          891,
          893,
          895,
          1012,
          1131,
          1136,
          82,
          89,
          96,
          108,
          101,
          117,
          113,
          120,
          128,
          976,
          1016,
          1075,
          1148,
          1246,
          1228,
          1270,
          1473,
          1569,
          2490,
          2848,
          3203,
          3353,
          3513,
          3522,
          3683,
          4164,
          4613,
          227,
          337,
          367,
          370,
          410,
          397,
          394,
          429,
          450,
          888,
          889,
          946,
          1049,
          1041,
          1035,
          1025,
          1174,
          1248,
          44,
          69,
          70,
          78,
          70,
          82,
          67,
          76,
          83,
          567,
          702,
          718,
          686,
          849,
          809,
          842,
          864,
          896,
          474,
          487,
          613,
          664,
          624,
          598,
          604,
          717,
          793,
          261,
          286,
          278,
          332,
          348,
          343,
          300,
          325,
          319,
          71,
          93,
          113,
          101,
          113,
          124,
          133,
          154,
          155
         ],
         "yaxis": "y"
        }
       ],
       "layout": {
        "autosize": true,
        "legend": {
         "tracegroupgap": 0
        },
        "template": {
         "data": {
          "bar": [
           {
            "error_x": {
             "color": "#2a3f5f"
            },
            "error_y": {
             "color": "#2a3f5f"
            },
            "marker": {
             "line": {
              "color": "#E5ECF6",
              "width": 0.5
             },
             "pattern": {
              "fillmode": "overlay",
              "size": 10,
              "solidity": 0.2
             }
            },
            "type": "bar"
           }
          ],
          "barpolar": [
           {
            "marker": {
             "line": {
              "color": "#E5ECF6",
              "width": 0.5
             },
             "pattern": {
              "fillmode": "overlay",
              "size": 10,
              "solidity": 0.2
             }
            },
            "type": "barpolar"
           }
          ],
          "carpet": [
           {
            "aaxis": {
             "endlinecolor": "#2a3f5f",
             "gridcolor": "white",
             "linecolor": "white",
             "minorgridcolor": "white",
             "startlinecolor": "#2a3f5f"
            },
            "baxis": {
             "endlinecolor": "#2a3f5f",
             "gridcolor": "white",
             "linecolor": "white",
             "minorgridcolor": "white",
             "startlinecolor": "#2a3f5f"
            },
            "type": "carpet"
           }
          ],
          "choropleth": [
           {
            "colorbar": {
             "outlinewidth": 0,
             "ticks": ""
            },
            "type": "choropleth"
           }
          ],
          "contour": [
           {
            "colorbar": {
             "outlinewidth": 0,
             "ticks": ""
            },
            "colorscale": [
             [
              0,
              "#0d0887"
             ],
             [
              0.1111111111111111,
              "#46039f"
             ],
             [
              0.2222222222222222,
              "#7201a8"
             ],
             [
              0.3333333333333333,
              "#9c179e"
             ],
             [
              0.4444444444444444,
              "#bd3786"
             ],
             [
              0.5555555555555556,
              "#d8576b"
             ],
             [
              0.6666666666666666,
              "#ed7953"
             ],
             [
              0.7777777777777778,
              "#fb9f3a"
             ],
             [
              0.8888888888888888,
              "#fdca26"
             ],
             [
              1,
              "#f0f921"
             ]
            ],
            "type": "contour"
           }
          ],
          "contourcarpet": [
           {
            "colorbar": {
             "outlinewidth": 0,
             "ticks": ""
            },
            "type": "contourcarpet"
           }
          ],
          "heatmap": [
           {
            "colorbar": {
             "outlinewidth": 0,
             "ticks": ""
            },
            "colorscale": [
             [
              0,
              "#0d0887"
             ],
             [
              0.1111111111111111,
              "#46039f"
             ],
             [
              0.2222222222222222,
              "#7201a8"
             ],
             [
              0.3333333333333333,
              "#9c179e"
             ],
             [
              0.4444444444444444,
              "#bd3786"
             ],
             [
              0.5555555555555556,
              "#d8576b"
             ],
             [
              0.6666666666666666,
              "#ed7953"
             ],
             [
              0.7777777777777778,
              "#fb9f3a"
             ],
             [
              0.8888888888888888,
              "#fdca26"
             ],
             [
              1,
              "#f0f921"
             ]
            ],
            "type": "heatmap"
           }
          ],
          "heatmapgl": [
           {
            "colorbar": {
             "outlinewidth": 0,
             "ticks": ""
            },
            "colorscale": [
             [
              0,
              "#0d0887"
             ],
             [
              0.1111111111111111,
              "#46039f"
             ],
             [
              0.2222222222222222,
              "#7201a8"
             ],
             [
              0.3333333333333333,
              "#9c179e"
             ],
             [
              0.4444444444444444,
              "#bd3786"
             ],
             [
              0.5555555555555556,
              "#d8576b"
             ],
             [
              0.6666666666666666,
              "#ed7953"
             ],
             [
              0.7777777777777778,
              "#fb9f3a"
             ],
             [
              0.8888888888888888,
              "#fdca26"
             ],
             [
              1,
              "#f0f921"
             ]
            ],
            "type": "heatmapgl"
           }
          ],
          "histogram": [
           {
            "marker": {
             "pattern": {
              "fillmode": "overlay",
              "size": 10,
              "solidity": 0.2
             }
            },
            "type": "histogram"
           }
          ],
          "histogram2d": [
           {
            "colorbar": {
             "outlinewidth": 0,
             "ticks": ""
            },
            "colorscale": [
             [
              0,
              "#0d0887"
             ],
             [
              0.1111111111111111,
              "#46039f"
             ],
             [
              0.2222222222222222,
              "#7201a8"
             ],
             [
              0.3333333333333333,
              "#9c179e"
             ],
             [
              0.4444444444444444,
              "#bd3786"
             ],
             [
              0.5555555555555556,
              "#d8576b"
             ],
             [
              0.6666666666666666,
              "#ed7953"
             ],
             [
              0.7777777777777778,
              "#fb9f3a"
             ],
             [
              0.8888888888888888,
              "#fdca26"
             ],
             [
              1,
              "#f0f921"
             ]
            ],
            "type": "histogram2d"
           }
          ],
          "histogram2dcontour": [
           {
            "colorbar": {
             "outlinewidth": 0,
             "ticks": ""
            },
            "colorscale": [
             [
              0,
              "#0d0887"
             ],
             [
              0.1111111111111111,
              "#46039f"
             ],
             [
              0.2222222222222222,
              "#7201a8"
             ],
             [
              0.3333333333333333,
              "#9c179e"
             ],
             [
              0.4444444444444444,
              "#bd3786"
             ],
             [
              0.5555555555555556,
              "#d8576b"
             ],
             [
              0.6666666666666666,
              "#ed7953"
             ],
             [
              0.7777777777777778,
              "#fb9f3a"
             ],
             [
              0.8888888888888888,
              "#fdca26"
             ],
             [
              1,
              "#f0f921"
             ]
            ],
            "type": "histogram2dcontour"
           }
          ],
          "mesh3d": [
           {
            "colorbar": {
             "outlinewidth": 0,
             "ticks": ""
            },
            "type": "mesh3d"
           }
          ],
          "parcoords": [
           {
            "line": {
             "colorbar": {
              "outlinewidth": 0,
              "ticks": ""
             }
            },
            "type": "parcoords"
           }
          ],
          "pie": [
           {
            "automargin": true,
            "type": "pie"
           }
          ],
          "scatter": [
           {
            "fillpattern": {
             "fillmode": "overlay",
             "size": 10,
             "solidity": 0.2
            },
            "type": "scatter"
           }
          ],
          "scatter3d": [
           {
            "line": {
             "colorbar": {
              "outlinewidth": 0,
              "ticks": ""
             }
            },
            "marker": {
             "colorbar": {
              "outlinewidth": 0,
              "ticks": ""
             }
            },
            "type": "scatter3d"
           }
          ],
          "scattercarpet": [
           {
            "marker": {
             "colorbar": {
              "outlinewidth": 0,
              "ticks": ""
             }
            },
            "type": "scattercarpet"
           }
          ],
          "scattergeo": [
           {
            "marker": {
             "colorbar": {
              "outlinewidth": 0,
              "ticks": ""
             }
            },
            "type": "scattergeo"
           }
          ],
          "scattergl": [
           {
            "marker": {
             "colorbar": {
              "outlinewidth": 0,
              "ticks": ""
             }
            },
            "type": "scattergl"
           }
          ],
          "scattermapbox": [
           {
            "marker": {
             "colorbar": {
              "outlinewidth": 0,
              "ticks": ""
             }
            },
            "type": "scattermapbox"
           }
          ],
          "scatterpolar": [
           {
            "marker": {
             "colorbar": {
              "outlinewidth": 0,
              "ticks": ""
             }
            },
            "type": "scatterpolar"
           }
          ],
          "scatterpolargl": [
           {
            "marker": {
             "colorbar": {
              "outlinewidth": 0,
              "ticks": ""
             }
            },
            "type": "scatterpolargl"
           }
          ],
          "scatterternary": [
           {
            "marker": {
             "colorbar": {
              "outlinewidth": 0,
              "ticks": ""
             }
            },
            "type": "scatterternary"
           }
          ],
          "surface": [
           {
            "colorbar": {
             "outlinewidth": 0,
             "ticks": ""
            },
            "colorscale": [
             [
              0,
              "#0d0887"
             ],
             [
              0.1111111111111111,
              "#46039f"
             ],
             [
              0.2222222222222222,
              "#7201a8"
             ],
             [
              0.3333333333333333,
              "#9c179e"
             ],
             [
              0.4444444444444444,
              "#bd3786"
             ],
             [
              0.5555555555555556,
              "#d8576b"
             ],
             [
              0.6666666666666666,
              "#ed7953"
             ],
             [
              0.7777777777777778,
              "#fb9f3a"
             ],
             [
              0.8888888888888888,
              "#fdca26"
             ],
             [
              1,
              "#f0f921"
             ]
            ],
            "type": "surface"
           }
          ],
          "table": [
           {
            "cells": {
             "fill": {
              "color": "#EBF0F8"
             },
             "line": {
              "color": "white"
             }
            },
            "header": {
             "fill": {
              "color": "#C8D4E3"
             },
             "line": {
              "color": "white"
             }
            },
            "type": "table"
           }
          ]
         },
         "layout": {
          "annotationdefaults": {
           "arrowcolor": "#2a3f5f",
           "arrowhead": 0,
           "arrowwidth": 1
          },
          "autotypenumbers": "strict",
          "coloraxis": {
           "colorbar": {
            "outlinewidth": 0,
            "ticks": ""
           }
          },
          "colorscale": {
           "diverging": [
            [
             0,
             "#8e0152"
            ],
            [
             0.1,
             "#c51b7d"
            ],
            [
             0.2,
             "#de77ae"
            ],
            [
             0.3,
             "#f1b6da"
            ],
            [
             0.4,
             "#fde0ef"
            ],
            [
             0.5,
             "#f7f7f7"
            ],
            [
             0.6,
             "#e6f5d0"
            ],
            [
             0.7,
             "#b8e186"
            ],
            [
             0.8,
             "#7fbc41"
            ],
            [
             0.9,
             "#4d9221"
            ],
            [
             1,
             "#276419"
            ]
           ],
           "sequential": [
            [
             0,
             "#0d0887"
            ],
            [
             0.1111111111111111,
             "#46039f"
            ],
            [
             0.2222222222222222,
             "#7201a8"
            ],
            [
             0.3333333333333333,
             "#9c179e"
            ],
            [
             0.4444444444444444,
             "#bd3786"
            ],
            [
             0.5555555555555556,
             "#d8576b"
            ],
            [
             0.6666666666666666,
             "#ed7953"
            ],
            [
             0.7777777777777778,
             "#fb9f3a"
            ],
            [
             0.8888888888888888,
             "#fdca26"
            ],
            [
             1,
             "#f0f921"
            ]
           ],
           "sequentialminus": [
            [
             0,
             "#0d0887"
            ],
            [
             0.1111111111111111,
             "#46039f"
            ],
            [
             0.2222222222222222,
             "#7201a8"
            ],
            [
             0.3333333333333333,
             "#9c179e"
            ],
            [
             0.4444444444444444,
             "#bd3786"
            ],
            [
             0.5555555555555556,
             "#d8576b"
            ],
            [
             0.6666666666666666,
             "#ed7953"
            ],
            [
             0.7777777777777778,
             "#fb9f3a"
            ],
            [
             0.8888888888888888,
             "#fdca26"
            ],
            [
             1,
             "#f0f921"
            ]
           ]
          },
          "colorway": [
           "#636efa",
           "#EF553B",
           "#00cc96",
           "#ab63fa",
           "#FFA15A",
           "#19d3f3",
           "#FF6692",
           "#B6E880",
           "#FF97FF",
           "#FECB52"
          ],
          "font": {
           "color": "#2a3f5f"
          },
          "geo": {
           "bgcolor": "white",
           "lakecolor": "white",
           "landcolor": "#E5ECF6",
           "showlakes": true,
           "showland": true,
           "subunitcolor": "white"
          },
          "hoverlabel": {
           "align": "left"
          },
          "hovermode": "closest",
          "mapbox": {
           "style": "light"
          },
          "paper_bgcolor": "white",
          "plot_bgcolor": "#E5ECF6",
          "polar": {
           "angularaxis": {
            "gridcolor": "white",
            "linecolor": "white",
            "ticks": ""
           },
           "bgcolor": "#E5ECF6",
           "radialaxis": {
            "gridcolor": "white",
            "linecolor": "white",
            "ticks": ""
           }
          },
          "scene": {
           "xaxis": {
            "backgroundcolor": "#E5ECF6",
            "gridcolor": "white",
            "gridwidth": 2,
            "linecolor": "white",
            "showbackground": true,
            "ticks": "",
            "zerolinecolor": "white"
           },
           "yaxis": {
            "backgroundcolor": "#E5ECF6",
            "gridcolor": "white",
            "gridwidth": 2,
            "linecolor": "white",
            "showbackground": true,
            "ticks": "",
            "zerolinecolor": "white"
           },
           "zaxis": {
            "backgroundcolor": "#E5ECF6",
            "gridcolor": "white",
            "gridwidth": 2,
            "linecolor": "white",
            "showbackground": true,
            "ticks": "",
            "zerolinecolor": "white"
           }
          },
          "shapedefaults": {
           "line": {
            "color": "#2a3f5f"
           }
          },
          "ternary": {
           "aaxis": {
            "gridcolor": "white",
            "linecolor": "white",
            "ticks": ""
           },
           "baxis": {
            "gridcolor": "white",
            "linecolor": "white",
            "ticks": ""
           },
           "bgcolor": "#E5ECF6",
           "caxis": {
            "gridcolor": "white",
            "linecolor": "white",
            "ticks": ""
           }
          },
          "title": {
           "x": 0.05
          },
          "xaxis": {
           "automargin": true,
           "gridcolor": "white",
           "linecolor": "white",
           "ticks": "",
           "title": {
            "standoff": 15
           },
           "zerolinecolor": "white",
           "zerolinewidth": 2
          },
          "yaxis": {
           "automargin": true,
           "gridcolor": "white",
           "linecolor": "white",
           "ticks": "",
           "title": {
            "standoff": 15
           },
           "zerolinecolor": "white",
           "zerolinewidth": 2
          }
         }
        },
        "title": {
         "text": "Firearm Mortalities per State"
        },
        "xaxis": {
         "anchor": "y",
         "autorange": true,
         "domain": [
          0,
          1
         ],
         "range": [
          -3.257671125098348,
          52.25767112509835
         ],
         "title": {
          "text": "STATE"
         },
         "type": "category"
        },
        "yaxis": {
         "anchor": "x",
         "autorange": true,
         "domain": [
          0,
          1
         ],
         "range": [
          -350.373786407767,
          4991.373786407767
         ],
         "title": {
          "text": "Average Deaths"
         },
         "type": "linear"
        }
       }
      },
      "image/png": "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",
      "text/html": [
       "<div>                            <div id=\"d5aff0cd-d961-485c-a41a-10c08c27e2eb\" class=\"plotly-graph-div\" style=\"height:525px; width:100%;\"></div>            <script type=\"text/javascript\">                require([\"plotly\"], function(Plotly) {                    window.PLOTLYENV=window.PLOTLYENV || {};                                    if (document.getElementById(\"d5aff0cd-d961-485c-a41a-10c08c27e2eb\")) {                    Plotly.newPlot(                        \"d5aff0cd-d961-485c-a41a-10c08c27e2eb\",                        [{\"hovertemplate\":\"STATE=%{x}<br>Average Deaths=%{y}<extra></extra>\",\"legendgroup\":\"\",\"marker\":{\"color\":\"#636efa\",\"symbol\":\"circle\"},\"mode\":\"markers\",\"name\":\"\",\"orientation\":\"v\",\"showlegend\":false,\"x\":[\"AK\",\"AK\",\"AK\",\"AK\",\"AK\",\"AK\",\"AK\",\"AK\",\"AK\",\"AL\",\"AL\",\"AL\",\"AL\",\"AL\",\"AL\",\"AL\",\"AL\",\"AL\",\"AR\",\"AR\",\"AR\",\"AR\",\"AR\",\"AR\",\"AR\",\"AR\",\"AR\",\"AZ\",\"AZ\",\"AZ\",\"AZ\",\"AZ\",\"AZ\",\"AZ\",\"AZ\",\"AZ\",\"CA\",\"CA\",\"CA\",\"CA\",\"CA\",\"CA\",\"CA\",\"CA\",\"CA\",\"CO\",\"CO\",\"CO\",\"CO\",\"CO\",\"CO\",\"CO\",\"CO\",\"CO\",\"CT\",\"CT\",\"CT\",\"CT\",\"CT\",\"CT\",\"CT\",\"CT\",\"CT\",\"DE\",\"DE\",\"DE\",\"DE\",\"DE\",\"DE\",\"DE\",\"DE\",\"DE\",\"FL\",\"FL\",\"FL\",\"FL\",\"FL\",\"FL\",\"FL\",\"FL\",\"FL\",\"GA\",\"GA\",\"GA\",\"GA\",\"GA\",\"GA\",\"GA\",\"GA\",\"GA\",\"HI\",\"HI\",\"HI\",\"HI\",\"HI\",\"HI\",\"HI\",\"HI\",\"HI\",\"IA\",\"IA\",\"IA\",\"IA\",\"IA\",\"IA\",\"IA\",\"IA\",\"IA\",\"ID\",\"ID\",\"ID\",\"ID\",\"ID\",\"ID\",\"ID\",\"ID\",\"ID\",\"IL\",\"IL\",\"IL\",\"IL\",\"IL\",\"IL\",\"IL\",\"IL\",\"IL\",\"IN\",\"IN\",\"IN\",\"IN\",\"IN\",\"IN\",\"IN\",\"IN\",\"IN\",\"KS\",\"KS\",\"KS\",\"KS\",\"KS\",\"KS\",\"KS\",\"KS\",\"KS\",\"KY\",\"KY\",\"KY\",\"KY\",\"KY\",\"KY\",\"KY\",\"KY\",\"KY\",\"LA\",\"LA\",\"LA\",\"LA\",\"LA\",\"LA\",\"LA\",\"LA\",\"LA\",\"MA\",\"MA\",\"MA\",\"MA\",\"MA\",\"MA\",\"MA\",\"MA\",\"MA\",\"MD\",\"MD\",\"MD\",\"MD\",\"MD\",\"MD\",\"MD\",\"MD\",\"MD\",\"ME\",\"ME\",\"ME\",\"ME\",\"ME\",\"ME\",\"ME\",\"ME\",\"ME\",\"MI\",\"MI\",\"MI\",\"MI\",\"MI\",\"MI\",\"MI\",\"MI\",\"MI\",\"MN\",\"MN\",\"MN\",\"MN\",\"MN\",\"MN\",\"MN\",\"MN\",\"MN\",\"MO\",\"MO\",\"MO\",\"MO\",\"MO\",\"MO\",\"MO\",\"MO\",\"MO\",\"MS\",\"MS\",\"MS\",\"MS\",\"MS\",\"MS\",\"MS\",\"MS\",\"MS\",\"MT\",\"MT\",\"MT\",\"MT\",\"MT\",\"MT\",\"MT\",\"MT\",\"MT\",\"NC\",\"NC\",\"NC\",\"NC\",\"NC\",\"NC\",\"NC\",\"NC\",\"NC\",\"ND\",\"ND\",\"ND\",\"ND\",\"ND\",\"ND\",\"ND\",\"ND\",\"ND\",\"NE\",\"NE\",\"NE\",\"NE\",\"NE\",\"NE\",\"NE\",\"NE\",\"NE\",\"NH\",\"NH\",\"NH\",\"NH\",\"NH\",\"NH\",\"NH\",\"NH\",\"NH\",\"NJ\",\"NJ\",\"NJ\",\"NJ\",\"NJ\",\"NJ\",\"NJ\",\"NJ\",\"NJ\",\"NM\",\"NM\",\"NM\",\"NM\",\"NM\",\"NM\",\"NM\",\"NM\",\"NM\",\"NV\",\"NV\",\"NV\",\"NV\",\"NV\",\"NV\",\"NV\",\"NV\",\"NV\",\"NY\",\"NY\",\"NY\",\"NY\",\"NY\",\"NY\",\"NY\",\"NY\",\"NY\",\"OH\",\"OH\",\"OH\",\"OH\",\"OH\",\"OH\",\"OH\",\"OH\",\"OH\",\"OK\",\"OK\",\"OK\",\"OK\",\"OK\",\"OK\",\"OK\",\"OK\",\"OK\",\"OR\",\"OR\",\"OR\",\"OR\",\"OR\",\"OR\",\"OR\",\"OR\",\"OR\",\"PA\",\"PA\",\"PA\",\"PA\",\"PA\",\"PA\",\"PA\",\"PA\",\"PA\",\"RI\",\"RI\",\"RI\",\"RI\",\"RI\",\"RI\",\"RI\",\"RI\",\"RI\",\"SC\",\"SC\",\"SC\",\"SC\",\"SC\",\"SC\",\"SC\",\"SC\",\"SC\",\"SD\",\"SD\",\"SD\",\"SD\",\"SD\",\"SD\",\"SD\",\"SD\",\"SD\",\"TN\",\"TN\",\"TN\",\"TN\",\"TN\",\"TN\",\"TN\",\"TN\",\"TN\",\"TX\",\"TX\",\"TX\",\"TX\",\"TX\",\"TX\",\"TX\",\"TX\",\"TX\",\"UT\",\"UT\",\"UT\",\"UT\",\"UT\",\"UT\",\"UT\",\"UT\",\"UT\",\"VA\",\"VA\",\"VA\",\"VA\",\"VA\",\"VA\",\"VA\",\"VA\",\"VA\",\"VT\",\"VT\",\"VT\",\"VT\",\"VT\",\"VT\",\"VT\",\"VT\",\"VT\",\"WA\",\"WA\",\"WA\",\"WA\",\"WA\",\"WA\",\"WA\",\"WA\",\"WA\",\"WI\",\"WI\",\"WI\",\"WI\",\"WI\",\"WI\",\"WI\",\"WI\",\"WI\",\"WV\",\"WV\",\"WV\",\"WV\",\"WV\",\"WV\",\"WV\",\"WV\",\"WV\",\"WY\",\"WY\",\"WY\",\"WY\",\"WY\",\"WY\",\"WY\",\"WY\",\"WY\"],\"xaxis\":\"x\",\"y\":[116.0,145.0,177.0,177.0,180.0,155.0,179.0,175.0,182.0,736.0,815.0,958.0,1046.0,1124.0,1064.0,1076.0,1141.0,1315.0,439.0,496.0,520.0,541.0,613.0,573.0,580.0,673.0,698.0,934.0,927.0,970.0,1094.0,1134.0,1147.0,1136.0,1265.0,1365.0,3453.0,2942.0,3095.0,3184.0,3184.0,3040.0,2945.0,3449.0,3576.0,535.0,663.0,701.0,812.0,779.0,889.0,846.0,922.0,1064.0,187.0,187.0,189.0,172.0,188.0,186.0,190.0,219.0,248.0,75.0,102.0,112.0,111.0,111.0,107.0,93.0,135.0,158.0,1838.0,2410.0,2559.0,2704.0,2724.0,2902.0,2872.0,3041.0,3142.0,1064.0,1391.0,1448.0,1571.0,1623.0,1680.0,1695.0,1897.0,2200.0,28.0,40.0,55.0,66.0,39.0,59.0,62.0,50.0,71.0,201.0,241.0,247.0,288.0,293.0,282.0,294.0,351.0,364.0,195.0,213.0,247.0,242.0,280.0,294.0,255.0,321.0,309.0,1019.0,1179.0,1220.0,1490.0,1543.0,1382.0,1367.0,1745.0,1995.0,705.0,818.0,846.0,997.0,1016.0,977.0,958.0,1159.0,1251.0,257.0,329.0,330.0,383.0,466.0,424.0,403.0,494.0,503.0,548.0,634.0,694.0,772.0,730.0,762.0,682.0,902.0,947.0,858.0,896.0,952.0,987.0,1008.0,991.0,1013.0,1183.0,1314.0,224.0,226.0,213.0,242.0,262.0,258.0,247.0,268.0,247.0,657.0,546.0,708.0,707.0,742.0,707.0,757.0,803.0,915.0,109.0,133.0,144.0,123.0,172.0,159.0,163.0,153.0,178.0,1074.0,1095.0,1164.0,1230.0,1138.0,1310.0,1220.0,1454.0,1544.0,361.0,377.0,410.0,432.0,465.0,437.0,465.0,513.0,573.0,752.0,943.0,1094.0,1144.0,1307.0,1311.0,1252.0,1426.0,1414.0,455.0,547.0,589.0,587.0,632.0,681.0,710.0,818.0,962.0,161.0,172.0,205.0,194.0,244.0,186.0,209.0,238.0,280.0,1119.0,1206.0,1289.0,1409.0,1430.0,1416.0,1397.0,1699.0,1839.0,61.0,96.0,92.0,90.0,103.0,89.0,93.0,100.0,128.0,135.0,179.0,169.0,171.0,160.0,183.0,205.0,197.0,200.0,88.0,122.0,121.0,132.0,146.0,155.0,156.0,128.0,123.0,434.0,468.0,475.0,485.0,478.0,420.0,368.0,443.0,475.0,267.0,340.0,390.0,383.0,394.0,438.0,471.0,479.0,578.0,390.0,429.0,446.0,498.0,508.0,550.0,490.0,547.0,633.0,1019.0,875.0,849.0,900.0,772.0,821.0,804.0,1052.0,1078.0,1116.0,1211.0,1397.0,1524.0,1589.0,1555.0,1578.0,1764.0,1911.0,468.0,611.0,706.0,766.0,681.0,665.0,737.0,826.0,836.0,402.0,497.0,486.0,513.0,528.0,519.0,566.0,592.0,670.0,1352.0,1390.0,1485.0,1555.0,1636.0,1654.0,1541.0,1752.0,1905.0,39.0,34.0,51.0,49.0,43.0,37.0,48.0,54.0,64.0,589.0,767.0,850.0,891.0,893.0,895.0,1012.0,1131.0,1136.0,82.0,89.0,96.0,108.0,101.0,117.0,113.0,120.0,128.0,976.0,1016.0,1075.0,1148.0,1246.0,1228.0,1270.0,1473.0,1569.0,2490.0,2848.0,3203.0,3353.0,3513.0,3522.0,3683.0,4164.0,4613.0,227.0,337.0,367.0,370.0,410.0,397.0,394.0,429.0,450.0,888.0,889.0,946.0,1049.0,1041.0,1035.0,1025.0,1174.0,1248.0,44.0,69.0,70.0,78.0,70.0,82.0,67.0,76.0,83.0,567.0,702.0,718.0,686.0,849.0,809.0,842.0,864.0,896.0,474.0,487.0,613.0,664.0,624.0,598.0,604.0,717.0,793.0,261.0,286.0,278.0,332.0,348.0,343.0,300.0,325.0,319.0,71.0,93.0,113.0,101.0,113.0,124.0,133.0,154.0,155.0],\"yaxis\":\"y\",\"type\":\"scatter\"}],                        {\"template\":{\"data\":{\"histogram2dcontour\":[{\"type\":\"histogram2dcontour\",\"colorbar\":{\"outlinewidth\":0,\"ticks\":\"\"},\"colorscale\":[[0.0,\"#0d0887\"],[0.1111111111111111,\"#46039f\"],[0.2222222222222222,\"#7201a8\"],[0.3333333333333333,\"#9c179e\"],[0.4444444444444444,\"#bd3786\"],[0.5555555555555556,\"#d8576b\"],[0.6666666666666666,\"#ed7953\"],[0.7777777777777778,\"#fb9f3a\"],[0.8888888888888888,\"#fdca26\"],[1.0,\"#f0f921\"]]}],\"choropleth\":[{\"type\":\"choropleth\",\"colorbar\":{\"outlinewidth\":0,\"ticks\":\"\"}}],\"histogram2d\":[{\"type\":\"histogram2d\",\"colorbar\":{\"outlinewidth\":0,\"ticks\":\"\"},\"colorscale\":[[0.0,\"#0d0887\"],[0.1111111111111111,\"#46039f\"],[0.2222222222222222,\"#7201a8\"],[0.3333333333333333,\"#9c179e\"],[0.4444444444444444,\"#bd3786\"],[0.5555555555555556,\"#d8576b\"],[0.6666666666666666,\"#ed7953\"],[0.7777777777777778,\"#fb9f3a\"],[0.8888888888888888,\"#fdca26\"],[1.0,\"#f0f921\"]]}],\"heatmap\":[{\"type\":\"heatmap\",\"colorbar\":{\"outlinewidth\":0,\"ticks\":\"\"},\"colorscale\":[[0.0,\"#0d0887\"],[0.1111111111111111,\"#46039f\"],[0.2222222222222222,\"#7201a8\"],[0.3333333333333333,\"#9c179e\"],[0.4444444444444444,\"#bd3786\"],[0.5555555555555556,\"#d8576b\"],[0.6666666666666666,\"#ed7953\"],[0.7777777777777778,\"#fb9f3a\"],[0.8888888888888888,\"#fdca26\"],[1.0,\"#f0f921\"]]}],\"heatmapgl\":[{\"type\":\"heatmapgl\",\"colorbar\":{\"outlinewidth\":0,\"ticks\":\"\"},\"colorscale\":[[0.0,\"#0d0887\"],[0.1111111111111111,\"#46039f\"],[0.2222222222222222,\"#7201a8\"],[0.3333333333333333,\"#9c179e\"],[0.4444444444444444,\"#bd3786\"],[0.5555555555555556,\"#d8576b\"],[0.6666666666666666,\"#ed7953\"],[0.7777777777777778,\"#fb9f3a\"],[0.8888888888888888,\"#fdca26\"],[1.0,\"#f0f921\"]]}],\"contourcarpet\":[{\"type\":\"contourcarpet\",\"colorbar\":{\"outlinewidth\":0,\"ticks\":\"\"}}],\"contour\":[{\"type\":\"contour\",\"colorbar\":{\"outlinewidth\":0,\"ticks\":\"\"},\"colorscale\":[[0.0,\"#0d0887\"],[0.1111111111111111,\"#46039f\"],[0.2222222222222222,\"#7201a8\"],[0.3333333333333333,\"#9c179e\"],[0.4444444444444444,\"#bd3786\"],[0.5555555555555556,\"#d8576b\"],[0.6666666666666666,\"#ed7953\"],[0.7777777777777778,\"#fb9f3a\"],[0.8888888888888888,\"#fdca26\"],[1.0,\"#f0f921\"]]}],\"surface\":[{\"type\":\"surface\",\"colorbar\":{\"outlinewidth\":0,\"ticks\":\"\"},\"colorscale\":[[0.0,\"#0d0887\"],[0.1111111111111111,\"#46039f\"],[0.2222222222222222,\"#7201a8\"],[0.3333333333333333,\"#9c179e\"],[0.4444444444444444,\"#bd3786\"],[0.5555555555555556,\"#d8576b\"],[0.6666666666666666,\"#ed7953\"],[0.7777777777777778,\"#fb9f3a\"],[0.8888888888888888,\"#fdca26\"],[1.0,\"#f0f921\"]]}],\"mesh3d\":[{\"type\":\"mesh3d\",\"colorbar\":{\"outlinewidth\":0,\"ticks\":\"\"}}],\"scatter\":[{\"fillpattern\":{\"fillmode\":\"overlay\",\"size\":10,\"solidity\":0.2},\"type\":\"scatter\"}],\"parcoords\":[{\"type\":\"parcoords\",\"line\":{\"colorbar\":{\"outlinewidth\":0,\"ticks\":\"\"}}}],\"scatterpolargl\":[{\"type\":\"scatterpolargl\",\"marker\":{\"colorbar\":{\"outlinewidth\":0,\"ticks\":\"\"}}}],\"bar\":[{\"error_x\":{\"color\":\"#2a3f5f\"},\"error_y\":{\"color\":\"#2a3f5f\"},\"marker\":{\"line\":{\"color\":\"#E5ECF6\",\"width\":0.5},\"pattern\":{\"fillmode\":\"overlay\",\"size\":10,\"solidity\":0.2}},\"type\":\"bar\"}],\"scattergeo\":[{\"type\":\"scattergeo\",\"marker\":{\"colorbar\":{\"outlinewidth\":0,\"ticks\":\"\"}}}],\"scatterpolar\":[{\"type\":\"scatterpolar\",\"marker\":{\"colorbar\":{\"outlinewidth\":0,\"ticks\":\"\"}}}],\"histogram\":[{\"marker\":{\"pattern\":{\"fillmode\":\"overlay\",\"size\":10,\"solidity\":0.2}},\"type\":\"histogram\"}],\"scattergl\":[{\"type\":\"scattergl\",\"marker\":{\"colorbar\":{\"outlinewidth\":0,\"ticks\":\"\"}}}],\"scatter3d\":[{\"type\":\"scatter3d\",\"line\":{\"colorbar\":{\"outlinewidth\":0,\"ticks\":\"\"}},\"marker\":{\"colorbar\":{\"outlinewidth\":0,\"ticks\":\"\"}}}],\"scattermapbox\":[{\"type\":\"scattermapbox\",\"marker\":{\"colorbar\":{\"outlinewidth\":0,\"ticks\":\"\"}}}],\"scatterternary\":[{\"type\":\"scatterternary\",\"marker\":{\"colorbar\":{\"outlinewidth\":0,\"ticks\":\"\"}}}],\"scattercarpet\":[{\"type\":\"scattercarpet\",\"marker\":{\"colorbar\":{\"outlinewidth\":0,\"ticks\":\"\"}}}],\"carpet\":[{\"aaxis\":{\"endlinecolor\":\"#2a3f5f\",\"gridcolor\":\"white\",\"linecolor\":\"white\",\"minorgridcolor\":\"white\",\"startlinecolor\":\"#2a3f5f\"},\"baxis\":{\"endlinecolor\":\"#2a3f5f\",\"gridcolor\":\"white\",\"linecolor\":\"white\",\"minorgridcolor\":\"white\",\"startlinecolor\":\"#2a3f5f\"},\"type\":\"carpet\"}],\"table\":[{\"cells\":{\"fill\":{\"color\":\"#EBF0F8\"},\"line\":{\"color\":\"white\"}},\"header\":{\"fill\":{\"color\":\"#C8D4E3\"},\"line\":{\"color\":\"white\"}},\"type\":\"table\"}],\"barpolar\":[{\"marker\":{\"line\":{\"color\":\"#E5ECF6\",\"width\":0.5},\"pattern\":{\"fillmode\":\"overlay\",\"size\":10,\"solidity\":0.2}},\"type\":\"barpolar\"}],\"pie\":[{\"automargin\":true,\"type\":\"pie\"}]},\"layout\":{\"autotypenumbers\":\"strict\",\"colorway\":[\"#636efa\",\"#EF553B\",\"#00cc96\",\"#ab63fa\",\"#FFA15A\",\"#19d3f3\",\"#FF6692\",\"#B6E880\",\"#FF97FF\",\"#FECB52\"],\"font\":{\"color\":\"#2a3f5f\"},\"hovermode\":\"closest\",\"hoverlabel\":{\"align\":\"left\"},\"paper_bgcolor\":\"white\",\"plot_bgcolor\":\"#E5ECF6\",\"polar\":{\"bgcolor\":\"#E5ECF6\",\"angularaxis\":{\"gridcolor\":\"white\",\"linecolor\":\"white\",\"ticks\":\"\"},\"radialaxis\":{\"gridcolor\":\"white\",\"linecolor\":\"white\",\"ticks\":\"\"}},\"ternary\":{\"bgcolor\":\"#E5ECF6\",\"aaxis\":{\"gridcolor\":\"white\",\"linecolor\":\"white\",\"ticks\":\"\"},\"baxis\":{\"gridcolor\":\"white\",\"linecolor\":\"white\",\"ticks\":\"\"},\"caxis\":{\"gridcolor\":\"white\",\"linecolor\":\"white\",\"ticks\":\"\"}},\"coloraxis\":{\"colorbar\":{\"outlinewidth\":0,\"ticks\":\"\"}},\"colorscale\":{\"sequential\":[[0.0,\"#0d0887\"],[0.1111111111111111,\"#46039f\"],[0.2222222222222222,\"#7201a8\"],[0.3333333333333333,\"#9c179e\"],[0.4444444444444444,\"#bd3786\"],[0.5555555555555556,\"#d8576b\"],[0.6666666666666666,\"#ed7953\"],[0.7777777777777778,\"#fb9f3a\"],[0.8888888888888888,\"#fdca26\"],[1.0,\"#f0f921\"]],\"sequentialminus\":[[0.0,\"#0d0887\"],[0.1111111111111111,\"#46039f\"],[0.2222222222222222,\"#7201a8\"],[0.3333333333333333,\"#9c179e\"],[0.4444444444444444,\"#bd3786\"],[0.5555555555555556,\"#d8576b\"],[0.6666666666666666,\"#ed7953\"],[0.7777777777777778,\"#fb9f3a\"],[0.8888888888888888,\"#fdca26\"],[1.0,\"#f0f921\"]],\"diverging\":[[0,\"#8e0152\"],[0.1,\"#c51b7d\"],[0.2,\"#de77ae\"],[0.3,\"#f1b6da\"],[0.4,\"#fde0ef\"],[0.5,\"#f7f7f7\"],[0.6,\"#e6f5d0\"],[0.7,\"#b8e186\"],[0.8,\"#7fbc41\"],[0.9,\"#4d9221\"],[1,\"#276419\"]]},\"xaxis\":{\"gridcolor\":\"white\",\"linecolor\":\"white\",\"ticks\":\"\",\"title\":{\"standoff\":15},\"zerolinecolor\":\"white\",\"automargin\":true,\"zerolinewidth\":2},\"yaxis\":{\"gridcolor\":\"white\",\"linecolor\":\"white\",\"ticks\":\"\",\"title\":{\"standoff\":15},\"zerolinecolor\":\"white\",\"automargin\":true,\"zerolinewidth\":2},\"scene\":{\"xaxis\":{\"backgroundcolor\":\"#E5ECF6\",\"gridcolor\":\"white\",\"linecolor\":\"white\",\"showbackground\":true,\"ticks\":\"\",\"zerolinecolor\":\"white\",\"gridwidth\":2},\"yaxis\":{\"backgroundcolor\":\"#E5ECF6\",\"gridcolor\":\"white\",\"linecolor\":\"white\",\"showbackground\":true,\"ticks\":\"\",\"zerolinecolor\":\"white\",\"gridwidth\":2},\"zaxis\":{\"backgroundcolor\":\"#E5ECF6\",\"gridcolor\":\"white\",\"linecolor\":\"white\",\"showbackground\":true,\"ticks\":\"\",\"zerolinecolor\":\"white\",\"gridwidth\":2}},\"shapedefaults\":{\"line\":{\"color\":\"#2a3f5f\"}},\"annotationdefaults\":{\"arrowcolor\":\"#2a3f5f\",\"arrowhead\":0,\"arrowwidth\":1},\"geo\":{\"bgcolor\":\"white\",\"landcolor\":\"#E5ECF6\",\"subunitcolor\":\"white\",\"showland\":true,\"showlakes\":true,\"lakecolor\":\"white\"},\"title\":{\"x\":0.05},\"mapbox\":{\"style\":\"light\"}}},\"xaxis\":{\"anchor\":\"y\",\"domain\":[0.0,1.0],\"title\":{\"text\":\"STATE\"}},\"yaxis\":{\"anchor\":\"x\",\"domain\":[0.0,1.0],\"title\":{\"text\":\"Average Deaths\"}},\"legend\":{\"tracegroupgap\":0},\"title\":{\"text\":\"Firearm Mortalities per State\"}},                        {\"responsive\": true}                    ).then(function(){\n",
       "                            \n",
       "var gd = document.getElementById('d5aff0cd-d961-485c-a41a-10c08c27e2eb');\n",
       "var x = new MutationObserver(function (mutations, observer) {{\n",
       "        var display = window.getComputedStyle(gd).display;\n",
       "        if (!display || display === 'none') {{\n",
       "            console.log([gd, 'removed!']);\n",
       "            Plotly.purge(gd);\n",
       "            observer.disconnect();\n",
       "        }}\n",
       "}});\n",
       "\n",
       "// Listen for the removal of the full notebook cells\n",
       "var notebookContainer = gd.closest('#notebook-container');\n",
       "if (notebookContainer) {{\n",
       "    x.observe(notebookContainer, {childList: true});\n",
       "}}\n",
       "\n",
       "// Listen for the clearing of the current output cell\n",
       "var outputEl = gd.closest('.output');\n",
       "if (outputEl) {{\n",
       "    x.observe(outputEl, {childList: true});\n",
       "}}\n",
       "\n",
       "                        })                };                });            </script>        </div>"
      ]
     },
     "metadata": {},
     "output_type": "display_data"
    }
   ],
   "source": [
    "# Firearm Mortalities per State\n",
    "fig = px.scatter(firearm_mortality.groupby(['STATE', 'YEAR'])['DEATHS'].mean().reset_index(),\n",
    "                 x='STATE', y='DEATHS', title='Firearm Mortalities per State',\n",
    "                 labels={'DEATHS': 'Average Deaths'},\n",
    "                 template='plotly')\n",
    "fig.show()"
   ]
  },
  {
   "cell_type": "code",
   "execution_count": 190,
   "id": "a8715568-1b45-4bab-9d5d-533f9ec40505",
   "metadata": {
    "tags": []
   },
   "outputs": [
    {
     "data": {
      "text/plain": [
       "0.005575884587360668"
      ]
     },
     "execution_count": 190,
     "metadata": {},
     "output_type": "execute_result"
    }
   ],
   "source": [
    "texas_data = firearm_mortality[firearm_mortality['STATE'] == 'TX']['DEATHS']\n",
    "florida_data = firearm_mortality[firearm_mortality['STATE'] == 'FL']['DEATHS']\n",
    "\n",
    "t_stat, p_value = ttest_ind(texas_data, florida_data)\n",
    "p_value"
   ]
  },
  {
   "cell_type": "markdown",
   "id": "339f841a-dc9a-47d7-ae3d-d04ac1839a2d",
   "metadata": {},
   "source": [
    "> This low p-value tells us that there is statistical significance between Texas which has the highest mortality count and Florida which is third on the list. All mortality counts for the United States, excluding California, are statistically significant when comparing to Texas."
   ]
  },
  {
   "cell_type": "code",
   "execution_count": 187,
   "id": "7a4a9bda-a9dd-4d0f-af91-0e77971d12ea",
   "metadata": {
    "tags": []
   },
   "outputs": [
    {
     "data": {
      "text/plain": [
       "STATE\n",
       "MS    22.766667\n",
       "AK    22.444444\n",
       "LA    22.200000\n",
       "AL    21.211111\n",
       "WY    20.133333\n",
       "NM    19.844444\n",
       "MO    19.555556\n",
       "MT    19.544444\n",
       "AR    19.044444\n",
       "SC    18.211111\n",
       "TN    18.100000\n",
       "OK    17.888889\n",
       "NV    16.588889\n",
       "KY    16.533333\n",
       "WV    16.522222\n",
       "Name: RATE, dtype: float64"
      ]
     },
     "execution_count": 187,
     "metadata": {},
     "output_type": "execute_result"
    }
   ],
   "source": [
    "#highest mortality rate by firearm states - Mississippi Highest\n",
    "firearm_mortality.groupby('STATE')['RATE'].mean().nlargest(15)"
   ]
  },
  {
   "cell_type": "code",
   "execution_count": 107,
   "id": "da4fa6a9-3b5c-49bf-b2c3-ec8ad174dc8e",
   "metadata": {
    "tags": []
   },
   "outputs": [
    {
     "data": {
      "application/vnd.plotly.v1+json": {
       "config": {
        "plotlyServerURL": "https://plot.ly"
       },
       "data": [
        {
         "hovertemplate": "STATE=%{x}<br>Mortality Rate=%{y}<extra></extra>",
         "legendgroup": "",
         "marker": {
          "color": "#636efa",
          "symbol": "circle"
         },
         "mode": "markers",
         "name": "",
         "orientation": "v",
         "showlegend": false,
         "type": "scatter",
         "x": [
          "AK",
          "AK",
          "AK",
          "AK",
          "AK",
          "AK",
          "AK",
          "AK",
          "AK",
          "AL",
          "AL",
          "AL",
          "AL",
          "AL",
          "AL",
          "AL",
          "AL",
          "AL",
          "AR",
          "AR",
          "AR",
          "AR",
          "AR",
          "AR",
          "AR",
          "AR",
          "AR",
          "AZ",
          "AZ",
          "AZ",
          "AZ",
          "AZ",
          "AZ",
          "AZ",
          "AZ",
          "AZ",
          "CA",
          "CA",
          "CA",
          "CA",
          "CA",
          "CA",
          "CA",
          "CA",
          "CA",
          "CO",
          "CO",
          "CO",
          "CO",
          "CO",
          "CO",
          "CO",
          "CO",
          "CO",
          "CT",
          "CT",
          "CT",
          "CT",
          "CT",
          "CT",
          "CT",
          "CT",
          "CT",
          "DE",
          "DE",
          "DE",
          "DE",
          "DE",
          "DE",
          "DE",
          "DE",
          "DE",
          "FL",
          "FL",
          "FL",
          "FL",
          "FL",
          "FL",
          "FL",
          "FL",
          "FL",
          "GA",
          "GA",
          "GA",
          "GA",
          "GA",
          "GA",
          "GA",
          "GA",
          "GA",
          "HI",
          "HI",
          "HI",
          "HI",
          "HI",
          "HI",
          "HI",
          "HI",
          "HI",
          "IA",
          "IA",
          "IA",
          "IA",
          "IA",
          "IA",
          "IA",
          "IA",
          "IA",
          "ID",
          "ID",
          "ID",
          "ID",
          "ID",
          "ID",
          "ID",
          "ID",
          "ID",
          "IL",
          "IL",
          "IL",
          "IL",
          "IL",
          "IL",
          "IL",
          "IL",
          "IL",
          "IN",
          "IN",
          "IN",
          "IN",
          "IN",
          "IN",
          "IN",
          "IN",
          "IN",
          "KS",
          "KS",
          "KS",
          "KS",
          "KS",
          "KS",
          "KS",
          "KS",
          "KS",
          "KY",
          "KY",
          "KY",
          "KY",
          "KY",
          "KY",
          "KY",
          "KY",
          "KY",
          "LA",
          "LA",
          "LA",
          "LA",
          "LA",
          "LA",
          "LA",
          "LA",
          "LA",
          "MA",
          "MA",
          "MA",
          "MA",
          "MA",
          "MA",
          "MA",
          "MA",
          "MA",
          "MD",
          "MD",
          "MD",
          "MD",
          "MD",
          "MD",
          "MD",
          "MD",
          "MD",
          "ME",
          "ME",
          "ME",
          "ME",
          "ME",
          "ME",
          "ME",
          "ME",
          "ME",
          "MI",
          "MI",
          "MI",
          "MI",
          "MI",
          "MI",
          "MI",
          "MI",
          "MI",
          "MN",
          "MN",
          "MN",
          "MN",
          "MN",
          "MN",
          "MN",
          "MN",
          "MN",
          "MO",
          "MO",
          "MO",
          "MO",
          "MO",
          "MO",
          "MO",
          "MO",
          "MO",
          "MS",
          "MS",
          "MS",
          "MS",
          "MS",
          "MS",
          "MS",
          "MS",
          "MS",
          "MT",
          "MT",
          "MT",
          "MT",
          "MT",
          "MT",
          "MT",
          "MT",
          "MT",
          "NC",
          "NC",
          "NC",
          "NC",
          "NC",
          "NC",
          "NC",
          "NC",
          "NC",
          "ND",
          "ND",
          "ND",
          "ND",
          "ND",
          "ND",
          "ND",
          "ND",
          "ND",
          "NE",
          "NE",
          "NE",
          "NE",
          "NE",
          "NE",
          "NE",
          "NE",
          "NE",
          "NH",
          "NH",
          "NH",
          "NH",
          "NH",
          "NH",
          "NH",
          "NH",
          "NH",
          "NJ",
          "NJ",
          "NJ",
          "NJ",
          "NJ",
          "NJ",
          "NJ",
          "NJ",
          "NJ",
          "NM",
          "NM",
          "NM",
          "NM",
          "NM",
          "NM",
          "NM",
          "NM",
          "NM",
          "NV",
          "NV",
          "NV",
          "NV",
          "NV",
          "NV",
          "NV",
          "NV",
          "NV",
          "NY",
          "NY",
          "NY",
          "NY",
          "NY",
          "NY",
          "NY",
          "NY",
          "NY",
          "OH",
          "OH",
          "OH",
          "OH",
          "OH",
          "OH",
          "OH",
          "OH",
          "OH",
          "OK",
          "OK",
          "OK",
          "OK",
          "OK",
          "OK",
          "OK",
          "OK",
          "OK",
          "OR",
          "OR",
          "OR",
          "OR",
          "OR",
          "OR",
          "OR",
          "OR",
          "OR",
          "PA",
          "PA",
          "PA",
          "PA",
          "PA",
          "PA",
          "PA",
          "PA",
          "PA",
          "RI",
          "RI",
          "RI",
          "RI",
          "RI",
          "RI",
          "RI",
          "RI",
          "RI",
          "SC",
          "SC",
          "SC",
          "SC",
          "SC",
          "SC",
          "SC",
          "SC",
          "SC",
          "SD",
          "SD",
          "SD",
          "SD",
          "SD",
          "SD",
          "SD",
          "SD",
          "SD",
          "TN",
          "TN",
          "TN",
          "TN",
          "TN",
          "TN",
          "TN",
          "TN",
          "TN",
          "TX",
          "TX",
          "TX",
          "TX",
          "TX",
          "TX",
          "TX",
          "TX",
          "TX",
          "UT",
          "UT",
          "UT",
          "UT",
          "UT",
          "UT",
          "UT",
          "UT",
          "UT",
          "VA",
          "VA",
          "VA",
          "VA",
          "VA",
          "VA",
          "VA",
          "VA",
          "VA",
          "VT",
          "VT",
          "VT",
          "VT",
          "VT",
          "VT",
          "VT",
          "VT",
          "VT",
          "WA",
          "WA",
          "WA",
          "WA",
          "WA",
          "WA",
          "WA",
          "WA",
          "WA",
          "WI",
          "WI",
          "WI",
          "WI",
          "WI",
          "WI",
          "WI",
          "WI",
          "WI",
          "WV",
          "WV",
          "WV",
          "WV",
          "WV",
          "WV",
          "WV",
          "WV",
          "WV",
          "WY",
          "WY",
          "WY",
          "WY",
          "WY",
          "WY",
          "WY",
          "WY",
          "WY"
         ],
         "xaxis": "x",
         "y": [
          17.5,
          19.2,
          23.4,
          23.3,
          24.5,
          21,
          24.4,
          23.5,
          25.2,
          16,
          16.9,
          19.6,
          21.5,
          22.9,
          21.8,
          22.2,
          23.6,
          26.4,
          15.7,
          16.6,
          16.9,
          17.8,
          20.3,
          18.9,
          19.3,
          22.6,
          23.3,
          16.1,
          13.5,
          13.8,
          15.2,
          15.8,
          15.3,
          15.1,
          16.7,
          18.3,
          9.5,
          7.4,
          7.7,
          7.9,
          7.9,
          7.5,
          7.2,
          8.5,
          9,
          11.6,
          12.2,
          12.6,
          14.3,
          13.4,
          15.2,
          14.2,
          15.4,
          17.8,
          5.3,
          5,
          5.3,
          4.6,
          5.1,
          4.9,
          5.3,
          6,
          6.7,
          8.8,
          11.1,
          12.1,
          11,
          11.7,
          11.6,
          9.9,
          14.4,
          16.6,
          10,
          11.5,
          12,
          12.6,
          12.4,
          12.9,
          12.7,
          13.7,
          14.1,
          12.1,
          13.7,
          14.1,
          15,
          15.4,
          15.7,
          15.8,
          17.7,
          20.3,
          2.1,
          2.6,
          3.6,
          4.5,
          2.5,
          4,
          4.4,
          3.4,
          4.8,
          6.7,
          7.5,
          7.8,
          9.2,
          9,
          8.7,
          9.1,
          11.2,
          11.2,
          14.1,
          13.2,
          14.7,
          14.6,
          16.4,
          16.6,
          14.2,
          17.6,
          16.3,
          8,
          9,
          9.5,
          11.7,
          12.1,
          10.9,
          10.8,
          14.1,
          16.1,
          11.2,
          12.4,
          12.7,
          15,
          15.3,
          14.7,
          14.1,
          17.3,
          18.4,
          9.3,
          11.3,
          11.4,
          13.4,
          16,
          14.8,
          13.7,
          16.9,
          17.3,
          13,
          13.9,
          15.2,
          17.5,
          16.2,
          16.9,
          14.9,
          20.1,
          21.1,
          18.5,
          19,
          20.4,
          21.3,
          21.7,
          21.4,
          22.1,
          26.3,
          29.1,
          3.4,
          3.2,
          3,
          3.4,
          3.7,
          3.5,
          3.4,
          3.7,
          3.4,
          11.9,
          9,
          11.9,
          11.9,
          12.3,
          11.7,
          12.6,
          13.5,
          15.2,
          7.8,
          9.4,
          9.8,
          8.3,
          11.7,
          10.3,
          11.5,
          10.4,
          12.6,
          10.8,
          11.1,
          11.7,
          12.3,
          11.3,
          12.9,
          12.1,
          14.6,
          15.4,
          7,
          6.6,
          7.4,
          7.6,
          8.2,
          7.8,
          8.1,
          8.9,
          10,
          12.9,
          15.3,
          18.1,
          19,
          21.5,
          21.5,
          20.6,
          23.9,
          23.2,
          16,
          18.3,
          19.6,
          19.9,
          21.5,
          22.9,
          24.2,
          28.6,
          33.9,
          16.9,
          16.1,
          19.2,
          18.9,
          22.5,
          17.3,
          19,
          20.9,
          25.1,
          12.8,
          11.8,
          12.5,
          13.7,
          13.7,
          13.3,
          13.1,
          16,
          17.3,
          8.8,
          12.3,
          12.8,
          11.9,
          13.2,
          11.5,
          12.4,
          13.8,
          16.8,
          7.7,
          9.5,
          8.9,
          9.1,
          8.3,
          9,
          10.4,
          10.1,
          10.3,
          6.6,
          8.7,
          8.9,
          9.3,
          10.4,
          10.8,
          10.7,
          8.9,
          8.3,
          5.2,
          5.3,
          5.4,
          5.5,
          5.3,
          4.8,
          4.1,
          5,
          5.2,
          13.9,
          16,
          18.6,
          18.1,
          18.5,
          20.7,
          22.3,
          22.7,
          27.8,
          16.1,
          14.8,
          14.9,
          16.8,
          16.7,
          17.9,
          15.3,
          17,
          19.8,
          5.3,
          4.2,
          4.2,
          4.4,
          3.7,
          4.1,
          3.9,
          5.3,
          5.4,
          9.6,
          10.3,
          11.9,
          12.9,
          13.7,
          13.1,
          13.3,
          15.2,
          16.5,
          13.2,
          15.7,
          18,
          19.6,
          17.2,
          16.8,
          18.6,
          20.7,
          21.2,
          10.7,
          11.7,
          11.4,
          11.9,
          12.1,
          11.7,
          12.6,
          13,
          14.9,
          10.8,
          10.5,
          11.4,
          12,
          12.5,
          12.5,
          11.7,
          13.6,
          14.8,
          3.6,
          3,
          4.7,
          4.1,
          3.9,
          3.3,
          4.6,
          5.1,
          5.6,
          13.8,
          15.5,
          17.3,
          17.7,
          17.7,
          17.6,
          19.9,
          22,
          22.4,
          10.2,
          10.3,
          11.1,
          13.4,
          11.9,
          13.6,
          13.1,
          13.6,
          14.3,
          16,
          15.1,
          16,
          17.1,
          18.4,
          17.8,
          18.4,
          21.3,
          22.8,
          11.1,
          10.7,
          11.7,
          12.1,
          12.4,
          12.2,
          12.7,
          14.2,
          15.6,
          10.1,
          12.3,
          12.8,
          12.9,
          14,
          13.2,
          12.8,
          13.6,
          13.9,
          11.5,
          10.3,
          10.9,
          12.1,
          11.9,
          11.8,
          11.7,
          13.4,
          14.3,
          6.8,
          10.3,
          9.6,
          11.1,
          11.7,
          12.8,
          9.3,
          11.6,
          11.9,
          8.8,
          9.7,
          9.8,
          9,
          11.1,
          10.4,
          10.7,
          10.9,
          11.2,
          8.5,
          8.2,
          10.4,
          11.4,
          10.6,
          10.1,
          10,
          12.2,
          13.5,
          13.8,
          14.6,
          14,
          17.5,
          18.6,
          18.2,
          16.6,
          18.1,
          17.3,
          13.4,
          16.2,
          19.6,
          17.4,
          18.8,
          21.5,
          22.3,
          25.9,
          26.1
         ],
         "yaxis": "y"
        }
       ],
       "layout": {
        "autosize": true,
        "legend": {
         "tracegroupgap": 0
        },
        "template": {
         "data": {
          "bar": [
           {
            "error_x": {
             "color": "#2a3f5f"
            },
            "error_y": {
             "color": "#2a3f5f"
            },
            "marker": {
             "line": {
              "color": "#E5ECF6",
              "width": 0.5
             },
             "pattern": {
              "fillmode": "overlay",
              "size": 10,
              "solidity": 0.2
             }
            },
            "type": "bar"
           }
          ],
          "barpolar": [
           {
            "marker": {
             "line": {
              "color": "#E5ECF6",
              "width": 0.5
             },
             "pattern": {
              "fillmode": "overlay",
              "size": 10,
              "solidity": 0.2
             }
            },
            "type": "barpolar"
           }
          ],
          "carpet": [
           {
            "aaxis": {
             "endlinecolor": "#2a3f5f",
             "gridcolor": "white",
             "linecolor": "white",
             "minorgridcolor": "white",
             "startlinecolor": "#2a3f5f"
            },
            "baxis": {
             "endlinecolor": "#2a3f5f",
             "gridcolor": "white",
             "linecolor": "white",
             "minorgridcolor": "white",
             "startlinecolor": "#2a3f5f"
            },
            "type": "carpet"
           }
          ],
          "choropleth": [
           {
            "colorbar": {
             "outlinewidth": 0,
             "ticks": ""
            },
            "type": "choropleth"
           }
          ],
          "contour": [
           {
            "colorbar": {
             "outlinewidth": 0,
             "ticks": ""
            },
            "colorscale": [
             [
              0,
              "#0d0887"
             ],
             [
              0.1111111111111111,
              "#46039f"
             ],
             [
              0.2222222222222222,
              "#7201a8"
             ],
             [
              0.3333333333333333,
              "#9c179e"
             ],
             [
              0.4444444444444444,
              "#bd3786"
             ],
             [
              0.5555555555555556,
              "#d8576b"
             ],
             [
              0.6666666666666666,
              "#ed7953"
             ],
             [
              0.7777777777777778,
              "#fb9f3a"
             ],
             [
              0.8888888888888888,
              "#fdca26"
             ],
             [
              1,
              "#f0f921"
             ]
            ],
            "type": "contour"
           }
          ],
          "contourcarpet": [
           {
            "colorbar": {
             "outlinewidth": 0,
             "ticks": ""
            },
            "type": "contourcarpet"
           }
          ],
          "heatmap": [
           {
            "colorbar": {
             "outlinewidth": 0,
             "ticks": ""
            },
            "colorscale": [
             [
              0,
              "#0d0887"
             ],
             [
              0.1111111111111111,
              "#46039f"
             ],
             [
              0.2222222222222222,
              "#7201a8"
             ],
             [
              0.3333333333333333,
              "#9c179e"
             ],
             [
              0.4444444444444444,
              "#bd3786"
             ],
             [
              0.5555555555555556,
              "#d8576b"
             ],
             [
              0.6666666666666666,
              "#ed7953"
             ],
             [
              0.7777777777777778,
              "#fb9f3a"
             ],
             [
              0.8888888888888888,
              "#fdca26"
             ],
             [
              1,
              "#f0f921"
             ]
            ],
            "type": "heatmap"
           }
          ],
          "heatmapgl": [
           {
            "colorbar": {
             "outlinewidth": 0,
             "ticks": ""
            },
            "colorscale": [
             [
              0,
              "#0d0887"
             ],
             [
              0.1111111111111111,
              "#46039f"
             ],
             [
              0.2222222222222222,
              "#7201a8"
             ],
             [
              0.3333333333333333,
              "#9c179e"
             ],
             [
              0.4444444444444444,
              "#bd3786"
             ],
             [
              0.5555555555555556,
              "#d8576b"
             ],
             [
              0.6666666666666666,
              "#ed7953"
             ],
             [
              0.7777777777777778,
              "#fb9f3a"
             ],
             [
              0.8888888888888888,
              "#fdca26"
             ],
             [
              1,
              "#f0f921"
             ]
            ],
            "type": "heatmapgl"
           }
          ],
          "histogram": [
           {
            "marker": {
             "pattern": {
              "fillmode": "overlay",
              "size": 10,
              "solidity": 0.2
             }
            },
            "type": "histogram"
           }
          ],
          "histogram2d": [
           {
            "colorbar": {
             "outlinewidth": 0,
             "ticks": ""
            },
            "colorscale": [
             [
              0,
              "#0d0887"
             ],
             [
              0.1111111111111111,
              "#46039f"
             ],
             [
              0.2222222222222222,
              "#7201a8"
             ],
             [
              0.3333333333333333,
              "#9c179e"
             ],
             [
              0.4444444444444444,
              "#bd3786"
             ],
             [
              0.5555555555555556,
              "#d8576b"
             ],
             [
              0.6666666666666666,
              "#ed7953"
             ],
             [
              0.7777777777777778,
              "#fb9f3a"
             ],
             [
              0.8888888888888888,
              "#fdca26"
             ],
             [
              1,
              "#f0f921"
             ]
            ],
            "type": "histogram2d"
           }
          ],
          "histogram2dcontour": [
           {
            "colorbar": {
             "outlinewidth": 0,
             "ticks": ""
            },
            "colorscale": [
             [
              0,
              "#0d0887"
             ],
             [
              0.1111111111111111,
              "#46039f"
             ],
             [
              0.2222222222222222,
              "#7201a8"
             ],
             [
              0.3333333333333333,
              "#9c179e"
             ],
             [
              0.4444444444444444,
              "#bd3786"
             ],
             [
              0.5555555555555556,
              "#d8576b"
             ],
             [
              0.6666666666666666,
              "#ed7953"
             ],
             [
              0.7777777777777778,
              "#fb9f3a"
             ],
             [
              0.8888888888888888,
              "#fdca26"
             ],
             [
              1,
              "#f0f921"
             ]
            ],
            "type": "histogram2dcontour"
           }
          ],
          "mesh3d": [
           {
            "colorbar": {
             "outlinewidth": 0,
             "ticks": ""
            },
            "type": "mesh3d"
           }
          ],
          "parcoords": [
           {
            "line": {
             "colorbar": {
              "outlinewidth": 0,
              "ticks": ""
             }
            },
            "type": "parcoords"
           }
          ],
          "pie": [
           {
            "automargin": true,
            "type": "pie"
           }
          ],
          "scatter": [
           {
            "fillpattern": {
             "fillmode": "overlay",
             "size": 10,
             "solidity": 0.2
            },
            "type": "scatter"
           }
          ],
          "scatter3d": [
           {
            "line": {
             "colorbar": {
              "outlinewidth": 0,
              "ticks": ""
             }
            },
            "marker": {
             "colorbar": {
              "outlinewidth": 0,
              "ticks": ""
             }
            },
            "type": "scatter3d"
           }
          ],
          "scattercarpet": [
           {
            "marker": {
             "colorbar": {
              "outlinewidth": 0,
              "ticks": ""
             }
            },
            "type": "scattercarpet"
           }
          ],
          "scattergeo": [
           {
            "marker": {
             "colorbar": {
              "outlinewidth": 0,
              "ticks": ""
             }
            },
            "type": "scattergeo"
           }
          ],
          "scattergl": [
           {
            "marker": {
             "colorbar": {
              "outlinewidth": 0,
              "ticks": ""
             }
            },
            "type": "scattergl"
           }
          ],
          "scattermapbox": [
           {
            "marker": {
             "colorbar": {
              "outlinewidth": 0,
              "ticks": ""
             }
            },
            "type": "scattermapbox"
           }
          ],
          "scatterpolar": [
           {
            "marker": {
             "colorbar": {
              "outlinewidth": 0,
              "ticks": ""
             }
            },
            "type": "scatterpolar"
           }
          ],
          "scatterpolargl": [
           {
            "marker": {
             "colorbar": {
              "outlinewidth": 0,
              "ticks": ""
             }
            },
            "type": "scatterpolargl"
           }
          ],
          "scatterternary": [
           {
            "marker": {
             "colorbar": {
              "outlinewidth": 0,
              "ticks": ""
             }
            },
            "type": "scatterternary"
           }
          ],
          "surface": [
           {
            "colorbar": {
             "outlinewidth": 0,
             "ticks": ""
            },
            "colorscale": [
             [
              0,
              "#0d0887"
             ],
             [
              0.1111111111111111,
              "#46039f"
             ],
             [
              0.2222222222222222,
              "#7201a8"
             ],
             [
              0.3333333333333333,
              "#9c179e"
             ],
             [
              0.4444444444444444,
              "#bd3786"
             ],
             [
              0.5555555555555556,
              "#d8576b"
             ],
             [
              0.6666666666666666,
              "#ed7953"
             ],
             [
              0.7777777777777778,
              "#fb9f3a"
             ],
             [
              0.8888888888888888,
              "#fdca26"
             ],
             [
              1,
              "#f0f921"
             ]
            ],
            "type": "surface"
           }
          ],
          "table": [
           {
            "cells": {
             "fill": {
              "color": "#EBF0F8"
             },
             "line": {
              "color": "white"
             }
            },
            "header": {
             "fill": {
              "color": "#C8D4E3"
             },
             "line": {
              "color": "white"
             }
            },
            "type": "table"
           }
          ]
         },
         "layout": {
          "annotationdefaults": {
           "arrowcolor": "#2a3f5f",
           "arrowhead": 0,
           "arrowwidth": 1
          },
          "autotypenumbers": "strict",
          "coloraxis": {
           "colorbar": {
            "outlinewidth": 0,
            "ticks": ""
           }
          },
          "colorscale": {
           "diverging": [
            [
             0,
             "#8e0152"
            ],
            [
             0.1,
             "#c51b7d"
            ],
            [
             0.2,
             "#de77ae"
            ],
            [
             0.3,
             "#f1b6da"
            ],
            [
             0.4,
             "#fde0ef"
            ],
            [
             0.5,
             "#f7f7f7"
            ],
            [
             0.6,
             "#e6f5d0"
            ],
            [
             0.7,
             "#b8e186"
            ],
            [
             0.8,
             "#7fbc41"
            ],
            [
             0.9,
             "#4d9221"
            ],
            [
             1,
             "#276419"
            ]
           ],
           "sequential": [
            [
             0,
             "#0d0887"
            ],
            [
             0.1111111111111111,
             "#46039f"
            ],
            [
             0.2222222222222222,
             "#7201a8"
            ],
            [
             0.3333333333333333,
             "#9c179e"
            ],
            [
             0.4444444444444444,
             "#bd3786"
            ],
            [
             0.5555555555555556,
             "#d8576b"
            ],
            [
             0.6666666666666666,
             "#ed7953"
            ],
            [
             0.7777777777777778,
             "#fb9f3a"
            ],
            [
             0.8888888888888888,
             "#fdca26"
            ],
            [
             1,
             "#f0f921"
            ]
           ],
           "sequentialminus": [
            [
             0,
             "#0d0887"
            ],
            [
             0.1111111111111111,
             "#46039f"
            ],
            [
             0.2222222222222222,
             "#7201a8"
            ],
            [
             0.3333333333333333,
             "#9c179e"
            ],
            [
             0.4444444444444444,
             "#bd3786"
            ],
            [
             0.5555555555555556,
             "#d8576b"
            ],
            [
             0.6666666666666666,
             "#ed7953"
            ],
            [
             0.7777777777777778,
             "#fb9f3a"
            ],
            [
             0.8888888888888888,
             "#fdca26"
            ],
            [
             1,
             "#f0f921"
            ]
           ]
          },
          "colorway": [
           "#636efa",
           "#EF553B",
           "#00cc96",
           "#ab63fa",
           "#FFA15A",
           "#19d3f3",
           "#FF6692",
           "#B6E880",
           "#FF97FF",
           "#FECB52"
          ],
          "font": {
           "color": "#2a3f5f"
          },
          "geo": {
           "bgcolor": "white",
           "lakecolor": "white",
           "landcolor": "#E5ECF6",
           "showlakes": true,
           "showland": true,
           "subunitcolor": "white"
          },
          "hoverlabel": {
           "align": "left"
          },
          "hovermode": "closest",
          "mapbox": {
           "style": "light"
          },
          "paper_bgcolor": "white",
          "plot_bgcolor": "#E5ECF6",
          "polar": {
           "angularaxis": {
            "gridcolor": "white",
            "linecolor": "white",
            "ticks": ""
           },
           "bgcolor": "#E5ECF6",
           "radialaxis": {
            "gridcolor": "white",
            "linecolor": "white",
            "ticks": ""
           }
          },
          "scene": {
           "xaxis": {
            "backgroundcolor": "#E5ECF6",
            "gridcolor": "white",
            "gridwidth": 2,
            "linecolor": "white",
            "showbackground": true,
            "ticks": "",
            "zerolinecolor": "white"
           },
           "yaxis": {
            "backgroundcolor": "#E5ECF6",
            "gridcolor": "white",
            "gridwidth": 2,
            "linecolor": "white",
            "showbackground": true,
            "ticks": "",
            "zerolinecolor": "white"
           },
           "zaxis": {
            "backgroundcolor": "#E5ECF6",
            "gridcolor": "white",
            "gridwidth": 2,
            "linecolor": "white",
            "showbackground": true,
            "ticks": "",
            "zerolinecolor": "white"
           }
          },
          "shapedefaults": {
           "line": {
            "color": "#2a3f5f"
           }
          },
          "ternary": {
           "aaxis": {
            "gridcolor": "white",
            "linecolor": "white",
            "ticks": ""
           },
           "baxis": {
            "gridcolor": "white",
            "linecolor": "white",
            "ticks": ""
           },
           "bgcolor": "#E5ECF6",
           "caxis": {
            "gridcolor": "white",
            "linecolor": "white",
            "ticks": ""
           }
          },
          "title": {
           "x": 0.05
          },
          "xaxis": {
           "automargin": true,
           "gridcolor": "white",
           "linecolor": "white",
           "ticks": "",
           "title": {
            "standoff": 15
           },
           "zerolinecolor": "white",
           "zerolinewidth": 2
          },
          "yaxis": {
           "automargin": true,
           "gridcolor": "white",
           "linecolor": "white",
           "ticks": "",
           "title": {
            "standoff": 15
           },
           "zerolinecolor": "white",
           "zerolinewidth": 2
          }
         }
        },
        "title": {
         "text": "Firearm Mortality Rates by State"
        },
        "xaxis": {
         "anchor": "y",
         "autorange": true,
         "domain": [
          0,
          1
         ],
         "range": [
          -3.257671125098348,
          52.25767112509835
         ],
         "title": {
          "text": "STATE"
         },
         "type": "category"
        },
        "yaxis": {
         "anchor": "x",
         "autorange": true,
         "domain": [
          0,
          1
         ],
         "range": [
          -0.5242718446601935,
          36.52427184466019
         ],
         "title": {
          "text": "Mortality Rate"
         },
         "type": "linear"
        }
       }
      },
      "image/png": "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",
      "text/html": [
       "<div>                            <div id=\"388a276a-c083-4bfc-80ab-66d96b1aa420\" class=\"plotly-graph-div\" style=\"height:525px; width:100%;\"></div>            <script type=\"text/javascript\">                require([\"plotly\"], function(Plotly) {                    window.PLOTLYENV=window.PLOTLYENV || {};                                    if (document.getElementById(\"388a276a-c083-4bfc-80ab-66d96b1aa420\")) {                    Plotly.newPlot(                        \"388a276a-c083-4bfc-80ab-66d96b1aa420\",                        [{\"hovertemplate\":\"STATE=%{x}<br>Mortality Rate=%{y}<extra></extra>\",\"legendgroup\":\"\",\"marker\":{\"color\":\"#636efa\",\"symbol\":\"circle\"},\"mode\":\"markers\",\"name\":\"\",\"orientation\":\"v\",\"showlegend\":false,\"x\":[\"AK\",\"AK\",\"AK\",\"AK\",\"AK\",\"AK\",\"AK\",\"AK\",\"AK\",\"AL\",\"AL\",\"AL\",\"AL\",\"AL\",\"AL\",\"AL\",\"AL\",\"AL\",\"AR\",\"AR\",\"AR\",\"AR\",\"AR\",\"AR\",\"AR\",\"AR\",\"AR\",\"AZ\",\"AZ\",\"AZ\",\"AZ\",\"AZ\",\"AZ\",\"AZ\",\"AZ\",\"AZ\",\"CA\",\"CA\",\"CA\",\"CA\",\"CA\",\"CA\",\"CA\",\"CA\",\"CA\",\"CO\",\"CO\",\"CO\",\"CO\",\"CO\",\"CO\",\"CO\",\"CO\",\"CO\",\"CT\",\"CT\",\"CT\",\"CT\",\"CT\",\"CT\",\"CT\",\"CT\",\"CT\",\"DE\",\"DE\",\"DE\",\"DE\",\"DE\",\"DE\",\"DE\",\"DE\",\"DE\",\"FL\",\"FL\",\"FL\",\"FL\",\"FL\",\"FL\",\"FL\",\"FL\",\"FL\",\"GA\",\"GA\",\"GA\",\"GA\",\"GA\",\"GA\",\"GA\",\"GA\",\"GA\",\"HI\",\"HI\",\"HI\",\"HI\",\"HI\",\"HI\",\"HI\",\"HI\",\"HI\",\"IA\",\"IA\",\"IA\",\"IA\",\"IA\",\"IA\",\"IA\",\"IA\",\"IA\",\"ID\",\"ID\",\"ID\",\"ID\",\"ID\",\"ID\",\"ID\",\"ID\",\"ID\",\"IL\",\"IL\",\"IL\",\"IL\",\"IL\",\"IL\",\"IL\",\"IL\",\"IL\",\"IN\",\"IN\",\"IN\",\"IN\",\"IN\",\"IN\",\"IN\",\"IN\",\"IN\",\"KS\",\"KS\",\"KS\",\"KS\",\"KS\",\"KS\",\"KS\",\"KS\",\"KS\",\"KY\",\"KY\",\"KY\",\"KY\",\"KY\",\"KY\",\"KY\",\"KY\",\"KY\",\"LA\",\"LA\",\"LA\",\"LA\",\"LA\",\"LA\",\"LA\",\"LA\",\"LA\",\"MA\",\"MA\",\"MA\",\"MA\",\"MA\",\"MA\",\"MA\",\"MA\",\"MA\",\"MD\",\"MD\",\"MD\",\"MD\",\"MD\",\"MD\",\"MD\",\"MD\",\"MD\",\"ME\",\"ME\",\"ME\",\"ME\",\"ME\",\"ME\",\"ME\",\"ME\",\"ME\",\"MI\",\"MI\",\"MI\",\"MI\",\"MI\",\"MI\",\"MI\",\"MI\",\"MI\",\"MN\",\"MN\",\"MN\",\"MN\",\"MN\",\"MN\",\"MN\",\"MN\",\"MN\",\"MO\",\"MO\",\"MO\",\"MO\",\"MO\",\"MO\",\"MO\",\"MO\",\"MO\",\"MS\",\"MS\",\"MS\",\"MS\",\"MS\",\"MS\",\"MS\",\"MS\",\"MS\",\"MT\",\"MT\",\"MT\",\"MT\",\"MT\",\"MT\",\"MT\",\"MT\",\"MT\",\"NC\",\"NC\",\"NC\",\"NC\",\"NC\",\"NC\",\"NC\",\"NC\",\"NC\",\"ND\",\"ND\",\"ND\",\"ND\",\"ND\",\"ND\",\"ND\",\"ND\",\"ND\",\"NE\",\"NE\",\"NE\",\"NE\",\"NE\",\"NE\",\"NE\",\"NE\",\"NE\",\"NH\",\"NH\",\"NH\",\"NH\",\"NH\",\"NH\",\"NH\",\"NH\",\"NH\",\"NJ\",\"NJ\",\"NJ\",\"NJ\",\"NJ\",\"NJ\",\"NJ\",\"NJ\",\"NJ\",\"NM\",\"NM\",\"NM\",\"NM\",\"NM\",\"NM\",\"NM\",\"NM\",\"NM\",\"NV\",\"NV\",\"NV\",\"NV\",\"NV\",\"NV\",\"NV\",\"NV\",\"NV\",\"NY\",\"NY\",\"NY\",\"NY\",\"NY\",\"NY\",\"NY\",\"NY\",\"NY\",\"OH\",\"OH\",\"OH\",\"OH\",\"OH\",\"OH\",\"OH\",\"OH\",\"OH\",\"OK\",\"OK\",\"OK\",\"OK\",\"OK\",\"OK\",\"OK\",\"OK\",\"OK\",\"OR\",\"OR\",\"OR\",\"OR\",\"OR\",\"OR\",\"OR\",\"OR\",\"OR\",\"PA\",\"PA\",\"PA\",\"PA\",\"PA\",\"PA\",\"PA\",\"PA\",\"PA\",\"RI\",\"RI\",\"RI\",\"RI\",\"RI\",\"RI\",\"RI\",\"RI\",\"RI\",\"SC\",\"SC\",\"SC\",\"SC\",\"SC\",\"SC\",\"SC\",\"SC\",\"SC\",\"SD\",\"SD\",\"SD\",\"SD\",\"SD\",\"SD\",\"SD\",\"SD\",\"SD\",\"TN\",\"TN\",\"TN\",\"TN\",\"TN\",\"TN\",\"TN\",\"TN\",\"TN\",\"TX\",\"TX\",\"TX\",\"TX\",\"TX\",\"TX\",\"TX\",\"TX\",\"TX\",\"UT\",\"UT\",\"UT\",\"UT\",\"UT\",\"UT\",\"UT\",\"UT\",\"UT\",\"VA\",\"VA\",\"VA\",\"VA\",\"VA\",\"VA\",\"VA\",\"VA\",\"VA\",\"VT\",\"VT\",\"VT\",\"VT\",\"VT\",\"VT\",\"VT\",\"VT\",\"VT\",\"WA\",\"WA\",\"WA\",\"WA\",\"WA\",\"WA\",\"WA\",\"WA\",\"WA\",\"WI\",\"WI\",\"WI\",\"WI\",\"WI\",\"WI\",\"WI\",\"WI\",\"WI\",\"WV\",\"WV\",\"WV\",\"WV\",\"WV\",\"WV\",\"WV\",\"WV\",\"WV\",\"WY\",\"WY\",\"WY\",\"WY\",\"WY\",\"WY\",\"WY\",\"WY\",\"WY\"],\"xaxis\":\"x\",\"y\":[17.5,19.2,23.4,23.3,24.5,21.0,24.4,23.5,25.2,16.0,16.9,19.6,21.5,22.9,21.8,22.2,23.6,26.4,15.7,16.6,16.9,17.8,20.3,18.9,19.3,22.6,23.3,16.1,13.5,13.8,15.2,15.8,15.3,15.1,16.7,18.3,9.5,7.4,7.7,7.9,7.9,7.5,7.2,8.5,9.0,11.6,12.2,12.6,14.3,13.4,15.2,14.2,15.4,17.8,5.3,5.0,5.3,4.6,5.1,4.9,5.3,6.0,6.7,8.8,11.1,12.1,11.0,11.7,11.6,9.9,14.4,16.6,10.0,11.5,12.0,12.6,12.4,12.9,12.7,13.7,14.1,12.1,13.7,14.1,15.0,15.4,15.7,15.8,17.7,20.3,2.1,2.6,3.6,4.5,2.5,4.0,4.4,3.4,4.8,6.7,7.5,7.8,9.2,9.0,8.7,9.1,11.2,11.2,14.1,13.2,14.7,14.6,16.4,16.6,14.2,17.6,16.3,8.0,9.0,9.5,11.7,12.1,10.9,10.8,14.1,16.1,11.2,12.4,12.7,15.0,15.3,14.7,14.1,17.3,18.4,9.3,11.3,11.4,13.4,16.0,14.8,13.7,16.9,17.3,13.0,13.9,15.2,17.5,16.2,16.9,14.9,20.1,21.1,18.5,19.0,20.4,21.3,21.7,21.4,22.1,26.3,29.1,3.4,3.2,3.0,3.4,3.7,3.5,3.4,3.7,3.4,11.9,9.0,11.9,11.9,12.3,11.7,12.6,13.5,15.2,7.8,9.4,9.8,8.3,11.7,10.3,11.5,10.4,12.6,10.8,11.1,11.7,12.3,11.3,12.9,12.1,14.6,15.4,7.0,6.6,7.4,7.6,8.2,7.8,8.1,8.9,10.0,12.9,15.3,18.1,19.0,21.5,21.5,20.6,23.9,23.2,16.0,18.3,19.6,19.9,21.5,22.9,24.2,28.6,33.9,16.9,16.1,19.2,18.9,22.5,17.3,19.0,20.9,25.1,12.8,11.8,12.5,13.7,13.7,13.3,13.1,16.0,17.3,8.8,12.3,12.8,11.9,13.2,11.5,12.4,13.8,16.8,7.7,9.5,8.9,9.1,8.3,9.0,10.4,10.1,10.3,6.6,8.7,8.9,9.3,10.4,10.8,10.7,8.9,8.3,5.2,5.3,5.4,5.5,5.3,4.8,4.1,5.0,5.2,13.9,16.0,18.6,18.1,18.5,20.7,22.3,22.7,27.8,16.1,14.8,14.9,16.8,16.7,17.9,15.3,17.0,19.8,5.3,4.2,4.2,4.4,3.7,4.1,3.9,5.3,5.4,9.6,10.3,11.9,12.9,13.7,13.1,13.3,15.2,16.5,13.2,15.7,18.0,19.6,17.2,16.8,18.6,20.7,21.2,10.7,11.7,11.4,11.9,12.1,11.7,12.6,13.0,14.9,10.8,10.5,11.4,12.0,12.5,12.5,11.7,13.6,14.8,3.6,3.0,4.7,4.1,3.9,3.3,4.6,5.1,5.6,13.8,15.5,17.3,17.7,17.7,17.6,19.9,22.0,22.4,10.2,10.3,11.1,13.4,11.9,13.6,13.1,13.6,14.3,16.0,15.1,16.0,17.1,18.4,17.8,18.4,21.3,22.8,11.1,10.7,11.7,12.1,12.4,12.2,12.7,14.2,15.6,10.1,12.3,12.8,12.9,14.0,13.2,12.8,13.6,13.9,11.5,10.3,10.9,12.1,11.9,11.8,11.7,13.4,14.3,6.8,10.3,9.6,11.1,11.7,12.8,9.3,11.6,11.9,8.8,9.7,9.8,9.0,11.1,10.4,10.7,10.9,11.2,8.5,8.2,10.4,11.4,10.6,10.1,10.0,12.2,13.5,13.8,14.6,14.0,17.5,18.6,18.2,16.6,18.1,17.3,13.4,16.2,19.6,17.4,18.8,21.5,22.3,25.9,26.1],\"yaxis\":\"y\",\"type\":\"scatter\"}],                        {\"template\":{\"data\":{\"histogram2dcontour\":[{\"type\":\"histogram2dcontour\",\"colorbar\":{\"outlinewidth\":0,\"ticks\":\"\"},\"colorscale\":[[0.0,\"#0d0887\"],[0.1111111111111111,\"#46039f\"],[0.2222222222222222,\"#7201a8\"],[0.3333333333333333,\"#9c179e\"],[0.4444444444444444,\"#bd3786\"],[0.5555555555555556,\"#d8576b\"],[0.6666666666666666,\"#ed7953\"],[0.7777777777777778,\"#fb9f3a\"],[0.8888888888888888,\"#fdca26\"],[1.0,\"#f0f921\"]]}],\"choropleth\":[{\"type\":\"choropleth\",\"colorbar\":{\"outlinewidth\":0,\"ticks\":\"\"}}],\"histogram2d\":[{\"type\":\"histogram2d\",\"colorbar\":{\"outlinewidth\":0,\"ticks\":\"\"},\"colorscale\":[[0.0,\"#0d0887\"],[0.1111111111111111,\"#46039f\"],[0.2222222222222222,\"#7201a8\"],[0.3333333333333333,\"#9c179e\"],[0.4444444444444444,\"#bd3786\"],[0.5555555555555556,\"#d8576b\"],[0.6666666666666666,\"#ed7953\"],[0.7777777777777778,\"#fb9f3a\"],[0.8888888888888888,\"#fdca26\"],[1.0,\"#f0f921\"]]}],\"heatmap\":[{\"type\":\"heatmap\",\"colorbar\":{\"outlinewidth\":0,\"ticks\":\"\"},\"colorscale\":[[0.0,\"#0d0887\"],[0.1111111111111111,\"#46039f\"],[0.2222222222222222,\"#7201a8\"],[0.3333333333333333,\"#9c179e\"],[0.4444444444444444,\"#bd3786\"],[0.5555555555555556,\"#d8576b\"],[0.6666666666666666,\"#ed7953\"],[0.7777777777777778,\"#fb9f3a\"],[0.8888888888888888,\"#fdca26\"],[1.0,\"#f0f921\"]]}],\"heatmapgl\":[{\"type\":\"heatmapgl\",\"colorbar\":{\"outlinewidth\":0,\"ticks\":\"\"},\"colorscale\":[[0.0,\"#0d0887\"],[0.1111111111111111,\"#46039f\"],[0.2222222222222222,\"#7201a8\"],[0.3333333333333333,\"#9c179e\"],[0.4444444444444444,\"#bd3786\"],[0.5555555555555556,\"#d8576b\"],[0.6666666666666666,\"#ed7953\"],[0.7777777777777778,\"#fb9f3a\"],[0.8888888888888888,\"#fdca26\"],[1.0,\"#f0f921\"]]}],\"contourcarpet\":[{\"type\":\"contourcarpet\",\"colorbar\":{\"outlinewidth\":0,\"ticks\":\"\"}}],\"contour\":[{\"type\":\"contour\",\"colorbar\":{\"outlinewidth\":0,\"ticks\":\"\"},\"colorscale\":[[0.0,\"#0d0887\"],[0.1111111111111111,\"#46039f\"],[0.2222222222222222,\"#7201a8\"],[0.3333333333333333,\"#9c179e\"],[0.4444444444444444,\"#bd3786\"],[0.5555555555555556,\"#d8576b\"],[0.6666666666666666,\"#ed7953\"],[0.7777777777777778,\"#fb9f3a\"],[0.8888888888888888,\"#fdca26\"],[1.0,\"#f0f921\"]]}],\"surface\":[{\"type\":\"surface\",\"colorbar\":{\"outlinewidth\":0,\"ticks\":\"\"},\"colorscale\":[[0.0,\"#0d0887\"],[0.1111111111111111,\"#46039f\"],[0.2222222222222222,\"#7201a8\"],[0.3333333333333333,\"#9c179e\"],[0.4444444444444444,\"#bd3786\"],[0.5555555555555556,\"#d8576b\"],[0.6666666666666666,\"#ed7953\"],[0.7777777777777778,\"#fb9f3a\"],[0.8888888888888888,\"#fdca26\"],[1.0,\"#f0f921\"]]}],\"mesh3d\":[{\"type\":\"mesh3d\",\"colorbar\":{\"outlinewidth\":0,\"ticks\":\"\"}}],\"scatter\":[{\"fillpattern\":{\"fillmode\":\"overlay\",\"size\":10,\"solidity\":0.2},\"type\":\"scatter\"}],\"parcoords\":[{\"type\":\"parcoords\",\"line\":{\"colorbar\":{\"outlinewidth\":0,\"ticks\":\"\"}}}],\"scatterpolargl\":[{\"type\":\"scatterpolargl\",\"marker\":{\"colorbar\":{\"outlinewidth\":0,\"ticks\":\"\"}}}],\"bar\":[{\"error_x\":{\"color\":\"#2a3f5f\"},\"error_y\":{\"color\":\"#2a3f5f\"},\"marker\":{\"line\":{\"color\":\"#E5ECF6\",\"width\":0.5},\"pattern\":{\"fillmode\":\"overlay\",\"size\":10,\"solidity\":0.2}},\"type\":\"bar\"}],\"scattergeo\":[{\"type\":\"scattergeo\",\"marker\":{\"colorbar\":{\"outlinewidth\":0,\"ticks\":\"\"}}}],\"scatterpolar\":[{\"type\":\"scatterpolar\",\"marker\":{\"colorbar\":{\"outlinewidth\":0,\"ticks\":\"\"}}}],\"histogram\":[{\"marker\":{\"pattern\":{\"fillmode\":\"overlay\",\"size\":10,\"solidity\":0.2}},\"type\":\"histogram\"}],\"scattergl\":[{\"type\":\"scattergl\",\"marker\":{\"colorbar\":{\"outlinewidth\":0,\"ticks\":\"\"}}}],\"scatter3d\":[{\"type\":\"scatter3d\",\"line\":{\"colorbar\":{\"outlinewidth\":0,\"ticks\":\"\"}},\"marker\":{\"colorbar\":{\"outlinewidth\":0,\"ticks\":\"\"}}}],\"scattermapbox\":[{\"type\":\"scattermapbox\",\"marker\":{\"colorbar\":{\"outlinewidth\":0,\"ticks\":\"\"}}}],\"scatterternary\":[{\"type\":\"scatterternary\",\"marker\":{\"colorbar\":{\"outlinewidth\":0,\"ticks\":\"\"}}}],\"scattercarpet\":[{\"type\":\"scattercarpet\",\"marker\":{\"colorbar\":{\"outlinewidth\":0,\"ticks\":\"\"}}}],\"carpet\":[{\"aaxis\":{\"endlinecolor\":\"#2a3f5f\",\"gridcolor\":\"white\",\"linecolor\":\"white\",\"minorgridcolor\":\"white\",\"startlinecolor\":\"#2a3f5f\"},\"baxis\":{\"endlinecolor\":\"#2a3f5f\",\"gridcolor\":\"white\",\"linecolor\":\"white\",\"minorgridcolor\":\"white\",\"startlinecolor\":\"#2a3f5f\"},\"type\":\"carpet\"}],\"table\":[{\"cells\":{\"fill\":{\"color\":\"#EBF0F8\"},\"line\":{\"color\":\"white\"}},\"header\":{\"fill\":{\"color\":\"#C8D4E3\"},\"line\":{\"color\":\"white\"}},\"type\":\"table\"}],\"barpolar\":[{\"marker\":{\"line\":{\"color\":\"#E5ECF6\",\"width\":0.5},\"pattern\":{\"fillmode\":\"overlay\",\"size\":10,\"solidity\":0.2}},\"type\":\"barpolar\"}],\"pie\":[{\"automargin\":true,\"type\":\"pie\"}]},\"layout\":{\"autotypenumbers\":\"strict\",\"colorway\":[\"#636efa\",\"#EF553B\",\"#00cc96\",\"#ab63fa\",\"#FFA15A\",\"#19d3f3\",\"#FF6692\",\"#B6E880\",\"#FF97FF\",\"#FECB52\"],\"font\":{\"color\":\"#2a3f5f\"},\"hovermode\":\"closest\",\"hoverlabel\":{\"align\":\"left\"},\"paper_bgcolor\":\"white\",\"plot_bgcolor\":\"#E5ECF6\",\"polar\":{\"bgcolor\":\"#E5ECF6\",\"angularaxis\":{\"gridcolor\":\"white\",\"linecolor\":\"white\",\"ticks\":\"\"},\"radialaxis\":{\"gridcolor\":\"white\",\"linecolor\":\"white\",\"ticks\":\"\"}},\"ternary\":{\"bgcolor\":\"#E5ECF6\",\"aaxis\":{\"gridcolor\":\"white\",\"linecolor\":\"white\",\"ticks\":\"\"},\"baxis\":{\"gridcolor\":\"white\",\"linecolor\":\"white\",\"ticks\":\"\"},\"caxis\":{\"gridcolor\":\"white\",\"linecolor\":\"white\",\"ticks\":\"\"}},\"coloraxis\":{\"colorbar\":{\"outlinewidth\":0,\"ticks\":\"\"}},\"colorscale\":{\"sequential\":[[0.0,\"#0d0887\"],[0.1111111111111111,\"#46039f\"],[0.2222222222222222,\"#7201a8\"],[0.3333333333333333,\"#9c179e\"],[0.4444444444444444,\"#bd3786\"],[0.5555555555555556,\"#d8576b\"],[0.6666666666666666,\"#ed7953\"],[0.7777777777777778,\"#fb9f3a\"],[0.8888888888888888,\"#fdca26\"],[1.0,\"#f0f921\"]],\"sequentialminus\":[[0.0,\"#0d0887\"],[0.1111111111111111,\"#46039f\"],[0.2222222222222222,\"#7201a8\"],[0.3333333333333333,\"#9c179e\"],[0.4444444444444444,\"#bd3786\"],[0.5555555555555556,\"#d8576b\"],[0.6666666666666666,\"#ed7953\"],[0.7777777777777778,\"#fb9f3a\"],[0.8888888888888888,\"#fdca26\"],[1.0,\"#f0f921\"]],\"diverging\":[[0,\"#8e0152\"],[0.1,\"#c51b7d\"],[0.2,\"#de77ae\"],[0.3,\"#f1b6da\"],[0.4,\"#fde0ef\"],[0.5,\"#f7f7f7\"],[0.6,\"#e6f5d0\"],[0.7,\"#b8e186\"],[0.8,\"#7fbc41\"],[0.9,\"#4d9221\"],[1,\"#276419\"]]},\"xaxis\":{\"gridcolor\":\"white\",\"linecolor\":\"white\",\"ticks\":\"\",\"title\":{\"standoff\":15},\"zerolinecolor\":\"white\",\"automargin\":true,\"zerolinewidth\":2},\"yaxis\":{\"gridcolor\":\"white\",\"linecolor\":\"white\",\"ticks\":\"\",\"title\":{\"standoff\":15},\"zerolinecolor\":\"white\",\"automargin\":true,\"zerolinewidth\":2},\"scene\":{\"xaxis\":{\"backgroundcolor\":\"#E5ECF6\",\"gridcolor\":\"white\",\"linecolor\":\"white\",\"showbackground\":true,\"ticks\":\"\",\"zerolinecolor\":\"white\",\"gridwidth\":2},\"yaxis\":{\"backgroundcolor\":\"#E5ECF6\",\"gridcolor\":\"white\",\"linecolor\":\"white\",\"showbackground\":true,\"ticks\":\"\",\"zerolinecolor\":\"white\",\"gridwidth\":2},\"zaxis\":{\"backgroundcolor\":\"#E5ECF6\",\"gridcolor\":\"white\",\"linecolor\":\"white\",\"showbackground\":true,\"ticks\":\"\",\"zerolinecolor\":\"white\",\"gridwidth\":2}},\"shapedefaults\":{\"line\":{\"color\":\"#2a3f5f\"}},\"annotationdefaults\":{\"arrowcolor\":\"#2a3f5f\",\"arrowhead\":0,\"arrowwidth\":1},\"geo\":{\"bgcolor\":\"white\",\"landcolor\":\"#E5ECF6\",\"subunitcolor\":\"white\",\"showland\":true,\"showlakes\":true,\"lakecolor\":\"white\"},\"title\":{\"x\":0.05},\"mapbox\":{\"style\":\"light\"}}},\"xaxis\":{\"anchor\":\"y\",\"domain\":[0.0,1.0],\"title\":{\"text\":\"STATE\"}},\"yaxis\":{\"anchor\":\"x\",\"domain\":[0.0,1.0],\"title\":{\"text\":\"Mortality Rate\"}},\"legend\":{\"tracegroupgap\":0},\"title\":{\"text\":\"Firearm Mortality Rates by State\"}},                        {\"responsive\": true}                    ).then(function(){\n",
       "                            \n",
       "var gd = document.getElementById('388a276a-c083-4bfc-80ab-66d96b1aa420');\n",
       "var x = new MutationObserver(function (mutations, observer) {{\n",
       "        var display = window.getComputedStyle(gd).display;\n",
       "        if (!display || display === 'none') {{\n",
       "            console.log([gd, 'removed!']);\n",
       "            Plotly.purge(gd);\n",
       "            observer.disconnect();\n",
       "        }}\n",
       "}});\n",
       "\n",
       "// Listen for the removal of the full notebook cells\n",
       "var notebookContainer = gd.closest('#notebook-container');\n",
       "if (notebookContainer) {{\n",
       "    x.observe(notebookContainer, {childList: true});\n",
       "}}\n",
       "\n",
       "// Listen for the clearing of the current output cell\n",
       "var outputEl = gd.closest('.output');\n",
       "if (outputEl) {{\n",
       "    x.observe(outputEl, {childList: true});\n",
       "}}\n",
       "\n",
       "                        })                };                });            </script>        </div>"
      ]
     },
     "metadata": {},
     "output_type": "display_data"
    }
   ],
   "source": [
    "# Firearm Mortality Rates per State\n",
    "fig = px.scatter(firearm_mortality.groupby(['STATE', 'YEAR'])['RATE'].mean().reset_index(),\n",
    "                 x='STATE', y='RATE', title='Firearm Mortality Rates by State',\n",
    "                 labels={'RATE': 'Mortality Rate'},\n",
    "                 template='plotly')\n",
    "fig.show()"
   ]
  },
  {
   "cell_type": "code",
   "execution_count": 188,
   "id": "64eb3b62-ddb5-4bbc-9269-340c99ffb2fe",
   "metadata": {
    "tags": []
   },
   "outputs": [
    {
     "data": {
      "text/plain": [
       "0.028682713101691244"
      ]
     },
     "execution_count": 188,
     "metadata": {},
     "output_type": "execute_result"
    }
   ],
   "source": [
    "mississippi_data = firearm_mortality[firearm_mortality['STATE'] == 'MS']['RATE']\n",
    "oklahoma_data = firearm_mortality[firearm_mortality['STATE'] == 'OK']['RATE']\n",
    "\n",
    "t_stat, p_value = ttest_ind(mississippi_data, oklahoma_data)\n",
    "p_value"
   ]
  },
  {
   "cell_type": "markdown",
   "id": "31fecf06-4215-4391-a857-b53b99f14ac3",
   "metadata": {},
   "source": [
    "> Any state lower than 17.8% mortality rate of Oklahoma is considered statistically significant when comparing to Mississippi"
   ]
  },
  {
   "cell_type": "code",
   "execution_count": 173,
   "id": "c61d5f0c-3ed6-48db-b42d-db8bb2df1282",
   "metadata": {
    "tags": []
   },
   "outputs": [
    {
     "data": {
      "image/png": "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",
      "text/plain": [
       "<Figure size 700x300 with 1 Axes>"
      ]
     },
     "metadata": {},
     "output_type": "display_data"
    }
   ],
   "source": [
    "# # Average Increase in Firearm Mortality Rate by Year\n",
    "plt.figure(figsize = (7, 3))\n",
    "sns.barplot(x ='YEAR', y = 'RATE', data = firearm_mortality, palette = 'Set2')\n",
    "plt.title('Average Increase in Firearm Mortality Rate by Year')\n",
    "plt.xlabel('Years')\n",
    "plt.ylabel('Average Firearm Mortality Rate')\n",
    "plt.show()"
   ]
  },
  {
   "cell_type": "code",
   "execution_count": 105,
   "id": "fdafe9c0-a8f8-4805-b7da-a35dfaac9d43",
   "metadata": {
    "tags": []
   },
   "outputs": [
    {
     "data": {
      "application/vnd.plotly.v1+json": {
       "config": {
        "plotlyServerURL": "https://plot.ly"
       },
       "data": [
        {
         "hovertemplate": "Firearm Mortality=%{x}<br>Firearm Mortality Rate=%{y}<br>YEAR=%{marker.color}<extra></extra>",
         "legendgroup": "",
         "marker": {
          "color": [
           2021,
           2021,
           2021,
           2021,
           2021,
           2021,
           2021,
           2021,
           2021,
           2021,
           2021,
           2021,
           2021,
           2021,
           2021,
           2021,
           2021,
           2021,
           2021,
           2021,
           2021,
           2021,
           2021,
           2021,
           2021,
           2021,
           2021,
           2021,
           2021,
           2021,
           2021,
           2021,
           2021,
           2021,
           2021,
           2021,
           2021,
           2021,
           2021,
           2021,
           2021,
           2021,
           2021,
           2021,
           2021,
           2021,
           2021,
           2021,
           2021,
           2021,
           2020,
           2020,
           2020,
           2020,
           2020,
           2020,
           2020,
           2020,
           2020,
           2020,
           2020,
           2020,
           2020,
           2020,
           2020,
           2020,
           2020,
           2020,
           2020,
           2020,
           2020,
           2020,
           2020,
           2020,
           2020,
           2020,
           2020,
           2020,
           2020,
           2020,
           2020,
           2020,
           2020,
           2020,
           2020,
           2020,
           2020,
           2020,
           2020,
           2020,
           2020,
           2020,
           2020,
           2020,
           2020,
           2020,
           2020,
           2020,
           2020,
           2020,
           2019,
           2019,
           2019,
           2019,
           2019,
           2019,
           2019,
           2019,
           2019,
           2019,
           2019,
           2019,
           2019,
           2019,
           2019,
           2019,
           2019,
           2019,
           2019,
           2019,
           2019,
           2019,
           2019,
           2019,
           2019,
           2019,
           2019,
           2019,
           2019,
           2019,
           2019,
           2019,
           2019,
           2019,
           2019,
           2019,
           2019,
           2019,
           2019,
           2019,
           2019,
           2019,
           2019,
           2019,
           2019,
           2019,
           2019,
           2019,
           2019,
           2019,
           2018,
           2018,
           2018,
           2018,
           2018,
           2018,
           2018,
           2018,
           2018,
           2018,
           2018,
           2018,
           2018,
           2018,
           2018,
           2018,
           2018,
           2018,
           2018,
           2018,
           2018,
           2018,
           2018,
           2018,
           2018,
           2018,
           2018,
           2018,
           2018,
           2018,
           2018,
           2018,
           2018,
           2018,
           2018,
           2018,
           2018,
           2018,
           2018,
           2018,
           2018,
           2018,
           2018,
           2018,
           2018,
           2018,
           2018,
           2018,
           2018,
           2018,
           2017,
           2017,
           2017,
           2017,
           2017,
           2017,
           2017,
           2017,
           2017,
           2017,
           2017,
           2017,
           2017,
           2017,
           2017,
           2017,
           2017,
           2017,
           2017,
           2017,
           2017,
           2017,
           2017,
           2017,
           2017,
           2017,
           2017,
           2017,
           2017,
           2017,
           2017,
           2017,
           2017,
           2017,
           2017,
           2017,
           2017,
           2017,
           2017,
           2017,
           2017,
           2017,
           2017,
           2017,
           2017,
           2017,
           2017,
           2017,
           2017,
           2017,
           2016,
           2016,
           2016,
           2016,
           2016,
           2016,
           2016,
           2016,
           2016,
           2016,
           2016,
           2016,
           2016,
           2016,
           2016,
           2016,
           2016,
           2016,
           2016,
           2016,
           2016,
           2016,
           2016,
           2016,
           2016,
           2016,
           2016,
           2016,
           2016,
           2016,
           2016,
           2016,
           2016,
           2016,
           2016,
           2016,
           2016,
           2016,
           2016,
           2016,
           2016,
           2016,
           2016,
           2016,
           2016,
           2016,
           2016,
           2016,
           2016,
           2016,
           2015,
           2015,
           2015,
           2015,
           2015,
           2015,
           2015,
           2015,
           2015,
           2015,
           2015,
           2015,
           2015,
           2015,
           2015,
           2015,
           2015,
           2015,
           2015,
           2015,
           2015,
           2015,
           2015,
           2015,
           2015,
           2015,
           2015,
           2015,
           2015,
           2015,
           2015,
           2015,
           2015,
           2015,
           2015,
           2015,
           2015,
           2015,
           2015,
           2015,
           2015,
           2015,
           2015,
           2015,
           2015,
           2015,
           2015,
           2015,
           2015,
           2015,
           2014,
           2014,
           2014,
           2014,
           2014,
           2014,
           2014,
           2014,
           2014,
           2014,
           2014,
           2014,
           2014,
           2014,
           2014,
           2014,
           2014,
           2014,
           2014,
           2014,
           2014,
           2014,
           2014,
           2014,
           2014,
           2014,
           2014,
           2014,
           2014,
           2014,
           2014,
           2014,
           2014,
           2014,
           2014,
           2014,
           2014,
           2014,
           2014,
           2014,
           2014,
           2014,
           2014,
           2014,
           2014,
           2014,
           2014,
           2014,
           2014,
           2014,
           2005,
           2005,
           2005,
           2005,
           2005,
           2005,
           2005,
           2005,
           2005,
           2005,
           2005,
           2005,
           2005,
           2005,
           2005,
           2005,
           2005,
           2005,
           2005,
           2005,
           2005,
           2005,
           2005,
           2005,
           2005,
           2005,
           2005,
           2005,
           2005,
           2005,
           2005,
           2005,
           2005,
           2005,
           2005,
           2005,
           2005,
           2005,
           2005,
           2005,
           2005,
           2005,
           2005,
           2005,
           2005,
           2005,
           2005,
           2005,
           2005,
           2005
          ],
          "coloraxis": "coloraxis",
          "symbol": "circle"
         },
         "mode": "markers",
         "name": "",
         "orientation": "v",
         "showlegend": false,
         "type": "scatter",
         "x": [
          1315,
          182,
          1365,
          698,
          3576,
          1064,
          248,
          158,
          3142,
          2200,
          71,
          309,
          1995,
          1251,
          364,
          503,
          947,
          1314,
          178,
          915,
          247,
          1544,
          573,
          962,
          1414,
          280,
          200,
          633,
          123,
          475,
          578,
          1078,
          1839,
          128,
          1911,
          836,
          670,
          1905,
          64,
          1136,
          128,
          1569,
          4613,
          450,
          83,
          1248,
          896,
          319,
          793,
          155,
          1141,
          175,
          1265,
          673,
          3449,
          922,
          219,
          135,
          3041,
          1897,
          50,
          321,
          1745,
          1159,
          351,
          494,
          902,
          1183,
          153,
          803,
          268,
          1454,
          513,
          818,
          1426,
          238,
          197,
          547,
          128,
          443,
          479,
          1052,
          1699,
          100,
          1764,
          826,
          592,
          1752,
          54,
          1131,
          120,
          1473,
          4164,
          429,
          76,
          1174,
          864,
          325,
          717,
          154,
          1076,
          179,
          1136,
          580,
          2945,
          846,
          190,
          93,
          2872,
          1695,
          62,
          255,
          1367,
          958,
          294,
          403,
          682,
          1013,
          163,
          757,
          247,
          1220,
          465,
          710,
          1252,
          209,
          205,
          490,
          156,
          368,
          471,
          804,
          1397,
          93,
          1578,
          737,
          566,
          1541,
          48,
          1012,
          113,
          1270,
          3683,
          394,
          67,
          1025,
          842,
          300,
          604,
          133,
          1064,
          155,
          1147,
          573,
          3040,
          889,
          186,
          107,
          2902,
          1680,
          59,
          294,
          1382,
          977,
          282,
          424,
          762,
          991,
          159,
          707,
          258,
          1310,
          437,
          681,
          1311,
          186,
          183,
          550,
          155,
          420,
          438,
          821,
          1416,
          89,
          1555,
          665,
          519,
          1654,
          37,
          895,
          117,
          1228,
          3522,
          397,
          82,
          1035,
          809,
          343,
          598,
          124,
          1124,
          180,
          1134,
          613,
          3184,
          779,
          188,
          111,
          2724,
          1623,
          39,
          280,
          1543,
          1016,
          293,
          466,
          730,
          1008,
          172,
          742,
          262,
          1138,
          465,
          632,
          1307,
          244,
          160,
          508,
          146,
          478,
          394,
          772,
          1430,
          103,
          1589,
          681,
          528,
          1636,
          43,
          893,
          101,
          1246,
          3513,
          410,
          70,
          1041,
          849,
          348,
          624,
          113,
          1046,
          177,
          1094,
          541,
          3184,
          812,
          172,
          111,
          2704,
          1571,
          66,
          242,
          1490,
          997,
          288,
          383,
          772,
          987,
          123,
          707,
          242,
          1230,
          432,
          587,
          1144,
          194,
          171,
          498,
          132,
          485,
          383,
          900,
          1409,
          90,
          1524,
          766,
          513,
          1555,
          49,
          891,
          108,
          1148,
          3353,
          370,
          78,
          1049,
          686,
          332,
          664,
          101,
          958,
          177,
          970,
          520,
          3095,
          701,
          189,
          112,
          2559,
          1448,
          55,
          247,
          1220,
          846,
          247,
          330,
          694,
          952,
          144,
          708,
          213,
          1164,
          410,
          589,
          1094,
          205,
          169,
          446,
          121,
          475,
          390,
          849,
          1289,
          92,
          1397,
          706,
          486,
          1485,
          51,
          850,
          96,
          1075,
          3203,
          367,
          70,
          946,
          718,
          278,
          613,
          113,
          815,
          145,
          927,
          496,
          2942,
          663,
          187,
          102,
          2410,
          1391,
          40,
          213,
          1179,
          818,
          241,
          329,
          634,
          896,
          133,
          546,
          226,
          1095,
          377,
          547,
          943,
          172,
          179,
          429,
          122,
          468,
          340,
          875,
          1206,
          96,
          1211,
          611,
          497,
          1390,
          34,
          767,
          89,
          1016,
          2848,
          337,
          69,
          889,
          702,
          286,
          487,
          93,
          736,
          116,
          934,
          439,
          3453,
          535,
          187,
          75,
          1838,
          1064,
          28,
          195,
          1019,
          705,
          201,
          257,
          548,
          858,
          109,
          657,
          224,
          1074,
          361,
          455,
          752,
          161,
          135,
          390,
          88,
          434,
          267,
          1019,
          1119,
          61,
          1116,
          468,
          402,
          1352,
          39,
          589,
          82,
          976,
          2490,
          227,
          44,
          888,
          567,
          261,
          474,
          71
         ],
         "xaxis": "x",
         "y": [
          26.4,
          25.2,
          18.3,
          23.3,
          9,
          17.8,
          6.7,
          16.6,
          14.1,
          20.3,
          4.8,
          16.3,
          16.1,
          18.4,
          11.2,
          17.3,
          21.1,
          29.1,
          12.6,
          15.2,
          3.4,
          15.4,
          10,
          33.9,
          23.2,
          25.1,
          10.3,
          19.8,
          8.3,
          5.2,
          27.8,
          5.4,
          17.3,
          16.8,
          16.5,
          21.2,
          14.9,
          14.8,
          5.6,
          22.4,
          14.3,
          22.8,
          15.6,
          13.9,
          11.9,
          14.3,
          11.2,
          17.3,
          13.5,
          26.1,
          23.6,
          23.5,
          16.7,
          22.6,
          8.5,
          15.4,
          6,
          14.4,
          13.7,
          17.7,
          3.4,
          17.6,
          14.1,
          17.3,
          11.2,
          16.9,
          20.1,
          26.3,
          10.4,
          13.5,
          3.7,
          14.6,
          8.9,
          28.6,
          23.9,
          20.9,
          10.1,
          17,
          8.9,
          5,
          22.7,
          5.3,
          16,
          13.8,
          15.2,
          20.7,
          13,
          13.6,
          5.1,
          22,
          13.6,
          21.3,
          14.2,
          13.6,
          11.6,
          13.4,
          10.9,
          18.1,
          12.2,
          25.9,
          22.2,
          24.4,
          15.1,
          19.3,
          7.2,
          14.2,
          5.3,
          9.9,
          12.7,
          15.8,
          4.4,
          14.2,
          10.8,
          14.1,
          9.1,
          13.7,
          14.9,
          22.1,
          11.5,
          12.6,
          3.4,
          12.1,
          8.1,
          24.2,
          20.6,
          19,
          10.4,
          15.3,
          10.7,
          4.1,
          22.3,
          3.9,
          13.1,
          12.4,
          13.3,
          18.6,
          12.6,
          11.7,
          4.6,
          19.9,
          13.1,
          18.4,
          12.7,
          12.8,
          9.3,
          11.7,
          10.7,
          16.6,
          10,
          22.3,
          21.8,
          21,
          15.3,
          18.9,
          7.5,
          15.2,
          4.9,
          11.6,
          12.9,
          15.7,
          4,
          16.6,
          10.9,
          14.7,
          8.7,
          14.8,
          16.9,
          21.4,
          10.3,
          11.7,
          3.5,
          12.9,
          7.8,
          22.9,
          21.5,
          17.3,
          9,
          17.9,
          10.8,
          4.8,
          20.7,
          4.1,
          13.3,
          11.5,
          13.1,
          16.8,
          11.7,
          12.5,
          3.3,
          17.6,
          13.6,
          17.8,
          12.2,
          13.2,
          12.8,
          11.8,
          10.4,
          18.2,
          10.1,
          21.5,
          22.9,
          24.5,
          15.8,
          20.3,
          7.9,
          13.4,
          5.1,
          11.7,
          12.4,
          15.4,
          2.5,
          16.4,
          12.1,
          15.3,
          9,
          16,
          16.2,
          21.7,
          11.7,
          12.3,
          3.7,
          11.3,
          8.2,
          21.5,
          21.5,
          22.5,
          8.3,
          16.7,
          10.4,
          5.3,
          18.5,
          3.7,
          13.7,
          13.2,
          13.7,
          17.2,
          12.1,
          12.5,
          3.9,
          17.7,
          11.9,
          18.4,
          12.4,
          14,
          11.7,
          11.9,
          11.1,
          18.6,
          10.6,
          18.8,
          21.5,
          23.3,
          15.2,
          17.8,
          7.9,
          14.3,
          4.6,
          11,
          12.6,
          15,
          4.5,
          14.6,
          11.7,
          15,
          9.2,
          13.4,
          17.5,
          21.3,
          8.3,
          11.9,
          3.4,
          12.3,
          7.6,
          19.9,
          19,
          18.9,
          9.1,
          16.8,
          9.3,
          5.5,
          18.1,
          4.4,
          13.7,
          11.9,
          12.9,
          19.6,
          11.9,
          12,
          4.1,
          17.7,
          13.4,
          17.1,
          12.1,
          12.9,
          11.1,
          12.1,
          9,
          17.5,
          11.4,
          17.4,
          19.6,
          23.4,
          13.8,
          16.9,
          7.7,
          12.6,
          5.3,
          12.1,
          12,
          14.1,
          3.6,
          14.7,
          9.5,
          12.7,
          7.8,
          11.4,
          15.2,
          20.4,
          9.8,
          11.9,
          3,
          11.7,
          7.4,
          19.6,
          18.1,
          19.2,
          8.9,
          14.9,
          8.9,
          5.4,
          18.6,
          4.2,
          12.5,
          12.8,
          11.9,
          18,
          11.4,
          11.4,
          4.7,
          17.3,
          11.1,
          16,
          11.7,
          12.8,
          9.6,
          10.9,
          9.8,
          14,
          10.4,
          19.6,
          16.9,
          19.2,
          13.5,
          16.6,
          7.4,
          12.2,
          5,
          11.1,
          11.5,
          13.7,
          2.6,
          13.2,
          9,
          12.4,
          7.5,
          11.3,
          13.9,
          19,
          9.4,
          9,
          3.2,
          11.1,
          6.6,
          18.3,
          15.3,
          16.1,
          9.5,
          14.8,
          8.7,
          5.3,
          16,
          4.2,
          11.8,
          12.3,
          10.3,
          15.7,
          11.7,
          10.5,
          3,
          15.5,
          10.3,
          15.1,
          10.7,
          12.3,
          10.3,
          10.3,
          9.7,
          14.6,
          8.2,
          16.2,
          16,
          17.5,
          16.1,
          15.7,
          9.5,
          11.6,
          5.3,
          8.8,
          10,
          12.1,
          2.1,
          14.1,
          8,
          11.2,
          6.7,
          9.3,
          13,
          18.5,
          7.8,
          11.9,
          3.4,
          10.8,
          7,
          16,
          12.9,
          16.9,
          7.7,
          16.1,
          6.6,
          5.2,
          13.9,
          5.3,
          12.8,
          8.8,
          9.6,
          13.2,
          10.7,
          10.8,
          3.6,
          13.8,
          10.2,
          16,
          11.1,
          10.1,
          6.8,
          11.5,
          8.8,
          13.8,
          8.5,
          13.4
         ],
         "yaxis": "y"
        }
       ],
       "layout": {
        "autosize": true,
        "coloraxis": {
         "colorbar": {
          "title": {
           "text": "YEAR"
          }
         },
         "colorscale": [
          [
           0,
           "#0d0887"
          ],
          [
           0.1111111111111111,
           "#46039f"
          ],
          [
           0.2222222222222222,
           "#7201a8"
          ],
          [
           0.3333333333333333,
           "#9c179e"
          ],
          [
           0.4444444444444444,
           "#bd3786"
          ],
          [
           0.5555555555555556,
           "#d8576b"
          ],
          [
           0.6666666666666666,
           "#ed7953"
          ],
          [
           0.7777777777777778,
           "#fb9f3a"
          ],
          [
           0.8888888888888888,
           "#fdca26"
          ],
          [
           1,
           "#f0f921"
          ]
         ]
        },
        "legend": {
         "tracegroupgap": 0
        },
        "template": {
         "data": {
          "bar": [
           {
            "error_x": {
             "color": "#2a3f5f"
            },
            "error_y": {
             "color": "#2a3f5f"
            },
            "marker": {
             "line": {
              "color": "#E5ECF6",
              "width": 0.5
             },
             "pattern": {
              "fillmode": "overlay",
              "size": 10,
              "solidity": 0.2
             }
            },
            "type": "bar"
           }
          ],
          "barpolar": [
           {
            "marker": {
             "line": {
              "color": "#E5ECF6",
              "width": 0.5
             },
             "pattern": {
              "fillmode": "overlay",
              "size": 10,
              "solidity": 0.2
             }
            },
            "type": "barpolar"
           }
          ],
          "carpet": [
           {
            "aaxis": {
             "endlinecolor": "#2a3f5f",
             "gridcolor": "white",
             "linecolor": "white",
             "minorgridcolor": "white",
             "startlinecolor": "#2a3f5f"
            },
            "baxis": {
             "endlinecolor": "#2a3f5f",
             "gridcolor": "white",
             "linecolor": "white",
             "minorgridcolor": "white",
             "startlinecolor": "#2a3f5f"
            },
            "type": "carpet"
           }
          ],
          "choropleth": [
           {
            "colorbar": {
             "outlinewidth": 0,
             "ticks": ""
            },
            "type": "choropleth"
           }
          ],
          "contour": [
           {
            "colorbar": {
             "outlinewidth": 0,
             "ticks": ""
            },
            "colorscale": [
             [
              0,
              "#0d0887"
             ],
             [
              0.1111111111111111,
              "#46039f"
             ],
             [
              0.2222222222222222,
              "#7201a8"
             ],
             [
              0.3333333333333333,
              "#9c179e"
             ],
             [
              0.4444444444444444,
              "#bd3786"
             ],
             [
              0.5555555555555556,
              "#d8576b"
             ],
             [
              0.6666666666666666,
              "#ed7953"
             ],
             [
              0.7777777777777778,
              "#fb9f3a"
             ],
             [
              0.8888888888888888,
              "#fdca26"
             ],
             [
              1,
              "#f0f921"
             ]
            ],
            "type": "contour"
           }
          ],
          "contourcarpet": [
           {
            "colorbar": {
             "outlinewidth": 0,
             "ticks": ""
            },
            "type": "contourcarpet"
           }
          ],
          "heatmap": [
           {
            "colorbar": {
             "outlinewidth": 0,
             "ticks": ""
            },
            "colorscale": [
             [
              0,
              "#0d0887"
             ],
             [
              0.1111111111111111,
              "#46039f"
             ],
             [
              0.2222222222222222,
              "#7201a8"
             ],
             [
              0.3333333333333333,
              "#9c179e"
             ],
             [
              0.4444444444444444,
              "#bd3786"
             ],
             [
              0.5555555555555556,
              "#d8576b"
             ],
             [
              0.6666666666666666,
              "#ed7953"
             ],
             [
              0.7777777777777778,
              "#fb9f3a"
             ],
             [
              0.8888888888888888,
              "#fdca26"
             ],
             [
              1,
              "#f0f921"
             ]
            ],
            "type": "heatmap"
           }
          ],
          "heatmapgl": [
           {
            "colorbar": {
             "outlinewidth": 0,
             "ticks": ""
            },
            "colorscale": [
             [
              0,
              "#0d0887"
             ],
             [
              0.1111111111111111,
              "#46039f"
             ],
             [
              0.2222222222222222,
              "#7201a8"
             ],
             [
              0.3333333333333333,
              "#9c179e"
             ],
             [
              0.4444444444444444,
              "#bd3786"
             ],
             [
              0.5555555555555556,
              "#d8576b"
             ],
             [
              0.6666666666666666,
              "#ed7953"
             ],
             [
              0.7777777777777778,
              "#fb9f3a"
             ],
             [
              0.8888888888888888,
              "#fdca26"
             ],
             [
              1,
              "#f0f921"
             ]
            ],
            "type": "heatmapgl"
           }
          ],
          "histogram": [
           {
            "marker": {
             "pattern": {
              "fillmode": "overlay",
              "size": 10,
              "solidity": 0.2
             }
            },
            "type": "histogram"
           }
          ],
          "histogram2d": [
           {
            "colorbar": {
             "outlinewidth": 0,
             "ticks": ""
            },
            "colorscale": [
             [
              0,
              "#0d0887"
             ],
             [
              0.1111111111111111,
              "#46039f"
             ],
             [
              0.2222222222222222,
              "#7201a8"
             ],
             [
              0.3333333333333333,
              "#9c179e"
             ],
             [
              0.4444444444444444,
              "#bd3786"
             ],
             [
              0.5555555555555556,
              "#d8576b"
             ],
             [
              0.6666666666666666,
              "#ed7953"
             ],
             [
              0.7777777777777778,
              "#fb9f3a"
             ],
             [
              0.8888888888888888,
              "#fdca26"
             ],
             [
              1,
              "#f0f921"
             ]
            ],
            "type": "histogram2d"
           }
          ],
          "histogram2dcontour": [
           {
            "colorbar": {
             "outlinewidth": 0,
             "ticks": ""
            },
            "colorscale": [
             [
              0,
              "#0d0887"
             ],
             [
              0.1111111111111111,
              "#46039f"
             ],
             [
              0.2222222222222222,
              "#7201a8"
             ],
             [
              0.3333333333333333,
              "#9c179e"
             ],
             [
              0.4444444444444444,
              "#bd3786"
             ],
             [
              0.5555555555555556,
              "#d8576b"
             ],
             [
              0.6666666666666666,
              "#ed7953"
             ],
             [
              0.7777777777777778,
              "#fb9f3a"
             ],
             [
              0.8888888888888888,
              "#fdca26"
             ],
             [
              1,
              "#f0f921"
             ]
            ],
            "type": "histogram2dcontour"
           }
          ],
          "mesh3d": [
           {
            "colorbar": {
             "outlinewidth": 0,
             "ticks": ""
            },
            "type": "mesh3d"
           }
          ],
          "parcoords": [
           {
            "line": {
             "colorbar": {
              "outlinewidth": 0,
              "ticks": ""
             }
            },
            "type": "parcoords"
           }
          ],
          "pie": [
           {
            "automargin": true,
            "type": "pie"
           }
          ],
          "scatter": [
           {
            "fillpattern": {
             "fillmode": "overlay",
             "size": 10,
             "solidity": 0.2
            },
            "type": "scatter"
           }
          ],
          "scatter3d": [
           {
            "line": {
             "colorbar": {
              "outlinewidth": 0,
              "ticks": ""
             }
            },
            "marker": {
             "colorbar": {
              "outlinewidth": 0,
              "ticks": ""
             }
            },
            "type": "scatter3d"
           }
          ],
          "scattercarpet": [
           {
            "marker": {
             "colorbar": {
              "outlinewidth": 0,
              "ticks": ""
             }
            },
            "type": "scattercarpet"
           }
          ],
          "scattergeo": [
           {
            "marker": {
             "colorbar": {
              "outlinewidth": 0,
              "ticks": ""
             }
            },
            "type": "scattergeo"
           }
          ],
          "scattergl": [
           {
            "marker": {
             "colorbar": {
              "outlinewidth": 0,
              "ticks": ""
             }
            },
            "type": "scattergl"
           }
          ],
          "scattermapbox": [
           {
            "marker": {
             "colorbar": {
              "outlinewidth": 0,
              "ticks": ""
             }
            },
            "type": "scattermapbox"
           }
          ],
          "scatterpolar": [
           {
            "marker": {
             "colorbar": {
              "outlinewidth": 0,
              "ticks": ""
             }
            },
            "type": "scatterpolar"
           }
          ],
          "scatterpolargl": [
           {
            "marker": {
             "colorbar": {
              "outlinewidth": 0,
              "ticks": ""
             }
            },
            "type": "scatterpolargl"
           }
          ],
          "scatterternary": [
           {
            "marker": {
             "colorbar": {
              "outlinewidth": 0,
              "ticks": ""
             }
            },
            "type": "scatterternary"
           }
          ],
          "surface": [
           {
            "colorbar": {
             "outlinewidth": 0,
             "ticks": ""
            },
            "colorscale": [
             [
              0,
              "#0d0887"
             ],
             [
              0.1111111111111111,
              "#46039f"
             ],
             [
              0.2222222222222222,
              "#7201a8"
             ],
             [
              0.3333333333333333,
              "#9c179e"
             ],
             [
              0.4444444444444444,
              "#bd3786"
             ],
             [
              0.5555555555555556,
              "#d8576b"
             ],
             [
              0.6666666666666666,
              "#ed7953"
             ],
             [
              0.7777777777777778,
              "#fb9f3a"
             ],
             [
              0.8888888888888888,
              "#fdca26"
             ],
             [
              1,
              "#f0f921"
             ]
            ],
            "type": "surface"
           }
          ],
          "table": [
           {
            "cells": {
             "fill": {
              "color": "#EBF0F8"
             },
             "line": {
              "color": "white"
             }
            },
            "header": {
             "fill": {
              "color": "#C8D4E3"
             },
             "line": {
              "color": "white"
             }
            },
            "type": "table"
           }
          ]
         },
         "layout": {
          "annotationdefaults": {
           "arrowcolor": "#2a3f5f",
           "arrowhead": 0,
           "arrowwidth": 1
          },
          "autotypenumbers": "strict",
          "coloraxis": {
           "colorbar": {
            "outlinewidth": 0,
            "ticks": ""
           }
          },
          "colorscale": {
           "diverging": [
            [
             0,
             "#8e0152"
            ],
            [
             0.1,
             "#c51b7d"
            ],
            [
             0.2,
             "#de77ae"
            ],
            [
             0.3,
             "#f1b6da"
            ],
            [
             0.4,
             "#fde0ef"
            ],
            [
             0.5,
             "#f7f7f7"
            ],
            [
             0.6,
             "#e6f5d0"
            ],
            [
             0.7,
             "#b8e186"
            ],
            [
             0.8,
             "#7fbc41"
            ],
            [
             0.9,
             "#4d9221"
            ],
            [
             1,
             "#276419"
            ]
           ],
           "sequential": [
            [
             0,
             "#0d0887"
            ],
            [
             0.1111111111111111,
             "#46039f"
            ],
            [
             0.2222222222222222,
             "#7201a8"
            ],
            [
             0.3333333333333333,
             "#9c179e"
            ],
            [
             0.4444444444444444,
             "#bd3786"
            ],
            [
             0.5555555555555556,
             "#d8576b"
            ],
            [
             0.6666666666666666,
             "#ed7953"
            ],
            [
             0.7777777777777778,
             "#fb9f3a"
            ],
            [
             0.8888888888888888,
             "#fdca26"
            ],
            [
             1,
             "#f0f921"
            ]
           ],
           "sequentialminus": [
            [
             0,
             "#0d0887"
            ],
            [
             0.1111111111111111,
             "#46039f"
            ],
            [
             0.2222222222222222,
             "#7201a8"
            ],
            [
             0.3333333333333333,
             "#9c179e"
            ],
            [
             0.4444444444444444,
             "#bd3786"
            ],
            [
             0.5555555555555556,
             "#d8576b"
            ],
            [
             0.6666666666666666,
             "#ed7953"
            ],
            [
             0.7777777777777778,
             "#fb9f3a"
            ],
            [
             0.8888888888888888,
             "#fdca26"
            ],
            [
             1,
             "#f0f921"
            ]
           ]
          },
          "colorway": [
           "#636efa",
           "#EF553B",
           "#00cc96",
           "#ab63fa",
           "#FFA15A",
           "#19d3f3",
           "#FF6692",
           "#B6E880",
           "#FF97FF",
           "#FECB52"
          ],
          "font": {
           "color": "#2a3f5f"
          },
          "geo": {
           "bgcolor": "white",
           "lakecolor": "white",
           "landcolor": "#E5ECF6",
           "showlakes": true,
           "showland": true,
           "subunitcolor": "white"
          },
          "hoverlabel": {
           "align": "left"
          },
          "hovermode": "closest",
          "mapbox": {
           "style": "light"
          },
          "paper_bgcolor": "white",
          "plot_bgcolor": "#E5ECF6",
          "polar": {
           "angularaxis": {
            "gridcolor": "white",
            "linecolor": "white",
            "ticks": ""
           },
           "bgcolor": "#E5ECF6",
           "radialaxis": {
            "gridcolor": "white",
            "linecolor": "white",
            "ticks": ""
           }
          },
          "scene": {
           "xaxis": {
            "backgroundcolor": "#E5ECF6",
            "gridcolor": "white",
            "gridwidth": 2,
            "linecolor": "white",
            "showbackground": true,
            "ticks": "",
            "zerolinecolor": "white"
           },
           "yaxis": {
            "backgroundcolor": "#E5ECF6",
            "gridcolor": "white",
            "gridwidth": 2,
            "linecolor": "white",
            "showbackground": true,
            "ticks": "",
            "zerolinecolor": "white"
           },
           "zaxis": {
            "backgroundcolor": "#E5ECF6",
            "gridcolor": "white",
            "gridwidth": 2,
            "linecolor": "white",
            "showbackground": true,
            "ticks": "",
            "zerolinecolor": "white"
           }
          },
          "shapedefaults": {
           "line": {
            "color": "#2a3f5f"
           }
          },
          "ternary": {
           "aaxis": {
            "gridcolor": "white",
            "linecolor": "white",
            "ticks": ""
           },
           "baxis": {
            "gridcolor": "white",
            "linecolor": "white",
            "ticks": ""
           },
           "bgcolor": "#E5ECF6",
           "caxis": {
            "gridcolor": "white",
            "linecolor": "white",
            "ticks": ""
           }
          },
          "title": {
           "x": 0.05
          },
          "xaxis": {
           "automargin": true,
           "gridcolor": "white",
           "linecolor": "white",
           "ticks": "",
           "title": {
            "standoff": 15
           },
           "zerolinecolor": "white",
           "zerolinewidth": 2
          },
          "yaxis": {
           "automargin": true,
           "gridcolor": "white",
           "linecolor": "white",
           "ticks": "",
           "title": {
            "standoff": 15
           },
           "zerolinecolor": "white",
           "zerolinewidth": 2
          }
         }
        },
        "title": {
         "text": "Firearm Mortality Counts by Rate and Year"
        },
        "xaxis": {
         "anchor": "y",
         "autorange": true,
         "domain": [
          0,
          1
         ],
         "range": [
          -279.43791390728484,
          4920.437913907284
         ],
         "title": {
          "text": "Firearm Mortality"
         },
         "type": "linear"
        },
        "yaxis": {
         "anchor": "x",
         "autorange": true,
         "domain": [
          0,
          1
         ],
         "range": [
          -0.13903743315507988,
          36.13903743315508
         ],
         "title": {
          "text": "Firearm Mortality Rate"
         },
         "type": "linear"
        }
       }
      },
      "image/png": "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",
      "text/html": [
       "<div>                            <div id=\"5e2635c4-ec4a-4681-91cc-b38460f7e2ab\" class=\"plotly-graph-div\" style=\"height:500px; width:100%;\"></div>            <script type=\"text/javascript\">                require([\"plotly\"], function(Plotly) {                    window.PLOTLYENV=window.PLOTLYENV || {};                                    if (document.getElementById(\"5e2635c4-ec4a-4681-91cc-b38460f7e2ab\")) {                    Plotly.newPlot(                        \"5e2635c4-ec4a-4681-91cc-b38460f7e2ab\",                        [{\"hovertemplate\":\"Firearm Mortality=%{x}<br>Firearm Mortality Rate=%{y}<br>YEAR=%{marker.color}<extra></extra>\",\"legendgroup\":\"\",\"marker\":{\"color\":[2021,2021,2021,2021,2021,2021,2021,2021,2021,2021,2021,2021,2021,2021,2021,2021,2021,2021,2021,2021,2021,2021,2021,2021,2021,2021,2021,2021,2021,2021,2021,2021,2021,2021,2021,2021,2021,2021,2021,2021,2021,2021,2021,2021,2021,2021,2021,2021,2021,2021,2020,2020,2020,2020,2020,2020,2020,2020,2020,2020,2020,2020,2020,2020,2020,2020,2020,2020,2020,2020,2020,2020,2020,2020,2020,2020,2020,2020,2020,2020,2020,2020,2020,2020,2020,2020,2020,2020,2020,2020,2020,2020,2020,2020,2020,2020,2020,2020,2020,2020,2019,2019,2019,2019,2019,2019,2019,2019,2019,2019,2019,2019,2019,2019,2019,2019,2019,2019,2019,2019,2019,2019,2019,2019,2019,2019,2019,2019,2019,2019,2019,2019,2019,2019,2019,2019,2019,2019,2019,2019,2019,2019,2019,2019,2019,2019,2019,2019,2019,2019,2018,2018,2018,2018,2018,2018,2018,2018,2018,2018,2018,2018,2018,2018,2018,2018,2018,2018,2018,2018,2018,2018,2018,2018,2018,2018,2018,2018,2018,2018,2018,2018,2018,2018,2018,2018,2018,2018,2018,2018,2018,2018,2018,2018,2018,2018,2018,2018,2018,2018,2017,2017,2017,2017,2017,2017,2017,2017,2017,2017,2017,2017,2017,2017,2017,2017,2017,2017,2017,2017,2017,2017,2017,2017,2017,2017,2017,2017,2017,2017,2017,2017,2017,2017,2017,2017,2017,2017,2017,2017,2017,2017,2017,2017,2017,2017,2017,2017,2017,2017,2016,2016,2016,2016,2016,2016,2016,2016,2016,2016,2016,2016,2016,2016,2016,2016,2016,2016,2016,2016,2016,2016,2016,2016,2016,2016,2016,2016,2016,2016,2016,2016,2016,2016,2016,2016,2016,2016,2016,2016,2016,2016,2016,2016,2016,2016,2016,2016,2016,2016,2015,2015,2015,2015,2015,2015,2015,2015,2015,2015,2015,2015,2015,2015,2015,2015,2015,2015,2015,2015,2015,2015,2015,2015,2015,2015,2015,2015,2015,2015,2015,2015,2015,2015,2015,2015,2015,2015,2015,2015,2015,2015,2015,2015,2015,2015,2015,2015,2015,2015,2014,2014,2014,2014,2014,2014,2014,2014,2014,2014,2014,2014,2014,2014,2014,2014,2014,2014,2014,2014,2014,2014,2014,2014,2014,2014,2014,2014,2014,2014,2014,2014,2014,2014,2014,2014,2014,2014,2014,2014,2014,2014,2014,2014,2014,2014,2014,2014,2014,2014,2005,2005,2005,2005,2005,2005,2005,2005,2005,2005,2005,2005,2005,2005,2005,2005,2005,2005,2005,2005,2005,2005,2005,2005,2005,2005,2005,2005,2005,2005,2005,2005,2005,2005,2005,2005,2005,2005,2005,2005,2005,2005,2005,2005,2005,2005,2005,2005,2005,2005],\"coloraxis\":\"coloraxis\",\"symbol\":\"circle\"},\"mode\":\"markers\",\"name\":\"\",\"orientation\":\"v\",\"showlegend\":false,\"x\":[1315,182,1365,698,3576,1064,248,158,3142,2200,71,309,1995,1251,364,503,947,1314,178,915,247,1544,573,962,1414,280,200,633,123,475,578,1078,1839,128,1911,836,670,1905,64,1136,128,1569,4613,450,83,1248,896,319,793,155,1141,175,1265,673,3449,922,219,135,3041,1897,50,321,1745,1159,351,494,902,1183,153,803,268,1454,513,818,1426,238,197,547,128,443,479,1052,1699,100,1764,826,592,1752,54,1131,120,1473,4164,429,76,1174,864,325,717,154,1076,179,1136,580,2945,846,190,93,2872,1695,62,255,1367,958,294,403,682,1013,163,757,247,1220,465,710,1252,209,205,490,156,368,471,804,1397,93,1578,737,566,1541,48,1012,113,1270,3683,394,67,1025,842,300,604,133,1064,155,1147,573,3040,889,186,107,2902,1680,59,294,1382,977,282,424,762,991,159,707,258,1310,437,681,1311,186,183,550,155,420,438,821,1416,89,1555,665,519,1654,37,895,117,1228,3522,397,82,1035,809,343,598,124,1124,180,1134,613,3184,779,188,111,2724,1623,39,280,1543,1016,293,466,730,1008,172,742,262,1138,465,632,1307,244,160,508,146,478,394,772,1430,103,1589,681,528,1636,43,893,101,1246,3513,410,70,1041,849,348,624,113,1046,177,1094,541,3184,812,172,111,2704,1571,66,242,1490,997,288,383,772,987,123,707,242,1230,432,587,1144,194,171,498,132,485,383,900,1409,90,1524,766,513,1555,49,891,108,1148,3353,370,78,1049,686,332,664,101,958,177,970,520,3095,701,189,112,2559,1448,55,247,1220,846,247,330,694,952,144,708,213,1164,410,589,1094,205,169,446,121,475,390,849,1289,92,1397,706,486,1485,51,850,96,1075,3203,367,70,946,718,278,613,113,815,145,927,496,2942,663,187,102,2410,1391,40,213,1179,818,241,329,634,896,133,546,226,1095,377,547,943,172,179,429,122,468,340,875,1206,96,1211,611,497,1390,34,767,89,1016,2848,337,69,889,702,286,487,93,736,116,934,439,3453,535,187,75,1838,1064,28,195,1019,705,201,257,548,858,109,657,224,1074,361,455,752,161,135,390,88,434,267,1019,1119,61,1116,468,402,1352,39,589,82,976,2490,227,44,888,567,261,474,71],\"xaxis\":\"x\",\"y\":[26.4,25.2,18.3,23.3,9.0,17.8,6.7,16.6,14.1,20.3,4.8,16.3,16.1,18.4,11.2,17.3,21.1,29.1,12.6,15.2,3.4,15.4,10.0,33.9,23.2,25.1,10.3,19.8,8.3,5.2,27.8,5.4,17.3,16.8,16.5,21.2,14.9,14.8,5.6,22.4,14.3,22.8,15.6,13.9,11.9,14.3,11.2,17.3,13.5,26.1,23.6,23.5,16.7,22.6,8.5,15.4,6.0,14.4,13.7,17.7,3.4,17.6,14.1,17.3,11.2,16.9,20.1,26.3,10.4,13.5,3.7,14.6,8.9,28.6,23.9,20.9,10.1,17.0,8.9,5.0,22.7,5.3,16.0,13.8,15.2,20.7,13.0,13.6,5.1,22.0,13.6,21.3,14.2,13.6,11.6,13.4,10.9,18.1,12.2,25.9,22.2,24.4,15.1,19.3,7.2,14.2,5.3,9.9,12.7,15.8,4.4,14.2,10.8,14.1,9.1,13.7,14.9,22.1,11.5,12.6,3.4,12.1,8.1,24.2,20.6,19.0,10.4,15.3,10.7,4.1,22.3,3.9,13.1,12.4,13.3,18.6,12.6,11.7,4.6,19.9,13.1,18.4,12.7,12.8,9.3,11.7,10.7,16.6,10.0,22.3,21.8,21.0,15.3,18.9,7.5,15.2,4.9,11.6,12.9,15.7,4.0,16.6,10.9,14.7,8.7,14.8,16.9,21.4,10.3,11.7,3.5,12.9,7.8,22.9,21.5,17.3,9.0,17.9,10.8,4.8,20.7,4.1,13.3,11.5,13.1,16.8,11.7,12.5,3.3,17.6,13.6,17.8,12.2,13.2,12.8,11.8,10.4,18.2,10.1,21.5,22.9,24.5,15.8,20.3,7.9,13.4,5.1,11.7,12.4,15.4,2.5,16.4,12.1,15.3,9.0,16.0,16.2,21.7,11.7,12.3,3.7,11.3,8.2,21.5,21.5,22.5,8.3,16.7,10.4,5.3,18.5,3.7,13.7,13.2,13.7,17.2,12.1,12.5,3.9,17.7,11.9,18.4,12.4,14.0,11.7,11.9,11.1,18.6,10.6,18.8,21.5,23.3,15.2,17.8,7.9,14.3,4.6,11.0,12.6,15.0,4.5,14.6,11.7,15.0,9.2,13.4,17.5,21.3,8.3,11.9,3.4,12.3,7.6,19.9,19.0,18.9,9.1,16.8,9.3,5.5,18.1,4.4,13.7,11.9,12.9,19.6,11.9,12.0,4.1,17.7,13.4,17.1,12.1,12.9,11.1,12.1,9.0,17.5,11.4,17.4,19.6,23.4,13.8,16.9,7.7,12.6,5.3,12.1,12.0,14.1,3.6,14.7,9.5,12.7,7.8,11.4,15.2,20.4,9.8,11.9,3.0,11.7,7.4,19.6,18.1,19.2,8.9,14.9,8.9,5.4,18.6,4.2,12.5,12.8,11.9,18.0,11.4,11.4,4.7,17.3,11.1,16.0,11.7,12.8,9.6,10.9,9.8,14.0,10.4,19.6,16.9,19.2,13.5,16.6,7.4,12.2,5.0,11.1,11.5,13.7,2.6,13.2,9.0,12.4,7.5,11.3,13.9,19.0,9.4,9.0,3.2,11.1,6.6,18.3,15.3,16.1,9.5,14.8,8.7,5.3,16.0,4.2,11.8,12.3,10.3,15.7,11.7,10.5,3.0,15.5,10.3,15.1,10.7,12.3,10.3,10.3,9.7,14.6,8.2,16.2,16.0,17.5,16.1,15.7,9.5,11.6,5.3,8.8,10.0,12.1,2.1,14.1,8.0,11.2,6.7,9.3,13.0,18.5,7.8,11.9,3.4,10.8,7.0,16.0,12.9,16.9,7.7,16.1,6.6,5.2,13.9,5.3,12.8,8.8,9.6,13.2,10.7,10.8,3.6,13.8,10.2,16.0,11.1,10.1,6.8,11.5,8.8,13.8,8.5,13.4],\"yaxis\":\"y\",\"type\":\"scatter\"}],                        {\"template\":{\"data\":{\"histogram2dcontour\":[{\"type\":\"histogram2dcontour\",\"colorbar\":{\"outlinewidth\":0,\"ticks\":\"\"},\"colorscale\":[[0.0,\"#0d0887\"],[0.1111111111111111,\"#46039f\"],[0.2222222222222222,\"#7201a8\"],[0.3333333333333333,\"#9c179e\"],[0.4444444444444444,\"#bd3786\"],[0.5555555555555556,\"#d8576b\"],[0.6666666666666666,\"#ed7953\"],[0.7777777777777778,\"#fb9f3a\"],[0.8888888888888888,\"#fdca26\"],[1.0,\"#f0f921\"]]}],\"choropleth\":[{\"type\":\"choropleth\",\"colorbar\":{\"outlinewidth\":0,\"ticks\":\"\"}}],\"histogram2d\":[{\"type\":\"histogram2d\",\"colorbar\":{\"outlinewidth\":0,\"ticks\":\"\"},\"colorscale\":[[0.0,\"#0d0887\"],[0.1111111111111111,\"#46039f\"],[0.2222222222222222,\"#7201a8\"],[0.3333333333333333,\"#9c179e\"],[0.4444444444444444,\"#bd3786\"],[0.5555555555555556,\"#d8576b\"],[0.6666666666666666,\"#ed7953\"],[0.7777777777777778,\"#fb9f3a\"],[0.8888888888888888,\"#fdca26\"],[1.0,\"#f0f921\"]]}],\"heatmap\":[{\"type\":\"heatmap\",\"colorbar\":{\"outlinewidth\":0,\"ticks\":\"\"},\"colorscale\":[[0.0,\"#0d0887\"],[0.1111111111111111,\"#46039f\"],[0.2222222222222222,\"#7201a8\"],[0.3333333333333333,\"#9c179e\"],[0.4444444444444444,\"#bd3786\"],[0.5555555555555556,\"#d8576b\"],[0.6666666666666666,\"#ed7953\"],[0.7777777777777778,\"#fb9f3a\"],[0.8888888888888888,\"#fdca26\"],[1.0,\"#f0f921\"]]}],\"heatmapgl\":[{\"type\":\"heatmapgl\",\"colorbar\":{\"outlinewidth\":0,\"ticks\":\"\"},\"colorscale\":[[0.0,\"#0d0887\"],[0.1111111111111111,\"#46039f\"],[0.2222222222222222,\"#7201a8\"],[0.3333333333333333,\"#9c179e\"],[0.4444444444444444,\"#bd3786\"],[0.5555555555555556,\"#d8576b\"],[0.6666666666666666,\"#ed7953\"],[0.7777777777777778,\"#fb9f3a\"],[0.8888888888888888,\"#fdca26\"],[1.0,\"#f0f921\"]]}],\"contourcarpet\":[{\"type\":\"contourcarpet\",\"colorbar\":{\"outlinewidth\":0,\"ticks\":\"\"}}],\"contour\":[{\"type\":\"contour\",\"colorbar\":{\"outlinewidth\":0,\"ticks\":\"\"},\"colorscale\":[[0.0,\"#0d0887\"],[0.1111111111111111,\"#46039f\"],[0.2222222222222222,\"#7201a8\"],[0.3333333333333333,\"#9c179e\"],[0.4444444444444444,\"#bd3786\"],[0.5555555555555556,\"#d8576b\"],[0.6666666666666666,\"#ed7953\"],[0.7777777777777778,\"#fb9f3a\"],[0.8888888888888888,\"#fdca26\"],[1.0,\"#f0f921\"]]}],\"surface\":[{\"type\":\"surface\",\"colorbar\":{\"outlinewidth\":0,\"ticks\":\"\"},\"colorscale\":[[0.0,\"#0d0887\"],[0.1111111111111111,\"#46039f\"],[0.2222222222222222,\"#7201a8\"],[0.3333333333333333,\"#9c179e\"],[0.4444444444444444,\"#bd3786\"],[0.5555555555555556,\"#d8576b\"],[0.6666666666666666,\"#ed7953\"],[0.7777777777777778,\"#fb9f3a\"],[0.8888888888888888,\"#fdca26\"],[1.0,\"#f0f921\"]]}],\"mesh3d\":[{\"type\":\"mesh3d\",\"colorbar\":{\"outlinewidth\":0,\"ticks\":\"\"}}],\"scatter\":[{\"fillpattern\":{\"fillmode\":\"overlay\",\"size\":10,\"solidity\":0.2},\"type\":\"scatter\"}],\"parcoords\":[{\"type\":\"parcoords\",\"line\":{\"colorbar\":{\"outlinewidth\":0,\"ticks\":\"\"}}}],\"scatterpolargl\":[{\"type\":\"scatterpolargl\",\"marker\":{\"colorbar\":{\"outlinewidth\":0,\"ticks\":\"\"}}}],\"bar\":[{\"error_x\":{\"color\":\"#2a3f5f\"},\"error_y\":{\"color\":\"#2a3f5f\"},\"marker\":{\"line\":{\"color\":\"#E5ECF6\",\"width\":0.5},\"pattern\":{\"fillmode\":\"overlay\",\"size\":10,\"solidity\":0.2}},\"type\":\"bar\"}],\"scattergeo\":[{\"type\":\"scattergeo\",\"marker\":{\"colorbar\":{\"outlinewidth\":0,\"ticks\":\"\"}}}],\"scatterpolar\":[{\"type\":\"scatterpolar\",\"marker\":{\"colorbar\":{\"outlinewidth\":0,\"ticks\":\"\"}}}],\"histogram\":[{\"marker\":{\"pattern\":{\"fillmode\":\"overlay\",\"size\":10,\"solidity\":0.2}},\"type\":\"histogram\"}],\"scattergl\":[{\"type\":\"scattergl\",\"marker\":{\"colorbar\":{\"outlinewidth\":0,\"ticks\":\"\"}}}],\"scatter3d\":[{\"type\":\"scatter3d\",\"line\":{\"colorbar\":{\"outlinewidth\":0,\"ticks\":\"\"}},\"marker\":{\"colorbar\":{\"outlinewidth\":0,\"ticks\":\"\"}}}],\"scattermapbox\":[{\"type\":\"scattermapbox\",\"marker\":{\"colorbar\":{\"outlinewidth\":0,\"ticks\":\"\"}}}],\"scatterternary\":[{\"type\":\"scatterternary\",\"marker\":{\"colorbar\":{\"outlinewidth\":0,\"ticks\":\"\"}}}],\"scattercarpet\":[{\"type\":\"scattercarpet\",\"marker\":{\"colorbar\":{\"outlinewidth\":0,\"ticks\":\"\"}}}],\"carpet\":[{\"aaxis\":{\"endlinecolor\":\"#2a3f5f\",\"gridcolor\":\"white\",\"linecolor\":\"white\",\"minorgridcolor\":\"white\",\"startlinecolor\":\"#2a3f5f\"},\"baxis\":{\"endlinecolor\":\"#2a3f5f\",\"gridcolor\":\"white\",\"linecolor\":\"white\",\"minorgridcolor\":\"white\",\"startlinecolor\":\"#2a3f5f\"},\"type\":\"carpet\"}],\"table\":[{\"cells\":{\"fill\":{\"color\":\"#EBF0F8\"},\"line\":{\"color\":\"white\"}},\"header\":{\"fill\":{\"color\":\"#C8D4E3\"},\"line\":{\"color\":\"white\"}},\"type\":\"table\"}],\"barpolar\":[{\"marker\":{\"line\":{\"color\":\"#E5ECF6\",\"width\":0.5},\"pattern\":{\"fillmode\":\"overlay\",\"size\":10,\"solidity\":0.2}},\"type\":\"barpolar\"}],\"pie\":[{\"automargin\":true,\"type\":\"pie\"}]},\"layout\":{\"autotypenumbers\":\"strict\",\"colorway\":[\"#636efa\",\"#EF553B\",\"#00cc96\",\"#ab63fa\",\"#FFA15A\",\"#19d3f3\",\"#FF6692\",\"#B6E880\",\"#FF97FF\",\"#FECB52\"],\"font\":{\"color\":\"#2a3f5f\"},\"hovermode\":\"closest\",\"hoverlabel\":{\"align\":\"left\"},\"paper_bgcolor\":\"white\",\"plot_bgcolor\":\"#E5ECF6\",\"polar\":{\"bgcolor\":\"#E5ECF6\",\"angularaxis\":{\"gridcolor\":\"white\",\"linecolor\":\"white\",\"ticks\":\"\"},\"radialaxis\":{\"gridcolor\":\"white\",\"linecolor\":\"white\",\"ticks\":\"\"}},\"ternary\":{\"bgcolor\":\"#E5ECF6\",\"aaxis\":{\"gridcolor\":\"white\",\"linecolor\":\"white\",\"ticks\":\"\"},\"baxis\":{\"gridcolor\":\"white\",\"linecolor\":\"white\",\"ticks\":\"\"},\"caxis\":{\"gridcolor\":\"white\",\"linecolor\":\"white\",\"ticks\":\"\"}},\"coloraxis\":{\"colorbar\":{\"outlinewidth\":0,\"ticks\":\"\"}},\"colorscale\":{\"sequential\":[[0.0,\"#0d0887\"],[0.1111111111111111,\"#46039f\"],[0.2222222222222222,\"#7201a8\"],[0.3333333333333333,\"#9c179e\"],[0.4444444444444444,\"#bd3786\"],[0.5555555555555556,\"#d8576b\"],[0.6666666666666666,\"#ed7953\"],[0.7777777777777778,\"#fb9f3a\"],[0.8888888888888888,\"#fdca26\"],[1.0,\"#f0f921\"]],\"sequentialminus\":[[0.0,\"#0d0887\"],[0.1111111111111111,\"#46039f\"],[0.2222222222222222,\"#7201a8\"],[0.3333333333333333,\"#9c179e\"],[0.4444444444444444,\"#bd3786\"],[0.5555555555555556,\"#d8576b\"],[0.6666666666666666,\"#ed7953\"],[0.7777777777777778,\"#fb9f3a\"],[0.8888888888888888,\"#fdca26\"],[1.0,\"#f0f921\"]],\"diverging\":[[0,\"#8e0152\"],[0.1,\"#c51b7d\"],[0.2,\"#de77ae\"],[0.3,\"#f1b6da\"],[0.4,\"#fde0ef\"],[0.5,\"#f7f7f7\"],[0.6,\"#e6f5d0\"],[0.7,\"#b8e186\"],[0.8,\"#7fbc41\"],[0.9,\"#4d9221\"],[1,\"#276419\"]]},\"xaxis\":{\"gridcolor\":\"white\",\"linecolor\":\"white\",\"ticks\":\"\",\"title\":{\"standoff\":15},\"zerolinecolor\":\"white\",\"automargin\":true,\"zerolinewidth\":2},\"yaxis\":{\"gridcolor\":\"white\",\"linecolor\":\"white\",\"ticks\":\"\",\"title\":{\"standoff\":15},\"zerolinecolor\":\"white\",\"automargin\":true,\"zerolinewidth\":2},\"scene\":{\"xaxis\":{\"backgroundcolor\":\"#E5ECF6\",\"gridcolor\":\"white\",\"linecolor\":\"white\",\"showbackground\":true,\"ticks\":\"\",\"zerolinecolor\":\"white\",\"gridwidth\":2},\"yaxis\":{\"backgroundcolor\":\"#E5ECF6\",\"gridcolor\":\"white\",\"linecolor\":\"white\",\"showbackground\":true,\"ticks\":\"\",\"zerolinecolor\":\"white\",\"gridwidth\":2},\"zaxis\":{\"backgroundcolor\":\"#E5ECF6\",\"gridcolor\":\"white\",\"linecolor\":\"white\",\"showbackground\":true,\"ticks\":\"\",\"zerolinecolor\":\"white\",\"gridwidth\":2}},\"shapedefaults\":{\"line\":{\"color\":\"#2a3f5f\"}},\"annotationdefaults\":{\"arrowcolor\":\"#2a3f5f\",\"arrowhead\":0,\"arrowwidth\":1},\"geo\":{\"bgcolor\":\"white\",\"landcolor\":\"#E5ECF6\",\"subunitcolor\":\"white\",\"showland\":true,\"showlakes\":true,\"lakecolor\":\"white\"},\"title\":{\"x\":0.05},\"mapbox\":{\"style\":\"light\"}}},\"xaxis\":{\"anchor\":\"y\",\"domain\":[0.0,1.0],\"title\":{\"text\":\"Firearm Mortality\"}},\"yaxis\":{\"anchor\":\"x\",\"domain\":[0.0,1.0],\"title\":{\"text\":\"Firearm Mortality Rate\"}},\"coloraxis\":{\"colorbar\":{\"title\":{\"text\":\"YEAR\"}},\"colorscale\":[[0.0,\"#0d0887\"],[0.1111111111111111,\"#46039f\"],[0.2222222222222222,\"#7201a8\"],[0.3333333333333333,\"#9c179e\"],[0.4444444444444444,\"#bd3786\"],[0.5555555555555556,\"#d8576b\"],[0.6666666666666666,\"#ed7953\"],[0.7777777777777778,\"#fb9f3a\"],[0.8888888888888888,\"#fdca26\"],[1.0,\"#f0f921\"]]},\"legend\":{\"tracegroupgap\":0},\"title\":{\"text\":\"Firearm Mortality Counts by Rate and Year\"},\"height\":500},                        {\"responsive\": true}                    ).then(function(){\n",
       "                            \n",
       "var gd = document.getElementById('5e2635c4-ec4a-4681-91cc-b38460f7e2ab');\n",
       "var x = new MutationObserver(function (mutations, observer) {{\n",
       "        var display = window.getComputedStyle(gd).display;\n",
       "        if (!display || display === 'none') {{\n",
       "            console.log([gd, 'removed!']);\n",
       "            Plotly.purge(gd);\n",
       "            observer.disconnect();\n",
       "        }}\n",
       "}});\n",
       "\n",
       "// Listen for the removal of the full notebook cells\n",
       "var notebookContainer = gd.closest('#notebook-container');\n",
       "if (notebookContainer) {{\n",
       "    x.observe(notebookContainer, {childList: true});\n",
       "}}\n",
       "\n",
       "// Listen for the clearing of the current output cell\n",
       "var outputEl = gd.closest('.output');\n",
       "if (outputEl) {{\n",
       "    x.observe(outputEl, {childList: true});\n",
       "}}\n",
       "\n",
       "                        })                };                });            </script>        </div>"
      ]
     },
     "metadata": {},
     "output_type": "display_data"
    }
   ],
   "source": [
    "# Firearm Mortality Counts by Rate and Year\n",
    "fig = px.scatter(firearm_mortality, x='DEATHS', y='RATE', color='YEAR',\n",
    "                 labels={'DEATHS': 'Firearm Mortality', 'RATE': 'Firearm Mortality Rate'},\n",
    "                 title='Firearm Mortality Counts by Rate and Year',\n",
    "                 template='plotly', height=500)\n",
    "fig.show()"
   ]
  },
  {
   "cell_type": "markdown",
   "id": "387c3a49-3e64-403b-a9b2-10a5f382dd0b",
   "metadata": {},
   "source": [
    "> Next we look at the chart above, put into the context of states"
   ]
  },
  {
   "cell_type": "code",
   "execution_count": 110,
   "id": "ce091230-6738-4fac-8b50-48bd9696582a",
   "metadata": {
    "tags": []
   },
   "outputs": [
    {
     "data": {
      "application/vnd.plotly.v1+json": {
       "config": {
        "plotlyServerURL": "https://plot.ly"
       },
       "data": [
        {
         "hovertemplate": "STATE=AL<br>Firearm Mortality=%{x}<br>Firearm Mortality Rate=%{y}<extra></extra>",
         "legendgroup": "AL",
         "marker": {
          "color": "#636efa",
          "symbol": "circle"
         },
         "mode": "markers",
         "name": "AL",
         "orientation": "v",
         "showlegend": true,
         "type": "scatter",
         "x": [
          1315,
          1141,
          1076,
          1064,
          1124,
          1046,
          958,
          815,
          736
         ],
         "xaxis": "x",
         "y": [
          26.4,
          23.6,
          22.2,
          21.8,
          22.9,
          21.5,
          19.6,
          16.9,
          16
         ],
         "yaxis": "y"
        },
        {
         "hovertemplate": "STATE=AK<br>Firearm Mortality=%{x}<br>Firearm Mortality Rate=%{y}<extra></extra>",
         "legendgroup": "AK",
         "marker": {
          "color": "#EF553B",
          "symbol": "circle"
         },
         "mode": "markers",
         "name": "AK",
         "orientation": "v",
         "showlegend": true,
         "type": "scatter",
         "x": [
          182,
          175,
          179,
          155,
          180,
          177,
          177,
          145,
          116
         ],
         "xaxis": "x",
         "y": [
          25.2,
          23.5,
          24.4,
          21,
          24.5,
          23.3,
          23.4,
          19.2,
          17.5
         ],
         "yaxis": "y"
        },
        {
         "hovertemplate": "STATE=AZ<br>Firearm Mortality=%{x}<br>Firearm Mortality Rate=%{y}<extra></extra>",
         "legendgroup": "AZ",
         "marker": {
          "color": "#00cc96",
          "symbol": "circle"
         },
         "mode": "markers",
         "name": "AZ",
         "orientation": "v",
         "showlegend": true,
         "type": "scatter",
         "x": [
          1365,
          1265,
          1136,
          1147,
          1134,
          1094,
          970,
          927,
          934
         ],
         "xaxis": "x",
         "y": [
          18.3,
          16.7,
          15.1,
          15.3,
          15.8,
          15.2,
          13.8,
          13.5,
          16.1
         ],
         "yaxis": "y"
        },
        {
         "hovertemplate": "STATE=AR<br>Firearm Mortality=%{x}<br>Firearm Mortality Rate=%{y}<extra></extra>",
         "legendgroup": "AR",
         "marker": {
          "color": "#ab63fa",
          "symbol": "circle"
         },
         "mode": "markers",
         "name": "AR",
         "orientation": "v",
         "showlegend": true,
         "type": "scatter",
         "x": [
          698,
          673,
          580,
          573,
          613,
          541,
          520,
          496,
          439
         ],
         "xaxis": "x",
         "y": [
          23.3,
          22.6,
          19.3,
          18.9,
          20.3,
          17.8,
          16.9,
          16.6,
          15.7
         ],
         "yaxis": "y"
        },
        {
         "hovertemplate": "STATE=CA<br>Firearm Mortality=%{x}<br>Firearm Mortality Rate=%{y}<extra></extra>",
         "legendgroup": "CA",
         "marker": {
          "color": "#FFA15A",
          "symbol": "circle"
         },
         "mode": "markers",
         "name": "CA",
         "orientation": "v",
         "showlegend": true,
         "type": "scatter",
         "x": [
          3576,
          3449,
          2945,
          3040,
          3184,
          3184,
          3095,
          2942,
          3453
         ],
         "xaxis": "x",
         "y": [
          9,
          8.5,
          7.2,
          7.5,
          7.9,
          7.9,
          7.7,
          7.4,
          9.5
         ],
         "yaxis": "y"
        },
        {
         "hovertemplate": "STATE=CO<br>Firearm Mortality=%{x}<br>Firearm Mortality Rate=%{y}<extra></extra>",
         "legendgroup": "CO",
         "marker": {
          "color": "#19d3f3",
          "symbol": "circle"
         },
         "mode": "markers",
         "name": "CO",
         "orientation": "v",
         "showlegend": true,
         "type": "scatter",
         "x": [
          1064,
          922,
          846,
          889,
          779,
          812,
          701,
          663,
          535
         ],
         "xaxis": "x",
         "y": [
          17.8,
          15.4,
          14.2,
          15.2,
          13.4,
          14.3,
          12.6,
          12.2,
          11.6
         ],
         "yaxis": "y"
        },
        {
         "hovertemplate": "STATE=CT<br>Firearm Mortality=%{x}<br>Firearm Mortality Rate=%{y}<extra></extra>",
         "legendgroup": "CT",
         "marker": {
          "color": "#FF6692",
          "symbol": "circle"
         },
         "mode": "markers",
         "name": "CT",
         "orientation": "v",
         "showlegend": true,
         "type": "scatter",
         "x": [
          248,
          219,
          190,
          186,
          188,
          172,
          189,
          187,
          187
         ],
         "xaxis": "x",
         "y": [
          6.7,
          6,
          5.3,
          4.9,
          5.1,
          4.6,
          5.3,
          5,
          5.3
         ],
         "yaxis": "y"
        },
        {
         "hovertemplate": "STATE=DE<br>Firearm Mortality=%{x}<br>Firearm Mortality Rate=%{y}<extra></extra>",
         "legendgroup": "DE",
         "marker": {
          "color": "#B6E880",
          "symbol": "circle"
         },
         "mode": "markers",
         "name": "DE",
         "orientation": "v",
         "showlegend": true,
         "type": "scatter",
         "x": [
          158,
          135,
          93,
          107,
          111,
          111,
          112,
          102,
          75
         ],
         "xaxis": "x",
         "y": [
          16.6,
          14.4,
          9.9,
          11.6,
          11.7,
          11,
          12.1,
          11.1,
          8.8
         ],
         "yaxis": "y"
        },
        {
         "hovertemplate": "STATE=FL<br>Firearm Mortality=%{x}<br>Firearm Mortality Rate=%{y}<extra></extra>",
         "legendgroup": "FL",
         "marker": {
          "color": "#FF97FF",
          "symbol": "circle"
         },
         "mode": "markers",
         "name": "FL",
         "orientation": "v",
         "showlegend": true,
         "type": "scatter",
         "x": [
          3142,
          3041,
          2872,
          2902,
          2724,
          2704,
          2559,
          2410,
          1838
         ],
         "xaxis": "x",
         "y": [
          14.1,
          13.7,
          12.7,
          12.9,
          12.4,
          12.6,
          12,
          11.5,
          10
         ],
         "yaxis": "y"
        },
        {
         "hovertemplate": "STATE=GA<br>Firearm Mortality=%{x}<br>Firearm Mortality Rate=%{y}<extra></extra>",
         "legendgroup": "GA",
         "marker": {
          "color": "#FECB52",
          "symbol": "circle"
         },
         "mode": "markers",
         "name": "GA",
         "orientation": "v",
         "showlegend": true,
         "type": "scatter",
         "x": [
          2200,
          1897,
          1695,
          1680,
          1623,
          1571,
          1448,
          1391,
          1064
         ],
         "xaxis": "x",
         "y": [
          20.3,
          17.7,
          15.8,
          15.7,
          15.4,
          15,
          14.1,
          13.7,
          12.1
         ],
         "yaxis": "y"
        },
        {
         "hovertemplate": "STATE=HI<br>Firearm Mortality=%{x}<br>Firearm Mortality Rate=%{y}<extra></extra>",
         "legendgroup": "HI",
         "marker": {
          "color": "#636efa",
          "symbol": "circle"
         },
         "mode": "markers",
         "name": "HI",
         "orientation": "v",
         "showlegend": true,
         "type": "scatter",
         "x": [
          71,
          50,
          62,
          59,
          39,
          66,
          55,
          40,
          28
         ],
         "xaxis": "x",
         "y": [
          4.8,
          3.4,
          4.4,
          4,
          2.5,
          4.5,
          3.6,
          2.6,
          2.1
         ],
         "yaxis": "y"
        },
        {
         "hovertemplate": "STATE=ID<br>Firearm Mortality=%{x}<br>Firearm Mortality Rate=%{y}<extra></extra>",
         "legendgroup": "ID",
         "marker": {
          "color": "#EF553B",
          "symbol": "circle"
         },
         "mode": "markers",
         "name": "ID",
         "orientation": "v",
         "showlegend": true,
         "type": "scatter",
         "x": [
          309,
          321,
          255,
          294,
          280,
          242,
          247,
          213,
          195
         ],
         "xaxis": "x",
         "y": [
          16.3,
          17.6,
          14.2,
          16.6,
          16.4,
          14.6,
          14.7,
          13.2,
          14.1
         ],
         "yaxis": "y"
        },
        {
         "hovertemplate": "STATE=IL<br>Firearm Mortality=%{x}<br>Firearm Mortality Rate=%{y}<extra></extra>",
         "legendgroup": "IL",
         "marker": {
          "color": "#00cc96",
          "symbol": "circle"
         },
         "mode": "markers",
         "name": "IL",
         "orientation": "v",
         "showlegend": true,
         "type": "scatter",
         "x": [
          1995,
          1745,
          1367,
          1382,
          1543,
          1490,
          1220,
          1179,
          1019
         ],
         "xaxis": "x",
         "y": [
          16.1,
          14.1,
          10.8,
          10.9,
          12.1,
          11.7,
          9.5,
          9,
          8
         ],
         "yaxis": "y"
        },
        {
         "hovertemplate": "STATE=IN<br>Firearm Mortality=%{x}<br>Firearm Mortality Rate=%{y}<extra></extra>",
         "legendgroup": "IN",
         "marker": {
          "color": "#ab63fa",
          "symbol": "circle"
         },
         "mode": "markers",
         "name": "IN",
         "orientation": "v",
         "showlegend": true,
         "type": "scatter",
         "x": [
          1251,
          1159,
          958,
          977,
          1016,
          997,
          846,
          818,
          705
         ],
         "xaxis": "x",
         "y": [
          18.4,
          17.3,
          14.1,
          14.7,
          15.3,
          15,
          12.7,
          12.4,
          11.2
         ],
         "yaxis": "y"
        },
        {
         "hovertemplate": "STATE=IA<br>Firearm Mortality=%{x}<br>Firearm Mortality Rate=%{y}<extra></extra>",
         "legendgroup": "IA",
         "marker": {
          "color": "#FFA15A",
          "symbol": "circle"
         },
         "mode": "markers",
         "name": "IA",
         "orientation": "v",
         "showlegend": true,
         "type": "scatter",
         "x": [
          364,
          351,
          294,
          282,
          293,
          288,
          247,
          241,
          201
         ],
         "xaxis": "x",
         "y": [
          11.2,
          11.2,
          9.1,
          8.7,
          9,
          9.2,
          7.8,
          7.5,
          6.7
         ],
         "yaxis": "y"
        },
        {
         "hovertemplate": "STATE=KS<br>Firearm Mortality=%{x}<br>Firearm Mortality Rate=%{y}<extra></extra>",
         "legendgroup": "KS",
         "marker": {
          "color": "#19d3f3",
          "symbol": "circle"
         },
         "mode": "markers",
         "name": "KS",
         "orientation": "v",
         "showlegend": true,
         "type": "scatter",
         "x": [
          503,
          494,
          403,
          424,
          466,
          383,
          330,
          329,
          257
         ],
         "xaxis": "x",
         "y": [
          17.3,
          16.9,
          13.7,
          14.8,
          16,
          13.4,
          11.4,
          11.3,
          9.3
         ],
         "yaxis": "y"
        },
        {
         "hovertemplate": "STATE=KY<br>Firearm Mortality=%{x}<br>Firearm Mortality Rate=%{y}<extra></extra>",
         "legendgroup": "KY",
         "marker": {
          "color": "#FF6692",
          "symbol": "circle"
         },
         "mode": "markers",
         "name": "KY",
         "orientation": "v",
         "showlegend": true,
         "type": "scatter",
         "x": [
          947,
          902,
          682,
          762,
          730,
          772,
          694,
          634,
          548
         ],
         "xaxis": "x",
         "y": [
          21.1,
          20.1,
          14.9,
          16.9,
          16.2,
          17.5,
          15.2,
          13.9,
          13
         ],
         "yaxis": "y"
        },
        {
         "hovertemplate": "STATE=LA<br>Firearm Mortality=%{x}<br>Firearm Mortality Rate=%{y}<extra></extra>",
         "legendgroup": "LA",
         "marker": {
          "color": "#B6E880",
          "symbol": "circle"
         },
         "mode": "markers",
         "name": "LA",
         "orientation": "v",
         "showlegend": true,
         "type": "scatter",
         "x": [
          1314,
          1183,
          1013,
          991,
          1008,
          987,
          952,
          896,
          858
         ],
         "xaxis": "x",
         "y": [
          29.1,
          26.3,
          22.1,
          21.4,
          21.7,
          21.3,
          20.4,
          19,
          18.5
         ],
         "yaxis": "y"
        },
        {
         "hovertemplate": "STATE=ME<br>Firearm Mortality=%{x}<br>Firearm Mortality Rate=%{y}<extra></extra>",
         "legendgroup": "ME",
         "marker": {
          "color": "#FF97FF",
          "symbol": "circle"
         },
         "mode": "markers",
         "name": "ME",
         "orientation": "v",
         "showlegend": true,
         "type": "scatter",
         "x": [
          178,
          153,
          163,
          159,
          172,
          123,
          144,
          133,
          109
         ],
         "xaxis": "x",
         "y": [
          12.6,
          10.4,
          11.5,
          10.3,
          11.7,
          8.3,
          9.8,
          9.4,
          7.8
         ],
         "yaxis": "y"
        },
        {
         "hovertemplate": "STATE=MD<br>Firearm Mortality=%{x}<br>Firearm Mortality Rate=%{y}<extra></extra>",
         "legendgroup": "MD",
         "marker": {
          "color": "#FECB52",
          "symbol": "circle"
         },
         "mode": "markers",
         "name": "MD",
         "orientation": "v",
         "showlegend": true,
         "type": "scatter",
         "x": [
          915,
          803,
          757,
          707,
          742,
          707,
          708,
          546,
          657
         ],
         "xaxis": "x",
         "y": [
          15.2,
          13.5,
          12.6,
          11.7,
          12.3,
          11.9,
          11.9,
          9,
          11.9
         ],
         "yaxis": "y"
        },
        {
         "hovertemplate": "STATE=MA<br>Firearm Mortality=%{x}<br>Firearm Mortality Rate=%{y}<extra></extra>",
         "legendgroup": "MA",
         "marker": {
          "color": "#636efa",
          "symbol": "circle"
         },
         "mode": "markers",
         "name": "MA",
         "orientation": "v",
         "showlegend": true,
         "type": "scatter",
         "x": [
          247,
          268,
          247,
          258,
          262,
          242,
          213,
          226,
          224
         ],
         "xaxis": "x",
         "y": [
          3.4,
          3.7,
          3.4,
          3.5,
          3.7,
          3.4,
          3,
          3.2,
          3.4
         ],
         "yaxis": "y"
        },
        {
         "hovertemplate": "STATE=MI<br>Firearm Mortality=%{x}<br>Firearm Mortality Rate=%{y}<extra></extra>",
         "legendgroup": "MI",
         "marker": {
          "color": "#EF553B",
          "symbol": "circle"
         },
         "mode": "markers",
         "name": "MI",
         "orientation": "v",
         "showlegend": true,
         "type": "scatter",
         "x": [
          1544,
          1454,
          1220,
          1310,
          1138,
          1230,
          1164,
          1095,
          1074
         ],
         "xaxis": "x",
         "y": [
          15.4,
          14.6,
          12.1,
          12.9,
          11.3,
          12.3,
          11.7,
          11.1,
          10.8
         ],
         "yaxis": "y"
        },
        {
         "hovertemplate": "STATE=MN<br>Firearm Mortality=%{x}<br>Firearm Mortality Rate=%{y}<extra></extra>",
         "legendgroup": "MN",
         "marker": {
          "color": "#00cc96",
          "symbol": "circle"
         },
         "mode": "markers",
         "name": "MN",
         "orientation": "v",
         "showlegend": true,
         "type": "scatter",
         "x": [
          573,
          513,
          465,
          437,
          465,
          432,
          410,
          377,
          361
         ],
         "xaxis": "x",
         "y": [
          10,
          8.9,
          8.1,
          7.8,
          8.2,
          7.6,
          7.4,
          6.6,
          7
         ],
         "yaxis": "y"
        },
        {
         "hovertemplate": "STATE=MS<br>Firearm Mortality=%{x}<br>Firearm Mortality Rate=%{y}<extra></extra>",
         "legendgroup": "MS",
         "marker": {
          "color": "#ab63fa",
          "symbol": "circle"
         },
         "mode": "markers",
         "name": "MS",
         "orientation": "v",
         "showlegend": true,
         "type": "scatter",
         "x": [
          962,
          818,
          710,
          681,
          632,
          587,
          589,
          547,
          455
         ],
         "xaxis": "x",
         "y": [
          33.9,
          28.6,
          24.2,
          22.9,
          21.5,
          19.9,
          19.6,
          18.3,
          16
         ],
         "yaxis": "y"
        },
        {
         "hovertemplate": "STATE=MO<br>Firearm Mortality=%{x}<br>Firearm Mortality Rate=%{y}<extra></extra>",
         "legendgroup": "MO",
         "marker": {
          "color": "#FFA15A",
          "symbol": "circle"
         },
         "mode": "markers",
         "name": "MO",
         "orientation": "v",
         "showlegend": true,
         "type": "scatter",
         "x": [
          1414,
          1426,
          1252,
          1311,
          1307,
          1144,
          1094,
          943,
          752
         ],
         "xaxis": "x",
         "y": [
          23.2,
          23.9,
          20.6,
          21.5,
          21.5,
          19,
          18.1,
          15.3,
          12.9
         ],
         "yaxis": "y"
        },
        {
         "hovertemplate": "STATE=MT<br>Firearm Mortality=%{x}<br>Firearm Mortality Rate=%{y}<extra></extra>",
         "legendgroup": "MT",
         "marker": {
          "color": "#19d3f3",
          "symbol": "circle"
         },
         "mode": "markers",
         "name": "MT",
         "orientation": "v",
         "showlegend": true,
         "type": "scatter",
         "x": [
          280,
          238,
          209,
          186,
          244,
          194,
          205,
          172,
          161
         ],
         "xaxis": "x",
         "y": [
          25.1,
          20.9,
          19,
          17.3,
          22.5,
          18.9,
          19.2,
          16.1,
          16.9
         ],
         "yaxis": "y"
        },
        {
         "hovertemplate": "STATE=NE<br>Firearm Mortality=%{x}<br>Firearm Mortality Rate=%{y}<extra></extra>",
         "legendgroup": "NE",
         "marker": {
          "color": "#FF6692",
          "symbol": "circle"
         },
         "mode": "markers",
         "name": "NE",
         "orientation": "v",
         "showlegend": true,
         "type": "scatter",
         "x": [
          200,
          197,
          205,
          183,
          160,
          171,
          169,
          179,
          135
         ],
         "xaxis": "x",
         "y": [
          10.3,
          10.1,
          10.4,
          9,
          8.3,
          9.1,
          8.9,
          9.5,
          7.7
         ],
         "yaxis": "y"
        },
        {
         "hovertemplate": "STATE=NV<br>Firearm Mortality=%{x}<br>Firearm Mortality Rate=%{y}<extra></extra>",
         "legendgroup": "NV",
         "marker": {
          "color": "#B6E880",
          "symbol": "circle"
         },
         "mode": "markers",
         "name": "NV",
         "orientation": "v",
         "showlegend": true,
         "type": "scatter",
         "x": [
          633,
          547,
          490,
          550,
          508,
          498,
          446,
          429,
          390
         ],
         "xaxis": "x",
         "y": [
          19.8,
          17,
          15.3,
          17.9,
          16.7,
          16.8,
          14.9,
          14.8,
          16.1
         ],
         "yaxis": "y"
        },
        {
         "hovertemplate": "STATE=NH<br>Firearm Mortality=%{x}<br>Firearm Mortality Rate=%{y}<extra></extra>",
         "legendgroup": "NH",
         "marker": {
          "color": "#FF97FF",
          "symbol": "circle"
         },
         "mode": "markers",
         "name": "NH",
         "orientation": "v",
         "showlegend": true,
         "type": "scatter",
         "x": [
          123,
          128,
          156,
          155,
          146,
          132,
          121,
          122,
          88
         ],
         "xaxis": "x",
         "y": [
          8.3,
          8.9,
          10.7,
          10.8,
          10.4,
          9.3,
          8.9,
          8.7,
          6.6
         ],
         "yaxis": "y"
        },
        {
         "hovertemplate": "STATE=NJ<br>Firearm Mortality=%{x}<br>Firearm Mortality Rate=%{y}<extra></extra>",
         "legendgroup": "NJ",
         "marker": {
          "color": "#FECB52",
          "symbol": "circle"
         },
         "mode": "markers",
         "name": "NJ",
         "orientation": "v",
         "showlegend": true,
         "type": "scatter",
         "x": [
          475,
          443,
          368,
          420,
          478,
          485,
          475,
          468,
          434
         ],
         "xaxis": "x",
         "y": [
          5.2,
          5,
          4.1,
          4.8,
          5.3,
          5.5,
          5.4,
          5.3,
          5.2
         ],
         "yaxis": "y"
        },
        {
         "hovertemplate": "STATE=NM<br>Firearm Mortality=%{x}<br>Firearm Mortality Rate=%{y}<extra></extra>",
         "legendgroup": "NM",
         "marker": {
          "color": "#636efa",
          "symbol": "circle"
         },
         "mode": "markers",
         "name": "NM",
         "orientation": "v",
         "showlegend": true,
         "type": "scatter",
         "x": [
          578,
          479,
          471,
          438,
          394,
          383,
          390,
          340,
          267
         ],
         "xaxis": "x",
         "y": [
          27.8,
          22.7,
          22.3,
          20.7,
          18.5,
          18.1,
          18.6,
          16,
          13.9
         ],
         "yaxis": "y"
        },
        {
         "hovertemplate": "STATE=NY<br>Firearm Mortality=%{x}<br>Firearm Mortality Rate=%{y}<extra></extra>",
         "legendgroup": "NY",
         "marker": {
          "color": "#EF553B",
          "symbol": "circle"
         },
         "mode": "markers",
         "name": "NY",
         "orientation": "v",
         "showlegend": true,
         "type": "scatter",
         "x": [
          1078,
          1052,
          804,
          821,
          772,
          900,
          849,
          875,
          1019
         ],
         "xaxis": "x",
         "y": [
          5.4,
          5.3,
          3.9,
          4.1,
          3.7,
          4.4,
          4.2,
          4.2,
          5.3
         ],
         "yaxis": "y"
        },
        {
         "hovertemplate": "STATE=NC<br>Firearm Mortality=%{x}<br>Firearm Mortality Rate=%{y}<extra></extra>",
         "legendgroup": "NC",
         "marker": {
          "color": "#00cc96",
          "symbol": "circle"
         },
         "mode": "markers",
         "name": "NC",
         "orientation": "v",
         "showlegend": true,
         "type": "scatter",
         "x": [
          1839,
          1699,
          1397,
          1416,
          1430,
          1409,
          1289,
          1206,
          1119
         ],
         "xaxis": "x",
         "y": [
          17.3,
          16,
          13.1,
          13.3,
          13.7,
          13.7,
          12.5,
          11.8,
          12.8
         ],
         "yaxis": "y"
        },
        {
         "hovertemplate": "STATE=ND<br>Firearm Mortality=%{x}<br>Firearm Mortality Rate=%{y}<extra></extra>",
         "legendgroup": "ND",
         "marker": {
          "color": "#ab63fa",
          "symbol": "circle"
         },
         "mode": "markers",
         "name": "ND",
         "orientation": "v",
         "showlegend": true,
         "type": "scatter",
         "x": [
          128,
          100,
          93,
          89,
          103,
          90,
          92,
          96,
          61
         ],
         "xaxis": "x",
         "y": [
          16.8,
          13.8,
          12.4,
          11.5,
          13.2,
          11.9,
          12.8,
          12.3,
          8.8
         ],
         "yaxis": "y"
        },
        {
         "hovertemplate": "STATE=OH<br>Firearm Mortality=%{x}<br>Firearm Mortality Rate=%{y}<extra></extra>",
         "legendgroup": "OH",
         "marker": {
          "color": "#FFA15A",
          "symbol": "circle"
         },
         "mode": "markers",
         "name": "OH",
         "orientation": "v",
         "showlegend": true,
         "type": "scatter",
         "x": [
          1911,
          1764,
          1578,
          1555,
          1589,
          1524,
          1397,
          1211,
          1116
         ],
         "xaxis": "x",
         "y": [
          16.5,
          15.2,
          13.3,
          13.1,
          13.7,
          12.9,
          11.9,
          10.3,
          9.6
         ],
         "yaxis": "y"
        },
        {
         "hovertemplate": "STATE=OK<br>Firearm Mortality=%{x}<br>Firearm Mortality Rate=%{y}<extra></extra>",
         "legendgroup": "OK",
         "marker": {
          "color": "#19d3f3",
          "symbol": "circle"
         },
         "mode": "markers",
         "name": "OK",
         "orientation": "v",
         "showlegend": true,
         "type": "scatter",
         "x": [
          836,
          826,
          737,
          665,
          681,
          766,
          706,
          611,
          468
         ],
         "xaxis": "x",
         "y": [
          21.2,
          20.7,
          18.6,
          16.8,
          17.2,
          19.6,
          18,
          15.7,
          13.2
         ],
         "yaxis": "y"
        },
        {
         "hovertemplate": "STATE=OR<br>Firearm Mortality=%{x}<br>Firearm Mortality Rate=%{y}<extra></extra>",
         "legendgroup": "OR",
         "marker": {
          "color": "#FF6692",
          "symbol": "circle"
         },
         "mode": "markers",
         "name": "OR",
         "orientation": "v",
         "showlegend": true,
         "type": "scatter",
         "x": [
          670,
          592,
          566,
          519,
          528,
          513,
          486,
          497,
          402
         ],
         "xaxis": "x",
         "y": [
          14.9,
          13,
          12.6,
          11.7,
          12.1,
          11.9,
          11.4,
          11.7,
          10.7
         ],
         "yaxis": "y"
        },
        {
         "hovertemplate": "STATE=PA<br>Firearm Mortality=%{x}<br>Firearm Mortality Rate=%{y}<extra></extra>",
         "legendgroup": "PA",
         "marker": {
          "color": "#B6E880",
          "symbol": "circle"
         },
         "mode": "markers",
         "name": "PA",
         "orientation": "v",
         "showlegend": true,
         "type": "scatter",
         "x": [
          1905,
          1752,
          1541,
          1654,
          1636,
          1555,
          1485,
          1390,
          1352
         ],
         "xaxis": "x",
         "y": [
          14.8,
          13.6,
          11.7,
          12.5,
          12.5,
          12,
          11.4,
          10.5,
          10.8
         ],
         "yaxis": "y"
        },
        {
         "hovertemplate": "STATE=RI<br>Firearm Mortality=%{x}<br>Firearm Mortality Rate=%{y}<extra></extra>",
         "legendgroup": "RI",
         "marker": {
          "color": "#FF97FF",
          "symbol": "circle"
         },
         "mode": "markers",
         "name": "RI",
         "orientation": "v",
         "showlegend": true,
         "type": "scatter",
         "x": [
          64,
          54,
          48,
          37,
          43,
          49,
          51,
          34,
          39
         ],
         "xaxis": "x",
         "y": [
          5.6,
          5.1,
          4.6,
          3.3,
          3.9,
          4.1,
          4.7,
          3,
          3.6
         ],
         "yaxis": "y"
        },
        {
         "hovertemplate": "STATE=SC<br>Firearm Mortality=%{x}<br>Firearm Mortality Rate=%{y}<extra></extra>",
         "legendgroup": "SC",
         "marker": {
          "color": "#FECB52",
          "symbol": "circle"
         },
         "mode": "markers",
         "name": "SC",
         "orientation": "v",
         "showlegend": true,
         "type": "scatter",
         "x": [
          1136,
          1131,
          1012,
          895,
          893,
          891,
          850,
          767,
          589
         ],
         "xaxis": "x",
         "y": [
          22.4,
          22,
          19.9,
          17.6,
          17.7,
          17.7,
          17.3,
          15.5,
          13.8
         ],
         "yaxis": "y"
        },
        {
         "hovertemplate": "STATE=SD<br>Firearm Mortality=%{x}<br>Firearm Mortality Rate=%{y}<extra></extra>",
         "legendgroup": "SD",
         "marker": {
          "color": "#636efa",
          "symbol": "circle"
         },
         "mode": "markers",
         "name": "SD",
         "orientation": "v",
         "showlegend": true,
         "type": "scatter",
         "x": [
          128,
          120,
          113,
          117,
          101,
          108,
          96,
          89,
          82
         ],
         "xaxis": "x",
         "y": [
          14.3,
          13.6,
          13.1,
          13.6,
          11.9,
          13.4,
          11.1,
          10.3,
          10.2
         ],
         "yaxis": "y"
        },
        {
         "hovertemplate": "STATE=TN<br>Firearm Mortality=%{x}<br>Firearm Mortality Rate=%{y}<extra></extra>",
         "legendgroup": "TN",
         "marker": {
          "color": "#EF553B",
          "symbol": "circle"
         },
         "mode": "markers",
         "name": "TN",
         "orientation": "v",
         "showlegend": true,
         "type": "scatter",
         "x": [
          1569,
          1473,
          1270,
          1228,
          1246,
          1148,
          1075,
          1016,
          976
         ],
         "xaxis": "x",
         "y": [
          22.8,
          21.3,
          18.4,
          17.8,
          18.4,
          17.1,
          16,
          15.1,
          16
         ],
         "yaxis": "y"
        },
        {
         "hovertemplate": "STATE=TX<br>Firearm Mortality=%{x}<br>Firearm Mortality Rate=%{y}<extra></extra>",
         "legendgroup": "TX",
         "marker": {
          "color": "#00cc96",
          "symbol": "circle"
         },
         "mode": "markers",
         "name": "TX",
         "orientation": "v",
         "showlegend": true,
         "type": "scatter",
         "x": [
          4613,
          4164,
          3683,
          3522,
          3513,
          3353,
          3203,
          2848,
          2490
         ],
         "xaxis": "x",
         "y": [
          15.6,
          14.2,
          12.7,
          12.2,
          12.4,
          12.1,
          11.7,
          10.7,
          11.1
         ],
         "yaxis": "y"
        },
        {
         "hovertemplate": "STATE=UT<br>Firearm Mortality=%{x}<br>Firearm Mortality Rate=%{y}<extra></extra>",
         "legendgroup": "UT",
         "marker": {
          "color": "#ab63fa",
          "symbol": "circle"
         },
         "mode": "markers",
         "name": "UT",
         "orientation": "v",
         "showlegend": true,
         "type": "scatter",
         "x": [
          450,
          429,
          394,
          397,
          410,
          370,
          367,
          337,
          227
         ],
         "xaxis": "x",
         "y": [
          13.9,
          13.6,
          12.8,
          13.2,
          14,
          12.9,
          12.8,
          12.3,
          10.1
         ],
         "yaxis": "y"
        },
        {
         "hovertemplate": "STATE=VT<br>Firearm Mortality=%{x}<br>Firearm Mortality Rate=%{y}<extra></extra>",
         "legendgroup": "VT",
         "marker": {
          "color": "#FFA15A",
          "symbol": "circle"
         },
         "mode": "markers",
         "name": "VT",
         "orientation": "v",
         "showlegend": true,
         "type": "scatter",
         "x": [
          83,
          76,
          67,
          82,
          70,
          78,
          70,
          69,
          44
         ],
         "xaxis": "x",
         "y": [
          11.9,
          11.6,
          9.3,
          12.8,
          11.7,
          11.1,
          9.6,
          10.3,
          6.8
         ],
         "yaxis": "y"
        },
        {
         "hovertemplate": "STATE=VA<br>Firearm Mortality=%{x}<br>Firearm Mortality Rate=%{y}<extra></extra>",
         "legendgroup": "VA",
         "marker": {
          "color": "#19d3f3",
          "symbol": "circle"
         },
         "mode": "markers",
         "name": "VA",
         "orientation": "v",
         "showlegend": true,
         "type": "scatter",
         "x": [
          1248,
          1174,
          1025,
          1035,
          1041,
          1049,
          946,
          889,
          888
         ],
         "xaxis": "x",
         "y": [
          14.3,
          13.4,
          11.7,
          11.8,
          11.9,
          12.1,
          10.9,
          10.3,
          11.5
         ],
         "yaxis": "y"
        },
        {
         "hovertemplate": "STATE=WA<br>Firearm Mortality=%{x}<br>Firearm Mortality Rate=%{y}<extra></extra>",
         "legendgroup": "WA",
         "marker": {
          "color": "#FF6692",
          "symbol": "circle"
         },
         "mode": "markers",
         "name": "WA",
         "orientation": "v",
         "showlegend": true,
         "type": "scatter",
         "x": [
          896,
          864,
          842,
          809,
          849,
          686,
          718,
          702,
          567
         ],
         "xaxis": "x",
         "y": [
          11.2,
          10.9,
          10.7,
          10.4,
          11.1,
          9,
          9.8,
          9.7,
          8.8
         ],
         "yaxis": "y"
        },
        {
         "hovertemplate": "STATE=WV<br>Firearm Mortality=%{x}<br>Firearm Mortality Rate=%{y}<extra></extra>",
         "legendgroup": "WV",
         "marker": {
          "color": "#B6E880",
          "symbol": "circle"
         },
         "mode": "markers",
         "name": "WV",
         "orientation": "v",
         "showlegend": true,
         "type": "scatter",
         "x": [
          319,
          325,
          300,
          343,
          348,
          332,
          278,
          286,
          261
         ],
         "xaxis": "x",
         "y": [
          17.3,
          18.1,
          16.6,
          18.2,
          18.6,
          17.5,
          14,
          14.6,
          13.8
         ],
         "yaxis": "y"
        },
        {
         "hovertemplate": "STATE=WI<br>Firearm Mortality=%{x}<br>Firearm Mortality Rate=%{y}<extra></extra>",
         "legendgroup": "WI",
         "marker": {
          "color": "#FF97FF",
          "symbol": "circle"
         },
         "mode": "markers",
         "name": "WI",
         "orientation": "v",
         "showlegend": true,
         "type": "scatter",
         "x": [
          793,
          717,
          604,
          598,
          624,
          664,
          613,
          487,
          474
         ],
         "xaxis": "x",
         "y": [
          13.5,
          12.2,
          10,
          10.1,
          10.6,
          11.4,
          10.4,
          8.2,
          8.5
         ],
         "yaxis": "y"
        },
        {
         "hovertemplate": "STATE=WY<br>Firearm Mortality=%{x}<br>Firearm Mortality Rate=%{y}<extra></extra>",
         "legendgroup": "WY",
         "marker": {
          "color": "#FECB52",
          "symbol": "circle"
         },
         "mode": "markers",
         "name": "WY",
         "orientation": "v",
         "showlegend": true,
         "type": "scatter",
         "x": [
          155,
          154,
          133,
          124,
          113,
          101,
          113,
          93,
          71
         ],
         "xaxis": "x",
         "y": [
          26.1,
          25.9,
          22.3,
          21.5,
          18.8,
          17.4,
          19.6,
          16.2,
          13.4
         ],
         "yaxis": "y"
        }
       ],
       "layout": {
        "autosize": true,
        "legend": {
         "title": {
          "text": "STATE"
         },
         "tracegroupgap": 0
        },
        "template": {
         "data": {
          "bar": [
           {
            "error_x": {
             "color": "#2a3f5f"
            },
            "error_y": {
             "color": "#2a3f5f"
            },
            "marker": {
             "line": {
              "color": "#E5ECF6",
              "width": 0.5
             },
             "pattern": {
              "fillmode": "overlay",
              "size": 10,
              "solidity": 0.2
             }
            },
            "type": "bar"
           }
          ],
          "barpolar": [
           {
            "marker": {
             "line": {
              "color": "#E5ECF6",
              "width": 0.5
             },
             "pattern": {
              "fillmode": "overlay",
              "size": 10,
              "solidity": 0.2
             }
            },
            "type": "barpolar"
           }
          ],
          "carpet": [
           {
            "aaxis": {
             "endlinecolor": "#2a3f5f",
             "gridcolor": "white",
             "linecolor": "white",
             "minorgridcolor": "white",
             "startlinecolor": "#2a3f5f"
            },
            "baxis": {
             "endlinecolor": "#2a3f5f",
             "gridcolor": "white",
             "linecolor": "white",
             "minorgridcolor": "white",
             "startlinecolor": "#2a3f5f"
            },
            "type": "carpet"
           }
          ],
          "choropleth": [
           {
            "colorbar": {
             "outlinewidth": 0,
             "ticks": ""
            },
            "type": "choropleth"
           }
          ],
          "contour": [
           {
            "colorbar": {
             "outlinewidth": 0,
             "ticks": ""
            },
            "colorscale": [
             [
              0,
              "#0d0887"
             ],
             [
              0.1111111111111111,
              "#46039f"
             ],
             [
              0.2222222222222222,
              "#7201a8"
             ],
             [
              0.3333333333333333,
              "#9c179e"
             ],
             [
              0.4444444444444444,
              "#bd3786"
             ],
             [
              0.5555555555555556,
              "#d8576b"
             ],
             [
              0.6666666666666666,
              "#ed7953"
             ],
             [
              0.7777777777777778,
              "#fb9f3a"
             ],
             [
              0.8888888888888888,
              "#fdca26"
             ],
             [
              1,
              "#f0f921"
             ]
            ],
            "type": "contour"
           }
          ],
          "contourcarpet": [
           {
            "colorbar": {
             "outlinewidth": 0,
             "ticks": ""
            },
            "type": "contourcarpet"
           }
          ],
          "heatmap": [
           {
            "colorbar": {
             "outlinewidth": 0,
             "ticks": ""
            },
            "colorscale": [
             [
              0,
              "#0d0887"
             ],
             [
              0.1111111111111111,
              "#46039f"
             ],
             [
              0.2222222222222222,
              "#7201a8"
             ],
             [
              0.3333333333333333,
              "#9c179e"
             ],
             [
              0.4444444444444444,
              "#bd3786"
             ],
             [
              0.5555555555555556,
              "#d8576b"
             ],
             [
              0.6666666666666666,
              "#ed7953"
             ],
             [
              0.7777777777777778,
              "#fb9f3a"
             ],
             [
              0.8888888888888888,
              "#fdca26"
             ],
             [
              1,
              "#f0f921"
             ]
            ],
            "type": "heatmap"
           }
          ],
          "heatmapgl": [
           {
            "colorbar": {
             "outlinewidth": 0,
             "ticks": ""
            },
            "colorscale": [
             [
              0,
              "#0d0887"
             ],
             [
              0.1111111111111111,
              "#46039f"
             ],
             [
              0.2222222222222222,
              "#7201a8"
             ],
             [
              0.3333333333333333,
              "#9c179e"
             ],
             [
              0.4444444444444444,
              "#bd3786"
             ],
             [
              0.5555555555555556,
              "#d8576b"
             ],
             [
              0.6666666666666666,
              "#ed7953"
             ],
             [
              0.7777777777777778,
              "#fb9f3a"
             ],
             [
              0.8888888888888888,
              "#fdca26"
             ],
             [
              1,
              "#f0f921"
             ]
            ],
            "type": "heatmapgl"
           }
          ],
          "histogram": [
           {
            "marker": {
             "pattern": {
              "fillmode": "overlay",
              "size": 10,
              "solidity": 0.2
             }
            },
            "type": "histogram"
           }
          ],
          "histogram2d": [
           {
            "colorbar": {
             "outlinewidth": 0,
             "ticks": ""
            },
            "colorscale": [
             [
              0,
              "#0d0887"
             ],
             [
              0.1111111111111111,
              "#46039f"
             ],
             [
              0.2222222222222222,
              "#7201a8"
             ],
             [
              0.3333333333333333,
              "#9c179e"
             ],
             [
              0.4444444444444444,
              "#bd3786"
             ],
             [
              0.5555555555555556,
              "#d8576b"
             ],
             [
              0.6666666666666666,
              "#ed7953"
             ],
             [
              0.7777777777777778,
              "#fb9f3a"
             ],
             [
              0.8888888888888888,
              "#fdca26"
             ],
             [
              1,
              "#f0f921"
             ]
            ],
            "type": "histogram2d"
           }
          ],
          "histogram2dcontour": [
           {
            "colorbar": {
             "outlinewidth": 0,
             "ticks": ""
            },
            "colorscale": [
             [
              0,
              "#0d0887"
             ],
             [
              0.1111111111111111,
              "#46039f"
             ],
             [
              0.2222222222222222,
              "#7201a8"
             ],
             [
              0.3333333333333333,
              "#9c179e"
             ],
             [
              0.4444444444444444,
              "#bd3786"
             ],
             [
              0.5555555555555556,
              "#d8576b"
             ],
             [
              0.6666666666666666,
              "#ed7953"
             ],
             [
              0.7777777777777778,
              "#fb9f3a"
             ],
             [
              0.8888888888888888,
              "#fdca26"
             ],
             [
              1,
              "#f0f921"
             ]
            ],
            "type": "histogram2dcontour"
           }
          ],
          "mesh3d": [
           {
            "colorbar": {
             "outlinewidth": 0,
             "ticks": ""
            },
            "type": "mesh3d"
           }
          ],
          "parcoords": [
           {
            "line": {
             "colorbar": {
              "outlinewidth": 0,
              "ticks": ""
             }
            },
            "type": "parcoords"
           }
          ],
          "pie": [
           {
            "automargin": true,
            "type": "pie"
           }
          ],
          "scatter": [
           {
            "fillpattern": {
             "fillmode": "overlay",
             "size": 10,
             "solidity": 0.2
            },
            "type": "scatter"
           }
          ],
          "scatter3d": [
           {
            "line": {
             "colorbar": {
              "outlinewidth": 0,
              "ticks": ""
             }
            },
            "marker": {
             "colorbar": {
              "outlinewidth": 0,
              "ticks": ""
             }
            },
            "type": "scatter3d"
           }
          ],
          "scattercarpet": [
           {
            "marker": {
             "colorbar": {
              "outlinewidth": 0,
              "ticks": ""
             }
            },
            "type": "scattercarpet"
           }
          ],
          "scattergeo": [
           {
            "marker": {
             "colorbar": {
              "outlinewidth": 0,
              "ticks": ""
             }
            },
            "type": "scattergeo"
           }
          ],
          "scattergl": [
           {
            "marker": {
             "colorbar": {
              "outlinewidth": 0,
              "ticks": ""
             }
            },
            "type": "scattergl"
           }
          ],
          "scattermapbox": [
           {
            "marker": {
             "colorbar": {
              "outlinewidth": 0,
              "ticks": ""
             }
            },
            "type": "scattermapbox"
           }
          ],
          "scatterpolar": [
           {
            "marker": {
             "colorbar": {
              "outlinewidth": 0,
              "ticks": ""
             }
            },
            "type": "scatterpolar"
           }
          ],
          "scatterpolargl": [
           {
            "marker": {
             "colorbar": {
              "outlinewidth": 0,
              "ticks": ""
             }
            },
            "type": "scatterpolargl"
           }
          ],
          "scatterternary": [
           {
            "marker": {
             "colorbar": {
              "outlinewidth": 0,
              "ticks": ""
             }
            },
            "type": "scatterternary"
           }
          ],
          "surface": [
           {
            "colorbar": {
             "outlinewidth": 0,
             "ticks": ""
            },
            "colorscale": [
             [
              0,
              "#0d0887"
             ],
             [
              0.1111111111111111,
              "#46039f"
             ],
             [
              0.2222222222222222,
              "#7201a8"
             ],
             [
              0.3333333333333333,
              "#9c179e"
             ],
             [
              0.4444444444444444,
              "#bd3786"
             ],
             [
              0.5555555555555556,
              "#d8576b"
             ],
             [
              0.6666666666666666,
              "#ed7953"
             ],
             [
              0.7777777777777778,
              "#fb9f3a"
             ],
             [
              0.8888888888888888,
              "#fdca26"
             ],
             [
              1,
              "#f0f921"
             ]
            ],
            "type": "surface"
           }
          ],
          "table": [
           {
            "cells": {
             "fill": {
              "color": "#EBF0F8"
             },
             "line": {
              "color": "white"
             }
            },
            "header": {
             "fill": {
              "color": "#C8D4E3"
             },
             "line": {
              "color": "white"
             }
            },
            "type": "table"
           }
          ]
         },
         "layout": {
          "annotationdefaults": {
           "arrowcolor": "#2a3f5f",
           "arrowhead": 0,
           "arrowwidth": 1
          },
          "autotypenumbers": "strict",
          "coloraxis": {
           "colorbar": {
            "outlinewidth": 0,
            "ticks": ""
           }
          },
          "colorscale": {
           "diverging": [
            [
             0,
             "#8e0152"
            ],
            [
             0.1,
             "#c51b7d"
            ],
            [
             0.2,
             "#de77ae"
            ],
            [
             0.3,
             "#f1b6da"
            ],
            [
             0.4,
             "#fde0ef"
            ],
            [
             0.5,
             "#f7f7f7"
            ],
            [
             0.6,
             "#e6f5d0"
            ],
            [
             0.7,
             "#b8e186"
            ],
            [
             0.8,
             "#7fbc41"
            ],
            [
             0.9,
             "#4d9221"
            ],
            [
             1,
             "#276419"
            ]
           ],
           "sequential": [
            [
             0,
             "#0d0887"
            ],
            [
             0.1111111111111111,
             "#46039f"
            ],
            [
             0.2222222222222222,
             "#7201a8"
            ],
            [
             0.3333333333333333,
             "#9c179e"
            ],
            [
             0.4444444444444444,
             "#bd3786"
            ],
            [
             0.5555555555555556,
             "#d8576b"
            ],
            [
             0.6666666666666666,
             "#ed7953"
            ],
            [
             0.7777777777777778,
             "#fb9f3a"
            ],
            [
             0.8888888888888888,
             "#fdca26"
            ],
            [
             1,
             "#f0f921"
            ]
           ],
           "sequentialminus": [
            [
             0,
             "#0d0887"
            ],
            [
             0.1111111111111111,
             "#46039f"
            ],
            [
             0.2222222222222222,
             "#7201a8"
            ],
            [
             0.3333333333333333,
             "#9c179e"
            ],
            [
             0.4444444444444444,
             "#bd3786"
            ],
            [
             0.5555555555555556,
             "#d8576b"
            ],
            [
             0.6666666666666666,
             "#ed7953"
            ],
            [
             0.7777777777777778,
             "#fb9f3a"
            ],
            [
             0.8888888888888888,
             "#fdca26"
            ],
            [
             1,
             "#f0f921"
            ]
           ]
          },
          "colorway": [
           "#636efa",
           "#EF553B",
           "#00cc96",
           "#ab63fa",
           "#FFA15A",
           "#19d3f3",
           "#FF6692",
           "#B6E880",
           "#FF97FF",
           "#FECB52"
          ],
          "font": {
           "color": "#2a3f5f"
          },
          "geo": {
           "bgcolor": "white",
           "lakecolor": "white",
           "landcolor": "#E5ECF6",
           "showlakes": true,
           "showland": true,
           "subunitcolor": "white"
          },
          "hoverlabel": {
           "align": "left"
          },
          "hovermode": "closest",
          "mapbox": {
           "style": "light"
          },
          "paper_bgcolor": "white",
          "plot_bgcolor": "#E5ECF6",
          "polar": {
           "angularaxis": {
            "gridcolor": "white",
            "linecolor": "white",
            "ticks": ""
           },
           "bgcolor": "#E5ECF6",
           "radialaxis": {
            "gridcolor": "white",
            "linecolor": "white",
            "ticks": ""
           }
          },
          "scene": {
           "xaxis": {
            "backgroundcolor": "#E5ECF6",
            "gridcolor": "white",
            "gridwidth": 2,
            "linecolor": "white",
            "showbackground": true,
            "ticks": "",
            "zerolinecolor": "white"
           },
           "yaxis": {
            "backgroundcolor": "#E5ECF6",
            "gridcolor": "white",
            "gridwidth": 2,
            "linecolor": "white",
            "showbackground": true,
            "ticks": "",
            "zerolinecolor": "white"
           },
           "zaxis": {
            "backgroundcolor": "#E5ECF6",
            "gridcolor": "white",
            "gridwidth": 2,
            "linecolor": "white",
            "showbackground": true,
            "ticks": "",
            "zerolinecolor": "white"
           }
          },
          "shapedefaults": {
           "line": {
            "color": "#2a3f5f"
           }
          },
          "ternary": {
           "aaxis": {
            "gridcolor": "white",
            "linecolor": "white",
            "ticks": ""
           },
           "baxis": {
            "gridcolor": "white",
            "linecolor": "white",
            "ticks": ""
           },
           "bgcolor": "#E5ECF6",
           "caxis": {
            "gridcolor": "white",
            "linecolor": "white",
            "ticks": ""
           }
          },
          "title": {
           "x": 0.05
          },
          "xaxis": {
           "automargin": true,
           "gridcolor": "white",
           "linecolor": "white",
           "ticks": "",
           "title": {
            "standoff": 15
           },
           "zerolinecolor": "white",
           "zerolinewidth": 2
          },
          "yaxis": {
           "automargin": true,
           "gridcolor": "white",
           "linecolor": "white",
           "ticks": "",
           "title": {
            "standoff": 15
           },
           "zerolinecolor": "white",
           "zerolinewidth": 2
          }
         }
        },
        "title": {
         "text": "Firearm Mortality Counts by Rate and STATE"
        },
        "xaxis": {
         "anchor": "y",
         "autorange": true,
         "domain": [
          0,
          1
         ],
         "range": [
          -277.6666666666667,
          4918.666666666667
         ],
         "title": {
          "text": "Firearm Mortality"
         },
         "type": "linear"
        },
        "yaxis": {
         "anchor": "x",
         "autorange": true,
         "domain": [
          0,
          1
         ],
         "range": [
          -0.13903743315507988,
          36.13903743315508
         ],
         "title": {
          "text": "Firearm Mortality Rate"
         },
         "type": "linear"
        }
       }
      },
      "image/png": "iVBORw0KGgoAAAANSUhEUgAAAlAAAAH0CAYAAADyhxMgAAAAAXNSR0IArs4c6QAAIABJREFUeF7snQeYTFcbx/9TtrPKrk4QiZZKIoUURIkSorcQJXoXokWQIESUaCGChCR6F+2LaEESBCEIESGCxa7tfWa+5z3rjp2dnd179t6ZWbzneb7ni51zzj33d8+d+5tz3nOuwWaz2cCJCTABJsAEmAATYAJMQDUBAwuUalackQkwASbABJgAE2ACggALFHcEJsAEmAATYAJMgAlIEmCBkgTG2ZkAE2ACTIAJMAEmwALFfYAJMAEmwASYABNgApIEWKAkgXF2JsAEmAATYAJMgAmwQHEfYAJMgAkwASbABJiAJAEWKElgnJ0JMAEmwASYABNgAixQ3AeYABNgAkyACTABJiBJgAVKEhhnZwJMgAkwASbABJgACxT3ASbABJgAE2ACTIAJSBJggZIExtmZABNgAkyACTABJsACxX2ACTABJsAEmAATYAKSBFigJIFxdibABJgAE2ACTIAJsEBxH2ACTIAJMAEmwASYgCQBFihJYJydCTABJsAEmAATYAIsUNwHmAATYAJMgAkwASYgSYAFShIYZ2cCTIAJMAEmwASYAAsU9wEmwASYABNgAkyACUgSYIGSBMbZmQATYAJMgAkwASbAAsV9gAkwASbABJgAE2ACkgRYoCSBcXYmwASYABNgAkyACbBAcR9gAkyACTABJsAEmIAkARYoSWCcnQkwASbABJgAE2ACLFDcB5gAE2ACTIAJMAEmIEmABUoSGGdnAkyACTABJsAEmAALFPcBJsAEmAATYAJMgAlIEmCBkgTG2ZkAE2ACTIAJMAEmwALFfYAJMAEmwASYABNgApIEWKAkgXF2JsAEmAATYAJMgAmwQHEfYAJMgAkwASbABJiAJAEWKElgnJ0JMAEmwASYABNgAixQ3AeYABNgAkyACTABJiBJgAVKEhhnZwJMgAkwASbABJgACxT3ASbABJgAE2ACTIAJSBJggZIExtmZABNgAkyACTABJpDrBSrVYkFiYjJ8fczw9fXhK3YPEfjv+i3s2PMrnq9SGY9VKCNaHp+QCKvVhjxBAV45k8ioWNyOikFowXzImyfQK23w5EFTUlKxbO1OlClVDLVrVPHkoflY6QgkJCZj+YYf8GjZknj5+SdVs0lMSsaNW7dhNplQIH8wAvx9VZfljEyACbiXgFcFqlqDXuKB6irtWD4Vx06ex4hJX6B7h8YY1L2le2nkstoVPvTgmz1xoFPrVm/Zg3GffiX+vmz2aFR94lHdzuDyf2FYvXkvXn3xKTz7VIUc1XvoyB94Z+hUjBrwFjo0ryPqqN1qMMJu3savW+cjKNAfFosVMxeuwcOli6FZg5dzdJzsCoXfjsb0Bauwc+8Rh/5WMH9etHvzNXHcYkVCsqvG7Z8fOHwKPx89jQ4t6qBooYK6HC82LgHPN+qN+jWfw/RxfXSp01Ul6fujkicwwF8IQ5c2r+OJSg/n6PgrN/6Iazci7un7/1ZEFF5tPhBvvv4SJo54J1sOJ05fwGcL1+CXY2cc8lKfbVy3uvg+PH7qPPq/PyvbuijD/ClD7OJG/azHsE9FufFDu6Bl41fFf//4029S9RUvGoomb4/K8vj0HV6yWCFVbeRMTOBeI5ArBIq+VDJL7/Zqg3N//4uvV+1AvVefddsDNrdetPSCuemriShXpoS9qTSK07jTCFy6Eib+tnTWKDzzZHndTuXXY2fRZfBkvNe3Hd5uVT9H9WYmUKMnf4mIyBjMGN8X/n6+oBGSp+u+g5rVn8bcSYNydJysCp08exFdB08R4lT1ifJ4+fknEBQYgLN/Xcaeg8dEW3KLnM/7eiPmLlmPlQvG4vEKZXVh4UmBWrVpN8ZP/xrVnq6I8g+XRFJyCs6ev4xTf14U5/LNnNGo8ri85HfsPwm/nTyHP/ak/Vi4F5OMQN24FYlGHUc49FmL1Yrzf1/B/l9Oir9/N2+MGJX6bv0PDjg2bP9J/Dvjd2rHlvVQ8ZGHxGd0Dyr56J5YNjtNgv748x+p+uj4TbuMRpFCBfDiM4+5/A4n6ePEBO5HAl4XKH8/H+zfMNttbG02GwwGg9vqd2fFJFCU6AuzecNX8NF7Xe2H23voBPqMnAH6hU+f3ysClZGXOwWKJLNd7w/FA7xXpybo27kZjMa7fSEqJg6TZn2DYoVDPDq64apP3i8CNWlkdzStX8N+qecsXo/Pl2506sNq7517WaCUay0jUO99NB/f7/oZU8f0RsPXnnfARPV8On8lOrWsh8rl06bF0yf6zsjqO5WmEp99vQcqPVpa/IA5duo8flg5zeUIbFb1/XXxPyFQakfV1F5vzscE7hUCuV6gzpy/hFmL1qF1k5qoVT0thmP9tv1iOmbMoI5iBGb3wWOgeJu3W72O56pUBMVNLVu9E9t3/yoenjSE/MoLT2JAtxYOcS9T563AkRN/4mrYLTESQfnqvvosurRpgJACweJYFIMweOxcMT3WukktrPt+H06e/VvUQ8PfSlv6dnkT67fuF22JiU0QI2ajB76F6Nh4zF60Dvt+PoHEpBQxAvL+oE5Q86uMvrwqlCuFwqH5sWPPYexeM1P8NyUaVfnnynUxNbN09Q4ngaJf7PRAPvHHBfGF+syTFTCkZys8VKKIvW+64vhStSfEL1SF3cOli4syxIBGa34/fQGfL92Evy9dxZVrN4XEPVGxLDq2qme/RpQ/sxEoYk7XauaH/YT4DfpgDmhKgepQpgoD/P3Qt3NTfDp/Fao8/gh6vPWGw/1EoyrDPpqPMqWKYnjfdi7vtf/tOyLqp9GcFfM/cCnSJFL58gaJemiqaMaCVTh09A/RJ2g0hc65RrXH7cc5fPwsFq/Yhq5tG4jPlXQtLBwfzljqMFqqMO7ftRk2/++QmCYhZi8++xhGD3gLZR8qJoqv2bIXC7/dIj57snI55A/OI/7etmltMY1KI2ZffLMFx/84L/pX6ZJFUP3Zx9C+edbTfXdHoKqhdo2qWLlptxjNKVe6ODq3eV1IDSWKVduw/QDaNKklRgPTJ5pOmr90U7ajwMoIVEaBoutdr+1Q8dBes3C8vWo199/Ez5aJdlFfeeWFp+xl3x/UESWKhop/7zl4XNwDNNpI6YWqlTC0d1vBKLukpg1Ux5S5y8XUM93nc5dswP5ffhdVv17rObzXp61TPB0J0NJVO8Q9RCM01E+2/O+QKtlQprn3rZ9l/x7K7jyUz7MTKPoeGTJuLob1aSsE6qMZS8V/d279eqaHYIFSS57zPYgEcr1AZfYQnvHFanz53ffiQUMPcyXRCA3Fs/QZOVMICz2UX3u5Kg78elI8DOlBuvzzD+yjEC+/2V9IzVOPlUNwniD88edF8QCjfN/Oe18MkSsPIPoSpNESqocSCRCNnCltUdpAD4mwmxH24/19+Zr48qe/k+zRf9OUGE2NZZcUgXq3V2u81W8i3mnfCIN7tBIP0xbvfCBii67fiMDiFVsdBOqH/UcxcEzaqF79mtVAvzqJB6X1iyeI6RVKrjh2a9dQCBuxoPMscicehx7YQ3q2FtL4/pRFop7SJYuKcyIJojTv48HigU8ps2tH50G/emk6hth27D8R5/6+IvITI0oUYP7ltGGo1WKQ4Hhw81y74NDnSqzNiH7tQVMTrhI99OjBSrJW95Vns8ONy//dEFzpfEiYgvMGgUb66N/ppWDrrl8w7KPPnUYILvzzH5p0Hg3iR5zSM1YOTsxI2OhhTML+/TeTRT+jdpJAKSKvBLh379AI5R8uhcadRooqSLyC8wTi+B9/iTomj+qBN+pVd3luSv9VMtA9QWJBP0woKed18fI1cQyaYqOptvRJGRFZ/cW4TEc9lLyuBErhknEUVc39pxw7ff+g/6Z4LvoxsGTFNjEio/R1uobKuaX/weEKkJo2UNk2PcfbpyLp3/QdodzbGc+LriPF9SnXy2qx2mOZ1IzW0DQosaR7nX7MmUzGbPuukiE7gRowZhZ27f8NO1d8Ch+zGbVaDhL3MX0vZJZYoFSj54wPIAGvCxQ9nDKL9xg3tLN4oGYlUPQwGNa7DV54pjL8fH3h5+uDX46dxpBx89CmaW2M6NtOrNyjEanx077Guq37RDC2shqJvmgffbikeIBRoimfgWNm4ccDx7BxyUQ8UraEXaDoc5KxTi3rg0ZkYmLjxYNIkRB6QNOIU6GQ/OKB26zrGCEgNEI0akAHseorLj4Rb7w9Uvzy2/rNlGy7myJQ9EBr1+cj0JD5j6unY/Kc78QI3J61M8XIQHqBoriTBh3eEw/XLUs/to9wKFN+NAI2f8q7Dg/3zDiS1LiKgaK6aVpUGQ2jyih+onXPcQ7BytkJFJXLagrvi28247Mv1+KDwZ3E9VRSs67vC+nKKFYZgfYaPk3EjGxe+jEevjPSkxV05WH9yZheaPTaCyIrjZ682eV98d+718wQcpcTgaK+M7L/WyhWuKDojz2GfioeqhTL8lTlcqJ+V1N4sxevE9f5w2Fd0aJR2ogR9VUSZepXWS0eUASKRHj8sK72vk8SSzJLErft20/Ejwoa1aQ2bVgyQawWo6RMPdGPleXzxmTZZzMTKOqPFHOz7cdfnERWzf1HB3Q1hSfur3bDxPfEl58OQ/58aaN2iuCr+aGitg2KQNFU8DvtG4vVcLQ44fX274n7/fddi4Xo0ChknTbvih8e9GNNCaBW2qpGoOga0LWgRN8xNPJO8UuVy5d2iIOUFZ6o6DhUb9JX/PBUrmXnQZNBI6oZYyyVutUIFOV1NaK+asG4XLFAI9svW87ABHJAIFcIVGY3HwUU042elUDRlwDlSZ96j5ghRlto9QfFtijp599Oi5Unfbs0Q5+3m9r/Tg+ii5dpKoqm8aLFFBz9QqPj01SG8gBKLx7pj6cIVPqHDn0+5pPFQtjSSwz9XQngJPkh2coqpRcoZTqqU6v6YrRCCXyeNn+Vg0ApD8YOzesKcUuflNGfQ1vmiVEMpe2ZcVQTRE4jKTS6cDM8UoycTJi5zOHXrFaBomBa+oVM002bvp4kToVGHEkmWzWuCZLsrBI9XOnB9fOWedluWUBS89Rr3RyOpdQ976sNmPvVBvvoWk4EKmP/WL5hl+A1fVxfMUpIyZVAKX/v2fEN9H77TfiY04RfTcoqiFwRzF2rp4tVfyTlg8fOAfUxZWpUGeFJL5WujqsIFI1i0fRqdGycWEVLfYOuF/XHjFuRZHf/0bFcCdRXq7aDpuCoba/XfM7erNj4BFR/o69YNKAESGfFSk0bSKBoxOnwtvkOVdF0GI3WKvezcl3TM6QCMjFQlH/t9/swc+Fq+4i3clA6J5oydLWiMSvhUcQy/apYZTS3b+c30afzm06Y1AgU/QCjUIPMEvXv9D+01PRZzsME7hUCXheo7ILIsxKojA8lgq48NF1dAFqyS7FLlOgX/PhpXzl9SdFnykhVdquYXAnUJ3OX4+vVO8SDnwRASZNmfYtv1/1PjEBlF6ORXqDoAU9xJDT6Q+nH1TNEbEVGgdq886DY9oGmM5X4lozHXvvlh+IXrau2U/6sBIrEiUb0KG4mY0o/HaBVoKhu5QGljNQoYkqxNMqUn6trrYyoZJTYzPIrcTo0HUbTYumTIq+jB3ZE+2av5WgEKmNfVSRsyuieaFz3RXE4VwJFo2006kZJ2RaA4nzeqFcj232Bsuq/NPVFgqQINI0GVm/STxyH4m9oRJdGM0mAfto4W/w7q6QIVMY8rrbhUHP/UV2uBEqZ6nLVJro/6D7JKqltgyuBUtrwvxWfgpb1K/d3+qlsOr6sQFEZ2uKDputpJfKpsxfFjzvl/s/JiJFyP9BoXdHCadtkULtoFIpGyrZ/94lTnKAagVIzqpblReAPmcA9SuC+Eyhl6b8iSRmvC/0ypmBl5eFOD6R+XZvhyUoPo0TRQtj101ExMqBVoJSHU0aBUuJyZAWKzuO79btAQbXpv7AyCpTyizKz2Bj6tU6/2pUHZk4FShnJohE6EtIyJYuiYIFgNO44QkwpKfEUegiUUgfJ4NDebcTIgprpJOJFrIiZMpqY1T164dJVsadNxngWKkMPrn6jPsPQXm3QpW0DXQSK5JOmmtUIFLXh6vVbYhQs/V5WNHJLqy+VQPTMzk+NQK34/AP7iIayYo76D11L2seLpq36d22e7Vdcxim86zcj0Kr7WCFgGVeUqb3/shIoZcqV2kZtzZjo3s64ii19Hpk2uBIoCsJesfFHKAI1fOICESy+7dspDgs2ciJQGc+HBHfS7G9FfBTtiUej0BmTK+Eh8aLg9KxSZiPRLFDZdnvO8AATuO8ESnm4H962AIEBfi4vrSIyFA9E03NKUoa5c6NAUQwVjWo1rvOC/cs5o0ApDwV6qNCDL31SRnOU4Fo1AkUB7F3bNrRXQ7t4v9S0v4hbo/2K0icKyM2pQLmaIqXpFRoFoak4El16wGe2vDuzC03TIB9MXSxWQH01c4TLvkCjeykpFrG8O7O8d6fb+ogYL4rnGfrh506jfFkFkWccgcpKoNLHRWVsNC2Lp6kkGjmivkrTerS61FXKSqCU/kCLIZRpdCVWhySV4rVoekqRg+y+JzOLgaIVfO37fCSKpn9Aq73/shIoZWp10bT3RBykbJJpg1qBUu4pmjqk6TYlyQgU9UclLjPjOdGq4bcHfowGtZ/Hpx/0Vi1Qy9bsFLGTNNpZsVzaflBK+uuf/8Sq24zTjvQ5C5Rsr+L8DxKB+06gZi1aiwXLNjushFIuKP2Kp+knmvqhByA9CBdNfw8vVE378qUvLpp6+3bdD7lyBCqzjplRoJQvapq+oOBgZdqFRgNeazVETPvtWjVdDNVnJVDKSj+asqKpKyUpkpBxtRatMGz41nDpGCiq97GancV0pqvAeiXWhfLSqIKa6STKm5ycgjfeHiXka+A7LdCtXSOHFU3xCUmYs3gdAgL8xAhLy+5jxQqu9KOG1CdoFIWm0WiKo1TxwiLolqY9KLCdAtwpkdgs3/CjGPXKbBWeGoFSRhhphRmJmpJoyfwTFR+2B0nT36md1F5X02NKWVcC9e/VGyIAOjPuShwh1UHB77M+GqDqO9HVKrxNOw9g5KSFQtKUoGK19x8dWFk5lnFVnbKjNvXFJTNHOMSGUWA3beFBqxZdJZk2qBUoGn2iUSja8mTskLfth1YWcaiZ7qIfIu/1aYdGdV502LeMKlPu92G924ptKDImV8Kj9O296z5zGq2j70Qa2aV769CWuQ7yxgKlqutzpgeUwH0nUPTAUOI2aN+YWjWqiJVetHcTxQcpAZT0egjas4fm/t+oWx201ybFQyhL6nPjCJQagaI8ikTSKALtI0TnP+/rDSJ+Iv3DOSuBogfQq80HiRVGNPJDQecmkwktGr4ipgJoWoZWqlWuUEbskKzsbCwbA0XtpWkiGjmj6TNaaXT1ejho5EtJdCx6qFDq3ampaI/apMRyUX4aNXu1+tPiFTLnLvwrFhuk34lceSDTg54WGwQF+ItRHloVRRzH3JEleuDUaf2uYEPbKOQLDsK+n3+3b6mRU4H67eR5sa0DSS4tX6cVbI+VL4O1W/eJ7RRav1FTyH9cfAI27Dggjpfd6IsiUPRwpHOg63MzIlKMYNG5Z4zVIU7Kw57+m+JlspKQ9NfBlUBRHmVKm47/7dz3xb2o5v6jssq2ADQ6SAH31I9JXmmErP/oz8SqWYozpOnktF3mL4k94Ko88WiW8qf2O4DaoFag6JrVaT1EsKVRIgqupi0naK8qSmoEin5QUCK5pXN+pEwJ0KuVqH/SDxX6++ovxot+rEaglC0qaGuOL6YOzfTWUSQ14/VWI1DUX5UfoRkrp/241Ox5p/Z+5nxMIDcR8LpA5c0TkGWgJ70brNu7n4hREBoNoUR7rNCXqrLVQEagtHpr2oKVIhYhfXq+SiURO0BiQSMLY6cusT/4KR/9nYKr6UEwZ9JAsXyYps2ea9jL5bvEXLWF3r22aPlWp1V4SnB5xhiJzDpF+iByV51GOU76d+HRudGmi/RaECXRA5RGS9LvGZQdR3qQEmda2UeJhIlWPNGDnrZ7UPbEos9oFc+SldtRslioPQYqs2uXfh8opW00qkXxPTRdRInamnG1E628I2HIatdkV4xoafnUz1fY61fy0Rc7SVu7Zq/Z3z1HAeOjPv7S4Z15FPc0oGtzhxVkSmC5UheJOL3vj6aFlP26suqryhRexulIEhuKqaFRM0q00tDf1xdzlqy3/01hNKh7C9Bqy6yS0n/pXGnPs/Tvnkwff5W+DspDfS/9FgdqvrRWbd4jFmVkFn9HfbLfqJliWwna8uPTsb1V3X90XJLAz75cY99Qk/6mBFHTRrdLVm7D4uXbHM6NJIOmsJvUu7sjesZzUPsdQOVcCZQSZ/fDqulC6Cj9eeFf9B4x3R7wTf25x1uNxfcW7VM3YXi3LHHSiN3WXT8LVhkTfQf27Ngk05gvypuZ8CgCmnGD0/R1K/0x48hZVgKljEZndTL8Ljw1dw7nuVcJeFWg3A2NviDp4UlxNPQrifZfyphItmgZfkjBYN1e4Oru81JbP4080S9Xs9ksHoYyG/KlPwYxoikq2nZBeRUK/dJW3sNH01p6vCWedm2PjolDkdAC8PEx25ugTA/KTCdlxojOgc4lMjoWBfLldbm8mvoLCQw9nOlB7Gr1GU0B0lQYjc7p+TJiaicdn/aconYqSdmAk0YeChMjie0MqA66ZtQfjAYDSpcq6jLOJrPl7mr7nGw+mfuP+vO1G+FCHkhK0idiRtPXtNcR3evKRqRq2iPTBjX1UR7qQ9Q3rFariFfMyb1H31/hEdFie5WC+YMd7j+17eB8TIAJuI/AfS1Q7sPGNXuSAL2vjuLSZKaTPNm+++lYJCJNO48GrUrMbqPS++m8+VyYABNgArIEWKBkiXF+jxJQdk+mkaAtSyc7BdV6tDEPwMGUOLCMUzkPwKnzKTIBJsAEpAiwQEnh4syeJkArJ2kX+XJlSthfeeLpNjxIx6M4M1rWTkHBtDEkJybABJgAE8icAAsU9wwmwASYABNgAkyACUgSYIGSBMbZmQATYAJMgAkwASbAAsV9gAkwASbABJgAE2ACkgRYoCSBcXYmwASYABNgAkyACbBAcR9gAkyACTABJsAEmIAkARYoSWCcnQkwASbABJgAE2ACLFDcB5gAE2ACTIAJMAEmIEmABUoSGGdnAkyACTABJsAEmAALFPcBJsAEmAATYAJMgAlIEmCBkgTG2ZkAE2ACTIAJMAEmwALFfYAJMAEmwASYABNgApIEWKAkgXF2JsAEmAATYAJMgAmwQHEfYAJMgAkwASbABJiAJAEWKElgnJ0JMAEmwASYABNgAixQ3AeYABNgAkyACTABJiBJgAVKEhhnZwJMgAkwASbABJgACxT3ASbABJgAE2ACTIAJSBJggZIExtmZABNgAkyACTABJsACxX2ACTABJsAEmAATYAKSBFigJIFxdibABJgAE2ACTIAJsEBxH2ACTIAJMAEmwASYgCQBFihJYJydCTABJsAEmAATYAIsUNwHmAATYAJMgAkwASYgSYAFShIYZ2cCTIAJMAEmwASYAAsU9wEmwASYABNgAkyACUgSYIGSBMbZmQATYAJMgAkwASbAAsV9gAkwASbABJgAE2ACkgRYoCSBcXYmwASYABNgAkyACbBAcR9gAkyACTABJsAEmIAkARYoSWCcnQkwASbABJgAE2ACLFDcB5gAE2ACTIAJMAEmIEmABUoSGGdnAkyACTABJsAEmAALFPcBJsAEmAATYAJMgAlIEmCBkgTG2ZkAE2ACTIAJMAEmwALFfYAJMAEmwASYABNgApIEWKAkgXF2JsAEmAATYAJMgAmwQHEfYAJMgAkwASbABJiAJAEWKElgnJ0JMAEmwASYABNgAixQ3AeYABNgAkyACTABJiBJgAVKEhhnZwJMgAkwASbABJgACxT3ASbABJgAE2ACTIAJSBJggZIExtmZABNgAkyACTABJsACxX2ACTABJsAEmAATYAKSBFigJIFxdibABJgAE2ACTIAJsEBxH2ACTIAJMAEmwASYgCQBFihJYJydCTABJsAEmAATYAIsUBr7wNXwBI01OBf38zEiJNgPiSlWREQn6V7/g1Rh8ZAAuOMaPUgMfcxG5A/ywc0o7otarnuQvxlmkwFRcSlaqnngyxbI44vEFAsSkiwPPAs1AOg7kJN7CLBAaeTqjoczC5TGi5KuOAuUdpYsUNoZUg0sUPpwZIGS48gCJcdLJjcLlAytTPKyQGkE6ObiLFDaAbNAaWfIAqUPQ6qFBUqOJQuUHC+Z3CxQMrRYoDTS8nxxFijtzFmgtDNkgdKHIQuUPEcWKHlmakuwQN0hFRuXgNtRMSiYPxhBgf5q+bklvoan8FTjzzYjC1S2iLLNwAKVLSJVGXgKTxWmbDPxCFS2iBwysEDJ8ZLJ/cALVHxCIjr0nYBzf1+xc2vf7DWM6NcBJpMRu/b/hgFjZjkx/W3nQvj5+rBAyfQ2L+RlgdIOnQVKO0MegdKHIY9AyXNkgZJnprbEAy9QNPL01crtaPp6DRQvEoqDR06h1/DpWDZ7FKo+UR4/7D+KkZMWYs3C8Q5MHypRGAaDgQVKbU/zUj4WKO3gWaC0M2SB0ochC5Q8RxYoeWZqSzzwApUR1IV//kOTzqOxcclEPFK2hBCo8dO+wv4NszNlykHkaruad/KxQGnnzgKlnSELlD4MWaDkOeZEoP688C9OnvkbkdGxCCkQjNIli+LJyg/DZgP2/3wiy0aEFsyHJyuXE3kio2Lx28lzCAoKwPNVKom/3QyPFHVnlR4pW1J8/NfFuzND6fNXerQ0ihUJkYehcwkWqDtAr1y7iVWbdgthalj7BfTr2kx8Qv8eOGY2mtavAT8/Xzz7VAXUr1kNZpNJfM4CpXOP1Lk6FijtQFmgtDNkgdKHIQuUPEdZgZo06xt8u+4HcaCSxQqBno3Kf6/6Yhyqv9Hfc2T2AAAgAElEQVQ3y0bUfeVZzPywn8iz8NstmLlwjfjvnzbORoF8ebHn4HH0HTUzyzpGD+wIm80GaktmadLI7uKZ7O3EAnXnCpw5fwkLlm3G0d//xKsvPo2xQ96Gj48ZJ89exI49vyJf3iBcDQsXkkUxUnSBKUXH678pHm22F+hnRqrFhvikVG/3kXv6+MGBPm65Rvc0FMnGm4xGBPgaEZvIfVESnUN2X7MJRiOQmMwbQGrhGCC+G61ISbVqqeaBKUvfgWrT3kMn0GfkDPTq1ATvtG+MAH9fJCen4NDR0/h61XYsnjEcKal3++/qzXsw8bNlYoYmb55AcRiDAWKAgQSoUccRyBsUiFN/XhTP1NZNaom/0/VT0rAPPxeStvzzD+x/o++c5Rt2CYE6uHkuAgMcF3bR50ajQe1puS0fC1QGtFExcajT+l2MGdwRTeo5G+66rfsw5pPFOLFrkegksQn6P1RMRgMC/EywWG28267Grp8nwOyWa6SxWfdUcXro+/mYuC9qvGo+ZgOMBgOSUvjBrwWlv48RqVZ6CNu0VPPAlKXvQLWJRoto1Gjvus9AU3HZpZUbf8SHM5bi0JZ5CL4jUEoZGnxo22s8vvx0GOZ+tQEWqxXL541xqnLIuHm4/F+YU5wxjYKRQB3etgCBAX7ZNcUrn7NAZYK94VvD0azBy+jeobHTp/t/OYlew6fh6I4v4O/ny1N4Xum26g/KU3jqWbnKyVN42hlSDbyNgT4ceRsDOY4yU3gUr9Sx/yQ0qP28eP6VK1PcHq6S2VGzEqgpc5djy/8OYvfamVj3/T6Mn/41tn4zBaVLFnGoKjuBmjqmN/z9HEfROAZKrg+4LfexU+dx5vxl1Hn5GeQPDsL3u37G+1MWYemsUXjmyfL4bv0uVChXCpXLl0FUTCyGfTgfPmaTGMqkxDFQbrs0ulTMAqUdIwuUdoYsUPowpFpYoORYygiU1WrDtPkr8dWq7faDVHn8UTSpV10MKlBYS/rkSqBSUlJRvUk/tGlaC0N7tUFEZAxefrM/+nZphj5vN5USqMzOlmOg5PqA23LTagCa86ULrKThfduhU6v64p/TF6zCouVb7Z/R6oKpY3qJ4DoWKLddFt0qZoHSjpIFSjtDFih9GLJAyXOUESil9lsRUaB4qD8vXMbPR0/jwqWreLxCWaxcMFaVQCmxVDR69HjFMqLM8IlfIOxmBH5YOd0hfim7ESiKgcq4uTXFQNE2Qt5OPIUHiKA2Wq5Je0IVLRwiRpjSp8SkZLH0koLh8ufL4/AZj0B5uwtnfXwWKO3XhwVKO0MWKH0YskDJc8yJQKU/Cj0fP/tyrYiNWr94Aso/nLbFACVXI1AkRbT4KrO0bPZoVH3iUftH2QkUx0DJX/N7pgQLVO6+VCxQ2q8PC5R2hixQ+jBkgZLnKCNQh4+fFeEqGUd8KJSFVtt9N28Mnrqzx5MrgaKFWLTVQbd2DdGi0av2BtO0XtMuo9GmaW18MLgTC5T8pbz/SrBA5a5rmhILJEUaEFjIBqMfwAKl/fqwQGlnyAKlD0MWKHmOMgI1YtIXOPDrSXRu0wCPlS+DgAA/HP/jL8xZvB4li4Vi1YJxDnFQmY1Ard+2X8QRb/t2Ch4q4RgwPnryl9i594jYE4pehUYpuxGoj0d1t+dVzv6xCmXtYTTyRPQrwVN4GlmyQGkEqFNxmxU4u9SI22eMokaDCShZ24rn2/i5JdBfp2bfE9WwQOlzmXgVnj4cOYhcjqOMQFHsEu339MuxMw4HafTaC3i3VxsUKVTA4e+KQP28ZZ59H6iug6cgLj7RKV6KCh44fAo9hn2K2RMHonaNKqoEKrOzJanKbJshOTLac7NAaWTIAqURoE7Fbxwx4K/VjrFrVHWDST6IMiXodJQHsxoWKH2uOwuUPhxZoOQ4ygiUUjNtlhlxOxopqakoUqigU1ywXAvu39wsUBqvLQuURoA6Fb+42YhrP6WNPqVPz/cwwVQuSaejPJjVsEDpc91ZoPThyAIlxzEnAiV3hAc3NwuUxmvPAqURoE7F//2fEf/+4CxQLw0yw1osUaejPJjVsEDpc91ZoPThyAIlx5EFSo6XTG4WKBlameRlgdIIUKfi8WHA8RlmIN3bHfwK2NDoY19cj+IpPC2YWaC00LtblgVKH44sUHIcWaDkeMnkZoGSocUCpZGWe4vHXjGAYqESbxuQp5gNRavbUKasPweRa8TOAqUR4J3iLFD6cGSBkuPIAiXHSyY3C5QMLRYojbQ8X5y3MdDOnAVKO0OqgQVKH44sUHIcWaDkeMnkZoGSocUCpZGW54uzQGlnzgKlnSELlD4MqRYWKDmWLFByvGRys0DJ0GKB0kjL88VZoLQzZ4HSzpAFSh+GLFDyHFmg5JmpLcECpZaUi3wcRK4RoJuLs0BpB8wCpZ0hC5Q+DFmg5DmyQMkzU1uCBUotKRYojaS8U5wFSjt3FijtDFmg9GHIAiXPkQVKnpnaEixQakmxQGkk5Z3iLFDaubNAaWfIAqUPQxYoeY73k0Ct27oPYz5Z7PRC4ivXbqJ+u2HY/t0nKFW8sDykHJZggcohOKUYT+FpBOjm4ixQ2gGzQGlnyAKlD0MWKHmOnhSohAQg7KYNRQoZEBAg39bsSnTsPwnht6NwMzzK4YXELFDZkculn7NA5dILc6dZLFDarw8LlHaGLFD6MGSBkufoKYH6ZpUFew5Y7Q18tboRHds4v59U/gzSSly9fgt12w7FqgXj0LrnOMyeMAC1X6oqPmOByilVL5djgfLyBcjm8CxQ2q8PC5R2hixQ+jBkgZLn6AmB+vO8DVPnpDo1bkgfMypXMMg3OpMSi1dsxY7dh7FywVgMn7gAKSmpmD6uLwuULnS9VAkLlJfAqzwsC5RKUFlkY4HSzpAFSh+GLFDyHD0hUFv/Z8W6LRanxjVvbELDus7vKJU/C6DhW8PRoXlddGheB3sPnUCfkTNwcPNc5MsbxCNQOQGaG8qwQOWGq+C6DSxQ2q8PC5R2hixQ+jBkgZLn6AmBOvCLFUu+cxaoLu1NqPG8doE6c/4SWnYfi9o1qiA0JD+Sk1OwYftPmDC8G5o1eJkFSr5b5I4SLFC54zq4agULlPbrwwKlnSELlD4MWaDkOXpCoGJigZEfpiAx6W77/P2Ajz/wQd488m3OWGL6glXYc/A4Xq/1nP2jQ0dPw2Qy4quZI1igtCP2Tg0sUN7hrvaoLFBqSbnOxwKlnSELlD4MWaDkOXpCoKhVYTeAPQctuB5mQ9EiBtSsbkIRHXYUSLVYUKvFIAzu0QrNG75iB3D4+Fl0HjQZP6ycBovVKrYx+GLqUBQvEmLPUyBfXuTPp4PBucDO2xjI90eHEixQGgG6uTgLlHbALFDaGbJA6cOQBUqeo6cESr5l6kr8euwsugyejAMb5zjIkMViRc0WA9GtfSPUefkZIVAZ06DuLdG9Q2N1B8pBLhaoHEBLX4QFSiNANxdngdIOmAVKO0MWKH0YskDJc7zXBUr+jD1XggVKI2sWKI0A3VycBUo7YBYo7QxZoPRhyAIlz5EFSp6Z2hIsUGpJucjHAqURoJuLs0BpB8wCpZ0hC5Q+DFmg5DmyQMkzU1uCBUotKRYojaS8U5wFSjt3FijtDFmg9GHIAiXPkQVKnpnaEixQakmxQGkk5Z3iLFDaubNAaWfIAqUPQxYoeY4sUPLM1JZggVJLigVKIynvFGeB0s6dBUo7QxYofRiyQMlzZIGSZ6a2BAuUWlIsUBpJeac4C5R27ixQ2hmyQOnDkAVKniMLlDwztSVYoNSSYoHSSMo7xVmgtHNngdLOkAVKH4YsUPIcWaDkmaktwQKllhQLlEZS3inOAqWdOwuUdoYsUPowZIGS58gCJc9MbQkWKLWkWKA0kvJOcRYo7dxZoLQzZIHShyELlDxHFih5ZmpLsECpJcUCpZGUd4qzQGnnzgKlnSELlD4MWaDkOd5PArVu6z6M+WQx2jStjQ8Gd7LDuHErErVaDsLmpR/j4YeKib+fPvcPWvUYhxH92qNjy3ry4FSUYIG6Ayk2LgG3o2JQMH8wggL9ndDFxMaDXmpILydMn3gjTRW9zItZWKC0w2eB0s6QBUofhixQ8hw9KVC2+FhYr12BsVhJGAL1f4lvx/6TEH47CjfDo/DTxtnw8/URQBSB2vT1JJQrXRwXL19D657j0alVPfTv2lwemsoSD7xAxSckokPfCTj39xU7svbNXsOIfh1gMhlBnw+fsAA/HjgmPn+ycjnMnjAAoQXziX+zQKnsaV7KxgKlHTwLlHaGLFD6MGSBkufoKYGK//JTJO/cYG+gb52mCOzh/IJf+TNIK3H1+i3UbTsUqxaMQ+ue48RzuPZLVZ0EKk9gANr1+VC8YHjUgLdyejhV5R54gaKRp69WbkfT12ugeJFQHDxyCr2GT8ey2aNQ9Yny+PK777F68x4smz0aAf6+6D1iBso+VAwfvdeVBUpVF/NuJhYo7fxZoLQzZIHShyELlDxHTwhU6h+/IXb8AKfG5Xl/BsxPVpNvdCYlFq/Yih27D2PlgrEYPnEBUlJSMX1cXweBWjprFMZP+wqPVyyLCcPfgdFo0OXYrip54AUqI5gL//yHJp1HY+OSiXikbAm07D4W9WtWQ/cOjUXWHXt+xZBx83Bq9xIYDAYegXJr99ReOQuUdoYsUNoZskDpw5AFSp6jJwQqccMyJH63wKlx/u17wv/NjvKNzqREw7eGo0PzuujQvA72HjqBPiNn4ODmuciXN8g+hVcwf15ERMbgq5kjUO3pirocN6tKWKDu0Lly7SZWbdqNH/YfRcPaL6Bf12bik2oNemHC8G5CoigpgWnKheMpPLf3UU0HYIHShE8UZoHSzpAFSh+GLFDyHD0hUMl7tiJ+3iSnxgX2GQXfmg3lG52hxJnzl8RgRu0aVRAakh/JySnYsP0n8Wxu1uBlu0C1alwT0bHx2P/L71j75Xg8VKKI5mOzQKlASBdowbLNOPr7n3j1xacxdsjbMJtNeLxWF8z7eDBeffEpUYsyQvXDymkoViQEkbEpKmqXy2I2GZAnwIwUiw1xCalyhTm3A4H8eXzcco0eJMwmkwGBfibExHNf1HLd/XyMYkohIcmipZoHvmyQvwnJFitSUmwPPAs1AOg70N3JFh2JqP6tgYT4u4cKCES+2atgCM6v+fDTF6zCnoPH8Xqt5+x1HTp6WsQp02hT+iDyEkVD0X3op7hx6zZWzh+L/Pn0D2ZXGsEjUBkubVRMHOq0fhdjBndEk3o1xAjUxBHvoN6rz4qcGUeg4pP0f6iYjAb4+ZhgsdqQlMJftlruvkA/M9xxjbS06V4razQY4Gs2IpH7oqZLZzYZQSEZyalWTfU86IV9zSZYrTakWpmjmr5A34GeSNarl5H0w0ZYrl6GqfhD8KvTFMbiD2k+NK1+r9ViEAb3aIXmDV+x13f4+Fl0HjQZNJhhMpnENgbKKrzIqFi07/uRWFW/aPp79tV6mhuToQIWqEyI0lwrDQtS3BMNG5L1vtO+kcjJMVB6d0H31sdTeNr58hSedoZUQ5C/GTS6HBWn/6i1Pi28N2opkMdXyDyP5Km7Xp6YwlPXkpzl+vXYWXQZPBkHNs5xGE2yWKyo2WIgurVvJMJuMu4D9e/VG2je7QPUqv40PhnTK2cHz6bUAy9Qx06dx5nzl8WSx/zBQfh+1894f8oiUDT/M0+Wx8Jvt2DNlr1iFV5ggJ9Yocer8NzSF91SKQuUdqwsUNoZskDpw5BqYYGSY3mvC5Tc2Xo29wMvUCfP/C2i+SlyX0nD+7ZDp1b1xT/j4hMx9MPPse/nE+Lfj1coi9kTB6JwaNq8LgeRe7bDyh6NBUqWmHN+FijtDFmg9GHIAiXPkQVKnpnaEg+8QBEom82GyOhY0J5QRQuHwMdscuJHsVG074SygaaSgQVKbVfzTj4WKO3cWaC0M2SB0ochC5Q8RxYoeWZqS7BAqSXlIh8LlEaAbi7uToGyIhXXLfsRhXOw2BIRZCiJosZXEGAo5Oaz8mz1LFD68OYYKH048hSeHEcWKDleMrlZoGRoZZKXBUojQDcXd6dA3bD+gmvWvQ5n4I9QVDCn7VJ/vyQWKH2uJAuUPhxZoOQ4skDJ8ZLJzQIlQ4sFSiMtzxd3p0BdsCxHrO1fp5OqbOoDH4P79h7xNEUWKH2Is0Dpw5EFSo4jC5QcL5ncLFAytFigNNLyfHEWKO3MWaC0M6QaWKD04cgCJceRBUqOl0xuFigZWixQGmlJFrcBkX8ZEH/NAN/8NhSoaIPJV64OdwoUT+HJXYsHPTcLlD49gAVKjiMLlBwvmdwsUDK0WKA00pIr/seXJkSdv/s2bd9gG54aaIGPxOyYOwWKg8jlrueDnpsFSp8ewAIlx5EFSo6XTG4WKBlaLFAaaakvHnPZgJNznbeTKN3AihI11b/CwZ0Cpf5s7u2cPIWnz/VjgdKHIwuUHEcWKDleMrlZoGRosUBppKW++I0jBvy12lmgCj1jw6Ot1b8fkAVKPXNXOVmgtDOkGlig9OHIAiXH8X4SqHVb92HMJ4vRpmltfDC4kx3E1l2/YNhHn2cKZsXnH+CJSg/LQVOZmwVKJShX2XgbA40AXRTnESj3cM1JrSxQOaHmXIYFSh+OLFByHD0pUFGWZJxPisKjfvmQTzZgVcVpdew/CeG3o3AzPAo/bZxtf0kwbYJ9MzzSoYYpc7/Dub+vYP3iCciXN0hF7fJZWKDkmTmUYIHSCDCL4rk9Bsp9Z567amaB0ud6sEDpw5EFSo6jpwSqz+V9+PzmH/bG9QytjPmlX5VrbBa5r16/hbpth2LVgnFo3XMcZk8YgNovVc20xOadBzFi0hdY/cU4VC5fRrc2ZKyIBUojWhYojQCzKp7LV+G58cxzVdUsUPpcDhYofTiyQMlx9IRA7Ym5ilrnNjo17H+PvoE6wSXlGuwi9+IVW7Fj92GsXDAWwycuEK9Wmz6ur1PuM+cvoWX3sZg8qgfeqFddl2O7qoQFSiNeFihHgOG3DLhwKW3lXLkyNoSE2DQS1lacY6C08aPSLFDaGVINLFD6cGSBkuPoCYGafP03jPzvF6eGfVzieYwomvkokdxZAA3fGo4OzeuiQ/M62HvoBPqMnIGDm+c6TM/djopBi3c+QL1Xq2FEv/ayh5DOzwIljcyxAAvUXR7Hfzdg/UYTbHecyWgEWr5pweOPe0+iWKA0dnAWKO0A79TAAqUPShYoOY6eEKivws+iyz+7nRq2pEwtdA6pKNfgTHIro0q1a1RBaEh+JCenYMP2nzBheDc0a/CyKJFqsaDX8OlITbVg4afD4GN2XoSkuSEZKmCB0kiUBeouwFlzTbgVfnffJvqkaFGgT49UjZRzXpwFKufslJI8AqWdIY9A6cOQamGBkmPpCYG6mZqAR05+i2hrir1xwUYf/PVEBxQyB8g1OJPc0xeswp6Dx/F6refsnx46ehomkxFfzRwh/kZ51m/bL4LGQwvm03xMNRWwQKmhlEUeFqg0OMlJwMRPzPbRJwWZvx8wajgLlMZu5tXiLFD64OcRKH04skDJcfSEQFGLziVFYsHN0/gzMRIV/POjZ6HKKO+XX66xmeSmkaVaLQZhcI9WaN7wFXuOw8fPovOgyfhh5TTQCFX/92dh0sjueDLDlgWFQwsgKNBfczsyq4AFSiNWFqi7AHkESmNnyqXFWaD0uTAsUPpwZIGS4+gpgZJrlfrcvx47iy6DJ+PAxjnIn+/uaygsFitqthiIbu0b4VZEFJas2JZppdPH9UH9mndHrtQfOfucLFDZM8oyBwvUXTwcA6WxM+XS4ixQ+lwYFih9OLJAyXG81wVK7mw9m5sFSiNvFihHgLwKT2OHyoXFWaD0uSgsUPpwZIGS48gCJcdLJjcLlAytTPKyQGkE6ObiHESuHTALlHaGVAMLlD4cWaDkOLJAyfGSyc0CJUOLBUojLc8XZ4HSzpwFSjtDFih9GFItLFByLFmg5HjJ5GaBkqHFAqWRlueLs0BpZ84CpZ0hC5Q+DFmg5DmyQMkzU1uCBUotKRf5eApPI0A3F2eB0g6YBUo7QxYofRiyQMlzZIGSZ6a2RK4RqITEZJjNJo/sHqoWjpp8LFBqKHkvDwuUdvYsUNoZskDpw5AFSp4jC5Q8M7UlvCpQtEHWF99swfL1PyAiMsb+8r9ew6fB19cHsz4aoPY8vJaPBcpr6FUdmAVKFaYsM7FAaWfIAqUPQxYoeY4sUPLM1JbwqkDR1ux9R80Uu4v+euwM+nVpJt6evHPvEQweO8fpRYFqT8qT+VigPElb/lg5FSgLkpCE2/BDAZjgl+mBLVZg914jTp0yIDbOgFIlbXitthUli3vv3X/yhLIvwQKVPSM1OXgVnhpK2efhIPLsGaXPwQIlx0smt1cFikaaShUvjNEDO6LHsE/xRt3qQqCu34zAa62GYM3C8aj0aGmZ8/F4XhYojyOXOmBOBOqKZQfCbSfsxwkxPI2SpnpOxz1y1IBN3zu+sDJ/PhsG9LPAA++xlOKgJTMLlBZ6d8uyQOnDkQVKjiMLlBwvmdxeFajarQaj99tN0apxzUwFatPXk1CudHGZ8/F43lwhUNZk+Cccgzn1FlJ8H0JSwGMAjB5nkRsPKCtQ0ba/cdGyxulUypnaIo/hIYe/r1prwqk/HF+eTBl690hFsaK5kUbO2sQClTNuGUuxQOnDkQVKjuP9JFDrtu7DmE8Wo03T2vhgcCc7iCvXbqJ+u2H2fxfMnxdNX38JA99p6da4aq8K1KAP5iAyOhaLpw8HjUYpI1CzFq3FgmWb8dvOhfDz9ZHrLR7O7W2BMlqiUei/0TBabtvPPCngcUQUTXtD9YOeZAXquvUAwqwHnLAVN9ZGIeOzLFAPeofScP4sUBrgpSvKAiXH0ZMClZIAxIbZkKeIAT4Bcu1Uk7tj/0kIvx2Fm+FR+GnjbLsfKAK1dNYoFA7Nj3MXrmDAmFkY2qsNurRtoKbqHOXxqkD9eeFfNO82BqVLFkFMbDyefuwRpFqs2PfzCQzq3hLdOzTO0Ul5spC3BSpP1GbkjVgBgEZCKPYmbUTkVvFxSPF7xJMocuWxZAXqpvUIrlp/dDqX0sY3kN9YyeHvPIWXKy95rm0UC5Q+l4YFSo6jpwTqt28s+HuP1d64h181ompHxxAHuZY75r56/Rbqth2KVQvGoXXPcZg9YQBqv1RVZFIEavt3n4iwIEo0QBMY4IdJI7trOWyWZb0qUNQykigacaI3LscnJKL8wyXRoXldEVhuNDpPj7iNRA4r9rZAFbg+Ff4Jd+N10k7DhqjQ7ojPWzOHZ3X/FJMVqFRbPM5aFoKCyJVEQeQVTd1hNgQ6gOEg8vunn3jiTFig9KHMAiXH0RMCdfNPG/ZOTXVq2CtDzChcWZ/n+OIVW7Fj92GsXDAWwycuQEpKKqaP65upQMUnJKFxpxHo27kZWjR6RQ6YRG6vClT47Wj4+JgRnCftwWSz2WAwGJCYlAz6rHiREPHv3Jy8LVAhV8fDN+m8E6LIQj2RkOfl3IzOI22TFShqVJItArdsJ5CECPihIEINT8HPUNAj7c2NB+EYKH2uCguUPhxZoOQ4ekKgzm614tQ6i1PDHm9uQsWG+sTjNnxruBhc6dC8DvYeOoE+I2fYV+orI1CvvVwVZpMZh4+fQbWnK2HC8K4IDPCXAyaR26sC1X/0Z6hcoQx6d2rq0OS/Lv6Hpl1G44eV01CsSIjE6Xg+q7cFquC1SfBLPJ2JQPVFQp4XPQ8klx0xJwKVy07B681hgdLnErBA6cORBUqOoycE6p8DVhxZ4ixQz3YxoUwN7QJ15vwltOw+FrVrVEFoSH4kJ6dgw/afMGF4NzRr8LJ9Co/CfkwmI+Yv3YRPP+iNBrWfl4MlmTtXCtS1sHDUafMu1i36CBXKlZI8Jc9m97ZA5Yn6HnkjljuetMGMsFIzYTXl9yyMXHg0FijtF4UFSjtDqoEFSh+OLFByHD0hUEkxwLaRKUhNvNs2sz/Q4GMf+OWVa29muacvWAXaN/L1Ws/ZPz509LSQpa9mjnCKgVr47RbMXLgGy+eNwZOVy2lvgIsavCJQKzf+CJqjXL1lD4oXDUWNZx+3Ny8lNRW79v+Gq2G3sGftZwKQJ1JUTBySklJEBL9M8rZAGazxKBD2GfwS/0hrtsEH0QXbIS7Yed8imfO6X/KyQGm/kixQ2hmyQOnDkGphgZJj6QmBohbFhgEX9lgQc92GvEUNKFfThDxF5NqaWW56Y0mtFoMwuEcrERutpMPHz6LzoMlipspitYptDJQgcgoHGvnxQuESG5dMEJ7hjuQVgaITpTnLzBLNV9aq/jSaN3oFL1St7I5zdqjzVkQUOg2YhEtXwsTfad8pGgakDT0p0QWg5ZAZk7LFgrcFSmmXMTUSptRwWC/egvHKJVgLFoHliRcA38x30XY72FxyABYo7ReCBUo7QxYofRiyQMlz9JRAybdMXQlaYNZl8GQc2DgH+fPlsReyWKyo2WIgurVvhDovP+MgUJSJYqnfHvAxEhKTsHLBOAT4+6o7oEQurwiU0r5P5i5H2dLFxEaa3ko3bkViw/b9aFK/BoIC/LFszU4sWbkd+9bPEsB/2H8UIyctFLuip08PlSgsAtxzi0BR2/xmjYDpzFF7M235Q5D4wSLYAoLE325YgTVxNvyZakMxI9Ak0IjKuXubLc3dggVKM0KwQGlnyAKlD0MWKHmO97pAyZ+x50p4VaA8d5rqj6RE8y+bPQpVnygvBGr8tK+wf8PsTCvJLQJlvHgG/p84v3w5uVVvpNZujiQb0OKmBdfTxfnR5OiKQkY8bM7dKx3VXz3nnCxQWuillWWB0s6QBUofhixQ8hxZoOSZqS3hVYGiSPp5X2/EoSN/ICYu3qnNK+ePRd47WxyoPSGt+dZv24/3pywSwkTbwZNADRwzG03r14CfnxEL/aEAACAASURBVC+efaoC6tesBrMpbYOw3CJQ5n1b4Lv8M6fTT32pEZI7DMLBJBsGRNzd5EzJ2D2vET3zsEBp7Tf3c3kWKH2uLgeR68ORY6DkOLJAyfGSye1Vgfp86UbMWbwedV95Fv/bdwStm9RCUKA/Vm7cLXYnXzZ7tFvmLV0BOn/xCtr3mYC3W9VHv67NRLaTZy9ix55fkS9vEK6GhWPVpt1o3+w18QJkSuHRdzdclAGfVV56YAUH+iAl1Yro+BRV1Rr+Pg3jpP5Oea1t+8BWpwWWxVjxyW3nZaavBxoxNVS/3WJVNdaDmUKC/dxyjTx4Cl4/FC3kyONvRlRcstfbci83wN/XBJPRgLhE5w0H7+Xz8nTb8wT4IDnViuQU5+8zT7flXjgefQdycg8BrwpUm57j8XzVSujVqSmqNeiJbd9OwUMliojVebO+XIvda2faR3rcc/p3a/3v+i107D8R1Z6uiEkjurtc/ae8zPDErkWibUkpzqM6WttKG7CTRFltEBKlNiVNfhfWk4ft2Q0FQ+E/ZRkQGIRLyTbUvJjgVNXUon5ome/+FSg/H6NbrpHaa3I/5KP+aDYZkJxKrwrilFMCJE+0L3CqhTnmlCGV8zEZYLXZQG8C4JQ9AfoO5OQeAl4VqNqtBqPP22+iZeNX8VjNzlg0/T2x8u7yf2Fo0GG4CNyu9Ghp95x5ulpp406K8qf36owZ3ClLadv/y0nx4uOjO76Av59vrpnCE6djtcJ04gBM507A+lB5pD7zqsMqvIUxViyKtUH5/fuKHzC1oAn3rz4BHAOl/fbhKTztDKkGnsLThyNP4clx5Ck8OV4yub0qUGJn0Zeqos/bTfHO0KkoXaKIEBiKiaJ/e2IjTeWFxo1eewH9uzWH0Zhm6/QSwgL58uK79bvEZp6Vy5dBVEwshn04Hz5mExbPGC7y5ZYYKFgt8F08Ceaj+9Kuv9GIlDotkdLM8UWKCVbgogUoZrKhwD3wrkGZzpxZXhYorQQ5iFw7wbQaWKD0IckCJceRBUqOl0xurwrUex/Nx7/XbordQjfvPIgRk74Q+zBduHRVvFR4/eIJMueSo7zbfvwFQz/83Kks7QM1eVQP0A6oi5ZvtX9Ou5pOHdMLJYsVylUCZT6wDb7fTHc6j8QRc2EtXT5HbO6HQixQ2q8ij0BpZ8gCpQ9DqoUFSo4lC5QcL5ncXhWo2LgEJCWnIKRAsGjz2u/3Yc/BY6hUvgxaNHwFRQoVkDkXt+WlDbluhkcib1Cgw0ZedMDcMgLlN/1dmM7/7sQguXEnpDZKC3jPTSk1Hrj+sxExlwGfPAYUesqKfI/qHxvCAqX9qrNAaWfIAqUPQxYoeY4sUPLM1JbwqkC5aiTtMDpt/kr0erspgj28jYFacEq+XCNQE7rD9N8/Ts1Prd0Cya16yZ6W2/P/PteE2MuO2ydU6mpBgQr6ShQLlPZLyQKlnSELlD4MWaDkOd5vAkWvdgmPiBaDGX6+3t0J2msCRZJEK9+KFw1xCNqmd+QNnzAfPx44hoOb54rtA3Jzyi0C5bN+IXx2rIRY5pMuJQ6ZAeujd981mBtYJkUYcHSKc+h6yFM2VGiv79JkFijtV5wFSjtDFih9GLJAyXO8XwSKFpdNmvUNaCGXkp6vUgmDe7bGExXLij8pr3eJiIzBrtXTUbRQQXlgEiW8IlBHfz+HXsOnIz4hEfTuu67tGqB3p6Zimqz3iBk4c/6S2GeJ9lvK7Sm3CJQhJhIB47oBcVF2ZJbyTyNpyKe5DmHU3wb8scBZoAKLAU8P0nePnNwgUHnPb0bAf7/AlHgbKflLI/rRpkgOqZDrrourBrFA6XOpOIhcH44cAyXH0aMClRIPRF8HgosCPoFyDc0id1RMHOq0fhcvVK2EYX3aCjG69F+YiE+mlfq0dyMl5b15tAk2vSOvc+vXdWtDZhV5XKAUQyRxerv167h+I1xAGNCtBVZu+hFhN2/ji6lDUaNa7ho1cXUVcotAUfsMifEw/nEYxogwWEuWg6ViVacRKbf2JpWVW5KAIxPMsGTYl7HEq1aUbqjv5i7eFij/a0dQ8Lf5DmRs5gBcf+0T0P/fC4kFSp+rxAKlD0cWKDmOHhOon5cA536427jytYEXusk11kXuWYvWYvXmPdi5YprT5toUo0xbClEa++kSEVdNG3Hv3HPY7QvRPC5QFy9fQ+NOI/HdvDF4qnI5cdL0Ope5S9aLoPGFU4eiXJkSukD3RCW5SaA8cb56HePGYQP+3mSC9Y5E5S1jQ6VOFph1nrFVK1Dh4QZc+Cdt+rNcaRtCQvWJxcp/cikCL9/ZWiIdvFsvDEVySEW9cLq1HhYoffCyQOnDkQVKjqNHBOr6aWDnROeG1R0JFNM+GNJj2KcoU6oYRg3o4PLkExKT8UqzAZg+ro9YJU+eQSv5aUW/u5LHBerE6Qto3+cjHNw0F/mC056Wyr5Pu9fMROHQ/O46V7fUm5sEynDjP5jOHhPnaS3/FKxFS7nlnPWq1JoKJFwHzHkN8Munj7BkbJsagTp1yoA1G0y0D6lIFEbWrKkFTz+pvU0sUHr1lnu/HhYofa4hC5QcR48I1KlNwG8rnRtWtQ3weBO5BmeSu367YeJVb93aNXRZF70ObtTHX+Lgpjnw8TGD9pl86bknMKh7S83Hd1WBxwXqt5PnxStTfvn+c+QJSpvCOHbqPN7qNxHHdi6Er5ej6mVJ5xaBMh/ZIzbShI0sIG0kJbn9IKS+3Ej2lO6r/GoEat4XZly/7njaoSE2DOirPaCdp/Duq+6k6WRYoDThsxdmgZLj6BGBurAPOLDAuWE1egLlXpFrcCa5aQSKpuWUd9BmVuGAMbNw7OR51HnlWfHxL7+dRkxsPPas/czlq9m0NsxrApV+j6eUlFRQ1HzGfZ82LpmIvLyNgaprHDC6AwwRNxzy2nz8kDBri6rynsxEMVC0B1T0RcAcaEDo41YUqKx9tCezc1AjUJOmmJGY4Z3QNAo18r1U+OvwHk4OIvdk78q9x2KB0ufasEDJcfSIQCVGA+uHACnp3rfqEwA0mw74p+3zqCXN+GI16D20O5ZPFQvP0idauZ+cnIIaTfuhbdPa9n0labuDBcs246uZI8Q7bt2RPC5QtBRxycrtqs7lvT7tnALGVBX0YKbcMgIV2KceYHOWkIQJ38AWUsSDRLI/1OlFJkSec9xuoXw7C0Kf1l+i1AiUO0egfKL+QeC/P8GUEIHU4FKILV0LVv97a5qaY6Cy79NqcrBAqaGUfR4WqOwZpc/hEYGiA0ZfA87tAqKuAfmKAeVfA4KLyTXWRW4aYKFpvCqPP4Lh/dqjeJFQ8c7cJSu3iVV4QQH++OzLNU6jTZ0HTUbZh4ph7JC3dWlHxko8LlBuOQsvVprbBSqx/2RYKz/jRUKOh06OBo5MNDu1p2BlKyq+re8KPDqIGoFyVwyUOfYqCu8b6yC2loAQhNWcABi9uwGcTIdggZKh5TovC5Q+HFmg5Dh6TKDkmiWd+/zFK5j42Tc4fPysvWzVJ8pjeL92mDJnuZCrIT1bO9S7ZsteTJm7HAc2znZLeBALlPRldCyQawRq4BtAcqJD42ywIWnIzFy1kSbtAXVqgQkGZbDpzkCUf6gNVYdpjznKeDnVCFRyMvDXXwaERxrg56ffKrzgs2uR58I2px52L63Ao8azQGn8krhTnAVKH44sUHIc7xeBUs6aputuRUSJncgzTufJkdGemwVKI8PcIlC+30wDvVBYCSAX03m+foifsQkwOW9aqfG0c1Sc4tvPrzDh1ok0a6Imiv8yAMVesqLsG54fgdq734g9e42w3Dl0hfJWtGlphdl5kEz6nAsemQP/sONO5SKfeAvxD9V0XZ/NBlpRabCkpq2kNHr3+rFASV/6TAuwQOnDkQVKjuP9JlByZ+/e3CxQGvnmFoEyRIXDb94YGC+dSzujgDxIbjcAqc/V1niGjsWvhwEX/zHCz9eGcuWAfMHq45ZuHTfg3HJnGQgoZMNjPSzw1R5r6HSuWY1AhUcYMGuuySl0rGljC56pqv68XAGm/Z9oGwPHZEBYzYmwBBXOtJjhygX4LfwIxhv/pUlmcEEkdRsNa/kndb2OMpWxQMnQcp2XBUofjixQchxZoOR4yeRmgZKhlUne3CJQStMM4WEwxEXDWrwMYNY3zoZGa3btNtop0MDWW+0tKFdWnWxc3GzEtZ/ullcqeqSVBYWfVVeH7OXKSqDOnDVi+Srn9lSrasUbjXUYDbOmoODR+fC/cSKt2QYToss3QewjrreW8Js9EqbTRxxOk3aVTxztuJu5LAct+VmgtNC7W5YFSh+OLFByHFmg5HjJ5GaBkqF1DwhUxibettqwKh44k2xFYZMBDQIMqOLruAJODQLaZHLiJ2akZHj9yqOP2NBR5QuAf//MhNirzseu1NWCAhU8L1AX/zFgyVLnEbGXqltRr44OAnUHrDEpGqbECKQGFYPNnPW+CAFD3oQhIc7xkhiNiJ+91WtTeSxQau6Q7POwQGXPSE0OFig1lO7mYYGS4yWT26sC9dXK7ShTqiheev4JmHNJnI4MPMqb20ag0refQrLb3rTiYqqjnCwOMeHJtFcHqU63Iw2YMctZNvLns2HIwOyDv1NigMMTnAOLDGbguTGpMDlu7aG6XdllzGoEKjUVaVN4ybdRq8JOlCpwCeFxhVCiykvIW+Th7Kp2y+f+47rCGPavQ922gCAkTN/gluOpqZQFSg2l7POwQGXPSE0OFig1lFig5CjlLLdXBWr89K+xatNusYEmvVj4zfov2V/vkrPT8XwpbwqUf/wR5IncBHPKFVjMRRGX9zXEB79mh/B7MtA13Flu2gUZ8G6w89RVVvSSU4BJn5hhSU0L+qZxJNKy8ipHoGj13R8LTGmFKN0ZiMpTyoYn+2UvYDm9stmtwouJTkWJsGEIMt9MdwgjbpachFQf971DydX5mHcsh++GxQ4fp77UCMkdBuUUgeZyLFCaEYoKWKD04cgCJceRR6DkeMnk9qpAUUNPnvkbKzb+iA3bfxLtpvfd0G6iFcrl7ve4KZC9JVCm1FsofGUoYCOjuZvCi72PZP+0XVc3x9swPsp5KupVPwOmFZQTqJ9/NWLrducyb3WwoHy57KffXI1AFXneinLN9Zsuy9j5Cxc04Z/w/+BryAczAvDPJQN+3GPE1asG5A22oUG143i10BSneyamQHPE5m8ucy/pk9dqhenIbphO/QqDJQWWClWQWv113ePZZBrLAiVDy3VeFih9OLJAyXFkgZLjJZPb6wKlNJZ2Gt24/ScsW7sTYTdvi63XO7aoh1erP5Wrp/e8JVABsYeQ/+bcLB/8YVagcZjFPuijZB4SbET7ILk4qO9WGnH2T2eB6t/HgkKh2QsUHfvCWiPCfk0XhO4HMfoUUFhdeZmOTXmvWnbjpo0CstPqz2erjBWfvYn4+Ls11am4FW2qZVwpByTkeQGRhfrJHvK+zM8Cpc9lZYHShyMLlBxHFig5XjK5c41ARUXHYdPOA2JrdhIo2iArPiERBfPnRa9OTdGheR2Z8/JY3twsUATh21gb5sVakXTHUar5GjCzoBF+cv4EPQSK2hNzySD+55PHJgLHzUHuuVTxuI7zqc5idGhNC1w9V8F+0LIh5zCq4Zi7c4p3ZCsqtCfi82p/CaZ7zs6ztbJA6cObBUofjixQchzvN4Gid9yFR0SLjTT9fJ1XmlutNoTduo18eYMQGKDDy0yzwO11gTr150Ws3LhbvCiQUu0aVdC+WR08X7Uy/rxwGcvW7MTPv53Gj6tnyPUaD+X2lkCpmcJTECTYgH9SbChkAkJNkuZ0p5LMpvAogHxgfwtMcrOBHrkyt2zH8Z9lp9Oxzh56Ead21xKDUvTC4DbPfo06lTLsFm4w4VrpBYDBTZHtHiGg30FYoPRhyQKlD0cWKDmO94tA0bvvJs36Bvt/OWkH8HyVShjcszWeqFgWKSmp4uXBny/daP/8ycrl8NGwrnikbAk5aCpze1WglCByGm2iEaZWb9REiaKhTk2PiokTNpkbk7cEilhkF0SuJ69UC7BnnxH03rjYOANKlbThtdpWlCzunuk3rW2Psp3HP5b1YjwpvTKe+F8d/HX4OVE9fTas3nhUKHLG6XC3ik9Ail8Zrc24L8qzQOlzGVmg9OHIAiXH0ZMCFW0FLiZZUdbPCMl1SlmeFDlAndbv4oWqlTCsT1sULVQQl/4Lw6LlW8XLhN9uVR/T5q8S8dTTx/XBc1UqgcKCps5bLoTrh5XT3LJAzasCRaZYsmgh1H31Wfj7Sa6rl+tDbsvtTYFy20ndBxXftB0WMVDpk81mwPZ5fRAflc/+56GvT0WFQkedzjis1BxYzfnvAxLaT4EFSjtDqoEFSh+OLFByHD0lUCOuJmFpRIq9cW8V9MEnxfWZQpu1aC1Wb96DnSumIcDf0RUSk5IRn5CEl9/sj49HdUeTejXsbaDP6rZ5F+2a1UGft5vKgVOR26sC9d36XShWpCBqVa/i0NRLV8Lw5XffY9SAt5xgqTgnj2bxmkBZkxEU8yN8E8/CZvRHYmBVJAZVyzDe4lEUmR4s9ooBN44YkHjbgDzFbCha3QZfide/5PQMLliWI9bmuJ+S1WbA5mlDkJKUdlPTFN4bzx9Ak/KzHQ6TFPAkIoq+l+2hjfG3UODUN/CJvgyr2R/xJV5E7CON0yq+jxILlD4XkwVKH44sUHIcPSFQB+MsaHkxwalhK8oE4JU82t/l2WPYpyhTqhhGDeiQ6cn/dvIcOvafhIOb5zrNVtFMV/jtKMz6aIAcOBW5vSpQ/Ud/hsoVyqB3J0czvBkeiZotBmH94gko/7Dn9+JRwc2exVsClf/mHATE/uzQ1KjQLojPe3cfKJnzcEfe+DDg+Azz3b2fAPgVsKHKUAuMOrys11Wb423X8ZflO9jguMUD5f9hUTdEhRVJa5MBePF5K5q9fAR+cUdgtMYixb884oJfg80QkDUSawqK7RwMgyUxXT4bYh+ui+hKbd2B02t1skDpg54FSh+OLFByHD0hULNvJuPjsAyvqQAwsogv+hfSPrtUv90wscVRt3YNMz35HXt+xZBx8/DHnq+cPp+zeD32HDqONQvHy4FTkTvXCRRF2G/d9TNGTlqIves+Q2jBu9MtKs7H41m8IVAGayKKXuoBwHH/pOSAiggv+r7HGbg64L//M+LfH5wjzGVf3UKuczkVSIUNZcwGZPV7xgYrTqXOgRWJ4iXB6QeDEmLyYuucfoAtbYTI1xfo3cOCkILycVx+Yb8j5Mgsp1O3+gXjep3prq9BcjJ8Ni2B+fh+IC4G1kceR/Kb3WAr4Z2dz9V0FhYoNZSyz8MClT0jNTlYoNRQupvHEwK18nYqBv+X/sdk2vFnlPBHmwLafy3TCFTpkkUwemDHTE/+t5Pn0bH/RBzcNNcp1mncp18hIir6/hmBorlKCvDKKtWvWQ3Tx/WV6yleyO0NgfJJ+gehV51FyWIOxY1SM71AIfNDnl9lws2jztNZZRpbUfxldZtn/p1qw7u3rfj3zmBSqBH4sIARz2XyPj/T7VhEWk/j73x7nBpkSTXil3UtcO2vR+2fNX/TiqefVNeOjBXmPbcBec9vcT5xgwlXGy5weQ18dqyAz4ZFDp9bi5VG4gdf5prrlrEhLFD6XBoWKH04skDJcfSEQIVbbHjxzzjEpvs6zWMEDlUIQkgOV36nP8sZX6wWK/V3LJ8qtjhKnyj+KSk5GS817Y8Jw7uhWYOX7R8nJCajXtt38VaLeujZ8Q05cCpye2UEav22/aATW7FhF4oWLoia6WKgfHxMqPpEeZQrXVxF872fxRsCRSNPRS4PgNES6QAgMboUon1bit2rYfT+3gIU+/TXaufxIprCCyikbtTn3Qgr9iqbWN0529ImYG3hu/Uao+IQsmwnfK6G43SjOFx6PsmpY0RcL4Ldi7vZ/06vXhw5NBW+OYxxNMXdQJE9o5yOk5LvIdx86QOXHdN/xrswnvvd6fOEyStgyxfi/Q6dSQtYoPS5LCxQ+nBkgZLj6AmBohZdSLZhWUQyLiRZUc7PiI4FfVEuBy+uz+zsaMCFpvGqPP4Ihvdrj+JFQkHbGtC+kRlX4U0d0wsvPvsYIm5H4+M53+LQkdP4YdU0t6zk94pAKYBOnr2IPIH+KPtQMbkekYtye0egaAuD35Dv1kIYLWkjedabqYhbdxvWKCsslZ5B0oDJ4u+3LDb8nAxEWYAqfgZUdt53zG00bVbg7FIjbp9JkzmDCShZ24pSddSP+jS+YcH1TF6V92NRE4LvDG7lX/8TAg+fFcc4Xzsef9V0Hkq+eeEJ7FuZ9guE9l57vZ4Fzz6jTuJcAcp/YjEC/z1o3yfBZvLFzRqjkJrXddweC5Tbuluur5gFSp9LxAIlx9FTAiXXKvnc5y9ewcTPvsHh42nf9ZRosGV4v3Z4vELm+0DR3yeOeOf+2Qcq/HY0zv51WZz4zfDbiIl1jtxX4FR85CGYcuMujemuvbcESjTBZoH/3kUwb18HKxlSupT43iycLFkJPcIt9l3I6eOOQQYM1HODDhX3QUoskBRpQGAhG4ySIz7tbllxPsVRdAIMwJ6iJnssVKHZ6+FzLVy0JLJUKg51j3ZolQEGVDC9g8SYgoiLtaFwYcCsfVo+TQpTEuB38yRS/UOQWpDimLJegcdTeCo6zH2ahQVKnwvLAiXH8X4RKOWsk5NTcCsiSuxEnnE6j/LQTuTXb4QjX3AeBAW6dzNkj49A7Tl4HH1HzcTWb6bg089X4McDx1z2hsyWJMp1Hffn9qpA0WjK11Nh/tl5x+3kTkPxXqW62EnbkKdLNPG1p4gJASpn+MJvGfDrMQNu3TIgNNSG56rYEKLy3Xd60B8facWmO+dAakKB4S2CDBiV7+4JhC78Hr4Xr9kP9+8ziWIaL7aIEcG+hVHA+hzyGe7GPunRrhzXwUHkOUZ3rxdkgdLnCrJAyXG83wRK7uzdm9vjAkVzmWfOX7ozAhWJ2Lh0b3bNcK4VyvEIVES0czxPekyZjWjQ5zQC1SZvBafRG/rs21AjKvhkv1dRXBwwc7YZSelWp9J+p4P6pyLIAxvDH0yyYUCE43RfcROwppAJ6afWA05cQIGVjptmJj1aEuFdXgd9eeghuYbUBASfXQf/sOMwWpKRVPBRRFVsBUueIu69Q3NB7RwDpc9FYIHShyMLlBxHFig5XjK5PS5QMo27F/Lq8XDOeJ5+PkaEBPshMcWK7ATKEBMJ/0m9YIhMm8KipMRAjYq0ahqBOnbcgPWbnIPAGzey4rln1Mcx5fQ6jo204vsMI2hU15pCRrGdQfrkf+YSzH/+jURzFMwhJZFU9UnY/Hx1E6jgs2uR54LjO/OSC5TDreojc3p690w5Fih9LhULlD4cWaDkOLJAyfGSye1xgaIpuytXb6hqY5umtTN927Kqwh7K5G2BEqeZnATTyZ9hjAiDtWQ5+yq8P1KgKQbqx71G7NnrPNdHm082qJ+9QNksQPwNwORrgH+IfMB2jwgrfsuwAo9Od2oBI2r5OwrUNete3LD+eucNd0ABQ2WUMjVCiZBAXUagCu0fD59ox53NaZOpa/VmwWbOZtNND/VFdx1Gq0DRvmXm1KuwmEJhNQW7q5m5vl4WKH0uEQuUHEcWKDleMrk9LlC0WyjtGqomeTIGil5WmJSUgsKhmb//LCY2HrTJZ4F8eR2anisEKguYWlbhXfzHgCVLnUegOra34NFHshYiWnl3frURqXFpjQssAlTsbIG/xKaVC2JtWBjjKGo087ijyN0VeFR3gu06zlmWOlEobWqKyqFPu1mgZsNmdm+gopp7xZ15tAhUnsiNyBu5Tix4oESvHLpduD9g8OByUHfCkaibBUoCVhZZWaDkOLJAyfGSye1xgZJpnCfyUjR/pwGTQO/fo0T7T3Xv0Bhv1Ksu/h2fkIjhExbYg92frFwOsycMsO+QntsFSivDzd8bcfjo3VGoalWteKNx1qNPtH3B0UkmJMc4jhIVesaGR1tnsieBi0ZG24DBERacuBODRavv/s/eecBHUX17/DczW9N7IyT03pGuVAVBQEGxoIJdVIriX1Hs+kSliIpiQVFRxIIgiALSFESa9N4DIb237TPzPnc2m93Z2SQ7yWYXcO7nvedj58yde8+9s/vNOeee81QYhbFBNGBjoTuTAVVeMTJa5CMt9l9JL3F0L3SPvdEnAKW48NTIK6k5Hs99ARhrDuIu/a/KKui4XhLzIAyhg+q7Na+4+xWA8s2SKQAlT48KQMnTlxzp/zxA5eYX45d12zB6WD8E63X4Zvkf+PKHddi68gOhkDEpakyqQH+z4AXh3489N1/IW/XGsw8Ier7aAUqwGpiAgkJKKHmi88LYYi6ksPcdqeUqKBHo8qS0Pl1tG5bkgSrieDRTUdASJrOxiPvoF6hyioRbc9pasO+uckk3SfRgdI69zidrpASRywconeFfROZIM+MbQgejJMb+/vyXmgJQvlltBaDk6VEBKHn6kiMdcIDavueIkBirwiDNBzX90TsEaPFnu5SVJ2Q8/WbBTOGk4G0PvwJSVoZYpUhzFC08suVLUBTlkx9n9/nJCSL3p268eZbNAGT9TSN9E22vRUduqjREhTXj0eFR7y1Q1T1Pf+gcIr/fXHXZpuXx17RiWEKcbkUaDNpzo9HItg+msnTY1IkwhgyGTXPlJm31Rv8NIVNXF57GdAzRWbMkQyoPH4myqKur4LI3elcAyhst1S6jAFTtOnKVUABKnr7kSAcUoH7btBPPvvGJkAyLuMpIsUCtRo1T5y4hKiIUa5fORkiwfwN0SZmZF9/5Att+WSCMocfwSUJ9HQJRpB07lYZxj7wKR3xWbrE067WcBfAkq1HRiAjRwGLlUFwhrXBd3/4b8v79C2iUXXC67lRdjkDVdzeY2AKobdFIDuuBKKZdvYYQr0nxxQAAIABJREFUsnY3gv48KOrDGMHizB1RKGtMQ0tFIpZvhuT0N0FxTjDnaT0KUt8F/x8OZK6L4lUMjbAgFQrLZO5F3oroC/8Dbct3eSyNwpS3wGqqz9ZelzFeCffotSqoaAplRuuVMNzLdoxhQRqYbSzMlvr/MXbZTtKHA4uL8MJt4MPnNXRXJBa5oLBUSKRJeCGQLaAAdd+TbwuQ8srT96HvqCew4fu5SEqIwXuLlmPX/uNYtvAlv+qGpIof//j/YeK4YZj8wBjwPI8Og+7HwreewoA+nYWxnE3LwOj7XsDGH+YhMT4aNlb+6bLaJkVRAENTggWH5Xzff23Pr+v1sixg06tOFx0dlw/9tM/cuqPQJ/IxhDAxdX0MqL2nwXyxXnI/++gI8J1JNnCAzl8PKn2RRIZLeQJ89H8v/qbOyiYGRAqgKapue9FaCCp/HShDGnhNHBA9EHxQi/oM54q9lyZ/V1AkU/IVO4XLYuCkOAX5bryCvhoDqjeVD4r5BnQClQ8nte9mffAttu06XDWcXl3b4pF7R+HB6bOrHeIL0+7F+DFDGmQKAQUo4iojrrGxI/qj4+D78d3Cl9C5XXPBAjXmgRexZslbfquTl5Gdj3unvIkeXdpg1nMPV5WQIRYoUktn6IBrhAVwt0AFIgaKseUjtHAZtKZjABiYgrqgNOpO8HRIg2wSbzstPErjxNe03WXHA+p+u6G5aaPk9kbMUMRQXSSff1fBY6WBRxbLo5UaeDiERh8h6MmtucVAkauWuCgsbn4bTp4mP/QU7rv2K3SNXye5tSxyLMojxno7JUUOQF1deIryxBpQXHi+2RGKC0+eHv3qwjNagNxiIC4C0Psu/Iackr/+9qfRu1tbPPP4nUiIjcKFjBx8sex3kITbAysNHEQzIyc8DwJNfbrbPR1RkWENUkiY9B1QgBo9cSbGDL8O9985XIg1Gj64Fx68a0QVpDiASt52kS995nwG7n/qbQy+thteemoCVIwzAJqM68ZBPfHQ+JuEji+HGKionLnQGg6IJloROhilAQ7MJSkLdr/uLDKn7us9QO0w85jilnU8mAJWxdGIEP50l0KU4xSeLTYCP51OwZ79zmd3SDqAaUPsBZVdW0HiTFh09XMhyt9hV/YdCkD5Zv0UgPKNHhWAkqdHvwHUd38CfzmtQ7iuA3CPb6z9H3zxs3CY64/v50niok1mC3SkREZlI0aPt2c+giHXdZOnqDpIBxSgSE080j6a9SQWfr0KH325EhPGDcPOvUeFYoFbfn5PBDN1mF+tt5w8m46xD76Em4b0xpQHx4Km7Uf2g/RaIefToqVrsHzNX8IpPPLZpBnvBvgUHoeEtEdA8eLYK1YVg9zG0hNPtSrAhwI2I7D7VSfEVOfCa616ADpEi548r5TDsgqpu/KDKBp9PVmh3Mb97vsMikvEoHVP788xoKXTAlYROgSlMff7cMb/ja4UgPLNOisA5Rs9KgAlT49+AaiTGcC7K6QDe/IWoG1jeQP2IP3IM3PRpHEiZk69u9a+/jMARWrikTQCJL6IVFh+ac5irNmwQzj99vjEm9Hnmva1Kqu+Ams378L/Xv9Y0g3JA0UotsJgEq5v3WkPWu7QuikWvDmtKuGm/114BKAeBcWLTy1y1iDkGyaAbdcDFrUWOy3ABRuPVBWFvlrAiTX11Vj19xedoHD8S3H6AhJErh2wG3R8AbSIRix9jZAl3L01BECR2J1P51hRkH8eNlUCeDqo4SZ/FfesAJRvFlcBKN/oUQEoeXr0C0Ct2wus/Ec6sDF9gRu7yxuwB2kS7nP76EGCh6q29p8BqIKiUqjVKoSFOH/YOI6HxWoFuZYUHy2kCrgcGvHBWq22qgSajjH5H6AATy48y34DjBvKYIpPxrjHFuEs59RbSzWFb2PIwf6GbSeW0CBxUO4taQCHJiNqjpyV7cJze8jq32j865Lwk1wm2dJnTNE0SKqJhtXk5dW7AlC+WQ8FoHyjRwWg5OnRLwD1z3Hga2m8KyZeD/RtK2/AHqSJBYqc0iexTbW1/wxATXnhfbRr3QSPTbhZpBMSk3Tz/c6TbrUpLJDXAwFQjiByXflBoLwC1nNmmLaWgzfy+L19f/zv1pkSlcyNpDHQrX6cr/W2bw4DUx5VFUTu6L/TVBYhybWfJvQ2iJwHhyLuCMqQJjwiFE2gNXfAxk1qnDpFTi5SaNqUx7DrObRrpvMKoLT5x6DP3APaXAJSJLgidSB4dbCvVXRF9qcAlG+WTQEo3+hRASh5evQLQJUZgReXACaXVCckh+P/TQBC65+KaP5nP2HF71uxftkcIe2RazMYzUJ4jaP95wEqK6cA19/xNFZ88QZaN6+//1TedpMnHQiAcoxQtWkFNMvF7sep417Cxrb9JJO4QUfhrUipdUjebGuWPvQhg7J0ypE3UxCmNUCv12ygfPhoe+HgXaLBkLItifQAyQDJl0dta6TNPYzoPe+L7rVENEN+PymI+lJfV0pfCkD5ZqUUgPKNHhWAkqdHvwAUGVJOMbD1sP2/8RFA/472//qgFRaXCQmuu3ZogRmTxyMpPgYkrcGXP6xF25apQuqh/wxA/bBqMwg1/rTmTyHvU79rOlRN3mqzYdO2fcjMycefP79flU7AB2vQIF3U9uNcl4fWlom8OgtUhiYWQ6d8CY6WOuvaqYAlsQ3nxCPlW/bNZRw1Y6umHd+LQ/Oxvk18c5T9CDa+skpx5ZPUCEM71aQ6AVTEwcUIuiT13+cOeAO2ECVzuQJQdXmLpfcoAOUbPSoAJU+PfgMoecOSLU3yNL75/rdC5RJHI/HSMybfJcQm/2cAipAkKZniqRHz3KC+XTD2pv7o3e3yP24eCICqLgZqeWY3/O/W5wW1ukaOEedZKgOsiKseoCwoBcsboaViYLMwyMunEBHOI9hLL1buvxTO/CTtv/H1HBrfUDNAkasXbXYXX4qKQk3GKhYmHLF9INk6JMKro+rpOgFUzM7Z0BScktxb2P0JmBK6yn7Rr7YbFIDyzYoqAOUbPSoAJU+PVwtAOWZNDpyRU/okE7m7O0+eZuovHdA0BrM/WoamqYkYN3Jg/WcSoB78D1Ce0xiQU3jfctPxfHhLksNS1Mi/7w6m8HSYFE0sJJLItgJG5Aj3cDYd/v11ONKP2wP/mjXlMeFuFpXZHarVcl0B6pAFmFnMghQMJi2BAWZHMmjnIUO/kc9FOZ+OAm4vzCgWjSWEaozmzF11AqjQ06sRemq1+F6aQdb17ypxUEoiTZ99sygA5RtVKgAlT49XG0DJm33DSgcUoEjNudz8Inw2538NO8sG7D0wACVNY0DyQB1Keg9j81hY3AiKWJ8+jaYR4yGl/yV2PQp4cV05s0GP3z6YBp6zA1evnjxuurHmulPEhbd/HgPOWclFuLfj4yxCU6sPIH+wgMVBtxJr3bQUPosSw14OtwPZ3DaPK0ncd01UtyAICXUCKMpageg9C6ApOiPczzNalLS7HYYUl5gqjoNt9wHYDp8BbSmHJl4PpkVjIW0ENM4AxgbcagHrWrFA+Ub1CkD5Ro8KQMnTowJQ8vQlRzqgAPXS7MVIz8zFV+89J2fMl5Ws/wHKcxoDRybyLSYeX5VzOGsDSMjTaD2F+0Oqd4qdZL+Cic+V6HTtR4/DUGIPAAwJ5vHs09UDlCEbyNlNozSNgrUUsBkp6GOBhL4s4ntWD0+kx4HZLIxuIiEU8CcxRVU2HjyOsO+B48VFWIOpZDRmhkGLKDenpXM63gSRO6RpUxEYcwmsoY0AWmwCo998DrpLe130RAZNgY9JgGnmJ+D1dl/nQUsBfig7hUusAe3VkZgY1gYJzJWdf0oBKN985SgA5Rs9KgAlT48KQMnTlxzpgALU5u37QVIZ/PPrRw1Wq0aOMuoiGwiA8mUtvLPs9yjnL0qmvvrd6bCa7MdFSWWbV15wMy1V3mEuorB/rtjypAoGuj9rA+NFEfChuRwK3QoyE3Za4xKvZeFLcJz9VDLG6gLHXQXlAFR160+fPw7d7KnSy6SiKUXBMn4abNeNxClrMa7PWAXWxYmarArG1kZjoaUaLoC/LvtWzj0KQMnRVvWyCkD5Ro8KQMnTowJQ8vQlRzqgAPXnPwfwzBufoGfXNujrchLPMYFxIwdAo/EQDCNnhg0sGwiA8sWUiFUnl9uBHO4fkLxKrq0oKwGbv3xA+IgwQkI8jycmebZAZW6jkbZGauFqdReLmC61535aUMrj6wrx8ycG05gS5gyDr84CFUo1QzPmthrV4RGgWCvCTq6EPnsvaKsBlqgWKGl9K2xhyR77Uu1YD82SuR4Aym74sg0eA8u4xzGraC8+KnGpBVV5x08JN6KvTupe9MU6+qMPBaB8o2UFoHyjRwWg5OlRASh5+pIjHVCAevLlD7Fh67/VjvdKsExdqQBVyB9FOvubHZIqV4AgCwGmjJOtsfPnW6tO8t11J4e2rT2fpDu3gkb2LilA1Xb6bqWBw48GIN3Gg4Q7xTBAPEOhtwa4KYiWlJ5xj4GiwKApcxtCqVTZABVydi3CTvwsus8WkoTc/q8JFiX35q0F6oHcTVhvSJfcPz+mH24PaSnnvbysZBWA8s1yKADlGz0qACVPjwpAydOXHOmAApScgV6uslcqQF1kf0chf0SU7sCh4+KcOGz64iHhn6TI9QvPeXbfkeukdMvprRlQD/kLdHI2+JJQ2A62R9sOfarNPn7YCtyfL7ZoaShgeSyDpBo8XY5TeAzUCKGbQoPQWreFuwXKzAORO2YjokiatiBn0Ntgg2I89sm89hS02UdcrkljoJaUncTzBTtE9xO03NboVjRR1z7WWicTIAEFoHyjeAWgfKNHBaDk6VEBKHn6kiN92QAUqX1nNlsQFxsJFQm6uULalQxQRfwRwfrkbnM5vr0fjv1lP4Gm0wIzZ1QPUMXnrUiL/BRUiEG0Yqn0aETQbTyu4pflHD4qk7r3XgmnMSrIu9qHFFcKXcVBWLRNwGqqz1bvClArDBzml/L49uRc9Ck/LRmbJ4Ci8rOgXfgy6MzzgnWKnNAzNOoJqmVLySk8M89iUu6f+MNot0KpKRrTI7pganiny3c38yxU1gzwlA6sOs7jOBWA8s3yKQDlGz0qACVPjwpAydOXHOmAA9TKtdvw7qc/gqRqdzRSdfnJh2+7IgLLr1SAcnXhuW6YgkuN8M/ycbAY7CfH2rXhcOft1SfCPPBTBqgxSyV7LpLqgBTGc+Xs+gJUVPZsaI2Hqp7J0cHIS34HHCMtG+AAqFIeGJbDwsoDT2SvxwuZK0Rjrs6Fp/l6DlQ7/xDJ8uHRMM5aCnjI+E4EC1ijcAqvpSocQbRKzvvoV1mdYR/C8xeBZu3vnk2djML46RKQUgDKN8uiAJRv9KgAlDw9KgAlT19ypAMKUGs27MCMNz9Fjy5t0K9HB0RFhGHXvmP4bdNO9O/dGQvfehKUh5gUORNsaNlAARRVWgTm6B6gogxci/bgmni29lQ3f2bbGuQVrkZu70Ywh2ugLbEgvKwLdhwZizPn7FagFs14XD+EQ1io52BwngN2L8qA7kF5AFWTCy81Jx+atBzwGhVMrRqDCxOnANCYTiI66w3JtCzalihIekXyuQOg/rXwmFRgB0EtZ8WMzFW4qXgfYlgD6Ojqg8h1b04CfemspF/jG98IKQyu5BZ/cQpotkg0BUPIdSiJfVT0mQJQvlllBaB8o0cFoOTp8WoAqF//+AfPzfqsauLxsZEYNrAn7rv9RpD/nzRS3YRUOXFvhCU+fvspeUrzUjqgAHXP5DeFYX774Qui4ZIaea/O/Qobvp8r1Mq7nJvfAYpnEZz2E3SnVoLiWNjOm2E5YoJ1yDhYb33Ea1XpX7wHmd31uDjKGdxMWzk00d1Va2C260N2vclB+8RCWS48cr9rEHlzFXBfCI1ROw8i7A/noQJezaDg/uGwNHGCSmjRcoQU/yKZJ0+pkN3kq2oBKs3G47Y8qSXtJj2F1yKqz5Olm/806FNOa5fwAJqGcd5K8LorN78TbStGfPpkib6smhTkN5qlAJTXb5L3ggpAea+rmiQVgJKnR38ClI03o4ItQDATDRXluwTDBKBmL1yGHz99FRUGE86nZ+Hzpb+huLQcSz96ETFR4VUA9fncZ5AQR3ID2hsp9+KALHmaq106oAB13S1TcP+dw/HAnWJXT1ZuIa6/fbqQYJNYpy7n5m+ACi38HiEla0QqMe8sh+lvE0rmrsQqXoc9Zh4k+UNfHYUb9dLacpTJANUL47B31nXgGTE8eJMagCS+XGngsd/Cw5ZOoduFTLRvva0qiDzY0A6tmveRt2wcj8TXvwZlEcdbmdqlovCeG6A1HoGuYic0plNCzI69ucZL0chquqRagCIX7stncUScixMfRNHoq7X3Y8qjkLWLgjGPJALlkdiLR8jxX6FZ9r6oX9s1A2B58EV58wuwNLEh/laRhg2GdFTwVvTRRuHpgvegp8T6tujboCBBPDfFAuWbxVMAyjd6VABKnh79BVBHS3/DRaPzD+DG+u7oEDZS3mCrkXYA1LZfFlRJEJCaOO0tNG+ShHdeeLQKoNZ9NxuNkzzHc/pkMC6dBBSgJs2Yh8zsAvzy5ZugaeeP4Wff/or3P/8ZW5a/h7gYaVyLr5VQn/78DVDxF58AzZaIhsyVsCj7NB8vvvQTVlDi015PhHrORH7uzMsoaxIimbo3ySmfL+awwS19+P0nGNyQzSCyDYdYkv+pmljwFRUcfjLa0xc4LE+DdBRUecWIm79cMh5bTDhKJrVCVM6cGpaJh1XdGPnJb9cIUCUc8LOBw2ELjyiGxlAd0KsSnqzlwL7ZKrBmZxeMFuj2jBW609ugOrQDMBvBtuwE27U3XXHlWzydELyNseFH258inZXE3A9D6BDRZwpA1ecbwnmvAlC+0aMCUPL06A+AKrSkYVfR15KB9Yy8F9GaZvIG7EHaE0ARsWW/bMLCr34BASuHC2/8mCEID3X+tqUkx2H00H71HoOnDgIKUHsPncKEqbMQFRGKfj07Cma47bsP49S5Sxg7oj/eeNaezPFybv4EKIqrQMIFcXyKoBsbh8L3i9HzxV8lZVFaqiksixFbmax8OY6yCz0yTm0WKAMHDMxh3VJvAn10JrwTUQYtFQUGGo9LRixWD1fGITkESPqCFbEMEqjqLVDcsJPQl+/00CdxyRFSY4TgZ3NQlxoBqqZ9VPbLHmg3LEUodxZGOh6Z6pG4qL0NLcaxiLum9oSgl/MeJWMblbUG+8z5omEyoJAbGQe96SR4WgdTUDeYgntIzmUqAOWb1VUAyjd6VABKnh79AVDnKv7GyfJNkoG1DhmCZsHXyhuwDIDatuswiCFm128fC+48EgM15LpuCA12hle0bJYsxEo1RAsoQJEJ7Tt8Cgu/XoWDR8/CYDSheWoSxo0aiDtvHgy1+vI9weRYDH8CFHlmTMaLUFvSRHvBlmbGQcOtGNVtnJAV0zXu3r2uHLmRlG4hJVw8tWbMHTXGQJ208rg7nxMSbjoI7JGw39Fbe7yyOwqx1DVIYgZJuveUdZwIzYmkQaxQIX8ekMRAXbprOKJ0HyDIQ7kZQ9hQWNXJMAd1Aimm7Kl5U8qFKiuG7rnxoDixf29f0Bzoh3RD6ojqTyE2xEvZEH22vfgdSjm3qs0A/mo0Bi3U4TU+UgEo36yIAlC+0aMCUPL06A+AumQ8gMOlqyQD6xh2M5L10j9s5c0AqM4C9cOqzfj021+x+af5/z0XnrsSeZ6/7E/duY/Z3wClNp9BZO6HIPXwSLOawvD3pUmYFdcRx+LsP/SumcUHaCnMI6m+XRop3XLUtgAszCLZaLojkunhNe7t8zZgfL4FHTXnEUsXQUdbMDpIah1qqZqAIIhPqc0r5bHMrWwLedibETRGFhYgaulGMEVlAgFyei1Wxg3E2pymGNv1OwzvsFo8B0qHnJQPBctJTc0bgGIObIf201cl3aRp7oJ28oMIb3nlW6Cm5G3FiopzojmSOn27ksfV+l2mAFStKvJKQAEor9RUq5ACULWqSCTgD4CycAb8lf8BSBC5o5Eg8gExU6Gh63/YxhNAGYxmwYPVtmWq4K1yuPCu6hgoG8uitEycdLG67RAZHnLZA5W/AcquKw6Wizk49QON0oJEgLcD0sbuLFZfZw8KJhaiFDUwL5JGM5U0IKmIO44MbgNYmAR5PeLRlLkVakoaF+W6Pq8VG9FX/w3imOKqj12BzfFhI2YoYijnXx67LTymFHBwr6jncOF1WPwbNOezRFvhHB2HWZqxCNGW4omB89Ai7qR9bpQOpdH3whBqT/ZZU6sPQOU1uRPBMx4UdZ9rM+AvUyaKWDN66RPQWRNd2xAui+vnrKV4KHczTlrt6xbF6PB+9LUYHOS5/p/roBWA8s0SKgDlGz0qACVPj/4AKDIicvruomEvKth8BDMxSAnqLpzG80VzANQPn7yCCqMJaenZWPz9WpSUlmPZwpcRHhZcBVCfzfkfkuKdz9XrtUiIdZ7K88V4HH343YW37/Bp3DvFnr6gtqbUwuNQWOoS1eyisFPfMcg/KAYjlgZmTDLDooFQEmVVHIlycWsVZTAe+QlFwZmwhGmgCUpGZMwN0CO2tuUQrr9Zsh8jgzdIZN0zmqfSoxBBt62Sm1LIYQepo0L+h7J7/wj2vVPpvkt8fQkok9jFxPEUHtU9Ar7SJxmpL8C40cVIbpUEUN4VmfYGoIgLTz9zPGATu/DMU98G27Z71RwOWPJxa9ZamHgnBpIs4zMiu3mlu8tB6IK1TDiF10odARVVffoGBaB8v1oKQPlGpwpAydOjvwBK3qjkSbvmgSJpCWKjwzGwTxfcd8fwqoNm/4k8UPuPnIYj/9PdY29AmxbVl+EYeX0faDTe/VDKWw7fSQfGAgUceE8Fg9hgI0zqnfEWZMTx6KKx4fNoaR4O44/P4NRYMSwFG8PQInSSV0pZXLoR3YP21SirQhDaqB4GA+fzh+ZyKGSlrrB1cTRiGArxs78HU1wu6rcUekzXTRR9dv8EFk2beO9S8wagyAOYo7uh+n0p6Ixz4KPiYes3ArYhY0XPfjzvL6yqOC/6TEPROJVyj1C25YpsPIugS/9Am39MGL45ph0MyX0ByllOSbFA+WZlFYDyjR4VgJKnx6sBoOTN2H/SfrdAkTinnXuPYdHSNdi1/ziGDeyBB+4agQ6tm/pv1j58UqAAqjYL1OOh5/FASAvRTFU7NuAiuwZ5vRtJNNCWeRQaquZgYnLTilMH0bzZes8azE5CXFJjRFNdJH1VWaBc7gylgC0J9h/qsHV7ELL1oKjftaqu+FnVq+qziHAeU59goZJxtsBbgPJmS/S/tBJnbeIUEuQ+bwKxvek/EDJhJ35GyNm1okeXNx+O0ja3Vn2mAJRvVkYBKN/oUQEoeXpUAEqevuRI+x2gXAd35OR5LF62Fuv/3I0+17THI3ePQs+ul3fiTHflBgqgytMpHP6UAe/idTrcMx+HB6ejq+YshuhpNKFHVw1XOGn24j04MqUTyptIc2s1Mw1DaEjnWvfOocU22O76EIza6W5z2IPaWJ6ALijYYx8kBmpaISfUonO0aWE07g2udDKyHIL2n4b2jD1JprlFI5yOb4X9hxkUlVBIjOfRswdfbVmZ6gbuS4C6Gi1Q8ZtngDEWiNTHacOQff27CkDV+jbIE1AASp6+qpNWAEqeHhWAkqcvOdIBBSjHQP/acRCPPz9f+OfX7z+Pazq3ljOHgMr6G6BCi3+Brnw7GFsRzKomuFAwCqeKi8GkXgTbKBcZbAzCKAM6qfsimnYCkeOkWfrwZrg0orlIZ5SNQ9cfebATnhc+53grTFQBNHwYVJT4BEX6BhrpR/MQ9MgSQG2tSpkQwXVGqmZYjWuRzQK7zBwMPIXuGqCVmkLQ7uMI2XkcTGEpbHGRKBvYBST7uNxWXWyPLwHqaoiBctdr0tpJACfORk5ksoa+D14dDBvP4RxXisRgPUJNvivNIHd9rwZ5BaB8s4oKQMnTowJQ8vQlRzqgAEUSZn6+dI1QPDg5MRaP3DMKI2/oA+1lHvfkqmB/AhRJJhmR96HYWsCE4UijO/Cj0YDvygfCzNuTWHbW8JgXySCiMsO7A6BYvQonHu2C0ub2AoyM2YakFWngjkYj5NW3UKLZjhxuB0iqA9LCqBZowowBOAqlucAFM1CwhYb2ghmqVmdBhVcgISURjTskydl3gqzmfDZiFonL0kDFIGf6OLARNZ8GdDzM0+myj4K7Y2ApBy42EUkp8XBfI8pkBJWTDj4qDnyovEz3l9spPCNnw2lrMRKYIMSp5B8Xjtk5G5qCU6K1s0S2QH7f57DZcAnTCv5GIWs/qdlaHYHP4wajmTpM9lorNwAKQPlmFygAJU+PCkDJ05cc6YAA1KFjZ4UYqM3b96NVs2RMmjAaQ67rDhXjDFyVM4lAyvoToMLzPkVQ+TbJdDPjZ2JAaWsY3GKrJwbTmBJmd5EJLryXJ4LUwSPNHKGFLVSDdRUPYIfm5qrsm0277ke34eKYmOj8EbjweWdQZfa+ciN4bBptxfRwGqkJAC0jJsl18KGb9oH8r3tLGzEImmvFVrLq1vixvL+w2iWw+43Ne/HY3pNgOLsy1NfegJK7n626XbX2O2h+WwKw9pN0bKc+MD/0IqD2nD09kHurtmd/VnIU7xTvqzoVeK0uEUvir4fWJQC8tj7UJWmI2vtxlRuP1UejsOujsEY2Q69LP+GSrULUxdjgZlgQ27+2bpXrHjSgAJRvtoUCUPL0qACUPH3JkfY7QB08dhbjH39DGCM5hTeob/VZSnt0bXPZQ9XlAFAHYp/HTWXS2LFuWgqfuSTRZI79C9Vv34BJOwFwLM6qu+LjGLvr1LX1u+MHJDQ/W/URv/8aGJYPFckcasai5E4WM8LrfvqsOoBakzIY3SZ5Vz/J9Ue+R0Y+/vhWGuBufvRVsF2VMvnXAAAgAElEQVT6gcrNhP7V++xJslya4e4nsbZbR6TZStFaFYH++iSvj/jLedl8KZvFGtAz/UdJSZ1Xo3ri4bB28h7F81BVZAv32IITBJgmlraul36U9NNcFY6tyWPk9a9ICxpQAMo3G0EBKHl6VABKnr7kSPsdoJQ8ULUvj1ZNIzpMC5NVnAeqOhfewaR5GJkntaDcoKfwVoQUcKjiAmh++Rx/n07Er1ppvcG2121Du+ucli7Lputg3XydaOCFYTyWP2rBVzGerYZFHI8fDcBxC4c4hsJwPYWuJGumS+NPZqPR12IXng0M3o65Aw9M984d5Vrj7bE9JzBr816Jgq033QvryAlQ7dkCzeJZkuvLu7bDw0O7Vn3eTRuDXxJvgocsWrUvnl8keGwpWIt7ynIlTxsX0gLvxdS/9hQLHk3TloD817X10SVgeULD1JXyi+oC+BAFoHyjfAWg5OlRASh5+pIj7XeAslisKCgu82qM8TGRoCtjeLy6IQBC/rRAkem5BpFbdU1QFnEbLLo2uC+fxRFxHkh8EEWjr1aahdyhpv0HKKxcLQWgrjeuQ7Nudtcaz1EwfvAQ+Dxx7qhLMTx2PWiVlIkh9xDn2J15HM7bxD++i6MZdHLhPI4Dtrx2CoNsRxDHlyKDisLvqq7IS2mCRx50z1nueXGXlJ3E8wU7hIu3HkvD579ulwhabntMyOlEnzoA3fxnJNff6dcRb1/bSfT50vgbMFAvTfcQgC0meWRQ2SYcz1+BvhQp/CtuD4ek4NWYwT4Zprt7lHT6VnQfTAi9cg55+EQRPupEASjfKPJKByhyMGN5+VmhogFpA3RJuC2keYNZvRWA8s2+89SL3wGq4aYSmJ79DVDVzbKEA342cDhs4RHF0BiqA3rVAE+kn4oK4L0FKphdEoBrNTzGP7EdfHAG+KJw5C3tDC4jUfLY1f1YDLqBwzC9FNAOWYAHCqQAdFcwhafDxBaxX9fQ2LPP/tl1LTdjcOt1SIzIBqdLRnnEaJiCrqlxYQmi/VaRhg2GdPDGcixY8Bn05S4JOVVqGF/9Enx0PGC1QP/q/aAKnZYbjqbR7/7hOBEjDiZ/PrIbJoeLoSowO0z61JjMV0Cbz6Ez1QvHIA62Xx+Rgg4RvgEoEqC+tPwUdplzEKnRoL+qEW4KbiLNbn+5KOYyH4cCUL5ZoCsdoGYV7cVHJYdFyngivCNmRjqrHvhGU/ZeFIDypTbFfSkAVU/dXi4AVddpFORT2L2fQn4+hZgYHj278oiOsVuOMrfRSFtDCyFDNgYgbrvSYKAoxYIeN+ajh04PDaQnsn418HiNEJ1b66OlsMCtsLGNBfbtp2HKPYU72roV9KVUyE2eA1blucxMBQ98WMphq5mHjbVhJJuFu1gjEvf+DTorDXxsEiKGjcX58kSogihoI3kQ96X6r1VAxjkgMg7rurTHvfp0yVj9bYGiSgqgWfk56ON2FyTXtjssYx4CHx6NoLItCC7dAMaWDZs6GSrLJVC8BXlQYyEaYy8Vika8GXcjC62TX4BNLf9EZE37R0mkWde3S3yfAlC+0eOVDlCeDmd4W9i7Lhq8GgDKtZSLqw4+eedpFJeUYf6in7D5J2k8b130JeceBaBctEUKHdMULctteKUDVE2bxZRPYd8csYuP6XQM+tvWgWeqL0JcwPK4MZdzi54BpofRGF+ZOJPUvVMVlMIWHQZep0FI8QqEFq2QDKck5hEYQqWnvoo5YH4pjy3GCjxQuAWT0/9AGGsU7reGpaKgx2TkHo/C+VUMrPaPEdyIR9v7WGgqme+SrRy5rBGT87eC5JFyNh53h7TC7Jh+ct6leslqvngTqn//FPVh6zEY/N3jEJPpBpaCDYgAqtj6ZwruiaK4qUKQvHtQeH0GpwBUfbTnvFcBKN/o8UoHqGYXlsDMi//A1FI0zqVO8I2C3HrxK0ARbwYp1kCKWvjwYLOjmPCSD2aKZhcfG4VN2/Zi9sJl2PbLggbRX02dKgBVqR2jyYI7Hn21KheVQ2mbtu3D1Jc+kOhw3x+LhHxVVzNAkUmnb6RxaTMNoX6uyobgF94HNOICx7F0dyTRQ0Q6WlrOY2E5B1I/mLQeGgrvRdEgXsWIlX8jaM+JKvmKXm3BDsjxCqDIMF4p4rDOxOMl6/d42LYOqlMagBXDREXj/vjj5wcQXHEcEbYjsFJhKFD1RHT/cAQPL8fE3E04ZLFn4A6mVajgSAAZJRQ7Fv4PReHb+OsxSJ/sl5dSP/0WUEZxygA+LBLM8/cgtEh6Go5jIkGzRcLYeFqLsvCbURExCuqi84ja/6k4LUH3x2ANb1LneSgAVWfViW5UAMo3erzSAeq27HXYYbKfenW0Hto4/JI4wjcKChRAkXNHR10eTg4D+yjjiQOgPEFSTdcaRKEunSoABWDuJz/gy+/tuY/eeeFRIZmno23cthfPz1qE5YteE61FSqM4UBR11QMUmTRnBgx5FPiobJzTfC3ZkyFUYzRn7pJ8buSBNCuPWAZCwWDStKfSEf2VNNVA8UPtEU59JO7DgwtvvZHHC8UcOvHnsNb8GmABqDM6ybPNusY4saoRUq0/VF2zIQgnms7F1w8V4vPS49J3i/gqKSeITY/ogqcjqk+z4cuX0xNAISQI6hm3gASNuzdimTPr2oDiTbCpG1UV/43d/ibUxeKCx5boVsjv7cyFJXfcCkDJ1ZhneQWgfKPHKx2gDloK8Eju5qoca8R9tzB2ILprPYcq1FdrfrFAkXj41R5GOhKAD/4GJZD0+vwlmPqgs8B7SqN4DOjTGQpA1XeH1PP+4pJymCwWIT/V9EdulwDUa/O+qtY8eLVboIhqS7kzKMZp2PhylHLnBUONq72HZCtvyjg3dnXLocorQeSyTVBnF1bmYnJ2VHJTb/Cd8kSxPp6CyOeVclhWweNedjPetn4NsDyok3rJI3ML2kL9zwZQlDiYvTB6EMY90Qn7zPm17hp/njjz5MJTt9MhaCSxhROzmIvGq4sN4zkkrX1UkueKV+mRNazu5m0FoGrdKl4JKADllZpqFbrSAUr4oxQ8SBUF0khmf7oBj2b4BaD2A9jlYelILXhnhpha17Y6AUcM1ECXvJFdO7TEQ+Nv+m8D1MWMHOzcewyXsvIkunts4i3Q63zoSK1l+Ybd9QymPDBWAlDTXlqAm4f1g1arEer0DRvYoyrBZ1ZhZYBNnbeG9EaSByoqVAszyQNVJnaX+fAxtXZ11GLBBXY9klTHq+KZPCVFSGVGIZJuW2N/dLkRcXN/BGV2ybXgyHJAAUV3DoKpc+3Zx78s4/BhGY+b2Z1YaP1YeCZ1UQOUi0/3Hdh/M5pkSF2v1ujmuHfaOKyvkAaOu4KKGhT2pdyOaEYKZ7Uqrg4CJIhcvfJzMEe2guKtUDfRQjcgBFQIiUGjYNM0AmPLFYLIK8jpxGDPpxPjN0wHbbZ/MTsayS6eO+Qdj6My8YUo4A7CjEJoESXUT9RRUSJZAlDhQWrklwZuL9ZBpZfdLQJA0RRKDG75Ri67kV7eA4oI1sBsY2E0e5fq5PKeTcOPLjHKD99hJwFs8TCXQaQGVP3nqLjwPOhwxe9b8dLsxcKV+NhIqFXimiDEbRYa4l1CxfovEeAJoA6fOI/1f+5GeGgwMnMK8OPqLRg/ZghemHav8Ei3pNa+GIYdCipJpb79c7lZMH33MWxH9gIqNdRde0N39+OgQmquZ3bKzGF13jfooEnzOKdYbQto6BDEa9oiTtuq9nn/cxzUko1SOTJBjRr8rPuA0Npf9EtWHtedroCGM+Afy7OI5ssEKxSKVaAqGJg0vXFgZ19kZbbGwLJREguUuu8QrL73XoxP2+A2FrGVZ3pcZ8xN7lv7vHwtcWw6YLwg7bXtXCCoaa1Po/Z/Dxz5VSzXYRT4rndK7rVwBmwt+AA23glGKkqL/tFToaHF7x3Zj/Xdi7UO/r8gQN5rt5JL/4Vp+3KOyl6Up02XqAR5N8qRJnaE78gJHpeb1ADGA6j9a73WJykA5UFFBFiapSbhgzemQK2uY0G1WlXvvYAngHK/2wF9Bzd9IVihLncXnu71B0FnXRSmYdOrcHFkcxRdkwI2SAcSu5RID4SWshcWdm2LK8rRXbtQ8rkDM1ow9yCY8v64fNi6PQjZetAjQFX0aIuSsd5nzz5j4/GLgYfJmofbrZvRBRlQqeNQygzCrnebQqh9SwEtTZ8g1eKMgeK1QTA/ORtck9bYaEjHb4YLKGbNOG0rwflKczoZYCIThPVJo3xufXKU0qEzzoGPioet3wghwadrI8WiScZ5caORnfoZeFoa6yVdIBZBl/6BNv+YcMkc0w4GAoIe6uMVcoeRzonrHpJ7GjFDEUM5Y78UF5733yE1SSouPN/o8Wpw4flGE9714hcXHhkKOX1HgsiLAZC0eu0rT+N5N8wapbwBKPcTeglx0Q3uwQpoEPmYB17EkGu7Y/IDl0dtLW8Aatuuw5g0Yx72rv8MOq0m4ADFgYWZzwNDBUODUNEmZNKOQ/vOlKr4mbQxrZA1OFUkE0Q1QkvmbsnmnV92AYP1TvhwFWCgRXvVFFDwvg6e5lwWYj7/zQNAAfkP3wRLM2myTrnvXeFRGieWVI6pkvTCWPspvKDmoYie2B3kZJt7I/EIfxuzcMxaiEZMCK7XJ0Nf1wrJ1QzavZizQ8w8eRbY9s6M4mrzOURnzRKCwx2tPHwEyqLIn3K+bdncduRw0szt7qcqFYDyjd4VgPKNHhWAkqdHvwGUvGHJkq4NoJ6b9Zmkv28WvIBuHVvKeo5c4YAC1IeLV2LT33vx06LXAlo0mOR/4jkeIyc8j0kTRmPk9X2qLGLfrdyE1s0bo12rJigpK8czr38CtYrB4vkzBF0H0gJFLAinCvfAbGIQGpuPMFUCmjBjoILd/aLauByanz+pAqiDM3rDkCyGLGKq6aCaCgJFru1XA4sY9YcIosRxLxQYNKZH1Brz5Gkjhq/ajuBdlaffKt0YFb3bouTm6vMtXbIBBp5HMzWF2myUrgAl8BNv95bEdeXQ8i5pYk+5LwtJyXDOxiOSppDguQRgtV0yB7ZD+6l7PifANngMLOMeF91HsyXQGQ+CYitg0bWCVVt7bJjcuRD5cv4izrLfS25tytyGMMpZzFkBqLpoV3qPAlC+0aMCUPL0eDUAlLwZ+086oABFci/1HzNVCMyOiSKnjcRt5tR7GtwER544/dWFQpyTa1uz5C00TUnEu5/+iC+W/V51qVO75pjz0iQkJ9qPnAYKoIpLrPjyx1IUZcUL41DrTOh24+/o1iESibS98K9q0wpoflpYFVBVHUB1ZKaBpsTB+iQ886Oyo7hGtwnBlN0aYuSi0VU9Dlqq5vipmrYvSaCpzrTnX7ImRQtJND21CzbgmSJOABbSQikKN+gotNfw6KWlPQKMtRzYN1sF1i3Wud1DLCJa1i/wZLWBx5xSDiQ1A2mdNcC8SBoRXtZqlANQ/nv9gUvsHyjgD1Q9MprqjGRmmGgICkD5ZkUUgPKNHuUCVBFnxmbjJRTYTOimi8U12jjfDOQK6UUBqIZbqIACFAETAihBeh1Sk+PB0GKX0BfvPouQYB9EoNVTfyazBXkFxQgNDkJEuLj2WKAAauVaI/bvEVuTNHoj7pj2C1qntQRz4bQQ9ateuagqOWTamNbIGuKdC8+hskLOhiy2AI0ZPcLouoOT3CV4qYjDWpMYehzxV2oKeD+KRk+NWybuQgpZf1MoOk7DUgahdEurQSoEd6vf6TEDB9yYy8LgxmATg2lMCau+WLPrnO0uvAmgTOJTm+4uPLl6cpUntev+NGUizVaK1qoIDAxq5NXxaBZmmFEELSIllkgBzlU0IoLVyCupnx7rM7er4V45AKXJo6EppMHqeZgSWfAkIFdpggbkAFSatQwjsn5FCecs+Dk+tBXmRAfggEiA1k8BqIZTfEABavTEmWjRtBHmvfK4kJTySmyBAqhPvgAyM6ROramxM5FyaIdTlWoNYLH/8JU2Cce5u9rBHBcEnlEhhGmCRvT1HoPIS05TyDtIw1rOIzQFSOjNQeW/A5G4NZfFBQ+nlB0Q5V5Xj7jvTn5Lo6pCAgU0G82h2yhtva2EJ6087s6XugC7aSl85lbbr7o9rDEdRdiO/4P572KweTbQ4Qz4Xn1QMfIVn2z7Ms6CoZmrcdHmLKRMEvOtTBwBpp45ZhSA8skSwVuAitypgT7d6SPmNEDe9SawwfWzovpmFoHvRQ5AvVq4G4tK7QcqXNuBxncg1k8pSgKtMQWgGm4FAgpQdzz6Gvr17ICpD97acDNs4J4DBVBLljI4c1YKnW9kj4Ked/6ICtPneeTEpeDczLaAyvklTGKl2qgellgdik5SOL5YHOSjDrXXktPH8kjsxUMX692XOVNUhuCdx6HOLRLq3lVc0xq2BHGeIU9LdF8+iyNu6XJc0kYhiqHwR5zTYnnoIwblF8X6IGO+eX79y+1kssDoXCnN3aCn8FaEd4H0UdmzoTUeEk2VlGDJTl0EyAjGr247f1N2Es8VuIBzpaAviiIrAOWbLxFvAEpVRiFunfS0ZXkbG0o7Kvmj5Fqg7s7ZgD+NGZIF9GeZJt/snrr3ogBU3XVX250BBaglP63H96s245fF/weN5sq0UfsboIx5FC6spXD8HI39br/dzWOy8Nhh6WmtsuBQbJt8MyKTcyQJMVPpUYhwS4J58jsGBQc9WAQrzT+MFuj2rA1qsTdT2GuMNRthhcugNZ0AR2lBHw8B/U8KYK20lqkY5Dw1Dmykh5tddutyA4+3S8RWH9dMTe4WqF2vqOzpC9xat7lm6FiZEd8e3hpPQPdBFI2+pLifFy0u/UkwNmn289zG88Gq6l/C4ZXCXR7L07wa1RMPh5GiVHVvCkDVXXeud3oDULoMBlH/SOMCTUksCvs53VC+GdGV2YtigZK3bgpAydOXHOmAAtTCr1fhoy9XgqRkj4p0Px0GvD3zESE+6nJu/gaowwsZlF2w/2hfZIAMBgiJ4tG+F4+eSecQ8c7DEnXtnjAcbA+b6HMHjMTT/ZBAi0/B7XiXAZ8jBQNXgGk2hhPceu4tOvNVaMxnxB8fSAG1x3mqi5RtqejXocZlJc/aZOKx1cTjpA04Y7Xbn8ioPMVAebJAFekN+GXa31gUObjeW4iw3M8GDoctPKIYGkN1QK8a4Elf/jcKSjZipjUYf1DRQvA50VYT3oQJyMKLOC8UAa7OAqUpOImw06ugLr4AVhcJY6NeKGs5qtp5OCxQNHg0UtutZRlWBt/ED8VAfaN6zV8BqHqpr+pmB0BZD3MIOaMGU0HBFsahrI0Npkb2NVMsULXrWg5AKTFQgAJQte+pukoEFKA+XrIKh46dq3bs8155TAEol/IZ5HQZsbQQlvhbD5gdFigeaJLC44H7WWgXvQ5mHymLbW98SDi2vzwEjL5MAlDkg1aqCQhCQtW1Ch6YvwIYvNstvoqkBKjMokzC1RKv5dB0lBigKK4CCRcela5nQTCoFc5cR4YebVA8pubEmZQN0BQZwOvzYA2Kx0lWi70WIIiSnsIr5Sw4fdgCw/fhYDg7+HEUjy/77cA/nU/jSMr4escByXnBVJZLiM14DiOpLvgdMR5v/YE/hBsjB6A84mbJdcpmRMKmZ0H+69oKu02CKdFzCRcSA/VQ3k94MDwL8Sr7uhSxanTX3I5QSgEoOevXULIEoEhguP43N4soDeQMN4ENsv+RoMRA1bwCcgBKeA+UU3gNtaX/8/0GFKBy8opgtlhAqipfqc1vFiiehabkIDJ/z8Gh8kRszekCllOJaszeeRuL9m050KcPCqfw+IgYsB164hD9DThGXB+NfFUzRT3QMZYUK3K234083sni8fBqFZpl2QnNkVOJmH8cVqj2D7EId0sN4C1AFd5zA0ztxKcBHSMglhrzfgbtzqkriQ1A1N8o63oRZVHShKvPF+wAsb4I+Z5KQ9EpPQkqjsGR5ExciixGCK3CsZS7ZQHUQQtwxMIjkoHgovMyzKlKicEl6xBcuBSR1ACUS7JX2TU4MSgRs+LE6QIcHWgKTiBm51zJK2FI6Y/ijhOqfVVO276DAZdE14OpRmjhIVGqnPdNsUDJ0Vb1sgSggg4zUB+Qxs0V9bLAmOKMs1NO4VWvR7kA5ZvVu3J7USxQDbd2AQWo6a9+hMLiMnz13nMNN8MG7tk/AMUhNuNFqCz2kiykZRQn4/9+ews2Ti3UKCN2ly6deYy9RRrs7J7rh9xfkdcUfRPHibTzh5HHi8Wc4GqKL6TxwhICMVV5OO0wxQOJvTk0G+s5MWVtLjxj5+YoukMMbY5BlPPA6+d5fLtXetyPbz4XuR1vA6t2wvY/pmyMy17nYYWdgx4RniLLhfd/JaRMjHNuoRSwJIZB49qyeLqMwgFQ0eiPUso9ts8+tntDWuHtGM9HqesKUEds75O89CJ9kASpHVTT6vUWKABVL/U5wVoGQPnmiVdnLwpAyVvXqw2geJ5HfmEJtFoNwvxYK9eT1gMKULM/WobdB06AFA2+Ups/AEpn2IvInPkSFX22dRr2XOhT9fmAATyGDGAFymH2b4OKpDMwG2Fu1x7pvYNRSqWB5TgEUylIUQ+EGuK8TuPzOZyy8mh/jsY1xxl0O2X/S1lwilWGROU057D7dht6a4CbgmiJfUUURE5rYQrqhvLgMWDyLbBFhYIPqj6m7WcDj0snGLxzVpwVXRhEwkoUdQ2HMcQ5X3I8mRxTdm8hlAoaWoV+ugR82Ow6qMq8CyIvYHkMy5WC4fhgCtPDvDttR8bicOHdRHXB2mpceJ/EDsSo4CYet3344SUIvrhVcq0mFx4RPmb7BFaILY1kjdupJtXr9VIAql7qEwGUNy483zzt6u1FASh5a3u1ABSBprmf/ABS1sXRoiJCcetNAzDtoVurUiGdv5glVBUhya7XL5sjT1kypQMKUMdPX8BtD7+CX5e8hWYp9a+FJnPuPhH3B0CFFK9GaNGPkvGuPTIaK/bbT90Ry9Bz/7MhOBhQbV0DzbL3RfK2awbA8uCLNc55YDaLVido3LfWzWriYoX6argV+1rbIUNOIklvlD2rhIMhncHi41LI4ht/icJObWEO6lzV1Y/lp/FUvrSW21vRfTAhtLUgR748vF2jf8w8phZKAcr9xJ83c1GXbcP0wv34lieHIyqDx4SFojAqpAkIQEkaa0HI+Y0IO7mi0nHqkKBgCU9F/rUv1fjoLO4v5HK7RDJxdC8k0gO8GXK1MgpA1Ut9IoBSMRRqCiL3zZOu7l4UgJK3vn4FKNYAmDMBbRLA+C5xYIXBhFETn0eT5AQ8N+VuNEtNRFm5AX/vOoz5i37Chu/ngWHsf+SSw2mr1v2NS1l5+P6TV9CxTVN5CpMhHVCAWrR0Dd5btFwgxdYtGkuGrZzC41BYaoY3FqimTXjcP8HuvtPNfxr0KXHOIdA0DAt+B+jqrTHEAjXkRxXaXpBaWw614bCjFYujzZyAQerBrYljoD94BiF/H4Eqr1jI9cQF66DKKwFtscHcNAElN/YEGyMt1eO+4MQCtaCAw+69ekRYXcZJWWHr/DJyWzwPuLjEClgj+l1agTLemR8nlFJje/JYRFcmyZMDUL6yQJF5zSrai49KyBpITzM+Ed4RMyO7S/Z75P5Poc/c4/a5nV6tEU2R1++FGl9tHhyKuCMoQ5ogF4omiKQ7yCr67OkBCkDJ+EatQdSbNAa+edLV3YsCUPLW118AxV/4DMhb7xxc7FBQqR4OFckbfhUULVu5UbAouZ/MJyXh9JUlwYh778bxzwo1bVet3462LVMx44m76vBE724JKEApp/A8L5JWTSM6TAuT1Q5Q5AC8ewxUZnEjvPHb21UxUFERPJ6aZgco/YzbQZUWSTo3vfIFuIQUjw+1lFLY8SsF5hAtpHUUzgOR2KrK3/9377AgLVGcPJNUUtlNlyLu/RV2E1g1zdI4DvmPja5+R7JWhJ1cCW32XpgtBhzUdUMFPQLtzBRUumyENslGWVIPcEykpI9z1hJ8U34KZ62laK4OE2KLmqmdsOYNQGWyFSiwGdFKE4k5pbTXMVB0TjrUKz8Hc/owOK0OXKc+sN7yIHhdELqk/4A88teYB4D6OHYARgc7/yoKPr9BcNmpyrPsSheYyQFedoCqSBmAko73evdW+1hKAaiaFUpZgPDDGugyacHCaI5jUdrJWnWqznG3AlC+2ZgKQMnTo18AquwI+JPSqgpUq1eAsE7yBuxB+pFn5qJZahKemyzNc+gqfvDYWYx//A38s/ojbNy2F29/+B12rPkIKsa7MA65Aw0oQMkd7OUo7617SM7YpQBFGMqKqENzoTOdBIkT5spVWJd9E37OsAeCqxng5RfsuZ40X8+BaucfokfyEdEwvvV9tcM49D6DskxK9HMvBKdTgEoHfPaEGQfc4tNJKZNvT59ExCqpG839QVkv3Qte7yG2CUDIuXUIO75cdEuRPg4b+/wf+ugrgY4FDLkAo6Ggi/YuCzrpsCaAKmRNeCB3M/aYc4VnB1MqvBHdC200Lb06had763HQF0+Lxm278S7kjbob7S4u86jrNupI/J40ElrK/kJr844gevd7NWwPHrwqCHn9noctJEnONvKZrAJQ1auSpNuI2K2BniRkc2nmBA4F14kD+q9mgGLB44y1GGowaKoOq2fxoJq3rgJQ8l5tvwBU1grwGUslA6Ma3Q0kjpU3YA/Sw+56BrePHoQH7xohXF3/527sPXSqSvK5yXeDpinM+mApsvMK8MEbU1FcUo5+N0/GZ3P+h349as47WNcBKgBVV81V3ucvgNJn7Ebkgc8ko339+Ku4aGiCli153HsXC9pIQZWdD/qbF0Fn2RNaklxQlnufBtvJGYDt2pG1Atj9mspp9HBcrOSUkMYc8CiHmcUssishirjvZkcyuGbfcReAcj2yJz6+5w5Q5OpFG2ADjx773ocu74hkbnoj9gYAACAASURBVDmD3gYbFIOiExRO/8jAVmEXCYoHWt/LCmVlams1AZTdzXZY1EUIpca+xrcjmK4lM76hDEFPS78YuCZtYJqxAMMzf8UhS4HdMlcZhd9WE4nfE0dBQzldpOHHliH4/CbpNCrp1RLZHIXXTAankSaarW3uvrr+nwAoDlCVUuBVABtS+74iug09qkLoCTVA3gl3Ty0FZN5qFH1+tQLUTlM2Hs/7CzmsPW8ZAajPYgeinab2kk112aMKQMnTml8AKn8L+LQPpQDVZDIQ4/nUtZxZTJoxD42T4vDCNLsVftO2fThw9AwysvMFmDq46QvwHI++oycL8dTtWtsP6KzZsANDrusmJOVuiBZQgLJYrELA145/j6Ksgrg7xO2HT15BaICPKdamdH8BVHU/tIvTHsJxWz+MJzmgTmmhya/M3cQApS3yYIjKAZ/YBKjBhFlyjsLRTz2YOCu9SbooHt2fY4X0Bhdt9h+XFBUluPpUuUVOF547PxFBCnB34ZGTfjOKOaRXJkf/6cwH6Fd61ANAzQIbFIe9bzMwF4l/oaI782g93kO1YbdeagKo27LXYYcpW/LcP5JGob0musalzy7PxT9LXkaFRoW+l3LQMadYkHcA1F5zHh7P+xOXKqkvWRWMz+IGo7NbvzUBlC20EQq6PwE2JB4kvqmMP48KPh0srNBS0QhDU4+FoGvbs3KvX+0ApctiELFHA7rSYGQL41FwrbnG4r1MOYX4tZWHHdxSfQj6/Q8B1A2Zq3HMUijaVkOCGmNJ3BC5W80reQWgvFJTlZBfAMpWCv7Q4wDnkvyX1oPqtBBQiU97yxu9XfrDxSvx9U/rsfHHeQgPDa7qglihJkydJQDU9t1H8Pjz8/HEfbdUXb+YmSuc2tuz9pMGScodUIAiMVBEMTf0vwYbtv4rmOiCg3T4YdUWpCbH45sFL1QFh9VF6f64x18AFXL2d4SdIKezxG3L0SlIfbALYnNUwl/EokYDWaON4GsxphhzKeyf5xmgyA9BUCLQ5UlxKRjX55Ag8oiV20FZ3Iqd0hRMbVIkQeRTCjnsMDv/yp+Z8zMmZ4hdjtBwKO45EenpA3HyGzI2HjxPVVnJtJF2qKut1QRQj+X9hdUV5yVd7Ey+DY1V1dfq+9uUhYk5G2Hinc9/aesBTN9xFMSFZ7n5ATtMgcc5qz2tQDN1GGgPjg1PLjxepUVe72dhC7cnG+XB4zT7NYy83dVo/4z8RtNozAxHFNW+NjXU6/rVDlAJa3SC5da1meMqXXDVZK/QX2QQuauyZp0HgLpSXXjnraXYZiKxeMC1ugRRPKGnTVTBWdH24ncgLjzXFsvocaDxHfXad9XdrACUPLX6BaDIkEyZ4PP+AEwZgK4RqNihgM43YQel5QbcdM8MJMXH4MWnJqB1s2RYrDYhUHzWB98KADVz1iLQDC2yNhmMJvQYPglzXnoMI4b0kqc4L6QDClB3PPoaenVri0kTbkaP4Y9i7dJ3hKzkP635Ex98/jO2/PxegwV/eaEbr0T8BVCMsQBxm18ABSfImC2h+OPwbHR/WY2o7SSIVQpB+QPNsMR6TnpJJlhymkLeQRoFhwHW8SNS+VviiIFKuZFD8qDq+yD9JL6+BJRJXOyU12mQ9bI0czZJl0CSZjrak5aVeDZzDVBGAywhNhZ8nA0Xc2/Ent/vc0JD5T0kLiu0MY+Ok+sHUFuMl3BPzkbROnfTxuLXxJtEn9FnjkC1ayOo4nxwqa1wR9cYbLE6YYYIB1ttOLvPCO5mexC5nGYPIt8GxlQAa2iyUPPOHOv02ZfwZ5DGSuGZPEOLaLRRPSjncbJlr2aAoo1Awhq9R53YwnnkDjEBHv620GbTiN7mFtNHLLYqgBT+vRKDyMkfE1PytgpuddIIO86PuQ63hTSvcc8QgCLllFwbcd9tSKrh4IjsXei8QQEoecrzG0DJG5ZsaZKW4N1Pf8T6P50nleNjIzF2eH/cf+eN6DniMSx86ykM6ONMdUMe8uwbn6CswoiP335K9jNruyGgADV43FN4fOItuG3kALQfeB++ePdZ9O7WDhczcjD87hlCgk1yDPFybv4CKKKD3F8zEZy5DaFBOSipSMbZzEEwmGPR/mEOqYUqBF2QftPn3miCLdRzTEfRSQrHF4vvYXRAUBwPEqajiQAi23CI7eKI46l+JeJnfw+muFwkwEaEIOfZO4XPLDyw2shjj5kXrE8VHNC5gsaj2RbcYjwLKigNfOxaUgCvsg8ex/4dh+P/3iZ+aOVf+9UVM3YfYW2n8LYZM7HKcB75NiO66eKE/FERtPOHkT53HLo5U0XddnriVqSHSHNV1Wa5qus+zuV2IouTJta0/8gx6Kh6uq5de3Xf1QxQlBVIXKWvPHbqoo7KfeZeYqVKggXi1+nAGFwsVxSQO9QE4gL01C73GKihmatx1M0Vl6QKxp5kccUC97k9l/+PcBLWtT0f2Q2Tw+t/+sqTHhWA8uq1rRK6WgDKMSGW5ZBbUIyQIF3AQ3wCClAkiebga7vh8Yk346H/zUFqo3i89NQEISaK/HvFF2+gdXNpfih526dhpf0JUIcWMCi/JM0rFNL9Err3j0PsNqdvWICWKA75Q8QngVy1QQKz8/ZK++v6NAt9XO2BtEx+CcLX7Yb2fDbAcaDMFtER/PL+nVF6o72IMEmSucLg7LOlgcbm/UFgXB+jyQPfYTJA24Tj4H/8OBtlReL110UBKcM5xHTkPGUIkCy2A6DWmnh8V2pEmo1CCz4LD2E7hgXpUB4xFqg8Eedpp2g/fB7M0X9Fl8aNG4iNzcQFeoNoFU7IrLnn2mm6rRxvFv2L7aZsaEBhcFBjIVdUJK2FYoFq2HfYvXiv8LRKgCprb0NZOzfXdOVwiNsv5KwKqmIabBAHQ1MW1sjqLbX+BKgMWwXeKNrjcT9Vp01PliQiuyh2IEZUkzVf+J7hOXxffhrbTZnCKbzBQY1wS3Azjy5rX6ykAlDytHi1AZS82TesdEABipjW0rPysGzhS0Kg13OzPkPz1CScvZCJVs2SsXLx/zXs7H3Quz8B6sgnDAzpRoTocpBjjofVFoRgHlB3PIaU8TlIzRsAfboKtAmwRHOoaG4DXxmm4WmqRz5lUHpOClBtJnCIal+zy470F7NwFTTpxJVFVcGMLTYC1sQomFs0gqFrS6AyOyxx26n4cqRyuThDJ2La+XBMzpAOjm/9MjnehGJqODZ9PFEy7NThHBoNrH1sjhvJl8f2HAPuyLPX+HM0Ghw2ml9EQtQwGMIGe9wJdGYadG88LLm2NTUed95xA4yUk/5mRHbDVPe/uHkeqgp7kLotOMElt5P0cbdnr0ea7RIeCC9HB60FJo5CMRePMUF3gIZaiYGS8a4StxzJy6TNsVtXzfEsSjpawHn21JGjoIjYp/Fowa3WAiVjPA5RfwLUhNyN2GQQF5a+N7Q13o72fBKXjHFQxkqcspZIZkZylpHcZZdLUwBK3kooACVPX3KkAwpQ5RVGmC1WREfao/R//m0r/vxnP9q2aoJbR/QH8W9e7s2fAKXesBSx5i0CrJD4pK35A7E87T70HLQZKddeQEtGXqLF9A000jeKo2SJMabHSzaoqvuxqVyQkD8PImz9HhcrUGXG7MRo5E0ZI1q2fJbH6YyFGMvuED5nQYM9MxPa4q6S5eWbfAjEbEFe8mwc/LqxEKPlaJowHp2nsVBXH98t6Y98eUw9Z8BylwLBDqFXbd/hHl0JimMne9xmqk0rUPrbF0gPD0WrghIhzkloNI3z/7cYW1QGVPA29NbFSU7tqYvOIWr/pyCxa8Kc9dEo7P4YrOHS+neOQNx34grRTiO2dsTRvZFI91dO4cn4IvBkUTKmsCAwVG1jgbhNOqhKnPutphgoGcOpEvUXQJGA7rYXlgp707WRk6C7anDHzSnej/eKDoiTuPIU2mkbLp6pLnpUAEqe1hSAkqcvOdIBBSjXgZJ07CoVA7WqYTKGylGKHFl/AZQm7yhidr9bOTRHbTUK8049g7zIUAy/dxPaF08U0hiwOh7mBBac57yVVdOzGYHjXzEoS7P/aNAaoOlIFvG9anbfMXnFiJ+/3CX7uNMCZfUAUDrDv4jMcUsWmTsU1EX3NP8c+E7TUB7XG2WRYwU3SvEZCoYsCpoIHpFteDA1WNQ8rVtIlB7tjpaLrE81ARSxOtGnDsKsYvBwaD7WVyY1V7Mcntt+CNP/OQpb9wGwPFxzXcHY7W9CXSw+4WeJ/n/2zgM8iqKN4/+9ml5II/QiVZoFEVBEuoggCFhQVBRBRUVEQRDFBp+ioIJdQVBBwEaTJl0RUJAmvbeQ3q/f7ffMXu5yLXe3ub1Le/d5vueT3OzszG82yS8z77zTHFk3vyQ8nu3Q26q5jOOmPDRQRGN8xiYsrZflFq8cxiWjhbw0kF7MuylV2aoWA1V7VbgwC+t4sZ2oaXc7bLH2BMcChKXLoSjkhLhBXYrZGkkt0RWIQLHvSJZy45A+C7XlkcIyWTT7hvVwMYG69vxipyOOWDFfAsVEnmXQ19jFy/pHUVlHD0mERXQ1JFDikJFAieMlpnSFCpTJbMYX360GO+MmJ69Q2H54V58uYEmzVCqlkE20sl+hECjOpEXK5smQsYyX9ssqOSwT+e+5vTG9dwZSTjcp/VQBZPYsO6DVkas+n4OpkEd4bUDmkgnBlb+sSIuUOcvBaR3+mrdv4+ZRcFsHFPW1xj3ZruicHxCVv9q5KosC3OkXgPybrF/nTDDXW4eMm7qCl7kHaJfnPWB79O7OsuCK0crKcbGSfWWLforTEp5i6wqollqTwc3v0Awv9C1pW8nDZRYL/vlqNVKfmQNLqpfNDbwFddaOcTvehleEI63vXGHL9+C038ByRdmuCfGF6BmpdUt0QAIlfuTLLVDiHyXqjkAEakzmFqwuPm9/Xi15GNamDkC9MtJtlGcJj1W+tOgkpmXvts9edVQnY35yD7DnVZaLBErcSJBAieMlpnSFCtTWnfvx9JQPMKR/N+z59yjGPTpYEKgN2/7B86/Nw85VHzslzRLTsVCVDYVARVzYhrhD33rsEkukeZBvjQ9qp7jtJCpuYkL+DZ4DYMvLJ2pbydKdWwUsTxMw4KkR+Kx+hNNMSmT+OsTkfOfhkTxgjAUMSUD4JRjDayOrzts+m/avgcdaLY8MM49WKhmGRwDxMvdYLrbb7+kci7OUlMhebeRjW9gmpyDy8Mn3gsu3JgR8qn9nLGlbKqS2Ri3IT0Sf9gN8tjF1/TNg4ut4sTiojO5vYav2Mkakb7R/FC+z4Ps6Wba4Zad7bEt4Ph8YxAIVPQPFjkuJPK2AKlMmzKrq6pqgq1N2HFy5lvCCyM9WdXkF6rQxH90u/+LWwnGxbfGyh0OpWcHyBJHbHqDnzThhyEWCIhx15M4bU0KAyecjSKB8InIqQAIljpeY0hUqUI7p2dlhgXf17iII1NXMHPQcNoHSGJQcJlxWtmrmAs/v/wjtGmoxSl3PbdyNtSzI9LILL9fCY5kGOGqwIFnO4Y5wDtexE4K9XLW+3YCwoxfcS5Ss+nV7aAjGNolH97DSeuSmLCRfeAnIvgVcfgfhXj52PxC/BY7b8LRRXZCX9JTX5x80AKOynfM/NVZw+CGJbeh3vhYUWTCvwJqCwbVXD0RymBBTuj7D5WcjfLI15QK7Xr+tAz642T1B5fLa/dAlrLbP77GYYz8h6vRap3JFTe9AQct78GXBEfym2YGuEXpEczyyzTL0jyqdfbJN6Cm4KLSUPw45RK5b+myduAIVLVAs3xLLu+R4eQvuFh1ELg5HuUuXV6DWaS7gsYzNbs/tG1Ef84OU7bvcnQzBjSRQ4iCTQInjJaZ0hQoUywP15MODMGxAd3gSqJULZwi78irzFYoZqMizGxB7ZJm7IFmU+PjARxh1nQkxGvdzp7zNQDEFGZhhwVVzyXktJZIxP0GOdmX8vpbnFiHlvaVuS1PWhlmgVSjRbMxDeDJWhkejnH/hxf2rRcQplzbW/hl8ve9KZs545CU/C23UzV6H+/0CC5YUu8doeWo3m4Eal8OijawCZYsci5ABG5PlsDked/E0VCvnQ354j/3ZxxJjccuj/WGWlfaDxZBsrzvEfhCw14byZkRc2gl11hGhmD6xNTT1uggpE3bq/kSkwvcBzAlcB9ST96nw178iBUrI0/Sr+44Glqwyp6uXoPAKp+begPIKVHlmoCph9yVrEgmUOJQkUOJ4iSldoQI1/tV5yCsowvzZk4S4J9sM1Edf/4TPv12FfRu+hFrl4xwSMb0NQtlQCBRbCkpdz+LBLKXLdByPrIJrsPXwVAy5XgmZxWX+hQcye+lgrOU5IPxvgwVjs3m3mZke+YfwTdpSFLYYBG0dZ5mJ/PMwYlfvAoTt+w5zOiUpyz+8sR3e6XwDPoyXoavDDBTDnrLGJekg+6IyD3x7axZtPV8POY3fBLiyx1ueXYDZmQZs5FSYsmsvbrtwWbh3W4O60PTrhF4pzhnAmSSOzeOxT1u63MMmnb5NlKOeHOByM4UlO/X8t8BlXi0VQ5bqHMC/dZOx6N7huBgbhWuV8Xg4piVqy8VlGff0yp02L0MRf87r2yiHGtcoHkQYvJ/JF4RX2q3KihQoZbYMSZvdd0OYonhk3GGNFM82a3HJrEEzRSxYPq7KepVXoFh/xMZAVVYGUrSLBEocRRIocbzElK5QgTp++iKGPDZNOPeusEiDDtdeA5PZgu27DmD86KEYPcJ3rImYzgajbCgEirU7+tiPiD611imX0K9XBmNfTm881zkPCeklQc0lvmSM5ZHZ12UrkgOA2QUWLPYwk5NqyMXew5OE52R0ewOmqNIZwNjVfyFy539W0WCSwf4fwNYG9fC/LtfjYHIimik5fJfovpxW56dwwf9cr8PGVcjPS0RmRgdc/yKg8BByIc8pRMKiDcLBxewyyGVQmZ0ry23fFNp73U/9Tk4Ixy+XNThtBurLga5qDiptIdSfTIP8tO0AY9ssHOsTewIPS2oj6Me9DT4hRfLX5ojpMxhhPSPP8aov6w8ztFBwEYjmGkOBwGVNisZXpECxd0YICneZbGI5zjKu02FsxlZs0F4UuqnkZJgQ18E9H5cUECSoIxCBErMLT4KmVuoqSKDEDU91ECiWJ3LOl8uxefkcp873vf9FjB05EIPvuBWjnn8Hu/89KnzepkVjLP38NXGgylG6QgWKtZdJFJtx2vPvMbCD/1gCzRFDeguB5TIPgcHl6GNQbwmVQNX6Zx7C0vc79eWqLhWv/DcTPe7YjOFZvaAoss5CWcJ45Nxs8HoG3kqNBW/ku89OdSk8gR9Pvm9NIdDuQWgadLc/M+zIedT6rjT42fbBxlEDsS81CQ0VHLqoAU9zAIlb1UIQsOOVU8Rj87HSXDWtRpkR38K9TXE/bkPEvpPO42grVjIRZokKx+6XRgjneDVScPZ4KE9HuShXL4JyjWtQvoNEsbxNrW+E/pmZ5X53vAXiXjKvRzZ/wKluOcJxreJp4YDgynZVqEABCLsoR/xeFdhyHruMcRZk32LAd6bjeDF7pxMuRm9H3XvQSBld2TAiEIGqdJ2pwAaRQImDH0qB0mqB9EweKUkcwn3kEhTTCyZQ736yBDt+net0GwsDembUEEGg2K7+N+csQrFGh/9NfSIk5+hWqECxI1sKiorRt7t1uzjP8+BKlk/EwK3IsqESqJTNk+xJGR37+8z+j1H/hkMY0jocKXkdYI6yQNPId/4aFkB+Z4ZFOKPO8fr69Ke4I3+/R4Fi5eKXbkH4gdPWWzgORV3boKC/71Oulbky1Nqpsp8dptEDu86YkOMwC1aWQCXN/QXKNGtCSqfLNhMGICciDG0eu1/4OFEGvBEvw00qDm4CZTYj7L3xkJ07VnJeh9ARa7UO9RmHjIax93BRr5YZOuRZzmC19gh+LMjDPr1VJdlW8IUpPRFbcsaeAYU4Z/oZWqQLn8sRhnqyvoiTtRD1vFAVrmiBEvppAZT5HCwqwMzS7wPwdAYb+/rXyT3QL6JBqPD4/RwSKL9ReS1IAiWOY6gE6rtlZmz9s3Rl4LYuMjx0rzR5Hf0RKEblDUGgtHhnqmuOQXHM/C1doQI1YfrHYNnIv5g10d/2VrpyoRKopB2vQ1lgXaqwXXqzGuP2f4oh9Sy4I7pU9/XJFmTfVvYZeLb7WZD1l3kaHDfKUNeYi4eztmF0xiarSOTFo6j23TCk1oOuWT1AVTqvxGl0UOQUwpQUC14tYocYDyiKOBSc5bD/e+eZFrkauGGSyeMSXuIXa6A6l+Y89i5hWD+3aIJxfUqPm2ii4LAsSeYsUBYzwmbZ5KmkupJlSCaDvCoMiI6FqcOtMA58FFD53zcDCnDCtFBYgrNdmzVheC/HmmWfLS29EGfdgWi72D1mXgs1lygcClxZr0ohUB7gzMjdi4/zD7l94u9OyfLyZq8eO4T6iDEHdeVRuD2iLqK8xO7ZnkMCVV7izveRQInjGAqBOn6Sx6x5zpnvhZ97TynQuoX3nd3+9MZ21NuTIwc5FV+4fD2mPDtCmIFiV40SqE8WrsCKdX9g/ZJZ/jCslGVCJVBRp39DzLGfnRhsy+yOxZdGYkZjNRJcftdn9tDDmODfmXER57ch+vRqyLV51mNiDrUHl1+aOM8cH42MZwaDD/NfKFhDOUNJ/p5sGSxhgLa+CfoUa5uu7JAhfQ8HfR6HyFQe9XtZENfcc8B78qwfoMgt8ihQvFqJNY0bYGqXjsiMLJVIpmeba8vRPDEctjGS//c31POmuL9HPA9zk9bQv/RRud+xNMt2ZFh2ud3/aFoC0s1yVOUt55VVoE4Y89Dr8gohMantErVTspyjzXJ4sVxetitFHo6NdQYiQe59zYIEqpzAXW4jgRLHMRQC9dtGC35e7ZxehrVyyAA5+vcOPCzBJlB397vFqfO/rvsDb016rGYKVFZOPu4YMQmzpz+FWzu1E/dWVJLSoRIoNisUfmU3ZJcPIT07B8eKrsHRyIa4y9wErXV13WgUNzMhv4P4JJqqM2lI/GqNW315d98CzU0tRVFP3KSGKsf5myf7Vj30tf0TO/Yw9clLSJi/ruS5DoLF/lPGIevxO3FPTApOlmQbtzUwnAO21pajfkKpQLGz7VQ/furWB0GennoLiCx/3MwZ83IU8s5Ht7AHHTcqsF+nBvhWmFHL86HFoqBWQOHKKlAMxQFDNpYWnhB24Um5U7IszPv0mbgrzf37Y0r8DcKRJ94uEihpXl4SKHEcQyFQf+62YMFid4F69AE5unaSRqB8xUAxKjVqBmriG59i7ebdZb4NlIncgpwC96U4MwzItuxHMX8J120cgIiCWLdMkWbtScjO/A5TUhyKbmkDbftr/Pqui9h9FHEr3HMUaTq2RN5gZ/v3VqEqXYbEbS7bzzlA09CMvJt85++RZ+Ujdt0eqE9eBmcwWVMnCMt2pfFKbGYsfcIwLNBx+LjQefZqSASHKbHOS3hlzUAZHngOplsD2/FZ1gyUjZGZj0QH5dhKvVRX1nhWZoHy66WWsNCyopN4Psv9+2NY1DX4INH79wcJlDQDQQIljmMoBKqwCHj5DSN0Dr+uwtTAzFeViBZx+HtZPaMYKA9kNu3Yh4tXMsp8G+4f3DOkeaBYFL+Mk3nc/cfSLLDP42OdZylCNQMVeWYjws/vAKfJxkVNfazLGgRLShs8pFch1tO2t1MrgcKSs7NYSoLnhsCUHO/zO0+qGaiUtWGQF7mvffvKjm5rYOKnK6G6WPa7satRPYzv0RXRcRF4OEoGHQ/s1PFgc24d1RwGhnNgSdWdgsg9xEDxSanQvfwp+HD3/AnsMOCY479AlXsGFnU0NHVuQmHzgUIyTNfLUwyUa5nG8qGI4dyPh/E5KBVcgASqdABoBqqCX0a2kSVKBZ3RDK3efcaj4ltX+VoQCoFivU7PALbuNONqOo/aKRy6d5EjJVkaHv4IVI3bhScNWmlq0eoMuHfMdDzx4F0Y0LuzvVKWWmHSW59j85//Cl9r17op5r71LBJrxQr/DoVAhWUcQK2/nbdvas3hmHRwFtpGxWB0XZdf6EYtcPhrYZeZlo+CHmGwDGwJXWf/luASP1sJ1YVSeREbA1VW9mjGq7CVCYVtvC8tclo9Ut/0fPYfq+NCTDR63TcQRSUB7EyUfk6So7aHOGxPu/DkR/dClnYOlqQ6MLfpBCg8JO/kzUjZMsVt52Ne24egaVAarO749tl24Z0174SSs56p53jVkfVAkuxGaV7YENZCAuUMm2KgQvjyeXgUCZQ4/qESKHGtEle6LIGqcXmgmCUaDEaEh6krTcqC9z5bigU/WM8tY9sfHQXqq8VrsHzVVnw7dyrCw1R4cvIcNG6QijdfGhUygSrrLLwPTk7AmaJ2+KiFiwBkHIDx0i78YemPbFjPbZMrLGg0kEdKJ8+B2k6vM89DfeISlBm5MNWKcduFV9arzw5N2aq5jPpHInHbWfcjeHgFkN5fKxwI6+0qS6As0RFY1qczpiTVgU7pPO32dpwMfVngk6u0OMRAifmWVRSlIXnbNLdbdCkdkHPjOK9V5VgO4aLF+Rw8dkNLxeNQw/3IHTHtCqSsvJiDOl0GzsJBn2yGKcaPd4ElqFTIEBepRGa+752dgbSvqtxLu/AqdqRIoMTxrw4CJa7HoSsd8jQGW3fux9NTPsBv372DD7/6Eeu3/l1mb0MVA5WXXwSdwYAHnnoTE54Y7iRQQ0e/hr7dO9qzoq/fugcTpn+Cw1sWCAIYihkobwJ1qqgd5rkK1JnVOJKbgCO882wHW3nqOM0EhYQJzmyDx3ZCDU77DXkFepw6OMLjmBa1MqHAx+yT7UZPS3hFt7XHrK434stC9yD0yiRQPHicM/+CAv6U0B2WHDNF1hkpsq6h+852eVLYFbmQh8thwxrybjBA08T3MggJlDTDRjFQ0nAkgRLHkQRKHC8xZ1KFIQAAIABJREFUpUMuUGcupGH1xp0YObQv/v3vJC5dySyzvcMH3h7SGCg2HciymjrOQHW8Y6ywTZJJFLuOnDiHYU9Mh03uQiFQZS3hTT40C7XiObyWFGdlaDEDV3YCmfux09wXV9DYje21Y8yIbeLfzIOYF4lt62ZLG/dlX4MlZ3o7/aIusQik3a0F7zBZpriag8h/jkORXQBjcjyKb24FtlzILnsQ+dmrsKgU0LVqgIK+HbGPU2J0trNAiVrC87dT5VjCc63axGtg4AoQxidA5keeIH+bVp5ynnZEsoSU6f3LPu7H9hwSqPIQd7+HBEoajiRQ4jiSQInjJaZ0yAWKBWMfPXkB17VtBqWiciUPdBUolhm9ze2P4pOZz+O2zu0FrqfPXcbAR6bi96XvIzUlARZbIkYx1P0oKyvZbWarX/PPWhTu24JaamsQ+corg3BM0wqvNZGhrqJkTcykBw59IdT+t+V2nOfdM1v3fkOB6FQ/GiCyyIcZBzHh0k70y6+PtSc872izPMADzI+Yv207BNkP20oP8GXPi46A5c2HgHDv+aa+zzHim1wTzuktaBEmw9OJStwR4/kQWcax3GOUdRqy/cuBzFNAWAz4xp3Btx/iMYhcJK6QF5ct4ADXzY8cYHmEB3yk9+LACZsfy80x5L2tnA9kHNnFZijpKj8B4bQKYVMucfSHou13iT9lqYw4AiEXqH2HTuKhZ97Gtp8/FAKxs3ML8O2PGzByWF/Uiit/Hh5x3fZcuqwZqLcnP44+t1mXw1xnoK7m+P4LXmzb1EoZ4qNV0BstyC20/tYLv7AdspO/IkxTjHRLMv5WtUFKSn10OeWSW+jUCqDwAq7y9fGH5U6nR0c34NF+nP85mMS0e4v2Mh64ugFqiwy5+x5HOO8sx+yf6UN0QrqFiF1HEOMhVQJ7Xu6DvaG/tpGYR3stW7tWGMoaI5kuTzikWZ1pPVRYn3QtClsOhSWsZEZPslZUfEUJv6ugdMnJxWagMu/0HdekUMgQG6FAdoHv9BMV39PK24KIMDkUcg4Fxe4Zmytvqytfy+KilMIuPJ0+OD/LKl+PA2sR+xlIV3AIVLhA2WZ0Vi6cgaYN3QOPg9Nt/wWKxUD1u/0mPP6AVUYqIgZKlXsaiTudD7a1yDhcSXgY9c6XLJexP24z9gNZhwFjvrDslRbfGufCW0OniEJ0A6D2zRYoIoJD1BYDtVefiWHZTbHkbG/ILZw9PxWLfWIxUOxK/HINVGc9HM0CoKBfR7BYJ6kuT4cJ2+qO//cLhF/Z4/QobZ1OyL1utP1rvxSfwecF/+G0MR9NlbEYE3MtBkdWvVQEFAMl1RtV/noq0xIeZ9IKJxuwA8plZgP0tZohv+UwmKNSyt/BEN1JS3jiQNMSnjheYkqTQAFCfifewmPAyJcxduRADOjVGcqSXV5ffr8aP67eJuzCiwhXY+yk2SHfhRd9ciWiT6x0G9e8yDsRl/mA9esF54DTq5zKsHPq0icOhyUyDHoeOGPiES/jPG73F/PSlFXWtgvvuCkPrU210DOvLtRmOfRJZpjiSqfba8/4HrKi0jPjHOvLfPpuGOsmStEcoQ5vApW6/hmwXySOl0Udg6u9ZgtfOm7MRe/LK52OCpGDw6a6g9BMWfVmqWgXnmSvVbkqqkwCFXPsJ0Sddt4paohrgqyuHo46Kldvg3cTCZQ4tiRQ4niJKU0CxQ48nP6JMLPkeK1eNFMQpWKNDixj+vZdB4SP27RojLlvP4fkROsv0FAEkcccXYaoMxvcx9UwBjB1s36d+Un2YeDiFqdy2Y/0xZJ6dTGngOWEsn50HV+Iz/T/IjyuPgzx/mUoF/NS+Sob9+M2ROw76VasqFt7YQZKyisQgfqy4Aim5zi/F6xtMxM6Y2S0e3yZlO2uTHVRELk0o1GZBMrT4eSsl2l9PgSvdE8qKw0BaWohgRLHkQRKHC8xpStMoJZ+/hoS4mJw7uJVPD5xFr5+/yU0rOc8fZySVMtjVnAxHZSqbH5hMYxGkz2Bpq3eUAhU/L7PEJ72j3tXtO8DvDXPk/06+StQdNH+z4sP98UtsXXgclQcJqStxsS0VdDW7YTcDqVLVlLx8laPPKcQCYs2QJGRKxTjw1XIvbsrdG2bSv74QJbwSKCsw0ECJc1rSQIlDUcSKHEcSaDE8RJTusIEyp9GhioPlD9tKatMKAQq6c+3ocw7Y22C7Tw4tvtP9x7Au8SNsTQG6XutRVVKrHtuOB7TuW+z6pt3AAvOfCKUy+r8Egy1mpcbA8drodYchMKUBaOqAfThbYTsR2VdystZUJ29Cs5ihqFOIgyNUwF54AdOenqeN4FiQeSxx36COqskiDzxWuS3vAdXlCohIehZUwE+yT8Ex1DVqryEV94BJoEqLznn+yqTQIlZwpPpCxCWeQicQQNDrWtgjHNPjyINIf9qIYHyj5OtFAmUOF5iSodcoHLyCrFr7xG/2ti72w32WCS/bqiAQqEQqFr/zBOCPd0uzRcAH+nsKhe2AFmHrAKlkGPfs8Nwl8k9cnxY9k58eH6hUE6X2Bo5nSaIopdt1uKbwuM4pL+KxtqDeJA/j1uQL9ShD2+HnNoveawvZu0eRO04aP+MV8qRNXoAjPWSRD3f38LeBMpTHX/o0vBw+u/Q8aUJJlMUESi0GKp0ELm/vDyVI4EKhF7pvZVJoPwNImfnQSbueh+cuXS3cVGTvihoNUwaKOWohQRKHLTqIFCjnn8Hu/89KnSchdGwFSx2vMvkGda0PexKSYpH3+434ZHh/YT/DsUVcoEKRadC+YxQCJTqzB4kHi19UQQ54tuC00527iqblTr0NWDWWmeqeB5Ft3fAkBuux2GX4+e+P/URbi+wzryYw+KR3nOW39jYjrtel1fghDHPfo+M53Hs5Gk0uxQOmGUoat0FBZ1uARxyfXF6I1LfXMQSCjk9S9uuCXLvc0nH4HdrvBcUK1APpm8ES8ngeEXIFDjWYATY7FNNvEigpBn1yiRQ/vbI005VcDKk9ZkL3pZ/zt/KJCpHAiUOZCgFitcUwZJ2CbLUeuAiosQ11EtpTwcF287HW/b5dCFW+ezFNHz1/RrkFRTh+49fcQu3kawxDhWRQAVINdgClZ2nx/45csSZDqBu4j9QKYqRVdAM9aJ6o1aky8wS+/1+8HPAXJKvh+eha90QZ0f0wU8aC45lXUBK4XkMyv0H3QqtNs9MyxSRjIzbndMkeMPCUhUMTFvjVGTyfgtm7nHOy6Lp2BJ5g2+xl1NeyULSvF/dqjamJiDzmcEBjoTn28UKVKdLy3HJVOxW2a56Q1FfId0PhKB0NkiVkkBJA7YqClRZweaZt7wKY2wDacCIrIUEShywUAmU5qv3YNhQ+vNd1WsQIp54UVxjvZR+Y84iFGu0wnm17PJ0wDATqYefm4mmjerYy0nWAA8VkUAFSDfYAnXxqB4HPnLPst0kUYbrG7lkcmcTOyeWA5qrJW7Eo6h7B+EIFLCjSTZPglyb6xKexKG44e3Ib+P5/DpXPJwR2JJxCU/ptiNfXppYcf9PZrTPdp5ZYmkU0qY9BMisMzc0AxXgy1ZBt5NASQO+0gmUxQRl4WVYVFEwhyd47CTNQEkz9hVZSygEyvTfPhS9/qxbN6NemQNFO2l2VvsjUKwBS37dhE+++RU7fp0bdOwkUAEiDrZAndhuwIkl7kfeJEZx6N7SRawsFuAACwy3iowlTInMZ+6BOT4KiqI0JG+bZotCL+01J8PVnu+B5T/ydcXtVSLijPWZ7AmfJf+HpxpuF/6d940JsR4SVae/eK/9fDtWrirGQE2Kvx7Pxrbzhafafk4CJc3QViaBCr+8G3GHvwdn0gidM8Y0RHbHZ9yy8FMMlDRjX5G1hEKgdL9+C93iz926GfbAGITd/ZAk3fdXoHbsPoSxk97H7jWfIioyXJJnl1UJCVSAeIMtUOmX9fhnpoJNIDld7erJ0by2y861wsvAqZ+FcvomdZDzYC/wYdYdeE4CZZ8o4qBLboucm57zSUF9VYaEHSVn7jmUvr3lCmyNvoIdG4FbzjofUWFKjkfG+Hvc6rbtwuMjVNBdUw+WmCClR/eRSLOsTl81a4RdeMW8CTeHJeNalee/zn1CqyYFSKCkGchKI1C8GakbxrslkS1u3BP5re936yztwpNm/CuqllAIlGHrb9B8MsOtixFPTYGqe39Juu6vQC1dsRmff7cKm5fPkeS53iohgQoQcbAFKqdAj7Q/ZTj3GwfeZF0KUzQ5jztjm0IpdwlqvrgDyNoPXqlE1uj+zjvb2BLelimQa7Odepx/7f0obtTTJ4XoI0pE/+e+lHisdR50Lcyok6NHre82QpFVINRliQ5HzvDbYWhascfziI2B8gmiBhYggZJm0CuLQJX+MeXcL0NCc2Td7Hn3rDQEpKmFYqDEcQyFQPEFech/Zjigtc5oCld4BGLnLgMXI82pDf4IlEarx8hnZ6BVs4Z486VR4kCVozQJVDmgOd4SCoFiz2Nx4cUZFiA6B1HyMNRbm2RbqSttDktfcGmr8G9PO9vYdHzM8V+gyj0Dizoamjo3obDZXYDMXYxcsaw+cBZPnGjtRsui5nH1Th3AVhl5QJ6dD85sgSkpzh77FCDigG4ngQoIn3AzCVTgDFkNlUWgWP6z2psmunVKl9IBOTeOk6azQayFBEoc3FAIFGuR5coF6H9fAfOVC5DXaQB1r0GQ1ZFmo4G3XXhLP3sNxVqdkJR7/g9rkV9QhCWfvIrYmOBn1CeBEvcuupUOlUA5Pjj8jBzxe92TY6L4qjWInMU0SLizLdOsRe8zK3Du4EOIsDjIVslSYN5NBmgauawxBshVitvZ2XzbuEv4KeMsjDCja1gd3BfVDCouOEk7pWhzZayDBEqaUaksAsV6k7DnA6gzDzt1LLfDE9DWvUmazgaxFhIocXBDJVDiWiWutK88UBHhYUhKiEX3zh3wyL132I9aE/cU8aVJoMQzc7qjIgRKVgTUXushOC7T+wxUebu6vOg0xmftwHsXO+OFtA6l1ZSsIBa1MKGgnUuiqfI+TML75uUfxMzcfU41PhTVHP9L7CLhU6p/VSRQ0oxxeQRKpstBwp4PoSy8IjSCzRzntHsMhuRrA2oUS6QZeWEbVNknhV14utrXQ5fSPqA6Q3UzCZQ40tVBoMT1OHSlSaACZF0RAsUCumvtVINznPQxGYATywB9rnCES9bj1hgouSYLMcd+hDr7GMDJoUtph/wW94BX+ZfTaHHhCczOP4A0UzH65tfHuhMD3IjldaycM1DdLv2C0yZrdnTbFSNT4WiDBwIc9Zp1OwmUNOPtVaB4MxSFV8ArwmCOKM3Kn/jnDKhsxziVNIMlsEzr+7E0jaqCtZBAiRs0EihxvMSUJoESQ8tD2VALlEwHpKwNB8c2vOWfBYrSAGMRUHge5mglim65Ftq2TWGJss5QJex6zypPDldxw+7Ib/Ogz57v02fiLnvCTB5yXoY/jw5Gp+LSQ5/NUTzS+5TEQPmsMbQFmpxfBD3vnNyTteDfesORrAjezr/Q9jL4TyOBkoZxWQIVlnEAcQcWQGYoEh5kiqojpBRgIpW69klwFtfZXd6aeiQsNMdVSNN76WohgRLHkgRKHC8xpUmgxNCqBAIVdlmOWjtVgNkIHP4acPnhWti9Awr73Ci0lDPpkLphnHCki/XihEBvY2x9ZN76ms+ev5qzG18X2DKWW4srLEDvgvroY2yAobWbQlZXBlTSkKKRGZuwSXPRqZ+tVbWwsc5An32nAqUESKCkeRtsAlWQXwB15n9QaLNhjK6D+APfQKZ3ninV1OuCvPajyhaoXu/DopZmd5M0vQtdLSRQ4liTQInjJaY0CZQYWpVJoIquAietAeOOl75ZPWQ/2s+qS8ZipG5wzfHEwxSZiozub3nteY5Zhx5XVoAFkFu3+5WmTHi11o0YE9MmQHLBv/2IIQdPZW/DyZJfTinycHySdBtuDqsd/IdXoyeQQIkbTBZfFJZ+CHJdLgxxDWFIaCF8/wgCZSxE+PpXSoWJ/XHDuZ+xaIyx/pFDS3ju7EmgxL2PJFDieIkpTQIlhlYlECj7Ep6mAPhvoVuLNNc3Q97Q24SvR1zYhrhD37qV0da+Drk3PF1mz08a83DXlTUo5D0Hhv9Z7x40UkQHSC40t6cmhOPPq+nCLrxrlHE19kDgQGiTQPlPjyWdTN7+qn05jt2pS70BOdc/KQhU+MnfoDq4zKVC5z9Q2Ie2nEzBCiL3v0eVryQJlLgxIYESx0tMaRIoMbQqgUCxJrAgcpbYUvXXTxBSFzhc2Y/0hb55feErcYcWIeKC9agVxyu/1VAUN7HOUnm6Jmf/hW8Lj3v8LFymwKkGvuOnAsQq2e2UBypwlCRQ/jNkedaiTjkftM3uZjO+6oR6iNzzKRQXd7tU6C5QeW0fhKZBd/8fXINKkkCJG2wSKHG8xJQmgRJDq5IIlK0ZnFaPyN1HobqQIQSNs+SZ+mvq2ltZ1gxU1s0vliwreO780Kvr8JfOWcxsJataGgASqABfcEqkKQpgrb8/QljGQbd78tqOBNe8R5kzUIVN+kGpyQAvD4M2pb0wa+Vy6reodlTnwiRQ4kaXBEocLzGlSaDE0KpkAuWr6SwWI3nH60IqA9tliG+CrC5TnG418Ra8n7cfKzVnkWXSIVquFNIWuP4AnxJ/I0bHtK5SiShJoHy9Jb4/pxko34xsJeL3forwq3vdbihq0hvm60a4x0CxJb7kdsjp6H6Svf9PrVklSaDEjTcJlDheYkqTQImhVUECxY5ekOvyhB07kHvIQO6tD2YDwjIPQ6HJgDGqLvRJbdyCVtlyHVu2c7xYWCvvEOD6YFRzvFMFE1CSQAX4gtMMlCiA0cd/RrSwhOcYGM5DU68rjJ2egELOwWkXXkw96BPZEUnugeSiHlyDCpNAiRtsEihxvMSUJoESQyvUAqUpBrdlDtTZJakEZEoI8Ut+HP4r12QKaQxMTLoggyLLuk3alBjrJlCjMjZhvct2f1Z2avyNUIDDDWFJuEGdHCCpirmdBCpw7jQD5T9DZf45JP3xVsk5lSXpQzgIQeTyxjcLApVfXPmy9vvfw4ovSQIlbgyqg0CVdZTLnC+XY/PyOeKASFiaBCpAmMFMpGk6uBqK/UucWyiTo6DJbFiUMdCnWGCOtOV4shZj4pTw91woiqxHP/DyCPBnm0F20ZpY0xwXhZwRvWCsm2ivtyyB+r3OILRSVe1kfSRQAb7gNAMlGmDMsZ8QdWadPf+atk4n5HZ4DJHhKhIo0TTdbyCBEgcxlAKVbzYIaWOaqWMRK3a1xEu3vB0mvOPXueKASFiaBCpAmMEUKPPWjyC/4LpjhwVNvARY2gsJLLO76KFPLc22HXdgPiIu7XTulV4J/HO9fZnA0DgVWaPvtJfxtITH/oRuqIjGlrqDoebkAVKquNtJoAJnTzNQ4hmy+ENF0VWYIpLsxyaV5yw88U+u/neQQIkb41AJ1FMXtuPTzP/sjRuT2BqfNbSm1JHiemPOIhRrtHhn6hihulUbduLdT5aABEoKuhVUR1AFavdCyI9vcO+ZdgbANxS+bkiyIKu73l4macfrUBY4Z98WPvynA6APE/6TD1Mh7dWR9ntYEPmzmTuwQnPW4VnWrdUfJN6CYVHXVBDdwB9LAhU4QxKowBmyGkigpOFIAiWOYygEamvhFdx+YoVbwzY2uwu9YuqJa3AZpUmgJMFYuSoJpkDp005AvfF15w5b6gK6/wlxTeyyhAFX72LZwq1X4q53oco+4XwPc6HdHQGzdSaJLeOlv3SfU5l5+QcxM3efG9ynY9tiSjzbUl01LxKowMeNBCpwhiRQ0jBktZBAiWMZCoH639V9ePmy+2rJzLqdMLk2W/0I/CKBCpxhpashmAKlM1pQdO4wIi7/BbYTT331GnC63gBi7BxYHFR2t9IZqIgLWxF36DtnTlkJwPFm9q8VdWuPgn4dncps1V7GiPSNbnxpBqrSvXIhbxAJlDTIaQZKGo4kUOI4hkKgvsk+hkfPbXFr2IJGt+ORhJbiGlxGaRIoSTBWrkqCLVA5BaVyFHlKgdh/laUAPMRAsdilsLS9CE8/AM6ohUleF+biRlBdzhXuY4k2Ndc1A+TOJwCbwePutDXYpy/NGdVIGY3Nde6mGKjK9cqFvDUkUNIgJ4GShiMJlDiOoRCoTJMW1xz6HgUOh9vHyJQ41XYEkhTWDUyBXiRQgRKshPeHUqBY9xX5HNSZcvAy3uMuPBui6E37EL11P2C2BpjrWjZAzoO9AVnZ+WZYLNR27RUcN+WhkSIGPcPrVamkmZ5eD1rCC/ybhgQqcIasBhIoaTiSQInjGAqBYi06oc/D55lHcFyXhxZhcRiT1BrN1XHiGltGaW+78BZ95JwYunZyAsLDROZLLGcraRdeOcHZbgu1QPnTXHl2AVLedz2wFMi7pxs0NzT3p4pqU4YEKvChJIEKnCEJlDQMWS0kUOJYhkqgxLVKXOmy8kBNnvGFW0Xfzp2K69uWhqyIe5K40iRQ4ni5la6MAhV+4DTil7qvRxd3uRb5AzoH2OOqdTsJVODjRQIVOEMSKGkYkkCJ51gdBEp8r0NzBwlUgJxDJVCKAg7qDN9Ld6w76hMXkfDNereeFfa8Hux/NekigQp8tEmgAmdIAiUNQxIo8RxJoMQz8/cOEih/SZVRLhQC5RY8zo6G6GKAro7Zc6tMZqTMXg55XlHp5xyHjOeGwJQcWGZxpeEMwgu2Q27OgknVAMUxvWGRB1ZngEPg9XYSqMDpkkAFzpAEShqGJFDiOZJAiWfm7x0kUP6SqkCBqr0qHDKdcwMMtSzI6lm6Q8+1ebICDaJ2HYHiag7MsZHQ3NjC6fiW8nRbpTuIhLRZLBVnyf8AsyIJGfVmAZzD7sDyVB6ke9wEyqCH4o81kJ88CKjDYWrXGebrbnU7HzBIzamS1ZJASTNsFEQuDUeKgRLHkQRKHC8xpUmgxNDyUDbYM1C52Xqk/uq+DZRXAml3lybQZE2TZ+Qj6YuVkBVbbYtXyJF3Z2dob24VYC8BuTENSZdeAgfbsTGc9awvjkN26hQYwtiJ8pXsKi5A3G8LoN/7F2DQAQoVUJQPzmJmSdYBnhP+33D/czB1G1DJGl95mkMCJc1YkEBJw5EEShxHEihxvMSUJoHyQWvTjn14dtpHbqX2bfgSapUSwRYolgdKmIFydCX2S9/DDFTKzMWQF2rc2nrljUcBRTnOs+MNiM75EeGaPZCbsh1mnpxTIeQnPgpNdE8x711IyioXfwjljtXOzyqRPqthWgXQ0rwddM+/H5I2VcWHkEBJM2okUNJwJIESx5EEShwvMaVJoHzQ+n3HXrw840v8+KXzkSoN6iaD47igC1R+mgFJm9WQ6RykpYwYqDpTvvLYm+xH+0HfTPx5RFH5qxGd84NLnWz5jl3CFI7w/xn13odZmSLmvQtJ2fCpI8DlZHgQqJL2lwgUHxMP7TvuaR9C0sgq8BASKGkGiQRKGo4kUOI4kkCJ4yWmNAmUHwL1+vvflHnic7BnoCy/84g47zx75Hr+na0LUgtUravvQq096IGQVZyYQPGcGlcbzRfzzoWsrEeBEqTPWaDMHXtCP2pyyNpV1R5EAiXNiJFAScORBEocRxIocbzElCaB8kOgnps2F4P6doVarcKN7Vugb/eOUMitUhNsgVIs5aAocs8efqm/FrJI58bXeflL92BonkfalBHgoyPEvBdC2YQrb0GlP+ZVoPThbZFTu3LKhz9LeJY6jaEf8xr4FPEzdKKBVtEbSKCkGTgSKGk4kkCJ40gCJY6XmNIkUD5oHTp2Fuu37kFsdCSupGdj2coteGBwT0x97iHhTlPJUSlioPsqy3HsqDqZEKKDXwEu3fkOCw+8nm/Cy8/LoFCUfqZ48mP77rjSr3IwffyU1yNcPLWHy98D2Rm248714u2xQywI29LsNfDRbXx1qUI+54sKYFzyGYz/7gL0OkCpgkWngTyuFuTXXg/lnfdDVqd+hbStKj2ULVXLOA5mi20DQVVqfeVpK2PIJm4t7BuYrnITkMk44WcjL/yApMsXAYXLuae+ytPn/hMggfKflVDy59+2Y9q783Fg09fCLFRGXtmpBERWbS+uUsgQF6WEwWiB7EdOOP/O8Tqn4fHWeRPuG2pBu7bWT+QZeUh4b5l1Zc3lynjnCdFNibv0GpS6EyU71dhPK7ZqVxr3xHJAaeP6Qhdzu+i6Q3lDcpw6KGMUyj5U9LMUCg4x4QrkFBoruilV+vkRajnkMg6FWlOV7kdFNz42Qgm9yQydgYTen7FgPwOr+uXtKJfr2jTDd/Om2rs4dPRreHhYX9zVp0vQu00CJRLxjt2HMHbS+9i7/guEqVXBXcLTWhC2UObWwvNaHm+cM+HWLhb06WX9IZL46UqoLmS4CZQ5JhLpk+8X2Uug9vknwFncd/QxkyqMvxdFcQNF11kRN1AizcCp0xJe4AxZDbSEJw1HWsITxzGUS3hGLVCUziMqhYPSPfuOuIY7lC7rMOE35iyCRqvDJzOfx22d2wt3kECVG7P0Ny7+ZRNaNK2P1s0bIb+wCC++8RmUCjnmz5kkPCyYMVDGIxYot7sLFPvD68njRtw7xIw2bXjIcwuRMmupdWmNTUE5zEJlP9gb+tYNRYNJuDIdKv0pp/t4KJGf9Di0Uew8Pfd2iX5IADcof/sO8j2bweVlgW/YDIYBj8DSrGQ6zqFeEqgAIJfcSgIVOEMSKGkYslpIoMSxDJVA7fvOjDNbS2cFm9wmw/UPlSN9ThndY7JUrNHinaljhBKrNuzEwuXr0bVjG2zfdQA/ffUm2PIuCZS49yOopWd/vgxfL/nN/ox2rZti1rSxqJeaFHyBOshD+aezELGH5hqBiSeNmDTRhKhIQHUmDYlfrXHjYEqOQ8b4oeXiE6bZi/j0DwGHxJkFCSMtdFbEAAAgAElEQVSFo1sq6uIy0wC9BoqTh6BcOs/aDGFZEeCj46B7YyH4MOdgeRKowEeLBCpwhiRQ0jAkgRLPMRQClXmcx7ZZ7kvT3SYokNzaQ1yJ+G6gLIH66r0X0XXQOMye/rSwwYsEqhxwg3mLTm9AZnYeoiMjEBcb5fSoYM5A6bMtUC+TOS/L8cDPmWb8lm3BK5NMUKkBTm9E7ZmLwRmcY1SKurVHQb+OfqNR6k9DpTsBXh4JXXh7cBY91NrD4GCGPrw1TMq6ftclVUHZxVOQ7f8Dyj/XCbNNjtIkBGbZY7MA3fOzYGnewenRJFCBjwQJVOAMSaCkYUgCJZ5jKATq2G8WHP7Z/WzWNkPkaNlfmtWKsgSK5Wj8bNFKrNzwJ1YunIH7xr5BMVDiX5OKuSOYAqUzWmBZxiGioNTg2Sv62mkj8hXAyy+WGn/E3uOIXbXLLlGGhinIebAXLJH+LURH5yxGVH7pTBvPhQlHtBjVTSoGLADF2sVQrVxgy9dZuvvPqUWlEkUCFZyhIoGShivFQEnDkZbwxHEMhUCd+9OCfxa4C9SNj8rRqGvwBaqoWIvbhz6PV8Y/hG9/3EACJe4VqbjSQRWoAgvCFru/fBuzLbjSzITePV1eWJMZyvRcmKPCYYl1SRLlBRFn0QlB46XLddbC2qibkZc0rkLgyq6cg3rGWHBmsw+Bsh7JwrKJ0xJecIaKBEoariRQ0nAkgRLHMRQCpS8E1r5shMnh0HtFGHDHTCXU0eLaW1ZpbzNQ7B4WD7Vw2Tphc9eTIwfRLjxpsAe3lmAKlPFvC5R73QXqcBGPsx30uOE6afKgKPXnkHjlFTdQRlUDZNWdEVyAHmrnCvMQ9spD4NgBwMJVEhxvS4Duco+lYXMY7hlLQeRBGikSKGnAkkBJw5EEShzHUAgUa1FROnB6qxmFV3lE1+bQtLscURKd8FXWLjwmTbZj1rQ6A/rc9wJy8grxvylPkECJe00qpnQwBcq8hof8onsA3tZcC841MdpTGPjqOduc988+Gfb8LUORhkdCPNCrpwWNGlgFrNLMQBn0UPyxBoq/NkB26VTprkL7zkJ3gzI3bgX9S+6HPduYUAyUr7fD9+ckUL4Z+VOCBMofSr7LkED5ZuRYIlQCJa5V4kqXlQfKUaBYjSzR9euzF5JAicNbcaWDKVD8EoDLc+kbB3xxyYR6PUzo0N6/Gahde2T4bZ37TNa4J01Itm4mRGWIgVJ9/RYU/2xz7rDQRd4aSM9xsNRuCIRFgI+MhrnJtTB1uwuILHuOmAQq8O8NEqjAGbIaSKCk4UgCJY5jdRAocT0OXWlKpBkg66AK1CKAc8llabIAz58yYOJLZiiV3hvPZp6ysjksXCRHfmHJZr6SCS322a23WNCnZ2neDtddeBZ5bIB0/L+d02kQ/sJgds6Fy00lQeIA9GNeh/m6rv5XCoAEShQuj4VJoAJnSAIlDUNWCwmUOJYkUOJ4iSlNAiWGloeyQROocDUw3/1ouxwj8NIpI55/1oz4uLJnoC5f4bB0uQx5tmNgbJvVWB9KJKppUx4Pj3DfOREgknLdztIVhM140v1eZnocB2O3ATDe/5zoukmgRCNzu4EEKnCGJFDSMCSBEs+RBEo8M3/vIIHyl1QZ5YImUGFqYIG7QF3W83jtjMmnQM1fKMe5887xU7YIItsZnHffZcYN1/u3DBggJt+3W8wInzICXH62U1lzm5uhHzUJCHfOv+W7QmsJEih/SZVdjgQqcIYkUNIwJIESz5EESjwzf+8ggfKXVKgFis1Afe3+0NMaHrMuGzHtZbMtCbfHlr31PwUMBuePHA8vV6uByRNNUCgCBCDh7fKDf0H17fvgivKFWi2pjaB/6g3wianlfgoJVLnR2W8kgQqcIQmUNAxJoMRzJIESz8zfO0ig/CUVaoHSqoFf3GegDhTxWCU3YNTDZZ9EzkTpzRkKmDysztlistkhxLd2rYSnmZvN4NLOAeoI8EnlFyfbcJFABfiCAyCBCpwhCZQ0DEmgxHMkgRLPzN87SKD8JRVqgdKUCJTjKhwP7Mm3ILezAW3blL30tmevDCtXyyBzyYDAxIrdFRvDY/w430HoAaKpFLeTQAU+DCRQgTMkgZKGIQmUeI4kUOKZ+XsHCZS/pEItUBfVwA73h15MMkHe3fnMO9dSLP7pzHkOMhfH4jng2lY8ht9jhkya7PoB0gv+7SRQgTMmgQqcIQmUNAxJoMRzJIESz8zfO0ig/CUVaoE6pAYOuT+0qIUJBe28C9S7sxUoLLLe6zgJdX0HC+4eWAmX7QIcA2+3k0AFDpcEKnCGJFDSMCSBEs+RBEo8M3/vIIHyl1SoBapADax2f+ixNgbEtPKeeuDnFXLsP8CxI+KsgeY8EBnJY9LEypGyIEDkom4ngRKFy2NhEqjAGZJAScOQBEo8RxIo8cz8vYMEyl9SoRaoGDX2fGBBR7VMkCAmQ1vzLNgqM2HM495FKDeXw/c/yJGRaW10RAQweKAFLZrXrNkn1ncSqABfcAoiDxxgSQ2UiVwalJRIUxzH6iBQno5ysVH4+bftmPbufNw7qAdefX6kODgBliaBChBgsPJAxUepMXq8ERFyIFnFIcPAQ2uBELs0/RWTX63OyeVgMPBISgLkNSTmyRUMCZRfr4rXQjQDFThDmoGShiHNQInnGFKBMmqAgqtATG1AGSG+sWXc4ekwYVvRh56ZgezcfGRm5+OPFXOhVvk4okOyVgEkUAHCDJZAhSvVeHaye6wT21k3fZp/AhVg16rF7SRQgQ8jCVTgDEmgpGFIAiWeY8gEatcC4MTvpQ1s3gO4+THxDS7jjjfmLEKxRot3po6xl7hyNQu975uIZZ9Px/Ax0zH3rWfR45brJXumr4pIoHwR8vF5sAQqJkKNsROMTkHgbBdddBSPlybUvFim8g4TCVR5yZXeRwIVOEMSKGkYkkCJ5xgSgbp6BNjwtnvjer8MpLYR32gPd3gSqPk//Ib1W/7G0s9fw6S3P4fRaMLs6U9L8jx/KiGB8oeSlzLBEqgtWxVYt8k5ZonFQd15pwU331jzYpnKO0wkUOUlRwIVODnnGigGShqiFAMljmNIBOrwSmDfUveGXX8v0GaguAaLmIHq/+AkjBjSGyOG9MK2vw7gqZfnYOeqjxEbHSnJM31VQgLli1AFzUC9O1uG7FyXH8ARwEsvmLwe4RJgd6rd7SRQgQ8pzUAFzpBmoKRhSDNQ4jmGRKBObwf+/Ny9cV3HAE27iW+0HzNQR0+ex9DRr6FH1+uQmBAHg8GIX9f9gbcmPYbBd9wqyTN9VUIC5YtQBQnU1Okyt6NYFHLg1akU/yRmyEigxNDyXJYEKnCGJFDSMCSBEs8xJAKlKwB+mQAYtaUNVIYDg2cDYTHiG+2HQM3+fBm27tyPfrffZC/9194jkMtl+OaDyZI801clJFC+CFWQQH39jRwnTjunEm9Qn8fjj1L8k5ghI4ESQ4sEKnBaZddAS3jS0KUlPHEcQyJQrEkFacCJTUB+GhCbCjTvCcQEfp4pq9p1Fx772u33jMfzTwzDkP6lM1x/7z+GR8b/D78vfR+pKQniQJWjNAlUOaA53hKsGKjCPBU+mW9CTskyXlwsj2H3WFC/Xtln4AXYlWp5OwlU4MNKM1CBM6QZKGkY0gyUeI4hEyjxTfP7Dtc8UC+MvRePPv8//LliHuJio+z1mM0WdL/nOTz2wJ14ZHg/v+svb0ESqPKSK7kvWAKVEKOG1mDBibMG4UmJCTzFPpVjrEigygHN5RYSqMAZkkBJw5AESjzH6iBQ4nsdmjtIoALkHEyB0hktyCnQB9jCmn07CVTg408CFThDEihpGJJAiedIAiWemb93kED5S6qMciRQAQIM8u0kUIEDJoEKnCEJlDQMSaDEcySBEs/M3ztIoPwlRQIVIKmKuZ0EKnDuJFCBMySBkoYhCZR4jiRQ4pn5ewcJlL+kSKACJFUxt5NABc6dBCpwhiRQ0jAkgRLPkQRKPDN/7yCB8pcUCVSApCrmdhKowLmTQAXOkARKGoYkUOI5kkCJZ+bvHSRQ/pIigQqQVMXcTgIVOHcSqMAZkkBJw5AESjxHEijxzPy9gwTKX1IkUAGSqpjbSaAC504CFThDEihpGJJAiedIAiWemb93kED5S4oEKkBSFXM7CVTg3EmgAmdIAiUNQxIo8RxJoMQz8/cOEih/SZFABUiqYm4ngQqcOwlU4AxJoKRhSAIlnmNNE6jCIo1w9EtsdBRkMk48MBF3kED5Ccs2KPGx0U53UB4oPwFWUDESqMDBk0AFzpAEShqGJFDiOVYHgVq/dQ9eeWc+/l77mR3A8tVbMf29b7D4k2lo37opVm3YiV/W7sDuf4/ay/TtfhNmT39KPDQ/7yCB8gFKo9Vh0lufY/Of/wol27VuirlvPYvEWrHCv0mg/HzTKqgYCVTg4EmgAmdIAiUNQxIo8RxDKVAFFuCs3oLGahliZOLbWtYdrgK1cfs/GP/qPHz2zgTc2qkd/j18Eg+OexsvPnkfBvbtCovFgv+On8OX36/Gd/OmStcQl5pIoHyg/WrxGixftRXfzp2K8DAVnpw8B40bpOLNl0aRQAXttZSuYhKowFmSQAXOkARKGoYkUOI5hkqgJl/RY1GO0d7AB2sp8W4dtfgGe7jDUaB27TuCxya8K8wssRkmdv20ZjtenTUf+3//GkqFXJJn+lMJCZQPSkNHv4a+3Tti9IgBQkk2kBOmf4LDWxaA4ziagfLnLavAMiRQgcMngQqcIQmUNAxJoMRzDIVA7Sw2Y+hZrVvjfmgUjm5RgQuNTaAWfDAJ9455HW+8OAr33NnN/ry0jBz0Gj4B3bt0wD133oaWTeujTu1E8bBE3kEC5QNYxzvG4q1JjwkSxa4jJ85h2BPTsXPVx4iNjkR2gUEkct/FlQoOMRFKGMw8CotLjd73nVTClUBCjCooY1STSCvkHKLCFMijdzGgYQ9TySGXAcU6c0D11PSbo8MVMJgs0BstNR2FX/1nPwODfc3NNGBmuvvvwpdTVHgmKfDn2yYuIsLDhK6sW/wuEuJjnLrFYp/mzf8F+w6dEL7esF4KXnrqfkGqgnWRQHkhy/M82tz+KD6Z+Txu69xeKHn63GUMfGQqfl/6PlJTEoI1LlQvESACRIAIEIEqQWBprgnPX9a5tXVO3TDcG68IuA82gZry7IP4/ueNiI2JwvzZk4SwGterqFiLE2cuYtHyDWCxUn+t/gQxUREBt8FTBSRQPrCyGai3Jz+OPrfdKJR0nYEKxl9BbOclWzax8DyMJj4oA19TKlUrZfSXaoCDzd5HNgtloHcxIJJyGQeOA0xm+p4OBKRSzgk/G800AeUXRvYzMNhXjplHtxMasP+3XbXkHLY3jwD7/0Avxxioi1cyMOSxV3Frp7aYNe1JyOUyaLR6RIQ7x1uxcv0eeAnffDAZHTu0DLQJHu8ngfKBlcVA9bv9Jjz+wJ1CSdcYqKCMClVKBIgAESACRIAIVGoCJFA+hodtg/xx9TZhFx4z3LGTZjvtwqvUo0uNIwJEgAgQASJABIJCgATKB9ZijQ4T3/gU23cdEEq2adEYc99+DsmJcUEZEKqUCBABIkAEiAARqPwESKD8HKP8wmIYjSZ7Ak0/byt3saycfERGhHsMkit3pdXgRhbYb7ZYoJB73hrrjZvBYERufpEgvywFhetVVrb5aoDNqQtanQG5eQWonZzg8agDi4VHRnau8K574uyLU015d1mwam5+IWrFxSAywro7yPHy9b554+RrDKrbO+mtP97eN1+cfI1BTeJIfZWeAAmU9EwDqvHC5XRhmfD8pXShniH9u+HVCQ+HNDlYQB0I8s0sXf+cL5dj8/I5Tk/yxo1J16eLVuLjBb8I99SKi8a8GeOF9P/s8pVtPshdCmn1z0z90J5Vn3G4u9+teGHscHsbtv11QJhxZUzY9doLj2D4Xd394lRT3l3GZsTTb+HEmUt2bg8M7onJ40YIAa2+3jdfnLyNQUhflhA+jPX5qZfnOO149vV96Y2TrzEIYdfoUdWYAAlUJRvcJ158D1GR4Xh78mhczcjG8DGv49XnR+KuPl0qWUtD2xz2S2f0xPdwKS0TKUnxbgLljZstzf+3c6egbcsm+Ojrn7Fm01/4felsYQbGV7b50PY0uE9jeVL6dO+IBnWTsWvvETw95QP88OmraNuqCdjMVLfBz2LcqMEYMaQXtu7cj+emzcX6JbNQLzXJJ6ea8u6ymadvlq7DoH5dUSclETv/OSz80cPer+vbNrcfK1HW++aNk68xCO7bUTG1Hz99UTiGgwmTY8oYb9+Xvjj5+p6vmJ7SU6sbARKoSjSibJmwy11PC2f3XNemmdCytz/8FlczcoS4q5p8sdO12ZLH5j/+xVeLVzsJlC9u73+2DEdPncdX770oIMzIysPtQ8fjxy9fR6tmDeEr23x15t5j2PO4b1APPPHgXbDNAvy74UuoVEqh2/0fnCTI1Ighvb1yKijS1Nh315YbbsWCt3FN47rw9r6x7Mjevsd9jUF1exczs/Nw79jXMeGJ4Xh99kK89+qT9px73r4vt+86KMxYlfWu+vqer24cqT8VQ4AEqmK4e3yq7Qfx1p8+QFKCNUj92x83YMX6P4Vf9nQBazfvxqxPf3ASKF/c2JJUfGwUpj73kB3htd0fsf+16yvbfHXlzpaJmSDZ/upftmorvlm6Fr999469y2zJr1H9VGGZzxunrOw8IcFsTXp32WzospVb8PuOvejf42Zh5o5d3t63eqmJXjn5GoPq9C6yWaRHnpspHAbL2LH3y1GgvL1v67f+7fVd9fU9X504Ul8qjgAJVMWxd3uybdrZdkwMK8B+oH62aIXbklUlanZIm+JJoHxxY0smLZo2cIr1YT+cp098BP17dKqR2ebZ7tIHx72FqMgIIdEci91hSybrtuxxknX2iygqIhyvvfCwV05XM3OEZZia9O4ePXken3+7CnsPHsdtnTvgNRarqFTA2/tWJyXBKydvY8De1+pyseBv9m6xi0kTW0p3FChfp0Cs2bSrzHeVcfI2Bnf2vLm6YKR+VDABEqgKHgDHx9tmUrb9/KF9tx/NQDkPkLcZqLK4sR/ULGCaHQNgu1xnoLxlm69Er4gkTWF/+T837SNhaXjRR1MQFxsl1Otr9sNbVn7bDFRNfHfZEnKv4S9g2vMPYWCfroIYlPW+2WagyuLkawwkeQEqQSW2ZfShA25DZMn5ZguXrxfOLWMM2dmj3t43f2agvH3PVwIE1IRqQIAEqhINoqdYnjfnLEJGVm6Nj4GyDZMngfLFjcVDHD99AV/MmihU4ykGqqZkm2exSs++8hG0Wj0+f/cFuzwxLrb4m/0bvxJmUtjV9/4XMXJYH3sMVFmcPMVA1aR3ly2FDr7jVoweMUCIgSrrffMUA+XIydcYVKIfVwE1hQWMf/fTRqc6PvzqJwzo3RkDenUWlvW8nQJhi4Eq61319T0fUOPpZiJQQoAEqpK9Co9PnIWYqEjh/D3ahVc6OGxK32QyC9P2LI3B+sWzwMk4e54ib9xKd+RMFXabffjVj/ht0y77Lryakm2enRd139jXwQLy57w+TtjtyS6ZTIbU5FrCeVId7xiDSU/fjwc87MLzxammvLvsfTp68gJ63XoD4mIiwZaTXnnna2E274Z2jrvwPL9v3jj5GoNK9uNK0ua4xkB5e998cfL1PS9pw6myGkuABKqSDf3ZC2nClmgWoMquu/vdgukvPGKfEahkzQ1Zc06dvYxBj051eh5L7fC/KU8IX/PGjcnXvAW/4LNFK4WyEeFh+GLWC/adjjUl23x6Zi7YrjvXiy117Ph1rvDlzX/+CxY4brteGf8Q7r+7p/BPX5xqyrt76OgZYQdYTl6hnROTzpHD+gr/9vW++eLkbQxC9g1XAQ9yFShf75s3Tr7GoAK6R4+shgRIoCrpoLJfdmyGwFOG40ra5ErRLG/cdHoDcnLLzsAd6mzzlQKYh0aYzRawoPDkhDiP4u6LU014d9kv6LyCIrCcUCyju1Lhnhnf1/vmjZOvMais704w2uXtffPFydcYBKO9VGfNIUACVXPGmnpKBIgAESACRIAISESABEoikFQNESACRIAIEAEiUHMIkEDVnLGmnhIBIkAEiAARIAISESCBkggkVUMEiAARIAJEgAjUHAIkUDVnrKmnRIAIEAEiQASIgEQESKAkAknVEAEiQASIABEgAjWHAAlUzRlr6ikRIAJEgAgQASIgEQESKIlAUjVEgAgQASJABIhAzSFAAlVzxpp6SgSIABEgAkSACEhEgARKIpBUDREgAkSACBABIlBzCJBA1Zyxpp4SASJABIgAESACEhEggZIIJFVDBIgAESACRIAI1BwCJFA1Z6ypp0SACBABIkAEiIBEBEigJAJJ1RABIkAEiAARIAI1hwAJVM0Za+opESACRIAIEAEiIBEBEiiJQFI1RCBYBC5czsCps5c8Vn/Tda1w8uwlXLqSibv6dAlWE0JWr62vqSkJaNWsodNz0zNz8d/xs4iPi8Z1bZqFrE2ODzp45DRmzluMj958BkkJcfj38Mlqw75CgNJDiUAVJkACVYUHj5peMwh8//PvmPHRdx47+8v8t7D459+xfPVW/Lf1myoPxNbXWnHR+H3ZbKhVSnufJs/4Aqs27ESn61ph/pxJAfV1979HMer5d7D2+3fRoG6y33X9+fdhPPHie1i/ZBbqpSZh+nvfOLH/ZOEKLPnld+z4da7fdVJBIkAEqiYBEqiqOW7U6hpEwCYVO1d9jIjwMKeeKxVyaLR6GE0mxEZHVnkqjrL4xoujcM+d3YQ+Xb6ahT73TRT+WwqB2rX3CB574V2s/f4dNKib4jc3V4FyZf/xgl/ww4rNJFB+E6WCRKDqEiCBqrpjRy2vIQRsUvH32s8REa526zWbffrrn/8we/rTwmfT3p2Pxg1qo1njesKMTUZ2Hj588xlERYTju5834qfV23D6/BU0b1IPY0cOQt/uHYX7WB3vf74M5y+lQ6PVCZ8/et8dGNinq/C5VmfA6ImzMOahuwSh2bH7IOJiovDK+JHC1/v3vBn/HDiGHbsPITW5Fl4Yey8Sa8Xiw69+xL+HT6Hzja3x2P13on3rpmWOnK2vI4b0xra/9mPNd/+DQi7HOx8vwb6DJxAdHQGL2WKfgTIaTfh00Qqs+X0XLqVlCnLFnntti0bCMw4cOY1Zn/yA1198FL9t2iX8+8Z2LbFywx9CP9kyYZhahWsa1cX0iY/gm6XrsGzVFmRm5wv3t7+2KZ4ZNcTeZleBcmTPeEyZ+SVy8grtS4yM7aY/9qF/j04YPvB2e7/PXEjDq+/Ox4Qxw3B92+Y15E2mbhKB6kWABKp6jSf1phoSsEnFV++9CLVaZe8hW0JKTozDR1//hF/X/YHNy+cInw0d/RqOnjwv/Hf3Lh0gl8vw5ouP4esla7Dk1824/+4eaNe6KdZt2YO1m3dj8SfTBEFYv3UPdu07ig7XXiNIxeY/92H1xr/w7dypuL5tMxQWaXDzgKeEetkSW8cOrRAbE4kJTwyzf53FYbG6Vm7YCRYvJLRnwG1o0bQBlq/aArPZgpULZ/gUqA0/vCfMOM2a9qQgXrcMegbzZjyHJb9sgslktguUbQmNPYPJ0KLl6wUxWrf4XdSvkyxI3thJs4XnNW1YB62aN0SLJvWRlpGNxb9swlMPD0Kt+BihP32734S5838W2ti8SX2YzWZ899NGMNnZ8uMcREWGw1WgHNkzKX1n3mKhzCvjHxKe2fKaBvj2x434e/9RbPnpA0EG2fW/eYvx05rt+GPFXKdlymr4+lKXiEC1JUACVW2HljpWXQiUFQM16en7MXJYX48CpVQq8PGM8YIYsCs7twDdBj+LCWOG47H7+wtfM5nN6DzgaWGZbPK4B+y4eJ5HQaEG2XkFuGvky5g49l5hJsomUPcO6oGXxz0A9gx22b4+9bmH8MDgnsLX2EzPA0+9KQhQ/56dhK/ZZGbT8tmonVTL4/DY+sriudhszuFjZ9GvRyes27wbvy54G2MnvW8XqIysPNw+dDxG3dcfL4wdLtSXl1+EroPGYcSQXpjy7IP2Z86cMto+k8bK+VrCY2xYXX/vP4aJb3yKJZ9ME6TTm0Cxej0t4f1z4Dgefm4m5r71LHrccj2KNTrc1H+sIG9PPzq4urym1A8iUOMIkEDVuCGnDlc1AjapYAHPjkt4kRHhCA9TeRSotq2a4LUJD9u7avslzmatoqMi7F9nM1VslorJVm5+Id77dCk2bPtHWMKzXeyXPPtlbxMlRylyFCjHr1+8koF+D7yEz955Abd2aitUdeTEOQx7YrpdRjyNg6NAsd2Fdz/6ilDs3WljcWfPm4UAbtsMlC0Q/LN3JuDWTu3s1bEZuPAwNb6dO8UuUCwgnS0r2q6yBOrYqQt477OlwnKm47VgzmTcdF3LcgkUE9JBj0xFclI82CzislVb8fr738CbSFa1d5TaSwRqIgESqJo46tTnKkXAVwyUpyU8V4FicUls9obNyrjuOouLjUbblo1x/1Nv4tKVDEx+ZoTw78Raceh7/0TcP7iXaIG6cjULve+b6CRQTE7uefxVvwWKDdIzUz/EfyfOgS3pseUvR4Gy9YmJkmMc0SPj/we9wSg8xzbr5Y9A5RcWo8tdTwszTc+OGoImDeugoKhYkLhABIr1wyZNqxbNxPhpc3FN43qYPd26HEoXESACVZMACVTVHDdqdQ0iIIVAsfxKd4x4SZiVcgxmZhjZDAlbVup055N4/olhePyBO+10b737mQoVKLaMpjMY7Et+jgLFYp36PzgJ40YNxpMjBwltZoHuN/Z7AoP6dsWMl0eXKVAsf9OD497GrwveEoLt2WUTsu/mTbUHgV+4nI47RkzyW6C+WrwGn3+7Cn+v/czpDbUt27HA/BNnLtnjyugHDiMAAATrSURBVGrQa0xdJQLVjgAJVLUbUupQdSMghUAxJs9O+wibduzD6xMfxQ3tmgtxUdt3HYBMJsP40UOF4HO5TCbsYmMB1D/9tl0IMi/PEp5UM1CuY+koUOyzxyfOwvFTF4Sdci2uaYCFy9YLwfA2CSprBspgMOK6PqOFWKmhA7qjqFiLRvVrgwkjk6/7BvVAelauIENsmdPfGSgWOM9m8t6a9BhaN28EjuOE3YzsYjsJWZA7+zfL30UXESACVZsACVTVHj9qfQ0gYBOof9Z9IcQ8uV5s59gva3fYd+HdO+Z1tG7RyCkGit3Dlqg++PJHLFu5xV4FCzJny3p39OgkxPe8MXuhkA6AXQN6dxZ24dlmeJhksFkq1xgoT19PS89Gr3tfwBezJqJrxzZCfcdPX8SQx6bhh09fBVti9HQ5xkB5+pwJlIXnhVgidrFA8slvfw4WD2W7mLwMvuNW4Z/eAtcXLl+Pr75fLaQdYMt2bMmPpTH4+Jtf7TFgd/e7Rdjh+M0Hk9GxQ0shNopJG1tSrFs7Udi158ie7eCb+s5XQvoIdo0dOVCQO3bZ4tAc21cDXl/qIhGotgRIoKrt0FLHiIBnAmyHWWZWHsLCVIiPte7Ss11sOe/cxavC1v6qlJiTLfWxeKU6tRPtqQL8GX/GIisnX8hXZUsxwOKn2Axa7eQEj8LqT70sCJ8l2UyIjxFmodjF8lGxWKjtv3xU7nr9eTaVIQJEIDQESKBCw5meQgSIQA0mUFCkQecBTwlJSJ997J4aTIK6TgSqDwESqOozltQTIkAEKimBzX/sE+KpPnhjHNhByXQRASJQ9QmQQFX9MaQeEAEiQASIABEgAiEmQAIVYuD0OCJABIgAESACRKDqEyCBqvpjSD0gAkSACBABIkAEQkyABCrEwOlxRIAIEAEiQASIQNUnQAJV9ceQekAEiAARIAJEgAiEmAAJVIiB0+OIABEgAkSACBCBqk+ABKrqjyH1gAgQASJABIgAEQgxARKoEAOnxxEBIkAEiAARIAJVnwAJVNUfQ+oBESACRIAIEAEiEGICJFAhBk6PIwJEgAgQASJABKo+ARKoqj+G1AMiQASIABEgAkQgxARIoEIMnB5HBIgAESACRIAIVH0CJFBVfwypB0SACBABIkAEiECICZBAhRg4PY4IEAEiQASIABGo+gRIoKr+GFIPiAARIAJEgAgQgRATIIEKMXB6HBEgAkSACBABIlD1CZBAVf0xpB4QASJABIgAESACISZAAhVi4PQ4IkAEiAARIAJEoOoTIIGq+mNIPSACRIAIEAEiQARCTIAEKsTA6XFEgAgQASJABIhA1SdAAlX1x5B6QASIABEgAkSACISYAAlUiIHT44gAESACRIAI/L/dOigBAABAINa/tS2EgyUQ50cCfQEHqr+hBgQIECBAgMBZwIE6g4sjQIAAAQIE+gIOVH9DDQgQIECAAIGzgAN1BhdHgAABAgQI9AUcqP6GGhAgQIAAAQJnAQfqDC6OAAECBAgQ6As4UP0NNSBAgAABAgTOAg7UGVwcAQIECBAg0BdwoPobakCAAAECBAicBRyoM7g4AgQIECBAoC/gQPU31IAAAQIECBA4CzhQZ3BxBAgQIECAQF/AgepvqAEBAgQIECBwFnCgzuDiCBAgQIAAgb6AA9XfUAMCBAgQIEDgLDCDCQjDy4iuKwAAAABJRU5ErkJggg==",
      "text/html": [
       "<div>                            <div id=\"e70a0877-47f4-439d-9ac7-e04994e9383c\" class=\"plotly-graph-div\" style=\"height:500px; width:100%;\"></div>            <script type=\"text/javascript\">                require([\"plotly\"], function(Plotly) {                    window.PLOTLYENV=window.PLOTLYENV || {};                                    if (document.getElementById(\"e70a0877-47f4-439d-9ac7-e04994e9383c\")) {                    Plotly.newPlot(                        \"e70a0877-47f4-439d-9ac7-e04994e9383c\",                        [{\"hovertemplate\":\"STATE=AL<br>Firearm Mortality=%{x}<br>Firearm Mortality Rate=%{y}<extra></extra>\",\"legendgroup\":\"AL\",\"marker\":{\"color\":\"#636efa\",\"symbol\":\"circle\"},\"mode\":\"markers\",\"name\":\"AL\",\"orientation\":\"v\",\"showlegend\":true,\"x\":[1315,1141,1076,1064,1124,1046,958,815,736],\"xaxis\":\"x\",\"y\":[26.4,23.6,22.2,21.8,22.9,21.5,19.6,16.9,16.0],\"yaxis\":\"y\",\"type\":\"scatter\"},{\"hovertemplate\":\"STATE=AK<br>Firearm Mortality=%{x}<br>Firearm Mortality Rate=%{y}<extra></extra>\",\"legendgroup\":\"AK\",\"marker\":{\"color\":\"#EF553B\",\"symbol\":\"circle\"},\"mode\":\"markers\",\"name\":\"AK\",\"orientation\":\"v\",\"showlegend\":true,\"x\":[182,175,179,155,180,177,177,145,116],\"xaxis\":\"x\",\"y\":[25.2,23.5,24.4,21.0,24.5,23.3,23.4,19.2,17.5],\"yaxis\":\"y\",\"type\":\"scatter\"},{\"hovertemplate\":\"STATE=AZ<br>Firearm Mortality=%{x}<br>Firearm Mortality Rate=%{y}<extra></extra>\",\"legendgroup\":\"AZ\",\"marker\":{\"color\":\"#00cc96\",\"symbol\":\"circle\"},\"mode\":\"markers\",\"name\":\"AZ\",\"orientation\":\"v\",\"showlegend\":true,\"x\":[1365,1265,1136,1147,1134,1094,970,927,934],\"xaxis\":\"x\",\"y\":[18.3,16.7,15.1,15.3,15.8,15.2,13.8,13.5,16.1],\"yaxis\":\"y\",\"type\":\"scatter\"},{\"hovertemplate\":\"STATE=AR<br>Firearm Mortality=%{x}<br>Firearm Mortality Rate=%{y}<extra></extra>\",\"legendgroup\":\"AR\",\"marker\":{\"color\":\"#ab63fa\",\"symbol\":\"circle\"},\"mode\":\"markers\",\"name\":\"AR\",\"orientation\":\"v\",\"showlegend\":true,\"x\":[698,673,580,573,613,541,520,496,439],\"xaxis\":\"x\",\"y\":[23.3,22.6,19.3,18.9,20.3,17.8,16.9,16.6,15.7],\"yaxis\":\"y\",\"type\":\"scatter\"},{\"hovertemplate\":\"STATE=CA<br>Firearm Mortality=%{x}<br>Firearm Mortality Rate=%{y}<extra></extra>\",\"legendgroup\":\"CA\",\"marker\":{\"color\":\"#FFA15A\",\"symbol\":\"circle\"},\"mode\":\"markers\",\"name\":\"CA\",\"orientation\":\"v\",\"showlegend\":true,\"x\":[3576,3449,2945,3040,3184,3184,3095,2942,3453],\"xaxis\":\"x\",\"y\":[9.0,8.5,7.2,7.5,7.9,7.9,7.7,7.4,9.5],\"yaxis\":\"y\",\"type\":\"scatter\"},{\"hovertemplate\":\"STATE=CO<br>Firearm Mortality=%{x}<br>Firearm Mortality Rate=%{y}<extra></extra>\",\"legendgroup\":\"CO\",\"marker\":{\"color\":\"#19d3f3\",\"symbol\":\"circle\"},\"mode\":\"markers\",\"name\":\"CO\",\"orientation\":\"v\",\"showlegend\":true,\"x\":[1064,922,846,889,779,812,701,663,535],\"xaxis\":\"x\",\"y\":[17.8,15.4,14.2,15.2,13.4,14.3,12.6,12.2,11.6],\"yaxis\":\"y\",\"type\":\"scatter\"},{\"hovertemplate\":\"STATE=CT<br>Firearm Mortality=%{x}<br>Firearm Mortality Rate=%{y}<extra></extra>\",\"legendgroup\":\"CT\",\"marker\":{\"color\":\"#FF6692\",\"symbol\":\"circle\"},\"mode\":\"markers\",\"name\":\"CT\",\"orientation\":\"v\",\"showlegend\":true,\"x\":[248,219,190,186,188,172,189,187,187],\"xaxis\":\"x\",\"y\":[6.7,6.0,5.3,4.9,5.1,4.6,5.3,5.0,5.3],\"yaxis\":\"y\",\"type\":\"scatter\"},{\"hovertemplate\":\"STATE=DE<br>Firearm Mortality=%{x}<br>Firearm Mortality Rate=%{y}<extra></extra>\",\"legendgroup\":\"DE\",\"marker\":{\"color\":\"#B6E880\",\"symbol\":\"circle\"},\"mode\":\"markers\",\"name\":\"DE\",\"orientation\":\"v\",\"showlegend\":true,\"x\":[158,135,93,107,111,111,112,102,75],\"xaxis\":\"x\",\"y\":[16.6,14.4,9.9,11.6,11.7,11.0,12.1,11.1,8.8],\"yaxis\":\"y\",\"type\":\"scatter\"},{\"hovertemplate\":\"STATE=FL<br>Firearm Mortality=%{x}<br>Firearm Mortality Rate=%{y}<extra></extra>\",\"legendgroup\":\"FL\",\"marker\":{\"color\":\"#FF97FF\",\"symbol\":\"circle\"},\"mode\":\"markers\",\"name\":\"FL\",\"orientation\":\"v\",\"showlegend\":true,\"x\":[3142,3041,2872,2902,2724,2704,2559,2410,1838],\"xaxis\":\"x\",\"y\":[14.1,13.7,12.7,12.9,12.4,12.6,12.0,11.5,10.0],\"yaxis\":\"y\",\"type\":\"scatter\"},{\"hovertemplate\":\"STATE=GA<br>Firearm Mortality=%{x}<br>Firearm Mortality Rate=%{y}<extra></extra>\",\"legendgroup\":\"GA\",\"marker\":{\"color\":\"#FECB52\",\"symbol\":\"circle\"},\"mode\":\"markers\",\"name\":\"GA\",\"orientation\":\"v\",\"showlegend\":true,\"x\":[2200,1897,1695,1680,1623,1571,1448,1391,1064],\"xaxis\":\"x\",\"y\":[20.3,17.7,15.8,15.7,15.4,15.0,14.1,13.7,12.1],\"yaxis\":\"y\",\"type\":\"scatter\"},{\"hovertemplate\":\"STATE=HI<br>Firearm Mortality=%{x}<br>Firearm Mortality Rate=%{y}<extra></extra>\",\"legendgroup\":\"HI\",\"marker\":{\"color\":\"#636efa\",\"symbol\":\"circle\"},\"mode\":\"markers\",\"name\":\"HI\",\"orientation\":\"v\",\"showlegend\":true,\"x\":[71,50,62,59,39,66,55,40,28],\"xaxis\":\"x\",\"y\":[4.8,3.4,4.4,4.0,2.5,4.5,3.6,2.6,2.1],\"yaxis\":\"y\",\"type\":\"scatter\"},{\"hovertemplate\":\"STATE=ID<br>Firearm Mortality=%{x}<br>Firearm Mortality Rate=%{y}<extra></extra>\",\"legendgroup\":\"ID\",\"marker\":{\"color\":\"#EF553B\",\"symbol\":\"circle\"},\"mode\":\"markers\",\"name\":\"ID\",\"orientation\":\"v\",\"showlegend\":true,\"x\":[309,321,255,294,280,242,247,213,195],\"xaxis\":\"x\",\"y\":[16.3,17.6,14.2,16.6,16.4,14.6,14.7,13.2,14.1],\"yaxis\":\"y\",\"type\":\"scatter\"},{\"hovertemplate\":\"STATE=IL<br>Firearm Mortality=%{x}<br>Firearm Mortality Rate=%{y}<extra></extra>\",\"legendgroup\":\"IL\",\"marker\":{\"color\":\"#00cc96\",\"symbol\":\"circle\"},\"mode\":\"markers\",\"name\":\"IL\",\"orientation\":\"v\",\"showlegend\":true,\"x\":[1995,1745,1367,1382,1543,1490,1220,1179,1019],\"xaxis\":\"x\",\"y\":[16.1,14.1,10.8,10.9,12.1,11.7,9.5,9.0,8.0],\"yaxis\":\"y\",\"type\":\"scatter\"},{\"hovertemplate\":\"STATE=IN<br>Firearm Mortality=%{x}<br>Firearm Mortality Rate=%{y}<extra></extra>\",\"legendgroup\":\"IN\",\"marker\":{\"color\":\"#ab63fa\",\"symbol\":\"circle\"},\"mode\":\"markers\",\"name\":\"IN\",\"orientation\":\"v\",\"showlegend\":true,\"x\":[1251,1159,958,977,1016,997,846,818,705],\"xaxis\":\"x\",\"y\":[18.4,17.3,14.1,14.7,15.3,15.0,12.7,12.4,11.2],\"yaxis\":\"y\",\"type\":\"scatter\"},{\"hovertemplate\":\"STATE=IA<br>Firearm Mortality=%{x}<br>Firearm Mortality Rate=%{y}<extra></extra>\",\"legendgroup\":\"IA\",\"marker\":{\"color\":\"#FFA15A\",\"symbol\":\"circle\"},\"mode\":\"markers\",\"name\":\"IA\",\"orientation\":\"v\",\"showlegend\":true,\"x\":[364,351,294,282,293,288,247,241,201],\"xaxis\":\"x\",\"y\":[11.2,11.2,9.1,8.7,9.0,9.2,7.8,7.5,6.7],\"yaxis\":\"y\",\"type\":\"scatter\"},{\"hovertemplate\":\"STATE=KS<br>Firearm Mortality=%{x}<br>Firearm Mortality Rate=%{y}<extra></extra>\",\"legendgroup\":\"KS\",\"marker\":{\"color\":\"#19d3f3\",\"symbol\":\"circle\"},\"mode\":\"markers\",\"name\":\"KS\",\"orientation\":\"v\",\"showlegend\":true,\"x\":[503,494,403,424,466,383,330,329,257],\"xaxis\":\"x\",\"y\":[17.3,16.9,13.7,14.8,16.0,13.4,11.4,11.3,9.3],\"yaxis\":\"y\",\"type\":\"scatter\"},{\"hovertemplate\":\"STATE=KY<br>Firearm Mortality=%{x}<br>Firearm Mortality Rate=%{y}<extra></extra>\",\"legendgroup\":\"KY\",\"marker\":{\"color\":\"#FF6692\",\"symbol\":\"circle\"},\"mode\":\"markers\",\"name\":\"KY\",\"orientation\":\"v\",\"showlegend\":true,\"x\":[947,902,682,762,730,772,694,634,548],\"xaxis\":\"x\",\"y\":[21.1,20.1,14.9,16.9,16.2,17.5,15.2,13.9,13.0],\"yaxis\":\"y\",\"type\":\"scatter\"},{\"hovertemplate\":\"STATE=LA<br>Firearm Mortality=%{x}<br>Firearm Mortality Rate=%{y}<extra></extra>\",\"legendgroup\":\"LA\",\"marker\":{\"color\":\"#B6E880\",\"symbol\":\"circle\"},\"mode\":\"markers\",\"name\":\"LA\",\"orientation\":\"v\",\"showlegend\":true,\"x\":[1314,1183,1013,991,1008,987,952,896,858],\"xaxis\":\"x\",\"y\":[29.1,26.3,22.1,21.4,21.7,21.3,20.4,19.0,18.5],\"yaxis\":\"y\",\"type\":\"scatter\"},{\"hovertemplate\":\"STATE=ME<br>Firearm Mortality=%{x}<br>Firearm Mortality Rate=%{y}<extra></extra>\",\"legendgroup\":\"ME\",\"marker\":{\"color\":\"#FF97FF\",\"symbol\":\"circle\"},\"mode\":\"markers\",\"name\":\"ME\",\"orientation\":\"v\",\"showlegend\":true,\"x\":[178,153,163,159,172,123,144,133,109],\"xaxis\":\"x\",\"y\":[12.6,10.4,11.5,10.3,11.7,8.3,9.8,9.4,7.8],\"yaxis\":\"y\",\"type\":\"scatter\"},{\"hovertemplate\":\"STATE=MD<br>Firearm Mortality=%{x}<br>Firearm Mortality Rate=%{y}<extra></extra>\",\"legendgroup\":\"MD\",\"marker\":{\"color\":\"#FECB52\",\"symbol\":\"circle\"},\"mode\":\"markers\",\"name\":\"MD\",\"orientation\":\"v\",\"showlegend\":true,\"x\":[915,803,757,707,742,707,708,546,657],\"xaxis\":\"x\",\"y\":[15.2,13.5,12.6,11.7,12.3,11.9,11.9,9.0,11.9],\"yaxis\":\"y\",\"type\":\"scatter\"},{\"hovertemplate\":\"STATE=MA<br>Firearm Mortality=%{x}<br>Firearm Mortality Rate=%{y}<extra></extra>\",\"legendgroup\":\"MA\",\"marker\":{\"color\":\"#636efa\",\"symbol\":\"circle\"},\"mode\":\"markers\",\"name\":\"MA\",\"orientation\":\"v\",\"showlegend\":true,\"x\":[247,268,247,258,262,242,213,226,224],\"xaxis\":\"x\",\"y\":[3.4,3.7,3.4,3.5,3.7,3.4,3.0,3.2,3.4],\"yaxis\":\"y\",\"type\":\"scatter\"},{\"hovertemplate\":\"STATE=MI<br>Firearm Mortality=%{x}<br>Firearm Mortality Rate=%{y}<extra></extra>\",\"legendgroup\":\"MI\",\"marker\":{\"color\":\"#EF553B\",\"symbol\":\"circle\"},\"mode\":\"markers\",\"name\":\"MI\",\"orientation\":\"v\",\"showlegend\":true,\"x\":[1544,1454,1220,1310,1138,1230,1164,1095,1074],\"xaxis\":\"x\",\"y\":[15.4,14.6,12.1,12.9,11.3,12.3,11.7,11.1,10.8],\"yaxis\":\"y\",\"type\":\"scatter\"},{\"hovertemplate\":\"STATE=MN<br>Firearm Mortality=%{x}<br>Firearm Mortality Rate=%{y}<extra></extra>\",\"legendgroup\":\"MN\",\"marker\":{\"color\":\"#00cc96\",\"symbol\":\"circle\"},\"mode\":\"markers\",\"name\":\"MN\",\"orientation\":\"v\",\"showlegend\":true,\"x\":[573,513,465,437,465,432,410,377,361],\"xaxis\":\"x\",\"y\":[10.0,8.9,8.1,7.8,8.2,7.6,7.4,6.6,7.0],\"yaxis\":\"y\",\"type\":\"scatter\"},{\"hovertemplate\":\"STATE=MS<br>Firearm Mortality=%{x}<br>Firearm Mortality Rate=%{y}<extra></extra>\",\"legendgroup\":\"MS\",\"marker\":{\"color\":\"#ab63fa\",\"symbol\":\"circle\"},\"mode\":\"markers\",\"name\":\"MS\",\"orientation\":\"v\",\"showlegend\":true,\"x\":[962,818,710,681,632,587,589,547,455],\"xaxis\":\"x\",\"y\":[33.9,28.6,24.2,22.9,21.5,19.9,19.6,18.3,16.0],\"yaxis\":\"y\",\"type\":\"scatter\"},{\"hovertemplate\":\"STATE=MO<br>Firearm Mortality=%{x}<br>Firearm Mortality Rate=%{y}<extra></extra>\",\"legendgroup\":\"MO\",\"marker\":{\"color\":\"#FFA15A\",\"symbol\":\"circle\"},\"mode\":\"markers\",\"name\":\"MO\",\"orientation\":\"v\",\"showlegend\":true,\"x\":[1414,1426,1252,1311,1307,1144,1094,943,752],\"xaxis\":\"x\",\"y\":[23.2,23.9,20.6,21.5,21.5,19.0,18.1,15.3,12.9],\"yaxis\":\"y\",\"type\":\"scatter\"},{\"hovertemplate\":\"STATE=MT<br>Firearm Mortality=%{x}<br>Firearm Mortality Rate=%{y}<extra></extra>\",\"legendgroup\":\"MT\",\"marker\":{\"color\":\"#19d3f3\",\"symbol\":\"circle\"},\"mode\":\"markers\",\"name\":\"MT\",\"orientation\":\"v\",\"showlegend\":true,\"x\":[280,238,209,186,244,194,205,172,161],\"xaxis\":\"x\",\"y\":[25.1,20.9,19.0,17.3,22.5,18.9,19.2,16.1,16.9],\"yaxis\":\"y\",\"type\":\"scatter\"},{\"hovertemplate\":\"STATE=NE<br>Firearm Mortality=%{x}<br>Firearm Mortality Rate=%{y}<extra></extra>\",\"legendgroup\":\"NE\",\"marker\":{\"color\":\"#FF6692\",\"symbol\":\"circle\"},\"mode\":\"markers\",\"name\":\"NE\",\"orientation\":\"v\",\"showlegend\":true,\"x\":[200,197,205,183,160,171,169,179,135],\"xaxis\":\"x\",\"y\":[10.3,10.1,10.4,9.0,8.3,9.1,8.9,9.5,7.7],\"yaxis\":\"y\",\"type\":\"scatter\"},{\"hovertemplate\":\"STATE=NV<br>Firearm Mortality=%{x}<br>Firearm Mortality Rate=%{y}<extra></extra>\",\"legendgroup\":\"NV\",\"marker\":{\"color\":\"#B6E880\",\"symbol\":\"circle\"},\"mode\":\"markers\",\"name\":\"NV\",\"orientation\":\"v\",\"showlegend\":true,\"x\":[633,547,490,550,508,498,446,429,390],\"xaxis\":\"x\",\"y\":[19.8,17.0,15.3,17.9,16.7,16.8,14.9,14.8,16.1],\"yaxis\":\"y\",\"type\":\"scatter\"},{\"hovertemplate\":\"STATE=NH<br>Firearm Mortality=%{x}<br>Firearm Mortality Rate=%{y}<extra></extra>\",\"legendgroup\":\"NH\",\"marker\":{\"color\":\"#FF97FF\",\"symbol\":\"circle\"},\"mode\":\"markers\",\"name\":\"NH\",\"orientation\":\"v\",\"showlegend\":true,\"x\":[123,128,156,155,146,132,121,122,88],\"xaxis\":\"x\",\"y\":[8.3,8.9,10.7,10.8,10.4,9.3,8.9,8.7,6.6],\"yaxis\":\"y\",\"type\":\"scatter\"},{\"hovertemplate\":\"STATE=NJ<br>Firearm Mortality=%{x}<br>Firearm Mortality Rate=%{y}<extra></extra>\",\"legendgroup\":\"NJ\",\"marker\":{\"color\":\"#FECB52\",\"symbol\":\"circle\"},\"mode\":\"markers\",\"name\":\"NJ\",\"orientation\":\"v\",\"showlegend\":true,\"x\":[475,443,368,420,478,485,475,468,434],\"xaxis\":\"x\",\"y\":[5.2,5.0,4.1,4.8,5.3,5.5,5.4,5.3,5.2],\"yaxis\":\"y\",\"type\":\"scatter\"},{\"hovertemplate\":\"STATE=NM<br>Firearm Mortality=%{x}<br>Firearm Mortality Rate=%{y}<extra></extra>\",\"legendgroup\":\"NM\",\"marker\":{\"color\":\"#636efa\",\"symbol\":\"circle\"},\"mode\":\"markers\",\"name\":\"NM\",\"orientation\":\"v\",\"showlegend\":true,\"x\":[578,479,471,438,394,383,390,340,267],\"xaxis\":\"x\",\"y\":[27.8,22.7,22.3,20.7,18.5,18.1,18.6,16.0,13.9],\"yaxis\":\"y\",\"type\":\"scatter\"},{\"hovertemplate\":\"STATE=NY<br>Firearm Mortality=%{x}<br>Firearm Mortality Rate=%{y}<extra></extra>\",\"legendgroup\":\"NY\",\"marker\":{\"color\":\"#EF553B\",\"symbol\":\"circle\"},\"mode\":\"markers\",\"name\":\"NY\",\"orientation\":\"v\",\"showlegend\":true,\"x\":[1078,1052,804,821,772,900,849,875,1019],\"xaxis\":\"x\",\"y\":[5.4,5.3,3.9,4.1,3.7,4.4,4.2,4.2,5.3],\"yaxis\":\"y\",\"type\":\"scatter\"},{\"hovertemplate\":\"STATE=NC<br>Firearm Mortality=%{x}<br>Firearm Mortality Rate=%{y}<extra></extra>\",\"legendgroup\":\"NC\",\"marker\":{\"color\":\"#00cc96\",\"symbol\":\"circle\"},\"mode\":\"markers\",\"name\":\"NC\",\"orientation\":\"v\",\"showlegend\":true,\"x\":[1839,1699,1397,1416,1430,1409,1289,1206,1119],\"xaxis\":\"x\",\"y\":[17.3,16.0,13.1,13.3,13.7,13.7,12.5,11.8,12.8],\"yaxis\":\"y\",\"type\":\"scatter\"},{\"hovertemplate\":\"STATE=ND<br>Firearm Mortality=%{x}<br>Firearm Mortality Rate=%{y}<extra></extra>\",\"legendgroup\":\"ND\",\"marker\":{\"color\":\"#ab63fa\",\"symbol\":\"circle\"},\"mode\":\"markers\",\"name\":\"ND\",\"orientation\":\"v\",\"showlegend\":true,\"x\":[128,100,93,89,103,90,92,96,61],\"xaxis\":\"x\",\"y\":[16.8,13.8,12.4,11.5,13.2,11.9,12.8,12.3,8.8],\"yaxis\":\"y\",\"type\":\"scatter\"},{\"hovertemplate\":\"STATE=OH<br>Firearm Mortality=%{x}<br>Firearm Mortality Rate=%{y}<extra></extra>\",\"legendgroup\":\"OH\",\"marker\":{\"color\":\"#FFA15A\",\"symbol\":\"circle\"},\"mode\":\"markers\",\"name\":\"OH\",\"orientation\":\"v\",\"showlegend\":true,\"x\":[1911,1764,1578,1555,1589,1524,1397,1211,1116],\"xaxis\":\"x\",\"y\":[16.5,15.2,13.3,13.1,13.7,12.9,11.9,10.3,9.6],\"yaxis\":\"y\",\"type\":\"scatter\"},{\"hovertemplate\":\"STATE=OK<br>Firearm Mortality=%{x}<br>Firearm Mortality Rate=%{y}<extra></extra>\",\"legendgroup\":\"OK\",\"marker\":{\"color\":\"#19d3f3\",\"symbol\":\"circle\"},\"mode\":\"markers\",\"name\":\"OK\",\"orientation\":\"v\",\"showlegend\":true,\"x\":[836,826,737,665,681,766,706,611,468],\"xaxis\":\"x\",\"y\":[21.2,20.7,18.6,16.8,17.2,19.6,18.0,15.7,13.2],\"yaxis\":\"y\",\"type\":\"scatter\"},{\"hovertemplate\":\"STATE=OR<br>Firearm Mortality=%{x}<br>Firearm Mortality Rate=%{y}<extra></extra>\",\"legendgroup\":\"OR\",\"marker\":{\"color\":\"#FF6692\",\"symbol\":\"circle\"},\"mode\":\"markers\",\"name\":\"OR\",\"orientation\":\"v\",\"showlegend\":true,\"x\":[670,592,566,519,528,513,486,497,402],\"xaxis\":\"x\",\"y\":[14.9,13.0,12.6,11.7,12.1,11.9,11.4,11.7,10.7],\"yaxis\":\"y\",\"type\":\"scatter\"},{\"hovertemplate\":\"STATE=PA<br>Firearm Mortality=%{x}<br>Firearm Mortality Rate=%{y}<extra></extra>\",\"legendgroup\":\"PA\",\"marker\":{\"color\":\"#B6E880\",\"symbol\":\"circle\"},\"mode\":\"markers\",\"name\":\"PA\",\"orientation\":\"v\",\"showlegend\":true,\"x\":[1905,1752,1541,1654,1636,1555,1485,1390,1352],\"xaxis\":\"x\",\"y\":[14.8,13.6,11.7,12.5,12.5,12.0,11.4,10.5,10.8],\"yaxis\":\"y\",\"type\":\"scatter\"},{\"hovertemplate\":\"STATE=RI<br>Firearm Mortality=%{x}<br>Firearm Mortality Rate=%{y}<extra></extra>\",\"legendgroup\":\"RI\",\"marker\":{\"color\":\"#FF97FF\",\"symbol\":\"circle\"},\"mode\":\"markers\",\"name\":\"RI\",\"orientation\":\"v\",\"showlegend\":true,\"x\":[64,54,48,37,43,49,51,34,39],\"xaxis\":\"x\",\"y\":[5.6,5.1,4.6,3.3,3.9,4.1,4.7,3.0,3.6],\"yaxis\":\"y\",\"type\":\"scatter\"},{\"hovertemplate\":\"STATE=SC<br>Firearm Mortality=%{x}<br>Firearm Mortality Rate=%{y}<extra></extra>\",\"legendgroup\":\"SC\",\"marker\":{\"color\":\"#FECB52\",\"symbol\":\"circle\"},\"mode\":\"markers\",\"name\":\"SC\",\"orientation\":\"v\",\"showlegend\":true,\"x\":[1136,1131,1012,895,893,891,850,767,589],\"xaxis\":\"x\",\"y\":[22.4,22.0,19.9,17.6,17.7,17.7,17.3,15.5,13.8],\"yaxis\":\"y\",\"type\":\"scatter\"},{\"hovertemplate\":\"STATE=SD<br>Firearm Mortality=%{x}<br>Firearm Mortality Rate=%{y}<extra></extra>\",\"legendgroup\":\"SD\",\"marker\":{\"color\":\"#636efa\",\"symbol\":\"circle\"},\"mode\":\"markers\",\"name\":\"SD\",\"orientation\":\"v\",\"showlegend\":true,\"x\":[128,120,113,117,101,108,96,89,82],\"xaxis\":\"x\",\"y\":[14.3,13.6,13.1,13.6,11.9,13.4,11.1,10.3,10.2],\"yaxis\":\"y\",\"type\":\"scatter\"},{\"hovertemplate\":\"STATE=TN<br>Firearm Mortality=%{x}<br>Firearm Mortality Rate=%{y}<extra></extra>\",\"legendgroup\":\"TN\",\"marker\":{\"color\":\"#EF553B\",\"symbol\":\"circle\"},\"mode\":\"markers\",\"name\":\"TN\",\"orientation\":\"v\",\"showlegend\":true,\"x\":[1569,1473,1270,1228,1246,1148,1075,1016,976],\"xaxis\":\"x\",\"y\":[22.8,21.3,18.4,17.8,18.4,17.1,16.0,15.1,16.0],\"yaxis\":\"y\",\"type\":\"scatter\"},{\"hovertemplate\":\"STATE=TX<br>Firearm Mortality=%{x}<br>Firearm Mortality Rate=%{y}<extra></extra>\",\"legendgroup\":\"TX\",\"marker\":{\"color\":\"#00cc96\",\"symbol\":\"circle\"},\"mode\":\"markers\",\"name\":\"TX\",\"orientation\":\"v\",\"showlegend\":true,\"x\":[4613,4164,3683,3522,3513,3353,3203,2848,2490],\"xaxis\":\"x\",\"y\":[15.6,14.2,12.7,12.2,12.4,12.1,11.7,10.7,11.1],\"yaxis\":\"y\",\"type\":\"scatter\"},{\"hovertemplate\":\"STATE=UT<br>Firearm Mortality=%{x}<br>Firearm Mortality Rate=%{y}<extra></extra>\",\"legendgroup\":\"UT\",\"marker\":{\"color\":\"#ab63fa\",\"symbol\":\"circle\"},\"mode\":\"markers\",\"name\":\"UT\",\"orientation\":\"v\",\"showlegend\":true,\"x\":[450,429,394,397,410,370,367,337,227],\"xaxis\":\"x\",\"y\":[13.9,13.6,12.8,13.2,14.0,12.9,12.8,12.3,10.1],\"yaxis\":\"y\",\"type\":\"scatter\"},{\"hovertemplate\":\"STATE=VT<br>Firearm Mortality=%{x}<br>Firearm Mortality Rate=%{y}<extra></extra>\",\"legendgroup\":\"VT\",\"marker\":{\"color\":\"#FFA15A\",\"symbol\":\"circle\"},\"mode\":\"markers\",\"name\":\"VT\",\"orientation\":\"v\",\"showlegend\":true,\"x\":[83,76,67,82,70,78,70,69,44],\"xaxis\":\"x\",\"y\":[11.9,11.6,9.3,12.8,11.7,11.1,9.6,10.3,6.8],\"yaxis\":\"y\",\"type\":\"scatter\"},{\"hovertemplate\":\"STATE=VA<br>Firearm Mortality=%{x}<br>Firearm Mortality Rate=%{y}<extra></extra>\",\"legendgroup\":\"VA\",\"marker\":{\"color\":\"#19d3f3\",\"symbol\":\"circle\"},\"mode\":\"markers\",\"name\":\"VA\",\"orientation\":\"v\",\"showlegend\":true,\"x\":[1248,1174,1025,1035,1041,1049,946,889,888],\"xaxis\":\"x\",\"y\":[14.3,13.4,11.7,11.8,11.9,12.1,10.9,10.3,11.5],\"yaxis\":\"y\",\"type\":\"scatter\"},{\"hovertemplate\":\"STATE=WA<br>Firearm Mortality=%{x}<br>Firearm Mortality Rate=%{y}<extra></extra>\",\"legendgroup\":\"WA\",\"marker\":{\"color\":\"#FF6692\",\"symbol\":\"circle\"},\"mode\":\"markers\",\"name\":\"WA\",\"orientation\":\"v\",\"showlegend\":true,\"x\":[896,864,842,809,849,686,718,702,567],\"xaxis\":\"x\",\"y\":[11.2,10.9,10.7,10.4,11.1,9.0,9.8,9.7,8.8],\"yaxis\":\"y\",\"type\":\"scatter\"},{\"hovertemplate\":\"STATE=WV<br>Firearm Mortality=%{x}<br>Firearm Mortality Rate=%{y}<extra></extra>\",\"legendgroup\":\"WV\",\"marker\":{\"color\":\"#B6E880\",\"symbol\":\"circle\"},\"mode\":\"markers\",\"name\":\"WV\",\"orientation\":\"v\",\"showlegend\":true,\"x\":[319,325,300,343,348,332,278,286,261],\"xaxis\":\"x\",\"y\":[17.3,18.1,16.6,18.2,18.6,17.5,14.0,14.6,13.8],\"yaxis\":\"y\",\"type\":\"scatter\"},{\"hovertemplate\":\"STATE=WI<br>Firearm Mortality=%{x}<br>Firearm Mortality Rate=%{y}<extra></extra>\",\"legendgroup\":\"WI\",\"marker\":{\"color\":\"#FF97FF\",\"symbol\":\"circle\"},\"mode\":\"markers\",\"name\":\"WI\",\"orientation\":\"v\",\"showlegend\":true,\"x\":[793,717,604,598,624,664,613,487,474],\"xaxis\":\"x\",\"y\":[13.5,12.2,10.0,10.1,10.6,11.4,10.4,8.2,8.5],\"yaxis\":\"y\",\"type\":\"scatter\"},{\"hovertemplate\":\"STATE=WY<br>Firearm Mortality=%{x}<br>Firearm Mortality Rate=%{y}<extra></extra>\",\"legendgroup\":\"WY\",\"marker\":{\"color\":\"#FECB52\",\"symbol\":\"circle\"},\"mode\":\"markers\",\"name\":\"WY\",\"orientation\":\"v\",\"showlegend\":true,\"x\":[155,154,133,124,113,101,113,93,71],\"xaxis\":\"x\",\"y\":[26.1,25.9,22.3,21.5,18.8,17.4,19.6,16.2,13.4],\"yaxis\":\"y\",\"type\":\"scatter\"}],                        {\"template\":{\"data\":{\"histogram2dcontour\":[{\"type\":\"histogram2dcontour\",\"colorbar\":{\"outlinewidth\":0,\"ticks\":\"\"},\"colorscale\":[[0.0,\"#0d0887\"],[0.1111111111111111,\"#46039f\"],[0.2222222222222222,\"#7201a8\"],[0.3333333333333333,\"#9c179e\"],[0.4444444444444444,\"#bd3786\"],[0.5555555555555556,\"#d8576b\"],[0.6666666666666666,\"#ed7953\"],[0.7777777777777778,\"#fb9f3a\"],[0.8888888888888888,\"#fdca26\"],[1.0,\"#f0f921\"]]}],\"choropleth\":[{\"type\":\"choropleth\",\"colorbar\":{\"outlinewidth\":0,\"ticks\":\"\"}}],\"histogram2d\":[{\"type\":\"histogram2d\",\"colorbar\":{\"outlinewidth\":0,\"ticks\":\"\"},\"colorscale\":[[0.0,\"#0d0887\"],[0.1111111111111111,\"#46039f\"],[0.2222222222222222,\"#7201a8\"],[0.3333333333333333,\"#9c179e\"],[0.4444444444444444,\"#bd3786\"],[0.5555555555555556,\"#d8576b\"],[0.6666666666666666,\"#ed7953\"],[0.7777777777777778,\"#fb9f3a\"],[0.8888888888888888,\"#fdca26\"],[1.0,\"#f0f921\"]]}],\"heatmap\":[{\"type\":\"heatmap\",\"colorbar\":{\"outlinewidth\":0,\"ticks\":\"\"},\"colorscale\":[[0.0,\"#0d0887\"],[0.1111111111111111,\"#46039f\"],[0.2222222222222222,\"#7201a8\"],[0.3333333333333333,\"#9c179e\"],[0.4444444444444444,\"#bd3786\"],[0.5555555555555556,\"#d8576b\"],[0.6666666666666666,\"#ed7953\"],[0.7777777777777778,\"#fb9f3a\"],[0.8888888888888888,\"#fdca26\"],[1.0,\"#f0f921\"]]}],\"heatmapgl\":[{\"type\":\"heatmapgl\",\"colorbar\":{\"outlinewidth\":0,\"ticks\":\"\"},\"colorscale\":[[0.0,\"#0d0887\"],[0.1111111111111111,\"#46039f\"],[0.2222222222222222,\"#7201a8\"],[0.3333333333333333,\"#9c179e\"],[0.4444444444444444,\"#bd3786\"],[0.5555555555555556,\"#d8576b\"],[0.6666666666666666,\"#ed7953\"],[0.7777777777777778,\"#fb9f3a\"],[0.8888888888888888,\"#fdca26\"],[1.0,\"#f0f921\"]]}],\"contourcarpet\":[{\"type\":\"contourcarpet\",\"colorbar\":{\"outlinewidth\":0,\"ticks\":\"\"}}],\"contour\":[{\"type\":\"contour\",\"colorbar\":{\"outlinewidth\":0,\"ticks\":\"\"},\"colorscale\":[[0.0,\"#0d0887\"],[0.1111111111111111,\"#46039f\"],[0.2222222222222222,\"#7201a8\"],[0.3333333333333333,\"#9c179e\"],[0.4444444444444444,\"#bd3786\"],[0.5555555555555556,\"#d8576b\"],[0.6666666666666666,\"#ed7953\"],[0.7777777777777778,\"#fb9f3a\"],[0.8888888888888888,\"#fdca26\"],[1.0,\"#f0f921\"]]}],\"surface\":[{\"type\":\"surface\",\"colorbar\":{\"outlinewidth\":0,\"ticks\":\"\"},\"colorscale\":[[0.0,\"#0d0887\"],[0.1111111111111111,\"#46039f\"],[0.2222222222222222,\"#7201a8\"],[0.3333333333333333,\"#9c179e\"],[0.4444444444444444,\"#bd3786\"],[0.5555555555555556,\"#d8576b\"],[0.6666666666666666,\"#ed7953\"],[0.7777777777777778,\"#fb9f3a\"],[0.8888888888888888,\"#fdca26\"],[1.0,\"#f0f921\"]]}],\"mesh3d\":[{\"type\":\"mesh3d\",\"colorbar\":{\"outlinewidth\":0,\"ticks\":\"\"}}],\"scatter\":[{\"fillpattern\":{\"fillmode\":\"overlay\",\"size\":10,\"solidity\":0.2},\"type\":\"scatter\"}],\"parcoords\":[{\"type\":\"parcoords\",\"line\":{\"colorbar\":{\"outlinewidth\":0,\"ticks\":\"\"}}}],\"scatterpolargl\":[{\"type\":\"scatterpolargl\",\"marker\":{\"colorbar\":{\"outlinewidth\":0,\"ticks\":\"\"}}}],\"bar\":[{\"error_x\":{\"color\":\"#2a3f5f\"},\"error_y\":{\"color\":\"#2a3f5f\"},\"marker\":{\"line\":{\"color\":\"#E5ECF6\",\"width\":0.5},\"pattern\":{\"fillmode\":\"overlay\",\"size\":10,\"solidity\":0.2}},\"type\":\"bar\"}],\"scattergeo\":[{\"type\":\"scattergeo\",\"marker\":{\"colorbar\":{\"outlinewidth\":0,\"ticks\":\"\"}}}],\"scatterpolar\":[{\"type\":\"scatterpolar\",\"marker\":{\"colorbar\":{\"outlinewidth\":0,\"ticks\":\"\"}}}],\"histogram\":[{\"marker\":{\"pattern\":{\"fillmode\":\"overlay\",\"size\":10,\"solidity\":0.2}},\"type\":\"histogram\"}],\"scattergl\":[{\"type\":\"scattergl\",\"marker\":{\"colorbar\":{\"outlinewidth\":0,\"ticks\":\"\"}}}],\"scatter3d\":[{\"type\":\"scatter3d\",\"line\":{\"colorbar\":{\"outlinewidth\":0,\"ticks\":\"\"}},\"marker\":{\"colorbar\":{\"outlinewidth\":0,\"ticks\":\"\"}}}],\"scattermapbox\":[{\"type\":\"scattermapbox\",\"marker\":{\"colorbar\":{\"outlinewidth\":0,\"ticks\":\"\"}}}],\"scatterternary\":[{\"type\":\"scatterternary\",\"marker\":{\"colorbar\":{\"outlinewidth\":0,\"ticks\":\"\"}}}],\"scattercarpet\":[{\"type\":\"scattercarpet\",\"marker\":{\"colorbar\":{\"outlinewidth\":0,\"ticks\":\"\"}}}],\"carpet\":[{\"aaxis\":{\"endlinecolor\":\"#2a3f5f\",\"gridcolor\":\"white\",\"linecolor\":\"white\",\"minorgridcolor\":\"white\",\"startlinecolor\":\"#2a3f5f\"},\"baxis\":{\"endlinecolor\":\"#2a3f5f\",\"gridcolor\":\"white\",\"linecolor\":\"white\",\"minorgridcolor\":\"white\",\"startlinecolor\":\"#2a3f5f\"},\"type\":\"carpet\"}],\"table\":[{\"cells\":{\"fill\":{\"color\":\"#EBF0F8\"},\"line\":{\"color\":\"white\"}},\"header\":{\"fill\":{\"color\":\"#C8D4E3\"},\"line\":{\"color\":\"white\"}},\"type\":\"table\"}],\"barpolar\":[{\"marker\":{\"line\":{\"color\":\"#E5ECF6\",\"width\":0.5},\"pattern\":{\"fillmode\":\"overlay\",\"size\":10,\"solidity\":0.2}},\"type\":\"barpolar\"}],\"pie\":[{\"automargin\":true,\"type\":\"pie\"}]},\"layout\":{\"autotypenumbers\":\"strict\",\"colorway\":[\"#636efa\",\"#EF553B\",\"#00cc96\",\"#ab63fa\",\"#FFA15A\",\"#19d3f3\",\"#FF6692\",\"#B6E880\",\"#FF97FF\",\"#FECB52\"],\"font\":{\"color\":\"#2a3f5f\"},\"hovermode\":\"closest\",\"hoverlabel\":{\"align\":\"left\"},\"paper_bgcolor\":\"white\",\"plot_bgcolor\":\"#E5ECF6\",\"polar\":{\"bgcolor\":\"#E5ECF6\",\"angularaxis\":{\"gridcolor\":\"white\",\"linecolor\":\"white\",\"ticks\":\"\"},\"radialaxis\":{\"gridcolor\":\"white\",\"linecolor\":\"white\",\"ticks\":\"\"}},\"ternary\":{\"bgcolor\":\"#E5ECF6\",\"aaxis\":{\"gridcolor\":\"white\",\"linecolor\":\"white\",\"ticks\":\"\"},\"baxis\":{\"gridcolor\":\"white\",\"linecolor\":\"white\",\"ticks\":\"\"},\"caxis\":{\"gridcolor\":\"white\",\"linecolor\":\"white\",\"ticks\":\"\"}},\"coloraxis\":{\"colorbar\":{\"outlinewidth\":0,\"ticks\":\"\"}},\"colorscale\":{\"sequential\":[[0.0,\"#0d0887\"],[0.1111111111111111,\"#46039f\"],[0.2222222222222222,\"#7201a8\"],[0.3333333333333333,\"#9c179e\"],[0.4444444444444444,\"#bd3786\"],[0.5555555555555556,\"#d8576b\"],[0.6666666666666666,\"#ed7953\"],[0.7777777777777778,\"#fb9f3a\"],[0.8888888888888888,\"#fdca26\"],[1.0,\"#f0f921\"]],\"sequentialminus\":[[0.0,\"#0d0887\"],[0.1111111111111111,\"#46039f\"],[0.2222222222222222,\"#7201a8\"],[0.3333333333333333,\"#9c179e\"],[0.4444444444444444,\"#bd3786\"],[0.5555555555555556,\"#d8576b\"],[0.6666666666666666,\"#ed7953\"],[0.7777777777777778,\"#fb9f3a\"],[0.8888888888888888,\"#fdca26\"],[1.0,\"#f0f921\"]],\"diverging\":[[0,\"#8e0152\"],[0.1,\"#c51b7d\"],[0.2,\"#de77ae\"],[0.3,\"#f1b6da\"],[0.4,\"#fde0ef\"],[0.5,\"#f7f7f7\"],[0.6,\"#e6f5d0\"],[0.7,\"#b8e186\"],[0.8,\"#7fbc41\"],[0.9,\"#4d9221\"],[1,\"#276419\"]]},\"xaxis\":{\"gridcolor\":\"white\",\"linecolor\":\"white\",\"ticks\":\"\",\"title\":{\"standoff\":15},\"zerolinecolor\":\"white\",\"automargin\":true,\"zerolinewidth\":2},\"yaxis\":{\"gridcolor\":\"white\",\"linecolor\":\"white\",\"ticks\":\"\",\"title\":{\"standoff\":15},\"zerolinecolor\":\"white\",\"automargin\":true,\"zerolinewidth\":2},\"scene\":{\"xaxis\":{\"backgroundcolor\":\"#E5ECF6\",\"gridcolor\":\"white\",\"linecolor\":\"white\",\"showbackground\":true,\"ticks\":\"\",\"zerolinecolor\":\"white\",\"gridwidth\":2},\"yaxis\":{\"backgroundcolor\":\"#E5ECF6\",\"gridcolor\":\"white\",\"linecolor\":\"white\",\"showbackground\":true,\"ticks\":\"\",\"zerolinecolor\":\"white\",\"gridwidth\":2},\"zaxis\":{\"backgroundcolor\":\"#E5ECF6\",\"gridcolor\":\"white\",\"linecolor\":\"white\",\"showbackground\":true,\"ticks\":\"\",\"zerolinecolor\":\"white\",\"gridwidth\":2}},\"shapedefaults\":{\"line\":{\"color\":\"#2a3f5f\"}},\"annotationdefaults\":{\"arrowcolor\":\"#2a3f5f\",\"arrowhead\":0,\"arrowwidth\":1},\"geo\":{\"bgcolor\":\"white\",\"landcolor\":\"#E5ECF6\",\"subunitcolor\":\"white\",\"showland\":true,\"showlakes\":true,\"lakecolor\":\"white\"},\"title\":{\"x\":0.05},\"mapbox\":{\"style\":\"light\"}}},\"xaxis\":{\"anchor\":\"y\",\"domain\":[0.0,1.0],\"title\":{\"text\":\"Firearm Mortality\"}},\"yaxis\":{\"anchor\":\"x\",\"domain\":[0.0,1.0],\"title\":{\"text\":\"Firearm Mortality Rate\"}},\"legend\":{\"title\":{\"text\":\"STATE\"},\"tracegroupgap\":0},\"title\":{\"text\":\"Firearm Mortality Counts by Rate and STATE\"},\"height\":500},                        {\"responsive\": true}                    ).then(function(){\n",
       "                            \n",
       "var gd = document.getElementById('e70a0877-47f4-439d-9ac7-e04994e9383c');\n",
       "var x = new MutationObserver(function (mutations, observer) {{\n",
       "        var display = window.getComputedStyle(gd).display;\n",
       "        if (!display || display === 'none') {{\n",
       "            console.log([gd, 'removed!']);\n",
       "            Plotly.purge(gd);\n",
       "            observer.disconnect();\n",
       "        }}\n",
       "}});\n",
       "\n",
       "// Listen for the removal of the full notebook cells\n",
       "var notebookContainer = gd.closest('#notebook-container');\n",
       "if (notebookContainer) {{\n",
       "    x.observe(notebookContainer, {childList: true});\n",
       "}}\n",
       "\n",
       "// Listen for the clearing of the current output cell\n",
       "var outputEl = gd.closest('.output');\n",
       "if (outputEl) {{\n",
       "    x.observe(outputEl, {childList: true});\n",
       "}}\n",
       "\n",
       "                        })                };                });            </script>        </div>"
      ]
     },
     "metadata": {},
     "output_type": "display_data"
    }
   ],
   "source": [
    "# Firearm Mortality by Rate and State\n",
    "fig = px.scatter(firearm_mortality, x='DEATHS', y='RATE', color='STATE',\n",
    "                 labels={'DEATHS': 'Firearm Mortality', 'RATE': 'Firearm Mortality Rate'},\n",
    "                 title='Firearm Mortality Counts by Rate and STATE',\n",
    "                 template='plotly', height=500)\n",
    "fig.show()"
   ]
  },
  {
   "cell_type": "markdown",
   "id": "28d0bc06-e232-4d74-b14c-620a8d5ddef6",
   "metadata": {},
   "source": [
    "> This chart in combination with the one above, is showing how each state is growing in both mortality rate and mortality count as time goes on"
   ]
  },
  {
   "cell_type": "code",
   "execution_count": 145,
   "id": "3c529aec-c139-4e90-bc26-5e8978edd393",
   "metadata": {
    "tags": []
   },
   "outputs": [
    {
     "data": {
      "text/plain": [
       "Text(0, 0.5, 'Frequency')"
      ]
     },
     "execution_count": 145,
     "metadata": {},
     "output_type": "execute_result"
    },
    {
     "data": {
      "image/png": "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",
      "text/plain": [
       "<Figure size 500x600 with 1 Axes>"
      ]
     },
     "metadata": {},
     "output_type": "display_data"
    }
   ],
   "source": [
    "# Distribution of number of deaths\n",
    "plt.figure(figsize=(5, 6))\n",
    "sns.histplot(firearm_mortality['DEATHS'], bins=20, kde=True, color='orange')\n",
    "plt.title('Distribution of Mortality Counts')\n",
    "plt.xlabel('Number of Deaths')\n",
    "plt.ylabel('Frequency')"
   ]
  },
  {
   "cell_type": "markdown",
   "id": "1d7d866b-3a96-41f4-8024-f034c3c56874",
   "metadata": {},
   "source": [
    "> This distribution show that the mortality counts are skewed to be lower"
   ]
  },
  {
   "cell_type": "code",
   "execution_count": 191,
   "id": "619e913e-9406-4149-941f-98da17be1a19",
   "metadata": {
    "tags": []
   },
   "outputs": [
    {
     "data": {
      "image/png": "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",
      "text/plain": [
       "<Figure size 500x600 with 1 Axes>"
      ]
     },
     "metadata": {},
     "output_type": "display_data"
    }
   ],
   "source": [
    "# Distribution of Death Rates\n",
    "plt.figure(figsize=(5, 6))\n",
    "sns.histplot(firearm_mortality['RATE'], bins=20, kde=True, color='orange')\n",
    "plt.title('Distribution of Mortality Rates')\n",
    "plt.xlabel('Mortality Rates')\n",
    "plt.ylabel('Frequency')\n",
    "plt.show()"
   ]
  },
  {
   "cell_type": "markdown",
   "id": "9ab2d25a-51ea-4159-83d1-6b41cbb4c405",
   "metadata": {},
   "source": [
    "> When looking at mortality rates, it is still slightly skewed left, but is much more of a normal distribution since the rate is contingent on population and not just the numbers."
   ]
  }
 ],
 "metadata": {
  "kernelspec": {
   "display_name": "Python 3 (ipykernel)",
   "language": "python",
   "name": "python3"
  },
  "language_info": {
   "codemirror_mode": {
    "name": "ipython",
    "version": 3
   },
   "file_extension": ".py",
   "mimetype": "text/x-python",
   "name": "python",
   "nbconvert_exporter": "python",
   "pygments_lexer": "ipython3",
   "version": "3.11.4"
  }
 },
 "nbformat": 4,
 "nbformat_minor": 5
}

