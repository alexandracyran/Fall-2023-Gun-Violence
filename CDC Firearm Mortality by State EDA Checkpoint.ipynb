{
 "cells": [
  {
   "cell_type": "code",
   "execution_count": null,
   "id": "b60ea951-2d7e-4f39-a56c-0dc8edfa8e6a",
   "metadata": {},
   "outputs": [],
   "source": [
    "import pandas as pd\n",
    "import numpy as np\n",
    "import matplotlib.pyplot as plt\n",
    "import seaborn as sns\n",
    "import warnings\n",
    "warnings.filterwarnings(\"ignore\")\n",
    "# from wordcloud import WordCloud\n",
    "%matplotlib inline"
   ]
  },
  {
   "cell_type": "code",
   "execution_count": null,
   "id": "46549978-fa43-4d8b-bd9e-b4b7b0f588b1",
   "metadata": {
    "tags": []
   },
   "outputs": [],
   "source": [
    "firearm_mortality = pd.read_csv('CDC Firearm Mortality by State.csv')"
   ]
  },
  {
   "cell_type": "code",
   "execution_count": null,
   "id": "c5b7e09b-fec4-4fe4-aad1-a07de2bc5dd2",
   "metadata": {
    "tags": []
   },
   "outputs": [],
   "source": [
    "firearm_mortality.head()"
   ]
  },
  {
   "cell_type": "code",
   "execution_count": null,
   "id": "a2fb9458-c54a-438d-9129-d630b0fb7ed4",
   "metadata": {
    "tags": []
   },
   "outputs": [],
   "source": [
    "firearm_mortality.shape"
   ]
  },
  {
   "cell_type": "markdown",
   "id": "b34f371d-0820-42aa-b30b-6bcdeac51ebd",
   "metadata": {
    "tags": []
   },
   "source": [
    "# Data Cleaning"
   ]
  },
  {
   "cell_type": "code",
   "execution_count": 5,
   "id": "8f64d5d1-8dd6-40f3-86f6-2d19a574657b",
   "metadata": {
    "tags": []
   },
   "outputs": [
    {
     "data": {
      "text/plain": [
       "YEAR      0\n",
       "STATE     0\n",
       "RATE      0\n",
       "DEATHS    0\n",
       "dtype: int64"
      ]
     },
     "execution_count": 5,
     "metadata": {},
     "output_type": "execute_result"
    }
   ],
   "source": [
    "firearm_mortality.isna().sum()"
   ]
  },
  {
   "cell_type": "code",
   "execution_count": 6,
   "id": "d741c504-0a22-431f-85de-607cb9013816",
   "metadata": {
    "tags": []
   },
   "outputs": [
    {
     "name": "stdout",
     "output_type": "stream",
     "text": [
      "<class 'pandas.core.frame.DataFrame'>\n",
      "RangeIndex: 450 entries, 0 to 449\n",
      "Data columns (total 4 columns):\n",
      " #   Column  Non-Null Count  Dtype  \n",
      "---  ------  --------------  -----  \n",
      " 0   YEAR    450 non-null    int64  \n",
      " 1   STATE   450 non-null    object \n",
      " 2   RATE    450 non-null    float64\n",
      " 3   DEATHS  450 non-null    int64  \n",
      "dtypes: float64(1), int64(2), object(1)\n",
      "memory usage: 14.2+ KB\n"
     ]
    }
   ],
   "source": [
    "firearm_mortality.info()"
   ]
  },
  {
   "cell_type": "markdown",
   "id": "5bce4cb7-23d0-46cc-a26e-6f8ae0a06b23",
   "metadata": {},
   "source": [
    "# Data Analysis"
   ]
  },
  {
   "cell_type": "code",
   "execution_count": 7,
   "id": "de988f98-5026-47bb-8ffd-6ebfa7ecdc54",
   "metadata": {
    "tags": []
   },
   "outputs": [
    {
     "data": {
      "text/plain": [
       "247     4\n",
       "155     3\n",
       "1064    3\n",
       "128     3\n",
       "172     3\n",
       "       ..\n",
       "842     1\n",
       "1025    1\n",
       "67      1\n",
       "3683    1\n",
       "474     1\n",
       "Name: DEATHS, Length: 385, dtype: int64"
      ]
     },
     "execution_count": 7,
     "metadata": {},
     "output_type": "execute_result"
    }
   ],
   "source": [
    "firearm_mortality['YEAR'].value_counts()\n",
    "firearm_mortality['STATE'].value_counts()\n",
    "firearm_mortality['RATE'].value_counts()\n",
    "firearm_mortality['DEATHS'].value_counts()"
   ]
  },
  {
   "cell_type": "code",
   "execution_count": 8,
   "id": "c1b4cc98-f312-4601-b4f8-68381cce0bd0",
   "metadata": {
    "tags": []
   },
   "outputs": [
    {
     "data": {
      "text/plain": [
       "STATE\n",
       "TX    3487.666667\n",
       "CA    3207.555556\n",
       "FL    2688.000000\n",
       "GA    1618.777778\n",
       "PA    1585.555556\n",
       "OH    1516.111111\n",
       "IL    1437.777778\n",
       "NC    1422.666667\n",
       "MI    1247.666667\n",
       "TN    1222.333333\n",
       "MO    1182.555556\n",
       "AZ    1108.000000\n",
       "VA    1032.777778\n",
       "AL    1030.555556\n",
       "LA    1022.444444\n",
       "Name: DEATHS, dtype: float64"
      ]
     },
     "execution_count": 8,
     "metadata": {},
     "output_type": "execute_result"
    }
   ],
   "source": [
    "# highest firearm mortality states - Texas Highest\n",
    "firearm_mortality.groupby('STATE')['DEATHS'].mean().nlargest(15)"
   ]
  },
  {
   "cell_type": "code",
   "execution_count": 26,
   "id": "f94f15ae-e428-4eac-8029-0109e56124b0",
   "metadata": {
    "tags": []
   },
   "outputs": [
    {
     "data": {
      "application/vnd.plotly.v1+json": {
       "config": {
        "plotlyServerURL": "https://plot.ly"
       },
       "data": [
        {
         "hovertemplate": "STATE=%{x}<br>DEATHS=%{y}<extra></extra>",
         "legendgroup": "",
         "marker": {
          "color": "#636efa",
          "symbol": "circle"
         },
         "mode": "markers",
         "name": "",
         "orientation": "v",
         "showlegend": false,
         "type": "scatter",
         "x": [
          "AK",
          "AK",
          "AK",
          "AK",
          "AK",
          "AK",
          "AK",
          "AK",
          "AK",
          "AL",
          "AL",
          "AL",
          "AL",
          "AL",
          "AL",
          "AL",
          "AL",
          "AL",
          "AR",
          "AR",
          "AR",
          "AR",
          "AR",
          "AR",
          "AR",
          "AR",
          "AR",
          "AZ",
          "AZ",
          "AZ",
          "AZ",
          "AZ",
          "AZ",
          "AZ",
          "AZ",
          "AZ",
          "CA",
          "CA",
          "CA",
          "CA",
          "CA",
          "CA",
          "CA",
          "CA",
          "CA",
          "CO",
          "CO",
          "CO",
          "CO",
          "CO",
          "CO",
          "CO",
          "CO",
          "CO",
          "CT",
          "CT",
          "CT",
          "CT",
          "CT",
          "CT",
          "CT",
          "CT",
          "CT",
          "DE",
          "DE",
          "DE",
          "DE",
          "DE",
          "DE",
          "DE",
          "DE",
          "DE",
          "FL",
          "FL",
          "FL",
          "FL",
          "FL",
          "FL",
          "FL",
          "FL",
          "FL",
          "GA",
          "GA",
          "GA",
          "GA",
          "GA",
          "GA",
          "GA",
          "GA",
          "GA",
          "HI",
          "HI",
          "HI",
          "HI",
          "HI",
          "HI",
          "HI",
          "HI",
          "HI",
          "IA",
          "IA",
          "IA",
          "IA",
          "IA",
          "IA",
          "IA",
          "IA",
          "IA",
          "ID",
          "ID",
          "ID",
          "ID",
          "ID",
          "ID",
          "ID",
          "ID",
          "ID",
          "IL",
          "IL",
          "IL",
          "IL",
          "IL",
          "IL",
          "IL",
          "IL",
          "IL",
          "IN",
          "IN",
          "IN",
          "IN",
          "IN",
          "IN",
          "IN",
          "IN",
          "IN",
          "KS",
          "KS",
          "KS",
          "KS",
          "KS",
          "KS",
          "KS",
          "KS",
          "KS",
          "KY",
          "KY",
          "KY",
          "KY",
          "KY",
          "KY",
          "KY",
          "KY",
          "KY",
          "LA",
          "LA",
          "LA",
          "LA",
          "LA",
          "LA",
          "LA",
          "LA",
          "LA",
          "MA",
          "MA",
          "MA",
          "MA",
          "MA",
          "MA",
          "MA",
          "MA",
          "MA",
          "MD",
          "MD",
          "MD",
          "MD",
          "MD",
          "MD",
          "MD",
          "MD",
          "MD",
          "ME",
          "ME",
          "ME",
          "ME",
          "ME",
          "ME",
          "ME",
          "ME",
          "ME",
          "MI",
          "MI",
          "MI",
          "MI",
          "MI",
          "MI",
          "MI",
          "MI",
          "MI",
          "MN",
          "MN",
          "MN",
          "MN",
          "MN",
          "MN",
          "MN",
          "MN",
          "MN",
          "MO",
          "MO",
          "MO",
          "MO",
          "MO",
          "MO",
          "MO",
          "MO",
          "MO",
          "MS",
          "MS",
          "MS",
          "MS",
          "MS",
          "MS",
          "MS",
          "MS",
          "MS",
          "MT",
          "MT",
          "MT",
          "MT",
          "MT",
          "MT",
          "MT",
          "MT",
          "MT",
          "NC",
          "NC",
          "NC",
          "NC",
          "NC",
          "NC",
          "NC",
          "NC",
          "NC",
          "ND",
          "ND",
          "ND",
          "ND",
          "ND",
          "ND",
          "ND",
          "ND",
          "ND",
          "NE",
          "NE",
          "NE",
          "NE",
          "NE",
          "NE",
          "NE",
          "NE",
          "NE",
          "NH",
          "NH",
          "NH",
          "NH",
          "NH",
          "NH",
          "NH",
          "NH",
          "NH",
          "NJ",
          "NJ",
          "NJ",
          "NJ",
          "NJ",
          "NJ",
          "NJ",
          "NJ",
          "NJ",
          "NM",
          "NM",
          "NM",
          "NM",
          "NM",
          "NM",
          "NM",
          "NM",
          "NM",
          "NV",
          "NV",
          "NV",
          "NV",
          "NV",
          "NV",
          "NV",
          "NV",
          "NV",
          "NY",
          "NY",
          "NY",
          "NY",
          "NY",
          "NY",
          "NY",
          "NY",
          "NY",
          "OH",
          "OH",
          "OH",
          "OH",
          "OH",
          "OH",
          "OH",
          "OH",
          "OH",
          "OK",
          "OK",
          "OK",
          "OK",
          "OK",
          "OK",
          "OK",
          "OK",
          "OK",
          "OR",
          "OR",
          "OR",
          "OR",
          "OR",
          "OR",
          "OR",
          "OR",
          "OR",
          "PA",
          "PA",
          "PA",
          "PA",
          "PA",
          "PA",
          "PA",
          "PA",
          "PA",
          "RI",
          "RI",
          "RI",
          "RI",
          "RI",
          "RI",
          "RI",
          "RI",
          "RI",
          "SC",
          "SC",
          "SC",
          "SC",
          "SC",
          "SC",
          "SC",
          "SC",
          "SC",
          "SD",
          "SD",
          "SD",
          "SD",
          "SD",
          "SD",
          "SD",
          "SD",
          "SD",
          "TN",
          "TN",
          "TN",
          "TN",
          "TN",
          "TN",
          "TN",
          "TN",
          "TN",
          "TX",
          "TX",
          "TX",
          "TX",
          "TX",
          "TX",
          "TX",
          "TX",
          "TX",
          "UT",
          "UT",
          "UT",
          "UT",
          "UT",
          "UT",
          "UT",
          "UT",
          "UT",
          "VA",
          "VA",
          "VA",
          "VA",
          "VA",
          "VA",
          "VA",
          "VA",
          "VA",
          "VT",
          "VT",
          "VT",
          "VT",
          "VT",
          "VT",
          "VT",
          "VT",
          "VT",
          "WA",
          "WA",
          "WA",
          "WA",
          "WA",
          "WA",
          "WA",
          "WA",
          "WA",
          "WI",
          "WI",
          "WI",
          "WI",
          "WI",
          "WI",
          "WI",
          "WI",
          "WI",
          "WV",
          "WV",
          "WV",
          "WV",
          "WV",
          "WV",
          "WV",
          "WV",
          "WV",
          "WY",
          "WY",
          "WY",
          "WY",
          "WY",
          "WY",
          "WY",
          "WY",
          "WY"
         ],
         "xaxis": "x",
         "y": [
          116,
          145,
          177,
          177,
          180,
          155,
          179,
          175,
          182,
          736,
          815,
          958,
          1046,
          1124,
          1064,
          1076,
          1141,
          1315,
          439,
          496,
          520,
          541,
          613,
          573,
          580,
          673,
          698,
          934,
          927,
          970,
          1094,
          1134,
          1147,
          1136,
          1265,
          1365,
          3453,
          2942,
          3095,
          3184,
          3184,
          3040,
          2945,
          3449,
          3576,
          535,
          663,
          701,
          812,
          779,
          889,
          846,
          922,
          1064,
          187,
          187,
          189,
          172,
          188,
          186,
          190,
          219,
          248,
          75,
          102,
          112,
          111,
          111,
          107,
          93,
          135,
          158,
          1838,
          2410,
          2559,
          2704,
          2724,
          2902,
          2872,
          3041,
          3142,
          1064,
          1391,
          1448,
          1571,
          1623,
          1680,
          1695,
          1897,
          2200,
          28,
          40,
          55,
          66,
          39,
          59,
          62,
          50,
          71,
          201,
          241,
          247,
          288,
          293,
          282,
          294,
          351,
          364,
          195,
          213,
          247,
          242,
          280,
          294,
          255,
          321,
          309,
          1019,
          1179,
          1220,
          1490,
          1543,
          1382,
          1367,
          1745,
          1995,
          705,
          818,
          846,
          997,
          1016,
          977,
          958,
          1159,
          1251,
          257,
          329,
          330,
          383,
          466,
          424,
          403,
          494,
          503,
          548,
          634,
          694,
          772,
          730,
          762,
          682,
          902,
          947,
          858,
          896,
          952,
          987,
          1008,
          991,
          1013,
          1183,
          1314,
          224,
          226,
          213,
          242,
          262,
          258,
          247,
          268,
          247,
          657,
          546,
          708,
          707,
          742,
          707,
          757,
          803,
          915,
          109,
          133,
          144,
          123,
          172,
          159,
          163,
          153,
          178,
          1074,
          1095,
          1164,
          1230,
          1138,
          1310,
          1220,
          1454,
          1544,
          361,
          377,
          410,
          432,
          465,
          437,
          465,
          513,
          573,
          752,
          943,
          1094,
          1144,
          1307,
          1311,
          1252,
          1426,
          1414,
          455,
          547,
          589,
          587,
          632,
          681,
          710,
          818,
          962,
          161,
          172,
          205,
          194,
          244,
          186,
          209,
          238,
          280,
          1119,
          1206,
          1289,
          1409,
          1430,
          1416,
          1397,
          1699,
          1839,
          61,
          96,
          92,
          90,
          103,
          89,
          93,
          100,
          128,
          135,
          179,
          169,
          171,
          160,
          183,
          205,
          197,
          200,
          88,
          122,
          121,
          132,
          146,
          155,
          156,
          128,
          123,
          434,
          468,
          475,
          485,
          478,
          420,
          368,
          443,
          475,
          267,
          340,
          390,
          383,
          394,
          438,
          471,
          479,
          578,
          390,
          429,
          446,
          498,
          508,
          550,
          490,
          547,
          633,
          1019,
          875,
          849,
          900,
          772,
          821,
          804,
          1052,
          1078,
          1116,
          1211,
          1397,
          1524,
          1589,
          1555,
          1578,
          1764,
          1911,
          468,
          611,
          706,
          766,
          681,
          665,
          737,
          826,
          836,
          402,
          497,
          486,
          513,
          528,
          519,
          566,
          592,
          670,
          1352,
          1390,
          1485,
          1555,
          1636,
          1654,
          1541,
          1752,
          1905,
          39,
          34,
          51,
          49,
          43,
          37,
          48,
          54,
          64,
          589,
          767,
          850,
          891,
          893,
          895,
          1012,
          1131,
          1136,
          82,
          89,
          96,
          108,
          101,
          117,
          113,
          120,
          128,
          976,
          1016,
          1075,
          1148,
          1246,
          1228,
          1270,
          1473,
          1569,
          2490,
          2848,
          3203,
          3353,
          3513,
          3522,
          3683,
          4164,
          4613,
          227,
          337,
          367,
          370,
          410,
          397,
          394,
          429,
          450,
          888,
          889,
          946,
          1049,
          1041,
          1035,
          1025,
          1174,
          1248,
          44,
          69,
          70,
          78,
          70,
          82,
          67,
          76,
          83,
          567,
          702,
          718,
          686,
          849,
          809,
          842,
          864,
          896,
          474,
          487,
          613,
          664,
          624,
          598,
          604,
          717,
          793,
          261,
          286,
          278,
          332,
          348,
          343,
          300,
          325,
          319,
          71,
          93,
          113,
          101,
          113,
          124,
          133,
          154,
          155
         ],
         "yaxis": "y"
        }
       ],
       "layout": {
        "autosize": true,
        "legend": {
         "tracegroupgap": 0
        },
        "template": {
         "data": {
          "bar": [
           {
            "error_x": {
             "color": "#2a3f5f"
            },
            "error_y": {
             "color": "#2a3f5f"
            },
            "marker": {
             "line": {
              "color": "#E5ECF6",
              "width": 0.5
             },
             "pattern": {
              "fillmode": "overlay",
              "size": 10,
              "solidity": 0.2
             }
            },
            "type": "bar"
           }
          ],
          "barpolar": [
           {
            "marker": {
             "line": {
              "color": "#E5ECF6",
              "width": 0.5
             },
             "pattern": {
              "fillmode": "overlay",
              "size": 10,
              "solidity": 0.2
             }
            },
            "type": "barpolar"
           }
          ],
          "carpet": [
           {
            "aaxis": {
             "endlinecolor": "#2a3f5f",
             "gridcolor": "white",
             "linecolor": "white",
             "minorgridcolor": "white",
             "startlinecolor": "#2a3f5f"
            },
            "baxis": {
             "endlinecolor": "#2a3f5f",
             "gridcolor": "white",
             "linecolor": "white",
             "minorgridcolor": "white",
             "startlinecolor": "#2a3f5f"
            },
            "type": "carpet"
           }
          ],
          "choropleth": [
           {
            "colorbar": {
             "outlinewidth": 0,
             "ticks": ""
            },
            "type": "choropleth"
           }
          ],
          "contour": [
           {
            "colorbar": {
             "outlinewidth": 0,
             "ticks": ""
            },
            "colorscale": [
             [
              0,
              "#0d0887"
             ],
             [
              0.1111111111111111,
              "#46039f"
             ],
             [
              0.2222222222222222,
              "#7201a8"
             ],
             [
              0.3333333333333333,
              "#9c179e"
             ],
             [
              0.4444444444444444,
              "#bd3786"
             ],
             [
              0.5555555555555556,
              "#d8576b"
             ],
             [
              0.6666666666666666,
              "#ed7953"
             ],
             [
              0.7777777777777778,
              "#fb9f3a"
             ],
             [
              0.8888888888888888,
              "#fdca26"
             ],
             [
              1,
              "#f0f921"
             ]
            ],
            "type": "contour"
           }
          ],
          "contourcarpet": [
           {
            "colorbar": {
             "outlinewidth": 0,
             "ticks": ""
            },
            "type": "contourcarpet"
           }
          ],
          "heatmap": [
           {
            "colorbar": {
             "outlinewidth": 0,
             "ticks": ""
            },
            "colorscale": [
             [
              0,
              "#0d0887"
             ],
             [
              0.1111111111111111,
              "#46039f"
             ],
             [
              0.2222222222222222,
              "#7201a8"
             ],
             [
              0.3333333333333333,
              "#9c179e"
             ],
             [
              0.4444444444444444,
              "#bd3786"
             ],
             [
              0.5555555555555556,
              "#d8576b"
             ],
             [
              0.6666666666666666,
              "#ed7953"
             ],
             [
              0.7777777777777778,
              "#fb9f3a"
             ],
             [
              0.8888888888888888,
              "#fdca26"
             ],
             [
              1,
              "#f0f921"
             ]
            ],
            "type": "heatmap"
           }
          ],
          "heatmapgl": [
           {
            "colorbar": {
             "outlinewidth": 0,
             "ticks": ""
            },
            "colorscale": [
             [
              0,
              "#0d0887"
             ],
             [
              0.1111111111111111,
              "#46039f"
             ],
             [
              0.2222222222222222,
              "#7201a8"
             ],
             [
              0.3333333333333333,
              "#9c179e"
             ],
             [
              0.4444444444444444,
              "#bd3786"
             ],
             [
              0.5555555555555556,
              "#d8576b"
             ],
             [
              0.6666666666666666,
              "#ed7953"
             ],
             [
              0.7777777777777778,
              "#fb9f3a"
             ],
             [
              0.8888888888888888,
              "#fdca26"
             ],
             [
              1,
              "#f0f921"
             ]
            ],
            "type": "heatmapgl"
           }
          ],
          "histogram": [
           {
            "marker": {
             "pattern": {
              "fillmode": "overlay",
              "size": 10,
              "solidity": 0.2
             }
            },
            "type": "histogram"
           }
          ],
          "histogram2d": [
           {
            "colorbar": {
             "outlinewidth": 0,
             "ticks": ""
            },
            "colorscale": [
             [
              0,
              "#0d0887"
             ],
             [
              0.1111111111111111,
              "#46039f"
             ],
             [
              0.2222222222222222,
              "#7201a8"
             ],
             [
              0.3333333333333333,
              "#9c179e"
             ],
             [
              0.4444444444444444,
              "#bd3786"
             ],
             [
              0.5555555555555556,
              "#d8576b"
             ],
             [
              0.6666666666666666,
              "#ed7953"
             ],
             [
              0.7777777777777778,
              "#fb9f3a"
             ],
             [
              0.8888888888888888,
              "#fdca26"
             ],
             [
              1,
              "#f0f921"
             ]
            ],
            "type": "histogram2d"
           }
          ],
          "histogram2dcontour": [
           {
            "colorbar": {
             "outlinewidth": 0,
             "ticks": ""
            },
            "colorscale": [
             [
              0,
              "#0d0887"
             ],
             [
              0.1111111111111111,
              "#46039f"
             ],
             [
              0.2222222222222222,
              "#7201a8"
             ],
             [
              0.3333333333333333,
              "#9c179e"
             ],
             [
              0.4444444444444444,
              "#bd3786"
             ],
             [
              0.5555555555555556,
              "#d8576b"
             ],
             [
              0.6666666666666666,
              "#ed7953"
             ],
             [
              0.7777777777777778,
              "#fb9f3a"
             ],
             [
              0.8888888888888888,
              "#fdca26"
             ],
             [
              1,
              "#f0f921"
             ]
            ],
            "type": "histogram2dcontour"
           }
          ],
          "mesh3d": [
           {
            "colorbar": {
             "outlinewidth": 0,
             "ticks": ""
            },
            "type": "mesh3d"
           }
          ],
          "parcoords": [
           {
            "line": {
             "colorbar": {
              "outlinewidth": 0,
              "ticks": ""
             }
            },
            "type": "parcoords"
           }
          ],
          "pie": [
           {
            "automargin": true,
            "type": "pie"
           }
          ],
          "scatter": [
           {
            "fillpattern": {
             "fillmode": "overlay",
             "size": 10,
             "solidity": 0.2
            },
            "type": "scatter"
           }
          ],
          "scatter3d": [
           {
            "line": {
             "colorbar": {
              "outlinewidth": 0,
              "ticks": ""
             }
            },
            "marker": {
             "colorbar": {
              "outlinewidth": 0,
              "ticks": ""
             }
            },
            "type": "scatter3d"
           }
          ],
          "scattercarpet": [
           {
            "marker": {
             "colorbar": {
              "outlinewidth": 0,
              "ticks": ""
             }
            },
            "type": "scattercarpet"
           }
          ],
          "scattergeo": [
           {
            "marker": {
             "colorbar": {
              "outlinewidth": 0,
              "ticks": ""
             }
            },
            "type": "scattergeo"
           }
          ],
          "scattergl": [
           {
            "marker": {
             "colorbar": {
              "outlinewidth": 0,
              "ticks": ""
             }
            },
            "type": "scattergl"
           }
          ],
          "scattermapbox": [
           {
            "marker": {
             "colorbar": {
              "outlinewidth": 0,
              "ticks": ""
             }
            },
            "type": "scattermapbox"
           }
          ],
          "scatterpolar": [
           {
            "marker": {
             "colorbar": {
              "outlinewidth": 0,
              "ticks": ""
             }
            },
            "type": "scatterpolar"
           }
          ],
          "scatterpolargl": [
           {
            "marker": {
             "colorbar": {
              "outlinewidth": 0,
              "ticks": ""
             }
            },
            "type": "scatterpolargl"
           }
          ],
          "scatterternary": [
           {
            "marker": {
             "colorbar": {
              "outlinewidth": 0,
              "ticks": ""
             }
            },
            "type": "scatterternary"
           }
          ],
          "surface": [
           {
            "colorbar": {
             "outlinewidth": 0,
             "ticks": ""
            },
            "colorscale": [
             [
              0,
              "#0d0887"
             ],
             [
              0.1111111111111111,
              "#46039f"
             ],
             [
              0.2222222222222222,
              "#7201a8"
             ],
             [
              0.3333333333333333,
              "#9c179e"
             ],
             [
              0.4444444444444444,
              "#bd3786"
             ],
             [
              0.5555555555555556,
              "#d8576b"
             ],
             [
              0.6666666666666666,
              "#ed7953"
             ],
             [
              0.7777777777777778,
              "#fb9f3a"
             ],
             [
              0.8888888888888888,
              "#fdca26"
             ],
             [
              1,
              "#f0f921"
             ]
            ],
            "type": "surface"
           }
          ],
          "table": [
           {
            "cells": {
             "fill": {
              "color": "#EBF0F8"
             },
             "line": {
              "color": "white"
             }
            },
            "header": {
             "fill": {
              "color": "#C8D4E3"
             },
             "line": {
              "color": "white"
             }
            },
            "type": "table"
           }
          ]
         },
         "layout": {
          "annotationdefaults": {
           "arrowcolor": "#2a3f5f",
           "arrowhead": 0,
           "arrowwidth": 1
          },
          "autotypenumbers": "strict",
          "coloraxis": {
           "colorbar": {
            "outlinewidth": 0,
            "ticks": ""
           }
          },
          "colorscale": {
           "diverging": [
            [
             0,
             "#8e0152"
            ],
            [
             0.1,
             "#c51b7d"
            ],
            [
             0.2,
             "#de77ae"
            ],
            [
             0.3,
             "#f1b6da"
            ],
            [
             0.4,
             "#fde0ef"
            ],
            [
             0.5,
             "#f7f7f7"
            ],
            [
             0.6,
             "#e6f5d0"
            ],
            [
             0.7,
             "#b8e186"
            ],
            [
             0.8,
             "#7fbc41"
            ],
            [
             0.9,
             "#4d9221"
            ],
            [
             1,
             "#276419"
            ]
           ],
           "sequential": [
            [
             0,
             "#0d0887"
            ],
            [
             0.1111111111111111,
             "#46039f"
            ],
            [
             0.2222222222222222,
             "#7201a8"
            ],
            [
             0.3333333333333333,
             "#9c179e"
            ],
            [
             0.4444444444444444,
             "#bd3786"
            ],
            [
             0.5555555555555556,
             "#d8576b"
            ],
            [
             0.6666666666666666,
             "#ed7953"
            ],
            [
             0.7777777777777778,
             "#fb9f3a"
            ],
            [
             0.8888888888888888,
             "#fdca26"
            ],
            [
             1,
             "#f0f921"
            ]
           ],
           "sequentialminus": [
            [
             0,
             "#0d0887"
            ],
            [
             0.1111111111111111,
             "#46039f"
            ],
            [
             0.2222222222222222,
             "#7201a8"
            ],
            [
             0.3333333333333333,
             "#9c179e"
            ],
            [
             0.4444444444444444,
             "#bd3786"
            ],
            [
             0.5555555555555556,
             "#d8576b"
            ],
            [
             0.6666666666666666,
             "#ed7953"
            ],
            [
             0.7777777777777778,
             "#fb9f3a"
            ],
            [
             0.8888888888888888,
             "#fdca26"
            ],
            [
             1,
             "#f0f921"
            ]
           ]
          },
          "colorway": [
           "#636efa",
           "#EF553B",
           "#00cc96",
           "#ab63fa",
           "#FFA15A",
           "#19d3f3",
           "#FF6692",
           "#B6E880",
           "#FF97FF",
           "#FECB52"
          ],
          "font": {
           "color": "#2a3f5f"
          },
          "geo": {
           "bgcolor": "white",
           "lakecolor": "white",
           "landcolor": "#E5ECF6",
           "showlakes": true,
           "showland": true,
           "subunitcolor": "white"
          },
          "hoverlabel": {
           "align": "left"
          },
          "hovermode": "closest",
          "mapbox": {
           "style": "light"
          },
          "paper_bgcolor": "white",
          "plot_bgcolor": "#E5ECF6",
          "polar": {
           "angularaxis": {
            "gridcolor": "white",
            "linecolor": "white",
            "ticks": ""
           },
           "bgcolor": "#E5ECF6",
           "radialaxis": {
            "gridcolor": "white",
            "linecolor": "white",
            "ticks": ""
           }
          },
          "scene": {
           "xaxis": {
            "backgroundcolor": "#E5ECF6",
            "gridcolor": "white",
            "gridwidth": 2,
            "linecolor": "white",
            "showbackground": true,
            "ticks": "",
            "zerolinecolor": "white"
           },
           "yaxis": {
            "backgroundcolor": "#E5ECF6",
            "gridcolor": "white",
            "gridwidth": 2,
            "linecolor": "white",
            "showbackground": true,
            "ticks": "",
            "zerolinecolor": "white"
           },
           "zaxis": {
            "backgroundcolor": "#E5ECF6",
            "gridcolor": "white",
            "gridwidth": 2,
            "linecolor": "white",
            "showbackground": true,
            "ticks": "",
            "zerolinecolor": "white"
           }
          },
          "shapedefaults": {
           "line": {
            "color": "#2a3f5f"
           }
          },
          "ternary": {
           "aaxis": {
            "gridcolor": "white",
            "linecolor": "white",
            "ticks": ""
           },
           "baxis": {
            "gridcolor": "white",
            "linecolor": "white",
            "ticks": ""
           },
           "bgcolor": "#E5ECF6",
           "caxis": {
            "gridcolor": "white",
            "linecolor": "white",
            "ticks": ""
           }
          },
          "title": {
           "x": 0.05
          },
          "xaxis": {
           "automargin": true,
           "gridcolor": "white",
           "linecolor": "white",
           "ticks": "",
           "title": {
            "standoff": 15
           },
           "zerolinecolor": "white",
           "zerolinewidth": 2
          },
          "yaxis": {
           "automargin": true,
           "gridcolor": "white",
           "linecolor": "white",
           "ticks": "",
           "title": {
            "standoff": 15
           },
           "zerolinecolor": "white",
           "zerolinewidth": 2
          }
         }
        },
        "title": {
         "text": "Firearm Mortalities per State"
        },
        "xaxis": {
         "anchor": "y",
         "autorange": true,
         "domain": [
          0,
          1
         ],
         "range": [
          -2.992391160513431,
          51.99239116051343
         ],
         "title": {
          "text": "STATE"
         },
         "type": "category"
        },
        "yaxis": {
         "anchor": "x",
         "autorange": true,
         "domain": [
          0,
          1
         ],
         "range": [
          -350.373786407767,
          4991.373786407767
         ],
         "title": {
          "text": "DEATHS"
         },
         "type": "linear"
        }
       }
      },
      "image/png": "[encoded data removed]",
      "text/html": [
       "<div>                            <div id=\"197137dd-88f0-4f6f-a26e-245b2146553d\" class=\"plotly-graph-div\" style=\"height:525px; width:100%;\"></div>            <script type=\"text/javascript\">                require([\"plotly\"], function(Plotly) {                    window.PLOTLYENV=window.PLOTLYENV || {};                                    if (document.getElementById(\"197137dd-88f0-4f6f-a26e-245b2146553d\")) {                    Plotly.newPlot(                        \"197137dd-88f0-4f6f-a26e-245b2146553d\",                        [{\"hovertemplate\":\"STATE=%{x}<br>DEATHS=%{y}<extra></extra>\",\"legendgroup\":\"\",\"marker\":{\"color\":\"#636efa\",\"symbol\":\"circle\"},\"mode\":\"markers\",\"name\":\"\",\"orientation\":\"v\",\"showlegend\":false,\"x\":[\"AK\",\"AK\",\"AK\",\"AK\",\"AK\",\"AK\",\"AK\",\"AK\",\"AK\",\"AL\",\"AL\",\"AL\",\"AL\",\"AL\",\"AL\",\"AL\",\"AL\",\"AL\",\"AR\",\"AR\",\"AR\",\"AR\",\"AR\",\"AR\",\"AR\",\"AR\",\"AR\",\"AZ\",\"AZ\",\"AZ\",\"AZ\",\"AZ\",\"AZ\",\"AZ\",\"AZ\",\"AZ\",\"CA\",\"CA\",\"CA\",\"CA\",\"CA\",\"CA\",\"CA\",\"CA\",\"CA\",\"CO\",\"CO\",\"CO\",\"CO\",\"CO\",\"CO\",\"CO\",\"CO\",\"CO\",\"CT\",\"CT\",\"CT\",\"CT\",\"CT\",\"CT\",\"CT\",\"CT\",\"CT\",\"DE\",\"DE\",\"DE\",\"DE\",\"DE\",\"DE\",\"DE\",\"DE\",\"DE\",\"FL\",\"FL\",\"FL\",\"FL\",\"FL\",\"FL\",\"FL\",\"FL\",\"FL\",\"GA\",\"GA\",\"GA\",\"GA\",\"GA\",\"GA\",\"GA\",\"GA\",\"GA\",\"HI\",\"HI\",\"HI\",\"HI\",\"HI\",\"HI\",\"HI\",\"HI\",\"HI\",\"IA\",\"IA\",\"IA\",\"IA\",\"IA\",\"IA\",\"IA\",\"IA\",\"IA\",\"ID\",\"ID\",\"ID\",\"ID\",\"ID\",\"ID\",\"ID\",\"ID\",\"ID\",\"IL\",\"IL\",\"IL\",\"IL\",\"IL\",\"IL\",\"IL\",\"IL\",\"IL\",\"IN\",\"IN\",\"IN\",\"IN\",\"IN\",\"IN\",\"IN\",\"IN\",\"IN\",\"KS\",\"KS\",\"KS\",\"KS\",\"KS\",\"KS\",\"KS\",\"KS\",\"KS\",\"KY\",\"KY\",\"KY\",\"KY\",\"KY\",\"KY\",\"KY\",\"KY\",\"KY\",\"LA\",\"LA\",\"LA\",\"LA\",\"LA\",\"LA\",\"LA\",\"LA\",\"LA\",\"MA\",\"MA\",\"MA\",\"MA\",\"MA\",\"MA\",\"MA\",\"MA\",\"MA\",\"MD\",\"MD\",\"MD\",\"MD\",\"MD\",\"MD\",\"MD\",\"MD\",\"MD\",\"ME\",\"ME\",\"ME\",\"ME\",\"ME\",\"ME\",\"ME\",\"ME\",\"ME\",\"MI\",\"MI\",\"MI\",\"MI\",\"MI\",\"MI\",\"MI\",\"MI\",\"MI\",\"MN\",\"MN\",\"MN\",\"MN\",\"MN\",\"MN\",\"MN\",\"MN\",\"MN\",\"MO\",\"MO\",\"MO\",\"MO\",\"MO\",\"MO\",\"MO\",\"MO\",\"MO\",\"MS\",\"MS\",\"MS\",\"MS\",\"MS\",\"MS\",\"MS\",\"MS\",\"MS\",\"MT\",\"MT\",\"MT\",\"MT\",\"MT\",\"MT\",\"MT\",\"MT\",\"MT\",\"NC\",\"NC\",\"NC\",\"NC\",\"NC\",\"NC\",\"NC\",\"NC\",\"NC\",\"ND\",\"ND\",\"ND\",\"ND\",\"ND\",\"ND\",\"ND\",\"ND\",\"ND\",\"NE\",\"NE\",\"NE\",\"NE\",\"NE\",\"NE\",\"NE\",\"NE\",\"NE\",\"NH\",\"NH\",\"NH\",\"NH\",\"NH\",\"NH\",\"NH\",\"NH\",\"NH\",\"NJ\",\"NJ\",\"NJ\",\"NJ\",\"NJ\",\"NJ\",\"NJ\",\"NJ\",\"NJ\",\"NM\",\"NM\",\"NM\",\"NM\",\"NM\",\"NM\",\"NM\",\"NM\",\"NM\",\"NV\",\"NV\",\"NV\",\"NV\",\"NV\",\"NV\",\"NV\",\"NV\",\"NV\",\"NY\",\"NY\",\"NY\",\"NY\",\"NY\",\"NY\",\"NY\",\"NY\",\"NY\",\"OH\",\"OH\",\"OH\",\"OH\",\"OH\",\"OH\",\"OH\",\"OH\",\"OH\",\"OK\",\"OK\",\"OK\",\"OK\",\"OK\",\"OK\",\"OK\",\"OK\",\"OK\",\"OR\",\"OR\",\"OR\",\"OR\",\"OR\",\"OR\",\"OR\",\"OR\",\"OR\",\"PA\",\"PA\",\"PA\",\"PA\",\"PA\",\"PA\",\"PA\",\"PA\",\"PA\",\"RI\",\"RI\",\"RI\",\"RI\",\"RI\",\"RI\",\"RI\",\"RI\",\"RI\",\"SC\",\"SC\",\"SC\",\"SC\",\"SC\",\"SC\",\"SC\",\"SC\",\"SC\",\"SD\",\"SD\",\"SD\",\"SD\",\"SD\",\"SD\",\"SD\",\"SD\",\"SD\",\"TN\",\"TN\",\"TN\",\"TN\",\"TN\",\"TN\",\"TN\",\"TN\",\"TN\",\"TX\",\"TX\",\"TX\",\"TX\",\"TX\",\"TX\",\"TX\",\"TX\",\"TX\",\"UT\",\"UT\",\"UT\",\"UT\",\"UT\",\"UT\",\"UT\",\"UT\",\"UT\",\"VA\",\"VA\",\"VA\",\"VA\",\"VA\",\"VA\",\"VA\",\"VA\",\"VA\",\"VT\",\"VT\",\"VT\",\"VT\",\"VT\",\"VT\",\"VT\",\"VT\",\"VT\",\"WA\",\"WA\",\"WA\",\"WA\",\"WA\",\"WA\",\"WA\",\"WA\",\"WA\",\"WI\",\"WI\",\"WI\",\"WI\",\"WI\",\"WI\",\"WI\",\"WI\",\"WI\",\"WV\",\"WV\",\"WV\",\"WV\",\"WV\",\"WV\",\"WV\",\"WV\",\"WV\",\"WY\",\"WY\",\"WY\",\"WY\",\"WY\",\"WY\",\"WY\",\"WY\",\"WY\"],\"xaxis\":\"x\",\"y\":[116.0,145.0,177.0,177.0,180.0,155.0,179.0,175.0,182.0,736.0,815.0,958.0,1046.0,1124.0,1064.0,1076.0,1141.0,1315.0,439.0,496.0,520.0,541.0,613.0,573.0,580.0,673.0,698.0,934.0,927.0,970.0,1094.0,1134.0,1147.0,1136.0,1265.0,1365.0,3453.0,2942.0,3095.0,3184.0,3184.0,3040.0,2945.0,3449.0,3576.0,535.0,663.0,701.0,812.0,779.0,889.0,846.0,922.0,1064.0,187.0,187.0,189.0,172.0,188.0,186.0,190.0,219.0,248.0,75.0,102.0,112.0,111.0,111.0,107.0,93.0,135.0,158.0,1838.0,2410.0,2559.0,2704.0,2724.0,2902.0,2872.0,3041.0,3142.0,1064.0,1391.0,1448.0,1571.0,1623.0,1680.0,1695.0,1897.0,2200.0,28.0,40.0,55.0,66.0,39.0,59.0,62.0,50.0,71.0,201.0,241.0,247.0,288.0,293.0,282.0,294.0,351.0,364.0,195.0,213.0,247.0,242.0,280.0,294.0,255.0,321.0,309.0,1019.0,1179.0,1220.0,1490.0,1543.0,1382.0,1367.0,1745.0,1995.0,705.0,818.0,846.0,997.0,1016.0,977.0,958.0,1159.0,1251.0,257.0,329.0,330.0,383.0,466.0,424.0,403.0,494.0,503.0,548.0,634.0,694.0,772.0,730.0,762.0,682.0,902.0,947.0,858.0,896.0,952.0,987.0,1008.0,991.0,1013.0,1183.0,1314.0,224.0,226.0,213.0,242.0,262.0,258.0,247.0,268.0,247.0,657.0,546.0,708.0,707.0,742.0,707.0,757.0,803.0,915.0,109.0,133.0,144.0,123.0,172.0,159.0,163.0,153.0,178.0,1074.0,1095.0,1164.0,1230.0,1138.0,1310.0,1220.0,1454.0,1544.0,361.0,377.0,410.0,432.0,465.0,437.0,465.0,513.0,573.0,752.0,943.0,1094.0,1144.0,1307.0,1311.0,1252.0,1426.0,1414.0,455.0,547.0,589.0,587.0,632.0,681.0,710.0,818.0,962.0,161.0,172.0,205.0,194.0,244.0,186.0,209.0,238.0,280.0,1119.0,1206.0,1289.0,1409.0,1430.0,1416.0,1397.0,1699.0,1839.0,61.0,96.0,92.0,90.0,103.0,89.0,93.0,100.0,128.0,135.0,179.0,169.0,171.0,160.0,183.0,205.0,197.0,200.0,88.0,122.0,121.0,132.0,146.0,155.0,156.0,128.0,123.0,434.0,468.0,475.0,485.0,478.0,420.0,368.0,443.0,475.0,267.0,340.0,390.0,383.0,394.0,438.0,471.0,479.0,578.0,390.0,429.0,446.0,498.0,508.0,550.0,490.0,547.0,633.0,1019.0,875.0,849.0,900.0,772.0,821.0,804.0,1052.0,1078.0,1116.0,1211.0,1397.0,1524.0,1589.0,1555.0,1578.0,1764.0,1911.0,468.0,611.0,706.0,766.0,681.0,665.0,737.0,826.0,836.0,402.0,497.0,486.0,513.0,528.0,519.0,566.0,592.0,670.0,1352.0,1390.0,1485.0,1555.0,1636.0,1654.0,1541.0,1752.0,1905.0,39.0,34.0,51.0,49.0,43.0,37.0,48.0,54.0,64.0,589.0,767.0,850.0,891.0,893.0,895.0,1012.0,1131.0,1136.0,82.0,89.0,96.0,108.0,101.0,117.0,113.0,120.0,128.0,976.0,1016.0,1075.0,1148.0,1246.0,1228.0,1270.0,1473.0,1569.0,2490.0,2848.0,3203.0,3353.0,3513.0,3522.0,3683.0,4164.0,4613.0,227.0,337.0,367.0,370.0,410.0,397.0,394.0,429.0,450.0,888.0,889.0,946.0,1049.0,1041.0,1035.0,1025.0,1174.0,1248.0,44.0,69.0,70.0,78.0,70.0,82.0,67.0,76.0,83.0,567.0,702.0,718.0,686.0,849.0,809.0,842.0,864.0,896.0,474.0,487.0,613.0,664.0,624.0,598.0,604.0,717.0,793.0,261.0,286.0,278.0,332.0,348.0,343.0,300.0,325.0,319.0,71.0,93.0,113.0,101.0,113.0,124.0,133.0,154.0,155.0],\"yaxis\":\"y\",\"type\":\"scatter\"}],                        {\"template\":{\"data\":{\"histogram2dcontour\":[{\"type\":\"histogram2dcontour\",\"colorbar\":{\"outlinewidth\":0,\"ticks\":\"\"},\"colorscale\":[[0.0,\"#0d0887\"],[0.1111111111111111,\"#46039f\"],[0.2222222222222222,\"#7201a8\"],[0.3333333333333333,\"#9c179e\"],[0.4444444444444444,\"#bd3786\"],[0.5555555555555556,\"#d8576b\"],[0.6666666666666666,\"#ed7953\"],[0.7777777777777778,\"#fb9f3a\"],[0.8888888888888888,\"#fdca26\"],[1.0,\"#f0f921\"]]}],\"choropleth\":[{\"type\":\"choropleth\",\"colorbar\":{\"outlinewidth\":0,\"ticks\":\"\"}}],\"histogram2d\":[{\"type\":\"histogram2d\",\"colorbar\":{\"outlinewidth\":0,\"ticks\":\"\"},\"colorscale\":[[0.0,\"#0d0887\"],[0.1111111111111111,\"#46039f\"],[0.2222222222222222,\"#7201a8\"],[0.3333333333333333,\"#9c179e\"],[0.4444444444444444,\"#bd3786\"],[0.5555555555555556,\"#d8576b\"],[0.6666666666666666,\"#ed7953\"],[0.7777777777777778,\"#fb9f3a\"],[0.8888888888888888,\"#fdca26\"],[1.0,\"#f0f921\"]]}],\"heatmap\":[{\"type\":\"heatmap\",\"colorbar\":{\"outlinewidth\":0,\"ticks\":\"\"},\"colorscale\":[[0.0,\"#0d0887\"],[0.1111111111111111,\"#46039f\"],[0.2222222222222222,\"#7201a8\"],[0.3333333333333333,\"#9c179e\"],[0.4444444444444444,\"#bd3786\"],[0.5555555555555556,\"#d8576b\"],[0.6666666666666666,\"#ed7953\"],[0.7777777777777778,\"#fb9f3a\"],[0.8888888888888888,\"#fdca26\"],[1.0,\"#f0f921\"]]}],\"heatmapgl\":[{\"type\":\"heatmapgl\",\"colorbar\":{\"outlinewidth\":0,\"ticks\":\"\"},\"colorscale\":[[0.0,\"#0d0887\"],[0.1111111111111111,\"#46039f\"],[0.2222222222222222,\"#7201a8\"],[0.3333333333333333,\"#9c179e\"],[0.4444444444444444,\"#bd3786\"],[0.5555555555555556,\"#d8576b\"],[0.6666666666666666,\"#ed7953\"],[0.7777777777777778,\"#fb9f3a\"],[0.8888888888888888,\"#fdca26\"],[1.0,\"#f0f921\"]]}],\"contourcarpet\":[{\"type\":\"contourcarpet\",\"colorbar\":{\"outlinewidth\":0,\"ticks\":\"\"}}],\"contour\":[{\"type\":\"contour\",\"colorbar\":{\"outlinewidth\":0,\"ticks\":\"\"},\"colorscale\":[[0.0,\"#0d0887\"],[0.1111111111111111,\"#46039f\"],[0.2222222222222222,\"#7201a8\"],[0.3333333333333333,\"#9c179e\"],[0.4444444444444444,\"#bd3786\"],[0.5555555555555556,\"#d8576b\"],[0.6666666666666666,\"#ed7953\"],[0.7777777777777778,\"#fb9f3a\"],[0.8888888888888888,\"#fdca26\"],[1.0,\"#f0f921\"]]}],\"surface\":[{\"type\":\"surface\",\"colorbar\":{\"outlinewidth\":0,\"ticks\":\"\"},\"colorscale\":[[0.0,\"#0d0887\"],[0.1111111111111111,\"#46039f\"],[0.2222222222222222,\"#7201a8\"],[0.3333333333333333,\"#9c179e\"],[0.4444444444444444,\"#bd3786\"],[0.5555555555555556,\"#d8576b\"],[0.6666666666666666,\"#ed7953\"],[0.7777777777777778,\"#fb9f3a\"],[0.8888888888888888,\"#fdca26\"],[1.0,\"#f0f921\"]]}],\"mesh3d\":[{\"type\":\"mesh3d\",\"colorbar\":{\"outlinewidth\":0,\"ticks\":\"\"}}],\"scatter\":[{\"fillpattern\":{\"fillmode\":\"overlay\",\"size\":10,\"solidity\":0.2},\"type\":\"scatter\"}],\"parcoords\":[{\"type\":\"parcoords\",\"line\":{\"colorbar\":{\"outlinewidth\":0,\"ticks\":\"\"}}}],\"scatterpolargl\":[{\"type\":\"scatterpolargl\",\"marker\":{\"colorbar\":{\"outlinewidth\":0,\"ticks\":\"\"}}}],\"bar\":[{\"error_x\":{\"color\":\"#2a3f5f\"},\"error_y\":{\"color\":\"#2a3f5f\"},\"marker\":{\"line\":{\"color\":\"#E5ECF6\",\"width\":0.5},\"pattern\":{\"fillmode\":\"overlay\",\"size\":10,\"solidity\":0.2}},\"type\":\"bar\"}],\"scattergeo\":[{\"type\":\"scattergeo\",\"marker\":{\"colorbar\":{\"outlinewidth\":0,\"ticks\":\"\"}}}],\"scatterpolar\":[{\"type\":\"scatterpolar\",\"marker\":{\"colorbar\":{\"outlinewidth\":0,\"ticks\":\"\"}}}],\"histogram\":[{\"marker\":{\"pattern\":{\"fillmode\":\"overlay\",\"size\":10,\"solidity\":0.2}},\"type\":\"histogram\"}],\"scattergl\":[{\"type\":\"scattergl\",\"marker\":{\"colorbar\":{\"outlinewidth\":0,\"ticks\":\"\"}}}],\"scatter3d\":[{\"type\":\"scatter3d\",\"line\":{\"colorbar\":{\"outlinewidth\":0,\"ticks\":\"\"}},\"marker\":{\"colorbar\":{\"outlinewidth\":0,\"ticks\":\"\"}}}],\"scattermapbox\":[{\"type\":\"scattermapbox\",\"marker\":{\"colorbar\":{\"outlinewidth\":0,\"ticks\":\"\"}}}],\"scatterternary\":[{\"type\":\"scatterternary\",\"marker\":{\"colorbar\":{\"outlinewidth\":0,\"ticks\":\"\"}}}],\"scattercarpet\":[{\"type\":\"scattercarpet\",\"marker\":{\"colorbar\":{\"outlinewidth\":0,\"ticks\":\"\"}}}],\"carpet\":[{\"aaxis\":{\"endlinecolor\":\"#2a3f5f\",\"gridcolor\":\"white\",\"linecolor\":\"white\",\"minorgridcolor\":\"white\",\"startlinecolor\":\"#2a3f5f\"},\"baxis\":{\"endlinecolor\":\"#2a3f5f\",\"gridcolor\":\"white\",\"linecolor\":\"white\",\"minorgridcolor\":\"white\",\"startlinecolor\":\"#2a3f5f\"},\"type\":\"carpet\"}],\"table\":[{\"cells\":{\"fill\":{\"color\":\"#EBF0F8\"},\"line\":{\"color\":\"white\"}},\"header\":{\"fill\":{\"color\":\"#C8D4E3\"},\"line\":{\"color\":\"white\"}},\"type\":\"table\"}],\"barpolar\":[{\"marker\":{\"line\":{\"color\":\"#E5ECF6\",\"width\":0.5},\"pattern\":{\"fillmode\":\"overlay\",\"size\":10,\"solidity\":0.2}},\"type\":\"barpolar\"}],\"pie\":[{\"automargin\":true,\"type\":\"pie\"}]},\"layout\":{\"autotypenumbers\":\"strict\",\"colorway\":[\"#636efa\",\"#EF553B\",\"#00cc96\",\"#ab63fa\",\"#FFA15A\",\"#19d3f3\",\"#FF6692\",\"#B6E880\",\"#FF97FF\",\"#FECB52\"],\"font\":{\"color\":\"#2a3f5f\"},\"hovermode\":\"closest\",\"hoverlabel\":{\"align\":\"left\"},\"paper_bgcolor\":\"white\",\"plot_bgcolor\":\"#E5ECF6\",\"polar\":{\"bgcolor\":\"#E5ECF6\",\"angularaxis\":{\"gridcolor\":\"white\",\"linecolor\":\"white\",\"ticks\":\"\"},\"radialaxis\":{\"gridcolor\":\"white\",\"linecolor\":\"white\",\"ticks\":\"\"}},\"ternary\":{\"bgcolor\":\"#E5ECF6\",\"aaxis\":{\"gridcolor\":\"white\",\"linecolor\":\"white\",\"ticks\":\"\"},\"baxis\":{\"gridcolor\":\"white\",\"linecolor\":\"white\",\"ticks\":\"\"},\"caxis\":{\"gridcolor\":\"white\",\"linecolor\":\"white\",\"ticks\":\"\"}},\"coloraxis\":{\"colorbar\":{\"outlinewidth\":0,\"ticks\":\"\"}},\"colorscale\":{\"sequential\":[[0.0,\"#0d0887\"],[0.1111111111111111,\"#46039f\"],[0.2222222222222222,\"#7201a8\"],[0.3333333333333333,\"#9c179e\"],[0.4444444444444444,\"#bd3786\"],[0.5555555555555556,\"#d8576b\"],[0.6666666666666666,\"#ed7953\"],[0.7777777777777778,\"#fb9f3a\"],[0.8888888888888888,\"#fdca26\"],[1.0,\"#f0f921\"]],\"sequentialminus\":[[0.0,\"#0d0887\"],[0.1111111111111111,\"#46039f\"],[0.2222222222222222,\"#7201a8\"],[0.3333333333333333,\"#9c179e\"],[0.4444444444444444,\"#bd3786\"],[0.5555555555555556,\"#d8576b\"],[0.6666666666666666,\"#ed7953\"],[0.7777777777777778,\"#fb9f3a\"],[0.8888888888888888,\"#fdca26\"],[1.0,\"#f0f921\"]],\"diverging\":[[0,\"#8e0152\"],[0.1,\"#c51b7d\"],[0.2,\"#de77ae\"],[0.3,\"#f1b6da\"],[0.4,\"#fde0ef\"],[0.5,\"#f7f7f7\"],[0.6,\"#e6f5d0\"],[0.7,\"#b8e186\"],[0.8,\"#7fbc41\"],[0.9,\"#4d9221\"],[1,\"#276419\"]]},\"xaxis\":{\"gridcolor\":\"white\",\"linecolor\":\"white\",\"ticks\":\"\",\"title\":{\"standoff\":15},\"zerolinecolor\":\"white\",\"automargin\":true,\"zerolinewidth\":2},\"yaxis\":{\"gridcolor\":\"white\",\"linecolor\":\"white\",\"ticks\":\"\",\"title\":{\"standoff\":15},\"zerolinecolor\":\"white\",\"automargin\":true,\"zerolinewidth\":2},\"scene\":{\"xaxis\":{\"backgroundcolor\":\"#E5ECF6\",\"gridcolor\":\"white\",\"linecolor\":\"white\",\"showbackground\":true,\"ticks\":\"\",\"zerolinecolor\":\"white\",\"gridwidth\":2},\"yaxis\":{\"backgroundcolor\":\"#E5ECF6\",\"gridcolor\":\"white\",\"linecolor\":\"white\",\"showbackground\":true,\"ticks\":\"\",\"zerolinecolor\":\"white\",\"gridwidth\":2},\"zaxis\":{\"backgroundcolor\":\"#E5ECF6\",\"gridcolor\":\"white\",\"linecolor\":\"white\",\"showbackground\":true,\"ticks\":\"\",\"zerolinecolor\":\"white\",\"gridwidth\":2}},\"shapedefaults\":{\"line\":{\"color\":\"#2a3f5f\"}},\"annotationdefaults\":{\"arrowcolor\":\"#2a3f5f\",\"arrowhead\":0,\"arrowwidth\":1},\"geo\":{\"bgcolor\":\"white\",\"landcolor\":\"#E5ECF6\",\"subunitcolor\":\"white\",\"showland\":true,\"showlakes\":true,\"lakecolor\":\"white\"},\"title\":{\"x\":0.05},\"mapbox\":{\"style\":\"light\"}}},\"xaxis\":{\"anchor\":\"y\",\"domain\":[0.0,1.0],\"title\":{\"text\":\"STATE\"}},\"yaxis\":{\"anchor\":\"x\",\"domain\":[0.0,1.0],\"title\":{\"text\":\"DEATHS\"}},\"legend\":{\"tracegroupgap\":0},\"title\":{\"text\":\"Firearm Mortalities per State\"}},                        {\"responsive\": true}                    ).then(function(){\n",
       "                            \n",
       "var gd = document.getElementById('197137dd-88f0-4f6f-a26e-245b2146553d');\n",
       "var x = new MutationObserver(function (mutations, observer) {{\n",
       "        var display = window.getComputedStyle(gd).display;\n",
       "        if (!display || display === 'none') {{\n",
       "            console.log([gd, 'removed!']);\n",
       "            Plotly.purge(gd);\n",
       "            observer.disconnect();\n",
       "        }}\n",
       "}});\n",
       "\n",
       "// Listen for the removal of the full notebook cells\n",
       "var notebookContainer = gd.closest('#notebook-container');\n",
       "if (notebookContainer) {{\n",
       "    x.observe(notebookContainer, {childList: true});\n",
       "}}\n",
       "\n",
       "// Listen for the clearing of the current output cell\n",
       "var outputEl = gd.closest('.output');\n",
       "if (outputEl) {{\n",
       "    x.observe(outputEl, {childList: true});\n",
       "}}\n",
       "\n",
       "                        })                };                });            </script>        </div>"
      ]
     },
     "metadata": {},
     "output_type": "display_data"
    }
   ],
   "source": [
    "# Firearm Mortalities per State\n",
    "firearm_mortality.groupby(['STATE','YEAR'])['DEATHS'].mean().reset_index().plot.scatter(\n",
    "    x = 'STATE', y ='DEATHS', title = 'Firearm Mortalities per State', backend='plotly')"
   ]
  },
  {
   "cell_type": "code",
   "execution_count": 10,
   "id": "7a4a9bda-a9dd-4d0f-af91-0e77971d12ea",
   "metadata": {
    "tags": []
   },
   "outputs": [
    {
     "data": {
      "text/plain": [
       "STATE\n",
       "MS    22.766667\n",
       "AK    22.444444\n",
       "LA    22.200000\n",
       "AL    21.211111\n",
       "WY    20.133333\n",
       "NM    19.844444\n",
       "MO    19.555556\n",
       "MT    19.544444\n",
       "AR    19.044444\n",
       "SC    18.211111\n",
       "TN    18.100000\n",
       "OK    17.888889\n",
       "NV    16.588889\n",
       "KY    16.533333\n",
       "WV    16.522222\n",
       "Name: RATE, dtype: float64"
      ]
     },
     "execution_count": 10,
     "metadata": {},
     "output_type": "execute_result"
    }
   ],
   "source": [
    "#highest mortality rate by firearm states - Mississippi Highest\n",
    "firearm_mortality.groupby('STATE')['RATE'].mean().nlargest(15)"
   ]
  },
  {
   "cell_type": "code",
   "execution_count": 27,
   "id": "da4fa6a9-3b5c-49bf-b2c3-ec8ad174dc8e",
   "metadata": {
    "tags": []
   },
   "outputs": [
    {
     "data": {
      "application/vnd.plotly.v1+json": {
       "config": {
        "plotlyServerURL": "https://plot.ly"
       },
       "data": [
        {
         "hovertemplate": "STATE=%{x}<br>RATE=%{y}<extra></extra>",
         "legendgroup": "",
         "marker": {
          "color": "#636efa",
          "symbol": "circle"
         },
         "mode": "markers",
         "name": "",
         "orientation": "v",
         "showlegend": false,
         "type": "scatter",
         "x": [
          "AK",
          "AK",
          "AK",
          "AK",
          "AK",
          "AK",
          "AK",
          "AK",
          "AK",
          "AL",
          "AL",
          "AL",
          "AL",
          "AL",
          "AL",
          "AL",
          "AL",
          "AL",
          "AR",
          "AR",
          "AR",
          "AR",
          "AR",
          "AR",
          "AR",
          "AR",
          "AR",
          "AZ",
          "AZ",
          "AZ",
          "AZ",
          "AZ",
          "AZ",
          "AZ",
          "AZ",
          "AZ",
          "CA",
          "CA",
          "CA",
          "CA",
          "CA",
          "CA",
          "CA",
          "CA",
          "CA",
          "CO",
          "CO",
          "CO",
          "CO",
          "CO",
          "CO",
          "CO",
          "CO",
          "CO",
          "CT",
          "CT",
          "CT",
          "CT",
          "CT",
          "CT",
          "CT",
          "CT",
          "CT",
          "DE",
          "DE",
          "DE",
          "DE",
          "DE",
          "DE",
          "DE",
          "DE",
          "DE",
          "FL",
          "FL",
          "FL",
          "FL",
          "FL",
          "FL",
          "FL",
          "FL",
          "FL",
          "GA",
          "GA",
          "GA",
          "GA",
          "GA",
          "GA",
          "GA",
          "GA",
          "GA",
          "HI",
          "HI",
          "HI",
          "HI",
          "HI",
          "HI",
          "HI",
          "HI",
          "HI",
          "IA",
          "IA",
          "IA",
          "IA",
          "IA",
          "IA",
          "IA",
          "IA",
          "IA",
          "ID",
          "ID",
          "ID",
          "ID",
          "ID",
          "ID",
          "ID",
          "ID",
          "ID",
          "IL",
          "IL",
          "IL",
          "IL",
          "IL",
          "IL",
          "IL",
          "IL",
          "IL",
          "IN",
          "IN",
          "IN",
          "IN",
          "IN",
          "IN",
          "IN",
          "IN",
          "IN",
          "KS",
          "KS",
          "KS",
          "KS",
          "KS",
          "KS",
          "KS",
          "KS",
          "KS",
          "KY",
          "KY",
          "KY",
          "KY",
          "KY",
          "KY",
          "KY",
          "KY",
          "KY",
          "LA",
          "LA",
          "LA",
          "LA",
          "LA",
          "LA",
          "LA",
          "LA",
          "LA",
          "MA",
          "MA",
          "MA",
          "MA",
          "MA",
          "MA",
          "MA",
          "MA",
          "MA",
          "MD",
          "MD",
          "MD",
          "MD",
          "MD",
          "MD",
          "MD",
          "MD",
          "MD",
          "ME",
          "ME",
          "ME",
          "ME",
          "ME",
          "ME",
          "ME",
          "ME",
          "ME",
          "MI",
          "MI",
          "MI",
          "MI",
          "MI",
          "MI",
          "MI",
          "MI",
          "MI",
          "MN",
          "MN",
          "MN",
          "MN",
          "MN",
          "MN",
          "MN",
          "MN",
          "MN",
          "MO",
          "MO",
          "MO",
          "MO",
          "MO",
          "MO",
          "MO",
          "MO",
          "MO",
          "MS",
          "MS",
          "MS",
          "MS",
          "MS",
          "MS",
          "MS",
          "MS",
          "MS",
          "MT",
          "MT",
          "MT",
          "MT",
          "MT",
          "MT",
          "MT",
          "MT",
          "MT",
          "NC",
          "NC",
          "NC",
          "NC",
          "NC",
          "NC",
          "NC",
          "NC",
          "NC",
          "ND",
          "ND",
          "ND",
          "ND",
          "ND",
          "ND",
          "ND",
          "ND",
          "ND",
          "NE",
          "NE",
          "NE",
          "NE",
          "NE",
          "NE",
          "NE",
          "NE",
          "NE",
          "NH",
          "NH",
          "NH",
          "NH",
          "NH",
          "NH",
          "NH",
          "NH",
          "NH",
          "NJ",
          "NJ",
          "NJ",
          "NJ",
          "NJ",
          "NJ",
          "NJ",
          "NJ",
          "NJ",
          "NM",
          "NM",
          "NM",
          "NM",
          "NM",
          "NM",
          "NM",
          "NM",
          "NM",
          "NV",
          "NV",
          "NV",
          "NV",
          "NV",
          "NV",
          "NV",
          "NV",
          "NV",
          "NY",
          "NY",
          "NY",
          "NY",
          "NY",
          "NY",
          "NY",
          "NY",
          "NY",
          "OH",
          "OH",
          "OH",
          "OH",
          "OH",
          "OH",
          "OH",
          "OH",
          "OH",
          "OK",
          "OK",
          "OK",
          "OK",
          "OK",
          "OK",
          "OK",
          "OK",
          "OK",
          "OR",
          "OR",
          "OR",
          "OR",
          "OR",
          "OR",
          "OR",
          "OR",
          "OR",
          "PA",
          "PA",
          "PA",
          "PA",
          "PA",
          "PA",
          "PA",
          "PA",
          "PA",
          "RI",
          "RI",
          "RI",
          "RI",
          "RI",
          "RI",
          "RI",
          "RI",
          "RI",
          "SC",
          "SC",
          "SC",
          "SC",
          "SC",
          "SC",
          "SC",
          "SC",
          "SC",
          "SD",
          "SD",
          "SD",
          "SD",
          "SD",
          "SD",
          "SD",
          "SD",
          "SD",
          "TN",
          "TN",
          "TN",
          "TN",
          "TN",
          "TN",
          "TN",
          "TN",
          "TN",
          "TX",
          "TX",
          "TX",
          "TX",
          "TX",
          "TX",
          "TX",
          "TX",
          "TX",
          "UT",
          "UT",
          "UT",
          "UT",
          "UT",
          "UT",
          "UT",
          "UT",
          "UT",
          "VA",
          "VA",
          "VA",
          "VA",
          "VA",
          "VA",
          "VA",
          "VA",
          "VA",
          "VT",
          "VT",
          "VT",
          "VT",
          "VT",
          "VT",
          "VT",
          "VT",
          "VT",
          "WA",
          "WA",
          "WA",
          "WA",
          "WA",
          "WA",
          "WA",
          "WA",
          "WA",
          "WI",
          "WI",
          "WI",
          "WI",
          "WI",
          "WI",
          "WI",
          "WI",
          "WI",
          "WV",
          "WV",
          "WV",
          "WV",
          "WV",
          "WV",
          "WV",
          "WV",
          "WV",
          "WY",
          "WY",
          "WY",
          "WY",
          "WY",
          "WY",
          "WY",
          "WY",
          "WY"
         ],
         "xaxis": "x",
         "y": [
          17.5,
          19.2,
          23.4,
          23.3,
          24.5,
          21,
          24.4,
          23.5,
          25.2,
          16,
          16.9,
          19.6,
          21.5,
          22.9,
          21.8,
          22.2,
          23.6,
          26.4,
          15.7,
          16.6,
          16.9,
          17.8,
          20.3,
          18.9,
          19.3,
          22.6,
          23.3,
          16.1,
          13.5,
          13.8,
          15.2,
          15.8,
          15.3,
          15.1,
          16.7,
          18.3,
          9.5,
          7.4,
          7.7,
          7.9,
          7.9,
          7.5,
          7.2,
          8.5,
          9,
          11.6,
          12.2,
          12.6,
          14.3,
          13.4,
          15.2,
          14.2,
          15.4,
          17.8,
          5.3,
          5,
          5.3,
          4.6,
          5.1,
          4.9,
          5.3,
          6,
          6.7,
          8.8,
          11.1,
          12.1,
          11,
          11.7,
          11.6,
          9.9,
          14.4,
          16.6,
          10,
          11.5,
          12,
          12.6,
          12.4,
          12.9,
          12.7,
          13.7,
          14.1,
          12.1,
          13.7,
          14.1,
          15,
          15.4,
          15.7,
          15.8,
          17.7,
          20.3,
          2.1,
          2.6,
          3.6,
          4.5,
          2.5,
          4,
          4.4,
          3.4,
          4.8,
          6.7,
          7.5,
          7.8,
          9.2,
          9,
          8.7,
          9.1,
          11.2,
          11.2,
          14.1,
          13.2,
          14.7,
          14.6,
          16.4,
          16.6,
          14.2,
          17.6,
          16.3,
          8,
          9,
          9.5,
          11.7,
          12.1,
          10.9,
          10.8,
          14.1,
          16.1,
          11.2,
          12.4,
          12.7,
          15,
          15.3,
          14.7,
          14.1,
          17.3,
          18.4,
          9.3,
          11.3,
          11.4,
          13.4,
          16,
          14.8,
          13.7,
          16.9,
          17.3,
          13,
          13.9,
          15.2,
          17.5,
          16.2,
          16.9,
          14.9,
          20.1,
          21.1,
          18.5,
          19,
          20.4,
          21.3,
          21.7,
          21.4,
          22.1,
          26.3,
          29.1,
          3.4,
          3.2,
          3,
          3.4,
          3.7,
          3.5,
          3.4,
          3.7,
          3.4,
          11.9,
          9,
          11.9,
          11.9,
          12.3,
          11.7,
          12.6,
          13.5,
          15.2,
          7.8,
          9.4,
          9.8,
          8.3,
          11.7,
          10.3,
          11.5,
          10.4,
          12.6,
          10.8,
          11.1,
          11.7,
          12.3,
          11.3,
          12.9,
          12.1,
          14.6,
          15.4,
          7,
          6.6,
          7.4,
          7.6,
          8.2,
          7.8,
          8.1,
          8.9,
          10,
          12.9,
          15.3,
          18.1,
          19,
          21.5,
          21.5,
          20.6,
          23.9,
          23.2,
          16,
          18.3,
          19.6,
          19.9,
          21.5,
          22.9,
          24.2,
          28.6,
          33.9,
          16.9,
          16.1,
          19.2,
          18.9,
          22.5,
          17.3,
          19,
          20.9,
          25.1,
          12.8,
          11.8,
          12.5,
          13.7,
          13.7,
          13.3,
          13.1,
          16,
          17.3,
          8.8,
          12.3,
          12.8,
          11.9,
          13.2,
          11.5,
          12.4,
          13.8,
          16.8,
          7.7,
          9.5,
          8.9,
          9.1,
          8.3,
          9,
          10.4,
          10.1,
          10.3,
          6.6,
          8.7,
          8.9,
          9.3,
          10.4,
          10.8,
          10.7,
          8.9,
          8.3,
          5.2,
          5.3,
          5.4,
          5.5,
          5.3,
          4.8,
          4.1,
          5,
          5.2,
          13.9,
          16,
          18.6,
          18.1,
          18.5,
          20.7,
          22.3,
          22.7,
          27.8,
          16.1,
          14.8,
          14.9,
          16.8,
          16.7,
          17.9,
          15.3,
          17,
          19.8,
          5.3,
          4.2,
          4.2,
          4.4,
          3.7,
          4.1,
          3.9,
          5.3,
          5.4,
          9.6,
          10.3,
          11.9,
          12.9,
          13.7,
          13.1,
          13.3,
          15.2,
          16.5,
          13.2,
          15.7,
          18,
          19.6,
          17.2,
          16.8,
          18.6,
          20.7,
          21.2,
          10.7,
          11.7,
          11.4,
          11.9,
          12.1,
          11.7,
          12.6,
          13,
          14.9,
          10.8,
          10.5,
          11.4,
          12,
          12.5,
          12.5,
          11.7,
          13.6,
          14.8,
          3.6,
          3,
          4.7,
          4.1,
          3.9,
          3.3,
          4.6,
          5.1,
          5.6,
          13.8,
          15.5,
          17.3,
          17.7,
          17.7,
          17.6,
          19.9,
          22,
          22.4,
          10.2,
          10.3,
          11.1,
          13.4,
          11.9,
          13.6,
          13.1,
          13.6,
          14.3,
          16,
          15.1,
          16,
          17.1,
          18.4,
          17.8,
          18.4,
          21.3,
          22.8,
          11.1,
          10.7,
          11.7,
          12.1,
          12.4,
          12.2,
          12.7,
          14.2,
          15.6,
          10.1,
          12.3,
          12.8,
          12.9,
          14,
          13.2,
          12.8,
          13.6,
          13.9,
          11.5,
          10.3,
          10.9,
          12.1,
          11.9,
          11.8,
          11.7,
          13.4,
          14.3,
          6.8,
          10.3,
          9.6,
          11.1,
          11.7,
          12.8,
          9.3,
          11.6,
          11.9,
          8.8,
          9.7,
          9.8,
          9,
          11.1,
          10.4,
          10.7,
          10.9,
          11.2,
          8.5,
          8.2,
          10.4,
          11.4,
          10.6,
          10.1,
          10,
          12.2,
          13.5,
          13.8,
          14.6,
          14,
          17.5,
          18.6,
          18.2,
          16.6,
          18.1,
          17.3,
          13.4,
          16.2,
          19.6,
          17.4,
          18.8,
          21.5,
          22.3,
          25.9,
          26.1
         ],
         "yaxis": "y"
        }
       ],
       "layout": {
        "autosize": true,
        "legend": {
         "tracegroupgap": 0
        },
        "template": {
         "data": {
          "bar": [
           {
            "error_x": {
             "color": "#2a3f5f"
            },
            "error_y": {
             "color": "#2a3f5f"
            },
            "marker": {
             "line": {
              "color": "#E5ECF6",
              "width": 0.5
             },
             "pattern": {
              "fillmode": "overlay",
              "size": 10,
              "solidity": 0.2
             }
            },
            "type": "bar"
           }
          ],
          "barpolar": [
           {
            "marker": {
             "line": {
              "color": "#E5ECF6",
              "width": 0.5
             },
             "pattern": {
              "fillmode": "overlay",
              "size": 10,
              "solidity": 0.2
             }
            },
            "type": "barpolar"
           }
          ],
          "carpet": [
           {
            "aaxis": {
             "endlinecolor": "#2a3f5f",
             "gridcolor": "white",
             "linecolor": "white",
             "minorgridcolor": "white",
             "startlinecolor": "#2a3f5f"
            },
            "baxis": {
             "endlinecolor": "#2a3f5f",
             "gridcolor": "white",
             "linecolor": "white",
             "minorgridcolor": "white",
             "startlinecolor": "#2a3f5f"
            },
            "type": "carpet"
           }
          ],
          "choropleth": [
           {
            "colorbar": {
             "outlinewidth": 0,
             "ticks": ""
            },
            "type": "choropleth"
           }
          ],
          "contour": [
           {
            "colorbar": {
             "outlinewidth": 0,
             "ticks": ""
            },
            "colorscale": [
             [
              0,
              "#0d0887"
             ],
             [
              0.1111111111111111,
              "#46039f"
             ],
             [
              0.2222222222222222,
              "#7201a8"
             ],
             [
              0.3333333333333333,
              "#9c179e"
             ],
             [
              0.4444444444444444,
              "#bd3786"
             ],
             [
              0.5555555555555556,
              "#d8576b"
             ],
             [
              0.6666666666666666,
              "#ed7953"
             ],
             [
              0.7777777777777778,
              "#fb9f3a"
             ],
             [
              0.8888888888888888,
              "#fdca26"
             ],
             [
              1,
              "#f0f921"
             ]
            ],
            "type": "contour"
           }
          ],
          "contourcarpet": [
           {
            "colorbar": {
             "outlinewidth": 0,
             "ticks": ""
            },
            "type": "contourcarpet"
           }
          ],
          "heatmap": [
           {
            "colorbar": {
             "outlinewidth": 0,
             "ticks": ""
            },
            "colorscale": [
             [
              0,
              "#0d0887"
             ],
             [
              0.1111111111111111,
              "#46039f"
             ],
             [
              0.2222222222222222,
              "#7201a8"
             ],
             [
              0.3333333333333333,
              "#9c179e"
             ],
             [
              0.4444444444444444,
              "#bd3786"
             ],
             [
              0.5555555555555556,
              "#d8576b"
             ],
             [
              0.6666666666666666,
              "#ed7953"
             ],
             [
              0.7777777777777778,
              "#fb9f3a"
             ],
             [
              0.8888888888888888,
              "#fdca26"
             ],
             [
              1,
              "#f0f921"
             ]
            ],
            "type": "heatmap"
           }
          ],
          "heatmapgl": [
           {
            "colorbar": {
             "outlinewidth": 0,
             "ticks": ""
            },
            "colorscale": [
             [
              0,
              "#0d0887"
             ],
             [
              0.1111111111111111,
              "#46039f"
             ],
             [
              0.2222222222222222,
              "#7201a8"
             ],
             [
              0.3333333333333333,
              "#9c179e"
             ],
             [
              0.4444444444444444,
              "#bd3786"
             ],
             [
              0.5555555555555556,
              "#d8576b"
             ],
             [
              0.6666666666666666,
              "#ed7953"
             ],
             [
              0.7777777777777778,
              "#fb9f3a"
             ],
             [
              0.8888888888888888,
              "#fdca26"
             ],
             [
              1,
              "#f0f921"
             ]
            ],
            "type": "heatmapgl"
           }
          ],
          "histogram": [
           {
            "marker": {
             "pattern": {
              "fillmode": "overlay",
              "size": 10,
              "solidity": 0.2
             }
            },
            "type": "histogram"
           }
          ],
          "histogram2d": [
           {
            "colorbar": {
             "outlinewidth": 0,
             "ticks": ""
            },
            "colorscale": [
             [
              0,
              "#0d0887"
             ],
             [
              0.1111111111111111,
              "#46039f"
             ],
             [
              0.2222222222222222,
              "#7201a8"
             ],
             [
              0.3333333333333333,
              "#9c179e"
             ],
             [
              0.4444444444444444,
              "#bd3786"
             ],
             [
              0.5555555555555556,
              "#d8576b"
             ],
             [
              0.6666666666666666,
              "#ed7953"
             ],
             [
              0.7777777777777778,
              "#fb9f3a"
             ],
             [
              0.8888888888888888,
              "#fdca26"
             ],
             [
              1,
              "#f0f921"
             ]
            ],
            "type": "histogram2d"
           }
          ],
          "histogram2dcontour": [
           {
            "colorbar": {
             "outlinewidth": 0,
             "ticks": ""
            },
            "colorscale": [
             [
              0,
              "#0d0887"
             ],
             [
              0.1111111111111111,
              "#46039f"
             ],
             [
              0.2222222222222222,
              "#7201a8"
             ],
             [
              0.3333333333333333,
              "#9c179e"
             ],
             [
              0.4444444444444444,
              "#bd3786"
             ],
             [
              0.5555555555555556,
              "#d8576b"
             ],
             [
              0.6666666666666666,
              "#ed7953"
             ],
             [
              0.7777777777777778,
              "#fb9f3a"
             ],
             [
              0.8888888888888888,
              "#fdca26"
             ],
             [
              1,
              "#f0f921"
             ]
            ],
            "type": "histogram2dcontour"
           }
          ],
          "mesh3d": [
           {
            "colorbar": {
             "outlinewidth": 0,
             "ticks": ""
            },
            "type": "mesh3d"
           }
          ],
          "parcoords": [
           {
            "line": {
             "colorbar": {
              "outlinewidth": 0,
              "ticks": ""
             }
            },
            "type": "parcoords"
           }
          ],
          "pie": [
           {
            "automargin": true,
            "type": "pie"
           }
          ],
          "scatter": [
           {
            "fillpattern": {
             "fillmode": "overlay",
             "size": 10,
             "solidity": 0.2
            },
            "type": "scatter"
           }
          ],
          "scatter3d": [
           {
            "line": {
             "colorbar": {
              "outlinewidth": 0,
              "ticks": ""
             }
            },
            "marker": {
             "colorbar": {
              "outlinewidth": 0,
              "ticks": ""
             }
            },
            "type": "scatter3d"
           }
          ],
          "scattercarpet": [
           {
            "marker": {
             "colorbar": {
              "outlinewidth": 0,
              "ticks": ""
             }
            },
            "type": "scattercarpet"
           }
          ],
          "scattergeo": [
           {
            "marker": {
             "colorbar": {
              "outlinewidth": 0,
              "ticks": ""
             }
            },
            "type": "scattergeo"
           }
          ],
          "scattergl": [
           {
            "marker": {
             "colorbar": {
              "outlinewidth": 0,
              "ticks": ""
             }
            },
            "type": "scattergl"
           }
          ],
          "scattermapbox": [
           {
            "marker": {
             "colorbar": {
              "outlinewidth": 0,
              "ticks": ""
             }
            },
            "type": "scattermapbox"
           }
          ],
          "scatterpolar": [
           {
            "marker": {
             "colorbar": {
              "outlinewidth": 0,
              "ticks": ""
             }
            },
            "type": "scatterpolar"
           }
          ],
          "scatterpolargl": [
           {
            "marker": {
             "colorbar": {
              "outlinewidth": 0,
              "ticks": ""
             }
            },
            "type": "scatterpolargl"
           }
          ],
          "scatterternary": [
           {
            "marker": {
             "colorbar": {
              "outlinewidth": 0,
              "ticks": ""
             }
            },
            "type": "scatterternary"
           }
          ],
          "surface": [
           {
            "colorbar": {
             "outlinewidth": 0,
             "ticks": ""
            },
            "colorscale": [
             [
              0,
              "#0d0887"
             ],
             [
              0.1111111111111111,
              "#46039f"
             ],
             [
              0.2222222222222222,
              "#7201a8"
             ],
             [
              0.3333333333333333,
              "#9c179e"
             ],
             [
              0.4444444444444444,
              "#bd3786"
             ],
             [
              0.5555555555555556,
              "#d8576b"
             ],
             [
              0.6666666666666666,
              "#ed7953"
             ],
             [
              0.7777777777777778,
              "#fb9f3a"
             ],
             [
              0.8888888888888888,
              "#fdca26"
             ],
             [
              1,
              "#f0f921"
             ]
            ],
            "type": "surface"
           }
          ],
          "table": [
           {
            "cells": {
             "fill": {
              "color": "#EBF0F8"
             },
             "line": {
              "color": "white"
             }
            },
            "header": {
             "fill": {
              "color": "#C8D4E3"
             },
             "line": {
              "color": "white"
             }
            },
            "type": "table"
           }
          ]
         },
         "layout": {
          "annotationdefaults": {
           "arrowcolor": "#2a3f5f",
           "arrowhead": 0,
           "arrowwidth": 1
          },
          "autotypenumbers": "strict",
          "coloraxis": {
           "colorbar": {
            "outlinewidth": 0,
            "ticks": ""
           }
          },
          "colorscale": {
           "diverging": [
            [
             0,
             "#8e0152"
            ],
            [
             0.1,
             "#c51b7d"
            ],
            [
             0.2,
             "#de77ae"
            ],
            [
             0.3,
             "#f1b6da"
            ],
            [
             0.4,
             "#fde0ef"
            ],
            [
             0.5,
             "#f7f7f7"
            ],
            [
             0.6,
             "#e6f5d0"
            ],
            [
             0.7,
             "#b8e186"
            ],
            [
             0.8,
             "#7fbc41"
            ],
            [
             0.9,
             "#4d9221"
            ],
            [
             1,
             "#276419"
            ]
           ],
           "sequential": [
            [
             0,
             "#0d0887"
            ],
            [
             0.1111111111111111,
             "#46039f"
            ],
            [
             0.2222222222222222,
             "#7201a8"
            ],
            [
             0.3333333333333333,
             "#9c179e"
            ],
            [
             0.4444444444444444,
             "#bd3786"
            ],
            [
             0.5555555555555556,
             "#d8576b"
            ],
            [
             0.6666666666666666,
             "#ed7953"
            ],
            [
             0.7777777777777778,
             "#fb9f3a"
            ],
            [
             0.8888888888888888,
             "#fdca26"
            ],
            [
             1,
             "#f0f921"
            ]
           ],
           "sequentialminus": [
            [
             0,
             "#0d0887"
            ],
            [
             0.1111111111111111,
             "#46039f"
            ],
            [
             0.2222222222222222,
             "#7201a8"
            ],
            [
             0.3333333333333333,
             "#9c179e"
            ],
            [
             0.4444444444444444,
             "#bd3786"
            ],
            [
             0.5555555555555556,
             "#d8576b"
            ],
            [
             0.6666666666666666,
             "#ed7953"
            ],
            [
             0.7777777777777778,
             "#fb9f3a"
            ],
            [
             0.8888888888888888,
             "#fdca26"
            ],
            [
             1,
             "#f0f921"
            ]
           ]
          },
          "colorway": [
           "#636efa",
           "#EF553B",
           "#00cc96",
           "#ab63fa",
           "#FFA15A",
           "#19d3f3",
           "#FF6692",
           "#B6E880",
           "#FF97FF",
           "#FECB52"
          ],
          "font": {
           "color": "#2a3f5f"
          },
          "geo": {
           "bgcolor": "white",
           "lakecolor": "white",
           "landcolor": "#E5ECF6",
           "showlakes": true,
           "showland": true,
           "subunitcolor": "white"
          },
          "hoverlabel": {
           "align": "left"
          },
          "hovermode": "closest",
          "mapbox": {
           "style": "light"
          },
          "paper_bgcolor": "white",
          "plot_bgcolor": "#E5ECF6",
          "polar": {
           "angularaxis": {
            "gridcolor": "white",
            "linecolor": "white",
            "ticks": ""
           },
           "bgcolor": "#E5ECF6",
           "radialaxis": {
            "gridcolor": "white",
            "linecolor": "white",
            "ticks": ""
           }
          },
          "scene": {
           "xaxis": {
            "backgroundcolor": "#E5ECF6",
            "gridcolor": "white",
            "gridwidth": 2,
            "linecolor": "white",
            "showbackground": true,
            "ticks": "",
            "zerolinecolor": "white"
           },
           "yaxis": {
            "backgroundcolor": "#E5ECF6",
            "gridcolor": "white",
            "gridwidth": 2,
            "linecolor": "white",
            "showbackground": true,
            "ticks": "",
            "zerolinecolor": "white"
           },
           "zaxis": {
            "backgroundcolor": "#E5ECF6",
            "gridcolor": "white",
            "gridwidth": 2,
            "linecolor": "white",
            "showbackground": true,
            "ticks": "",
            "zerolinecolor": "white"
           }
          },
          "shapedefaults": {
           "line": {
            "color": "#2a3f5f"
           }
          },
          "ternary": {
           "aaxis": {
            "gridcolor": "white",
            "linecolor": "white",
            "ticks": ""
           },
           "baxis": {
            "gridcolor": "white",
            "linecolor": "white",
            "ticks": ""
           },
           "bgcolor": "#E5ECF6",
           "caxis": {
            "gridcolor": "white",
            "linecolor": "white",
            "ticks": ""
           }
          },
          "title": {
           "x": 0.05
          },
          "xaxis": {
           "automargin": true,
           "gridcolor": "white",
           "linecolor": "white",
           "ticks": "",
           "title": {
            "standoff": 15
           },
           "zerolinecolor": "white",
           "zerolinewidth": 2
          },
          "yaxis": {
           "automargin": true,
           "gridcolor": "white",
           "linecolor": "white",
           "ticks": "",
           "title": {
            "standoff": 15
           },
           "zerolinecolor": "white",
           "zerolinewidth": 2
          }
         }
        },
        "title": {
         "text": "Firearm Mortality Rates per State"
        },
        "xaxis": {
         "anchor": "y",
         "autorange": true,
         "domain": [
          0,
          1
         ],
         "range": [
          -2.992391160513431,
          51.99239116051343
         ],
         "title": {
          "text": "STATE"
         },
         "type": "category"
        },
        "yaxis": {
         "anchor": "x",
         "autorange": true,
         "domain": [
          0,
          1
         ],
         "range": [
          -0.5242718446601935,
          36.52427184466019
         ],
         "title": {
          "text": "RATE"
         },
         "type": "linear"
        }
       }
      },
      "image/png": "[encoded data removed]",
      "text/html": [
       "<div>                            <div id=\"e2d1936b-d3af-4d9c-b07c-e03d790708a5\" class=\"plotly-graph-div\" style=\"height:525px; width:100%;\"></div>            <script type=\"text/javascript\">                require([\"plotly\"], function(Plotly) {                    window.PLOTLYENV=window.PLOTLYENV || {};                                    if (document.getElementById(\"e2d1936b-d3af-4d9c-b07c-e03d790708a5\")) {                    Plotly.newPlot(                        \"e2d1936b-d3af-4d9c-b07c-e03d790708a5\",                        [{\"hovertemplate\":\"STATE=%{x}<br>RATE=%{y}<extra></extra>\",\"legendgroup\":\"\",\"marker\":{\"color\":\"#636efa\",\"symbol\":\"circle\"},\"mode\":\"markers\",\"name\":\"\",\"orientation\":\"v\",\"showlegend\":false,\"x\":[\"AK\",\"AK\",\"AK\",\"AK\",\"AK\",\"AK\",\"AK\",\"AK\",\"AK\",\"AL\",\"AL\",\"AL\",\"AL\",\"AL\",\"AL\",\"AL\",\"AL\",\"AL\",\"AR\",\"AR\",\"AR\",\"AR\",\"AR\",\"AR\",\"AR\",\"AR\",\"AR\",\"AZ\",\"AZ\",\"AZ\",\"AZ\",\"AZ\",\"AZ\",\"AZ\",\"AZ\",\"AZ\",\"CA\",\"CA\",\"CA\",\"CA\",\"CA\",\"CA\",\"CA\",\"CA\",\"CA\",\"CO\",\"CO\",\"CO\",\"CO\",\"CO\",\"CO\",\"CO\",\"CO\",\"CO\",\"CT\",\"CT\",\"CT\",\"CT\",\"CT\",\"CT\",\"CT\",\"CT\",\"CT\",\"DE\",\"DE\",\"DE\",\"DE\",\"DE\",\"DE\",\"DE\",\"DE\",\"DE\",\"FL\",\"FL\",\"FL\",\"FL\",\"FL\",\"FL\",\"FL\",\"FL\",\"FL\",\"GA\",\"GA\",\"GA\",\"GA\",\"GA\",\"GA\",\"GA\",\"GA\",\"GA\",\"HI\",\"HI\",\"HI\",\"HI\",\"HI\",\"HI\",\"HI\",\"HI\",\"HI\",\"IA\",\"IA\",\"IA\",\"IA\",\"IA\",\"IA\",\"IA\",\"IA\",\"IA\",\"ID\",\"ID\",\"ID\",\"ID\",\"ID\",\"ID\",\"ID\",\"ID\",\"ID\",\"IL\",\"IL\",\"IL\",\"IL\",\"IL\",\"IL\",\"IL\",\"IL\",\"IL\",\"IN\",\"IN\",\"IN\",\"IN\",\"IN\",\"IN\",\"IN\",\"IN\",\"IN\",\"KS\",\"KS\",\"KS\",\"KS\",\"KS\",\"KS\",\"KS\",\"KS\",\"KS\",\"KY\",\"KY\",\"KY\",\"KY\",\"KY\",\"KY\",\"KY\",\"KY\",\"KY\",\"LA\",\"LA\",\"LA\",\"LA\",\"LA\",\"LA\",\"LA\",\"LA\",\"LA\",\"MA\",\"MA\",\"MA\",\"MA\",\"MA\",\"MA\",\"MA\",\"MA\",\"MA\",\"MD\",\"MD\",\"MD\",\"MD\",\"MD\",\"MD\",\"MD\",\"MD\",\"MD\",\"ME\",\"ME\",\"ME\",\"ME\",\"ME\",\"ME\",\"ME\",\"ME\",\"ME\",\"MI\",\"MI\",\"MI\",\"MI\",\"MI\",\"MI\",\"MI\",\"MI\",\"MI\",\"MN\",\"MN\",\"MN\",\"MN\",\"MN\",\"MN\",\"MN\",\"MN\",\"MN\",\"MO\",\"MO\",\"MO\",\"MO\",\"MO\",\"MO\",\"MO\",\"MO\",\"MO\",\"MS\",\"MS\",\"MS\",\"MS\",\"MS\",\"MS\",\"MS\",\"MS\",\"MS\",\"MT\",\"MT\",\"MT\",\"MT\",\"MT\",\"MT\",\"MT\",\"MT\",\"MT\",\"NC\",\"NC\",\"NC\",\"NC\",\"NC\",\"NC\",\"NC\",\"NC\",\"NC\",\"ND\",\"ND\",\"ND\",\"ND\",\"ND\",\"ND\",\"ND\",\"ND\",\"ND\",\"NE\",\"NE\",\"NE\",\"NE\",\"NE\",\"NE\",\"NE\",\"NE\",\"NE\",\"NH\",\"NH\",\"NH\",\"NH\",\"NH\",\"NH\",\"NH\",\"NH\",\"NH\",\"NJ\",\"NJ\",\"NJ\",\"NJ\",\"NJ\",\"NJ\",\"NJ\",\"NJ\",\"NJ\",\"NM\",\"NM\",\"NM\",\"NM\",\"NM\",\"NM\",\"NM\",\"NM\",\"NM\",\"NV\",\"NV\",\"NV\",\"NV\",\"NV\",\"NV\",\"NV\",\"NV\",\"NV\",\"NY\",\"NY\",\"NY\",\"NY\",\"NY\",\"NY\",\"NY\",\"NY\",\"NY\",\"OH\",\"OH\",\"OH\",\"OH\",\"OH\",\"OH\",\"OH\",\"OH\",\"OH\",\"OK\",\"OK\",\"OK\",\"OK\",\"OK\",\"OK\",\"OK\",\"OK\",\"OK\",\"OR\",\"OR\",\"OR\",\"OR\",\"OR\",\"OR\",\"OR\",\"OR\",\"OR\",\"PA\",\"PA\",\"PA\",\"PA\",\"PA\",\"PA\",\"PA\",\"PA\",\"PA\",\"RI\",\"RI\",\"RI\",\"RI\",\"RI\",\"RI\",\"RI\",\"RI\",\"RI\",\"SC\",\"SC\",\"SC\",\"SC\",\"SC\",\"SC\",\"SC\",\"SC\",\"SC\",\"SD\",\"SD\",\"SD\",\"SD\",\"SD\",\"SD\",\"SD\",\"SD\",\"SD\",\"TN\",\"TN\",\"TN\",\"TN\",\"TN\",\"TN\",\"TN\",\"TN\",\"TN\",\"TX\",\"TX\",\"TX\",\"TX\",\"TX\",\"TX\",\"TX\",\"TX\",\"TX\",\"UT\",\"UT\",\"UT\",\"UT\",\"UT\",\"UT\",\"UT\",\"UT\",\"UT\",\"VA\",\"VA\",\"VA\",\"VA\",\"VA\",\"VA\",\"VA\",\"VA\",\"VA\",\"VT\",\"VT\",\"VT\",\"VT\",\"VT\",\"VT\",\"VT\",\"VT\",\"VT\",\"WA\",\"WA\",\"WA\",\"WA\",\"WA\",\"WA\",\"WA\",\"WA\",\"WA\",\"WI\",\"WI\",\"WI\",\"WI\",\"WI\",\"WI\",\"WI\",\"WI\",\"WI\",\"WV\",\"WV\",\"WV\",\"WV\",\"WV\",\"WV\",\"WV\",\"WV\",\"WV\",\"WY\",\"WY\",\"WY\",\"WY\",\"WY\",\"WY\",\"WY\",\"WY\",\"WY\"],\"xaxis\":\"x\",\"y\":[17.5,19.2,23.4,23.3,24.5,21.0,24.4,23.5,25.2,16.0,16.9,19.6,21.5,22.9,21.8,22.2,23.6,26.4,15.7,16.6,16.9,17.8,20.3,18.9,19.3,22.6,23.3,16.1,13.5,13.8,15.2,15.8,15.3,15.1,16.7,18.3,9.5,7.4,7.7,7.9,7.9,7.5,7.2,8.5,9.0,11.6,12.2,12.6,14.3,13.4,15.2,14.2,15.4,17.8,5.3,5.0,5.3,4.6,5.1,4.9,5.3,6.0,6.7,8.8,11.1,12.1,11.0,11.7,11.6,9.9,14.4,16.6,10.0,11.5,12.0,12.6,12.4,12.9,12.7,13.7,14.1,12.1,13.7,14.1,15.0,15.4,15.7,15.8,17.7,20.3,2.1,2.6,3.6,4.5,2.5,4.0,4.4,3.4,4.8,6.7,7.5,7.8,9.2,9.0,8.7,9.1,11.2,11.2,14.1,13.2,14.7,14.6,16.4,16.6,14.2,17.6,16.3,8.0,9.0,9.5,11.7,12.1,10.9,10.8,14.1,16.1,11.2,12.4,12.7,15.0,15.3,14.7,14.1,17.3,18.4,9.3,11.3,11.4,13.4,16.0,14.8,13.7,16.9,17.3,13.0,13.9,15.2,17.5,16.2,16.9,14.9,20.1,21.1,18.5,19.0,20.4,21.3,21.7,21.4,22.1,26.3,29.1,3.4,3.2,3.0,3.4,3.7,3.5,3.4,3.7,3.4,11.9,9.0,11.9,11.9,12.3,11.7,12.6,13.5,15.2,7.8,9.4,9.8,8.3,11.7,10.3,11.5,10.4,12.6,10.8,11.1,11.7,12.3,11.3,12.9,12.1,14.6,15.4,7.0,6.6,7.4,7.6,8.2,7.8,8.1,8.9,10.0,12.9,15.3,18.1,19.0,21.5,21.5,20.6,23.9,23.2,16.0,18.3,19.6,19.9,21.5,22.9,24.2,28.6,33.9,16.9,16.1,19.2,18.9,22.5,17.3,19.0,20.9,25.1,12.8,11.8,12.5,13.7,13.7,13.3,13.1,16.0,17.3,8.8,12.3,12.8,11.9,13.2,11.5,12.4,13.8,16.8,7.7,9.5,8.9,9.1,8.3,9.0,10.4,10.1,10.3,6.6,8.7,8.9,9.3,10.4,10.8,10.7,8.9,8.3,5.2,5.3,5.4,5.5,5.3,4.8,4.1,5.0,5.2,13.9,16.0,18.6,18.1,18.5,20.7,22.3,22.7,27.8,16.1,14.8,14.9,16.8,16.7,17.9,15.3,17.0,19.8,5.3,4.2,4.2,4.4,3.7,4.1,3.9,5.3,5.4,9.6,10.3,11.9,12.9,13.7,13.1,13.3,15.2,16.5,13.2,15.7,18.0,19.6,17.2,16.8,18.6,20.7,21.2,10.7,11.7,11.4,11.9,12.1,11.7,12.6,13.0,14.9,10.8,10.5,11.4,12.0,12.5,12.5,11.7,13.6,14.8,3.6,3.0,4.7,4.1,3.9,3.3,4.6,5.1,5.6,13.8,15.5,17.3,17.7,17.7,17.6,19.9,22.0,22.4,10.2,10.3,11.1,13.4,11.9,13.6,13.1,13.6,14.3,16.0,15.1,16.0,17.1,18.4,17.8,18.4,21.3,22.8,11.1,10.7,11.7,12.1,12.4,12.2,12.7,14.2,15.6,10.1,12.3,12.8,12.9,14.0,13.2,12.8,13.6,13.9,11.5,10.3,10.9,12.1,11.9,11.8,11.7,13.4,14.3,6.8,10.3,9.6,11.1,11.7,12.8,9.3,11.6,11.9,8.8,9.7,9.8,9.0,11.1,10.4,10.7,10.9,11.2,8.5,8.2,10.4,11.4,10.6,10.1,10.0,12.2,13.5,13.8,14.6,14.0,17.5,18.6,18.2,16.6,18.1,17.3,13.4,16.2,19.6,17.4,18.8,21.5,22.3,25.9,26.1],\"yaxis\":\"y\",\"type\":\"scatter\"}],                        {\"template\":{\"data\":{\"histogram2dcontour\":[{\"type\":\"histogram2dcontour\",\"colorbar\":{\"outlinewidth\":0,\"ticks\":\"\"},\"colorscale\":[[0.0,\"#0d0887\"],[0.1111111111111111,\"#46039f\"],[0.2222222222222222,\"#7201a8\"],[0.3333333333333333,\"#9c179e\"],[0.4444444444444444,\"#bd3786\"],[0.5555555555555556,\"#d8576b\"],[0.6666666666666666,\"#ed7953\"],[0.7777777777777778,\"#fb9f3a\"],[0.8888888888888888,\"#fdca26\"],[1.0,\"#f0f921\"]]}],\"choropleth\":[{\"type\":\"choropleth\",\"colorbar\":{\"outlinewidth\":0,\"ticks\":\"\"}}],\"histogram2d\":[{\"type\":\"histogram2d\",\"colorbar\":{\"outlinewidth\":0,\"ticks\":\"\"},\"colorscale\":[[0.0,\"#0d0887\"],[0.1111111111111111,\"#46039f\"],[0.2222222222222222,\"#7201a8\"],[0.3333333333333333,\"#9c179e\"],[0.4444444444444444,\"#bd3786\"],[0.5555555555555556,\"#d8576b\"],[0.6666666666666666,\"#ed7953\"],[0.7777777777777778,\"#fb9f3a\"],[0.8888888888888888,\"#fdca26\"],[1.0,\"#f0f921\"]]}],\"heatmap\":[{\"type\":\"heatmap\",\"colorbar\":{\"outlinewidth\":0,\"ticks\":\"\"},\"colorscale\":[[0.0,\"#0d0887\"],[0.1111111111111111,\"#46039f\"],[0.2222222222222222,\"#7201a8\"],[0.3333333333333333,\"#9c179e\"],[0.4444444444444444,\"#bd3786\"],[0.5555555555555556,\"#d8576b\"],[0.6666666666666666,\"#ed7953\"],[0.7777777777777778,\"#fb9f3a\"],[0.8888888888888888,\"#fdca26\"],[1.0,\"#f0f921\"]]}],\"heatmapgl\":[{\"type\":\"heatmapgl\",\"colorbar\":{\"outlinewidth\":0,\"ticks\":\"\"},\"colorscale\":[[0.0,\"#0d0887\"],[0.1111111111111111,\"#46039f\"],[0.2222222222222222,\"#7201a8\"],[0.3333333333333333,\"#9c179e\"],[0.4444444444444444,\"#bd3786\"],[0.5555555555555556,\"#d8576b\"],[0.6666666666666666,\"#ed7953\"],[0.7777777777777778,\"#fb9f3a\"],[0.8888888888888888,\"#fdca26\"],[1.0,\"#f0f921\"]]}],\"contourcarpet\":[{\"type\":\"contourcarpet\",\"colorbar\":{\"outlinewidth\":0,\"ticks\":\"\"}}],\"contour\":[{\"type\":\"contour\",\"colorbar\":{\"outlinewidth\":0,\"ticks\":\"\"},\"colorscale\":[[0.0,\"#0d0887\"],[0.1111111111111111,\"#46039f\"],[0.2222222222222222,\"#7201a8\"],[0.3333333333333333,\"#9c179e\"],[0.4444444444444444,\"#bd3786\"],[0.5555555555555556,\"#d8576b\"],[0.6666666666666666,\"#ed7953\"],[0.7777777777777778,\"#fb9f3a\"],[0.8888888888888888,\"#fdca26\"],[1.0,\"#f0f921\"]]}],\"surface\":[{\"type\":\"surface\",\"colorbar\":{\"outlinewidth\":0,\"ticks\":\"\"},\"colorscale\":[[0.0,\"#0d0887\"],[0.1111111111111111,\"#46039f\"],[0.2222222222222222,\"#7201a8\"],[0.3333333333333333,\"#9c179e\"],[0.4444444444444444,\"#bd3786\"],[0.5555555555555556,\"#d8576b\"],[0.6666666666666666,\"#ed7953\"],[0.7777777777777778,\"#fb9f3a\"],[0.8888888888888888,\"#fdca26\"],[1.0,\"#f0f921\"]]}],\"mesh3d\":[{\"type\":\"mesh3d\",\"colorbar\":{\"outlinewidth\":0,\"ticks\":\"\"}}],\"scatter\":[{\"fillpattern\":{\"fillmode\":\"overlay\",\"size\":10,\"solidity\":0.2},\"type\":\"scatter\"}],\"parcoords\":[{\"type\":\"parcoords\",\"line\":{\"colorbar\":{\"outlinewidth\":0,\"ticks\":\"\"}}}],\"scatterpolargl\":[{\"type\":\"scatterpolargl\",\"marker\":{\"colorbar\":{\"outlinewidth\":0,\"ticks\":\"\"}}}],\"bar\":[{\"error_x\":{\"color\":\"#2a3f5f\"},\"error_y\":{\"color\":\"#2a3f5f\"},\"marker\":{\"line\":{\"color\":\"#E5ECF6\",\"width\":0.5},\"pattern\":{\"fillmode\":\"overlay\",\"size\":10,\"solidity\":0.2}},\"type\":\"bar\"}],\"scattergeo\":[{\"type\":\"scattergeo\",\"marker\":{\"colorbar\":{\"outlinewidth\":0,\"ticks\":\"\"}}}],\"scatterpolar\":[{\"type\":\"scatterpolar\",\"marker\":{\"colorbar\":{\"outlinewidth\":0,\"ticks\":\"\"}}}],\"histogram\":[{\"marker\":{\"pattern\":{\"fillmode\":\"overlay\",\"size\":10,\"solidity\":0.2}},\"type\":\"histogram\"}],\"scattergl\":[{\"type\":\"scattergl\",\"marker\":{\"colorbar\":{\"outlinewidth\":0,\"ticks\":\"\"}}}],\"scatter3d\":[{\"type\":\"scatter3d\",\"line\":{\"colorbar\":{\"outlinewidth\":0,\"ticks\":\"\"}},\"marker\":{\"colorbar\":{\"outlinewidth\":0,\"ticks\":\"\"}}}],\"scattermapbox\":[{\"type\":\"scattermapbox\",\"marker\":{\"colorbar\":{\"outlinewidth\":0,\"ticks\":\"\"}}}],\"scatterternary\":[{\"type\":\"scatterternary\",\"marker\":{\"colorbar\":{\"outlinewidth\":0,\"ticks\":\"\"}}}],\"scattercarpet\":[{\"type\":\"scattercarpet\",\"marker\":{\"colorbar\":{\"outlinewidth\":0,\"ticks\":\"\"}}}],\"carpet\":[{\"aaxis\":{\"endlinecolor\":\"#2a3f5f\",\"gridcolor\":\"white\",\"linecolor\":\"white\",\"minorgridcolor\":\"white\",\"startlinecolor\":\"#2a3f5f\"},\"baxis\":{\"endlinecolor\":\"#2a3f5f\",\"gridcolor\":\"white\",\"linecolor\":\"white\",\"minorgridcolor\":\"white\",\"startlinecolor\":\"#2a3f5f\"},\"type\":\"carpet\"}],\"table\":[{\"cells\":{\"fill\":{\"color\":\"#EBF0F8\"},\"line\":{\"color\":\"white\"}},\"header\":{\"fill\":{\"color\":\"#C8D4E3\"},\"line\":{\"color\":\"white\"}},\"type\":\"table\"}],\"barpolar\":[{\"marker\":{\"line\":{\"color\":\"#E5ECF6\",\"width\":0.5},\"pattern\":{\"fillmode\":\"overlay\",\"size\":10,\"solidity\":0.2}},\"type\":\"barpolar\"}],\"pie\":[{\"automargin\":true,\"type\":\"pie\"}]},\"layout\":{\"autotypenumbers\":\"strict\",\"colorway\":[\"#636efa\",\"#EF553B\",\"#00cc96\",\"#ab63fa\",\"#FFA15A\",\"#19d3f3\",\"#FF6692\",\"#B6E880\",\"#FF97FF\",\"#FECB52\"],\"font\":{\"color\":\"#2a3f5f\"},\"hovermode\":\"closest\",\"hoverlabel\":{\"align\":\"left\"},\"paper_bgcolor\":\"white\",\"plot_bgcolor\":\"#E5ECF6\",\"polar\":{\"bgcolor\":\"#E5ECF6\",\"angularaxis\":{\"gridcolor\":\"white\",\"linecolor\":\"white\",\"ticks\":\"\"},\"radialaxis\":{\"gridcolor\":\"white\",\"linecolor\":\"white\",\"ticks\":\"\"}},\"ternary\":{\"bgcolor\":\"#E5ECF6\",\"aaxis\":{\"gridcolor\":\"white\",\"linecolor\":\"white\",\"ticks\":\"\"},\"baxis\":{\"gridcolor\":\"white\",\"linecolor\":\"white\",\"ticks\":\"\"},\"caxis\":{\"gridcolor\":\"white\",\"linecolor\":\"white\",\"ticks\":\"\"}},\"coloraxis\":{\"colorbar\":{\"outlinewidth\":0,\"ticks\":\"\"}},\"colorscale\":{\"sequential\":[[0.0,\"#0d0887\"],[0.1111111111111111,\"#46039f\"],[0.2222222222222222,\"#7201a8\"],[0.3333333333333333,\"#9c179e\"],[0.4444444444444444,\"#bd3786\"],[0.5555555555555556,\"#d8576b\"],[0.6666666666666666,\"#ed7953\"],[0.7777777777777778,\"#fb9f3a\"],[0.8888888888888888,\"#fdca26\"],[1.0,\"#f0f921\"]],\"sequentialminus\":[[0.0,\"#0d0887\"],[0.1111111111111111,\"#46039f\"],[0.2222222222222222,\"#7201a8\"],[0.3333333333333333,\"#9c179e\"],[0.4444444444444444,\"#bd3786\"],[0.5555555555555556,\"#d8576b\"],[0.6666666666666666,\"#ed7953\"],[0.7777777777777778,\"#fb9f3a\"],[0.8888888888888888,\"#fdca26\"],[1.0,\"#f0f921\"]],\"diverging\":[[0,\"#8e0152\"],[0.1,\"#c51b7d\"],[0.2,\"#de77ae\"],[0.3,\"#f1b6da\"],[0.4,\"#fde0ef\"],[0.5,\"#f7f7f7\"],[0.6,\"#e6f5d0\"],[0.7,\"#b8e186\"],[0.8,\"#7fbc41\"],[0.9,\"#4d9221\"],[1,\"#276419\"]]},\"xaxis\":{\"gridcolor\":\"white\",\"linecolor\":\"white\",\"ticks\":\"\",\"title\":{\"standoff\":15},\"zerolinecolor\":\"white\",\"automargin\":true,\"zerolinewidth\":2},\"yaxis\":{\"gridcolor\":\"white\",\"linecolor\":\"white\",\"ticks\":\"\",\"title\":{\"standoff\":15},\"zerolinecolor\":\"white\",\"automargin\":true,\"zerolinewidth\":2},\"scene\":{\"xaxis\":{\"backgroundcolor\":\"#E5ECF6\",\"gridcolor\":\"white\",\"linecolor\":\"white\",\"showbackground\":true,\"ticks\":\"\",\"zerolinecolor\":\"white\",\"gridwidth\":2},\"yaxis\":{\"backgroundcolor\":\"#E5ECF6\",\"gridcolor\":\"white\",\"linecolor\":\"white\",\"showbackground\":true,\"ticks\":\"\",\"zerolinecolor\":\"white\",\"gridwidth\":2},\"zaxis\":{\"backgroundcolor\":\"#E5ECF6\",\"gridcolor\":\"white\",\"linecolor\":\"white\",\"showbackground\":true,\"ticks\":\"\",\"zerolinecolor\":\"white\",\"gridwidth\":2}},\"shapedefaults\":{\"line\":{\"color\":\"#2a3f5f\"}},\"annotationdefaults\":{\"arrowcolor\":\"#2a3f5f\",\"arrowhead\":0,\"arrowwidth\":1},\"geo\":{\"bgcolor\":\"white\",\"landcolor\":\"#E5ECF6\",\"subunitcolor\":\"white\",\"showland\":true,\"showlakes\":true,\"lakecolor\":\"white\"},\"title\":{\"x\":0.05},\"mapbox\":{\"style\":\"light\"}}},\"xaxis\":{\"anchor\":\"y\",\"domain\":[0.0,1.0],\"title\":{\"text\":\"STATE\"}},\"yaxis\":{\"anchor\":\"x\",\"domain\":[0.0,1.0],\"title\":{\"text\":\"RATE\"}},\"legend\":{\"tracegroupgap\":0},\"title\":{\"text\":\"Firearm Mortality Rates per State\"}},                        {\"responsive\": true}                    ).then(function(){\n",
       "                            \n",
       "var gd = document.getElementById('e2d1936b-d3af-4d9c-b07c-e03d790708a5');\n",
       "var x = new MutationObserver(function (mutations, observer) {{\n",
       "        var display = window.getComputedStyle(gd).display;\n",
       "        if (!display || display === 'none') {{\n",
       "            console.log([gd, 'removed!']);\n",
       "            Plotly.purge(gd);\n",
       "            observer.disconnect();\n",
       "        }}\n",
       "}});\n",
       "\n",
       "// Listen for the removal of the full notebook cells\n",
       "var notebookContainer = gd.closest('#notebook-container');\n",
       "if (notebookContainer) {{\n",
       "    x.observe(notebookContainer, {childList: true});\n",
       "}}\n",
       "\n",
       "// Listen for the clearing of the current output cell\n",
       "var outputEl = gd.closest('.output');\n",
       "if (outputEl) {{\n",
       "    x.observe(outputEl, {childList: true});\n",
       "}}\n",
       "\n",
       "                        })                };                });            </script>        </div>"
      ]
     },
     "metadata": {},
     "output_type": "display_data"
    }
   ],
   "source": [
    "# Firearm Mortality Rates per State\n",
    "firearm_mortality.groupby(['STATE','YEAR'])['RATE'].mean().reset_index().plot.scatter(\n",
    "    x = 'STATE', y ='RATE', title = 'Firearm Mortality Rates per State', backend='plotly')"
   ]
  },
  {
   "cell_type": "markdown",
   "id": "31fecf06-4215-4391-a857-b53b99f14ac3",
   "metadata": {},
   "source": [
    "> It's interesting how even though Texas and California have such high numbers of death, since they also have high populations, their mortality rates go down while places like Mississippi have higher rates."
   ]
  },
  {
   "cell_type": "code",
   "execution_count": 28,
   "id": "c61d5f0c-3ed6-48db-b42d-db8bb2df1282",
   "metadata": {
    "tags": []
   },
   "outputs": [
    {
     "data": {
      "image/png": "[encoded data removed]",
      "text/plain": [
       "<Figure size 700x300 with 1 Axes>"
      ]
     },
     "metadata": {},
     "output_type": "display_data"
    }
   ],
   "source": [
    "# Average Increase in Firearm Mortality Rate by Year\n",
    "plt.figure(figsize = (7, 3))\n",
    "sns.barplot(x ='YEAR', y = 'RATE', data = firearm_mortality, palette = 'Set2')\n",
    "plt.title('Average Increase in Firearm Mortality Rate by Year')\n",
    "plt.xlabel('Years')\n",
    "plt.ylabel('Average Firearm Mortality Rate')\n",
    "plt.show()"
   ]
  },
  {
   "cell_type": "code",
   "execution_count": 29,
   "id": "fdafe9c0-a8f8-4805-b7da-a35dfaac9d43",
   "metadata": {
    "tags": []
   },
   "outputs": [
    {
     "data": {
      "image/png": "[encoded data removed]",
      "text/plain": [
       "<Figure size 1000x800 with 1 Axes>"
      ]
     },
     "metadata": {},
     "output_type": "display_data"
    }
   ],
   "source": [
    "# Firearm Mortality Counts by Rate and Year\n",
    "plt.figure(figsize=(10,8))\n",
    "sns.scatterplot(x = 'DEATHS', y = 'RATE', hue = 'YEAR', data = firearm_mortality, palette = 'copper')\n",
    "plt.title('Firearm Mortality Counts by Rate and Year')\n",
    "plt.xlabel('Firearm Mortality')\n",
    "plt.ylabel('Firearm Mortality Rate')\n",
    "plt.show()"
   ]
  },
  {
   "cell_type": "code",
   "execution_count": 20,
   "id": "ce091230-6738-4fac-8b50-48bd9696582a",
   "metadata": {
    "tags": []
   },
   "outputs": [
    {
     "data": {
      "image/png": "[encoded data removed]",
      "text/plain": [
       "<Figure size 1000x800 with 1 Axes>"
      ]
     },
     "metadata": {},
     "output_type": "display_data"
    }
   ],
   "source": [
    "# Firearm Mortality by Rate and State\n",
    "plt.figure(figsize=(10,8))\n",
    "sns.scatterplot(x = 'DEATHS', y = 'RATE', hue = 'STATE', data = firearm_mortality, palette = 'viridis')\n",
    "plt.title('Firearm Mortality by Rate and State')\n",
    "plt.xlabel('Firearm Mortality Count')\n",
    "plt.ylabel('Firearm Mortality Rate')\n",
    "plt.show()"
   ]
  },
  {
   "cell_type": "code",
   "execution_count": 14,
   "id": "19d9c041-0c06-4972-8223-34b617c253f7",
   "metadata": {
    "tags": []
   },
   "outputs": [
    {
     "data": {
      "image/png": "[encoded data removed]",
      "text/plain": [
       "<Figure size 1000x800 with 2 Axes>"
      ]
     },
     "metadata": {},
     "output_type": "display_data"
    }
   ],
   "source": [
    "correlation_matrix = firearm_mortality.corr()\n",
    "plt.figure(figsize=(10, 8))\n",
    "sns.heatmap(correlation_matrix, annot=True, cmap='Pastel2', linewidths=0.5)\n",
    "plt.title('Correlation Matrix')\n",
    "plt.show()"
   ]
  },
  {
   "cell_type": "markdown",
   "id": "fc4c501e-c52f-4534-8c68-31e096b1b70d",
   "metadata": {},
   "source": [
    "> The entire table has weak and very weak correlations between Year, Rate, and Deaths. This suggests that all three have very little to do with each other"
   ]
  },
  {
   "cell_type": "code",
   "execution_count": 23,
   "id": "3b4ac137-5f0f-43e9-b3a7-91382adad3e5",
   "metadata": {
    "tags": []
   },
   "outputs": [
    {
     "data": {
      "image/png": "[encoded data removed]",
      "text/plain": [
       "<Figure size 750x750 with 12 Axes>"
      ]
     },
     "metadata": {},
     "output_type": "display_data"
    }
   ],
   "source": [
    "# Basic correlogram\n",
    "sns.pairplot(firearm_mortality)\n",
    "plt.show()"
   ]
  },
  {
   "cell_type": "code",
   "execution_count": 19,
   "id": "3c529aec-c139-4e90-bc26-5e8978edd393",
   "metadata": {
    "tags": []
   },
   "outputs": [
    {
     "data": {
      "image/png": "[encoded data removed]",
      "text/plain": [
       "<Figure size 500x600 with 1 Axes>"
      ]
     },
     "metadata": {},
     "output_type": "display_data"
    }
   ],
   "source": [
    "# Distribution of number of deaths\n",
    "plt.figure(figsize=(5, 6))\n",
    "sns.histplot(firearm_mortality['DEATHS'], bins=20, kde=True, color='orange')\n",
    "plt.title('Distribution of Mortality')\n",
    "plt.xlabel('Number of Deaths')\n",
    "plt.ylabel('Frequency')\n",
    "plt.show()"
   ]
  },
  {
   "cell_type": "code",
   "execution_count": 31,
   "id": "619e913e-9406-4149-941f-98da17be1a19",
   "metadata": {
    "tags": []
   },
   "outputs": [
    {
     "data": {
      "image/png": "[encoded data removed]",
      "text/plain": [
       "<Figure size 500x600 with 1 Axes>"
      ]
     },
     "metadata": {},
     "output_type": "display_data"
    }
   ],
   "source": [
    "# Distribution of Death Rates\n",
    "plt.figure(figsize=(5, 6))\n",
    "sns.histplot(firearm_mortality['RATE'], bins=20, kde=True, color='orange')\n",
    "plt.title('Distribution of Mortality Rates')\n",
    "plt.xlabel('Mortality Rates')\n",
    "plt.ylabel('Frequency')\n",
    "plt.show()"
   ]
  },
  {
   "cell_type": "code",
   "execution_count": 30,
   "id": "991ce8bb-8bea-4da6-841d-0317564572d5",
   "metadata": {
    "tags": []
   },
   "outputs": [],
   "source": [
    "# firearm_mortality by Year\n",
    "mortality2021 = firearm_mortality[:50]\n",
    "mortality2020 = firearm_mortality[50:100]\n",
    "mortality2019 = firearm_mortality[100:150]\n",
    "mortality2018 = firearm_mortality[150:200]\n",
    "mortality2017 = firearm_mortality[200:250]\n",
    "mortality2016 = firearm_mortality[250:300]\n",
    "mortality2015 = firearm_mortality[300:350]\n",
    "mortality2014 = firearm_mortality[350:400]\n",
    "mortality2005 = firearm_mortality[400:450]"
   ]
  },
  {
   "cell_type": "code",
   "execution_count": null,
   "id": "58990fbf-4fa0-4d51-883e-e57e6702dfed",
   "metadata": {},
   "outputs": [],
   "source": []
  }
 ],
 "metadata": {
  "kernelspec": {
   "display_name": "Python 3 (ipykernel)",
   "language": "python",
   "name": "python3"
  },
  "language_info": {
   "codemirror_mode": {
    "name": "ipython",
    "version": 3
   },
   "file_extension": ".py",
   "mimetype": "text/x-python",
   "name": "python",
   "nbconvert_exporter": "python",
   "pygments_lexer": "ipython3",
   "version": "3.11.4"
  }
 },
 "nbformat": 4,
 "nbformat_minor": 5
}
