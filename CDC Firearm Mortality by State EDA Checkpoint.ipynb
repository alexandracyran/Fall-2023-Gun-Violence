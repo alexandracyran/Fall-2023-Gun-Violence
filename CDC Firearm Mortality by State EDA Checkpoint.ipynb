{
 "cells": [
  {
   "cell_type": "code",
   "execution_count": 165,
   "id": "b60ea951-2d7e-4f39-a56c-0dc8edfa8e6a",
   "metadata": {},
   "outputs": [],
   "source": [
    "import pandas as pd\n",
    "import numpy as np\n",
    "import matplotlib.pyplot as plt\n",
    "import seaborn as sns\n",
    "import warnings\n",
    "warnings.filterwarnings(\"ignore\")\n",
    "# from wordcloud import WordCloud\n",
    "%matplotlib inline\n",
    "import plotly.express as px\n",
    "from scipy.stats import ttest_ind"
   ]
  }
]  }
