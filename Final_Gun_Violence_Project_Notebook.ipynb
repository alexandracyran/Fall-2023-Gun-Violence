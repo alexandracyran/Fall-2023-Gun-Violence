{
  "nbformat": 4,
  "nbformat_minor": 0,
  "metadata": {
    "colab": {
      "provenance": [],
      "authorship_tag": "ABX9TyMBpvyepM+4wMq7gJiaSaE5",
      "include_colab_link": true
    },
    "kernelspec": {
      "name": "python3",
      "display_name": "Python 3"
    },
    "language_info": {
      "name": "python"
    }
  },
  "cells": [
    {
      "cell_type": "markdown",
      "metadata": {
        "id": "view-in-github",
        "colab_type": "text"
      },
      "source": [
        "<a href=\"https://colab.research.google.com/github/alexandracyran/Fall-2023-Gun-Violence/blob/main/Final_Gun_Violence_Project_Notebook.ipynb\" target=\"_parent\"><img src=\"https://colab.research.google.com/assets/colab-badge.svg\" alt=\"Open In Colab\"/></a>"
      ]
    },
    {
      "cell_type": "markdown",
      "source": [
        "# **Trigger to Trauma: Decoding the Patterns of Gun Violence in the United States**\n",
        "By: Megha Idicula, Alexandra Cyran, and Victoria Lance Kominek\n"
      ],
      "metadata": {
        "id": "LfdvQ7krVM_8"
      }
    },
    {
      "cell_type": "markdown",
      "source": [
        "**Focus**: Examining the relationship between people charged with gun violence and mental illness. This highlights the variations in the restrictiveness of gun laws across different states, including Connecticut.\n",
        "The question arises: Why would someone with a history of mental illness be granted a gun license?\n"
      ],
      "metadata": {
        "id": "yKyJeEvjVjqq"
      }
    },
    {
      "cell_type": "markdown",
      "source": [
        "# **1. Introduction**"
      ],
      "metadata": {
        "id": "TyolUg87XrO8"
      }
    },
    {
      "cell_type": "markdown",
      "source": [
        "# **2. Research Questions**\n",
        "Gun violence rates in US by state\n",
        "Percentage of deaths and percentage of injuries related to gun violence.\n",
        "Number of individuals charged with gun violence who have a history of mental illness?\n",
        "What are the restrictions of gun laws across different states?\n",
        "Relationship between Firearm Mortality and State Gun Laws:\n",
        "Are states with more restrictive gun laws associated with lower firearm mortality rates?\n",
        "How do specific gun control measures correlate with the prevalence of mass shootings?\n",
        "Impact of Drug Overdose Rates on Gun Violence:\n",
        "Is there a correlation between drug overdose rates and the occurrence of mass shootings?\n",
        "Can we identify specific regions where high drug overdose rates coincide with elevated gun violence?\n",
        "Mental Health Factors in Mass Shootings:\n",
        "To what extent do shooters with prior mental health issues contribute to mass shootings?\n",
        "Are there patterns in the types of mental health issues reported for individuals involved in mass shootings?\n",
        "Geographic Variations in Gun Violence:\n",
        "How do gun violence rates vary geographically, and what factors contribute to these variations?\n"
      ],
      "metadata": {
        "id": "CIePJ4nSX2ju"
      }
    },
    {
      "cell_type": "markdown",
      "source": [
        "# **3. Data Sources**"
      ],
      "metadata": {
        "id": "yKFocEeYYN5u"
      }
    },
    {
      "cell_type": "markdown",
      "source": [
        "# **4. Descriptive Statistics**"
      ],
      "metadata": {
        "id": "J9NMkuA2Ycrk"
      }
    },
    {
      "cell_type": "markdown",
      "source": [
        "# **5. Analysis & Interpretation**\n",
        "\n",
        "per the rubric code cells should have a bried intention note written above it and then the interpretation note written below the code/figure\n"
      ],
      "metadata": {
        "id": "biZ7HAr0Yn1B"
      }
    },
    {
      "cell_type": "markdown",
      "source": [
        "# **6. Future Implications**\n",
        "\n",
        "**Challenges**:\n",
        "\n",
        "**Lessons Learned**:"
      ],
      "metadata": {
        "id": "k6PyvO4DY0_y"
      }
    }
  ]
}