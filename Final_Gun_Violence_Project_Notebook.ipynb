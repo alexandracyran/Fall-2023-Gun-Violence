{
  "nbformat": 4,
  "nbformat_minor": 0,
  "metadata": {
    "colab": {
      "provenance": [],
      "authorship_tag": "ABX9TyNLqIG708PQYU20BGc0qkXB",
      "include_colab_link": true
    },
    "kernelspec": {
      "name": "python3",
      "display_name": "Python 3"
    },
    "language_info": {
      "name": "python"
    }
  },
  "cells": [
    {
      "cell_type": "markdown",
      "metadata": {
        "id": "view-in-github",
        "colab_type": "text"
      },
      "source": [
        "<a href=\"https://colab.research.google.com/github/alexandracyran/Fall-2023-Gun-Violence/blob/main/Final_Gun_Violence_Project_Notebook.ipynb\" target=\"_parent\"><img src=\"https://colab.research.google.com/assets/colab-badge.svg\" alt=\"Open In Colab\"/></a>"
      ]
    },
    {
      "cell_type": "markdown",
      "source": [
        "# **Trigger to Trauma: Decoding the Patterns of Gun Violence in the United States**\n",
        "By: Megha Idicula, Alexandra Cyran, and Victoria Lance\n"
      ],
      "metadata": {
        "id": "LfdvQ7krVM_8"
      }
    },
    {
      "cell_type": "markdown",
      "source": [],
      "metadata": {
        "id": "yKyJeEvjVjqq"
      }
    }
  ]
}