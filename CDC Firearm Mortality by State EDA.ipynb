{
 "cells": [
  {
   "cell_type": "code",
   "execution_count": 165,
   "id": "b60ea951-2d7e-4f39-a56c-0dc8edfa8e6a",
   "metadata": {},
   "outputs": [],
   "source": [
    "import pandas as pd\n",
    "import numpy as np\n",
    "import matplotlib.pyplot as plt\n",
    "import seaborn as sns\n",
    "import warnings\n",
    "warnings.filterwarnings(\"ignore\")\n",
    "# from wordcloud import WordCloud\n",
    "%matplotlib inline\n",
    "import plotly.express as px\n",
    "from scipy.stats import ttest_ind"
   ]
  },
  {
   "cell_type": "code",
   "execution_count": 142,
   "id": "46549978-fa43-4d8b-bd9e-b4b7b0f588b1",
   "metadata": {
    "tags": []
   },
   "outputs": [],
   "source": [
    "firearm_mortality = pd.read_csv('CDC Firearm Mortality by State.csv')"
   ]
  },
  {
   "cell_type": "code",
   "execution_count": 143,
   "id": "c5b7e09b-fec4-4fe4-aad1-a07de2bc5dd2",
   "metadata": {
    "tags": []
   },
   "outputs": [
    {
     "data": {
      "text/html": [
       "<div>\n",
       "<style scoped>\n",
       "    .dataframe tbody tr th:only-of-type {\n",
       "        vertical-align: middle;\n",
       "    }\n",
       "\n",
       "    .dataframe tbody tr th {\n",
       "        vertical-align: top;\n",
       "    }\n",
       "\n",
       "    .dataframe thead th {\n",
       "        text-align: right;\n",
       "    }\n",
       "</style>\n",
       "<table border=\"1\" class=\"dataframe\">\n",
       "  <thead>\n",
       "    <tr style=\"text-align: right;\">\n",
       "      <th></th>\n",
       "      <th>YEAR</th>\n",
       "      <th>STATE</th>\n",
       "      <th>RATE</th>\n",
       "      <th>DEATHS</th>\n",
       "    </tr>\n",
       "  </thead>\n",
       "  <tbody>\n",
       "    <tr>\n",
       "      <th>0</th>\n",
       "      <td>2021</td>\n",
       "      <td>AL</td>\n",
       "      <td>26.4</td>\n",
       "      <td>1315</td>\n",
       "    </tr>\n",
       "    <tr>\n",
       "      <th>1</th>\n",
       "      <td>2021</td>\n",
       "      <td>AK</td>\n",
       "      <td>25.2</td>\n",
       "      <td>182</td>\n",
       "    </tr>\n",
       "    <tr>\n",
       "      <th>2</th>\n",
       "      <td>2021</td>\n",
       "      <td>AZ</td>\n",
       "      <td>18.3</td>\n",
       "      <td>1365</td>\n",
       "    </tr>\n",
       "    <tr>\n",
       "      <th>3</th>\n",
       "      <td>2021</td>\n",
       "      <td>AR</td>\n",
       "      <td>23.3</td>\n",
       "      <td>698</td>\n",
       "    </tr>\n",
       "    <tr>\n",
       "      <th>4</th>\n",
       "      <td>2021</td>\n",
       "      <td>CA</td>\n",
       "      <td>9.0</td>\n",
       "      <td>3576</td>\n",
       "    </tr>\n",
       "  </tbody>\n",
       "</table>\n",
       "</div>"
      ],
      "text/plain": [
       "   YEAR STATE  RATE  DEATHS\n",
       "0  2021    AL  26.4    1315\n",
       "1  2021    AK  25.2     182\n",
       "2  2021    AZ  18.3    1365\n",
       "3  2021    AR  23.3     698\n",
       "4  2021    CA   9.0    3576"
      ]
     },
     "execution_count": 143,
     "metadata": {},
     "output_type": "execute_result"
    }
   ],
   "source": [
    "firearm_mortality.head()"
   ]
  },
  {
   "cell_type": "code",
   "execution_count": 65,
   "id": "a2fb9458-c54a-438d-9129-d630b0fb7ed4",
   "metadata": {
    "tags": []
   },
   "outputs": [
    {
     "data": {
      "text/plain": [
       "(450, 4)"
      ]
     },
     "execution_count": 65,
     "metadata": {},
     "output_type": "execute_result"
    }
   ],
   "source": [
    "firearm_mortality.shape"
   ]
  },
  {
   "cell_type": "markdown",
   "id": "b34f371d-0820-42aa-b30b-6bcdeac51ebd",
   "metadata": {
    "tags": []
   },
   "source": [
    "# Data Cleaning"
   ]
  },
  {
   "cell_type": "code",
   "execution_count": 66,
   "id": "8f64d5d1-8dd6-40f3-86f6-2d19a574657b",
   "metadata": {
    "tags": []
   },
   "outputs": [
    {
     "data": {
      "text/plain": [
       "YEAR      0\n",
       "STATE     0\n",
       "RATE      0\n",
       "DEATHS    0\n",
       "dtype: int64"
      ]
     },
     "execution_count": 66,
     "metadata": {},
     "output_type": "execute_result"
    }
   ],
   "source": [
    "firearm_mortality.isna().sum()"
   ]
  },
  {
   "cell_type": "code",
   "execution_count": 67,
   "id": "d741c504-0a22-431f-85de-607cb9013816",
   "metadata": {
    "tags": []
   },
   "outputs": [
    {
     "name": "stdout",
     "output_type": "stream",
     "text": [
      "<class 'pandas.core.frame.DataFrame'>\n",
      "RangeIndex: 450 entries, 0 to 449\n",
      "Data columns (total 4 columns):\n",
      " #   Column  Non-Null Count  Dtype  \n",
      "---  ------  --------------  -----  \n",
      " 0   YEAR    450 non-null    int64  \n",
      " 1   STATE   450 non-null    object \n",
      " 2   RATE    450 non-null    float64\n",
      " 3   DEATHS  450 non-null    int64  \n",
      "dtypes: float64(1), int64(2), object(1)\n",
      "memory usage: 14.2+ KB\n"
     ]
    }
   ],
   "source": [
    "firearm_mortality.info()"
   ]
  },
  {
   "cell_type": "markdown",
   "id": "5bce4cb7-23d0-46cc-a26e-6f8ae0a06b23",
   "metadata": {},
   "source": [
    "# Data Analysis"
   ]
  },
  {
   "cell_type": "code",
   "execution_count": 193,
   "id": "c1b4cc98-f312-4601-b4f8-68381cce0bd0",
   "metadata": {
    "tags": []
   },
   "outputs": [
    {
     "data": {
      "text/plain": [
       "STATE\n",
       "TX    3487.666667\n",
       "CA    3207.555556\n",
       "FL    2688.000000\n",
       "GA    1618.777778\n",
       "PA    1585.555556\n",
       "OH    1516.111111\n",
       "IL    1437.777778\n",
       "NC    1422.666667\n",
       "MI    1247.666667\n",
       "TN    1222.333333\n",
       "MO    1182.555556\n",
       "AZ    1108.000000\n",
       "VA    1032.777778\n",
       "AL    1030.555556\n",
       "LA    1022.444444\n",
       "Name: DEATHS, dtype: float64"
      ]
     },
     "execution_count": 193,
     "metadata": {},
     "output_type": "execute_result"
    }
   ],
   "source": [
    "# highest firearm mortality states - Texas Highest\n",
    "firearm_mortality.groupby('STATE')['DEATHS'].mean().nlargest(15)"
   ]
  },
  {
   "cell_type": "code",
   "execution_count": 106,
   "id": "f94f15ae-e428-4eac-8029-0109e56124b0",
   "metadata": {
    "tags": []
   },
   "outputs": [
    {
     "data": {
      "application/vnd.plotly.v1+json": {
       "config": {
        "plotlyServerURL": "https://plot.ly"
       },
       "data": [
        {
         "hovertemplate": "STATE=%{x}<br>Average Deaths=%{y}<extra></extra>",
         "legendgroup": "",
         "marker": {
          "color": "#636efa",
          "symbol": "circle"
         },
         "mode": "markers",
         "name": "",
         "orientation": "v",
         "showlegend": false,
         "type": "scatter",
         "x": [
          "AK",
          "AK",
          "AK",
          "AK",
          "AK",
          "AK",
          "AK",
          "AK",
          "AK",
          "AL",
          "AL",
          "AL",
          "AL",
          "AL",
          "AL",
          "AL",
          "AL",
          "AL",
          "AR",
          "AR",
          "AR",
          "AR",
          "AR",
          "AR",
          "AR",
          "AR",
          "AR",
          "AZ",
          "AZ",
          "AZ",
          "AZ",
          "AZ",
          "AZ",
          "AZ",
          "AZ",
          "AZ",
          "CA",
          "CA",
          "CA",
          "CA",
          "CA",
          "CA",
          "CA",
          "CA",
          "CA",
          "CO",
          "CO",
          "CO",
          "CO",
          "CO",
          "CO",
          "CO",
          "CO",
          "CO",
          "CT",
          "CT",
          "CT",
          "CT",
          "CT",
          "CT",
          "CT",
          "CT",
          "CT",
          "DE",
          "DE",
          "DE",
          "DE",
          "DE",
          "DE",
          "DE",
          "DE",
          "DE",
          "FL",
          "FL",
          "FL",
          "FL",
          "FL",
          "FL",
          "FL",
          "FL",
          "FL",
          "GA",
          "GA",
          "GA",
          "GA",
          "GA",
          "GA",
          "GA",
          "GA",
          "GA",
          "HI",
          "HI",
          "HI",
          "HI",
          "HI",
          "HI",
          "HI",
          "HI",
          "HI",
          "IA",
          "IA",
          "IA",
          "IA",
          "IA",
          "IA",
          "IA",
          "IA",
          "IA",
          "ID",
          "ID",
          "ID",
          "ID",
          "ID",
          "ID",
          "ID",
          "ID",
          "ID",
          "IL",
          "IL",
          "IL",
          "IL",
          "IL",
          "IL",
          "IL",
          "IL",
          "IL",
          "IN",
          "IN",
          "IN",
          "IN",
          "IN",
          "IN",
          "IN",
          "IN",
          "IN",
          "KS",
          "KS",
          "KS",
          "KS",
          "KS",
          "KS",
          "KS",
          "KS",
          "KS",
          "KY",
          "KY",
          "KY",
          "KY",
          "KY",
          "KY",
          "KY",
          "KY",
          "KY",
          "LA",
          "LA",
          "LA",
          "LA",
          "LA",
          "LA",
          "LA",
          "LA",
          "LA",
          "MA",
          "MA",
          "MA",
          "MA",
          "MA",
          "MA",
          "MA",
          "MA",
          "MA",
          "MD",
          "MD",
          "MD",
          "MD",
          "MD",
          "MD",
          "MD",
          "MD",
          "MD",
          "ME",
          "ME",
          "ME",
          "ME",
          "ME",
          "ME",
          "ME",
          "ME",
          "ME",
          "MI",
          "MI",
          "MI",
          "MI",
          "MI",
          "MI",
          "MI",
          "MI",
          "MI",
          "MN",
          "MN",
          "MN",
          "MN",
          "MN",
          "MN",
          "MN",
          "MN",
          "MN",
          "MO",
          "MO",
          "MO",
          "MO",
          "MO",
          "MO",
          "MO",
          "MO",
          "MO",
          "MS",
          "MS",
          "MS",
          "MS",
          "MS",
          "MS",
          "MS",
          "MS",
          "MS",
          "MT",
          "MT",
          "MT",
          "MT",
          "MT",
          "MT",
          "MT",
          "MT",
          "MT",
          "NC",
          "NC",
          "NC",
          "NC",
          "NC",
          "NC",
          "NC",
          "NC",
          "NC",
          "ND",
          "ND",
          "ND",
          "ND",
          "ND",
          "ND",
          "ND",
          "ND",
          "ND",
          "NE",
          "NE",
          "NE",
          "NE",
          "NE",
          "NE",
          "NE",
          "NE",
          "NE",
          "NH",
          "NH",
          "NH",
          "NH",
          "NH",
          "NH",
          "NH",
          "NH",
          "NH",
          "NJ",
          "NJ",
          "NJ",
          "NJ",
          "NJ",
          "NJ",
          "NJ",
          "NJ",
          "NJ",
          "NM",
          "NM",
          "NM",
          "NM",
          "NM",
          "NM",
          "NM",
          "NM",
          "NM",
          "NV",
          "NV",
          "NV",
          "NV",
          "NV",
          "NV",
          "NV",
          "NV",
          "NV",
          "NY",
          "NY",
          "NY",
          "NY",
          "NY",
          "NY",
          "NY",
          "NY",
          "NY",
          "OH",
          "OH",
          "OH",
          "OH",
          "OH",
          "OH",
          "OH",
          "OH",
          "OH",
          "OK",
          "OK",
          "OK",
          "OK",
          "OK",
          "OK",
          "OK",
          "OK",
          "OK",
          "OR",
          "OR",
          "OR",
          "OR",
          "OR",
          "OR",
          "OR",
          "OR",
          "OR",
          "PA",
          "PA",
          "PA",
          "PA",
          "PA",
          "PA",
          "PA",
          "PA",
          "PA",
          "RI",
          "RI",
          "RI",
          "RI",
          "RI",
          "RI",
          "RI",
          "RI",
          "RI",
          "SC",
          "SC",
          "SC",
          "SC",
          "SC",
          "SC",
          "SC",
          "SC",
          "SC",
          "SD",
          "SD",
          "SD",
          "SD",
          "SD",
          "SD",
          "SD",
          "SD",
          "SD",
          "TN",
          "TN",
          "TN",
          "TN",
          "TN",
          "TN",
          "TN",
          "TN",
          "TN",
          "TX",
          "TX",
          "TX",
          "TX",
          "TX",
          "TX",
          "TX",
          "TX",
          "TX",
          "UT",
          "UT",
          "UT",
          "UT",
          "UT",
          "UT",
          "UT",
          "UT",
          "UT",
          "VA",
          "VA",
          "VA",
          "VA",
          "VA",
          "VA",
          "VA",
          "VA",
          "VA",
          "VT",
          "VT",
          "VT",
          "VT",
          "VT",
          "VT",
          "VT",
          "VT",
          "VT",
          "WA",
          "WA",
          "WA",
          "WA",
          "WA",
          "WA",
          "WA",
          "WA",
          "WA",
          "WI",
          "WI",
          "WI",
          "WI",
          "WI",
          "WI",
          "WI",
          "WI",
          "WI",
          "WV",
          "WV",
          "WV",
          "WV",
          "WV",
          "WV",
          "WV",
          "WV",
          "WV",
          "WY",
          "WY",
          "WY",
          "WY",
          "WY",
          "WY",
          "WY",
          "WY",
          "WY"
         ],
         "xaxis": "x",
         "y": [
          116,
          145,
          177,
          177,
          180,
          155,
          179,
          175,
          182,
          736,
          815,
          958,
          1046,
          1124,
          1064,
          1076,
          1141,
          1315,
          439,
          496,
          520,
          541,
          613,
          573,
          580,
          673,
          698,
          934,
          927,
          970,
          1094,
          1134,
          1147,
          1136,
          1265,
          1365,
          3453,
          2942,
          3095,
          3184,
          3184,
          3040,
          2945,
          3449,
          3576,
          535,
          663,
          701,
          812,
          779,
          889,
          846,
          922,
          1064,
          187,
          187,
          189,
          172,
          188,
          186,
          190,
          219,
          248,
          75,
          102,
          112,
          111,
          111,
          107,
          93,
          135,
          158,
          1838,
          2410,
          2559,
          2704,
          2724,
          2902,
          2872,
          3041,
          3142,
          1064,
          1391,
          1448,
          1571,
          1623,
          1680,
          1695,
          1897,
          2200,
          28,
          40,
          55,
          66,
          39,
          59,
          62,
          50,
          71,
          201,
          241,
          247,
          288,
          293,
          282,
          294,
          351,
          364,
          195,
          213,
          247,
          242,
          280,
          294,
          255,
          321,
          309,
          1019,
          1179,
          1220,
          1490,
          1543,
          1382,
          1367,
          1745,
          1995,
          705,
          818,
          846,
          997,
          1016,
          977,
          958,
          1159,
          1251,
          257,
          329,
          330,
          383,
          466,
          424,
          403,
          494,
          503,
          548,
          634,
          694,
          772,
          730,
          762,
          682,
          902,
          947,
          858,
          896,
          952,
          987,
          1008,
          991,
          1013,
          1183,
          1314,
          224,
          226,
          213,
          242,
          262,
          258,
          247,
          268,
          247,
          657,
          546,
          708,
          707,
          742,
          707,
          757,
          803,
          915,
          109,
          133,
          144,
          123,
          172,
          159,
          163,
          153,
          178,
          1074,
          1095,
          1164,
          1230,
          1138,
          1310,
          1220,
          1454,
          1544,
          361,
          377,
          410,
          432,
          465,
          437,
          465,
          513,
          573,
          752,
          943,
          1094,
          1144,
          1307,
          1311,
          1252,
          1426,
          1414,
          455,
          547,
          589,
          587,
          632,
          681,
          710,
          818,
          962,
          161,
          172,
          205,
          194,
          244,
          186,
          209,
          238,
          280,
          1119,
          1206,
          1289,
          1409,
          1430,
          1416,
          1397,
          1699,
          1839,
          61,
          96,
          92,
          90,
          103,
          89,
          93,
          100,
          128,
          135,
          179,
          169,
          171,
          160,
          183,
          205,
          197,
          200,
          88,
          122,
          121,
          132,
          146,
          155,
          156,
          128,
          123,
          434,
          468,
          475,
          485,
          478,
          420,
          368,
          443,
          475,
          267,
          340,
          390,
          383,
          394,
          438,
          471,
          479,
          578,
          390,
          429,
          446,
          498,
          508,
          550,
          490,
          547,
          633,
          1019,
          875,
          849,
          900,
          772,
          821,
          804,
          1052,
          1078,
          1116,
          1211,
          1397,
          1524,
          1589,
          1555,
          1578,
          1764,
          1911,
          468,
          611,
          706,
          766,
          681,
          665,
          737,
          826,
          836,
          402,
          497,
          486,
          513,
          528,
          519,
          566,
          592,
          670,
          1352,
          1390,
          1485,
          1555,
          1636,
          1654,
          1541,
          1752,
          1905,
          39,
          34,
          51,
          49,
          43,
          37,
          48,
          54,
          64,
          589,
          767,
          850,
          891,
          893,
          895,
          1012,
          1131,
          1136,
          82,
          89,
          96,
          108,
          101,
          117,
          113,
          120,
          128,
          976,
          1016,
          1075,
          1148,
          1246,
          1228,
          1270,
          1473,
          1569,
          2490,
          2848,
          3203,
          3353,
          3513,
          3522,
          3683,
          4164,
          4613,
          227,
          337,
          367,
          370,
          410,
          397,
          394,
          429,
          450,
          888,
          889,
          946,
          1049,
          1041,
          1035,
          1025,
          1174,
          1248,
          44,
          69,
          70,
          78,
          70,
          82,
          67,
          76,
          83,
          567,
          702,
          718,
          686,
          849,
          809,
          842,
          864,
          896,
          474,
          487,
          613,
          664,
          624,
          598,
          604,
          717,
          793,
          261,
          286,
          278,
          332,
          348,
          343,
          300,
          325,
          319,
          71,
          93,
          113,
          101,
          113,
          124,
          133,
          154,
          155
         ],
         "yaxis": "y"
        }
       ],
       "layout": {
        "autosize": true,
        "legend": {
         "tracegroupgap": 0
        },
        "template": {
         "data": {
          "bar": [
           {
            "error_x": {
             "color": "#2a3f5f"
            },
            "error_y": {
             "color": "#2a3f5f"
            },
            "marker": {
             "line": {
              "color": "#E5ECF6",
              "width": 0.5
             },
             "pattern": {
              "fillmode": "overlay",
              "size": 10,
              "solidity": 0.2
             }
            },
            "type": "bar"
           }
          ],
          "barpolar": [
           {
            "marker": {
             "line": {
              "color": "#E5ECF6",
              "width": 0.5
             },
             "pattern": {
              "fillmode": "overlay",
              "size": 10,
              "solidity": 0.2
             }
            },
            "type": "barpolar"
           }
          ],
          "carpet": [
           {
            "aaxis": {
             "endlinecolor": "#2a3f5f",
             "gridcolor": "white",
             "linecolor": "white",
             "minorgridcolor": "white",
             "startlinecolor": "#2a3f5f"
            },
            "baxis": {
             "endlinecolor": "#2a3f5f",
             "gridcolor": "white",
             "linecolor": "white",
             "minorgridcolor": "white",
             "startlinecolor": "#2a3f5f"
            },
            "type": "carpet"
           }
          ],
          "choropleth": [
           {
            "colorbar": {
             "outlinewidth": 0,
             "ticks": ""
            },
            "type": "choropleth"
           }
          ],
          "contour": [
           {
            "colorbar": {
             "outlinewidth": 0,
             "ticks": ""
            },
            "colorscale": [
             [
              0,
              "#0d0887"
             ],
             [
              0.1111111111111111,
              "#46039f"
             ],
             [
              0.2222222222222222,
              "#7201a8"
             ],
             [
              0.3333333333333333,
              "#9c179e"
             ],
             [
              0.4444444444444444,
              "#bd3786"
             ],
             [
              0.5555555555555556,
              "#d8576b"
             ],
             [
              0.6666666666666666,
              "#ed7953"
             ],
             [
              0.7777777777777778,
              "#fb9f3a"
             ],
             [
              0.8888888888888888,
              "#fdca26"
             ],
             [
              1,
              "#f0f921"
             ]
            ],
            "type": "contour"
           }
          ],
          "contourcarpet": [
           {
            "colorbar": {
             "outlinewidth": 0,
             "ticks": ""
            },
            "type": "contourcarpet"
           }
          ],
          "heatmap": [
           {
            "colorbar": {
             "outlinewidth": 0,
             "ticks": ""
            },
            "colorscale": [
             [
              0,
              "#0d0887"
             ],
             [
              0.1111111111111111,
              "#46039f"
             ],
             [
              0.2222222222222222,
              "#7201a8"
             ],
             [
              0.3333333333333333,
              "#9c179e"
             ],
             [
              0.4444444444444444,
              "#bd3786"
             ],
             [
              0.5555555555555556,
              "#d8576b"
             ],
             [
              0.6666666666666666,
              "#ed7953"
             ],
             [
              0.7777777777777778,
              "#fb9f3a"
             ],
             [
              0.8888888888888888,
              "#fdca26"
             ],
             [
              1,
              "#f0f921"
             ]
            ],
            "type": "heatmap"
           }
          ],
          "heatmapgl": [
           {
            "colorbar": {
             "outlinewidth": 0,
             "ticks": ""
            },
            "colorscale": [
             [
              0,
              "#0d0887"
             ],
             [
              0.1111111111111111,
              "#46039f"
             ],
             [
              0.2222222222222222,
              "#7201a8"
             ],
             [
              0.3333333333333333,
              "#9c179e"
             ],
             [
              0.4444444444444444,
              "#bd3786"
             ],
             [
              0.5555555555555556,
              "#d8576b"
             ],
             [
              0.6666666666666666,
              "#ed7953"
             ],
             [
              0.7777777777777778,
              "#fb9f3a"
             ],
             [
              0.8888888888888888,
              "#fdca26"
             ],
             [
              1,
              "#f0f921"
             ]
            ],
            "type": "heatmapgl"
           }
          ],
          "histogram": [
           {
            "marker": {
             "pattern": {
              "fillmode": "overlay",
              "size": 10,
              "solidity": 0.2
             }
            },
            "type": "histogram"
           }
          ],
          "histogram2d": [
           {
            "colorbar": {
             "outlinewidth": 0,
             "ticks": ""
            },
            "colorscale": [
             [
              0,
              "#0d0887"
             ],
             [
              0.1111111111111111,
              "#46039f"
             ],
             [
              0.2222222222222222,
              "#7201a8"
             ],
             [
              0.3333333333333333,
              "#9c179e"
             ],
             [
              0.4444444444444444,
              "#bd3786"
             ],
             [
              0.5555555555555556,
              "#d8576b"
             ],
             [
              0.6666666666666666,
              "#ed7953"
             ],
             [
              0.7777777777777778,
              "#fb9f3a"
             ],
             [
              0.8888888888888888,
              "#fdca26"
             ],
             [
              1,
              "#f0f921"
             ]
            ],
            "type": "histogram2d"
           }
          ],
          "histogram2dcontour": [
           {
            "colorbar": {
             "outlinewidth": 0,
             "ticks": ""
            },
            "colorscale": [
             [
              0,
              "#0d0887"
             ],
             [
              0.1111111111111111,
              "#46039f"
             ],
             [
              0.2222222222222222,
              "#7201a8"
             ],
             [
              0.3333333333333333,
              "#9c179e"
             ],
             [
              0.4444444444444444,
              "#bd3786"
             ],
             [
              0.5555555555555556,
              "#d8576b"
             ],
             [
              0.6666666666666666,
              "#ed7953"
             ],
             [
              0.7777777777777778,
              "#fb9f3a"
             ],
             [
              0.8888888888888888,
              "#fdca26"
             ],
             [
              1,
              "#f0f921"
             ]
            ],
            "type": "histogram2dcontour"
           }
          ],
          "mesh3d": [
           {
            "colorbar": {
             "outlinewidth": 0,
             "ticks": ""
            },
            "type": "mesh3d"
           }
          ],
          "parcoords": [
           {
            "line": {
             "colorbar": {
              "outlinewidth": 0,
              "ticks": ""
             }
            },
            "type": "parcoords"
           }
          ],
          "pie": [
           {
            "automargin": true,
            "type": "pie"
           }
          ],
          "scatter": [
           {
            "fillpattern": {
             "fillmode": "overlay",
             "size": 10,
             "solidity": 0.2
            },
            "type": "scatter"
           }
          ],
          "scatter3d": [
           {
            "line": {
             "colorbar": {
              "outlinewidth": 0,
              "ticks": ""
             }
            },
            "marker": {
             "colorbar": {
              "outlinewidth": 0,
              "ticks": ""
             }
            },
            "type": "scatter3d"
           }
          ],
          "scattercarpet": [
           {
            "marker": {
             "colorbar": {
              "outlinewidth": 0,
              "ticks": ""
             }
            },
            "type": "scattercarpet"
           }
          ],
          "scattergeo": [
           {
            "marker": {
             "colorbar": {
              "outlinewidth": 0,
              "ticks": ""
             }
            },
            "type": "scattergeo"
           }
          ],
          "scattergl": [
           {
            "marker": {
             "colorbar": {
              "outlinewidth": 0,
              "ticks": ""
             }
            },
            "type": "scattergl"
           }
          ],
          "scattermapbox": [
           {
            "marker": {
             "colorbar": {
              "outlinewidth": 0,
              "ticks": ""
             }
            },
            "type": "scattermapbox"
           }
          ],
          "scatterpolar": [
           {
            "marker": {
             "colorbar": {
              "outlinewidth": 0,
              "ticks": ""
             }
            },
            "type": "scatterpolar"
           }
          ],
          "scatterpolargl": [
           {
            "marker": {
             "colorbar": {
              "outlinewidth": 0,
              "ticks": ""
             }
            },
            "type": "scatterpolargl"
           }
          ],
          "scatterternary": [
           {
            "marker": {
             "colorbar": {
              "outlinewidth": 0,
              "ticks": ""
             }
            },
            "type": "scatterternary"
           }
          ],
          "surface": [
           {
            "colorbar": {
             "outlinewidth": 0,
             "ticks": ""
            },
            "colorscale": [
             [
              0,
              "#0d0887"
             ],
             [
              0.1111111111111111,
              "#46039f"
             ],
             [
              0.2222222222222222,
              "#7201a8"
             ],
             [
              0.3333333333333333,
              "#9c179e"
             ],
             [
              0.4444444444444444,
              "#bd3786"
             ],
             [
              0.5555555555555556,
              "#d8576b"
             ],
             [
              0.6666666666666666,
              "#ed7953"
             ],
             [
              0.7777777777777778,
              "#fb9f3a"
             ],
             [
              0.8888888888888888,
              "#fdca26"
             ],
             [
              1,
              "#f0f921"
             ]
            ],
            "type": "surface"
           }
          ],
          "table": [
           {
            "cells": {
             "fill": {
              "color": "#EBF0F8"
             },
             "line": {
              "color": "white"
             }
            },
            "header": {
             "fill": {
              "color": "#C8D4E3"
             },
             "line": {
              "color": "white"
             }
            },
            "type": "table"
           }
          ]
         },
         "layout": {
          "annotationdefaults": {
           "arrowcolor": "#2a3f5f",
           "arrowhead": 0,
           "arrowwidth": 1
          },
          "autotypenumbers": "strict",
          "coloraxis": {
           "colorbar": {
            "outlinewidth": 0,
            "ticks": ""
           }
          },
          "colorscale": {
           "diverging": [
            [
             0,
             "#8e0152"
            ],
            [
             0.1,
             "#c51b7d"
            ],
            [
             0.2,
             "#de77ae"
            ],
            [
             0.3,
             "#f1b6da"
            ],
            [
             0.4,
             "#fde0ef"
            ],
            [
             0.5,
             "#f7f7f7"
            ],
            [
             0.6,
             "#e6f5d0"
            ],
            [
             0.7,
             "#b8e186"
            ],
            [
             0.8,
             "#7fbc41"
            ],
            [
             0.9,
             "#4d9221"
            ],
            [
             1,
             "#276419"
            ]
           ],
           "sequential": [
            [
             0,
             "#0d0887"
            ],
            [
             0.1111111111111111,
             "#46039f"
            ],
            [
             0.2222222222222222,
             "#7201a8"
            ],
            [
             0.3333333333333333,
             "#9c179e"
            ],
            [
             0.4444444444444444,
             "#bd3786"
            ],
            [
             0.5555555555555556,
             "#d8576b"
            ],
            [
             0.6666666666666666,
             "#ed7953"
            ],
            [
             0.7777777777777778,
             "#fb9f3a"
            ],
            [
             0.8888888888888888,
             "#fdca26"
            ],
            [
             1,
             "#f0f921"
            ]
           ],
           "sequentialminus": [
            [
             0,
             "#0d0887"
            ],
            [
             0.1111111111111111,
             "#46039f"
            ],
            [
             0.2222222222222222,
             "#7201a8"
            ],
            [
             0.3333333333333333,
             "#9c179e"
            ],
            [
             0.4444444444444444,
             "#bd3786"
            ],
            [
             0.5555555555555556,
             "#d8576b"
            ],
            [
             0.6666666666666666,
             "#ed7953"
            ],
            [
             0.7777777777777778,
             "#fb9f3a"
            ],
            [
             0.8888888888888888,
             "#fdca26"
            ],
            [
             1,
             "#f0f921"
            ]
           ]
          },
          "colorway": [
           "#636efa",
           "#EF553B",
           "#00cc96",
           "#ab63fa",
           "#FFA15A",
           "#19d3f3",
           "#FF6692",
           "#B6E880",
           "#FF97FF",
           "#FECB52"
          ],
          "font": {
           "color": "#2a3f5f"
          },
          "geo": {
           "bgcolor": "white",
           "lakecolor": "white",
           "landcolor": "#E5ECF6",
           "showlakes": true,
           "showland": true,
           "subunitcolor": "white"
          },
          "hoverlabel": {
           "align": "left"
          },
          "hovermode": "closest",
          "mapbox": {
           "style": "light"
          },
          "paper_bgcolor": "white",
          "plot_bgcolor": "#E5ECF6",
          "polar": {
           "angularaxis": {
            "gridcolor": "white",
            "linecolor": "white",
            "ticks": ""
           },
           "bgcolor": "#E5ECF6",
           "radialaxis": {
            "gridcolor": "white",
            "linecolor": "white",
            "ticks": ""
           }
          },
          "scene": {
           "xaxis": {
            "backgroundcolor": "#E5ECF6",
            "gridcolor": "white",
            "gridwidth": 2,
            "linecolor": "white",
            "showbackground": true,
            "ticks": "",
            "zerolinecolor": "white"
           },
           "yaxis": {
            "backgroundcolor": "#E5ECF6",
            "gridcolor": "white",
            "gridwidth": 2,
            "linecolor": "white",
            "showbackground": true,
            "ticks": "",
            "zerolinecolor": "white"
           },
           "zaxis": {
            "backgroundcolor": "#E5ECF6",
            "gridcolor": "white",
            "gridwidth": 2,
            "linecolor": "white",
            "showbackground": true,
            "ticks": "",
            "zerolinecolor": "white"
           }
          },
          "shapedefaults": {
           "line": {
            "color": "#2a3f5f"
           }
          },
          "ternary": {
           "aaxis": {
            "gridcolor": "white",
            "linecolor": "white",
            "ticks": ""
           },
           "baxis": {
            "gridcolor": "white",
            "linecolor": "white",
            "ticks": ""
           },
           "bgcolor": "#E5ECF6",
           "caxis": {
            "gridcolor": "white",
            "linecolor": "white",
            "ticks": ""
           }
          },
          "title": {
           "x": 0.05
          },
          "xaxis": {
           "automargin": true,
           "gridcolor": "white",
           "linecolor": "white",
           "ticks": "",
           "title": {
            "standoff": 15
           },
           "zerolinecolor": "white",
           "zerolinewidth": 2
          },
          "yaxis": {
           "automargin": true,
           "gridcolor": "white",
           "linecolor": "white",
           "ticks": "",
           "title": {
            "standoff": 15
           },
           "zerolinecolor": "white",
           "zerolinewidth": 2
          }
         }
        },
        "title": {
         "text": "Firearm Mortalities per State"
        },
        "xaxis": {
         "anchor": "y",
         "autorange": true,
         "domain": [
          0,
          1
         ],
         "range": [
          -2.992391160513431,
          51.99239116051343
         ],
         "title": {
          "text": "STATE"
         },
         "type": "category"
        },
        "yaxis": {
         "anchor": "x",
         "autorange": true,
         "domain": [
          0,
          1
         ],
         "range": [
          -350.373786407767,
          4991.373786407767
         ],
         "title": {
          "text": "Average Deaths"
         },
         "type": "linear"
        }
       }
      },
      "image/png": "[encoded data removed]",
      "text/html": [
       "<div>                            <div id=\"d5aff0cd-d961-485c-a41a-10c08c27e2eb\" class=\"plotly-graph-div\" style=\"height:525px; width:100%;\"></div>            <script type=\"text/javascript\">                require([\"plotly\"], function(Plotly) {                    window.PLOTLYENV=window.PLOTLYENV || {};                                    if (document.getElementById(\"d5aff0cd-d961-485c-a41a-10c08c27e2eb\")) {                    Plotly.newPlot(                        \"d5aff0cd-d961-485c-a41a-10c08c27e2eb\",                        [{\"hovertemplate\":\"STATE=%{x}<br>Average Deaths=%{y}<extra></extra>\",\"legendgroup\":\"\",\"marker\":{\"color\":\"#636efa\",\"symbol\":\"circle\"},\"mode\":\"markers\",\"name\":\"\",\"orientation\":\"v\",\"showlegend\":false,\"x\":[\"AK\",\"AK\",\"AK\",\"AK\",\"AK\",\"AK\",\"AK\",\"AK\",\"AK\",\"AL\",\"AL\",\"AL\",\"AL\",\"AL\",\"AL\",\"AL\",\"AL\",\"AL\",\"AR\",\"AR\",\"AR\",\"AR\",\"AR\",\"AR\",\"AR\",\"AR\",\"AR\",\"AZ\",\"AZ\",\"AZ\",\"AZ\",\"AZ\",\"AZ\",\"AZ\",\"AZ\",\"AZ\",\"CA\",\"CA\",\"CA\",\"CA\",\"CA\",\"CA\",\"CA\",\"CA\",\"CA\",\"CO\",\"CO\",\"CO\",\"CO\",\"CO\",\"CO\",\"CO\",\"CO\",\"CO\",\"CT\",\"CT\",\"CT\",\"CT\",\"CT\",\"CT\",\"CT\",\"CT\",\"CT\",\"DE\",\"DE\",\"DE\",\"DE\",\"DE\",\"DE\",\"DE\",\"DE\",\"DE\",\"FL\",\"FL\",\"FL\",\"FL\",\"FL\",\"FL\",\"FL\",\"FL\",\"FL\",\"GA\",\"GA\",\"GA\",\"GA\",\"GA\",\"GA\",\"GA\",\"GA\",\"GA\",\"HI\",\"HI\",\"HI\",\"HI\",\"HI\",\"HI\",\"HI\",\"HI\",\"HI\",\"IA\",\"IA\",\"IA\",\"IA\",\"IA\",\"IA\",\"IA\",\"IA\",\"IA\",\"ID\",\"ID\",\"ID\",\"ID\",\"ID\",\"ID\",\"ID\",\"ID\",\"ID\",\"IL\",\"IL\",\"IL\",\"IL\",\"IL\",\"IL\",\"IL\",\"IL\",\"IL\",\"IN\",\"IN\",\"IN\",\"IN\",\"IN\",\"IN\",\"IN\",\"IN\",\"IN\",\"KS\",\"KS\",\"KS\",\"KS\",\"KS\",\"KS\",\"KS\",\"KS\",\"KS\",\"KY\",\"KY\",\"KY\",\"KY\",\"KY\",\"KY\",\"KY\",\"KY\",\"KY\",\"LA\",\"LA\",\"LA\",\"LA\",\"LA\",\"LA\",\"LA\",\"LA\",\"LA\",\"MA\",\"MA\",\"MA\",\"MA\",\"MA\",\"MA\",\"MA\",\"MA\",\"MA\",\"MD\",\"MD\",\"MD\",\"MD\",\"MD\",\"MD\",\"MD\",\"MD\",\"MD\",\"ME\",\"ME\",\"ME\",\"ME\",\"ME\",\"ME\",\"ME\",\"ME\",\"ME\",\"MI\",\"MI\",\"MI\",\"MI\",\"MI\",\"MI\",\"MI\",\"MI\",\"MI\",\"MN\",\"MN\",\"MN\",\"MN\",\"MN\",\"MN\",\"MN\",\"MN\",\"MN\",\"MO\",\"MO\",\"MO\",\"MO\",\"MO\",\"MO\",\"MO\",\"MO\",\"MO\",\"MS\",\"MS\",\"MS\",\"MS\",\"MS\",\"MS\",\"MS\",\"MS\",\"MS\",\"MT\",\"MT\",\"MT\",\"MT\",\"MT\",\"MT\",\"MT\",\"MT\",\"MT\",\"NC\",\"NC\",\"NC\",\"NC\",\"NC\",\"NC\",\"NC\",\"NC\",\"NC\",\"ND\",\"ND\",\"ND\",\"ND\",\"ND\",\"ND\",\"ND\",\"ND\",\"ND\",\"NE\",\"NE\",\"NE\",\"NE\",\"NE\",\"NE\",\"NE\",\"NE\",\"NE\",\"NH\",\"NH\",\"NH\",\"NH\",\"NH\",\"NH\",\"NH\",\"NH\",\"NH\",\"NJ\",\"NJ\",\"NJ\",\"NJ\",\"NJ\",\"NJ\",\"NJ\",\"NJ\",\"NJ\",\"NM\",\"NM\",\"NM\",\"NM\",\"NM\",\"NM\",\"NM\",\"NM\",\"NM\",\"NV\",\"NV\",\"NV\",\"NV\",\"NV\",\"NV\",\"NV\",\"NV\",\"NV\",\"NY\",\"NY\",\"NY\",\"NY\",\"NY\",\"NY\",\"NY\",\"NY\",\"NY\",\"OH\",\"OH\",\"OH\",\"OH\",\"OH\",\"OH\",\"OH\",\"OH\",\"OH\",\"OK\",\"OK\",\"OK\",\"OK\",\"OK\",\"OK\",\"OK\",\"OK\",\"OK\",\"OR\",\"OR\",\"OR\",\"OR\",\"OR\",\"OR\",\"OR\",\"OR\",\"OR\",\"PA\",\"PA\",\"PA\",\"PA\",\"PA\",\"PA\",\"PA\",\"PA\",\"PA\",\"RI\",\"RI\",\"RI\",\"RI\",\"RI\",\"RI\",\"RI\",\"RI\",\"RI\",\"SC\",\"SC\",\"SC\",\"SC\",\"SC\",\"SC\",\"SC\",\"SC\",\"SC\",\"SD\",\"SD\",\"SD\",\"SD\",\"SD\",\"SD\",\"SD\",\"SD\",\"SD\",\"TN\",\"TN\",\"TN\",\"TN\",\"TN\",\"TN\",\"TN\",\"TN\",\"TN\",\"TX\",\"TX\",\"TX\",\"TX\",\"TX\",\"TX\",\"TX\",\"TX\",\"TX\",\"UT\",\"UT\",\"UT\",\"UT\",\"UT\",\"UT\",\"UT\",\"UT\",\"UT\",\"VA\",\"VA\",\"VA\",\"VA\",\"VA\",\"VA\",\"VA\",\"VA\",\"VA\",\"VT\",\"VT\",\"VT\",\"VT\",\"VT\",\"VT\",\"VT\",\"VT\",\"VT\",\"WA\",\"WA\",\"WA\",\"WA\",\"WA\",\"WA\",\"WA\",\"WA\",\"WA\",\"WI\",\"WI\",\"WI\",\"WI\",\"WI\",\"WI\",\"WI\",\"WI\",\"WI\",\"WV\",\"WV\",\"WV\",\"WV\",\"WV\",\"WV\",\"WV\",\"WV\",\"WV\",\"WY\",\"WY\",\"WY\",\"WY\",\"WY\",\"WY\",\"WY\",\"WY\",\"WY\"],\"xaxis\":\"x\",\"y\":[116.0,145.0,177.0,177.0,180.0,155.0,179.0,175.0,182.0,736.0,815.0,958.0,1046.0,1124.0,1064.0,1076.0,1141.0,1315.0,439.0,496.0,520.0,541.0,613.0,573.0,580.0,673.0,698.0,934.0,927.0,970.0,1094.0,1134.0,1147.0,1136.0,1265.0,1365.0,3453.0,2942.0,3095.0,3184.0,3184.0,3040.0,2945.0,3449.0,3576.0,535.0,663.0,701.0,812.0,779.0,889.0,846.0,922.0,1064.0,187.0,187.0,189.0,172.0,188.0,186.0,190.0,219.0,248.0,75.0,102.0,112.0,111.0,111.0,107.0,93.0,135.0,158.0,1838.0,2410.0,2559.0,2704.0,2724.0,2902.0,2872.0,3041.0,3142.0,1064.0,1391.0,1448.0,1571.0,1623.0,1680.0,1695.0,1897.0,2200.0,28.0,40.0,55.0,66.0,39.0,59.0,62.0,50.0,71.0,201.0,241.0,247.0,288.0,293.0,282.0,294.0,351.0,364.0,195.0,213.0,247.0,242.0,280.0,294.0,255.0,321.0,309.0,1019.0,1179.0,1220.0,1490.0,1543.0,1382.0,1367.0,1745.0,1995.0,705.0,818.0,846.0,997.0,1016.0,977.0,958.0,1159.0,1251.0,257.0,329.0,330.0,383.0,466.0,424.0,403.0,494.0,503.0,548.0,634.0,694.0,772.0,730.0,762.0,682.0,902.0,947.0,858.0,896.0,952.0,987.0,1008.0,991.0,1013.0,1183.0,1314.0,224.0,226.0,213.0,242.0,262.0,258.0,247.0,268.0,247.0,657.0,546.0,708.0,707.0,742.0,707.0,757.0,803.0,915.0,109.0,133.0,144.0,123.0,172.0,159.0,163.0,153.0,178.0,1074.0,1095.0,1164.0,1230.0,1138.0,1310.0,1220.0,1454.0,1544.0,361.0,377.0,410.0,432.0,465.0,437.0,465.0,513.0,573.0,752.0,943.0,1094.0,1144.0,1307.0,1311.0,1252.0,1426.0,1414.0,455.0,547.0,589.0,587.0,632.0,681.0,710.0,818.0,962.0,161.0,172.0,205.0,194.0,244.0,186.0,209.0,238.0,280.0,1119.0,1206.0,1289.0,1409.0,1430.0,1416.0,1397.0,1699.0,1839.0,61.0,96.0,92.0,90.0,103.0,89.0,93.0,100.0,128.0,135.0,179.0,169.0,171.0,160.0,183.0,205.0,197.0,200.0,88.0,122.0,121.0,132.0,146.0,155.0,156.0,128.0,123.0,434.0,468.0,475.0,485.0,478.0,420.0,368.0,443.0,475.0,267.0,340.0,390.0,383.0,394.0,438.0,471.0,479.0,578.0,390.0,429.0,446.0,498.0,508.0,550.0,490.0,547.0,633.0,1019.0,875.0,849.0,900.0,772.0,821.0,804.0,1052.0,1078.0,1116.0,1211.0,1397.0,1524.0,1589.0,1555.0,1578.0,1764.0,1911.0,468.0,611.0,706.0,766.0,681.0,665.0,737.0,826.0,836.0,402.0,497.0,486.0,513.0,528.0,519.0,566.0,592.0,670.0,1352.0,1390.0,1485.0,1555.0,1636.0,1654.0,1541.0,1752.0,1905.0,39.0,34.0,51.0,49.0,43.0,37.0,48.0,54.0,64.0,589.0,767.0,850.0,891.0,893.0,895.0,1012.0,1131.0,1136.0,82.0,89.0,96.0,108.0,101.0,117.0,113.0,120.0,128.0,976.0,1016.0,1075.0,1148.0,1246.0,1228.0,1270.0,1473.0,1569.0,2490.0,2848.0,3203.0,3353.0,3513.0,3522.0,3683.0,4164.0,4613.0,227.0,337.0,367.0,370.0,410.0,397.0,394.0,429.0,450.0,888.0,889.0,946.0,1049.0,1041.0,1035.0,1025.0,1174.0,1248.0,44.0,69.0,70.0,78.0,70.0,82.0,67.0,76.0,83.0,567.0,702.0,718.0,686.0,849.0,809.0,842.0,864.0,896.0,474.0,487.0,613.0,664.0,624.0,598.0,604.0,717.0,793.0,261.0,286.0,278.0,332.0,348.0,343.0,300.0,325.0,319.0,71.0,93.0,113.0,101.0,113.0,124.0,133.0,154.0,155.0],\"yaxis\":\"y\",\"type\":\"scatter\"}],                        {\"template\":{\"data\":{\"histogram2dcontour\":[{\"type\":\"histogram2dcontour\",\"colorbar\":{\"outlinewidth\":0,\"ticks\":\"\"},\"colorscale\":[[0.0,\"#0d0887\"],[0.1111111111111111,\"#46039f\"],[0.2222222222222222,\"#7201a8\"],[0.3333333333333333,\"#9c179e\"],[0.4444444444444444,\"#bd3786\"],[0.5555555555555556,\"#d8576b\"],[0.6666666666666666,\"#ed7953\"],[0.7777777777777778,\"#fb9f3a\"],[0.8888888888888888,\"#fdca26\"],[1.0,\"#f0f921\"]]}],\"choropleth\":[{\"type\":\"choropleth\",\"colorbar\":{\"outlinewidth\":0,\"ticks\":\"\"}}],\"histogram2d\":[{\"type\":\"histogram2d\",\"colorbar\":{\"outlinewidth\":0,\"ticks\":\"\"},\"colorscale\":[[0.0,\"#0d0887\"],[0.1111111111111111,\"#46039f\"],[0.2222222222222222,\"#7201a8\"],[0.3333333333333333,\"#9c179e\"],[0.4444444444444444,\"#bd3786\"],[0.5555555555555556,\"#d8576b\"],[0.6666666666666666,\"#ed7953\"],[0.7777777777777778,\"#fb9f3a\"],[0.8888888888888888,\"#fdca26\"],[1.0,\"#f0f921\"]]}],\"heatmap\":[{\"type\":\"heatmap\",\"colorbar\":{\"outlinewidth\":0,\"ticks\":\"\"},\"colorscale\":[[0.0,\"#0d0887\"],[0.1111111111111111,\"#46039f\"],[0.2222222222222222,\"#7201a8\"],[0.3333333333333333,\"#9c179e\"],[0.4444444444444444,\"#bd3786\"],[0.5555555555555556,\"#d8576b\"],[0.6666666666666666,\"#ed7953\"],[0.7777777777777778,\"#fb9f3a\"],[0.8888888888888888,\"#fdca26\"],[1.0,\"#f0f921\"]]}],\"heatmapgl\":[{\"type\":\"heatmapgl\",\"colorbar\":{\"outlinewidth\":0,\"ticks\":\"\"},\"colorscale\":[[0.0,\"#0d0887\"],[0.1111111111111111,\"#46039f\"],[0.2222222222222222,\"#7201a8\"],[0.3333333333333333,\"#9c179e\"],[0.4444444444444444,\"#bd3786\"],[0.5555555555555556,\"#d8576b\"],[0.6666666666666666,\"#ed7953\"],[0.7777777777777778,\"#fb9f3a\"],[0.8888888888888888,\"#fdca26\"],[1.0,\"#f0f921\"]]}],\"contourcarpet\":[{\"type\":\"contourcarpet\",\"colorbar\":{\"outlinewidth\":0,\"ticks\":\"\"}}],\"contour\":[{\"type\":\"contour\",\"colorbar\":{\"outlinewidth\":0,\"ticks\":\"\"},\"colorscale\":[[0.0,\"#0d0887\"],[0.1111111111111111,\"#46039f\"],[0.2222222222222222,\"#7201a8\"],[0.3333333333333333,\"#9c179e\"],[0.4444444444444444,\"#bd3786\"],[0.5555555555555556,\"#d8576b\"],[0.6666666666666666,\"#ed7953\"],[0.7777777777777778,\"#fb9f3a\"],[0.8888888888888888,\"#fdca26\"],[1.0,\"#f0f921\"]]}],\"surface\":[{\"type\":\"surface\",\"colorbar\":{\"outlinewidth\":0,\"ticks\":\"\"},\"colorscale\":[[0.0,\"#0d0887\"],[0.1111111111111111,\"#46039f\"],[0.2222222222222222,\"#7201a8\"],[0.3333333333333333,\"#9c179e\"],[0.4444444444444444,\"#bd3786\"],[0.5555555555555556,\"#d8576b\"],[0.6666666666666666,\"#ed7953\"],[0.7777777777777778,\"#fb9f3a\"],[0.8888888888888888,\"#fdca26\"],[1.0,\"#f0f921\"]]}],\"mesh3d\":[{\"type\":\"mesh3d\",\"colorbar\":{\"outlinewidth\":0,\"ticks\":\"\"}}],\"scatter\":[{\"fillpattern\":{\"fillmode\":\"overlay\",\"size\":10,\"solidity\":0.2},\"type\":\"scatter\"}],\"parcoords\":[{\"type\":\"parcoords\",\"line\":{\"colorbar\":{\"outlinewidth\":0,\"ticks\":\"\"}}}],\"scatterpolargl\":[{\"type\":\"scatterpolargl\",\"marker\":{\"colorbar\":{\"outlinewidth\":0,\"ticks\":\"\"}}}],\"bar\":[{\"error_x\":{\"color\":\"#2a3f5f\"},\"error_y\":{\"color\":\"#2a3f5f\"},\"marker\":{\"line\":{\"color\":\"#E5ECF6\",\"width\":0.5},\"pattern\":{\"fillmode\":\"overlay\",\"size\":10,\"solidity\":0.2}},\"type\":\"bar\"}],\"scattergeo\":[{\"type\":\"scattergeo\",\"marker\":{\"colorbar\":{\"outlinewidth\":0,\"ticks\":\"\"}}}],\"scatterpolar\":[{\"type\":\"scatterpolar\",\"marker\":{\"colorbar\":{\"outlinewidth\":0,\"ticks\":\"\"}}}],\"histogram\":[{\"marker\":{\"pattern\":{\"fillmode\":\"overlay\",\"size\":10,\"solidity\":0.2}},\"type\":\"histogram\"}],\"scattergl\":[{\"type\":\"scattergl\",\"marker\":{\"colorbar\":{\"outlinewidth\":0,\"ticks\":\"\"}}}],\"scatter3d\":[{\"type\":\"scatter3d\",\"line\":{\"colorbar\":{\"outlinewidth\":0,\"ticks\":\"\"}},\"marker\":{\"colorbar\":{\"outlinewidth\":0,\"ticks\":\"\"}}}],\"scattermapbox\":[{\"type\":\"scattermapbox\",\"marker\":{\"colorbar\":{\"outlinewidth\":0,\"ticks\":\"\"}}}],\"scatterternary\":[{\"type\":\"scatterternary\",\"marker\":{\"colorbar\":{\"outlinewidth\":0,\"ticks\":\"\"}}}],\"scattercarpet\":[{\"type\":\"scattercarpet\",\"marker\":{\"colorbar\":{\"outlinewidth\":0,\"ticks\":\"\"}}}],\"carpet\":[{\"aaxis\":{\"endlinecolor\":\"#2a3f5f\",\"gridcolor\":\"white\",\"linecolor\":\"white\",\"minorgridcolor\":\"white\",\"startlinecolor\":\"#2a3f5f\"},\"baxis\":{\"endlinecolor\":\"#2a3f5f\",\"gridcolor\":\"white\",\"linecolor\":\"white\",\"minorgridcolor\":\"white\",\"startlinecolor\":\"#2a3f5f\"},\"type\":\"carpet\"}],\"table\":[{\"cells\":{\"fill\":{\"color\":\"#EBF0F8\"},\"line\":{\"color\":\"white\"}},\"header\":{\"fill\":{\"color\":\"#C8D4E3\"},\"line\":{\"color\":\"white\"}},\"type\":\"table\"}],\"barpolar\":[{\"marker\":{\"line\":{\"color\":\"#E5ECF6\",\"width\":0.5},\"pattern\":{\"fillmode\":\"overlay\",\"size\":10,\"solidity\":0.2}},\"type\":\"barpolar\"}],\"pie\":[{\"automargin\":true,\"type\":\"pie\"}]},\"layout\":{\"autotypenumbers\":\"strict\",\"colorway\":[\"#636efa\",\"#EF553B\",\"#00cc96\",\"#ab63fa\",\"#FFA15A\",\"#19d3f3\",\"#FF6692\",\"#B6E880\",\"#FF97FF\",\"#FECB52\"],\"font\":{\"color\":\"#2a3f5f\"},\"hovermode\":\"closest\",\"hoverlabel\":{\"align\":\"left\"},\"paper_bgcolor\":\"white\",\"plot_bgcolor\":\"#E5ECF6\",\"polar\":{\"bgcolor\":\"#E5ECF6\",\"angularaxis\":{\"gridcolor\":\"white\",\"linecolor\":\"white\",\"ticks\":\"\"},\"radialaxis\":{\"gridcolor\":\"white\",\"linecolor\":\"white\",\"ticks\":\"\"}},\"ternary\":{\"bgcolor\":\"#E5ECF6\",\"aaxis\":{\"gridcolor\":\"white\",\"linecolor\":\"white\",\"ticks\":\"\"},\"baxis\":{\"gridcolor\":\"white\",\"linecolor\":\"white\",\"ticks\":\"\"},\"caxis\":{\"gridcolor\":\"white\",\"linecolor\":\"white\",\"ticks\":\"\"}},\"coloraxis\":{\"colorbar\":{\"outlinewidth\":0,\"ticks\":\"\"}},\"colorscale\":{\"sequential\":[[0.0,\"#0d0887\"],[0.1111111111111111,\"#46039f\"],[0.2222222222222222,\"#7201a8\"],[0.3333333333333333,\"#9c179e\"],[0.4444444444444444,\"#bd3786\"],[0.5555555555555556,\"#d8576b\"],[0.6666666666666666,\"#ed7953\"],[0.7777777777777778,\"#fb9f3a\"],[0.8888888888888888,\"#fdca26\"],[1.0,\"#f0f921\"]],\"sequentialminus\":[[0.0,\"#0d0887\"],[0.1111111111111111,\"#46039f\"],[0.2222222222222222,\"#7201a8\"],[0.3333333333333333,\"#9c179e\"],[0.4444444444444444,\"#bd3786\"],[0.5555555555555556,\"#d8576b\"],[0.6666666666666666,\"#ed7953\"],[0.7777777777777778,\"#fb9f3a\"],[0.8888888888888888,\"#fdca26\"],[1.0,\"#f0f921\"]],\"diverging\":[[0,\"#8e0152\"],[0.1,\"#c51b7d\"],[0.2,\"#de77ae\"],[0.3,\"#f1b6da\"],[0.4,\"#fde0ef\"],[0.5,\"#f7f7f7\"],[0.6,\"#e6f5d0\"],[0.7,\"#b8e186\"],[0.8,\"#7fbc41\"],[0.9,\"#4d9221\"],[1,\"#276419\"]]},\"xaxis\":{\"gridcolor\":\"white\",\"linecolor\":\"white\",\"ticks\":\"\",\"title\":{\"standoff\":15},\"zerolinecolor\":\"white\",\"automargin\":true,\"zerolinewidth\":2},\"yaxis\":{\"gridcolor\":\"white\",\"linecolor\":\"white\",\"ticks\":\"\",\"title\":{\"standoff\":15},\"zerolinecolor\":\"white\",\"automargin\":true,\"zerolinewidth\":2},\"scene\":{\"xaxis\":{\"backgroundcolor\":\"#E5ECF6\",\"gridcolor\":\"white\",\"linecolor\":\"white\",\"showbackground\":true,\"ticks\":\"\",\"zerolinecolor\":\"white\",\"gridwidth\":2},\"yaxis\":{\"backgroundcolor\":\"#E5ECF6\",\"gridcolor\":\"white\",\"linecolor\":\"white\",\"showbackground\":true,\"ticks\":\"\",\"zerolinecolor\":\"white\",\"gridwidth\":2},\"zaxis\":{\"backgroundcolor\":\"#E5ECF6\",\"gridcolor\":\"white\",\"linecolor\":\"white\",\"showbackground\":true,\"ticks\":\"\",\"zerolinecolor\":\"white\",\"gridwidth\":2}},\"shapedefaults\":{\"line\":{\"color\":\"#2a3f5f\"}},\"annotationdefaults\":{\"arrowcolor\":\"#2a3f5f\",\"arrowhead\":0,\"arrowwidth\":1},\"geo\":{\"bgcolor\":\"white\",\"landcolor\":\"#E5ECF6\",\"subunitcolor\":\"white\",\"showland\":true,\"showlakes\":true,\"lakecolor\":\"white\"},\"title\":{\"x\":0.05},\"mapbox\":{\"style\":\"light\"}}},\"xaxis\":{\"anchor\":\"y\",\"domain\":[0.0,1.0],\"title\":{\"text\":\"STATE\"}},\"yaxis\":{\"anchor\":\"x\",\"domain\":[0.0,1.0],\"title\":{\"text\":\"Average Deaths\"}},\"legend\":{\"tracegroupgap\":0},\"title\":{\"text\":\"Firearm Mortalities per State\"}},                        {\"responsive\": true}                    ).then(function(){\n",
       "                            \n",
       "var gd = document.getElementById('d5aff0cd-d961-485c-a41a-10c08c27e2eb');\n",
       "var x = new MutationObserver(function (mutations, observer) {{\n",
       "        var display = window.getComputedStyle(gd).display;\n",
       "        if (!display || display === 'none') {{\n",
       "            console.log([gd, 'removed!']);\n",
       "            Plotly.purge(gd);\n",
       "            observer.disconnect();\n",
       "        }}\n",
       "}});\n",
       "\n",
       "// Listen for the removal of the full notebook cells\n",
       "var notebookContainer = gd.closest('#notebook-container');\n",
       "if (notebookContainer) {{\n",
       "    x.observe(notebookContainer, {childList: true});\n",
       "}}\n",
       "\n",
       "// Listen for the clearing of the current output cell\n",
       "var outputEl = gd.closest('.output');\n",
       "if (outputEl) {{\n",
       "    x.observe(outputEl, {childList: true});\n",
       "}}\n",
       "\n",
       "                        })                };                });            </script>        </div>"
      ]
     },
     "metadata": {},
     "output_type": "display_data"
    }
   ],
   "source": [
    "# Firearm Mortalities per State\n",
    "fig = px.scatter(firearm_mortality.groupby(['STATE', 'YEAR'])['DEATHS'].mean().reset_index(),\n",
    "                 x='STATE', y='DEATHS', title='Firearm Mortalities per State',\n",
    "                 labels={'DEATHS': 'Average Deaths'},\n",
    "                 template='plotly')\n",
    "fig.show()"
   ]
  },
  {
   "cell_type": "code",
   "execution_count": 190,
   "id": "a8715568-1b45-4bab-9d5d-533f9ec40505",
   "metadata": {
    "tags": []
   },
   "outputs": [
    {
     "data": {
      "text/plain": [
       "0.005575884587360668"
      ]
     },
     "execution_count": 190,
     "metadata": {},
     "output_type": "execute_result"
    }
   ],
   "source": [
    "texas_data = firearm_mortality[firearm_mortality['STATE'] == 'TX']['DEATHS']\n",
    "florida_data = firearm_mortality[firearm_mortality['STATE'] == 'FL']['DEATHS']\n",
    "\n",
    "t_stat, p_value = ttest_ind(texas_data, florida_data)\n",
    "p_value"
   ]
  },
  {
   "cell_type": "markdown",
   "id": "339f841a-dc9a-47d7-ae3d-d04ac1839a2d",
   "metadata": {},
   "source": [
    "> This low p-value tells us that there is statistical significance between Texas which has the highest mortality count and Florida which is third on the list. All mortality counts for the United States, excluding California, are statistically significant when comparing to Texas."
   ]
  },
  {
   "cell_type": "code",
   "execution_count": 187,
   "id": "7a4a9bda-a9dd-4d0f-af91-0e77971d12ea",
   "metadata": {
    "tags": []
   },
   "outputs": [
    {
     "data": {
      "text/plain": [
       "STATE\n",
       "MS    22.766667\n",
       "AK    22.444444\n",
       "LA    22.200000\n",
       "AL    21.211111\n",
       "WY    20.133333\n",
       "NM    19.844444\n",
       "MO    19.555556\n",
       "MT    19.544444\n",
       "AR    19.044444\n",
       "SC    18.211111\n",
       "TN    18.100000\n",
       "OK    17.888889\n",
       "NV    16.588889\n",
       "KY    16.533333\n",
       "WV    16.522222\n",
       "Name: RATE, dtype: float64"
      ]
     },
     "execution_count": 187,
     "metadata": {},
     "output_type": "execute_result"
    }
   ],
   "source": [
    "#highest mortality rate by firearm states - Mississippi Highest\n",
    "firearm_mortality.groupby('STATE')['RATE'].mean().nlargest(15)"
   ]
  },
  {
   "cell_type": "code",
   "execution_count": 107,
   "id": "da4fa6a9-3b5c-49bf-b2c3-ec8ad174dc8e",
   "metadata": {
    "tags": []
   },
   "outputs": [
    {
     "data": {
      "application/vnd.plotly.v1+json": {
       "config": {
        "plotlyServerURL": "https://plot.ly"
       },
       "data": [
        {
         "hovertemplate": "STATE=%{x}<br>Mortality Rate=%{y}<extra></extra>",
         "legendgroup": "",
         "marker": {
          "color": "#636efa",
          "symbol": "circle"
         },
         "mode": "markers",
         "name": "",
         "orientation": "v",
         "showlegend": false,
         "type": "scatter",
         "x": [
          "AK",
          "AK",
          "AK",
          "AK",
          "AK",
          "AK",
          "AK",
          "AK",
          "AK",
          "AL",
          "AL",
          "AL",
          "AL",
          "AL",
          "AL",
          "AL",
          "AL",
          "AL",
          "AR",
          "AR",
          "AR",
          "AR",
          "AR",
          "AR",
          "AR",
          "AR",
          "AR",
          "AZ",
          "AZ",
          "AZ",
          "AZ",
          "AZ",
          "AZ",
          "AZ",
          "AZ",
          "AZ",
          "CA",
          "CA",
          "CA",
          "CA",
          "CA",
          "CA",
          "CA",
          "CA",
          "CA",
          "CO",
          "CO",
          "CO",
          "CO",
          "CO",
          "CO",
          "CO",
          "CO",
          "CO",
          "CT",
          "CT",
          "CT",
          "CT",
          "CT",
          "CT",
          "CT",
          "CT",
          "CT",
          "DE",
          "DE",
          "DE",
          "DE",
          "DE",
          "DE",
          "DE",
          "DE",
          "DE",
          "FL",
          "FL",
          "FL",
          "FL",
          "FL",
          "FL",
          "FL",
          "FL",
          "FL",
          "GA",
          "GA",
          "GA",
          "GA",
          "GA",
          "GA",
          "GA",
          "GA",
          "GA",
          "HI",
          "HI",
          "HI",
          "HI",
          "HI",
          "HI",
          "HI",
          "HI",
          "HI",
          "IA",
          "IA",
          "IA",
          "IA",
          "IA",
          "IA",
          "IA",
          "IA",
          "IA",
          "ID",
          "ID",
          "ID",
          "ID",
          "ID",
          "ID",
          "ID",
          "ID",
          "ID",
          "IL",
          "IL",
          "IL",
          "IL",
          "IL",
          "IL",
          "IL",
          "IL",
          "IL",
          "IN",
          "IN",
          "IN",
          "IN",
          "IN",
          "IN",
          "IN",
          "IN",
          "IN",
          "KS",
          "KS",
          "KS",
          "KS",
          "KS",
          "KS",
          "KS",
          "KS",
          "KS",
          "KY",
          "KY",
          "KY",
          "KY",
          "KY",
          "KY",
          "KY",
          "KY",
          "KY",
          "LA",
          "LA",
          "LA",
          "LA",
          "LA",
          "LA",
          "LA",
          "LA",
          "LA",
          "MA",
          "MA",
          "MA",
          "MA",
          "MA",
          "MA",
          "MA",
          "MA",
          "MA",
          "MD",
          "MD",
          "MD",
          "MD",
          "MD",
          "MD",
          "MD",
          "MD",
          "MD",
          "ME",
          "ME",
          "ME",
          "ME",
          "ME",
          "ME",
          "ME",
          "ME",
          "ME",
          "MI",
          "MI",
          "MI",
          "MI",
          "MI",
          "MI",
          "MI",
          "MI",
          "MI",
          "MN",
          "MN",
          "MN",
          "MN",
          "MN",
          "MN",
          "MN",
          "MN",
          "MN",
          "MO",
          "MO",
          "MO",
          "MO",
          "MO",
          "MO",
          "MO",
          "MO",
          "MO",
          "MS",
          "MS",
          "MS",
          "MS",
          "MS",
          "MS",
          "MS",
          "MS",
          "MS",
          "MT",
          "MT",
          "MT",
          "MT",
          "MT",
          "MT",
          "MT",
          "MT",
          "MT",
          "NC",
          "NC",
          "NC",
          "NC",
          "NC",
          "NC",
          "NC",
          "NC",
          "NC",
          "ND",
          "ND",
          "ND",
          "ND",
          "ND",
          "ND",
          "ND",
          "ND",
          "ND",
          "NE",
          "NE",
          "NE",
          "NE",
          "NE",
          "NE",
          "NE",
          "NE",
          "NE",
          "NH",
          "NH",
          "NH",
          "NH",
          "NH",
          "NH",
          "NH",
          "NH",
          "NH",
          "NJ",
          "NJ",
          "NJ",
          "NJ",
          "NJ",
          "NJ",
          "NJ",
          "NJ",
          "NJ",
          "NM",
          "NM",
          "NM",
          "NM",
          "NM",
          "NM",
          "NM",
          "NM",
          "NM",
          "NV",
          "NV",
          "NV",
          "NV",
          "NV",
          "NV",
          "NV",
          "NV",
          "NV",
          "NY",
          "NY",
          "NY",
          "NY",
          "NY",
          "NY",
          "NY",
          "NY",
          "NY",
          "OH",
          "OH",
          "OH",
          "OH",
          "OH",
          "OH",
          "OH",
          "OH",
          "OH",
          "OK",
          "OK",
          "OK",
          "OK",
          "OK",
          "OK",
          "OK",
          "OK",
          "OK",
          "OR",
          "OR",
          "OR",
          "OR",
          "OR",
          "OR",
          "OR",
          "OR",
          "OR",
          "PA",
          "PA",
          "PA",
          "PA",
          "PA",
          "PA",
          "PA",
          "PA",
          "PA",
          "RI",
          "RI",
          "RI",
          "RI",
          "RI",
          "RI",
          "RI",
          "RI",
          "RI",
          "SC",
          "SC",
          "SC",
          "SC",
          "SC",
          "SC",
          "SC",
          "SC",
          "SC",
          "SD",
          "SD",
          "SD",
          "SD",
          "SD",
          "SD",
          "SD",
          "SD",
          "SD",
          "TN",
          "TN",
          "TN",
          "TN",
          "TN",
          "TN",
          "TN",
          "TN",
          "TN",
          "TX",
          "TX",
          "TX",
          "TX",
          "TX",
          "TX",
          "TX",
          "TX",
          "TX",
          "UT",
          "UT",
          "UT",
          "UT",
          "UT",
          "UT",
          "UT",
          "UT",
          "UT",
          "VA",
          "VA",
          "VA",
          "VA",
          "VA",
          "VA",
          "VA",
          "VA",
          "VA",
          "VT",
          "VT",
          "VT",
          "VT",
          "VT",
          "VT",
          "VT",
          "VT",
          "VT",
          "WA",
          "WA",
          "WA",
          "WA",
          "WA",
          "WA",
          "WA",
          "WA",
          "WA",
          "WI",
          "WI",
          "WI",
          "WI",
          "WI",
          "WI",
          "WI",
          "WI",
          "WI",
          "WV",
          "WV",
          "WV",
          "WV",
          "WV",
          "WV",
          "WV",
          "WV",
          "WV",
          "WY",
          "WY",
          "WY",
          "WY",
          "WY",
          "WY",
          "WY",
          "WY",
          "WY"
         ],
         "xaxis": "x",
         "y": [
          17.5,
          19.2,
          23.4,
          23.3,
          24.5,
          21,
          24.4,
          23.5,
          25.2,
          16,
          16.9,
          19.6,
          21.5,
          22.9,
          21.8,
          22.2,
          23.6,
          26.4,
          15.7,
          16.6,
          16.9,
          17.8,
          20.3,
          18.9,
          19.3,
          22.6,
          23.3,
          16.1,
          13.5,
          13.8,
          15.2,
          15.8,
          15.3,
          15.1,
          16.7,
          18.3,
          9.5,
          7.4,
          7.7,
          7.9,
          7.9,
          7.5,
          7.2,
          8.5,
          9,
          11.6,
          12.2,
          12.6,
          14.3,
          13.4,
          15.2,
          14.2,
          15.4,
          17.8,
          5.3,
          5,
          5.3,
          4.6,
          5.1,
          4.9,
          5.3,
          6,
          6.7,
          8.8,
          11.1,
          12.1,
          11,
          11.7,
          11.6,
          9.9,
          14.4,
          16.6,
          10,
          11.5,
          12,
          12.6,
          12.4,
          12.9,
          12.7,
          13.7,
          14.1,
          12.1,
          13.7,
          14.1,
          15,
          15.4,
          15.7,
          15.8,
          17.7,
          20.3,
          2.1,
          2.6,
          3.6,
          4.5,
          2.5,
          4,
          4.4,
          3.4,
          4.8,
          6.7,
          7.5,
          7.8,
          9.2,
          9,
          8.7,
          9.1,
          11.2,
          11.2,
          14.1,
          13.2,
          14.7,
          14.6,
          16.4,
          16.6,
          14.2,
          17.6,
          16.3,
          8,
          9,
          9.5,
          11.7,
          12.1,
          10.9,
          10.8,
          14.1,
          16.1,
          11.2,
          12.4,
          12.7,
          15,
          15.3,
          14.7,
          14.1,
          17.3,
          18.4,
          9.3,
          11.3,
          11.4,
          13.4,
          16,
          14.8,
          13.7,
          16.9,
          17.3,
          13,
          13.9,
          15.2,
          17.5,
          16.2,
          16.9,
          14.9,
          20.1,
          21.1,
          18.5,
          19,
          20.4,
          21.3,
          21.7,
          21.4,
          22.1,
          26.3,
          29.1,
          3.4,
          3.2,
          3,
          3.4,
          3.7,
          3.5,
          3.4,
          3.7,
          3.4,
          11.9,
          9,
          11.9,
          11.9,
          12.3,
          11.7,
          12.6,
          13.5,
          15.2,
          7.8,
          9.4,
          9.8,
          8.3,
          11.7,
          10.3,
          11.5,
          10.4,
          12.6,
          10.8,
          11.1,
          11.7,
          12.3,
          11.3,
          12.9,
          12.1,
          14.6,
          15.4,
          7,
          6.6,
          7.4,
          7.6,
          8.2,
          7.8,
          8.1,
          8.9,
          10,
          12.9,
          15.3,
          18.1,
          19,
          21.5,
          21.5,
          20.6,
          23.9,
          23.2,
          16,
          18.3,
          19.6,
          19.9,
          21.5,
          22.9,
          24.2,
          28.6,
          33.9,
          16.9,
          16.1,
          19.2,
          18.9,
          22.5,
          17.3,
          19,
          20.9,
          25.1,
          12.8,
          11.8,
          12.5,
          13.7,
          13.7,
          13.3,
          13.1,
          16,
          17.3,
          8.8,
          12.3,
          12.8,
          11.9,
          13.2,
          11.5,
          12.4,
          13.8,
          16.8,
          7.7,
          9.5,
          8.9,
          9.1,
          8.3,
          9,
          10.4,
          10.1,
          10.3,
          6.6,
          8.7,
          8.9,
          9.3,
          10.4,
          10.8,
          10.7,
          8.9,
          8.3,
          5.2,
          5.3,
          5.4,
          5.5,
          5.3,
          4.8,
          4.1,
          5,
          5.2,
          13.9,
          16,
          18.6,
          18.1,
          18.5,
          20.7,
          22.3,
          22.7,
          27.8,
          16.1,
          14.8,
          14.9,
          16.8,
          16.7,
          17.9,
          15.3,
          17,
          19.8,
          5.3,
          4.2,
          4.2,
          4.4,
          3.7,
          4.1,
          3.9,
          5.3,
          5.4,
          9.6,
          10.3,
          11.9,
          12.9,
          13.7,
          13.1,
          13.3,
          15.2,
          16.5,
          13.2,
          15.7,
          18,
          19.6,
          17.2,
          16.8,
          18.6,
          20.7,
          21.2,
          10.7,
          11.7,
          11.4,
          11.9,
          12.1,
          11.7,
          12.6,
          13,
          14.9,
          10.8,
          10.5,
          11.4,
          12,
          12.5,
          12.5,
          11.7,
          13.6,
          14.8,
          3.6,
          3,
          4.7,
          4.1,
          3.9,
          3.3,
          4.6,
          5.1,
          5.6,
          13.8,
          15.5,
          17.3,
          17.7,
          17.7,
          17.6,
          19.9,
          22,
          22.4,
          10.2,
          10.3,
          11.1,
          13.4,
          11.9,
          13.6,
          13.1,
          13.6,
          14.3,
          16,
          15.1,
          16,
          17.1,
          18.4,
          17.8,
          18.4,
          21.3,
          22.8,
          11.1,
          10.7,
          11.7,
          12.1,
          12.4,
          12.2,
          12.7,
          14.2,
          15.6,
          10.1,
          12.3,
          12.8,
          12.9,
          14,
          13.2,
          12.8,
          13.6,
          13.9,
          11.5,
          10.3,
          10.9,
          12.1,
          11.9,
          11.8,
          11.7,
          13.4,
          14.3,
          6.8,
          10.3,
          9.6,
          11.1,
          11.7,
          12.8,
          9.3,
          11.6,
          11.9,
          8.8,
          9.7,
          9.8,
          9,
          11.1,
          10.4,
          10.7,
          10.9,
          11.2,
          8.5,
          8.2,
          10.4,
          11.4,
          10.6,
          10.1,
          10,
          12.2,
          13.5,
          13.8,
          14.6,
          14,
          17.5,
          18.6,
          18.2,
          16.6,
          18.1,
          17.3,
          13.4,
          16.2,
          19.6,
          17.4,
          18.8,
          21.5,
          22.3,
          25.9,
          26.1
         ],
         "yaxis": "y"
        }
       ],
       "layout": {
        "autosize": true,
        "legend": {
         "tracegroupgap": 0
        },
        "template": {
         "data": {
          "bar": [
           {
            "error_x": {
             "color": "#2a3f5f"
            },
            "error_y": {
             "color": "#2a3f5f"
            },
            "marker": {
             "line": {
              "color": "#E5ECF6",
              "width": 0.5
             },
             "pattern": {
              "fillmode": "overlay",
              "size": 10,
              "solidity": 0.2
             }
            },
            "type": "bar"
           }
          ],
          "barpolar": [
           {
            "marker": {
             "line": {
              "color": "#E5ECF6",
              "width": 0.5
             },
             "pattern": {
              "fillmode": "overlay",
              "size": 10,
              "solidity": 0.2
             }
            },
            "type": "barpolar"
           }
          ],
          "carpet": [
           {
            "aaxis": {
             "endlinecolor": "#2a3f5f",
             "gridcolor": "white",
             "linecolor": "white",
             "minorgridcolor": "white",
             "startlinecolor": "#2a3f5f"
            },
            "baxis": {
             "endlinecolor": "#2a3f5f",
             "gridcolor": "white",
             "linecolor": "white",
             "minorgridcolor": "white",
             "startlinecolor": "#2a3f5f"
            },
            "type": "carpet"
           }
          ],
          "choropleth": [
           {
            "colorbar": {
             "outlinewidth": 0,
             "ticks": ""
            },
            "type": "choropleth"
           }
          ],
          "contour": [
           {
            "colorbar": {
             "outlinewidth": 0,
             "ticks": ""
            },
            "colorscale": [
             [
              0,
              "#0d0887"
             ],
             [
              0.1111111111111111,
              "#46039f"
             ],
             [
              0.2222222222222222,
              "#7201a8"
             ],
             [
              0.3333333333333333,
              "#9c179e"
             ],
             [
              0.4444444444444444,
              "#bd3786"
             ],
             [
              0.5555555555555556,
              "#d8576b"
             ],
             [
              0.6666666666666666,
              "#ed7953"
             ],
             [
              0.7777777777777778,
              "#fb9f3a"
             ],
             [
              0.8888888888888888,
              "#fdca26"
             ],
             [
              1,
              "#f0f921"
             ]
            ],
            "type": "contour"
           }
          ],
          "contourcarpet": [
           {
            "colorbar": {
             "outlinewidth": 0,
             "ticks": ""
            },
            "type": "contourcarpet"
           }
          ],
          "heatmap": [
           {
            "colorbar": {
             "outlinewidth": 0,
             "ticks": ""
            },
            "colorscale": [
             [
              0,
              "#0d0887"
             ],
             [
              0.1111111111111111,
              "#46039f"
             ],
             [
              0.2222222222222222,
              "#7201a8"
             ],
             [
              0.3333333333333333,
              "#9c179e"
             ],
             [
              0.4444444444444444,
              "#bd3786"
             ],
             [
              0.5555555555555556,
              "#d8576b"
             ],
             [
              0.6666666666666666,
              "#ed7953"
             ],
             [
              0.7777777777777778,
              "#fb9f3a"
             ],
             [
              0.8888888888888888,
              "#fdca26"
             ],
             [
              1,
              "#f0f921"
             ]
            ],
            "type": "heatmap"
           }
          ],
          "heatmapgl": [
           {
            "colorbar": {
             "outlinewidth": 0,
             "ticks": ""
            },
            "colorscale": [
             [
              0,
              "#0d0887"
             ],
             [
              0.1111111111111111,
              "#46039f"
             ],
             [
              0.2222222222222222,
              "#7201a8"
             ],
             [
              0.3333333333333333,
              "#9c179e"
             ],
             [
              0.4444444444444444,
              "#bd3786"
             ],
             [
              0.5555555555555556,
              "#d8576b"
             ],
             [
              0.6666666666666666,
              "#ed7953"
             ],
             [
              0.7777777777777778,
              "#fb9f3a"
             ],
             [
              0.8888888888888888,
              "#fdca26"
             ],
             [
              1,
              "#f0f921"
             ]
            ],
            "type": "heatmapgl"
           }
          ],
          "histogram": [
           {
            "marker": {
             "pattern": {
              "fillmode": "overlay",
              "size": 10,
              "solidity": 0.2
             }
            },
            "type": "histogram"
           }
          ],
          "histogram2d": [
           {
            "colorbar": {
             "outlinewidth": 0,
             "ticks": ""
            },
            "colorscale": [
             [
              0,
              "#0d0887"
             ],
             [
              0.1111111111111111,
              "#46039f"
             ],
             [
              0.2222222222222222,
              "#7201a8"
             ],
             [
              0.3333333333333333,
              "#9c179e"
             ],
             [
              0.4444444444444444,
              "#bd3786"
             ],
             [
              0.5555555555555556,
              "#d8576b"
             ],
             [
              0.6666666666666666,
              "#ed7953"
             ],
             [
              0.7777777777777778,
              "#fb9f3a"
             ],
             [
              0.8888888888888888,
              "#fdca26"
             ],
             [
              1,
              "#f0f921"
             ]
            ],
            "type": "histogram2d"
           }
          ],
          "histogram2dcontour": [
           {
            "colorbar": {
             "outlinewidth": 0,
             "ticks": ""
            },
            "colorscale": [
             [
              0,
              "#0d0887"
             ],
             [
              0.1111111111111111,
              "#46039f"
             ],
             [
              0.2222222222222222,
              "#7201a8"
             ],
             [
              0.3333333333333333,
              "#9c179e"
             ],
             [
              0.4444444444444444,
              "#bd3786"
             ],
             [
              0.5555555555555556,
              "#d8576b"
             ],
             [
              0.6666666666666666,
              "#ed7953"
             ],
             [
              0.7777777777777778,
              "#fb9f3a"
             ],
             [
              0.8888888888888888,
              "#fdca26"
             ],
             [
              1,
              "#f0f921"
             ]
            ],
            "type": "histogram2dcontour"
           }
          ],
          "mesh3d": [
           {
            "colorbar": {
             "outlinewidth": 0,
             "ticks": ""
            },
            "type": "mesh3d"
           }
          ],
          "parcoords": [
           {
            "line": {
             "colorbar": {
              "outlinewidth": 0,
              "ticks": ""
             }
            },
            "type": "parcoords"
           }
          ],
          "pie": [
           {
            "automargin": true,
            "type": "pie"
           }
          ],
          "scatter": [
           {
            "fillpattern": {
             "fillmode": "overlay",
             "size": 10,
             "solidity": 0.2
            },
            "type": "scatter"
           }
          ],
          "scatter3d": [
           {
            "line": {
             "colorbar": {
              "outlinewidth": 0,
              "ticks": ""
             }
            },
            "marker": {
             "colorbar": {
              "outlinewidth": 0,
              "ticks": ""
             }
            },
            "type": "scatter3d"
           }
          ],
          "scattercarpet": [
           {
            "marker": {
             "colorbar": {
              "outlinewidth": 0,
              "ticks": ""
             }
            },
            "type": "scattercarpet"
           }
          ],
          "scattergeo": [
           {
            "marker": {
             "colorbar": {
              "outlinewidth": 0,
              "ticks": ""
             }
            },
            "type": "scattergeo"
           }
          ],
          "scattergl": [
           {
            "marker": {
             "colorbar": {
              "outlinewidth": 0,
              "ticks": ""
             }
            },
            "type": "scattergl"
           }
          ],
          "scattermapbox": [
           {
            "marker": {
             "colorbar": {
              "outlinewidth": 0,
              "ticks": ""
             }
            },
            "type": "scattermapbox"
           }
          ],
          "scatterpolar": [
           {
            "marker": {
             "colorbar": {
              "outlinewidth": 0,
              "ticks": ""
             }
            },
            "type": "scatterpolar"
           }
          ],
          "scatterpolargl": [
           {
            "marker": {
             "colorbar": {
              "outlinewidth": 0,
              "ticks": ""
             }
            },
            "type": "scatterpolargl"
           }
          ],
          "scatterternary": [
           {
            "marker": {
             "colorbar": {
              "outlinewidth": 0,
              "ticks": ""
             }
            },
            "type": "scatterternary"
           }
          ],
          "surface": [
           {
            "colorbar": {
             "outlinewidth": 0,
             "ticks": ""
            },
            "colorscale": [
             [
              0,
              "#0d0887"
             ],
             [
              0.1111111111111111,
              "#46039f"
             ],
             [
              0.2222222222222222,
              "#7201a8"
             ],
             [
              0.3333333333333333,
              "#9c179e"
             ],
             [
              0.4444444444444444,
              "#bd3786"
             ],
             [
              0.5555555555555556,
              "#d8576b"
             ],
             [
              0.6666666666666666,
              "#ed7953"
             ],
             [
              0.7777777777777778,
              "#fb9f3a"
             ],
             [
              0.8888888888888888,
              "#fdca26"
             ],
             [
              1,
              "#f0f921"
             ]
            ],
            "type": "surface"
           }
          ],
          "table": [
           {
            "cells": {
             "fill": {
              "color": "#EBF0F8"
             },
             "line": {
              "color": "white"
             }
            },
            "header": {
             "fill": {
              "color": "#C8D4E3"
             },
             "line": {
              "color": "white"
             }
            },
            "type": "table"
           }
          ]
         },
         "layout": {
          "annotationdefaults": {
           "arrowcolor": "#2a3f5f",
           "arrowhead": 0,
           "arrowwidth": 1
          },
          "autotypenumbers": "strict",
          "coloraxis": {
           "colorbar": {
            "outlinewidth": 0,
            "ticks": ""
           }
          },
          "colorscale": {
           "diverging": [
            [
             0,
             "#8e0152"
            ],
            [
             0.1,
             "#c51b7d"
            ],
            [
             0.2,
             "#de77ae"
            ],
            [
             0.3,
             "#f1b6da"
            ],
            [
             0.4,
             "#fde0ef"
            ],
            [
             0.5,
             "#f7f7f7"
            ],
            [
             0.6,
             "#e6f5d0"
            ],
            [
             0.7,
             "#b8e186"
            ],
            [
             0.8,
             "#7fbc41"
            ],
            [
             0.9,
             "#4d9221"
            ],
            [
             1,
             "#276419"
            ]
           ],
           "sequential": [
            [
             0,
             "#0d0887"
            ],
            [
             0.1111111111111111,
             "#46039f"
            ],
            [
             0.2222222222222222,
             "#7201a8"
            ],
            [
             0.3333333333333333,
             "#9c179e"
            ],
            [
             0.4444444444444444,
             "#bd3786"
            ],
            [
             0.5555555555555556,
             "#d8576b"
            ],
            [
             0.6666666666666666,
             "#ed7953"
            ],
            [
             0.7777777777777778,
             "#fb9f3a"
            ],
            [
             0.8888888888888888,
             "#fdca26"
            ],
            [
             1,
             "#f0f921"
            ]
           ],
           "sequentialminus": [
            [
             0,
             "#0d0887"
            ],
            [
             0.1111111111111111,
             "#46039f"
            ],
            [
             0.2222222222222222,
             "#7201a8"
            ],
            [
             0.3333333333333333,
             "#9c179e"
            ],
            [
             0.4444444444444444,
             "#bd3786"
            ],
            [
             0.5555555555555556,
             "#d8576b"
            ],
            [
             0.6666666666666666,
             "#ed7953"
            ],
            [
             0.7777777777777778,
             "#fb9f3a"
            ],
            [
             0.8888888888888888,
             "#fdca26"
            ],
            [
             1,
             "#f0f921"
            ]
           ]
          },
          "colorway": [
           "#636efa",
           "#EF553B",
           "#00cc96",
           "#ab63fa",
           "#FFA15A",
           "#19d3f3",
           "#FF6692",
           "#B6E880",
           "#FF97FF",
           "#FECB52"
          ],
          "font": {
           "color": "#2a3f5f"
          },
          "geo": {
           "bgcolor": "white",
           "lakecolor": "white",
           "landcolor": "#E5ECF6",
           "showlakes": true,
           "showland": true,
           "subunitcolor": "white"
          },
          "hoverlabel": {
           "align": "left"
          },
          "hovermode": "closest",
          "mapbox": {
           "style": "light"
          },
          "paper_bgcolor": "white",
          "plot_bgcolor": "#E5ECF6",
          "polar": {
           "angularaxis": {
            "gridcolor": "white",
            "linecolor": "white",
            "ticks": ""
           },
           "bgcolor": "#E5ECF6",
           "radialaxis": {
            "gridcolor": "white",
            "linecolor": "white",
            "ticks": ""
           }
          },
          "scene": {
           "xaxis": {
            "backgroundcolor": "#E5ECF6",
            "gridcolor": "white",
            "gridwidth": 2,
            "linecolor": "white",
            "showbackground": true,
            "ticks": "",
            "zerolinecolor": "white"
           },
           "yaxis": {
            "backgroundcolor": "#E5ECF6",
            "gridcolor": "white",
            "gridwidth": 2,
            "linecolor": "white",
            "showbackground": true,
            "ticks": "",
            "zerolinecolor": "white"
           },
           "zaxis": {
            "backgroundcolor": "#E5ECF6",
            "gridcolor": "white",
            "gridwidth": 2,
            "linecolor": "white",
            "showbackground": true,
            "ticks": "",
            "zerolinecolor": "white"
           }
          },
          "shapedefaults": {
           "line": {
            "color": "#2a3f5f"
           }
          },
          "ternary": {
           "aaxis": {
            "gridcolor": "white",
            "linecolor": "white",
            "ticks": ""
           },
           "baxis": {
            "gridcolor": "white",
            "linecolor": "white",
            "ticks": ""
           },
           "bgcolor": "#E5ECF6",
           "caxis": {
            "gridcolor": "white",
            "linecolor": "white",
            "ticks": ""
           }
          },
          "title": {
           "x": 0.05
          },
          "xaxis": {
           "automargin": true,
           "gridcolor": "white",
           "linecolor": "white",
           "ticks": "",
           "title": {
            "standoff": 15
           },
           "zerolinecolor": "white",
           "zerolinewidth": 2
          },
          "yaxis": {
           "automargin": true,
           "gridcolor": "white",
           "linecolor": "white",
           "ticks": "",
           "title": {
            "standoff": 15
           },
           "zerolinecolor": "white",
           "zerolinewidth": 2
          }
         }
        },
        "title": {
         "text": "Firearm Mortality Rates by State"
        },
        "xaxis": {
         "anchor": "y",
         "autorange": true,
         "domain": [
          0,
          1
         ],
         "range": [
          -2.992391160513431,
          51.99239116051343
         ],
         "title": {
          "text": "STATE"
         },
         "type": "category"
        },
        "yaxis": {
         "anchor": "x",
         "autorange": true,
         "domain": [
          0,
          1
         ],
         "range": [
          -0.5242718446601935,
          36.52427184466019
         ],
         "title": {
          "text": "Mortality Rate"
         },
         "type": "linear"
        }
       }
      },
      "image/png": "[encoded data removed]",
      "text/html": [
       "<div>                            <div id=\"388a276a-c083-4bfc-80ab-66d96b1aa420\" class=\"plotly-graph-div\" style=\"height:525px; width:100%;\"></div>            <script type=\"text/javascript\">                require([\"plotly\"], function(Plotly) {                    window.PLOTLYENV=window.PLOTLYENV || {};                                    if (document.getElementById(\"388a276a-c083-4bfc-80ab-66d96b1aa420\")) {                    Plotly.newPlot(                        \"388a276a-c083-4bfc-80ab-66d96b1aa420\",                        [{\"hovertemplate\":\"STATE=%{x}<br>Mortality Rate=%{y}<extra></extra>\",\"legendgroup\":\"\",\"marker\":{\"color\":\"#636efa\",\"symbol\":\"circle\"},\"mode\":\"markers\",\"name\":\"\",\"orientation\":\"v\",\"showlegend\":false,\"x\":[\"AK\",\"AK\",\"AK\",\"AK\",\"AK\",\"AK\",\"AK\",\"AK\",\"AK\",\"AL\",\"AL\",\"AL\",\"AL\",\"AL\",\"AL\",\"AL\",\"AL\",\"AL\",\"AR\",\"AR\",\"AR\",\"AR\",\"AR\",\"AR\",\"AR\",\"AR\",\"AR\",\"AZ\",\"AZ\",\"AZ\",\"AZ\",\"AZ\",\"AZ\",\"AZ\",\"AZ\",\"AZ\",\"CA\",\"CA\",\"CA\",\"CA\",\"CA\",\"CA\",\"CA\",\"CA\",\"CA\",\"CO\",\"CO\",\"CO\",\"CO\",\"CO\",\"CO\",\"CO\",\"CO\",\"CO\",\"CT\",\"CT\",\"CT\",\"CT\",\"CT\",\"CT\",\"CT\",\"CT\",\"CT\",\"DE\",\"DE\",\"DE\",\"DE\",\"DE\",\"DE\",\"DE\",\"DE\",\"DE\",\"FL\",\"FL\",\"FL\",\"FL\",\"FL\",\"FL\",\"FL\",\"FL\",\"FL\",\"GA\",\"GA\",\"GA\",\"GA\",\"GA\",\"GA\",\"GA\",\"GA\",\"GA\",\"HI\",\"HI\",\"HI\",\"HI\",\"HI\",\"HI\",\"HI\",\"HI\",\"HI\",\"IA\",\"IA\",\"IA\",\"IA\",\"IA\",\"IA\",\"IA\",\"IA\",\"IA\",\"ID\",\"ID\",\"ID\",\"ID\",\"ID\",\"ID\",\"ID\",\"ID\",\"ID\",\"IL\",\"IL\",\"IL\",\"IL\",\"IL\",\"IL\",\"IL\",\"IL\",\"IL\",\"IN\",\"IN\",\"IN\",\"IN\",\"IN\",\"IN\",\"IN\",\"IN\",\"IN\",\"KS\",\"KS\",\"KS\",\"KS\",\"KS\",\"KS\",\"KS\",\"KS\",\"KS\",\"KY\",\"KY\",\"KY\",\"KY\",\"KY\",\"KY\",\"KY\",\"KY\",\"KY\",\"LA\",\"LA\",\"LA\",\"LA\",\"LA\",\"LA\",\"LA\",\"LA\",\"LA\",\"MA\",\"MA\",\"MA\",\"MA\",\"MA\",\"MA\",\"MA\",\"MA\",\"MA\",\"MD\",\"MD\",\"MD\",\"MD\",\"MD\",\"MD\",\"MD\",\"MD\",\"MD\",\"ME\",\"ME\",\"ME\",\"ME\",\"ME\",\"ME\",\"ME\",\"ME\",\"ME\",\"MI\",\"MI\",\"MI\",\"MI\",\"MI\",\"MI\",\"MI\",\"MI\",\"MI\",\"MN\",\"MN\",\"MN\",\"MN\",\"MN\",\"MN\",\"MN\",\"MN\",\"MN\",\"MO\",\"MO\",\"MO\",\"MO\",\"MO\",\"MO\",\"MO\",\"MO\",\"MO\",\"MS\",\"MS\",\"MS\",\"MS\",\"MS\",\"MS\",\"MS\",\"MS\",\"MS\",\"MT\",\"MT\",\"MT\",\"MT\",\"MT\",\"MT\",\"MT\",\"MT\",\"MT\",\"NC\",\"NC\",\"NC\",\"NC\",\"NC\",\"NC\",\"NC\",\"NC\",\"NC\",\"ND\",\"ND\",\"ND\",\"ND\",\"ND\",\"ND\",\"ND\",\"ND\",\"ND\",\"NE\",\"NE\",\"NE\",\"NE\",\"NE\",\"NE\",\"NE\",\"NE\",\"NE\",\"NH\",\"NH\",\"NH\",\"NH\",\"NH\",\"NH\",\"NH\",\"NH\",\"NH\",\"NJ\",\"NJ\",\"NJ\",\"NJ\",\"NJ\",\"NJ\",\"NJ\",\"NJ\",\"NJ\",\"NM\",\"NM\",\"NM\",\"NM\",\"NM\",\"NM\",\"NM\",\"NM\",\"NM\",\"NV\",\"NV\",\"NV\",\"NV\",\"NV\",\"NV\",\"NV\",\"NV\",\"NV\",\"NY\",\"NY\",\"NY\",\"NY\",\"NY\",\"NY\",\"NY\",\"NY\",\"NY\",\"OH\",\"OH\",\"OH\",\"OH\",\"OH\",\"OH\",\"OH\",\"OH\",\"OH\",\"OK\",\"OK\",\"OK\",\"OK\",\"OK\",\"OK\",\"OK\",\"OK\",\"OK\",\"OR\",\"OR\",\"OR\",\"OR\",\"OR\",\"OR\",\"OR\",\"OR\",\"OR\",\"PA\",\"PA\",\"PA\",\"PA\",\"PA\",\"PA\",\"PA\",\"PA\",\"PA\",\"RI\",\"RI\",\"RI\",\"RI\",\"RI\",\"RI\",\"RI\",\"RI\",\"RI\",\"SC\",\"SC\",\"SC\",\"SC\",\"SC\",\"SC\",\"SC\",\"SC\",\"SC\",\"SD\",\"SD\",\"SD\",\"SD\",\"SD\",\"SD\",\"SD\",\"SD\",\"SD\",\"TN\",\"TN\",\"TN\",\"TN\",\"TN\",\"TN\",\"TN\",\"TN\",\"TN\",\"TX\",\"TX\",\"TX\",\"TX\",\"TX\",\"TX\",\"TX\",\"TX\",\"TX\",\"UT\",\"UT\",\"UT\",\"UT\",\"UT\",\"UT\",\"UT\",\"UT\",\"UT\",\"VA\",\"VA\",\"VA\",\"VA\",\"VA\",\"VA\",\"VA\",\"VA\",\"VA\",\"VT\",\"VT\",\"VT\",\"VT\",\"VT\",\"VT\",\"VT\",\"VT\",\"VT\",\"WA\",\"WA\",\"WA\",\"WA\",\"WA\",\"WA\",\"WA\",\"WA\",\"WA\",\"WI\",\"WI\",\"WI\",\"WI\",\"WI\",\"WI\",\"WI\",\"WI\",\"WI\",\"WV\",\"WV\",\"WV\",\"WV\",\"WV\",\"WV\",\"WV\",\"WV\",\"WV\",\"WY\",\"WY\",\"WY\",\"WY\",\"WY\",\"WY\",\"WY\",\"WY\",\"WY\"],\"xaxis\":\"x\",\"y\":[17.5,19.2,23.4,23.3,24.5,21.0,24.4,23.5,25.2,16.0,16.9,19.6,21.5,22.9,21.8,22.2,23.6,26.4,15.7,16.6,16.9,17.8,20.3,18.9,19.3,22.6,23.3,16.1,13.5,13.8,15.2,15.8,15.3,15.1,16.7,18.3,9.5,7.4,7.7,7.9,7.9,7.5,7.2,8.5,9.0,11.6,12.2,12.6,14.3,13.4,15.2,14.2,15.4,17.8,5.3,5.0,5.3,4.6,5.1,4.9,5.3,6.0,6.7,8.8,11.1,12.1,11.0,11.7,11.6,9.9,14.4,16.6,10.0,11.5,12.0,12.6,12.4,12.9,12.7,13.7,14.1,12.1,13.7,14.1,15.0,15.4,15.7,15.8,17.7,20.3,2.1,2.6,3.6,4.5,2.5,4.0,4.4,3.4,4.8,6.7,7.5,7.8,9.2,9.0,8.7,9.1,11.2,11.2,14.1,13.2,14.7,14.6,16.4,16.6,14.2,17.6,16.3,8.0,9.0,9.5,11.7,12.1,10.9,10.8,14.1,16.1,11.2,12.4,12.7,15.0,15.3,14.7,14.1,17.3,18.4,9.3,11.3,11.4,13.4,16.0,14.8,13.7,16.9,17.3,13.0,13.9,15.2,17.5,16.2,16.9,14.9,20.1,21.1,18.5,19.0,20.4,21.3,21.7,21.4,22.1,26.3,29.1,3.4,3.2,3.0,3.4,3.7,3.5,3.4,3.7,3.4,11.9,9.0,11.9,11.9,12.3,11.7,12.6,13.5,15.2,7.8,9.4,9.8,8.3,11.7,10.3,11.5,10.4,12.6,10.8,11.1,11.7,12.3,11.3,12.9,12.1,14.6,15.4,7.0,6.6,7.4,7.6,8.2,7.8,8.1,8.9,10.0,12.9,15.3,18.1,19.0,21.5,21.5,20.6,23.9,23.2,16.0,18.3,19.6,19.9,21.5,22.9,24.2,28.6,33.9,16.9,16.1,19.2,18.9,22.5,17.3,19.0,20.9,25.1,12.8,11.8,12.5,13.7,13.7,13.3,13.1,16.0,17.3,8.8,12.3,12.8,11.9,13.2,11.5,12.4,13.8,16.8,7.7,9.5,8.9,9.1,8.3,9.0,10.4,10.1,10.3,6.6,8.7,8.9,9.3,10.4,10.8,10.7,8.9,8.3,5.2,5.3,5.4,5.5,5.3,4.8,4.1,5.0,5.2,13.9,16.0,18.6,18.1,18.5,20.7,22.3,22.7,27.8,16.1,14.8,14.9,16.8,16.7,17.9,15.3,17.0,19.8,5.3,4.2,4.2,4.4,3.7,4.1,3.9,5.3,5.4,9.6,10.3,11.9,12.9,13.7,13.1,13.3,15.2,16.5,13.2,15.7,18.0,19.6,17.2,16.8,18.6,20.7,21.2,10.7,11.7,11.4,11.9,12.1,11.7,12.6,13.0,14.9,10.8,10.5,11.4,12.0,12.5,12.5,11.7,13.6,14.8,3.6,3.0,4.7,4.1,3.9,3.3,4.6,5.1,5.6,13.8,15.5,17.3,17.7,17.7,17.6,19.9,22.0,22.4,10.2,10.3,11.1,13.4,11.9,13.6,13.1,13.6,14.3,16.0,15.1,16.0,17.1,18.4,17.8,18.4,21.3,22.8,11.1,10.7,11.7,12.1,12.4,12.2,12.7,14.2,15.6,10.1,12.3,12.8,12.9,14.0,13.2,12.8,13.6,13.9,11.5,10.3,10.9,12.1,11.9,11.8,11.7,13.4,14.3,6.8,10.3,9.6,11.1,11.7,12.8,9.3,11.6,11.9,8.8,9.7,9.8,9.0,11.1,10.4,10.7,10.9,11.2,8.5,8.2,10.4,11.4,10.6,10.1,10.0,12.2,13.5,13.8,14.6,14.0,17.5,18.6,18.2,16.6,18.1,17.3,13.4,16.2,19.6,17.4,18.8,21.5,22.3,25.9,26.1],\"yaxis\":\"y\",\"type\":\"scatter\"}],                        {\"template\":{\"data\":{\"histogram2dcontour\":[{\"type\":\"histogram2dcontour\",\"colorbar\":{\"outlinewidth\":0,\"ticks\":\"\"},\"colorscale\":[[0.0,\"#0d0887\"],[0.1111111111111111,\"#46039f\"],[0.2222222222222222,\"#7201a8\"],[0.3333333333333333,\"#9c179e\"],[0.4444444444444444,\"#bd3786\"],[0.5555555555555556,\"#d8576b\"],[0.6666666666666666,\"#ed7953\"],[0.7777777777777778,\"#fb9f3a\"],[0.8888888888888888,\"#fdca26\"],[1.0,\"#f0f921\"]]}],\"choropleth\":[{\"type\":\"choropleth\",\"colorbar\":{\"outlinewidth\":0,\"ticks\":\"\"}}],\"histogram2d\":[{\"type\":\"histogram2d\",\"colorbar\":{\"outlinewidth\":0,\"ticks\":\"\"},\"colorscale\":[[0.0,\"#0d0887\"],[0.1111111111111111,\"#46039f\"],[0.2222222222222222,\"#7201a8\"],[0.3333333333333333,\"#9c179e\"],[0.4444444444444444,\"#bd3786\"],[0.5555555555555556,\"#d8576b\"],[0.6666666666666666,\"#ed7953\"],[0.7777777777777778,\"#fb9f3a\"],[0.8888888888888888,\"#fdca26\"],[1.0,\"#f0f921\"]]}],\"heatmap\":[{\"type\":\"heatmap\",\"colorbar\":{\"outlinewidth\":0,\"ticks\":\"\"},\"colorscale\":[[0.0,\"#0d0887\"],[0.1111111111111111,\"#46039f\"],[0.2222222222222222,\"#7201a8\"],[0.3333333333333333,\"#9c179e\"],[0.4444444444444444,\"#bd3786\"],[0.5555555555555556,\"#d8576b\"],[0.6666666666666666,\"#ed7953\"],[0.7777777777777778,\"#fb9f3a\"],[0.8888888888888888,\"#fdca26\"],[1.0,\"#f0f921\"]]}],\"heatmapgl\":[{\"type\":\"heatmapgl\",\"colorbar\":{\"outlinewidth\":0,\"ticks\":\"\"},\"colorscale\":[[0.0,\"#0d0887\"],[0.1111111111111111,\"#46039f\"],[0.2222222222222222,\"#7201a8\"],[0.3333333333333333,\"#9c179e\"],[0.4444444444444444,\"#bd3786\"],[0.5555555555555556,\"#d8576b\"],[0.6666666666666666,\"#ed7953\"],[0.7777777777777778,\"#fb9f3a\"],[0.8888888888888888,\"#fdca26\"],[1.0,\"#f0f921\"]]}],\"contourcarpet\":[{\"type\":\"contourcarpet\",\"colorbar\":{\"outlinewidth\":0,\"ticks\":\"\"}}],\"contour\":[{\"type\":\"contour\",\"colorbar\":{\"outlinewidth\":0,\"ticks\":\"\"},\"colorscale\":[[0.0,\"#0d0887\"],[0.1111111111111111,\"#46039f\"],[0.2222222222222222,\"#7201a8\"],[0.3333333333333333,\"#9c179e\"],[0.4444444444444444,\"#bd3786\"],[0.5555555555555556,\"#d8576b\"],[0.6666666666666666,\"#ed7953\"],[0.7777777777777778,\"#fb9f3a\"],[0.8888888888888888,\"#fdca26\"],[1.0,\"#f0f921\"]]}],\"surface\":[{\"type\":\"surface\",\"colorbar\":{\"outlinewidth\":0,\"ticks\":\"\"},\"colorscale\":[[0.0,\"#0d0887\"],[0.1111111111111111,\"#46039f\"],[0.2222222222222222,\"#7201a8\"],[0.3333333333333333,\"#9c179e\"],[0.4444444444444444,\"#bd3786\"],[0.5555555555555556,\"#d8576b\"],[0.6666666666666666,\"#ed7953\"],[0.7777777777777778,\"#fb9f3a\"],[0.8888888888888888,\"#fdca26\"],[1.0,\"#f0f921\"]]}],\"mesh3d\":[{\"type\":\"mesh3d\",\"colorbar\":{\"outlinewidth\":0,\"ticks\":\"\"}}],\"scatter\":[{\"fillpattern\":{\"fillmode\":\"overlay\",\"size\":10,\"solidity\":0.2},\"type\":\"scatter\"}],\"parcoords\":[{\"type\":\"parcoords\",\"line\":{\"colorbar\":{\"outlinewidth\":0,\"ticks\":\"\"}}}],\"scatterpolargl\":[{\"type\":\"scatterpolargl\",\"marker\":{\"colorbar\":{\"outlinewidth\":0,\"ticks\":\"\"}}}],\"bar\":[{\"error_x\":{\"color\":\"#2a3f5f\"},\"error_y\":{\"color\":\"#2a3f5f\"},\"marker\":{\"line\":{\"color\":\"#E5ECF6\",\"width\":0.5},\"pattern\":{\"fillmode\":\"overlay\",\"size\":10,\"solidity\":0.2}},\"type\":\"bar\"}],\"scattergeo\":[{\"type\":\"scattergeo\",\"marker\":{\"colorbar\":{\"outlinewidth\":0,\"ticks\":\"\"}}}],\"scatterpolar\":[{\"type\":\"scatterpolar\",\"marker\":{\"colorbar\":{\"outlinewidth\":0,\"ticks\":\"\"}}}],\"histogram\":[{\"marker\":{\"pattern\":{\"fillmode\":\"overlay\",\"size\":10,\"solidity\":0.2}},\"type\":\"histogram\"}],\"scattergl\":[{\"type\":\"scattergl\",\"marker\":{\"colorbar\":{\"outlinewidth\":0,\"ticks\":\"\"}}}],\"scatter3d\":[{\"type\":\"scatter3d\",\"line\":{\"colorbar\":{\"outlinewidth\":0,\"ticks\":\"\"}},\"marker\":{\"colorbar\":{\"outlinewidth\":0,\"ticks\":\"\"}}}],\"scattermapbox\":[{\"type\":\"scattermapbox\",\"marker\":{\"colorbar\":{\"outlinewidth\":0,\"ticks\":\"\"}}}],\"scatterternary\":[{\"type\":\"scatterternary\",\"marker\":{\"colorbar\":{\"outlinewidth\":0,\"ticks\":\"\"}}}],\"scattercarpet\":[{\"type\":\"scattercarpet\",\"marker\":{\"colorbar\":{\"outlinewidth\":0,\"ticks\":\"\"}}}],\"carpet\":[{\"aaxis\":{\"endlinecolor\":\"#2a3f5f\",\"gridcolor\":\"white\",\"linecolor\":\"white\",\"minorgridcolor\":\"white\",\"startlinecolor\":\"#2a3f5f\"},\"baxis\":{\"endlinecolor\":\"#2a3f5f\",\"gridcolor\":\"white\",\"linecolor\":\"white\",\"minorgridcolor\":\"white\",\"startlinecolor\":\"#2a3f5f\"},\"type\":\"carpet\"}],\"table\":[{\"cells\":{\"fill\":{\"color\":\"#EBF0F8\"},\"line\":{\"color\":\"white\"}},\"header\":{\"fill\":{\"color\":\"#C8D4E3\"},\"line\":{\"color\":\"white\"}},\"type\":\"table\"}],\"barpolar\":[{\"marker\":{\"line\":{\"color\":\"#E5ECF6\",\"width\":0.5},\"pattern\":{\"fillmode\":\"overlay\",\"size\":10,\"solidity\":0.2}},\"type\":\"barpolar\"}],\"pie\":[{\"automargin\":true,\"type\":\"pie\"}]},\"layout\":{\"autotypenumbers\":\"strict\",\"colorway\":[\"#636efa\",\"#EF553B\",\"#00cc96\",\"#ab63fa\",\"#FFA15A\",\"#19d3f3\",\"#FF6692\",\"#B6E880\",\"#FF97FF\",\"#FECB52\"],\"font\":{\"color\":\"#2a3f5f\"},\"hovermode\":\"closest\",\"hoverlabel\":{\"align\":\"left\"},\"paper_bgcolor\":\"white\",\"plot_bgcolor\":\"#E5ECF6\",\"polar\":{\"bgcolor\":\"#E5ECF6\",\"angularaxis\":{\"gridcolor\":\"white\",\"linecolor\":\"white\",\"ticks\":\"\"},\"radialaxis\":{\"gridcolor\":\"white\",\"linecolor\":\"white\",\"ticks\":\"\"}},\"ternary\":{\"bgcolor\":\"#E5ECF6\",\"aaxis\":{\"gridcolor\":\"white\",\"linecolor\":\"white\",\"ticks\":\"\"},\"baxis\":{\"gridcolor\":\"white\",\"linecolor\":\"white\",\"ticks\":\"\"},\"caxis\":{\"gridcolor\":\"white\",\"linecolor\":\"white\",\"ticks\":\"\"}},\"coloraxis\":{\"colorbar\":{\"outlinewidth\":0,\"ticks\":\"\"}},\"colorscale\":{\"sequential\":[[0.0,\"#0d0887\"],[0.1111111111111111,\"#46039f\"],[0.2222222222222222,\"#7201a8\"],[0.3333333333333333,\"#9c179e\"],[0.4444444444444444,\"#bd3786\"],[0.5555555555555556,\"#d8576b\"],[0.6666666666666666,\"#ed7953\"],[0.7777777777777778,\"#fb9f3a\"],[0.8888888888888888,\"#fdca26\"],[1.0,\"#f0f921\"]],\"sequentialminus\":[[0.0,\"#0d0887\"],[0.1111111111111111,\"#46039f\"],[0.2222222222222222,\"#7201a8\"],[0.3333333333333333,\"#9c179e\"],[0.4444444444444444,\"#bd3786\"],[0.5555555555555556,\"#d8576b\"],[0.6666666666666666,\"#ed7953\"],[0.7777777777777778,\"#fb9f3a\"],[0.8888888888888888,\"#fdca26\"],[1.0,\"#f0f921\"]],\"diverging\":[[0,\"#8e0152\"],[0.1,\"#c51b7d\"],[0.2,\"#de77ae\"],[0.3,\"#f1b6da\"],[0.4,\"#fde0ef\"],[0.5,\"#f7f7f7\"],[0.6,\"#e6f5d0\"],[0.7,\"#b8e186\"],[0.8,\"#7fbc41\"],[0.9,\"#4d9221\"],[1,\"#276419\"]]},\"xaxis\":{\"gridcolor\":\"white\",\"linecolor\":\"white\",\"ticks\":\"\",\"title\":{\"standoff\":15},\"zerolinecolor\":\"white\",\"automargin\":true,\"zerolinewidth\":2},\"yaxis\":{\"gridcolor\":\"white\",\"linecolor\":\"white\",\"ticks\":\"\",\"title\":{\"standoff\":15},\"zerolinecolor\":\"white\",\"automargin\":true,\"zerolinewidth\":2},\"scene\":{\"xaxis\":{\"backgroundcolor\":\"#E5ECF6\",\"gridcolor\":\"white\",\"linecolor\":\"white\",\"showbackground\":true,\"ticks\":\"\",\"zerolinecolor\":\"white\",\"gridwidth\":2},\"yaxis\":{\"backgroundcolor\":\"#E5ECF6\",\"gridcolor\":\"white\",\"linecolor\":\"white\",\"showbackground\":true,\"ticks\":\"\",\"zerolinecolor\":\"white\",\"gridwidth\":2},\"zaxis\":{\"backgroundcolor\":\"#E5ECF6\",\"gridcolor\":\"white\",\"linecolor\":\"white\",\"showbackground\":true,\"ticks\":\"\",\"zerolinecolor\":\"white\",\"gridwidth\":2}},\"shapedefaults\":{\"line\":{\"color\":\"#2a3f5f\"}},\"annotationdefaults\":{\"arrowcolor\":\"#2a3f5f\",\"arrowhead\":0,\"arrowwidth\":1},\"geo\":{\"bgcolor\":\"white\",\"landcolor\":\"#E5ECF6\",\"subunitcolor\":\"white\",\"showland\":true,\"showlakes\":true,\"lakecolor\":\"white\"},\"title\":{\"x\":0.05},\"mapbox\":{\"style\":\"light\"}}},\"xaxis\":{\"anchor\":\"y\",\"domain\":[0.0,1.0],\"title\":{\"text\":\"STATE\"}},\"yaxis\":{\"anchor\":\"x\",\"domain\":[0.0,1.0],\"title\":{\"text\":\"Mortality Rate\"}},\"legend\":{\"tracegroupgap\":0},\"title\":{\"text\":\"Firearm Mortality Rates by State\"}},                        {\"responsive\": true}                    ).then(function(){\n",
       "                            \n",
       "var gd = document.getElementById('388a276a-c083-4bfc-80ab-66d96b1aa420');\n",
       "var x = new MutationObserver(function (mutations, observer) {{\n",
       "        var display = window.getComputedStyle(gd).display;\n",
       "        if (!display || display === 'none') {{\n",
       "            console.log([gd, 'removed!']);\n",
       "            Plotly.purge(gd);\n",
       "            observer.disconnect();\n",
       "        }}\n",
       "}});\n",
       "\n",
       "// Listen for the removal of the full notebook cells\n",
       "var notebookContainer = gd.closest('#notebook-container');\n",
       "if (notebookContainer) {{\n",
       "    x.observe(notebookContainer, {childList: true});\n",
       "}}\n",
       "\n",
       "// Listen for the clearing of the current output cell\n",
       "var outputEl = gd.closest('.output');\n",
       "if (outputEl) {{\n",
       "    x.observe(outputEl, {childList: true});\n",
       "}}\n",
       "\n",
       "                        })                };                });            </script>        </div>"
      ]
     },
     "metadata": {},
     "output_type": "display_data"
    }
   ],
   "source": [
    "# Firearm Mortality Rates per State\n",
    "fig = px.scatter(firearm_mortality.groupby(['STATE', 'YEAR'])['RATE'].mean().reset_index(),\n",
    "                 x='STATE', y='RATE', title='Firearm Mortality Rates by State',\n",
    "                 labels={'RATE': 'Mortality Rate'},\n",
    "                 template='plotly')\n",
    "fig.show()"
   ]
  },
  {
   "cell_type": "code",
   "execution_count": 188,
   "id": "64eb3b62-ddb5-4bbc-9269-340c99ffb2fe",
   "metadata": {
    "tags": []
   },
   "outputs": [
    {
     "data": {
      "text/plain": [
       "0.028682713101691244"
      ]
     },
     "execution_count": 188,
     "metadata": {},
     "output_type": "execute_result"
    }
   ],
   "source": [
    "mississippi_data = firearm_mortality[firearm_mortality['STATE'] == 'MS']['RATE']\n",
    "oklahoma_data = firearm_mortality[firearm_mortality['STATE'] == 'OK']['RATE']\n",
    "\n",
    "t_stat, p_value = ttest_ind(mississippi_data, oklahoma_data)\n",
    "p_value"
   ]
  },
  {
   "cell_type": "markdown",
   "id": "31fecf06-4215-4391-a857-b53b99f14ac3",
   "metadata": {},
   "source": [
    "> Any state lower than 17.8% mortality rate of Oklahoma is considered statistically significant when comparing to Mississippi"
   ]
  },
  {
   "cell_type": "code",
   "execution_count": 173,
   "id": "c61d5f0c-3ed6-48db-b42d-db8bb2df1282",
   "metadata": {
    "tags": []
   },
   "outputs": [
    {
     "data": {
      "image/png": "[encoded data removed]",
      "text/plain": [
       "<Figure size 700x300 with 1 Axes>"
      ]
     },
     "metadata": {},
     "output_type": "display_data"
    }
   ],
   "source": [
    "# # Average Increase in Firearm Mortality Rate by Year\n",
    "plt.figure(figsize = (7, 3))\n",
    "sns.barplot(x ='YEAR', y = 'RATE', data = firearm_mortality, palette = 'Set2')\n",
    "plt.title('Average Increase in Firearm Mortality Rate by Year')\n",
    "plt.xlabel('Years')\n",
    "plt.ylabel('Average Firearm Mortality Rate')\n",
    "plt.show()"
   ]
  },
  {
   "cell_type": "code",
   "execution_count": 105,
   "id": "fdafe9c0-a8f8-4805-b7da-a35dfaac9d43",
   "metadata": {
    "tags": []
   },
   "outputs": [
    {
     "data": {
      "application/vnd.plotly.v1+json": {
       "config": {
        "plotlyServerURL": "https://plot.ly"
       },
       "data": [
        {
         "hovertemplate": "Firearm Mortality=%{x}<br>Firearm Mortality Rate=%{y}<br>YEAR=%{marker.color}<extra></extra>",
         "legendgroup": "",
         "marker": {
          "color": [
           2021,
           2021,
           2021,
           2021,
           2021,
           2021,
           2021,
           2021,
           2021,
           2021,
           2021,
           2021,
           2021,
           2021,
           2021,
           2021,
           2021,
           2021,
           2021,
           2021,
           2021,
           2021,
           2021,
           2021,
           2021,
           2021,
           2021,
           2021,
           2021,
           2021,
           2021,
           2021,
           2021,
           2021,
           2021,
           2021,
           2021,
           2021,
           2021,
           2021,
           2021,
           2021,
           2021,
           2021,
           2021,
           2021,
           2021,
           2021,
           2021,
           2021,
           2020,
           2020,
           2020,
           2020,
           2020,
           2020,
           2020,
           2020,
           2020,
           2020,
           2020,
           2020,
           2020,
           2020,
           2020,
           2020,
           2020,
           2020,
           2020,
           2020,
           2020,
           2020,
           2020,
           2020,
           2020,
           2020,
           2020,
           2020,
           2020,
           2020,
           2020,
           2020,
           2020,
           2020,
           2020,
           2020,
           2020,
           2020,
           2020,
           2020,
           2020,
           2020,
           2020,
           2020,
           2020,
           2020,
           2020,
           2020,
           2020,
           2020,
           2019,
           2019,
           2019,
           2019,
           2019,
           2019,
           2019,
           2019,
           2019,
           2019,
           2019,
           2019,
           2019,
           2019,
           2019,
           2019,
           2019,
           2019,
           2019,
           2019,
           2019,
           2019,
           2019,
           2019,
           2019,
           2019,
           2019,
           2019,
           2019,
           2019,
           2019,
           2019,
           2019,
           2019,
           2019,
           2019,
           2019,
           2019,
           2019,
           2019,
           2019,
           2019,
           2019,
           2019,
           2019,
           2019,
           2019,
           2019,
           2019,
           2019,
           2018,
           2018,
           2018,
           2018,
           2018,
           2018,
           2018,
           2018,
           2018,
           2018,
           2018,
           2018,
           2018,
           2018,
           2018,
           2018,
           2018,
           2018,
           2018,
           2018,
           2018,
           2018,
           2018,
           2018,
           2018,
           2018,
           2018,
           2018,
           2018,
           2018,
           2018,
           2018,
           2018,
           2018,
           2018,
           2018,
           2018,
           2018,
           2018,
           2018,
           2018,
           2018,
           2018,
           2018,
           2018,
           2018,
           2018,
           2018,
           2018,
           2018,
           2017,
           2017,
           2017,
           2017,
           2017,
           2017,
           2017,
           2017,
           2017,
           2017,
           2017,
           2017,
           2017,
           2017,
           2017,
           2017,
           2017,
           2017,
           2017,
           2017,
           2017,
           2017,
           2017,
           2017,
           2017,
           2017,
           2017,
           2017,
           2017,
           2017,
           2017,
           2017,
           2017,
           2017,
           2017,
           2017,
           2017,
           2017,
           2017,
           2017,
           2017,
           2017,
           2017,
           2017,
           2017,
           2017,
           2017,
           2017,
           2017,
           2017,
           2016,
           2016,
           2016,
           2016,
           2016,
           2016,
           2016,
           2016,
           2016,
           2016,
           2016,
           2016,
           2016,
           2016,
           2016,
           2016,
           2016,
           2016,
           2016,
           2016,
           2016,
           2016,
           2016,
           2016,
           2016,
           2016,
           2016,
           2016,
           2016,
           2016,
           2016,
           2016,
           2016,
           2016,
           2016,
           2016,
           2016,
           2016,
           2016,
           2016,
           2016,
           2016,
           2016,
           2016,
           2016,
           2016,
           2016,
           2016,
           2016,
           2016,
           2015,
           2015,
           2015,
           2015,
           2015,
           2015,
           2015,
           2015,
           2015,
           2015,
           2015,
           2015,
           2015,
           2015,
           2015,
           2015,
           2015,
           2015,
           2015,
           2015,
           2015,
           2015,
           2015,
           2015,
           2015,
           2015,
           2015,
           2015,
           2015,
           2015,
           2015,
           2015,
           2015,
           2015,
           2015,
           2015,
           2015,
           2015,
           2015,
           2015,
           2015,
           2015,
           2015,
           2015,
           2015,
           2015,
           2015,
           2015,
           2015,
           2015,
           2014,
           2014,
           2014,
           2014,
           2014,
           2014,
           2014,
           2014,
           2014,
           2014,
           2014,
           2014,
           2014,
           2014,
           2014,
           2014,
           2014,
           2014,
           2014,
           2014,
           2014,
           2014,
           2014,
           2014,
           2014,
           2014,
           2014,
           2014,
           2014,
           2014,
           2014,
           2014,
           2014,
           2014,
           2014,
           2014,
           2014,
           2014,
           2014,
           2014,
           2014,
           2014,
           2014,
           2014,
           2014,
           2014,
           2014,
           2014,
           2014,
           2014,
           2005,
           2005,
           2005,
           2005,
           2005,
           2005,
           2005,
           2005,
           2005,
           2005,
           2005,
           2005,
           2005,
           2005,
           2005,
           2005,
           2005,
           2005,
           2005,
           2005,
           2005,
           2005,
           2005,
           2005,
           2005,
           2005,
           2005,
           2005,
           2005,
           2005,
           2005,
           2005,
           2005,
           2005,
           2005,
           2005,
           2005,
           2005,
           2005,
           2005,
           2005,
           2005,
           2005,
           2005,
           2005,
           2005,
           2005,
           2005,
           2005,
           2005
          ],
          "coloraxis": "coloraxis",
          "symbol": "circle"
         },
         "mode": "markers",
         "name": "",
         "orientation": "v",
         "showlegend": false,
         "type": "scatter",
         "x": [
          1315,
          182,
          1365,
          698,
          3576,
          1064,
          248,
          158,
          3142,
          2200,
          71,
          309,
          1995,
          1251,
          364,
          503,
          947,
          1314,
          178,
          915,
          247,
          1544,
          573,
          962,
          1414,
          280,
          200,
          633,
          123,
          475,
          578,
          1078,
          1839,
          128,
          1911,
          836,
          670,
          1905,
          64,
          1136,
          128,
          1569,
          4613,
          450,
          83,
          1248,
          896,
          319,
          793,
          155,
          1141,
          175,
          1265,
          673,
          3449,
          922,
          219,
          135,
          3041,
          1897,
          50,
          321,
          1745,
          1159,
          351,
          494,
          902,
          1183,
          153,
          803,
          268,
          1454,
          513,
          818,
          1426,
          238,
          197,
          547,
          128,
          443,
          479,
          1052,
          1699,
          100,
          1764,
          826,
          592,
          1752,
          54,
          1131,
          120,
          1473,
          4164,
          429,
          76,
          1174,
          864,
          325,
          717,
          154,
          1076,
          179,
          1136,
          580,
          2945,
          846,
          190,
          93,
          2872,
          1695,
          62,
          255,
          1367,
          958,
          294,
          403,
          682,
          1013,
          163,
          757,
          247,
          1220,
          465,
          710,
          1252,
          209,
          205,
          490,
          156,
          368,
          471,
          804,
          1397,
          93,
          1578,
          737,
          566,
          1541,
          48,
          1012,
          113,
          1270,
          3683,
          394,
          67,
          1025,
          842,
          300,
          604,
          133,
          1064,
          155,
          1147,
          573,
          3040,
          889,
          186,
          107,
          2902,
          1680,
          59,
          294,
          1382,
          977,
          282,
          424,
          762,
          991,
          159,
          707,
          258,
          1310,
          437,
          681,
          1311,
          186,
          183,
          550,
          155,
          420,
          438,
          821,
          1416,
          89,
          1555,
          665,
          519,
          1654,
          37,
          895,
          117,
          1228,
          3522,
          397,
          82,
          1035,
          809,
          343,
          598,
          124,
          1124,
          180,
          1134,
          613,
          3184,
          779,
          188,
          111,
          2724,
          1623,
          39,
          280,
          1543,
          1016,
          293,
          466,
          730,
          1008,
          172,
          742,
          262,
          1138,
          465,
          632,
          1307,
          244,
          160,
          508,
          146,
          478,
          394,
          772,
          1430,
          103,
          1589,
          681,
          528,
          1636,
          43,
          893,
          101,
          1246,
          3513,
          410,
          70,
          1041,
          849,
          348,
          624,
          113,
          1046,
          177,
          1094,
          541,
          3184,
          812,
          172,
          111,
          2704,
          1571,
          66,
          242,
          1490,
          997,
          288,
          383,
          772,
          987,
          123,
          707,
          242,
          1230,
          432,
          587,
          1144,
          194,
          171,
          498,
          132,
          485,
          383,
          900,
          1409,
          90,
          1524,
          766,
          513,
          1555,
          49,
          891,
          108,
          1148,
          3353,
          370,
          78,
          1049,
          686,
          332,
          664,
          101,
          958,
          177,
          970,
          520,
          3095,
          701,
          189,
          112,
          2559,
          1448,
          55,
          247,
          1220,
          846,
          247,
          330,
          694,
          952,
          144,
          708,
          213,
          1164,
          410,
          589,
          1094,
          205,
          169,
          446,
          121,
          475,
          390,
          849,
          1289,
          92,
          1397,
          706,
          486,
          1485,
          51,
          850,
          96,
          1075,
          3203,
          367,
          70,
          946,
          718,
          278,
          613,
          113,
          815,
          145,
          927,
          496,
          2942,
          663,
          187,
          102,
          2410,
          1391,
          40,
          213,
          1179,
          818,
          241,
          329,
          634,
          896,
          133,
          546,
          226,
          1095,
          377,
          547,
          943,
          172,
          179,
          429,
          122,
          468,
          340,
          875,
          1206,
          96,
          1211,
          611,
          497,
          1390,
          34,
          767,
          89,
          1016,
          2848,
          337,
          69,
          889,
          702,
          286,
          487,
          93,
          736,
          116,
          934,
          439,
          3453,
          535,
          187,
          75,
          1838,
          1064,
          28,
          195,
          1019,
          705,
          201,
          257,
          548,
          858,
          109,
          657,
          224,
          1074,
          361,
          455,
          752,
          161,
          135,
          390,
          88,
          434,
          267,
          1019,
          1119,
          61,
          1116,
          468,
          402,
          1352,
          39,
          589,
          82,
          976,
          2490,
          227,
          44,
          888,
          567,
          261,
          474,
          71
         ],
         "xaxis": "x",
         "y": [
          26.4,
          25.2,
          18.3,
          23.3,
          9,
          17.8,
          6.7,
          16.6,
          14.1,
          20.3,
          4.8,
          16.3,
          16.1,
          18.4,
          11.2,
          17.3,
          21.1,
          29.1,
          12.6,
          15.2,
          3.4,
          15.4,
          10,
          33.9,
          23.2,
          25.1,
          10.3,
          19.8,
          8.3,
          5.2,
          27.8,
          5.4,
          17.3,
          16.8,
          16.5,
          21.2,
          14.9,
          14.8,
          5.6,
          22.4,
          14.3,
          22.8,
          15.6,
          13.9,
          11.9,
          14.3,
          11.2,
          17.3,
          13.5,
          26.1,
          23.6,
          23.5,
          16.7,
          22.6,
          8.5,
          15.4,
          6,
          14.4,
          13.7,
          17.7,
          3.4,
          17.6,
          14.1,
          17.3,
          11.2,
          16.9,
          20.1,
          26.3,
          10.4,
          13.5,
          3.7,
          14.6,
          8.9,
          28.6,
          23.9,
          20.9,
          10.1,
          17,
          8.9,
          5,
          22.7,
          5.3,
          16,
          13.8,
          15.2,
          20.7,
          13,
          13.6,
          5.1,
          22,
          13.6,
          21.3,
          14.2,
          13.6,
          11.6,
          13.4,
          10.9,
          18.1,
          12.2,
          25.9,
          22.2,
          24.4,
          15.1,
          19.3,
          7.2,
          14.2,
          5.3,
          9.9,
          12.7,
          15.8,
          4.4,
          14.2,
          10.8,
          14.1,
          9.1,
          13.7,
          14.9,
          22.1,
          11.5,
          12.6,
          3.4,
          12.1,
          8.1,
          24.2,
          20.6,
          19,
          10.4,
          15.3,
          10.7,
          4.1,
          22.3,
          3.9,
          13.1,
          12.4,
          13.3,
          18.6,
          12.6,
          11.7,
          4.6,
          19.9,
          13.1,
          18.4,
          12.7,
          12.8,
          9.3,
          11.7,
          10.7,
          16.6,
          10,
          22.3,
          21.8,
          21,
          15.3,
          18.9,
          7.5,
          15.2,
          4.9,
          11.6,
          12.9,
          15.7,
          4,
          16.6,
          10.9,
          14.7,
          8.7,
          14.8,
          16.9,
          21.4,
          10.3,
          11.7,
          3.5,
          12.9,
          7.8,
          22.9,
          21.5,
          17.3,
          9,
          17.9,
          10.8,
          4.8,
          20.7,
          4.1,
          13.3,
          11.5,
          13.1,
          16.8,
          11.7,
          12.5,
          3.3,
          17.6,
          13.6,
          17.8,
          12.2,
          13.2,
          12.8,
          11.8,
          10.4,
          18.2,
          10.1,
          21.5,
          22.9,
          24.5,
          15.8,
          20.3,
          7.9,
          13.4,
          5.1,
          11.7,
          12.4,
          15.4,
          2.5,
          16.4,
          12.1,
          15.3,
          9,
          16,
          16.2,
          21.7,
          11.7,
          12.3,
          3.7,
          11.3,
          8.2,
          21.5,
          21.5,
          22.5,
          8.3,
          16.7,
          10.4,
          5.3,
          18.5,
          3.7,
          13.7,
          13.2,
          13.7,
          17.2,
          12.1,
          12.5,
          3.9,
          17.7,
          11.9,
          18.4,
          12.4,
          14,
          11.7,
          11.9,
          11.1,
          18.6,
          10.6,
          18.8,
          21.5,
          23.3,
          15.2,
          17.8,
          7.9,
          14.3,
          4.6,
          11,
          12.6,
          15,
          4.5,
          14.6,
          11.7,
          15,
          9.2,
          13.4,
          17.5,
          21.3,
          8.3,
          11.9,
          3.4,
          12.3,
          7.6,
          19.9,
          19,
          18.9,
          9.1,
          16.8,
          9.3,
          5.5,
          18.1,
          4.4,
          13.7,
          11.9,
          12.9,
          19.6,
          11.9,
          12,
          4.1,
          17.7,
          13.4,
          17.1,
          12.1,
          12.9,
          11.1,
          12.1,
          9,
          17.5,
          11.4,
          17.4,
          19.6,
          23.4,
          13.8,
          16.9,
          7.7,
          12.6,
          5.3,
          12.1,
          12,
          14.1,
          3.6,
          14.7,
          9.5,
          12.7,
          7.8,
          11.4,
          15.2,
          20.4,
          9.8,
          11.9,
          3,
          11.7,
          7.4,
          19.6,
          18.1,
          19.2,
          8.9,
          14.9,
          8.9,
          5.4,
          18.6,
          4.2,
          12.5,
          12.8,
          11.9,
          18,
          11.4,
          11.4,
          4.7,
          17.3,
          11.1,
          16,
          11.7,
          12.8,
          9.6,
          10.9,
          9.8,
          14,
          10.4,
          19.6,
          16.9,
          19.2,
          13.5,
          16.6,
          7.4,
          12.2,
          5,
          11.1,
          11.5,
          13.7,
          2.6,
          13.2,
          9,
          12.4,
          7.5,
          11.3,
          13.9,
          19,
          9.4,
          9,
          3.2,
          11.1,
          6.6,
          18.3,
          15.3,
          16.1,
          9.5,
          14.8,
          8.7,
          5.3,
          16,
          4.2,
          11.8,
          12.3,
          10.3,
          15.7,
          11.7,
          10.5,
          3,
          15.5,
          10.3,
          15.1,
          10.7,
          12.3,
          10.3,
          10.3,
          9.7,
          14.6,
          8.2,
          16.2,
          16,
          17.5,
          16.1,
          15.7,
          9.5,
          11.6,
          5.3,
          8.8,
          10,
          12.1,
          2.1,
          14.1,
          8,
          11.2,
          6.7,
          9.3,
          13,
          18.5,
          7.8,
          11.9,
          3.4,
          10.8,
          7,
          16,
          12.9,
          16.9,
          7.7,
          16.1,
          6.6,
          5.2,
          13.9,
          5.3,
          12.8,
          8.8,
          9.6,
          13.2,
          10.7,
          10.8,
          3.6,
          13.8,
          10.2,
          16,
          11.1,
          10.1,
          6.8,
          11.5,
          8.8,
          13.8,
          8.5,
          13.4
         ],
         "yaxis": "y"
        }
       ],
       "layout": {
        "autosize": true,
        "coloraxis": {
         "colorbar": {
          "title": {
           "text": "YEAR"
          }
         },
         "colorscale": [
          [
           0,
           "#0d0887"
          ],
          [
           0.1111111111111111,
           "#46039f"
          ],
          [
           0.2222222222222222,
           "#7201a8"
          ],
          [
           0.3333333333333333,
           "#9c179e"
          ],
          [
           0.4444444444444444,
           "#bd3786"
          ],
          [
           0.5555555555555556,
           "#d8576b"
          ],
          [
           0.6666666666666666,
           "#ed7953"
          ],
          [
           0.7777777777777778,
           "#fb9f3a"
          ],
          [
           0.8888888888888888,
           "#fdca26"
          ],
          [
           1,
           "#f0f921"
          ]
         ]
        },
        "legend": {
         "tracegroupgap": 0
        },
        "template": {
         "data": {
          "bar": [
           {
            "error_x": {
             "color": "#2a3f5f"
            },
            "error_y": {
             "color": "#2a3f5f"
            },
            "marker": {
             "line": {
              "color": "#E5ECF6",
              "width": 0.5
             },
             "pattern": {
              "fillmode": "overlay",
              "size": 10,
              "solidity": 0.2
             }
            },
            "type": "bar"
           }
          ],
          "barpolar": [
           {
            "marker": {
             "line": {
              "color": "#E5ECF6",
              "width": 0.5
             },
             "pattern": {
              "fillmode": "overlay",
              "size": 10,
              "solidity": 0.2
             }
            },
            "type": "barpolar"
           }
          ],
          "carpet": [
           {
            "aaxis": {
             "endlinecolor": "#2a3f5f",
             "gridcolor": "white",
             "linecolor": "white",
             "minorgridcolor": "white",
             "startlinecolor": "#2a3f5f"
            },
            "baxis": {
             "endlinecolor": "#2a3f5f",
             "gridcolor": "white",
             "linecolor": "white",
             "minorgridcolor": "white",
             "startlinecolor": "#2a3f5f"
            },
            "type": "carpet"
           }
          ],
          "choropleth": [
           {
            "colorbar": {
             "outlinewidth": 0,
             "ticks": ""
            },
            "type": "choropleth"
           }
          ],
          "contour": [
           {
            "colorbar": {
             "outlinewidth": 0,
             "ticks": ""
            },
            "colorscale": [
             [
              0,
              "#0d0887"
             ],
             [
              0.1111111111111111,
              "#46039f"
             ],
             [
              0.2222222222222222,
              "#7201a8"
             ],
             [
              0.3333333333333333,
              "#9c179e"
             ],
             [
              0.4444444444444444,
              "#bd3786"
             ],
             [
              0.5555555555555556,
              "#d8576b"
             ],
             [
              0.6666666666666666,
              "#ed7953"
             ],
             [
              0.7777777777777778,
              "#fb9f3a"
             ],
             [
              0.8888888888888888,
              "#fdca26"
             ],
             [
              1,
              "#f0f921"
             ]
            ],
            "type": "contour"
           }
          ],
          "contourcarpet": [
           {
            "colorbar": {
             "outlinewidth": 0,
             "ticks": ""
            },
            "type": "contourcarpet"
           }
          ],
          "heatmap": [
           {
            "colorbar": {
             "outlinewidth": 0,
             "ticks": ""
            },
            "colorscale": [
             [
              0,
              "#0d0887"
             ],
             [
              0.1111111111111111,
              "#46039f"
             ],
             [
              0.2222222222222222,
              "#7201a8"
             ],
             [
              0.3333333333333333,
              "#9c179e"
             ],
             [
              0.4444444444444444,
              "#bd3786"
             ],
             [
              0.5555555555555556,
              "#d8576b"
             ],
             [
              0.6666666666666666,
              "#ed7953"
             ],
             [
              0.7777777777777778,
              "#fb9f3a"
             ],
             [
              0.8888888888888888,
              "#fdca26"
             ],
             [
              1,
              "#f0f921"
             ]
            ],
            "type": "heatmap"
           }
          ],
          "heatmapgl": [
           {
            "colorbar": {
             "outlinewidth": 0,
             "ticks": ""
            },
            "colorscale": [
             [
              0,
              "#0d0887"
             ],
             [
              0.1111111111111111,
              "#46039f"
             ],
             [
              0.2222222222222222,
              "#7201a8"
             ],
             [
              0.3333333333333333,
              "#9c179e"
             ],
             [
              0.4444444444444444,
              "#bd3786"
             ],
             [
              0.5555555555555556,
              "#d8576b"
             ],
             [
              0.6666666666666666,
              "#ed7953"
             ],
             [
              0.7777777777777778,
              "#fb9f3a"
             ],
             [
              0.8888888888888888,
              "#fdca26"
             ],
             [
              1,
              "#f0f921"
             ]
            ],
            "type": "heatmapgl"
           }
          ],
          "histogram": [
           {
            "marker": {
             "pattern": {
              "fillmode": "overlay",
              "size": 10,
              "solidity": 0.2
             }
            },
            "type": "histogram"
           }
          ],
          "histogram2d": [
           {
            "colorbar": {
             "outlinewidth": 0,
             "ticks": ""
            },
            "colorscale": [
             [
              0,
              "#0d0887"
             ],
             [
              0.1111111111111111,
              "#46039f"
             ],
             [
              0.2222222222222222,
              "#7201a8"
             ],
             [
              0.3333333333333333,
              "#9c179e"
             ],
             [
              0.4444444444444444,
              "#bd3786"
             ],
             [
              0.5555555555555556,
              "#d8576b"
             ],
             [
              0.6666666666666666,
              "#ed7953"
             ],
             [
              0.7777777777777778,
              "#fb9f3a"
             ],
             [
              0.8888888888888888,
              "#fdca26"
             ],
             [
              1,
              "#f0f921"
             ]
            ],
            "type": "histogram2d"
           }
          ],
          "histogram2dcontour": [
           {
            "colorbar": {
             "outlinewidth": 0,
             "ticks": ""
            },
            "colorscale": [
             [
              0,
              "#0d0887"
             ],
             [
              0.1111111111111111,
              "#46039f"
             ],
             [
              0.2222222222222222,
              "#7201a8"
             ],
             [
              0.3333333333333333,
              "#9c179e"
             ],
             [
              0.4444444444444444,
              "#bd3786"
             ],
             [
              0.5555555555555556,
              "#d8576b"
             ],
             [
              0.6666666666666666,
              "#ed7953"
             ],
             [
              0.7777777777777778,
              "#fb9f3a"
             ],
             [
              0.8888888888888888,
              "#fdca26"
             ],
             [
              1,
              "#f0f921"
             ]
            ],
            "type": "histogram2dcontour"
           }
          ],
          "mesh3d": [
           {
            "colorbar": {
             "outlinewidth": 0,
             "ticks": ""
            },
            "type": "mesh3d"
           }
          ],
          "parcoords": [
           {
            "line": {
             "colorbar": {
              "outlinewidth": 0,
              "ticks": ""
             }
            },
            "type": "parcoords"
           }
          ],
          "pie": [
           {
            "automargin": true,
            "type": "pie"
           }
          ],
          "scatter": [
           {
            "fillpattern": {
             "fillmode": "overlay",
             "size": 10,
             "solidity": 0.2
            },
            "type": "scatter"
           }
          ],
          "scatter3d": [
           {
            "line": {
             "colorbar": {
              "outlinewidth": 0,
              "ticks": ""
             }
            },
            "marker": {
             "colorbar": {
              "outlinewidth": 0,
              "ticks": ""
             }
            },
            "type": "scatter3d"
           }
          ],
          "scattercarpet": [
           {
            "marker": {
             "colorbar": {
              "outlinewidth": 0,
              "ticks": ""
             }
            },
            "type": "scattercarpet"
           }
          ],
          "scattergeo": [
           {
            "marker": {
             "colorbar": {
              "outlinewidth": 0,
              "ticks": ""
             }
            },
            "type": "scattergeo"
           }
          ],
          "scattergl": [
           {
            "marker": {
             "colorbar": {
              "outlinewidth": 0,
              "ticks": ""
             }
            },
            "type": "scattergl"
           }
          ],
          "scattermapbox": [
           {
            "marker": {
             "colorbar": {
              "outlinewidth": 0,
              "ticks": ""
             }
            },
            "type": "scattermapbox"
           }
          ],
          "scatterpolar": [
           {
            "marker": {
             "colorbar": {
              "outlinewidth": 0,
              "ticks": ""
             }
            },
            "type": "scatterpolar"
           }
          ],
          "scatterpolargl": [
           {
            "marker": {
             "colorbar": {
              "outlinewidth": 0,
              "ticks": ""
             }
            },
            "type": "scatterpolargl"
           }
          ],
          "scatterternary": [
           {
            "marker": {
             "colorbar": {
              "outlinewidth": 0,
              "ticks": ""
             }
            },
            "type": "scatterternary"
           }
          ],
          "surface": [
           {
            "colorbar": {
             "outlinewidth": 0,
             "ticks": ""
            },
            "colorscale": [
             [
              0,
              "#0d0887"
             ],
             [
              0.1111111111111111,
              "#46039f"
             ],
             [
              0.2222222222222222,
              "#7201a8"
             ],
             [
              0.3333333333333333,
              "#9c179e"
             ],
             [
              0.4444444444444444,
              "#bd3786"
             ],
             [
              0.5555555555555556,
              "#d8576b"
             ],
             [
              0.6666666666666666,
              "#ed7953"
             ],
             [
              0.7777777777777778,
              "#fb9f3a"
             ],
             [
              0.8888888888888888,
              "#fdca26"
             ],
             [
              1,
              "#f0f921"
             ]
            ],
            "type": "surface"
           }
          ],
          "table": [
           {
            "cells": {
             "fill": {
              "color": "#EBF0F8"
             },
             "line": {
              "color": "white"
             }
            },
            "header": {
             "fill": {
              "color": "#C8D4E3"
             },
             "line": {
              "color": "white"
             }
            },
            "type": "table"
           }
          ]
         },
         "layout": {
          "annotationdefaults": {
           "arrowcolor": "#2a3f5f",
           "arrowhead": 0,
           "arrowwidth": 1
          },
          "autotypenumbers": "strict",
          "coloraxis": {
           "colorbar": {
            "outlinewidth": 0,
            "ticks": ""
           }
          },
          "colorscale": {
           "diverging": [
            [
             0,
             "#8e0152"
            ],
            [
             0.1,
             "#c51b7d"
            ],
            [
             0.2,
             "#de77ae"
            ],
            [
             0.3,
             "#f1b6da"
            ],
            [
             0.4,
             "#fde0ef"
            ],
            [
             0.5,
             "#f7f7f7"
            ],
            [
             0.6,
             "#e6f5d0"
            ],
            [
             0.7,
             "#b8e186"
            ],
            [
             0.8,
             "#7fbc41"
            ],
            [
             0.9,
             "#4d9221"
            ],
            [
             1,
             "#276419"
            ]
           ],
           "sequential": [
            [
             0,
             "#0d0887"
            ],
            [
             0.1111111111111111,
             "#46039f"
            ],
            [
             0.2222222222222222,
             "#7201a8"
            ],
            [
             0.3333333333333333,
             "#9c179e"
            ],
            [
             0.4444444444444444,
             "#bd3786"
            ],
            [
             0.5555555555555556,
             "#d8576b"
            ],
            [
             0.6666666666666666,
             "#ed7953"
            ],
            [
             0.7777777777777778,
             "#fb9f3a"
            ],
            [
             0.8888888888888888,
             "#fdca26"
            ],
            [
             1,
             "#f0f921"
            ]
           ],
           "sequentialminus": [
            [
             0,
             "#0d0887"
            ],
            [
             0.1111111111111111,
             "#46039f"
            ],
            [
             0.2222222222222222,
             "#7201a8"
            ],
            [
             0.3333333333333333,
             "#9c179e"
            ],
            [
             0.4444444444444444,
             "#bd3786"
            ],
            [
             0.5555555555555556,
             "#d8576b"
            ],
            [
             0.6666666666666666,
             "#ed7953"
            ],
            [
             0.7777777777777778,
             "#fb9f3a"
            ],
            [
             0.8888888888888888,
             "#fdca26"
            ],
            [
             1,
             "#f0f921"
            ]
           ]
          },
          "colorway": [
           "#636efa",
           "#EF553B",
           "#00cc96",
           "#ab63fa",
           "#FFA15A",
           "#19d3f3",
           "#FF6692",
           "#B6E880",
           "#FF97FF",
           "#FECB52"
          ],
          "font": {
           "color": "#2a3f5f"
          },
          "geo": {
           "bgcolor": "white",
           "lakecolor": "white",
           "landcolor": "#E5ECF6",
           "showlakes": true,
           "showland": true,
           "subunitcolor": "white"
          },
          "hoverlabel": {
           "align": "left"
          },
          "hovermode": "closest",
          "mapbox": {
           "style": "light"
          },
          "paper_bgcolor": "white",
          "plot_bgcolor": "#E5ECF6",
          "polar": {
           "angularaxis": {
            "gridcolor": "white",
            "linecolor": "white",
            "ticks": ""
           },
           "bgcolor": "#E5ECF6",
           "radialaxis": {
            "gridcolor": "white",
            "linecolor": "white",
            "ticks": ""
           }
          },
          "scene": {
           "xaxis": {
            "backgroundcolor": "#E5ECF6",
            "gridcolor": "white",
            "gridwidth": 2,
            "linecolor": "white",
            "showbackground": true,
            "ticks": "",
            "zerolinecolor": "white"
           },
           "yaxis": {
            "backgroundcolor": "#E5ECF6",
            "gridcolor": "white",
            "gridwidth": 2,
            "linecolor": "white",
            "showbackground": true,
            "ticks": "",
            "zerolinecolor": "white"
           },
           "zaxis": {
            "backgroundcolor": "#E5ECF6",
            "gridcolor": "white",
            "gridwidth": 2,
            "linecolor": "white",
            "showbackground": true,
            "ticks": "",
            "zerolinecolor": "white"
           }
          },
          "shapedefaults": {
           "line": {
            "color": "#2a3f5f"
           }
          },
          "ternary": {
           "aaxis": {
            "gridcolor": "white",
            "linecolor": "white",
            "ticks": ""
           },
           "baxis": {
            "gridcolor": "white",
            "linecolor": "white",
            "ticks": ""
           },
           "bgcolor": "#E5ECF6",
           "caxis": {
            "gridcolor": "white",
            "linecolor": "white",
            "ticks": ""
           }
          },
          "title": {
           "x": 0.05
          },
          "xaxis": {
           "automargin": true,
           "gridcolor": "white",
           "linecolor": "white",
           "ticks": "",
           "title": {
            "standoff": 15
           },
           "zerolinecolor": "white",
           "zerolinewidth": 2
          },
          "yaxis": {
           "automargin": true,
           "gridcolor": "white",
           "linecolor": "white",
           "ticks": "",
           "title": {
            "standoff": 15
           },
           "zerolinecolor": "white",
           "zerolinewidth": 2
          }
         }
        },
        "title": {
         "text": "Firearm Mortality Counts by Rate and Year"
        },
        "xaxis": {
         "anchor": "y",
         "autorange": true,
         "domain": [
          0,
          1
         ],
         "range": [
          -252.90666118421058,
          4893.906661184211
         ],
         "title": {
          "text": "Firearm Mortality"
         },
         "type": "linear"
        },
        "yaxis": {
         "anchor": "x",
         "autorange": true,
         "domain": [
          0,
          1
         ],
         "range": [
          -0.13903743315507988,
          36.13903743315508
         ],
         "title": {
          "text": "Firearm Mortality Rate"
         },
         "type": "linear"
        }
       }
      },
      "image/png": "[encoded data removed]",
      "text/html": [
       "<div>                            <div id=\"5e2635c4-ec4a-4681-91cc-b38460f7e2ab\" class=\"plotly-graph-div\" style=\"height:500px; width:100%;\"></div>            <script type=\"text/javascript\">                require([\"plotly\"], function(Plotly) {                    window.PLOTLYENV=window.PLOTLYENV || {};                                    if (document.getElementById(\"5e2635c4-ec4a-4681-91cc-b38460f7e2ab\")) {                    Plotly.newPlot(                        \"5e2635c4-ec4a-4681-91cc-b38460f7e2ab\",                        [{\"hovertemplate\":\"Firearm Mortality=%{x}<br>Firearm Mortality Rate=%{y}<br>YEAR=%{marker.color}<extra></extra>\",\"legendgroup\":\"\",\"marker\":{\"color\":[2021,2021,2021,2021,2021,2021,2021,2021,2021,2021,2021,2021,2021,2021,2021,2021,2021,2021,2021,2021,2021,2021,2021,2021,2021,2021,2021,2021,2021,2021,2021,2021,2021,2021,2021,2021,2021,2021,2021,2021,2021,2021,2021,2021,2021,2021,2021,2021,2021,2021,2020,2020,2020,2020,2020,2020,2020,2020,2020,2020,2020,2020,2020,2020,2020,2020,2020,2020,2020,2020,2020,2020,2020,2020,2020,2020,2020,2020,2020,2020,2020,2020,2020,2020,2020,2020,2020,2020,2020,2020,2020,2020,2020,2020,2020,2020,2020,2020,2020,2020,2019,2019,2019,2019,2019,2019,2019,2019,2019,2019,2019,2019,2019,2019,2019,2019,2019,2019,2019,2019,2019,2019,2019,2019,2019,2019,2019,2019,2019,2019,2019,2019,2019,2019,2019,2019,2019,2019,2019,2019,2019,2019,2019,2019,2019,2019,2019,2019,2019,2019,2018,2018,2018,2018,2018,2018,2018,2018,2018,2018,2018,2018,2018,2018,2018,2018,2018,2018,2018,2018,2018,2018,2018,2018,2018,2018,2018,2018,2018,2018,2018,2018,2018,2018,2018,2018,2018,2018,2018,2018,2018,2018,2018,2018,2018,2018,2018,2018,2018,2018,2017,2017,2017,2017,2017,2017,2017,2017,2017,2017,2017,2017,2017,2017,2017,2017,2017,2017,2017,2017,2017,2017,2017,2017,2017,2017,2017,2017,2017,2017,2017,2017,2017,2017,2017,2017,2017,2017,2017,2017,2017,2017,2017,2017,2017,2017,2017,2017,2017,2017,2016,2016,2016,2016,2016,2016,2016,2016,2016,2016,2016,2016,2016,2016,2016,2016,2016,2016,2016,2016,2016,2016,2016,2016,2016,2016,2016,2016,2016,2016,2016,2016,2016,2016,2016,2016,2016,2016,2016,2016,2016,2016,2016,2016,2016,2016,2016,2016,2016,2016,2015,2015,2015,2015,2015,2015,2015,2015,2015,2015,2015,2015,2015,2015,2015,2015,2015,2015,2015,2015,2015,2015,2015,2015,2015,2015,2015,2015,2015,2015,2015,2015,2015,2015,2015,2015,2015,2015,2015,2015,2015,2015,2015,2015,2015,2015,2015,2015,2015,2015,2014,2014,2014,2014,2014,2014,2014,2014,2014,2014,2014,2014,2014,2014,2014,2014,2014,2014,2014,2014,2014,2014,2014,2014,2014,2014,2014,2014,2014,2014,2014,2014,2014,2014,2014,2014,2014,2014,2014,2014,2014,2014,2014,2014,2014,2014,2014,2014,2014,2014,2005,2005,2005,2005,2005,2005,2005,2005,2005,2005,2005,2005,2005,2005,2005,2005,2005,2005,2005,2005,2005,2005,2005,2005,2005,2005,2005,2005,2005,2005,2005,2005,2005,2005,2005,2005,2005,2005,2005,2005,2005,2005,2005,2005,2005,2005,2005,2005,2005,2005],\"coloraxis\":\"coloraxis\",\"symbol\":\"circle\"},\"mode\":\"markers\",\"name\":\"\",\"orientation\":\"v\",\"showlegend\":false,\"x\":[1315,182,1365,698,3576,1064,248,158,3142,2200,71,309,1995,1251,364,503,947,1314,178,915,247,1544,573,962,1414,280,200,633,123,475,578,1078,1839,128,1911,836,670,1905,64,1136,128,1569,4613,450,83,1248,896,319,793,155,1141,175,1265,673,3449,922,219,135,3041,1897,50,321,1745,1159,351,494,902,1183,153,803,268,1454,513,818,1426,238,197,547,128,443,479,1052,1699,100,1764,826,592,1752,54,1131,120,1473,4164,429,76,1174,864,325,717,154,1076,179,1136,580,2945,846,190,93,2872,1695,62,255,1367,958,294,403,682,1013,163,757,247,1220,465,710,1252,209,205,490,156,368,471,804,1397,93,1578,737,566,1541,48,1012,113,1270,3683,394,67,1025,842,300,604,133,1064,155,1147,573,3040,889,186,107,2902,1680,59,294,1382,977,282,424,762,991,159,707,258,1310,437,681,1311,186,183,550,155,420,438,821,1416,89,1555,665,519,1654,37,895,117,1228,3522,397,82,1035,809,343,598,124,1124,180,1134,613,3184,779,188,111,2724,1623,39,280,1543,1016,293,466,730,1008,172,742,262,1138,465,632,1307,244,160,508,146,478,394,772,1430,103,1589,681,528,1636,43,893,101,1246,3513,410,70,1041,849,348,624,113,1046,177,1094,541,3184,812,172,111,2704,1571,66,242,1490,997,288,383,772,987,123,707,242,1230,432,587,1144,194,171,498,132,485,383,900,1409,90,1524,766,513,1555,49,891,108,1148,3353,370,78,1049,686,332,664,101,958,177,970,520,3095,701,189,112,2559,1448,55,247,1220,846,247,330,694,952,144,708,213,1164,410,589,1094,205,169,446,121,475,390,849,1289,92,1397,706,486,1485,51,850,96,1075,3203,367,70,946,718,278,613,113,815,145,927,496,2942,663,187,102,2410,1391,40,213,1179,818,241,329,634,896,133,546,226,1095,377,547,943,172,179,429,122,468,340,875,1206,96,1211,611,497,1390,34,767,89,1016,2848,337,69,889,702,286,487,93,736,116,934,439,3453,535,187,75,1838,1064,28,195,1019,705,201,257,548,858,109,657,224,1074,361,455,752,161,135,390,88,434,267,1019,1119,61,1116,468,402,1352,39,589,82,976,2490,227,44,888,567,261,474,71],\"xaxis\":\"x\",\"y\":[26.4,25.2,18.3,23.3,9.0,17.8,6.7,16.6,14.1,20.3,4.8,16.3,16.1,18.4,11.2,17.3,21.1,29.1,12.6,15.2,3.4,15.4,10.0,33.9,23.2,25.1,10.3,19.8,8.3,5.2,27.8,5.4,17.3,16.8,16.5,21.2,14.9,14.8,5.6,22.4,14.3,22.8,15.6,13.9,11.9,14.3,11.2,17.3,13.5,26.1,23.6,23.5,16.7,22.6,8.5,15.4,6.0,14.4,13.7,17.7,3.4,17.6,14.1,17.3,11.2,16.9,20.1,26.3,10.4,13.5,3.7,14.6,8.9,28.6,23.9,20.9,10.1,17.0,8.9,5.0,22.7,5.3,16.0,13.8,15.2,20.7,13.0,13.6,5.1,22.0,13.6,21.3,14.2,13.6,11.6,13.4,10.9,18.1,12.2,25.9,22.2,24.4,15.1,19.3,7.2,14.2,5.3,9.9,12.7,15.8,4.4,14.2,10.8,14.1,9.1,13.7,14.9,22.1,11.5,12.6,3.4,12.1,8.1,24.2,20.6,19.0,10.4,15.3,10.7,4.1,22.3,3.9,13.1,12.4,13.3,18.6,12.6,11.7,4.6,19.9,13.1,18.4,12.7,12.8,9.3,11.7,10.7,16.6,10.0,22.3,21.8,21.0,15.3,18.9,7.5,15.2,4.9,11.6,12.9,15.7,4.0,16.6,10.9,14.7,8.7,14.8,16.9,21.4,10.3,11.7,3.5,12.9,7.8,22.9,21.5,17.3,9.0,17.9,10.8,4.8,20.7,4.1,13.3,11.5,13.1,16.8,11.7,12.5,3.3,17.6,13.6,17.8,12.2,13.2,12.8,11.8,10.4,18.2,10.1,21.5,22.9,24.5,15.8,20.3,7.9,13.4,5.1,11.7,12.4,15.4,2.5,16.4,12.1,15.3,9.0,16.0,16.2,21.7,11.7,12.3,3.7,11.3,8.2,21.5,21.5,22.5,8.3,16.7,10.4,5.3,18.5,3.7,13.7,13.2,13.7,17.2,12.1,12.5,3.9,17.7,11.9,18.4,12.4,14.0,11.7,11.9,11.1,18.6,10.6,18.8,21.5,23.3,15.2,17.8,7.9,14.3,4.6,11.0,12.6,15.0,4.5,14.6,11.7,15.0,9.2,13.4,17.5,21.3,8.3,11.9,3.4,12.3,7.6,19.9,19.0,18.9,9.1,16.8,9.3,5.5,18.1,4.4,13.7,11.9,12.9,19.6,11.9,12.0,4.1,17.7,13.4,17.1,12.1,12.9,11.1,12.1,9.0,17.5,11.4,17.4,19.6,23.4,13.8,16.9,7.7,12.6,5.3,12.1,12.0,14.1,3.6,14.7,9.5,12.7,7.8,11.4,15.2,20.4,9.8,11.9,3.0,11.7,7.4,19.6,18.1,19.2,8.9,14.9,8.9,5.4,18.6,4.2,12.5,12.8,11.9,18.0,11.4,11.4,4.7,17.3,11.1,16.0,11.7,12.8,9.6,10.9,9.8,14.0,10.4,19.6,16.9,19.2,13.5,16.6,7.4,12.2,5.0,11.1,11.5,13.7,2.6,13.2,9.0,12.4,7.5,11.3,13.9,19.0,9.4,9.0,3.2,11.1,6.6,18.3,15.3,16.1,9.5,14.8,8.7,5.3,16.0,4.2,11.8,12.3,10.3,15.7,11.7,10.5,3.0,15.5,10.3,15.1,10.7,12.3,10.3,10.3,9.7,14.6,8.2,16.2,16.0,17.5,16.1,15.7,9.5,11.6,5.3,8.8,10.0,12.1,2.1,14.1,8.0,11.2,6.7,9.3,13.0,18.5,7.8,11.9,3.4,10.8,7.0,16.0,12.9,16.9,7.7,16.1,6.6,5.2,13.9,5.3,12.8,8.8,9.6,13.2,10.7,10.8,3.6,13.8,10.2,16.0,11.1,10.1,6.8,11.5,8.8,13.8,8.5,13.4],\"yaxis\":\"y\",\"type\":\"scatter\"}],                        {\"template\":{\"data\":{\"histogram2dcontour\":[{\"type\":\"histogram2dcontour\",\"colorbar\":{\"outlinewidth\":0,\"ticks\":\"\"},\"colorscale\":[[0.0,\"#0d0887\"],[0.1111111111111111,\"#46039f\"],[0.2222222222222222,\"#7201a8\"],[0.3333333333333333,\"#9c179e\"],[0.4444444444444444,\"#bd3786\"],[0.5555555555555556,\"#d8576b\"],[0.6666666666666666,\"#ed7953\"],[0.7777777777777778,\"#fb9f3a\"],[0.8888888888888888,\"#fdca26\"],[1.0,\"#f0f921\"]]}],\"choropleth\":[{\"type\":\"choropleth\",\"colorbar\":{\"outlinewidth\":0,\"ticks\":\"\"}}],\"histogram2d\":[{\"type\":\"histogram2d\",\"colorbar\":{\"outlinewidth\":0,\"ticks\":\"\"},\"colorscale\":[[0.0,\"#0d0887\"],[0.1111111111111111,\"#46039f\"],[0.2222222222222222,\"#7201a8\"],[0.3333333333333333,\"#9c179e\"],[0.4444444444444444,\"#bd3786\"],[0.5555555555555556,\"#d8576b\"],[0.6666666666666666,\"#ed7953\"],[0.7777777777777778,\"#fb9f3a\"],[0.8888888888888888,\"#fdca26\"],[1.0,\"#f0f921\"]]}],\"heatmap\":[{\"type\":\"heatmap\",\"colorbar\":{\"outlinewidth\":0,\"ticks\":\"\"},\"colorscale\":[[0.0,\"#0d0887\"],[0.1111111111111111,\"#46039f\"],[0.2222222222222222,\"#7201a8\"],[0.3333333333333333,\"#9c179e\"],[0.4444444444444444,\"#bd3786\"],[0.5555555555555556,\"#d8576b\"],[0.6666666666666666,\"#ed7953\"],[0.7777777777777778,\"#fb9f3a\"],[0.8888888888888888,\"#fdca26\"],[1.0,\"#f0f921\"]]}],\"heatmapgl\":[{\"type\":\"heatmapgl\",\"colorbar\":{\"outlinewidth\":0,\"ticks\":\"\"},\"colorscale\":[[0.0,\"#0d0887\"],[0.1111111111111111,\"#46039f\"],[0.2222222222222222,\"#7201a8\"],[0.3333333333333333,\"#9c179e\"],[0.4444444444444444,\"#bd3786\"],[0.5555555555555556,\"#d8576b\"],[0.6666666666666666,\"#ed7953\"],[0.7777777777777778,\"#fb9f3a\"],[0.8888888888888888,\"#fdca26\"],[1.0,\"#f0f921\"]]}],\"contourcarpet\":[{\"type\":\"contourcarpet\",\"colorbar\":{\"outlinewidth\":0,\"ticks\":\"\"}}],\"contour\":[{\"type\":\"contour\",\"colorbar\":{\"outlinewidth\":0,\"ticks\":\"\"},\"colorscale\":[[0.0,\"#0d0887\"],[0.1111111111111111,\"#46039f\"],[0.2222222222222222,\"#7201a8\"],[0.3333333333333333,\"#9c179e\"],[0.4444444444444444,\"#bd3786\"],[0.5555555555555556,\"#d8576b\"],[0.6666666666666666,\"#ed7953\"],[0.7777777777777778,\"#fb9f3a\"],[0.8888888888888888,\"#fdca26\"],[1.0,\"#f0f921\"]]}],\"surface\":[{\"type\":\"surface\",\"colorbar\":{\"outlinewidth\":0,\"ticks\":\"\"},\"colorscale\":[[0.0,\"#0d0887\"],[0.1111111111111111,\"#46039f\"],[0.2222222222222222,\"#7201a8\"],[0.3333333333333333,\"#9c179e\"],[0.4444444444444444,\"#bd3786\"],[0.5555555555555556,\"#d8576b\"],[0.6666666666666666,\"#ed7953\"],[0.7777777777777778,\"#fb9f3a\"],[0.8888888888888888,\"#fdca26\"],[1.0,\"#f0f921\"]]}],\"mesh3d\":[{\"type\":\"mesh3d\",\"colorbar\":{\"outlinewidth\":0,\"ticks\":\"\"}}],\"scatter\":[{\"fillpattern\":{\"fillmode\":\"overlay\",\"size\":10,\"solidity\":0.2},\"type\":\"scatter\"}],\"parcoords\":[{\"type\":\"parcoords\",\"line\":{\"colorbar\":{\"outlinewidth\":0,\"ticks\":\"\"}}}],\"scatterpolargl\":[{\"type\":\"scatterpolargl\",\"marker\":{\"colorbar\":{\"outlinewidth\":0,\"ticks\":\"\"}}}],\"bar\":[{\"error_x\":{\"color\":\"#2a3f5f\"},\"error_y\":{\"color\":\"#2a3f5f\"},\"marker\":{\"line\":{\"color\":\"#E5ECF6\",\"width\":0.5},\"pattern\":{\"fillmode\":\"overlay\",\"size\":10,\"solidity\":0.2}},\"type\":\"bar\"}],\"scattergeo\":[{\"type\":\"scattergeo\",\"marker\":{\"colorbar\":{\"outlinewidth\":0,\"ticks\":\"\"}}}],\"scatterpolar\":[{\"type\":\"scatterpolar\",\"marker\":{\"colorbar\":{\"outlinewidth\":0,\"ticks\":\"\"}}}],\"histogram\":[{\"marker\":{\"pattern\":{\"fillmode\":\"overlay\",\"size\":10,\"solidity\":0.2}},\"type\":\"histogram\"}],\"scattergl\":[{\"type\":\"scattergl\",\"marker\":{\"colorbar\":{\"outlinewidth\":0,\"ticks\":\"\"}}}],\"scatter3d\":[{\"type\":\"scatter3d\",\"line\":{\"colorbar\":{\"outlinewidth\":0,\"ticks\":\"\"}},\"marker\":{\"colorbar\":{\"outlinewidth\":0,\"ticks\":\"\"}}}],\"scattermapbox\":[{\"type\":\"scattermapbox\",\"marker\":{\"colorbar\":{\"outlinewidth\":0,\"ticks\":\"\"}}}],\"scatterternary\":[{\"type\":\"scatterternary\",\"marker\":{\"colorbar\":{\"outlinewidth\":0,\"ticks\":\"\"}}}],\"scattercarpet\":[{\"type\":\"scattercarpet\",\"marker\":{\"colorbar\":{\"outlinewidth\":0,\"ticks\":\"\"}}}],\"carpet\":[{\"aaxis\":{\"endlinecolor\":\"#2a3f5f\",\"gridcolor\":\"white\",\"linecolor\":\"white\",\"minorgridcolor\":\"white\",\"startlinecolor\":\"#2a3f5f\"},\"baxis\":{\"endlinecolor\":\"#2a3f5f\",\"gridcolor\":\"white\",\"linecolor\":\"white\",\"minorgridcolor\":\"white\",\"startlinecolor\":\"#2a3f5f\"},\"type\":\"carpet\"}],\"table\":[{\"cells\":{\"fill\":{\"color\":\"#EBF0F8\"},\"line\":{\"color\":\"white\"}},\"header\":{\"fill\":{\"color\":\"#C8D4E3\"},\"line\":{\"color\":\"white\"}},\"type\":\"table\"}],\"barpolar\":[{\"marker\":{\"line\":{\"color\":\"#E5ECF6\",\"width\":0.5},\"pattern\":{\"fillmode\":\"overlay\",\"size\":10,\"solidity\":0.2}},\"type\":\"barpolar\"}],\"pie\":[{\"automargin\":true,\"type\":\"pie\"}]},\"layout\":{\"autotypenumbers\":\"strict\",\"colorway\":[\"#636efa\",\"#EF553B\",\"#00cc96\",\"#ab63fa\",\"#FFA15A\",\"#19d3f3\",\"#FF6692\",\"#B6E880\",\"#FF97FF\",\"#FECB52\"],\"font\":{\"color\":\"#2a3f5f\"},\"hovermode\":\"closest\",\"hoverlabel\":{\"align\":\"left\"},\"paper_bgcolor\":\"white\",\"plot_bgcolor\":\"#E5ECF6\",\"polar\":{\"bgcolor\":\"#E5ECF6\",\"angularaxis\":{\"gridcolor\":\"white\",\"linecolor\":\"white\",\"ticks\":\"\"},\"radialaxis\":{\"gridcolor\":\"white\",\"linecolor\":\"white\",\"ticks\":\"\"}},\"ternary\":{\"bgcolor\":\"#E5ECF6\",\"aaxis\":{\"gridcolor\":\"white\",\"linecolor\":\"white\",\"ticks\":\"\"},\"baxis\":{\"gridcolor\":\"white\",\"linecolor\":\"white\",\"ticks\":\"\"},\"caxis\":{\"gridcolor\":\"white\",\"linecolor\":\"white\",\"ticks\":\"\"}},\"coloraxis\":{\"colorbar\":{\"outlinewidth\":0,\"ticks\":\"\"}},\"colorscale\":{\"sequential\":[[0.0,\"#0d0887\"],[0.1111111111111111,\"#46039f\"],[0.2222222222222222,\"#7201a8\"],[0.3333333333333333,\"#9c179e\"],[0.4444444444444444,\"#bd3786\"],[0.5555555555555556,\"#d8576b\"],[0.6666666666666666,\"#ed7953\"],[0.7777777777777778,\"#fb9f3a\"],[0.8888888888888888,\"#fdca26\"],[1.0,\"#f0f921\"]],\"sequentialminus\":[[0.0,\"#0d0887\"],[0.1111111111111111,\"#46039f\"],[0.2222222222222222,\"#7201a8\"],[0.3333333333333333,\"#9c179e\"],[0.4444444444444444,\"#bd3786\"],[0.5555555555555556,\"#d8576b\"],[0.6666666666666666,\"#ed7953\"],[0.7777777777777778,\"#fb9f3a\"],[0.8888888888888888,\"#fdca26\"],[1.0,\"#f0f921\"]],\"diverging\":[[0,\"#8e0152\"],[0.1,\"#c51b7d\"],[0.2,\"#de77ae\"],[0.3,\"#f1b6da\"],[0.4,\"#fde0ef\"],[0.5,\"#f7f7f7\"],[0.6,\"#e6f5d0\"],[0.7,\"#b8e186\"],[0.8,\"#7fbc41\"],[0.9,\"#4d9221\"],[1,\"#276419\"]]},\"xaxis\":{\"gridcolor\":\"white\",\"linecolor\":\"white\",\"ticks\":\"\",\"title\":{\"standoff\":15},\"zerolinecolor\":\"white\",\"automargin\":true,\"zerolinewidth\":2},\"yaxis\":{\"gridcolor\":\"white\",\"linecolor\":\"white\",\"ticks\":\"\",\"title\":{\"standoff\":15},\"zerolinecolor\":\"white\",\"automargin\":true,\"zerolinewidth\":2},\"scene\":{\"xaxis\":{\"backgroundcolor\":\"#E5ECF6\",\"gridcolor\":\"white\",\"linecolor\":\"white\",\"showbackground\":true,\"ticks\":\"\",\"zerolinecolor\":\"white\",\"gridwidth\":2},\"yaxis\":{\"backgroundcolor\":\"#E5ECF6\",\"gridcolor\":\"white\",\"linecolor\":\"white\",\"showbackground\":true,\"ticks\":\"\",\"zerolinecolor\":\"white\",\"gridwidth\":2},\"zaxis\":{\"backgroundcolor\":\"#E5ECF6\",\"gridcolor\":\"white\",\"linecolor\":\"white\",\"showbackground\":true,\"ticks\":\"\",\"zerolinecolor\":\"white\",\"gridwidth\":2}},\"shapedefaults\":{\"line\":{\"color\":\"#2a3f5f\"}},\"annotationdefaults\":{\"arrowcolor\":\"#2a3f5f\",\"arrowhead\":0,\"arrowwidth\":1},\"geo\":{\"bgcolor\":\"white\",\"landcolor\":\"#E5ECF6\",\"subunitcolor\":\"white\",\"showland\":true,\"showlakes\":true,\"lakecolor\":\"white\"},\"title\":{\"x\":0.05},\"mapbox\":{\"style\":\"light\"}}},\"xaxis\":{\"anchor\":\"y\",\"domain\":[0.0,1.0],\"title\":{\"text\":\"Firearm Mortality\"}},\"yaxis\":{\"anchor\":\"x\",\"domain\":[0.0,1.0],\"title\":{\"text\":\"Firearm Mortality Rate\"}},\"coloraxis\":{\"colorbar\":{\"title\":{\"text\":\"YEAR\"}},\"colorscale\":[[0.0,\"#0d0887\"],[0.1111111111111111,\"#46039f\"],[0.2222222222222222,\"#7201a8\"],[0.3333333333333333,\"#9c179e\"],[0.4444444444444444,\"#bd3786\"],[0.5555555555555556,\"#d8576b\"],[0.6666666666666666,\"#ed7953\"],[0.7777777777777778,\"#fb9f3a\"],[0.8888888888888888,\"#fdca26\"],[1.0,\"#f0f921\"]]},\"legend\":{\"tracegroupgap\":0},\"title\":{\"text\":\"Firearm Mortality Counts by Rate and Year\"},\"height\":500},                        {\"responsive\": true}                    ).then(function(){\n",
       "                            \n",
       "var gd = document.getElementById('5e2635c4-ec4a-4681-91cc-b38460f7e2ab');\n",
       "var x = new MutationObserver(function (mutations, observer) {{\n",
       "        var display = window.getComputedStyle(gd).display;\n",
       "        if (!display || display === 'none') {{\n",
       "            console.log([gd, 'removed!']);\n",
       "            Plotly.purge(gd);\n",
       "            observer.disconnect();\n",
       "        }}\n",
       "}});\n",
       "\n",
       "// Listen for the removal of the full notebook cells\n",
       "var notebookContainer = gd.closest('#notebook-container');\n",
       "if (notebookContainer) {{\n",
       "    x.observe(notebookContainer, {childList: true});\n",
       "}}\n",
       "\n",
       "// Listen for the clearing of the current output cell\n",
       "var outputEl = gd.closest('.output');\n",
       "if (outputEl) {{\n",
       "    x.observe(outputEl, {childList: true});\n",
       "}}\n",
       "\n",
       "                        })                };                });            </script>        </div>"
      ]
     },
     "metadata": {},
     "output_type": "display_data"
    }
   ],
   "source": [
    "# Firearm Mortality Counts by Rate and Year\n",
    "# plt.figure(figsize=(10,8))\n",
    "# sns.scatterplot(x = 'DEATHS', y = 'RATE', hue = 'YEAR', data = firearm_mortality, palette = 'copper')\n",
    "# plt.title('Firearm Mortality Counts by Rate and Year')\n",
    "# plt.xlabel('Firearm Mortality')\n",
    "# plt.ylabel('Firearm Mortality Rate')\n",
    "# plt.show()\n",
    "\n",
    "fig = px.scatter(firearm_mortality, x='DEATHS', y='RATE', color='YEAR',\n",
    "                 labels={'DEATHS': 'Firearm Mortality', 'RATE': 'Firearm Mortality Rate'},\n",
    "                 title='Firearm Mortality Counts by Rate and Year',\n",
    "                 template='plotly', height=500)\n",
    "fig.show()"
   ]
  },
  {
   "cell_type": "markdown",
   "id": "387c3a49-3e64-403b-a9b2-10a5f382dd0b",
   "metadata": {},
   "source": [
    "> Next we look at the chart above, put into the context of states"
   ]
  },
  {
   "cell_type": "code",
   "execution_count": 110,
   "id": "ce091230-6738-4fac-8b50-48bd9696582a",
   "metadata": {
    "tags": []
   },
   "outputs": [
    {
     "data": {
      "application/vnd.plotly.v1+json": {
       "config": {
        "plotlyServerURL": "https://plot.ly"
       },
       "data": [
        {
         "hovertemplate": "STATE=AL<br>Firearm Mortality=%{x}<br>Firearm Mortality Rate=%{y}<extra></extra>",
         "legendgroup": "AL",
         "marker": {
          "color": "#636efa",
          "symbol": "circle"
         },
         "mode": "markers",
         "name": "AL",
         "orientation": "v",
         "showlegend": true,
         "type": "scatter",
         "x": [
          1315,
          1141,
          1076,
          1064,
          1124,
          1046,
          958,
          815,
          736
         ],
         "xaxis": "x",
         "y": [
          26.4,
          23.6,
          22.2,
          21.8,
          22.9,
          21.5,
          19.6,
          16.9,
          16
         ],
         "yaxis": "y"
        },
        {
         "hovertemplate": "STATE=AK<br>Firearm Mortality=%{x}<br>Firearm Mortality Rate=%{y}<extra></extra>",
         "legendgroup": "AK",
         "marker": {
          "color": "#EF553B",
          "symbol": "circle"
         },
         "mode": "markers",
         "name": "AK",
         "orientation": "v",
         "showlegend": true,
         "type": "scatter",
         "x": [
          182,
          175,
          179,
          155,
          180,
          177,
          177,
          145,
          116
         ],
         "xaxis": "x",
         "y": [
          25.2,
          23.5,
          24.4,
          21,
          24.5,
          23.3,
          23.4,
          19.2,
          17.5
         ],
         "yaxis": "y"
        },
        {
         "hovertemplate": "STATE=AZ<br>Firearm Mortality=%{x}<br>Firearm Mortality Rate=%{y}<extra></extra>",
         "legendgroup": "AZ",
         "marker": {
          "color": "#00cc96",
          "symbol": "circle"
         },
         "mode": "markers",
         "name": "AZ",
         "orientation": "v",
         "showlegend": true,
         "type": "scatter",
         "x": [
          1365,
          1265,
          1136,
          1147,
          1134,
          1094,
          970,
          927,
          934
         ],
         "xaxis": "x",
         "y": [
          18.3,
          16.7,
          15.1,
          15.3,
          15.8,
          15.2,
          13.8,
          13.5,
          16.1
         ],
         "yaxis": "y"
        },
        {
         "hovertemplate": "STATE=AR<br>Firearm Mortality=%{x}<br>Firearm Mortality Rate=%{y}<extra></extra>",
         "legendgroup": "AR",
         "marker": {
          "color": "#ab63fa",
          "symbol": "circle"
         },
         "mode": "markers",
         "name": "AR",
         "orientation": "v",
         "showlegend": true,
         "type": "scatter",
         "x": [
          698,
          673,
          580,
          573,
          613,
          541,
          520,
          496,
          439
         ],
         "xaxis": "x",
         "y": [
          23.3,
          22.6,
          19.3,
          18.9,
          20.3,
          17.8,
          16.9,
          16.6,
          15.7
         ],
         "yaxis": "y"
        },
        {
         "hovertemplate": "STATE=CA<br>Firearm Mortality=%{x}<br>Firearm Mortality Rate=%{y}<extra></extra>",
         "legendgroup": "CA",
         "marker": {
          "color": "#FFA15A",
          "symbol": "circle"
         },
         "mode": "markers",
         "name": "CA",
         "orientation": "v",
         "showlegend": true,
         "type": "scatter",
         "x": [
          3576,
          3449,
          2945,
          3040,
          3184,
          3184,
          3095,
          2942,
          3453
         ],
         "xaxis": "x",
         "y": [
          9,
          8.5,
          7.2,
          7.5,
          7.9,
          7.9,
          7.7,
          7.4,
          9.5
         ],
         "yaxis": "y"
        },
        {
         "hovertemplate": "STATE=CO<br>Firearm Mortality=%{x}<br>Firearm Mortality Rate=%{y}<extra></extra>",
         "legendgroup": "CO",
         "marker": {
          "color": "#19d3f3",
          "symbol": "circle"
         },
         "mode": "markers",
         "name": "CO",
         "orientation": "v",
         "showlegend": true,
         "type": "scatter",
         "x": [
          1064,
          922,
          846,
          889,
          779,
          812,
          701,
          663,
          535
         ],
         "xaxis": "x",
         "y": [
          17.8,
          15.4,
          14.2,
          15.2,
          13.4,
          14.3,
          12.6,
          12.2,
          11.6
         ],
         "yaxis": "y"
        },
        {
         "hovertemplate": "STATE=CT<br>Firearm Mortality=%{x}<br>Firearm Mortality Rate=%{y}<extra></extra>",
         "legendgroup": "CT",
         "marker": {
          "color": "#FF6692",
          "symbol": "circle"
         },
         "mode": "markers",
         "name": "CT",
         "orientation": "v",
         "showlegend": true,
         "type": "scatter",
         "x": [
          248,
          219,
          190,
          186,
          188,
          172,
          189,
          187,
          187
         ],
         "xaxis": "x",
         "y": [
          6.7,
          6,
          5.3,
          4.9,
          5.1,
          4.6,
          5.3,
          5,
          5.3
         ],
         "yaxis": "y"
        },
        {
         "hovertemplate": "STATE=DE<br>Firearm Mortality=%{x}<br>Firearm Mortality Rate=%{y}<extra></extra>",
         "legendgroup": "DE",
         "marker": {
          "color": "#B6E880",
          "symbol": "circle"
         },
         "mode": "markers",
         "name": "DE",
         "orientation": "v",
         "showlegend": true,
         "type": "scatter",
         "x": [
          158,
          135,
          93,
          107,
          111,
          111,
          112,
          102,
          75
         ],
         "xaxis": "x",
         "y": [
          16.6,
          14.4,
          9.9,
          11.6,
          11.7,
          11,
          12.1,
          11.1,
          8.8
         ],
         "yaxis": "y"
        },
        {
         "hovertemplate": "STATE=FL<br>Firearm Mortality=%{x}<br>Firearm Mortality Rate=%{y}<extra></extra>",
         "legendgroup": "FL",
         "marker": {
          "color": "#FF97FF",
          "symbol": "circle"
         },
         "mode": "markers",
         "name": "FL",
         "orientation": "v",
         "showlegend": true,
         "type": "scatter",
         "x": [
          3142,
          3041,
          2872,
          2902,
          2724,
          2704,
          2559,
          2410,
          1838
         ],
         "xaxis": "x",
         "y": [
          14.1,
          13.7,
          12.7,
          12.9,
          12.4,
          12.6,
          12,
          11.5,
          10
         ],
         "yaxis": "y"
        },
        {
         "hovertemplate": "STATE=GA<br>Firearm Mortality=%{x}<br>Firearm Mortality Rate=%{y}<extra></extra>",
         "legendgroup": "GA",
         "marker": {
          "color": "#FECB52",
          "symbol": "circle"
         },
         "mode": "markers",
         "name": "GA",
         "orientation": "v",
         "showlegend": true,
         "type": "scatter",
         "x": [
          2200,
          1897,
          1695,
          1680,
          1623,
          1571,
          1448,
          1391,
          1064
         ],
         "xaxis": "x",
         "y": [
          20.3,
          17.7,
          15.8,
          15.7,
          15.4,
          15,
          14.1,
          13.7,
          12.1
         ],
         "yaxis": "y"
        },
        {
         "hovertemplate": "STATE=HI<br>Firearm Mortality=%{x}<br>Firearm Mortality Rate=%{y}<extra></extra>",
         "legendgroup": "HI",
         "marker": {
          "color": "#636efa",
          "symbol": "circle"
         },
         "mode": "markers",
         "name": "HI",
         "orientation": "v",
         "showlegend": true,
         "type": "scatter",
         "x": [
          71,
          50,
          62,
          59,
          39,
          66,
          55,
          40,
          28
         ],
         "xaxis": "x",
         "y": [
          4.8,
          3.4,
          4.4,
          4,
          2.5,
          4.5,
          3.6,
          2.6,
          2.1
         ],
         "yaxis": "y"
        },
        {
         "hovertemplate": "STATE=ID<br>Firearm Mortality=%{x}<br>Firearm Mortality Rate=%{y}<extra></extra>",
         "legendgroup": "ID",
         "marker": {
          "color": "#EF553B",
          "symbol": "circle"
         },
         "mode": "markers",
         "name": "ID",
         "orientation": "v",
         "showlegend": true,
         "type": "scatter",
         "x": [
          309,
          321,
          255,
          294,
          280,
          242,
          247,
          213,
          195
         ],
         "xaxis": "x",
         "y": [
          16.3,
          17.6,
          14.2,
          16.6,
          16.4,
          14.6,
          14.7,
          13.2,
          14.1
         ],
         "yaxis": "y"
        },
        {
         "hovertemplate": "STATE=IL<br>Firearm Mortality=%{x}<br>Firearm Mortality Rate=%{y}<extra></extra>",
         "legendgroup": "IL",
         "marker": {
          "color": "#00cc96",
          "symbol": "circle"
         },
         "mode": "markers",
         "name": "IL",
         "orientation": "v",
         "showlegend": true,
         "type": "scatter",
         "x": [
          1995,
          1745,
          1367,
          1382,
          1543,
          1490,
          1220,
          1179,
          1019
         ],
         "xaxis": "x",
         "y": [
          16.1,
          14.1,
          10.8,
          10.9,
          12.1,
          11.7,
          9.5,
          9,
          8
         ],
         "yaxis": "y"
        },
        {
         "hovertemplate": "STATE=IN<br>Firearm Mortality=%{x}<br>Firearm Mortality Rate=%{y}<extra></extra>",
         "legendgroup": "IN",
         "marker": {
          "color": "#ab63fa",
          "symbol": "circle"
         },
         "mode": "markers",
         "name": "IN",
         "orientation": "v",
         "showlegend": true,
         "type": "scatter",
         "x": [
          1251,
          1159,
          958,
          977,
          1016,
          997,
          846,
          818,
          705
         ],
         "xaxis": "x",
         "y": [
          18.4,
          17.3,
          14.1,
          14.7,
          15.3,
          15,
          12.7,
          12.4,
          11.2
         ],
         "yaxis": "y"
        },
        {
         "hovertemplate": "STATE=IA<br>Firearm Mortality=%{x}<br>Firearm Mortality Rate=%{y}<extra></extra>",
         "legendgroup": "IA",
         "marker": {
          "color": "#FFA15A",
          "symbol": "circle"
         },
         "mode": "markers",
         "name": "IA",
         "orientation": "v",
         "showlegend": true,
         "type": "scatter",
         "x": [
          364,
          351,
          294,
          282,
          293,
          288,
          247,
          241,
          201
         ],
         "xaxis": "x",
         "y": [
          11.2,
          11.2,
          9.1,
          8.7,
          9,
          9.2,
          7.8,
          7.5,
          6.7
         ],
         "yaxis": "y"
        },
        {
         "hovertemplate": "STATE=KS<br>Firearm Mortality=%{x}<br>Firearm Mortality Rate=%{y}<extra></extra>",
         "legendgroup": "KS",
         "marker": {
          "color": "#19d3f3",
          "symbol": "circle"
         },
         "mode": "markers",
         "name": "KS",
         "orientation": "v",
         "showlegend": true,
         "type": "scatter",
         "x": [
          503,
          494,
          403,
          424,
          466,
          383,
          330,
          329,
          257
         ],
         "xaxis": "x",
         "y": [
          17.3,
          16.9,
          13.7,
          14.8,
          16,
          13.4,
          11.4,
          11.3,
          9.3
         ],
         "yaxis": "y"
        },
        {
         "hovertemplate": "STATE=KY<br>Firearm Mortality=%{x}<br>Firearm Mortality Rate=%{y}<extra></extra>",
         "legendgroup": "KY",
         "marker": {
          "color": "#FF6692",
          "symbol": "circle"
         },
         "mode": "markers",
         "name": "KY",
         "orientation": "v",
         "showlegend": true,
         "type": "scatter",
         "x": [
          947,
          902,
          682,
          762,
          730,
          772,
          694,
          634,
          548
         ],
         "xaxis": "x",
         "y": [
          21.1,
          20.1,
          14.9,
          16.9,
          16.2,
          17.5,
          15.2,
          13.9,
          13
         ],
         "yaxis": "y"
        },
        {
         "hovertemplate": "STATE=LA<br>Firearm Mortality=%{x}<br>Firearm Mortality Rate=%{y}<extra></extra>",
         "legendgroup": "LA",
         "marker": {
          "color": "#B6E880",
          "symbol": "circle"
         },
         "mode": "markers",
         "name": "LA",
         "orientation": "v",
         "showlegend": true,
         "type": "scatter",
         "x": [
          1314,
          1183,
          1013,
          991,
          1008,
          987,
          952,
          896,
          858
         ],
         "xaxis": "x",
         "y": [
          29.1,
          26.3,
          22.1,
          21.4,
          21.7,
          21.3,
          20.4,
          19,
          18.5
         ],
         "yaxis": "y"
        },
        {
         "hovertemplate": "STATE=ME<br>Firearm Mortality=%{x}<br>Firearm Mortality Rate=%{y}<extra></extra>",
         "legendgroup": "ME",
         "marker": {
          "color": "#FF97FF",
          "symbol": "circle"
         },
         "mode": "markers",
         "name": "ME",
         "orientation": "v",
         "showlegend": true,
         "type": "scatter",
         "x": [
          178,
          153,
          163,
          159,
          172,
          123,
          144,
          133,
          109
         ],
         "xaxis": "x",
         "y": [
          12.6,
          10.4,
          11.5,
          10.3,
          11.7,
          8.3,
          9.8,
          9.4,
          7.8
         ],
         "yaxis": "y"
        },
        {
         "hovertemplate": "STATE=MD<br>Firearm Mortality=%{x}<br>Firearm Mortality Rate=%{y}<extra></extra>",
         "legendgroup": "MD",
         "marker": {
          "color": "#FECB52",
          "symbol": "circle"
         },
         "mode": "markers",
         "name": "MD",
         "orientation": "v",
         "showlegend": true,
         "type": "scatter",
         "x": [
          915,
          803,
          757,
          707,
          742,
          707,
          708,
          546,
          657
         ],
         "xaxis": "x",
         "y": [
          15.2,
          13.5,
          12.6,
          11.7,
          12.3,
          11.9,
          11.9,
          9,
          11.9
         ],
         "yaxis": "y"
        },
        {
         "hovertemplate": "STATE=MA<br>Firearm Mortality=%{x}<br>Firearm Mortality Rate=%{y}<extra></extra>",
         "legendgroup": "MA",
         "marker": {
          "color": "#636efa",
          "symbol": "circle"
         },
         "mode": "markers",
         "name": "MA",
         "orientation": "v",
         "showlegend": true,
         "type": "scatter",
         "x": [
          247,
          268,
          247,
          258,
          262,
          242,
          213,
          226,
          224
         ],
         "xaxis": "x",
         "y": [
          3.4,
          3.7,
          3.4,
          3.5,
          3.7,
          3.4,
          3,
          3.2,
          3.4
         ],
         "yaxis": "y"
        },
        {
         "hovertemplate": "STATE=MI<br>Firearm Mortality=%{x}<br>Firearm Mortality Rate=%{y}<extra></extra>",
         "legendgroup": "MI",
         "marker": {
          "color": "#EF553B",
          "symbol": "circle"
         },
         "mode": "markers",
         "name": "MI",
         "orientation": "v",
         "showlegend": true,
         "type": "scatter",
         "x": [
          1544,
          1454,
          1220,
          1310,
          1138,
          1230,
          1164,
          1095,
          1074
         ],
         "xaxis": "x",
         "y": [
          15.4,
          14.6,
          12.1,
          12.9,
          11.3,
          12.3,
          11.7,
          11.1,
          10.8
         ],
         "yaxis": "y"
        },
        {
         "hovertemplate": "STATE=MN<br>Firearm Mortality=%{x}<br>Firearm Mortality Rate=%{y}<extra></extra>",
         "legendgroup": "MN",
         "marker": {
          "color": "#00cc96",
          "symbol": "circle"
         },
         "mode": "markers",
         "name": "MN",
         "orientation": "v",
         "showlegend": true,
         "type": "scatter",
         "x": [
          573,
          513,
          465,
          437,
          465,
          432,
          410,
          377,
          361
         ],
         "xaxis": "x",
         "y": [
          10,
          8.9,
          8.1,
          7.8,
          8.2,
          7.6,
          7.4,
          6.6,
          7
         ],
         "yaxis": "y"
        },
        {
         "hovertemplate": "STATE=MS<br>Firearm Mortality=%{x}<br>Firearm Mortality Rate=%{y}<extra></extra>",
         "legendgroup": "MS",
         "marker": {
          "color": "#ab63fa",
          "symbol": "circle"
         },
         "mode": "markers",
         "name": "MS",
         "orientation": "v",
         "showlegend": true,
         "type": "scatter",
         "x": [
          962,
          818,
          710,
          681,
          632,
          587,
          589,
          547,
          455
         ],
         "xaxis": "x",
         "y": [
          33.9,
          28.6,
          24.2,
          22.9,
          21.5,
          19.9,
          19.6,
          18.3,
          16
         ],
         "yaxis": "y"
        },
        {
         "hovertemplate": "STATE=MO<br>Firearm Mortality=%{x}<br>Firearm Mortality Rate=%{y}<extra></extra>",
         "legendgroup": "MO",
         "marker": {
          "color": "#FFA15A",
          "symbol": "circle"
         },
         "mode": "markers",
         "name": "MO",
         "orientation": "v",
         "showlegend": true,
         "type": "scatter",
         "x": [
          1414,
          1426,
          1252,
          1311,
          1307,
          1144,
          1094,
          943,
          752
         ],
         "xaxis": "x",
         "y": [
          23.2,
          23.9,
          20.6,
          21.5,
          21.5,
          19,
          18.1,
          15.3,
          12.9
         ],
         "yaxis": "y"
        },
        {
         "hovertemplate": "STATE=MT<br>Firearm Mortality=%{x}<br>Firearm Mortality Rate=%{y}<extra></extra>",
         "legendgroup": "MT",
         "marker": {
          "color": "#19d3f3",
          "symbol": "circle"
         },
         "mode": "markers",
         "name": "MT",
         "orientation": "v",
         "showlegend": true,
         "type": "scatter",
         "x": [
          280,
          238,
          209,
          186,
          244,
          194,
          205,
          172,
          161
         ],
         "xaxis": "x",
         "y": [
          25.1,
          20.9,
          19,
          17.3,
          22.5,
          18.9,
          19.2,
          16.1,
          16.9
         ],
         "yaxis": "y"
        },
        {
         "hovertemplate": "STATE=NE<br>Firearm Mortality=%{x}<br>Firearm Mortality Rate=%{y}<extra></extra>",
         "legendgroup": "NE",
         "marker": {
          "color": "#FF6692",
          "symbol": "circle"
         },
         "mode": "markers",
         "name": "NE",
         "orientation": "v",
         "showlegend": true,
         "type": "scatter",
         "x": [
          200,
          197,
          205,
          183,
          160,
          171,
          169,
          179,
          135
         ],
         "xaxis": "x",
         "y": [
          10.3,
          10.1,
          10.4,
          9,
          8.3,
          9.1,
          8.9,
          9.5,
          7.7
         ],
         "yaxis": "y"
        },
        {
         "hovertemplate": "STATE=NV<br>Firearm Mortality=%{x}<br>Firearm Mortality Rate=%{y}<extra></extra>",
         "legendgroup": "NV",
         "marker": {
          "color": "#B6E880",
          "symbol": "circle"
         },
         "mode": "markers",
         "name": "NV",
         "orientation": "v",
         "showlegend": true,
         "type": "scatter",
         "x": [
          633,
          547,
          490,
          550,
          508,
          498,
          446,
          429,
          390
         ],
         "xaxis": "x",
         "y": [
          19.8,
          17,
          15.3,
          17.9,
          16.7,
          16.8,
          14.9,
          14.8,
          16.1
         ],
         "yaxis": "y"
        },
        {
         "hovertemplate": "STATE=NH<br>Firearm Mortality=%{x}<br>Firearm Mortality Rate=%{y}<extra></extra>",
         "legendgroup": "NH",
         "marker": {
          "color": "#FF97FF",
          "symbol": "circle"
         },
         "mode": "markers",
         "name": "NH",
         "orientation": "v",
         "showlegend": true,
         "type": "scatter",
         "x": [
          123,
          128,
          156,
          155,
          146,
          132,
          121,
          122,
          88
         ],
         "xaxis": "x",
         "y": [
          8.3,
          8.9,
          10.7,
          10.8,
          10.4,
          9.3,
          8.9,
          8.7,
          6.6
         ],
         "yaxis": "y"
        },
        {
         "hovertemplate": "STATE=NJ<br>Firearm Mortality=%{x}<br>Firearm Mortality Rate=%{y}<extra></extra>",
         "legendgroup": "NJ",
         "marker": {
          "color": "#FECB52",
          "symbol": "circle"
         },
         "mode": "markers",
         "name": "NJ",
         "orientation": "v",
         "showlegend": true,
         "type": "scatter",
         "x": [
          475,
          443,
          368,
          420,
          478,
          485,
          475,
          468,
          434
         ],
         "xaxis": "x",
         "y": [
          5.2,
          5,
          4.1,
          4.8,
          5.3,
          5.5,
          5.4,
          5.3,
          5.2
         ],
         "yaxis": "y"
        },
        {
         "hovertemplate": "STATE=NM<br>Firearm Mortality=%{x}<br>Firearm Mortality Rate=%{y}<extra></extra>",
         "legendgroup": "NM",
         "marker": {
          "color": "#636efa",
          "symbol": "circle"
         },
         "mode": "markers",
         "name": "NM",
         "orientation": "v",
         "showlegend": true,
         "type": "scatter",
         "x": [
          578,
          479,
          471,
          438,
          394,
          383,
          390,
          340,
          267
         ],
         "xaxis": "x",
         "y": [
          27.8,
          22.7,
          22.3,
          20.7,
          18.5,
          18.1,
          18.6,
          16,
          13.9
         ],
         "yaxis": "y"
        },
        {
         "hovertemplate": "STATE=NY<br>Firearm Mortality=%{x}<br>Firearm Mortality Rate=%{y}<extra></extra>",
         "legendgroup": "NY",
         "marker": {
          "color": "#EF553B",
          "symbol": "circle"
         },
         "mode": "markers",
         "name": "NY",
         "orientation": "v",
         "showlegend": true,
         "type": "scatter",
         "x": [
          1078,
          1052,
          804,
          821,
          772,
          900,
          849,
          875,
          1019
         ],
         "xaxis": "x",
         "y": [
          5.4,
          5.3,
          3.9,
          4.1,
          3.7,
          4.4,
          4.2,
          4.2,
          5.3
         ],
         "yaxis": "y"
        },
        {
         "hovertemplate": "STATE=NC<br>Firearm Mortality=%{x}<br>Firearm Mortality Rate=%{y}<extra></extra>",
         "legendgroup": "NC",
         "marker": {
          "color": "#00cc96",
          "symbol": "circle"
         },
         "mode": "markers",
         "name": "NC",
         "orientation": "v",
         "showlegend": true,
         "type": "scatter",
         "x": [
          1839,
          1699,
          1397,
          1416,
          1430,
          1409,
          1289,
          1206,
          1119
         ],
         "xaxis": "x",
         "y": [
          17.3,
          16,
          13.1,
          13.3,
          13.7,
          13.7,
          12.5,
          11.8,
          12.8
         ],
         "yaxis": "y"
        },
        {
         "hovertemplate": "STATE=ND<br>Firearm Mortality=%{x}<br>Firearm Mortality Rate=%{y}<extra></extra>",
         "legendgroup": "ND",
         "marker": {
          "color": "#ab63fa",
          "symbol": "circle"
         },
         "mode": "markers",
         "name": "ND",
         "orientation": "v",
         "showlegend": true,
         "type": "scatter",
         "x": [
          128,
          100,
          93,
          89,
          103,
          90,
          92,
          96,
          61
         ],
         "xaxis": "x",
         "y": [
          16.8,
          13.8,
          12.4,
          11.5,
          13.2,
          11.9,
          12.8,
          12.3,
          8.8
         ],
         "yaxis": "y"
        },
        {
         "hovertemplate": "STATE=OH<br>Firearm Mortality=%{x}<br>Firearm Mortality Rate=%{y}<extra></extra>",
         "legendgroup": "OH",
         "marker": {
          "color": "#FFA15A",
          "symbol": "circle"
         },
         "mode": "markers",
         "name": "OH",
         "orientation": "v",
         "showlegend": true,
         "type": "scatter",
         "x": [
          1911,
          1764,
          1578,
          1555,
          1589,
          1524,
          1397,
          1211,
          1116
         ],
         "xaxis": "x",
         "y": [
          16.5,
          15.2,
          13.3,
          13.1,
          13.7,
          12.9,
          11.9,
          10.3,
          9.6
         ],
         "yaxis": "y"
        },
        {
         "hovertemplate": "STATE=OK<br>Firearm Mortality=%{x}<br>Firearm Mortality Rate=%{y}<extra></extra>",
         "legendgroup": "OK",
         "marker": {
          "color": "#19d3f3",
          "symbol": "circle"
         },
         "mode": "markers",
         "name": "OK",
         "orientation": "v",
         "showlegend": true,
         "type": "scatter",
         "x": [
          836,
          826,
          737,
          665,
          681,
          766,
          706,
          611,
          468
         ],
         "xaxis": "x",
         "y": [
          21.2,
          20.7,
          18.6,
          16.8,
          17.2,
          19.6,
          18,
          15.7,
          13.2
         ],
         "yaxis": "y"
        },
        {
         "hovertemplate": "STATE=OR<br>Firearm Mortality=%{x}<br>Firearm Mortality Rate=%{y}<extra></extra>",
         "legendgroup": "OR",
         "marker": {
          "color": "#FF6692",
          "symbol": "circle"
         },
         "mode": "markers",
         "name": "OR",
         "orientation": "v",
         "showlegend": true,
         "type": "scatter",
         "x": [
          670,
          592,
          566,
          519,
          528,
          513,
          486,
          497,
          402
         ],
         "xaxis": "x",
         "y": [
          14.9,
          13,
          12.6,
          11.7,
          12.1,
          11.9,
          11.4,
          11.7,
          10.7
         ],
         "yaxis": "y"
        },
        {
         "hovertemplate": "STATE=PA<br>Firearm Mortality=%{x}<br>Firearm Mortality Rate=%{y}<extra></extra>",
         "legendgroup": "PA",
         "marker": {
          "color": "#B6E880",
          "symbol": "circle"
         },
         "mode": "markers",
         "name": "PA",
         "orientation": "v",
         "showlegend": true,
         "type": "scatter",
         "x": [
          1905,
          1752,
          1541,
          1654,
          1636,
          1555,
          1485,
          1390,
          1352
         ],
         "xaxis": "x",
         "y": [
          14.8,
          13.6,
          11.7,
          12.5,
          12.5,
          12,
          11.4,
          10.5,
          10.8
         ],
         "yaxis": "y"
        },
        {
         "hovertemplate": "STATE=RI<br>Firearm Mortality=%{x}<br>Firearm Mortality Rate=%{y}<extra></extra>",
         "legendgroup": "RI",
         "marker": {
          "color": "#FF97FF",
          "symbol": "circle"
         },
         "mode": "markers",
         "name": "RI",
         "orientation": "v",
         "showlegend": true,
         "type": "scatter",
         "x": [
          64,
          54,
          48,
          37,
          43,
          49,
          51,
          34,
          39
         ],
         "xaxis": "x",
         "y": [
          5.6,
          5.1,
          4.6,
          3.3,
          3.9,
          4.1,
          4.7,
          3,
          3.6
         ],
         "yaxis": "y"
        },
        {
         "hovertemplate": "STATE=SC<br>Firearm Mortality=%{x}<br>Firearm Mortality Rate=%{y}<extra></extra>",
         "legendgroup": "SC",
         "marker": {
          "color": "#FECB52",
          "symbol": "circle"
         },
         "mode": "markers",
         "name": "SC",
         "orientation": "v",
         "showlegend": true,
         "type": "scatter",
         "x": [
          1136,
          1131,
          1012,
          895,
          893,
          891,
          850,
          767,
          589
         ],
         "xaxis": "x",
         "y": [
          22.4,
          22,
          19.9,
          17.6,
          17.7,
          17.7,
          17.3,
          15.5,
          13.8
         ],
         "yaxis": "y"
        },
        {
         "hovertemplate": "STATE=SD<br>Firearm Mortality=%{x}<br>Firearm Mortality Rate=%{y}<extra></extra>",
         "legendgroup": "SD",
         "marker": {
          "color": "#636efa",
          "symbol": "circle"
         },
         "mode": "markers",
         "name": "SD",
         "orientation": "v",
         "showlegend": true,
         "type": "scatter",
         "x": [
          128,
          120,
          113,
          117,
          101,
          108,
          96,
          89,
          82
         ],
         "xaxis": "x",
         "y": [
          14.3,
          13.6,
          13.1,
          13.6,
          11.9,
          13.4,
          11.1,
          10.3,
          10.2
         ],
         "yaxis": "y"
        },
        {
         "hovertemplate": "STATE=TN<br>Firearm Mortality=%{x}<br>Firearm Mortality Rate=%{y}<extra></extra>",
         "legendgroup": "TN",
         "marker": {
          "color": "#EF553B",
          "symbol": "circle"
         },
         "mode": "markers",
         "name": "TN",
         "orientation": "v",
         "showlegend": true,
         "type": "scatter",
         "x": [
          1569,
          1473,
          1270,
          1228,
          1246,
          1148,
          1075,
          1016,
          976
         ],
         "xaxis": "x",
         "y": [
          22.8,
          21.3,
          18.4,
          17.8,
          18.4,
          17.1,
          16,
          15.1,
          16
         ],
         "yaxis": "y"
        },
        {
         "hovertemplate": "STATE=TX<br>Firearm Mortality=%{x}<br>Firearm Mortality Rate=%{y}<extra></extra>",
         "legendgroup": "TX",
         "marker": {
          "color": "#00cc96",
          "symbol": "circle"
         },
         "mode": "markers",
         "name": "TX",
         "orientation": "v",
         "showlegend": true,
         "type": "scatter",
         "x": [
          4613,
          4164,
          3683,
          3522,
          3513,
          3353,
          3203,
          2848,
          2490
         ],
         "xaxis": "x",
         "y": [
          15.6,
          14.2,
          12.7,
          12.2,
          12.4,
          12.1,
          11.7,
          10.7,
          11.1
         ],
         "yaxis": "y"
        },
        {
         "hovertemplate": "STATE=UT<br>Firearm Mortality=%{x}<br>Firearm Mortality Rate=%{y}<extra></extra>",
         "legendgroup": "UT",
         "marker": {
          "color": "#ab63fa",
          "symbol": "circle"
         },
         "mode": "markers",
         "name": "UT",
         "orientation": "v",
         "showlegend": true,
         "type": "scatter",
         "x": [
          450,
          429,
          394,
          397,
          410,
          370,
          367,
          337,
          227
         ],
         "xaxis": "x",
         "y": [
          13.9,
          13.6,
          12.8,
          13.2,
          14,
          12.9,
          12.8,
          12.3,
          10.1
         ],
         "yaxis": "y"
        },
        {
         "hovertemplate": "STATE=VT<br>Firearm Mortality=%{x}<br>Firearm Mortality Rate=%{y}<extra></extra>",
         "legendgroup": "VT",
         "marker": {
          "color": "#FFA15A",
          "symbol": "circle"
         },
         "mode": "markers",
         "name": "VT",
         "orientation": "v",
         "showlegend": true,
         "type": "scatter",
         "x": [
          83,
          76,
          67,
          82,
          70,
          78,
          70,
          69,
          44
         ],
         "xaxis": "x",
         "y": [
          11.9,
          11.6,
          9.3,
          12.8,
          11.7,
          11.1,
          9.6,
          10.3,
          6.8
         ],
         "yaxis": "y"
        },
        {
         "hovertemplate": "STATE=VA<br>Firearm Mortality=%{x}<br>Firearm Mortality Rate=%{y}<extra></extra>",
         "legendgroup": "VA",
         "marker": {
          "color": "#19d3f3",
          "symbol": "circle"
         },
         "mode": "markers",
         "name": "VA",
         "orientation": "v",
         "showlegend": true,
         "type": "scatter",
         "x": [
          1248,
          1174,
          1025,
          1035,
          1041,
          1049,
          946,
          889,
          888
         ],
         "xaxis": "x",
         "y": [
          14.3,
          13.4,
          11.7,
          11.8,
          11.9,
          12.1,
          10.9,
          10.3,
          11.5
         ],
         "yaxis": "y"
        },
        {
         "hovertemplate": "STATE=WA<br>Firearm Mortality=%{x}<br>Firearm Mortality Rate=%{y}<extra></extra>",
         "legendgroup": "WA",
         "marker": {
          "color": "#FF6692",
          "symbol": "circle"
         },
         "mode": "markers",
         "name": "WA",
         "orientation": "v",
         "showlegend": true,
         "type": "scatter",
         "x": [
          896,
          864,
          842,
          809,
          849,
          686,
          718,
          702,
          567
         ],
         "xaxis": "x",
         "y": [
          11.2,
          10.9,
          10.7,
          10.4,
          11.1,
          9,
          9.8,
          9.7,
          8.8
         ],
         "yaxis": "y"
        },
        {
         "hovertemplate": "STATE=WV<br>Firearm Mortality=%{x}<br>Firearm Mortality Rate=%{y}<extra></extra>",
         "legendgroup": "WV",
         "marker": {
          "color": "#B6E880",
          "symbol": "circle"
         },
         "mode": "markers",
         "name": "WV",
         "orientation": "v",
         "showlegend": true,
         "type": "scatter",
         "x": [
          319,
          325,
          300,
          343,
          348,
          332,
          278,
          286,
          261
         ],
         "xaxis": "x",
         "y": [
          17.3,
          18.1,
          16.6,
          18.2,
          18.6,
          17.5,
          14,
          14.6,
          13.8
         ],
         "yaxis": "y"
        },
        {
         "hovertemplate": "STATE=WI<br>Firearm Mortality=%{x}<br>Firearm Mortality Rate=%{y}<extra></extra>",
         "legendgroup": "WI",
         "marker": {
          "color": "#FF97FF",
          "symbol": "circle"
         },
         "mode": "markers",
         "name": "WI",
         "orientation": "v",
         "showlegend": true,
         "type": "scatter",
         "x": [
          793,
          717,
          604,
          598,
          624,
          664,
          613,
          487,
          474
         ],
         "xaxis": "x",
         "y": [
          13.5,
          12.2,
          10,
          10.1,
          10.6,
          11.4,
          10.4,
          8.2,
          8.5
         ],
         "yaxis": "y"
        },
        {
         "hovertemplate": "STATE=WY<br>Firearm Mortality=%{x}<br>Firearm Mortality Rate=%{y}<extra></extra>",
         "legendgroup": "WY",
         "marker": {
          "color": "#FECB52",
          "symbol": "circle"
         },
         "mode": "markers",
         "name": "WY",
         "orientation": "v",
         "showlegend": true,
         "type": "scatter",
         "x": [
          155,
          154,
          133,
          124,
          113,
          101,
          113,
          93,
          71
         ],
         "xaxis": "x",
         "y": [
          26.1,
          25.9,
          22.3,
          21.5,
          18.8,
          17.4,
          19.6,
          16.2,
          13.4
         ],
         "yaxis": "y"
        }
       ],
       "layout": {
        "autosize": true,
        "legend": {
         "title": {
          "text": "STATE"
         },
         "tracegroupgap": 0
        },
        "template": {
         "data": {
          "bar": [
           {
            "error_x": {
             "color": "#2a3f5f"
            },
            "error_y": {
             "color": "#2a3f5f"
            },
            "marker": {
             "line": {
              "color": "#E5ECF6",
              "width": 0.5
             },
             "pattern": {
              "fillmode": "overlay",
              "size": 10,
              "solidity": 0.2
             }
            },
            "type": "bar"
           }
          ],
          "barpolar": [
           {
            "marker": {
             "line": {
              "color": "#E5ECF6",
              "width": 0.5
             },
             "pattern": {
              "fillmode": "overlay",
              "size": 10,
              "solidity": 0.2
             }
            },
            "type": "barpolar"
           }
          ],
          "carpet": [
           {
            "aaxis": {
             "endlinecolor": "#2a3f5f",
             "gridcolor": "white",
             "linecolor": "white",
             "minorgridcolor": "white",
             "startlinecolor": "#2a3f5f"
            },
            "baxis": {
             "endlinecolor": "#2a3f5f",
             "gridcolor": "white",
             "linecolor": "white",
             "minorgridcolor": "white",
             "startlinecolor": "#2a3f5f"
            },
            "type": "carpet"
           }
          ],
          "choropleth": [
           {
            "colorbar": {
             "outlinewidth": 0,
             "ticks": ""
            },
            "type": "choropleth"
           }
          ],
          "contour": [
           {
            "colorbar": {
             "outlinewidth": 0,
             "ticks": ""
            },
            "colorscale": [
             [
              0,
              "#0d0887"
             ],
             [
              0.1111111111111111,
              "#46039f"
             ],
             [
              0.2222222222222222,
              "#7201a8"
             ],
             [
              0.3333333333333333,
              "#9c179e"
             ],
             [
              0.4444444444444444,
              "#bd3786"
             ],
             [
              0.5555555555555556,
              "#d8576b"
             ],
             [
              0.6666666666666666,
              "#ed7953"
             ],
             [
              0.7777777777777778,
              "#fb9f3a"
             ],
             [
              0.8888888888888888,
              "#fdca26"
             ],
             [
              1,
              "#f0f921"
             ]
            ],
            "type": "contour"
           }
          ],
          "contourcarpet": [
           {
            "colorbar": {
             "outlinewidth": 0,
             "ticks": ""
            },
            "type": "contourcarpet"
           }
          ],
          "heatmap": [
           {
            "colorbar": {
             "outlinewidth": 0,
             "ticks": ""
            },
            "colorscale": [
             [
              0,
              "#0d0887"
             ],
             [
              0.1111111111111111,
              "#46039f"
             ],
             [
              0.2222222222222222,
              "#7201a8"
             ],
             [
              0.3333333333333333,
              "#9c179e"
             ],
             [
              0.4444444444444444,
              "#bd3786"
             ],
             [
              0.5555555555555556,
              "#d8576b"
             ],
             [
              0.6666666666666666,
              "#ed7953"
             ],
             [
              0.7777777777777778,
              "#fb9f3a"
             ],
             [
              0.8888888888888888,
              "#fdca26"
             ],
             [
              1,
              "#f0f921"
             ]
            ],
            "type": "heatmap"
           }
          ],
          "heatmapgl": [
           {
            "colorbar": {
             "outlinewidth": 0,
             "ticks": ""
            },
            "colorscale": [
             [
              0,
              "#0d0887"
             ],
             [
              0.1111111111111111,
              "#46039f"
             ],
             [
              0.2222222222222222,
              "#7201a8"
             ],
             [
              0.3333333333333333,
              "#9c179e"
             ],
             [
              0.4444444444444444,
              "#bd3786"
             ],
             [
              0.5555555555555556,
              "#d8576b"
             ],
             [
              0.6666666666666666,
              "#ed7953"
             ],
             [
              0.7777777777777778,
              "#fb9f3a"
             ],
             [
              0.8888888888888888,
              "#fdca26"
             ],
             [
              1,
              "#f0f921"
             ]
            ],
            "type": "heatmapgl"
           }
          ],
          "histogram": [
           {
            "marker": {
             "pattern": {
              "fillmode": "overlay",
              "size": 10,
              "solidity": 0.2
             }
            },
            "type": "histogram"
           }
          ],
          "histogram2d": [
           {
            "colorbar": {
             "outlinewidth": 0,
             "ticks": ""
            },
            "colorscale": [
             [
              0,
              "#0d0887"
             ],
             [
              0.1111111111111111,
              "#46039f"
             ],
             [
              0.2222222222222222,
              "#7201a8"
             ],
             [
              0.3333333333333333,
              "#9c179e"
             ],
             [
              0.4444444444444444,
              "#bd3786"
             ],
             [
              0.5555555555555556,
              "#d8576b"
             ],
             [
              0.6666666666666666,
              "#ed7953"
             ],
             [
              0.7777777777777778,
              "#fb9f3a"
             ],
             [
              0.8888888888888888,
              "#fdca26"
             ],
             [
              1,
              "#f0f921"
             ]
            ],
            "type": "histogram2d"
           }
          ],
          "histogram2dcontour": [
           {
            "colorbar": {
             "outlinewidth": 0,
             "ticks": ""
            },
            "colorscale": [
             [
              0,
              "#0d0887"
             ],
             [
              0.1111111111111111,
              "#46039f"
             ],
             [
              0.2222222222222222,
              "#7201a8"
             ],
             [
              0.3333333333333333,
              "#9c179e"
             ],
             [
              0.4444444444444444,
              "#bd3786"
             ],
             [
              0.5555555555555556,
              "#d8576b"
             ],
             [
              0.6666666666666666,
              "#ed7953"
             ],
             [
              0.7777777777777778,
              "#fb9f3a"
             ],
             [
              0.8888888888888888,
              "#fdca26"
             ],
             [
              1,
              "#f0f921"
             ]
            ],
            "type": "histogram2dcontour"
           }
          ],
          "mesh3d": [
           {
            "colorbar": {
             "outlinewidth": 0,
             "ticks": ""
            },
            "type": "mesh3d"
           }
          ],
          "parcoords": [
           {
            "line": {
             "colorbar": {
              "outlinewidth": 0,
              "ticks": ""
             }
            },
            "type": "parcoords"
           }
          ],
          "pie": [
           {
            "automargin": true,
            "type": "pie"
           }
          ],
          "scatter": [
           {
            "fillpattern": {
             "fillmode": "overlay",
             "size": 10,
             "solidity": 0.2
            },
            "type": "scatter"
           }
          ],
          "scatter3d": [
           {
            "line": {
             "colorbar": {
              "outlinewidth": 0,
              "ticks": ""
             }
            },
            "marker": {
             "colorbar": {
              "outlinewidth": 0,
              "ticks": ""
             }
            },
            "type": "scatter3d"
           }
          ],
          "scattercarpet": [
           {
            "marker": {
             "colorbar": {
              "outlinewidth": 0,
              "ticks": ""
             }
            },
            "type": "scattercarpet"
           }
          ],
          "scattergeo": [
           {
            "marker": {
             "colorbar": {
              "outlinewidth": 0,
              "ticks": ""
             }
            },
            "type": "scattergeo"
           }
          ],
          "scattergl": [
           {
            "marker": {
             "colorbar": {
              "outlinewidth": 0,
              "ticks": ""
             }
            },
            "type": "scattergl"
           }
          ],
          "scattermapbox": [
           {
            "marker": {
             "colorbar": {
              "outlinewidth": 0,
              "ticks": ""
             }
            },
            "type": "scattermapbox"
           }
          ],
          "scatterpolar": [
           {
            "marker": {
             "colorbar": {
              "outlinewidth": 0,
              "ticks": ""
             }
            },
            "type": "scatterpolar"
           }
          ],
          "scatterpolargl": [
           {
            "marker": {
             "colorbar": {
              "outlinewidth": 0,
              "ticks": ""
             }
            },
            "type": "scatterpolargl"
           }
          ],
          "scatterternary": [
           {
            "marker": {
             "colorbar": {
              "outlinewidth": 0,
              "ticks": ""
             }
            },
            "type": "scatterternary"
           }
          ],
          "surface": [
           {
            "colorbar": {
             "outlinewidth": 0,
             "ticks": ""
            },
            "colorscale": [
             [
              0,
              "#0d0887"
             ],
             [
              0.1111111111111111,
              "#46039f"
             ],
             [
              0.2222222222222222,
              "#7201a8"
             ],
             [
              0.3333333333333333,
              "#9c179e"
             ],
             [
              0.4444444444444444,
              "#bd3786"
             ],
             [
              0.5555555555555556,
              "#d8576b"
             ],
             [
              0.6666666666666666,
              "#ed7953"
             ],
             [
              0.7777777777777778,
              "#fb9f3a"
             ],
             [
              0.8888888888888888,
              "#fdca26"
             ],
             [
              1,
              "#f0f921"
             ]
            ],
            "type": "surface"
           }
          ],
          "table": [
           {
            "cells": {
             "fill": {
              "color": "#EBF0F8"
             },
             "line": {
              "color": "white"
             }
            },
            "header": {
             "fill": {
              "color": "#C8D4E3"
             },
             "line": {
              "color": "white"
             }
            },
            "type": "table"
           }
          ]
         },
         "layout": {
          "annotationdefaults": {
           "arrowcolor": "#2a3f5f",
           "arrowhead": 0,
           "arrowwidth": 1
          },
          "autotypenumbers": "strict",
          "coloraxis": {
           "colorbar": {
            "outlinewidth": 0,
            "ticks": ""
           }
          },
          "colorscale": {
           "diverging": [
            [
             0,
             "#8e0152"
            ],
            [
             0.1,
             "#c51b7d"
            ],
            [
             0.2,
             "#de77ae"
            ],
            [
             0.3,
             "#f1b6da"
            ],
            [
             0.4,
             "#fde0ef"
            ],
            [
             0.5,
             "#f7f7f7"
            ],
            [
             0.6,
             "#e6f5d0"
            ],
            [
             0.7,
             "#b8e186"
            ],
            [
             0.8,
             "#7fbc41"
            ],
            [
             0.9,
             "#4d9221"
            ],
            [
             1,
             "#276419"
            ]
           ],
           "sequential": [
            [
             0,
             "#0d0887"
            ],
            [
             0.1111111111111111,
             "#46039f"
            ],
            [
             0.2222222222222222,
             "#7201a8"
            ],
            [
             0.3333333333333333,
             "#9c179e"
            ],
            [
             0.4444444444444444,
             "#bd3786"
            ],
            [
             0.5555555555555556,
             "#d8576b"
            ],
            [
             0.6666666666666666,
             "#ed7953"
            ],
            [
             0.7777777777777778,
             "#fb9f3a"
            ],
            [
             0.8888888888888888,
             "#fdca26"
            ],
            [
             1,
             "#f0f921"
            ]
           ],
           "sequentialminus": [
            [
             0,
             "#0d0887"
            ],
            [
             0.1111111111111111,
             "#46039f"
            ],
            [
             0.2222222222222222,
             "#7201a8"
            ],
            [
             0.3333333333333333,
             "#9c179e"
            ],
            [
             0.4444444444444444,
             "#bd3786"
            ],
            [
             0.5555555555555556,
             "#d8576b"
            ],
            [
             0.6666666666666666,
             "#ed7953"
            ],
            [
             0.7777777777777778,
             "#fb9f3a"
            ],
            [
             0.8888888888888888,
             "#fdca26"
            ],
            [
             1,
             "#f0f921"
            ]
           ]
          },
          "colorway": [
           "#636efa",
           "#EF553B",
           "#00cc96",
           "#ab63fa",
           "#FFA15A",
           "#19d3f3",
           "#FF6692",
           "#B6E880",
           "#FF97FF",
           "#FECB52"
          ],
          "font": {
           "color": "#2a3f5f"
          },
          "geo": {
           "bgcolor": "white",
           "lakecolor": "white",
           "landcolor": "#E5ECF6",
           "showlakes": true,
           "showland": true,
           "subunitcolor": "white"
          },
          "hoverlabel": {
           "align": "left"
          },
          "hovermode": "closest",
          "mapbox": {
           "style": "light"
          },
          "paper_bgcolor": "white",
          "plot_bgcolor": "#E5ECF6",
          "polar": {
           "angularaxis": {
            "gridcolor": "white",
            "linecolor": "white",
            "ticks": ""
           },
           "bgcolor": "#E5ECF6",
           "radialaxis": {
            "gridcolor": "white",
            "linecolor": "white",
            "ticks": ""
           }
          },
          "scene": {
           "xaxis": {
            "backgroundcolor": "#E5ECF6",
            "gridcolor": "white",
            "gridwidth": 2,
            "linecolor": "white",
            "showbackground": true,
            "ticks": "",
            "zerolinecolor": "white"
           },
           "yaxis": {
            "backgroundcolor": "#E5ECF6",
            "gridcolor": "white",
            "gridwidth": 2,
            "linecolor": "white",
            "showbackground": true,
            "ticks": "",
            "zerolinecolor": "white"
           },
           "zaxis": {
            "backgroundcolor": "#E5ECF6",
            "gridcolor": "white",
            "gridwidth": 2,
            "linecolor": "white",
            "showbackground": true,
            "ticks": "",
            "zerolinecolor": "white"
           }
          },
          "shapedefaults": {
           "line": {
            "color": "#2a3f5f"
           }
          },
          "ternary": {
           "aaxis": {
            "gridcolor": "white",
            "linecolor": "white",
            "ticks": ""
           },
           "baxis": {
            "gridcolor": "white",
            "linecolor": "white",
            "ticks": ""
           },
           "bgcolor": "#E5ECF6",
           "caxis": {
            "gridcolor": "white",
            "linecolor": "white",
            "ticks": ""
           }
          },
          "title": {
           "x": 0.05
          },
          "xaxis": {
           "automargin": true,
           "gridcolor": "white",
           "linecolor": "white",
           "ticks": "",
           "title": {
            "standoff": 15
           },
           "zerolinecolor": "white",
           "zerolinewidth": 2
          },
          "yaxis": {
           "automargin": true,
           "gridcolor": "white",
           "linecolor": "white",
           "ticks": "",
           "title": {
            "standoff": 15
           },
           "zerolinecolor": "white",
           "zerolinewidth": 2
          }
         }
        },
        "title": {
         "text": "Firearm Mortality Counts by Rate and STATE"
        },
        "xaxis": {
         "anchor": "y",
         "autorange": true,
         "domain": [
          0,
          1
         ],
         "range": [
          -252.46213958501755,
          4893.462139585017
         ],
         "title": {
          "text": "Firearm Mortality"
         },
         "type": "linear"
        },
        "yaxis": {
         "anchor": "x",
         "autorange": true,
         "domain": [
          0,
          1
         ],
         "range": [
          -0.13903743315507988,
          36.13903743315508
         ],
         "title": {
          "text": "Firearm Mortality Rate"
         },
         "type": "linear"
        }
       }
      },
      "image/png": "[encoded data removed]",
      "text/html": [
       "<div>                            <div id=\"e70a0877-47f4-439d-9ac7-e04994e9383c\" class=\"plotly-graph-div\" style=\"height:500px; width:100%;\"></div>            <script type=\"text/javascript\">                require([\"plotly\"], function(Plotly) {                    window.PLOTLYENV=window.PLOTLYENV || {};                                    if (document.getElementById(\"e70a0877-47f4-439d-9ac7-e04994e9383c\")) {                    Plotly.newPlot(                        \"e70a0877-47f4-439d-9ac7-e04994e9383c\",                        [{\"hovertemplate\":\"STATE=AL<br>Firearm Mortality=%{x}<br>Firearm Mortality Rate=%{y}<extra></extra>\",\"legendgroup\":\"AL\",\"marker\":{\"color\":\"#636efa\",\"symbol\":\"circle\"},\"mode\":\"markers\",\"name\":\"AL\",\"orientation\":\"v\",\"showlegend\":true,\"x\":[1315,1141,1076,1064,1124,1046,958,815,736],\"xaxis\":\"x\",\"y\":[26.4,23.6,22.2,21.8,22.9,21.5,19.6,16.9,16.0],\"yaxis\":\"y\",\"type\":\"scatter\"},{\"hovertemplate\":\"STATE=AK<br>Firearm Mortality=%{x}<br>Firearm Mortality Rate=%{y}<extra></extra>\",\"legendgroup\":\"AK\",\"marker\":{\"color\":\"#EF553B\",\"symbol\":\"circle\"},\"mode\":\"markers\",\"name\":\"AK\",\"orientation\":\"v\",\"showlegend\":true,\"x\":[182,175,179,155,180,177,177,145,116],\"xaxis\":\"x\",\"y\":[25.2,23.5,24.4,21.0,24.5,23.3,23.4,19.2,17.5],\"yaxis\":\"y\",\"type\":\"scatter\"},{\"hovertemplate\":\"STATE=AZ<br>Firearm Mortality=%{x}<br>Firearm Mortality Rate=%{y}<extra></extra>\",\"legendgroup\":\"AZ\",\"marker\":{\"color\":\"#00cc96\",\"symbol\":\"circle\"},\"mode\":\"markers\",\"name\":\"AZ\",\"orientation\":\"v\",\"showlegend\":true,\"x\":[1365,1265,1136,1147,1134,1094,970,927,934],\"xaxis\":\"x\",\"y\":[18.3,16.7,15.1,15.3,15.8,15.2,13.8,13.5,16.1],\"yaxis\":\"y\",\"type\":\"scatter\"},{\"hovertemplate\":\"STATE=AR<br>Firearm Mortality=%{x}<br>Firearm Mortality Rate=%{y}<extra></extra>\",\"legendgroup\":\"AR\",\"marker\":{\"color\":\"#ab63fa\",\"symbol\":\"circle\"},\"mode\":\"markers\",\"name\":\"AR\",\"orientation\":\"v\",\"showlegend\":true,\"x\":[698,673,580,573,613,541,520,496,439],\"xaxis\":\"x\",\"y\":[23.3,22.6,19.3,18.9,20.3,17.8,16.9,16.6,15.7],\"yaxis\":\"y\",\"type\":\"scatter\"},{\"hovertemplate\":\"STATE=CA<br>Firearm Mortality=%{x}<br>Firearm Mortality Rate=%{y}<extra></extra>\",\"legendgroup\":\"CA\",\"marker\":{\"color\":\"#FFA15A\",\"symbol\":\"circle\"},\"mode\":\"markers\",\"name\":\"CA\",\"orientation\":\"v\",\"showlegend\":true,\"x\":[3576,3449,2945,3040,3184,3184,3095,2942,3453],\"xaxis\":\"x\",\"y\":[9.0,8.5,7.2,7.5,7.9,7.9,7.7,7.4,9.5],\"yaxis\":\"y\",\"type\":\"scatter\"},{\"hovertemplate\":\"STATE=CO<br>Firearm Mortality=%{x}<br>Firearm Mortality Rate=%{y}<extra></extra>\",\"legendgroup\":\"CO\",\"marker\":{\"color\":\"#19d3f3\",\"symbol\":\"circle\"},\"mode\":\"markers\",\"name\":\"CO\",\"orientation\":\"v\",\"showlegend\":true,\"x\":[1064,922,846,889,779,812,701,663,535],\"xaxis\":\"x\",\"y\":[17.8,15.4,14.2,15.2,13.4,14.3,12.6,12.2,11.6],\"yaxis\":\"y\",\"type\":\"scatter\"},{\"hovertemplate\":\"STATE=CT<br>Firearm Mortality=%{x}<br>Firearm Mortality Rate=%{y}<extra></extra>\",\"legendgroup\":\"CT\",\"marker\":{\"color\":\"#FF6692\",\"symbol\":\"circle\"},\"mode\":\"markers\",\"name\":\"CT\",\"orientation\":\"v\",\"showlegend\":true,\"x\":[248,219,190,186,188,172,189,187,187],\"xaxis\":\"x\",\"y\":[6.7,6.0,5.3,4.9,5.1,4.6,5.3,5.0,5.3],\"yaxis\":\"y\",\"type\":\"scatter\"},{\"hovertemplate\":\"STATE=DE<br>Firearm Mortality=%{x}<br>Firearm Mortality Rate=%{y}<extra></extra>\",\"legendgroup\":\"DE\",\"marker\":{\"color\":\"#B6E880\",\"symbol\":\"circle\"},\"mode\":\"markers\",\"name\":\"DE\",\"orientation\":\"v\",\"showlegend\":true,\"x\":[158,135,93,107,111,111,112,102,75],\"xaxis\":\"x\",\"y\":[16.6,14.4,9.9,11.6,11.7,11.0,12.1,11.1,8.8],\"yaxis\":\"y\",\"type\":\"scatter\"},{\"hovertemplate\":\"STATE=FL<br>Firearm Mortality=%{x}<br>Firearm Mortality Rate=%{y}<extra></extra>\",\"legendgroup\":\"FL\",\"marker\":{\"color\":\"#FF97FF\",\"symbol\":\"circle\"},\"mode\":\"markers\",\"name\":\"FL\",\"orientation\":\"v\",\"showlegend\":true,\"x\":[3142,3041,2872,2902,2724,2704,2559,2410,1838],\"xaxis\":\"x\",\"y\":[14.1,13.7,12.7,12.9,12.4,12.6,12.0,11.5,10.0],\"yaxis\":\"y\",\"type\":\"scatter\"},{\"hovertemplate\":\"STATE=GA<br>Firearm Mortality=%{x}<br>Firearm Mortality Rate=%{y}<extra></extra>\",\"legendgroup\":\"GA\",\"marker\":{\"color\":\"#FECB52\",\"symbol\":\"circle\"},\"mode\":\"markers\",\"name\":\"GA\",\"orientation\":\"v\",\"showlegend\":true,\"x\":[2200,1897,1695,1680,1623,1571,1448,1391,1064],\"xaxis\":\"x\",\"y\":[20.3,17.7,15.8,15.7,15.4,15.0,14.1,13.7,12.1],\"yaxis\":\"y\",\"type\":\"scatter\"},{\"hovertemplate\":\"STATE=HI<br>Firearm Mortality=%{x}<br>Firearm Mortality Rate=%{y}<extra></extra>\",\"legendgroup\":\"HI\",\"marker\":{\"color\":\"#636efa\",\"symbol\":\"circle\"},\"mode\":\"markers\",\"name\":\"HI\",\"orientation\":\"v\",\"showlegend\":true,\"x\":[71,50,62,59,39,66,55,40,28],\"xaxis\":\"x\",\"y\":[4.8,3.4,4.4,4.0,2.5,4.5,3.6,2.6,2.1],\"yaxis\":\"y\",\"type\":\"scatter\"},{\"hovertemplate\":\"STATE=ID<br>Firearm Mortality=%{x}<br>Firearm Mortality Rate=%{y}<extra></extra>\",\"legendgroup\":\"ID\",\"marker\":{\"color\":\"#EF553B\",\"symbol\":\"circle\"},\"mode\":\"markers\",\"name\":\"ID\",\"orientation\":\"v\",\"showlegend\":true,\"x\":[309,321,255,294,280,242,247,213,195],\"xaxis\":\"x\",\"y\":[16.3,17.6,14.2,16.6,16.4,14.6,14.7,13.2,14.1],\"yaxis\":\"y\",\"type\":\"scatter\"},{\"hovertemplate\":\"STATE=IL<br>Firearm Mortality=%{x}<br>Firearm Mortality Rate=%{y}<extra></extra>\",\"legendgroup\":\"IL\",\"marker\":{\"color\":\"#00cc96\",\"symbol\":\"circle\"},\"mode\":\"markers\",\"name\":\"IL\",\"orientation\":\"v\",\"showlegend\":true,\"x\":[1995,1745,1367,1382,1543,1490,1220,1179,1019],\"xaxis\":\"x\",\"y\":[16.1,14.1,10.8,10.9,12.1,11.7,9.5,9.0,8.0],\"yaxis\":\"y\",\"type\":\"scatter\"},{\"hovertemplate\":\"STATE=IN<br>Firearm Mortality=%{x}<br>Firearm Mortality Rate=%{y}<extra></extra>\",\"legendgroup\":\"IN\",\"marker\":{\"color\":\"#ab63fa\",\"symbol\":\"circle\"},\"mode\":\"markers\",\"name\":\"IN\",\"orientation\":\"v\",\"showlegend\":true,\"x\":[1251,1159,958,977,1016,997,846,818,705],\"xaxis\":\"x\",\"y\":[18.4,17.3,14.1,14.7,15.3,15.0,12.7,12.4,11.2],\"yaxis\":\"y\",\"type\":\"scatter\"},{\"hovertemplate\":\"STATE=IA<br>Firearm Mortality=%{x}<br>Firearm Mortality Rate=%{y}<extra></extra>\",\"legendgroup\":\"IA\",\"marker\":{\"color\":\"#FFA15A\",\"symbol\":\"circle\"},\"mode\":\"markers\",\"name\":\"IA\",\"orientation\":\"v\",\"showlegend\":true,\"x\":[364,351,294,282,293,288,247,241,201],\"xaxis\":\"x\",\"y\":[11.2,11.2,9.1,8.7,9.0,9.2,7.8,7.5,6.7],\"yaxis\":\"y\",\"type\":\"scatter\"},{\"hovertemplate\":\"STATE=KS<br>Firearm Mortality=%{x}<br>Firearm Mortality Rate=%{y}<extra></extra>\",\"legendgroup\":\"KS\",\"marker\":{\"color\":\"#19d3f3\",\"symbol\":\"circle\"},\"mode\":\"markers\",\"name\":\"KS\",\"orientation\":\"v\",\"showlegend\":true,\"x\":[503,494,403,424,466,383,330,329,257],\"xaxis\":\"x\",\"y\":[17.3,16.9,13.7,14.8,16.0,13.4,11.4,11.3,9.3],\"yaxis\":\"y\",\"type\":\"scatter\"},{\"hovertemplate\":\"STATE=KY<br>Firearm Mortality=%{x}<br>Firearm Mortality Rate=%{y}<extra></extra>\",\"legendgroup\":\"KY\",\"marker\":{\"color\":\"#FF6692\",\"symbol\":\"circle\"},\"mode\":\"markers\",\"name\":\"KY\",\"orientation\":\"v\",\"showlegend\":true,\"x\":[947,902,682,762,730,772,694,634,548],\"xaxis\":\"x\",\"y\":[21.1,20.1,14.9,16.9,16.2,17.5,15.2,13.9,13.0],\"yaxis\":\"y\",\"type\":\"scatter\"},{\"hovertemplate\":\"STATE=LA<br>Firearm Mortality=%{x}<br>Firearm Mortality Rate=%{y}<extra></extra>\",\"legendgroup\":\"LA\",\"marker\":{\"color\":\"#B6E880\",\"symbol\":\"circle\"},\"mode\":\"markers\",\"name\":\"LA\",\"orientation\":\"v\",\"showlegend\":true,\"x\":[1314,1183,1013,991,1008,987,952,896,858],\"xaxis\":\"x\",\"y\":[29.1,26.3,22.1,21.4,21.7,21.3,20.4,19.0,18.5],\"yaxis\":\"y\",\"type\":\"scatter\"},{\"hovertemplate\":\"STATE=ME<br>Firearm Mortality=%{x}<br>Firearm Mortality Rate=%{y}<extra></extra>\",\"legendgroup\":\"ME\",\"marker\":{\"color\":\"#FF97FF\",\"symbol\":\"circle\"},\"mode\":\"markers\",\"name\":\"ME\",\"orientation\":\"v\",\"showlegend\":true,\"x\":[178,153,163,159,172,123,144,133,109],\"xaxis\":\"x\",\"y\":[12.6,10.4,11.5,10.3,11.7,8.3,9.8,9.4,7.8],\"yaxis\":\"y\",\"type\":\"scatter\"},{\"hovertemplate\":\"STATE=MD<br>Firearm Mortality=%{x}<br>Firearm Mortality Rate=%{y}<extra></extra>\",\"legendgroup\":\"MD\",\"marker\":{\"color\":\"#FECB52\",\"symbol\":\"circle\"},\"mode\":\"markers\",\"name\":\"MD\",\"orientation\":\"v\",\"showlegend\":true,\"x\":[915,803,757,707,742,707,708,546,657],\"xaxis\":\"x\",\"y\":[15.2,13.5,12.6,11.7,12.3,11.9,11.9,9.0,11.9],\"yaxis\":\"y\",\"type\":\"scatter\"},{\"hovertemplate\":\"STATE=MA<br>Firearm Mortality=%{x}<br>Firearm Mortality Rate=%{y}<extra></extra>\",\"legendgroup\":\"MA\",\"marker\":{\"color\":\"#636efa\",\"symbol\":\"circle\"},\"mode\":\"markers\",\"name\":\"MA\",\"orientation\":\"v\",\"showlegend\":true,\"x\":[247,268,247,258,262,242,213,226,224],\"xaxis\":\"x\",\"y\":[3.4,3.7,3.4,3.5,3.7,3.4,3.0,3.2,3.4],\"yaxis\":\"y\",\"type\":\"scatter\"},{\"hovertemplate\":\"STATE=MI<br>Firearm Mortality=%{x}<br>Firearm Mortality Rate=%{y}<extra></extra>\",\"legendgroup\":\"MI\",\"marker\":{\"color\":\"#EF553B\",\"symbol\":\"circle\"},\"mode\":\"markers\",\"name\":\"MI\",\"orientation\":\"v\",\"showlegend\":true,\"x\":[1544,1454,1220,1310,1138,1230,1164,1095,1074],\"xaxis\":\"x\",\"y\":[15.4,14.6,12.1,12.9,11.3,12.3,11.7,11.1,10.8],\"yaxis\":\"y\",\"type\":\"scatter\"},{\"hovertemplate\":\"STATE=MN<br>Firearm Mortality=%{x}<br>Firearm Mortality Rate=%{y}<extra></extra>\",\"legendgroup\":\"MN\",\"marker\":{\"color\":\"#00cc96\",\"symbol\":\"circle\"},\"mode\":\"markers\",\"name\":\"MN\",\"orientation\":\"v\",\"showlegend\":true,\"x\":[573,513,465,437,465,432,410,377,361],\"xaxis\":\"x\",\"y\":[10.0,8.9,8.1,7.8,8.2,7.6,7.4,6.6,7.0],\"yaxis\":\"y\",\"type\":\"scatter\"},{\"hovertemplate\":\"STATE=MS<br>Firearm Mortality=%{x}<br>Firearm Mortality Rate=%{y}<extra></extra>\",\"legendgroup\":\"MS\",\"marker\":{\"color\":\"#ab63fa\",\"symbol\":\"circle\"},\"mode\":\"markers\",\"name\":\"MS\",\"orientation\":\"v\",\"showlegend\":true,\"x\":[962,818,710,681,632,587,589,547,455],\"xaxis\":\"x\",\"y\":[33.9,28.6,24.2,22.9,21.5,19.9,19.6,18.3,16.0],\"yaxis\":\"y\",\"type\":\"scatter\"},{\"hovertemplate\":\"STATE=MO<br>Firearm Mortality=%{x}<br>Firearm Mortality Rate=%{y}<extra></extra>\",\"legendgroup\":\"MO\",\"marker\":{\"color\":\"#FFA15A\",\"symbol\":\"circle\"},\"mode\":\"markers\",\"name\":\"MO\",\"orientation\":\"v\",\"showlegend\":true,\"x\":[1414,1426,1252,1311,1307,1144,1094,943,752],\"xaxis\":\"x\",\"y\":[23.2,23.9,20.6,21.5,21.5,19.0,18.1,15.3,12.9],\"yaxis\":\"y\",\"type\":\"scatter\"},{\"hovertemplate\":\"STATE=MT<br>Firearm Mortality=%{x}<br>Firearm Mortality Rate=%{y}<extra></extra>\",\"legendgroup\":\"MT\",\"marker\":{\"color\":\"#19d3f3\",\"symbol\":\"circle\"},\"mode\":\"markers\",\"name\":\"MT\",\"orientation\":\"v\",\"showlegend\":true,\"x\":[280,238,209,186,244,194,205,172,161],\"xaxis\":\"x\",\"y\":[25.1,20.9,19.0,17.3,22.5,18.9,19.2,16.1,16.9],\"yaxis\":\"y\",\"type\":\"scatter\"},{\"hovertemplate\":\"STATE=NE<br>Firearm Mortality=%{x}<br>Firearm Mortality Rate=%{y}<extra></extra>\",\"legendgroup\":\"NE\",\"marker\":{\"color\":\"#FF6692\",\"symbol\":\"circle\"},\"mode\":\"markers\",\"name\":\"NE\",\"orientation\":\"v\",\"showlegend\":true,\"x\":[200,197,205,183,160,171,169,179,135],\"xaxis\":\"x\",\"y\":[10.3,10.1,10.4,9.0,8.3,9.1,8.9,9.5,7.7],\"yaxis\":\"y\",\"type\":\"scatter\"},{\"hovertemplate\":\"STATE=NV<br>Firearm Mortality=%{x}<br>Firearm Mortality Rate=%{y}<extra></extra>\",\"legendgroup\":\"NV\",\"marker\":{\"color\":\"#B6E880\",\"symbol\":\"circle\"},\"mode\":\"markers\",\"name\":\"NV\",\"orientation\":\"v\",\"showlegend\":true,\"x\":[633,547,490,550,508,498,446,429,390],\"xaxis\":\"x\",\"y\":[19.8,17.0,15.3,17.9,16.7,16.8,14.9,14.8,16.1],\"yaxis\":\"y\",\"type\":\"scatter\"},{\"hovertemplate\":\"STATE=NH<br>Firearm Mortality=%{x}<br>Firearm Mortality Rate=%{y}<extra></extra>\",\"legendgroup\":\"NH\",\"marker\":{\"color\":\"#FF97FF\",\"symbol\":\"circle\"},\"mode\":\"markers\",\"name\":\"NH\",\"orientation\":\"v\",\"showlegend\":true,\"x\":[123,128,156,155,146,132,121,122,88],\"xaxis\":\"x\",\"y\":[8.3,8.9,10.7,10.8,10.4,9.3,8.9,8.7,6.6],\"yaxis\":\"y\",\"type\":\"scatter\"},{\"hovertemplate\":\"STATE=NJ<br>Firearm Mortality=%{x}<br>Firearm Mortality Rate=%{y}<extra></extra>\",\"legendgroup\":\"NJ\",\"marker\":{\"color\":\"#FECB52\",\"symbol\":\"circle\"},\"mode\":\"markers\",\"name\":\"NJ\",\"orientation\":\"v\",\"showlegend\":true,\"x\":[475,443,368,420,478,485,475,468,434],\"xaxis\":\"x\",\"y\":[5.2,5.0,4.1,4.8,5.3,5.5,5.4,5.3,5.2],\"yaxis\":\"y\",\"type\":\"scatter\"},{\"hovertemplate\":\"STATE=NM<br>Firearm Mortality=%{x}<br>Firearm Mortality Rate=%{y}<extra></extra>\",\"legendgroup\":\"NM\",\"marker\":{\"color\":\"#636efa\",\"symbol\":\"circle\"},\"mode\":\"markers\",\"name\":\"NM\",\"orientation\":\"v\",\"showlegend\":true,\"x\":[578,479,471,438,394,383,390,340,267],\"xaxis\":\"x\",\"y\":[27.8,22.7,22.3,20.7,18.5,18.1,18.6,16.0,13.9],\"yaxis\":\"y\",\"type\":\"scatter\"},{\"hovertemplate\":\"STATE=NY<br>Firearm Mortality=%{x}<br>Firearm Mortality Rate=%{y}<extra></extra>\",\"legendgroup\":\"NY\",\"marker\":{\"color\":\"#EF553B\",\"symbol\":\"circle\"},\"mode\":\"markers\",\"name\":\"NY\",\"orientation\":\"v\",\"showlegend\":true,\"x\":[1078,1052,804,821,772,900,849,875,1019],\"xaxis\":\"x\",\"y\":[5.4,5.3,3.9,4.1,3.7,4.4,4.2,4.2,5.3],\"yaxis\":\"y\",\"type\":\"scatter\"},{\"hovertemplate\":\"STATE=NC<br>Firearm Mortality=%{x}<br>Firearm Mortality Rate=%{y}<extra></extra>\",\"legendgroup\":\"NC\",\"marker\":{\"color\":\"#00cc96\",\"symbol\":\"circle\"},\"mode\":\"markers\",\"name\":\"NC\",\"orientation\":\"v\",\"showlegend\":true,\"x\":[1839,1699,1397,1416,1430,1409,1289,1206,1119],\"xaxis\":\"x\",\"y\":[17.3,16.0,13.1,13.3,13.7,13.7,12.5,11.8,12.8],\"yaxis\":\"y\",\"type\":\"scatter\"},{\"hovertemplate\":\"STATE=ND<br>Firearm Mortality=%{x}<br>Firearm Mortality Rate=%{y}<extra></extra>\",\"legendgroup\":\"ND\",\"marker\":{\"color\":\"#ab63fa\",\"symbol\":\"circle\"},\"mode\":\"markers\",\"name\":\"ND\",\"orientation\":\"v\",\"showlegend\":true,\"x\":[128,100,93,89,103,90,92,96,61],\"xaxis\":\"x\",\"y\":[16.8,13.8,12.4,11.5,13.2,11.9,12.8,12.3,8.8],\"yaxis\":\"y\",\"type\":\"scatter\"},{\"hovertemplate\":\"STATE=OH<br>Firearm Mortality=%{x}<br>Firearm Mortality Rate=%{y}<extra></extra>\",\"legendgroup\":\"OH\",\"marker\":{\"color\":\"#FFA15A\",\"symbol\":\"circle\"},\"mode\":\"markers\",\"name\":\"OH\",\"orientation\":\"v\",\"showlegend\":true,\"x\":[1911,1764,1578,1555,1589,1524,1397,1211,1116],\"xaxis\":\"x\",\"y\":[16.5,15.2,13.3,13.1,13.7,12.9,11.9,10.3,9.6],\"yaxis\":\"y\",\"type\":\"scatter\"},{\"hovertemplate\":\"STATE=OK<br>Firearm Mortality=%{x}<br>Firearm Mortality Rate=%{y}<extra></extra>\",\"legendgroup\":\"OK\",\"marker\":{\"color\":\"#19d3f3\",\"symbol\":\"circle\"},\"mode\":\"markers\",\"name\":\"OK\",\"orientation\":\"v\",\"showlegend\":true,\"x\":[836,826,737,665,681,766,706,611,468],\"xaxis\":\"x\",\"y\":[21.2,20.7,18.6,16.8,17.2,19.6,18.0,15.7,13.2],\"yaxis\":\"y\",\"type\":\"scatter\"},{\"hovertemplate\":\"STATE=OR<br>Firearm Mortality=%{x}<br>Firearm Mortality Rate=%{y}<extra></extra>\",\"legendgroup\":\"OR\",\"marker\":{\"color\":\"#FF6692\",\"symbol\":\"circle\"},\"mode\":\"markers\",\"name\":\"OR\",\"orientation\":\"v\",\"showlegend\":true,\"x\":[670,592,566,519,528,513,486,497,402],\"xaxis\":\"x\",\"y\":[14.9,13.0,12.6,11.7,12.1,11.9,11.4,11.7,10.7],\"yaxis\":\"y\",\"type\":\"scatter\"},{\"hovertemplate\":\"STATE=PA<br>Firearm Mortality=%{x}<br>Firearm Mortality Rate=%{y}<extra></extra>\",\"legendgroup\":\"PA\",\"marker\":{\"color\":\"#B6E880\",\"symbol\":\"circle\"},\"mode\":\"markers\",\"name\":\"PA\",\"orientation\":\"v\",\"showlegend\":true,\"x\":[1905,1752,1541,1654,1636,1555,1485,1390,1352],\"xaxis\":\"x\",\"y\":[14.8,13.6,11.7,12.5,12.5,12.0,11.4,10.5,10.8],\"yaxis\":\"y\",\"type\":\"scatter\"},{\"hovertemplate\":\"STATE=RI<br>Firearm Mortality=%{x}<br>Firearm Mortality Rate=%{y}<extra></extra>\",\"legendgroup\":\"RI\",\"marker\":{\"color\":\"#FF97FF\",\"symbol\":\"circle\"},\"mode\":\"markers\",\"name\":\"RI\",\"orientation\":\"v\",\"showlegend\":true,\"x\":[64,54,48,37,43,49,51,34,39],\"xaxis\":\"x\",\"y\":[5.6,5.1,4.6,3.3,3.9,4.1,4.7,3.0,3.6],\"yaxis\":\"y\",\"type\":\"scatter\"},{\"hovertemplate\":\"STATE=SC<br>Firearm Mortality=%{x}<br>Firearm Mortality Rate=%{y}<extra></extra>\",\"legendgroup\":\"SC\",\"marker\":{\"color\":\"#FECB52\",\"symbol\":\"circle\"},\"mode\":\"markers\",\"name\":\"SC\",\"orientation\":\"v\",\"showlegend\":true,\"x\":[1136,1131,1012,895,893,891,850,767,589],\"xaxis\":\"x\",\"y\":[22.4,22.0,19.9,17.6,17.7,17.7,17.3,15.5,13.8],\"yaxis\":\"y\",\"type\":\"scatter\"},{\"hovertemplate\":\"STATE=SD<br>Firearm Mortality=%{x}<br>Firearm Mortality Rate=%{y}<extra></extra>\",\"legendgroup\":\"SD\",\"marker\":{\"color\":\"#636efa\",\"symbol\":\"circle\"},\"mode\":\"markers\",\"name\":\"SD\",\"orientation\":\"v\",\"showlegend\":true,\"x\":[128,120,113,117,101,108,96,89,82],\"xaxis\":\"x\",\"y\":[14.3,13.6,13.1,13.6,11.9,13.4,11.1,10.3,10.2],\"yaxis\":\"y\",\"type\":\"scatter\"},{\"hovertemplate\":\"STATE=TN<br>Firearm Mortality=%{x}<br>Firearm Mortality Rate=%{y}<extra></extra>\",\"legendgroup\":\"TN\",\"marker\":{\"color\":\"#EF553B\",\"symbol\":\"circle\"},\"mode\":\"markers\",\"name\":\"TN\",\"orientation\":\"v\",\"showlegend\":true,\"x\":[1569,1473,1270,1228,1246,1148,1075,1016,976],\"xaxis\":\"x\",\"y\":[22.8,21.3,18.4,17.8,18.4,17.1,16.0,15.1,16.0],\"yaxis\":\"y\",\"type\":\"scatter\"},{\"hovertemplate\":\"STATE=TX<br>Firearm Mortality=%{x}<br>Firearm Mortality Rate=%{y}<extra></extra>\",\"legendgroup\":\"TX\",\"marker\":{\"color\":\"#00cc96\",\"symbol\":\"circle\"},\"mode\":\"markers\",\"name\":\"TX\",\"orientation\":\"v\",\"showlegend\":true,\"x\":[4613,4164,3683,3522,3513,3353,3203,2848,2490],\"xaxis\":\"x\",\"y\":[15.6,14.2,12.7,12.2,12.4,12.1,11.7,10.7,11.1],\"yaxis\":\"y\",\"type\":\"scatter\"},{\"hovertemplate\":\"STATE=UT<br>Firearm Mortality=%{x}<br>Firearm Mortality Rate=%{y}<extra></extra>\",\"legendgroup\":\"UT\",\"marker\":{\"color\":\"#ab63fa\",\"symbol\":\"circle\"},\"mode\":\"markers\",\"name\":\"UT\",\"orientation\":\"v\",\"showlegend\":true,\"x\":[450,429,394,397,410,370,367,337,227],\"xaxis\":\"x\",\"y\":[13.9,13.6,12.8,13.2,14.0,12.9,12.8,12.3,10.1],\"yaxis\":\"y\",\"type\":\"scatter\"},{\"hovertemplate\":\"STATE=VT<br>Firearm Mortality=%{x}<br>Firearm Mortality Rate=%{y}<extra></extra>\",\"legendgroup\":\"VT\",\"marker\":{\"color\":\"#FFA15A\",\"symbol\":\"circle\"},\"mode\":\"markers\",\"name\":\"VT\",\"orientation\":\"v\",\"showlegend\":true,\"x\":[83,76,67,82,70,78,70,69,44],\"xaxis\":\"x\",\"y\":[11.9,11.6,9.3,12.8,11.7,11.1,9.6,10.3,6.8],\"yaxis\":\"y\",\"type\":\"scatter\"},{\"hovertemplate\":\"STATE=VA<br>Firearm Mortality=%{x}<br>Firearm Mortality Rate=%{y}<extra></extra>\",\"legendgroup\":\"VA\",\"marker\":{\"color\":\"#19d3f3\",\"symbol\":\"circle\"},\"mode\":\"markers\",\"name\":\"VA\",\"orientation\":\"v\",\"showlegend\":true,\"x\":[1248,1174,1025,1035,1041,1049,946,889,888],\"xaxis\":\"x\",\"y\":[14.3,13.4,11.7,11.8,11.9,12.1,10.9,10.3,11.5],\"yaxis\":\"y\",\"type\":\"scatter\"},{\"hovertemplate\":\"STATE=WA<br>Firearm Mortality=%{x}<br>Firearm Mortality Rate=%{y}<extra></extra>\",\"legendgroup\":\"WA\",\"marker\":{\"color\":\"#FF6692\",\"symbol\":\"circle\"},\"mode\":\"markers\",\"name\":\"WA\",\"orientation\":\"v\",\"showlegend\":true,\"x\":[896,864,842,809,849,686,718,702,567],\"xaxis\":\"x\",\"y\":[11.2,10.9,10.7,10.4,11.1,9.0,9.8,9.7,8.8],\"yaxis\":\"y\",\"type\":\"scatter\"},{\"hovertemplate\":\"STATE=WV<br>Firearm Mortality=%{x}<br>Firearm Mortality Rate=%{y}<extra></extra>\",\"legendgroup\":\"WV\",\"marker\":{\"color\":\"#B6E880\",\"symbol\":\"circle\"},\"mode\":\"markers\",\"name\":\"WV\",\"orientation\":\"v\",\"showlegend\":true,\"x\":[319,325,300,343,348,332,278,286,261],\"xaxis\":\"x\",\"y\":[17.3,18.1,16.6,18.2,18.6,17.5,14.0,14.6,13.8],\"yaxis\":\"y\",\"type\":\"scatter\"},{\"hovertemplate\":\"STATE=WI<br>Firearm Mortality=%{x}<br>Firearm Mortality Rate=%{y}<extra></extra>\",\"legendgroup\":\"WI\",\"marker\":{\"color\":\"#FF97FF\",\"symbol\":\"circle\"},\"mode\":\"markers\",\"name\":\"WI\",\"orientation\":\"v\",\"showlegend\":true,\"x\":[793,717,604,598,624,664,613,487,474],\"xaxis\":\"x\",\"y\":[13.5,12.2,10.0,10.1,10.6,11.4,10.4,8.2,8.5],\"yaxis\":\"y\",\"type\":\"scatter\"},{\"hovertemplate\":\"STATE=WY<br>Firearm Mortality=%{x}<br>Firearm Mortality Rate=%{y}<extra></extra>\",\"legendgroup\":\"WY\",\"marker\":{\"color\":\"#FECB52\",\"symbol\":\"circle\"},\"mode\":\"markers\",\"name\":\"WY\",\"orientation\":\"v\",\"showlegend\":true,\"x\":[155,154,133,124,113,101,113,93,71],\"xaxis\":\"x\",\"y\":[26.1,25.9,22.3,21.5,18.8,17.4,19.6,16.2,13.4],\"yaxis\":\"y\",\"type\":\"scatter\"}],                        {\"template\":{\"data\":{\"histogram2dcontour\":[{\"type\":\"histogram2dcontour\",\"colorbar\":{\"outlinewidth\":0,\"ticks\":\"\"},\"colorscale\":[[0.0,\"#0d0887\"],[0.1111111111111111,\"#46039f\"],[0.2222222222222222,\"#7201a8\"],[0.3333333333333333,\"#9c179e\"],[0.4444444444444444,\"#bd3786\"],[0.5555555555555556,\"#d8576b\"],[0.6666666666666666,\"#ed7953\"],[0.7777777777777778,\"#fb9f3a\"],[0.8888888888888888,\"#fdca26\"],[1.0,\"#f0f921\"]]}],\"choropleth\":[{\"type\":\"choropleth\",\"colorbar\":{\"outlinewidth\":0,\"ticks\":\"\"}}],\"histogram2d\":[{\"type\":\"histogram2d\",\"colorbar\":{\"outlinewidth\":0,\"ticks\":\"\"},\"colorscale\":[[0.0,\"#0d0887\"],[0.1111111111111111,\"#46039f\"],[0.2222222222222222,\"#7201a8\"],[0.3333333333333333,\"#9c179e\"],[0.4444444444444444,\"#bd3786\"],[0.5555555555555556,\"#d8576b\"],[0.6666666666666666,\"#ed7953\"],[0.7777777777777778,\"#fb9f3a\"],[0.8888888888888888,\"#fdca26\"],[1.0,\"#f0f921\"]]}],\"heatmap\":[{\"type\":\"heatmap\",\"colorbar\":{\"outlinewidth\":0,\"ticks\":\"\"},\"colorscale\":[[0.0,\"#0d0887\"],[0.1111111111111111,\"#46039f\"],[0.2222222222222222,\"#7201a8\"],[0.3333333333333333,\"#9c179e\"],[0.4444444444444444,\"#bd3786\"],[0.5555555555555556,\"#d8576b\"],[0.6666666666666666,\"#ed7953\"],[0.7777777777777778,\"#fb9f3a\"],[0.8888888888888888,\"#fdca26\"],[1.0,\"#f0f921\"]]}],\"heatmapgl\":[{\"type\":\"heatmapgl\",\"colorbar\":{\"outlinewidth\":0,\"ticks\":\"\"},\"colorscale\":[[0.0,\"#0d0887\"],[0.1111111111111111,\"#46039f\"],[0.2222222222222222,\"#7201a8\"],[0.3333333333333333,\"#9c179e\"],[0.4444444444444444,\"#bd3786\"],[0.5555555555555556,\"#d8576b\"],[0.6666666666666666,\"#ed7953\"],[0.7777777777777778,\"#fb9f3a\"],[0.8888888888888888,\"#fdca26\"],[1.0,\"#f0f921\"]]}],\"contourcarpet\":[{\"type\":\"contourcarpet\",\"colorbar\":{\"outlinewidth\":0,\"ticks\":\"\"}}],\"contour\":[{\"type\":\"contour\",\"colorbar\":{\"outlinewidth\":0,\"ticks\":\"\"},\"colorscale\":[[0.0,\"#0d0887\"],[0.1111111111111111,\"#46039f\"],[0.2222222222222222,\"#7201a8\"],[0.3333333333333333,\"#9c179e\"],[0.4444444444444444,\"#bd3786\"],[0.5555555555555556,\"#d8576b\"],[0.6666666666666666,\"#ed7953\"],[0.7777777777777778,\"#fb9f3a\"],[0.8888888888888888,\"#fdca26\"],[1.0,\"#f0f921\"]]}],\"surface\":[{\"type\":\"surface\",\"colorbar\":{\"outlinewidth\":0,\"ticks\":\"\"},\"colorscale\":[[0.0,\"#0d0887\"],[0.1111111111111111,\"#46039f\"],[0.2222222222222222,\"#7201a8\"],[0.3333333333333333,\"#9c179e\"],[0.4444444444444444,\"#bd3786\"],[0.5555555555555556,\"#d8576b\"],[0.6666666666666666,\"#ed7953\"],[0.7777777777777778,\"#fb9f3a\"],[0.8888888888888888,\"#fdca26\"],[1.0,\"#f0f921\"]]}],\"mesh3d\":[{\"type\":\"mesh3d\",\"colorbar\":{\"outlinewidth\":0,\"ticks\":\"\"}}],\"scatter\":[{\"fillpattern\":{\"fillmode\":\"overlay\",\"size\":10,\"solidity\":0.2},\"type\":\"scatter\"}],\"parcoords\":[{\"type\":\"parcoords\",\"line\":{\"colorbar\":{\"outlinewidth\":0,\"ticks\":\"\"}}}],\"scatterpolargl\":[{\"type\":\"scatterpolargl\",\"marker\":{\"colorbar\":{\"outlinewidth\":0,\"ticks\":\"\"}}}],\"bar\":[{\"error_x\":{\"color\":\"#2a3f5f\"},\"error_y\":{\"color\":\"#2a3f5f\"},\"marker\":{\"line\":{\"color\":\"#E5ECF6\",\"width\":0.5},\"pattern\":{\"fillmode\":\"overlay\",\"size\":10,\"solidity\":0.2}},\"type\":\"bar\"}],\"scattergeo\":[{\"type\":\"scattergeo\",\"marker\":{\"colorbar\":{\"outlinewidth\":0,\"ticks\":\"\"}}}],\"scatterpolar\":[{\"type\":\"scatterpolar\",\"marker\":{\"colorbar\":{\"outlinewidth\":0,\"ticks\":\"\"}}}],\"histogram\":[{\"marker\":{\"pattern\":{\"fillmode\":\"overlay\",\"size\":10,\"solidity\":0.2}},\"type\":\"histogram\"}],\"scattergl\":[{\"type\":\"scattergl\",\"marker\":{\"colorbar\":{\"outlinewidth\":0,\"ticks\":\"\"}}}],\"scatter3d\":[{\"type\":\"scatter3d\",\"line\":{\"colorbar\":{\"outlinewidth\":0,\"ticks\":\"\"}},\"marker\":{\"colorbar\":{\"outlinewidth\":0,\"ticks\":\"\"}}}],\"scattermapbox\":[{\"type\":\"scattermapbox\",\"marker\":{\"colorbar\":{\"outlinewidth\":0,\"ticks\":\"\"}}}],\"scatterternary\":[{\"type\":\"scatterternary\",\"marker\":{\"colorbar\":{\"outlinewidth\":0,\"ticks\":\"\"}}}],\"scattercarpet\":[{\"type\":\"scattercarpet\",\"marker\":{\"colorbar\":{\"outlinewidth\":0,\"ticks\":\"\"}}}],\"carpet\":[{\"aaxis\":{\"endlinecolor\":\"#2a3f5f\",\"gridcolor\":\"white\",\"linecolor\":\"white\",\"minorgridcolor\":\"white\",\"startlinecolor\":\"#2a3f5f\"},\"baxis\":{\"endlinecolor\":\"#2a3f5f\",\"gridcolor\":\"white\",\"linecolor\":\"white\",\"minorgridcolor\":\"white\",\"startlinecolor\":\"#2a3f5f\"},\"type\":\"carpet\"}],\"table\":[{\"cells\":{\"fill\":{\"color\":\"#EBF0F8\"},\"line\":{\"color\":\"white\"}},\"header\":{\"fill\":{\"color\":\"#C8D4E3\"},\"line\":{\"color\":\"white\"}},\"type\":\"table\"}],\"barpolar\":[{\"marker\":{\"line\":{\"color\":\"#E5ECF6\",\"width\":0.5},\"pattern\":{\"fillmode\":\"overlay\",\"size\":10,\"solidity\":0.2}},\"type\":\"barpolar\"}],\"pie\":[{\"automargin\":true,\"type\":\"pie\"}]},\"layout\":{\"autotypenumbers\":\"strict\",\"colorway\":[\"#636efa\",\"#EF553B\",\"#00cc96\",\"#ab63fa\",\"#FFA15A\",\"#19d3f3\",\"#FF6692\",\"#B6E880\",\"#FF97FF\",\"#FECB52\"],\"font\":{\"color\":\"#2a3f5f\"},\"hovermode\":\"closest\",\"hoverlabel\":{\"align\":\"left\"},\"paper_bgcolor\":\"white\",\"plot_bgcolor\":\"#E5ECF6\",\"polar\":{\"bgcolor\":\"#E5ECF6\",\"angularaxis\":{\"gridcolor\":\"white\",\"linecolor\":\"white\",\"ticks\":\"\"},\"radialaxis\":{\"gridcolor\":\"white\",\"linecolor\":\"white\",\"ticks\":\"\"}},\"ternary\":{\"bgcolor\":\"#E5ECF6\",\"aaxis\":{\"gridcolor\":\"white\",\"linecolor\":\"white\",\"ticks\":\"\"},\"baxis\":{\"gridcolor\":\"white\",\"linecolor\":\"white\",\"ticks\":\"\"},\"caxis\":{\"gridcolor\":\"white\",\"linecolor\":\"white\",\"ticks\":\"\"}},\"coloraxis\":{\"colorbar\":{\"outlinewidth\":0,\"ticks\":\"\"}},\"colorscale\":{\"sequential\":[[0.0,\"#0d0887\"],[0.1111111111111111,\"#46039f\"],[0.2222222222222222,\"#7201a8\"],[0.3333333333333333,\"#9c179e\"],[0.4444444444444444,\"#bd3786\"],[0.5555555555555556,\"#d8576b\"],[0.6666666666666666,\"#ed7953\"],[0.7777777777777778,\"#fb9f3a\"],[0.8888888888888888,\"#fdca26\"],[1.0,\"#f0f921\"]],\"sequentialminus\":[[0.0,\"#0d0887\"],[0.1111111111111111,\"#46039f\"],[0.2222222222222222,\"#7201a8\"],[0.3333333333333333,\"#9c179e\"],[0.4444444444444444,\"#bd3786\"],[0.5555555555555556,\"#d8576b\"],[0.6666666666666666,\"#ed7953\"],[0.7777777777777778,\"#fb9f3a\"],[0.8888888888888888,\"#fdca26\"],[1.0,\"#f0f921\"]],\"diverging\":[[0,\"#8e0152\"],[0.1,\"#c51b7d\"],[0.2,\"#de77ae\"],[0.3,\"#f1b6da\"],[0.4,\"#fde0ef\"],[0.5,\"#f7f7f7\"],[0.6,\"#e6f5d0\"],[0.7,\"#b8e186\"],[0.8,\"#7fbc41\"],[0.9,\"#4d9221\"],[1,\"#276419\"]]},\"xaxis\":{\"gridcolor\":\"white\",\"linecolor\":\"white\",\"ticks\":\"\",\"title\":{\"standoff\":15},\"zerolinecolor\":\"white\",\"automargin\":true,\"zerolinewidth\":2},\"yaxis\":{\"gridcolor\":\"white\",\"linecolor\":\"white\",\"ticks\":\"\",\"title\":{\"standoff\":15},\"zerolinecolor\":\"white\",\"automargin\":true,\"zerolinewidth\":2},\"scene\":{\"xaxis\":{\"backgroundcolor\":\"#E5ECF6\",\"gridcolor\":\"white\",\"linecolor\":\"white\",\"showbackground\":true,\"ticks\":\"\",\"zerolinecolor\":\"white\",\"gridwidth\":2},\"yaxis\":{\"backgroundcolor\":\"#E5ECF6\",\"gridcolor\":\"white\",\"linecolor\":\"white\",\"showbackground\":true,\"ticks\":\"\",\"zerolinecolor\":\"white\",\"gridwidth\":2},\"zaxis\":{\"backgroundcolor\":\"#E5ECF6\",\"gridcolor\":\"white\",\"linecolor\":\"white\",\"showbackground\":true,\"ticks\":\"\",\"zerolinecolor\":\"white\",\"gridwidth\":2}},\"shapedefaults\":{\"line\":{\"color\":\"#2a3f5f\"}},\"annotationdefaults\":{\"arrowcolor\":\"#2a3f5f\",\"arrowhead\":0,\"arrowwidth\":1},\"geo\":{\"bgcolor\":\"white\",\"landcolor\":\"#E5ECF6\",\"subunitcolor\":\"white\",\"showland\":true,\"showlakes\":true,\"lakecolor\":\"white\"},\"title\":{\"x\":0.05},\"mapbox\":{\"style\":\"light\"}}},\"xaxis\":{\"anchor\":\"y\",\"domain\":[0.0,1.0],\"title\":{\"text\":\"Firearm Mortality\"}},\"yaxis\":{\"anchor\":\"x\",\"domain\":[0.0,1.0],\"title\":{\"text\":\"Firearm Mortality Rate\"}},\"legend\":{\"title\":{\"text\":\"STATE\"},\"tracegroupgap\":0},\"title\":{\"text\":\"Firearm Mortality Counts by Rate and STATE\"},\"height\":500},                        {\"responsive\": true}                    ).then(function(){\n",
       "                            \n",
       "var gd = document.getElementById('e70a0877-47f4-439d-9ac7-e04994e9383c');\n",
       "var x = new MutationObserver(function (mutations, observer) {{\n",
       "        var display = window.getComputedStyle(gd).display;\n",
       "        if (!display || display === 'none') {{\n",
       "            console.log([gd, 'removed!']);\n",
       "            Plotly.purge(gd);\n",
       "            observer.disconnect();\n",
       "        }}\n",
       "}});\n",
       "\n",
       "// Listen for the removal of the full notebook cells\n",
       "var notebookContainer = gd.closest('#notebook-container');\n",
       "if (notebookContainer) {{\n",
       "    x.observe(notebookContainer, {childList: true});\n",
       "}}\n",
       "\n",
       "// Listen for the clearing of the current output cell\n",
       "var outputEl = gd.closest('.output');\n",
       "if (outputEl) {{\n",
       "    x.observe(outputEl, {childList: true});\n",
       "}}\n",
       "\n",
       "                        })                };                });            </script>        </div>"
      ]
     },
     "metadata": {},
     "output_type": "display_data"
    }
   ],
   "source": [
    "# Firearm Mortality by Rate and State\n",
    "# plt.figure(figsize=(10,8))\n",
    "# sns.scatterplot(x = 'DEATHS', y = 'RATE', hue = 'STATE', data = firearm_mortality, palette = 'viridis')\n",
    "# plt.title('Firearm Mortality by Rate and State')\n",
    "# plt.xlabel('Firearm Mortality Count')\n",
    "# plt.ylabel('Firearm Mortality Rate')\n",
    "# plt.show()\n",
    "\n",
    "fig = px.scatter(firearm_mortality, x='DEATHS', y='RATE', color='STATE',\n",
    "                 labels={'DEATHS': 'Firearm Mortality', 'RATE': 'Firearm Mortality Rate'},\n",
    "                 title='Firearm Mortality Counts by Rate and STATE',\n",
    "                 template='plotly', height=500)\n",
    "fig.show()"
   ]
  },
  {
   "cell_type": "markdown",
   "id": "28d0bc06-e232-4d74-b14c-620a8d5ddef6",
   "metadata": {},
   "source": [
    "> This chart in combination with the one above, is showing how each state is growing in both mortality rate and mortality count as time goes on"
   ]
  },
  {
   "cell_type": "code",
   "execution_count": 145,
   "id": "3c529aec-c139-4e90-bc26-5e8978edd393",
   "metadata": {
    "tags": []
   },
   "outputs": [
    {
     "data": {
      "text/plain": [
       "Text(0, 0.5, 'Frequency')"
      ]
     },
     "execution_count": 145,
     "metadata": {},
     "output_type": "execute_result"
    },
    {
     "data": {
      "image/png": "[encoded data removed]",
      "text/plain": [
       "<Figure size 500x600 with 1 Axes>"
      ]
     },
     "metadata": {},
     "output_type": "display_data"
    }
   ],
   "source": [
    "# Distribution of number of deaths\n",
    "plt.figure(figsize=(5, 6))\n",
    "sns.histplot(firearm_mortality['DEATHS'], bins=20, kde=True, color='orange')\n",
    "plt.title('Distribution of Mortality Counts')\n",
    "plt.xlabel('Number of Deaths')\n",
    "plt.ylabel('Frequency')"
   ]
  },
  {
   "cell_type": "markdown",
   "id": "1d7d866b-3a96-41f4-8024-f034c3c56874",
   "metadata": {},
   "source": [
    "> This distribution show that the mortality counts are skewed to be lower"
   ]
  },
  {
   "cell_type": "code",
   "execution_count": 191,
   "id": "619e913e-9406-4149-941f-98da17be1a19",
   "metadata": {
    "tags": []
   },
   "outputs": [
    {
     "data": {
      "image/png": "[encoded data removed]",
      "text/plain": [
       "<Figure size 500x600 with 1 Axes>"
      ]
     },
     "metadata": {},
     "output_type": "display_data"
    }
   ],
   "source": [
    "# Distribution of Death Rates\n",
    "plt.figure(figsize=(5, 6))\n",
    "sns.histplot(firearm_mortality['RATE'], bins=20, kde=True, color='orange')\n",
    "plt.title('Distribution of Mortality Rates')\n",
    "plt.xlabel('Mortality Rates')\n",
    "plt.ylabel('Frequency')\n",
    "plt.show()"
   ]
  },
  {
   "cell_type": "markdown",
   "id": "9ab2d25a-51ea-4159-83d1-6b41cbb4c405",
   "metadata": {},
   "source": [
    "> When looking at mortality rates, it is still slightly skewed left, but is much more of a normal distribution since the rate is contingent on population and not just the numbers."
   ]
  }
 ],
 "metadata": {
  "kernelspec": {
   "display_name": "Python 3 (ipykernel)",
   "language": "python",
   "name": "python3"
  },
  "language_info": {
   "codemirror_mode": {
    "name": "ipython",
    "version": 3
   },
   "file_extension": ".py",
   "mimetype": "text/x-python",
   "name": "python",
   "nbconvert_exporter": "python",
   "pygments_lexer": "ipython3",
   "version": "3.11.4"
  }
 },
 "nbformat": 4,
 "nbformat_minor": 5
}
