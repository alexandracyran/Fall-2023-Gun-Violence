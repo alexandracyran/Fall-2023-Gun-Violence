{
 "cells": [
  {
   "cell_type": "markdown",
   "id": "7c193fb9",
   "metadata": {},
   "source": [
    "# **Trigger to Trauma: Decoding the Patterns of Gun Violence in the United States**\n",
    "\n",
    "By: Megha Idicula, Alexandra Cyran, and Victoria Lance Kominek\n",
    "\n",
    "**Focus**: Examining the relationship between people charged with gun violence and mental illness. This highlights the variations in the restrictiveness of gun laws across different states, including Connecticut.\n",
    "The question arises: Why would someone with a history of mental illness be granted a gun license?\n",
    "\n",
    "\n",
    "***Table of Contents***:\n",
    "1. [Introduction](#)\n",
    "2. [Research Questions](#)\n",
    "3. [Analysis & Interpretation](#)\n",
    "4. [Conclusion](#)\n",
    "5. [Challenges/ Lessons Learned](#)\n",
    "\n"
   ]
  },
  {
   "cell_type": "markdown",
   "id": "6ad26977",
   "metadata": {},
   "source": [
    "# **1. Introduction**\n",
    "\n",
    "Gun violence is a growing concern across the United States, with devastating consequences. We aim to examine the relationship between individuals charged with gun violence and mental illness, while also highlighting variations in gun laws across different states, with a special focus on Connecticut.\n",
    "\n",
    "Multiple data sources were utilized in this analysis, including those from Kaggle, the Center for Disease Control and Prevention (CDC), and the State Firearm Law Database.\n",
    "\n",
    "\n",
    "**Data Sources**:\n",
    "\n",
    "[CDC State Firearm Mortality](https://www.cdc.gov/nchs/pressroom/sosmap/firearm_mortality/firearm.htm)\n",
    "\n",
    "[Kaggle Data Violence](https://www.kaggle.com/datasets/nidzsharma/us-mass-shootings-19822023/data)\n",
    "\n",
    "[CDC State Unintentional Drug Overdose Reporting System-SUDORS](https://www.cdc.gov/drugoverdose/fatal/dashboard/index.html#)\n",
    "\n",
    "[State Firearm Law Database: State Firearm Laws, 1991-2019](https://www.icpsr.umich.edu/web/NACJD/studies/37363/versions/V1)\n"
   ]
  },
  {
   "cell_type": "markdown",
   "id": "118f931b",
   "metadata": {},
   "source": [
    "# **2. Research Questions**\n",
    "\n",
    "\n",
    "***Mental Health Factors in Mass Shootings:***\n",
    "\n",
    "Number of individuals charged with gun violence who have a history of mental illness?\n",
    "\n",
    "What percentage of shooters have prior mental health issues contribute to mass shootings?\n",
    "\n",
    "Are there patterns in the types of mental health issues reported for individuals involved in mass shootings?\n",
    "\n",
    "\n",
    "***Impact of Substance Abuse/Addiction on Gun Violence***:\n",
    "\n",
    "Is there a correlation between drug overdose rates and the occurrence of mass shootings?\n",
    "\n",
    "Can we identify specific regions where high drug overdose rates coincide with elevated gun violence?\n",
    "\n",
    "\n",
    "***Geographic Variations in Gun Violence:***\n",
    "\n",
    "Are states with more restrictive gun laws associated with lower firearm mortality rates?\n",
    "\n",
    "How do specific gun control measures correlate with the prevalence of mass shootings?\n",
    "\n",
    "How do gun violence rates vary geographically?\n"
   ]
  },
  {
   "cell_type": "markdown",
   "id": "0c61a499",
   "metadata": {},
   "source": [
    "# **3. Analysis & Interpretation**\n",
    "\n",
    "Allie's Section\n",
    "\n",
    "Victoria's Section\n",
    "\n",
    "Megha's Section"
   ]
  },
  {
   "cell_type": "markdown",
   "id": "3b754968",
   "metadata": {},
   "source": [
    "# **4. Conclusion**\n",
    "\n",
    "We each add in a few sentences summarizing our data analysis"
   ]
  },
  {
   "cell_type": "markdown",
   "id": "b76d5c0c",
   "metadata": {},
   "source": [
    "# **5. Challenges/ Lessons Learned**\n",
    "\n",
    "\n",
    "**Media Attention Bias**: Mass shootings gathers a lot of media attention, and therefore more data tracked. Making sure we differentiate between gun violence that happens every day while accounting for these specific incidents.\n",
    "\n",
    "**Inconsistent Reporting**: There might not be consistent reporting across the United States. States with large urban areas such as New York City, Chicaho, Miami, Los Angelos, may experience higher rates of gun violence possibly skewing available data.\n",
    "\n",
    "**Legal Nuances**: Comprehending the complexities of gun laws is challenging, especially without a legal background. Analyzing gun violence data requires a broad perspective to navigate the legal landscape effectively.\n",
    "\n",
    "**Public perception and bias**: Gun violence and gun laws are highly sensitive topics influenced by public perception and bias. Political and geographical factors can shape opinions, leading to controversies surrounding the interpretation of data. Acknowledging and addressing these biases is crucial for an objective analysis."
   ]
  }
 ],
 "metadata": {
  "kernelspec": {
   "display_name": "Python 3 (ipykernel)",
   "language": "python",
   "name": "python3"
  },
  "language_info": {
   "codemirror_mode": {
    "name": "ipython",
    "version": 3
   },
   "file_extension": ".py",
   "mimetype": "text/x-python",
   "name": "python",
   "nbconvert_exporter": "python",
   "pygments_lexer": "ipython3",
   "version": "3.11.4"
  }
 },
 "nbformat": 4,
 "nbformat_minor": 5
}
